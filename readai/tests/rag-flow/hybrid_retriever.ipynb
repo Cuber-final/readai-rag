{
 "cells": [
  {
   "cell_type": "code",
   "execution_count": 1,
   "metadata": {},
   "outputs": [],
   "source": [
    "import nest_asyncio\n",
    "\n",
    "nest_asyncio.apply()"
   ]
  },
  {
   "cell_type": "code",
   "execution_count": 3,
   "metadata": {},
   "outputs": [],
   "source": [
    "from langchain_community.document_loaders import (\n",
    "    UnstructuredMarkdownLoader,\n",
    ")\n",
    "from llama_index.core.node_parser import SimpleNodeParser\n",
    "from llama_index.core.query_engine import RetrieverQueryEngine\n",
    "from llama_index.core.response.notebook_utils import display_source_node\n",
    "from llama_index.core.schema import BaseNode, Document, IndexNode, NodeWithScore\n",
    "\n",
    "from readai.components.retrievers import BM25Retriever\n"
   ]
  },
  {
   "cell_type": "markdown",
   "metadata": {},
   "source": [
    "### 数据预处理"
   ]
  },
  {
   "cell_type": "markdown",
   "metadata": {},
   "source": [
    "#### 加载md文件"
   ]
  },
  {
   "cell_type": "code",
   "execution_count": 4,
   "metadata": {},
   "outputs": [],
   "source": [
    "# 加载.env文件\n",
    "import os\n",
    "from pathlib import Path\n",
    "\n",
    "from dotenv import load_dotenv\n",
    "\n",
    "load_dotenv()\n",
    "\n",
    "# 获取项目根目录路径\n",
    "project_root = Path(os.getenv(\"PROJECT_ROOT\"))"
   ]
  },
  {
   "cell_type": "code",
   "execution_count": 5,
   "metadata": {},
   "outputs": [],
   "source": [
    "test_data_path = project_root / \"readai/tests/data\""
   ]
  },
  {
   "cell_type": "code",
   "execution_count": 6,
   "metadata": {},
   "outputs": [
    {
     "name": "stdout",
     "output_type": "stream",
     "text": [
      "节点数量: 41\n"
     ]
    }
   ],
   "source": [
    "book_name = \"comunication_cleaned.md\"\n",
    "book_path = test_data_path / book_name\n",
    "# 使用unstructured的markdownloader加载\n",
    "loader = UnstructuredMarkdownLoader(book_path, mode=\"elements\")\n",
    "documents = loader.load()\n",
    "# 查看节点数量\n",
    "print(f\"节点数量: {len(documents)}\")\n",
    "# 遍历documents,重构metadata，只保留category，filename这两个属性\n",
    "for doc in documents:\n",
    "    category = doc.metadata[\"category\"]\n",
    "    filename = doc.metadata[\"filename\"]\n",
    "    doc.metadata = {\n",
    "        \"category\": category,\n",
    "        \"filename\": filename,\n",
    "    }"
   ]
  },
  {
   "cell_type": "code",
   "execution_count": 7,
   "metadata": {},
   "outputs": [],
   "source": [
    "llamindex_docs = [\n",
    "    Document(\n",
    "        text=doc.page_content,\n",
    "        metadata=doc.metadata,\n",
    "        metadata_seperator=\"::\",\n",
    "        metadata_template=\"{key}=>{value}\",\n",
    "        text_template=\"Metadata: {metadata_str}\\n-----\\nContent: {content}\",\n",
    "    )\n",
    "    for doc in documents\n",
    "]"
   ]
  },
  {
   "cell_type": "code",
   "execution_count": 8,
   "metadata": {},
   "outputs": [
    {
     "name": "stdout",
     "output_type": "stream",
     "text": [
      "41\n",
      "马歇尔·卢森堡博士发现了一种沟通方式，依照它来谈话和聆听，能使人们情意相通，和谐相处，这就是“非暴力沟通”。 做为一个遵纪守法的好人，也许我们从来没有把谈话和“暴力”扯上关系。不过如果稍微留意一下现实生活中的谈话方式，并且用心体会各种谈话方式给我们的不同感受，我们一定会发现，有些话确实伤人！言语上的指责、嘲讽、否定、说教以及任意打断、拒不回应、随意出口的评价和结论给我们带来的情感和精神上的创伤甚至比肉体的伤害更加令人痛苦。这些无心或有意的语言暴力让人与人变得冷漠、隔膜、敌视。 非暴力沟通能够： ● 疗愈内心深处的隐秘伤痛； ● 超越个人心智和情感的局限性； ● 突破那些引发愤怒、沮丧、焦虑等负面情绪的思维方式； ● 用不带伤害的方式化解人际间的冲突； ● 学会建立和谐的生命体验。 图书在版编目(CIP)数据 非暴力沟通／（美）马歇尔·卢森堡（Marshall B.Rosenberg）著；刘轶译.-2版（修订本）-北京：华夏出版社有限公司，2021.5 书名原文：Nonviolent Communication ISBN 978-7-5222-0051-4 Ⅰ.①非⋯Ⅱ.①马⋯②刘⋯Ⅲ.①心理交往-通俗读物Ⅳ.①C912.11-49 中国版本图书馆CIP数据核字（2021）第006542号 Translated from the book Nonviolent Communication:A Language of Life 3rd Edition,ISBN 13/10:9781892005281/189200528X by Marshall B.Rosenberg. Copyright ? Fall 2015 Puddle Dancer Press,published by Puddle Dancer Press. All rights reserved. Used with permission. For further information about Nonviolent Communication(TM) please visit the Center for Nonviolent Communication on the Web at:www.cnvc.org. 版权所有翻印必究 北京市版权局著作权合同登记号：图字01-2016-2253号 非暴力沟通 著 者 [美]马歇尔·卢森堡 译 者 刘 轶 责任编辑 朱 悦 责任印制 刘 洋 出版发行 华夏出版社 经 销 新华书店 印 刷 三河市少明印务有限公司 装 订 三河市少明印务有限公司 版 次 2021年5月北京第2版 2021年5月北京第1次印刷 开 本 720x1030 1/16开 印 张 16 彩 页 6页 字 数 190千字 定 价 59.80元 华夏出版社有限公司 地址：北京市东直门外香河园北里4号 邮编：100028 网址：www.hxph.com.cn 电话：(010)64663331(转) 若发现本版图书有印装质量问题，请与我社营销中心联系调换． 有关非暴力沟通的更多信息，请联系非暴力沟通中心，地址如下 Center for Nonviolent Communication (CNVC) 9301 Indian School Rd., NE, Suite 204Albuquerque NM 87112-2861 USA Ph: 505-244-4041 US Only: 800-255-7696 Fax: 505-247-0414 Email: cnvc@CNVC.org Website: www.CNVC.org 目录 \n",
      "\n",
      " {'category': 'NarrativeText', 'filename': 'comunication_cleaned.md'}\n"
     ]
    }
   ],
   "source": [
    "print(len(llamindex_docs))\n",
    "print(llamindex_docs[0].text, \"\\n\\n\", llamindex_docs[0].metadata)"
   ]
  },
  {
   "cell_type": "code",
   "execution_count": 9,
   "metadata": {},
   "outputs": [
    {
     "data": {
      "application/vnd.jupyter.widget-view+json": {
       "model_id": "d66a8f06309647a1b906becbd88f6a1c",
       "version_major": 2,
       "version_minor": 0
      },
      "text/plain": [
       "Parsing nodes:   0%|          | 0/41 [00:00<?, ?it/s]"
      ]
     },
     "metadata": {},
     "output_type": "display_data"
    }
   ],
   "source": [
    "from llama_index.core.node_parser import SimpleNodeParser\n",
    "from llama_index.core.schema import IndexNode\n",
    "\n",
    "node_parser = SimpleNodeParser.from_defaults(\n",
    "    chunk_size=1024,\n",
    "    chunk_overlap=50,\n",
    "    separator=\"\\n\\n\",\n",
    "    secondary_chunking_regex=\"[^,.;。？！]+[,.;。？！]?\",\n",
    ")\n",
    "hybrid_nodes = node_parser.get_nodes_from_documents(llamindex_docs, show_progress=True)"
   ]
  },
  {
   "cell_type": "code",
   "execution_count": 10,
   "metadata": {},
   "outputs": [
    {
     "name": "stdout",
     "output_type": "stream",
     "text": [
      "马歇尔·卢森堡博士发现了一种沟通方式，依照它来谈话和聆听，能使人们情意相通，和谐相处，这就是“非暴力沟通”。 做为一个遵纪守法的好人，也许我们从来没有把谈话和“暴力”扯上关系。不过如果稍微留意一下现实生活中的谈话方式，并且用心体会各种谈话方式给我们的不同感受，我们一定会发现，有些话确实伤人！言语上的指责、嘲讽、否定、说教以及任意打断、拒不回应、随意出口的评价和结论给我们带来的情感和精神上的创伤甚至比肉体的伤害更加令人痛苦。这些无心或有意的语言暴力让人与人变得冷漠、隔膜、敌视。 非暴力沟通能够： ● 疗愈内心深处的隐秘伤痛； ● 超越个人心智和情感的局限性； ● 突破那些引发愤怒、沮丧、焦虑等负面情绪的思维方式； ● 用不带伤害的方式化解人际间的冲突； ● 学会建立和谐的生命体验。 图书在版编目(CIP)数据 非暴力沟通／（美）马歇尔·卢森堡（Marshall B.Rosenberg）著；刘轶译.-2版（修订本）-北京：华夏出版社有限公司，2021.5 书名原文：Nonviolent Communication ISBN 978-7-5222-0051-4 Ⅰ.①非⋯Ⅱ.①马⋯②刘⋯Ⅲ.①心理交往-通俗读物Ⅳ.①C912.11-49 中国版本图书馆CIP数据核字（2021）第006542号 Translated from the book Nonviolent Communication:A Language of Life 3rd Edition,ISBN 13/10:9781892005281/189200528X by Marshall B.Rosenberg. Copyright ? Fall 2015 Puddle Dancer Press,published by Puddle Dancer Press. All rights reserved. Used with permission. For further information about Nonviolent Communication(TM) please visit the Center for Nonviolent Communication on the Web at:www.cnvc.org.\n",
      "170\n"
     ]
    }
   ],
   "source": [
    "print(hybrid_nodes[0].text)\n",
    "print(len(hybrid_nodes))"
   ]
  },
  {
   "cell_type": "markdown",
   "metadata": {},
   "source": [
    "#### small2big方法"
   ]
  },
  {
   "cell_type": "code",
   "execution_count": 36,
   "metadata": {},
   "outputs": [
    {
     "name": "stdout",
     "output_type": "stream",
     "text": [
      "2753\n"
     ]
    }
   ],
   "source": [
    "sub_chunk_sizes = [128, 512, 2048]\n",
    "sub_node_parsers = [\n",
    "    SimpleNodeParser.from_defaults(\n",
    "        chunk_size=c,\n",
    "        chunk_overlap=50,\n",
    "        separator=\"\\n\\n\",\n",
    "        secondary_chunking_regex=\"[^,.;。？！]+[,.;。？！]?\",\n",
    "    )\n",
    "    for c in sub_chunk_sizes\n",
    "]\n",
    "\n",
    "hybrid_all_nodes = []\n",
    "for hybrid_node in hybrid_nodes:\n",
    "    for n in sub_node_parsers:\n",
    "        sub_nodes = n.get_nodes_from_documents([hybrid_node])\n",
    "        sub_inodes = [\n",
    "            IndexNode.from_text_node(sn, hybrid_node.node_id) for sn in sub_nodes\n",
    "        ]\n",
    "        hybrid_all_nodes.extend(sub_inodes)\n",
    "\n",
    "    # also add original node to node\n",
    "    original_node = IndexNode.from_text_node(hybrid_node, hybrid_node.node_id)\n",
    "    hybrid_all_nodes.append(original_node)\n",
    "\n",
    "print(len(hybrid_all_nodes))"
   ]
  },
  {
   "cell_type": "code",
   "execution_count": 46,
   "metadata": {},
   "outputs": [
    {
     "name": "stdout",
     "output_type": "stream",
     "text": [
      "c1b78194-cd59-4627-ac9d-35f12ef4917b\n",
      "185c1eea-28c0-43db-aca8-31f509108582\n",
      "f2483f5e-59de-4fa5-94c0-204bbcac24a5\n",
      "308f0a7e-c6c1-4210-a3e5-d98631330171\n",
      "7f025097-4068-4459-9ce4-b55cae8599fa\n",
      "1356a303-99b8-4469-9d1c-1306efabb973\n",
      "d4405e3c-cc1d-45d5-b633-74f6e0d53385\n",
      "1a6cb66d-cdde-499e-b9f1-4ef4297257f1\n",
      "5e59270d-7586-4ce4-a713-2d3b0a4cc006\n",
      "715598b3-0a5f-4137-96cd-2a17ea80551e\n"
     ]
    }
   ],
   "source": [
    "for node in hybrid_all_nodes[:10]:\n",
    "    print(node.node_id)"
   ]
  },
  {
   "cell_type": "code",
   "execution_count": 40,
   "metadata": {},
   "outputs": [
    {
     "name": "stdout",
     "output_type": "stream",
     "text": [
      "<class 'llama_index.core.schema.IndexNode'>\n"
     ]
    }
   ],
   "source": [
    "print(type(hybrid_all_nodes[0]))"
   ]
  },
  {
   "cell_type": "code",
   "execution_count": 38,
   "metadata": {},
   "outputs": [],
   "source": [
    "hybrid_all_nodes_dict = {n.node_id: n for n in hybrid_all_nodes}"
   ]
  },
  {
   "cell_type": "code",
   "execution_count": 52,
   "metadata": {},
   "outputs": [
    {
     "name": "stdout",
     "output_type": "stream",
     "text": [
      "c1b78194-cd59-4627-ac9d-35f12ef4917b 马歇尔·卢森堡博士发现了一种沟通方式，依照它来谈话和聆听，能使人们情意相通，和谐相处，这就是“非暴力沟通”。 做为一个遵纪守法的好人，也许我们从来没有把谈话和“暴力”扯上关系。\n",
      "185c1eea-28c0-43db-aca8-31f509108582 做为一个遵纪守法的好人，也许我们从来没有把谈话和“暴力”扯上关系。不过如果稍微留意一下现实生活中的谈话方式，并且用心体会各种谈话方式给我们的不同感受，我们一定会发现，有些话确实伤人！\n",
      "f2483f5e-59de-4fa5-94c0-204bbcac24a5 言语上的指责、嘲讽、否定、说教以及任意打断、拒不回应、随意出口的评价和结论给我们带来的情感和精神上的创伤甚至比肉体的伤害更加令人痛苦。\n",
      "308f0a7e-c6c1-4210-a3e5-d98631330171 这些无心或有意的语言暴力让人与人变得冷漠、隔膜、敌视。 非暴力沟通能够： ● 疗愈内心深处的隐秘伤痛； ● 超越个人心智和情感的局限性； ● 突破那些引发愤怒、沮丧、焦\n",
      "7f025097-4068-4459-9ce4-b55cae8599fa 伤痛； ● 超越个人心智和情感的局限性； ● 突破那些引发愤怒、沮丧、焦虑等负面情绪的思维方式； ● 用不带伤害的方式化解人际间的冲突； ● 学会建立和谐的生命体验。\n"
     ]
    }
   ],
   "source": [
    "# 查看前5个\n",
    "for node_id, node in list(hybrid_all_nodes_dict.items())[:5]:\n",
    "    print(node_id, node.text)"
   ]
  },
  {
   "cell_type": "markdown",
   "metadata": {},
   "source": [
    "### 向量库加载"
   ]
  },
  {
   "cell_type": "code",
   "execution_count": 14,
   "metadata": {},
   "outputs": [],
   "source": [
    "from llama_index.embeddings.ollama import OllamaEmbedding\n",
    "from llama_index.llms.deepseek import DeepSeek\n",
    "\n",
    "api_key = os.getenv(\"DEEPSEEK_API_KEY\")\n",
    "model_name = os.getenv(\"DEEPSEEK_MODEL\")\n",
    "embed_model = OllamaEmbedding(\n",
    "    model_name=\"quentinz/bge-large-zh-v1.5\", base_url=\"http://localhost:11434\"\n",
    ")\n",
    "\n",
    "# 设置 LLM\n",
    "llm = DeepSeek(model=model_name, api_key=api_key)"
   ]
  },
  {
   "cell_type": "code",
   "execution_count": 17,
   "metadata": {},
   "outputs": [],
   "source": [
    "from llama_index.core.indices.vector_store.base import VectorStoreIndex\n",
    "from llama_index.core.storage import StorageContext\n",
    "from llama_index.vector_stores.qdrant import QdrantVectorStore\n",
    "from qdrant_client import AsyncQdrantClient, QdrantClient\n",
    "\n",
    "client = QdrantClient(url=\"http://localhost:6333\")\n",
    "aclient = AsyncQdrantClient(url=\"http://localhost:6333\")\n"
   ]
  },
  {
   "cell_type": "code",
   "execution_count": null,
   "metadata": {},
   "outputs": [
    {
     "data": {
      "text/plain": [
       "True"
      ]
     },
     "execution_count": 41,
     "metadata": {},
     "output_type": "execute_result"
    }
   ],
   "source": [
    "# client.delete_collection(\"hybrid_nodes\")"
   ]
  },
  {
   "cell_type": "code",
   "execution_count": 18,
   "metadata": {},
   "outputs": [],
   "source": [
    "collection_name = \"hybrid_nodes\""
   ]
  },
  {
   "cell_type": "code",
   "execution_count": 19,
   "metadata": {},
   "outputs": [
    {
     "name": "stdout",
     "output_type": "stream",
     "text": [
      "1\n"
     ]
    }
   ],
   "source": [
    "if client.collection_exists(collection_name):\n",
    "    print(1)\n",
    "else:\n",
    "    print(2)\n"
   ]
  },
  {
   "cell_type": "code",
   "execution_count": 42,
   "metadata": {},
   "outputs": [
    {
     "name": "stdout",
     "output_type": "stream",
     "text": [
      "集合 'hybrid_nodes' 不存在，需要初始化\n"
     ]
    },
    {
     "data": {
      "application/vnd.jupyter.widget-view+json": {
       "model_id": "4e3b2fd865e94d63a73d8f04594959c0",
       "version_major": 2,
       "version_minor": 0
      },
      "text/plain": [
       "Generating embeddings:   0%|          | 0/2048 [00:00<?, ?it/s]"
      ]
     },
     "metadata": {},
     "output_type": "display_data"
    },
    {
     "data": {
      "application/vnd.jupyter.widget-view+json": {
       "model_id": "2f0481e8abe44391a48dc6a217ba8a66",
       "version_major": 2,
       "version_minor": 0
      },
      "text/plain": [
       "Generating embeddings:   0%|          | 0/705 [00:00<?, ?it/s]"
      ]
     },
     "metadata": {},
     "output_type": "display_data"
    },
    {
     "name": "stdout",
     "output_type": "stream",
     "text": [
      "初始化本地向量完成\n"
     ]
    }
   ],
   "source": [
    "# 如果是传入了nodes类型，直接用类初始化，如果是docs则用from_documents初始化\n",
    "\n",
    "vector_store_base = QdrantVectorStore(\n",
    "    client=client,\n",
    "    aclient=aclient,\n",
    "    collection_name=collection_name,\n",
    ")\n",
    "\n",
    "hybrid_index = None\n",
    "if client.collection_exists(collection_name):\n",
    "    print(f\"集合 '{collection_name}' 已存在\")\n",
    "    hybrid_index = VectorStoreIndex.from_vector_store(\n",
    "        vector_store_base, embed_model=embed_model\n",
    "    )\n",
    "    print(\"加载本地向量完成\")\n",
    "else:\n",
    "    print(f\"集合 '{collection_name}' 不存在，需要初始化\")\n",
    "    qdrant_storage_context = StorageContext.from_defaults(\n",
    "        vector_store=vector_store_base\n",
    "    )\n",
    "    hybrid_index = VectorStoreIndex(\n",
    "        hybrid_all_nodes,\n",
    "        embed_model=embed_model,\n",
    "        llm=llm,\n",
    "        storage_context=qdrant_storage_context,\n",
    "        show_progress=True,\n",
    "    )\n",
    "    print(\"初始化本地向量完成\")"
   ]
  },
  {
   "cell_type": "markdown",
   "metadata": {},
   "source": [
    "#### docstore持久化\n",
    "DocStore与IndexStore的区别\n",
    "1.  DocStore (文档存储)\n",
    "- 存储原始文档节点的**实际内容**\n",
    "- 包含完整的文本、元数据和节点ID\n",
    "- 类似于\"数据库\"，保存所有节点的原始信息\n",
    "\n",
    "2. IndexStore (索引存储)\n",
    "- 存储索引的**结构信息**\n",
    "- 保存索引类型、索引配置和索引之间的关系\n",
    "- 维护索引的元数据，如索引名称、索引类型\n",
    "- 包含指向docstore中文档的引用，但不直接存储文档内容\n",
    "\n",
    "关系说明\n",
    "两者关系类似于：\n",
    "- **DocStore**: 图书馆中的所有书籍(实际内容)\n",
    "- **IndexStore**: 图书馆的分类目录(如何组织和查找这些书籍)\n",
    "\n",
    "所以当你需要：\n",
    "- 保留节点唯一ID和内容 → 需要DocStore\n",
    "- 保留索引结构和检索能力 → 需要IndexStore\n",
    "- 完整恢复整个系统 → 需要全部存储组件\n",
    "\n",
    "重要细节\n",
    "- 从代码中可以看出，向量存储会按命名空间分开存储，每个都有单独的文件\n",
    "- 持久化会保留完整的对象关系，包括各种引用和指针\n",
    "- 即使不使用某些存储(如graph_store)，也会创建并持久化一个空的存储对象\n"
   ]
  },
  {
   "cell_type": "code",
   "execution_count": 83,
   "metadata": {},
   "outputs": [],
   "source": [
    "from llama_index.core.storage.docstore import SimpleDocumentStore\n",
    "import os\n",
    "\n",
    "# 确保docs_persist_dir是目录而非文件\n",
    "docs_persist_dir = test_data_path / \"hybrid_nodes_docstore\"\n",
    "\n",
    "# 持久化时\n",
    "docstore = SimpleDocumentStore()\n",
    "docstore.add_documents(hybrid_all_nodes)\n",
    "docstore.persist(docs_persist_dir)  # 这会自动创建docstore.json文件\n"
   ]
  },
  {
   "cell_type": "code",
   "execution_count": 85,
   "metadata": {},
   "outputs": [
    {
     "name": "stdout",
     "output_type": "stream",
     "text": [
      "c1b78194-cd59-4627-ac9d-35f12ef4917b 马歇尔·卢森堡博士发现了一种沟通方式，依照它来谈话和聆听，能使人们情意相通，和谐相处，这就是“非暴力沟通”。 做为一个遵纪守法的好人，也许我们从来没有把谈话和“暴力”扯上关系。\n",
      "185c1eea-28c0-43db-aca8-31f509108582 做为一个遵纪守法的好人，也许我们从来没有把谈话和“暴力”扯上关系。不过如果稍微留意一下现实生活中的谈话方式，并且用心体会各种谈话方式给我们的不同感受，我们一定会发现，有些话确实伤人！\n",
      "f2483f5e-59de-4fa5-94c0-204bbcac24a5 言语上的指责、嘲讽、否定、说教以及任意打断、拒不回应、随意出口的评价和结论给我们带来的情感和精神上的创伤甚至比肉体的伤害更加令人痛苦。\n",
      "308f0a7e-c6c1-4210-a3e5-d98631330171 这些无心或有意的语言暴力让人与人变得冷漠、隔膜、敌视。 非暴力沟通能够： ● 疗愈内心深处的隐秘伤痛； ● 超越个人心智和情感的局限性； ● 突破那些引发愤怒、沮丧、焦\n",
      "7f025097-4068-4459-9ce4-b55cae8599fa 伤痛； ● 超越个人心智和情感的局限性； ● 突破那些引发愤怒、沮丧、焦虑等负面情绪的思维方式； ● 用不带伤害的方式化解人际间的冲突； ● 学会建立和谐的生命体验。\n"
     ]
    }
   ],
   "source": [
    "# 加载docstore\n",
    "loaded_docstore = SimpleDocumentStore.from_persist_path(docs_persist_dir)\n",
    "doc_storage_context = StorageContext.from_defaults(docstore=loaded_docstore)\n",
    "\n",
    "loaded_docs = doc_storage_context.docstore.docs\n",
    "for node_id, node in list(loaded_docs.items())[:5]:\n",
    "    print(node_id, node.text)\n"
   ]
  },
  {
   "cell_type": "markdown",
   "metadata": {},
   "source": [
    "#### VectorStoreIndex持久化（更全的持久处理）"
   ]
  },
  {
   "cell_type": "code",
   "execution_count": 43,
   "metadata": {},
   "outputs": [
    {
     "name": "stdout",
     "output_type": "stream",
     "text": [
      "持久化完成\n"
     ]
    }
   ],
   "source": [
    "# 持久化\n",
    "persist_dir = test_data_path / \"hybrid_nodes\"\n",
    "# 检查是否存在文件，如果存在说明已经持久化过了，直接加载\n",
    "\n",
    "hybrid_index.storage_context.persist(persist_dir)\n",
    "print(\"持久化完成\")\n"
   ]
  },
  {
   "cell_type": "code",
   "execution_count": 50,
   "metadata": {},
   "outputs": [],
   "source": [
    "if os.path.exists(persist_dir):\n",
    "    local_storage_context = StorageContext.from_defaults(persist_dir=persist_dir)\n",
    "    # 获取node_id等信息时可以用到\n",
    "    loaded_hybrid_all_nodes_dict = local_storage_context.docstore.docs\n",
    "    loaded_hybrid_index = local_storage_context.index_store"
   ]
  },
  {
   "cell_type": "code",
   "execution_count": 51,
   "metadata": {},
   "outputs": [
    {
     "name": "stdout",
     "output_type": "stream",
     "text": [
      "c1b78194-cd59-4627-ac9d-35f12ef4917b 马歇尔·卢森堡博士发现了一种沟通方式，依照它来谈话和聆听，能使人们情意相通，和谐相处，这就是“非暴力沟通”。 做为一个遵纪守法的好人，也许我们从来没有把谈话和“暴力”扯上关系。\n",
      "185c1eea-28c0-43db-aca8-31f509108582 做为一个遵纪守法的好人，也许我们从来没有把谈话和“暴力”扯上关系。不过如果稍微留意一下现实生活中的谈话方式，并且用心体会各种谈话方式给我们的不同感受，我们一定会发现，有些话确实伤人！\n",
      "f2483f5e-59de-4fa5-94c0-204bbcac24a5 言语上的指责、嘲讽、否定、说教以及任意打断、拒不回应、随意出口的评价和结论给我们带来的情感和精神上的创伤甚至比肉体的伤害更加令人痛苦。\n",
      "308f0a7e-c6c1-4210-a3e5-d98631330171 这些无心或有意的语言暴力让人与人变得冷漠、隔膜、敌视。 非暴力沟通能够： ● 疗愈内心深处的隐秘伤痛； ● 超越个人心智和情感的局限性； ● 突破那些引发愤怒、沮丧、焦\n",
      "7f025097-4068-4459-9ce4-b55cae8599fa 伤痛； ● 超越个人心智和情感的局限性； ● 突破那些引发愤怒、沮丧、焦虑等负面情绪的思维方式； ● 用不带伤害的方式化解人际间的冲突； ● 学会建立和谐的生命体验。\n"
     ]
    }
   ],
   "source": [
    "# 前面的hybrid_all_nodes_dict实际上是一个字典，key是node_id，value是node对象的数据；对应的就是hybrid_all_nodes\n",
    "\n",
    "for node_id, node in list(loaded_hybrid_all_nodes_dict.items())[:5]:\n",
    "    print(node_id, node.text)"
   ]
  },
  {
   "cell_type": "markdown",
   "metadata": {},
   "source": [
    "#### BM25检索器准备"
   ]
  },
  {
   "cell_type": "markdown",
   "metadata": {},
   "source": [
    "- docstore 和 nodes的区别注意区分理解\n",
    "- 如果用bm25加载从docstore，nodes会产生不一样的结果吗？"
   ]
  },
  {
   "cell_type": "code",
   "execution_count": 53,
   "metadata": {},
   "outputs": [],
   "source": [
    "import jieba\n",
    "\n",
    "stop_words_path = project_root / \"readai/utils/baidu_stopwords.txt\"\n",
    "jieba.load_userdict(str(stop_words_path))"
   ]
  },
  {
   "cell_type": "code",
   "execution_count": 54,
   "metadata": {},
   "outputs": [
    {
     "name": "stdout",
     "output_type": "stream",
     "text": [
      "['我', '来到', '北京', '清华大学']\n"
     ]
    }
   ],
   "source": [
    "text = \"我来到北京清华大学\"\n",
    "seg_list = jieba.lcut(text, cut_all=False)\n",
    "print(seg_list)"
   ]
  },
  {
   "cell_type": "code",
   "execution_count": 55,
   "metadata": {},
   "outputs": [
    {
     "name": "stderr",
     "output_type": "stream",
     "text": [
      "Building prefix dict from the default dictionary ...\n",
      "Loading model from cache /var/folders/70/hwlr8qxx6g751fyxb33mcys40000gn/T/jieba.cache\n",
      "Loading model cost 0.293 seconds.\n",
      "Prefix dict has been built successfully.\n"
     ]
    },
    {
     "name": "stdout",
     "output_type": "stream",
     "text": [
      "我/ 来到/ 北京/ 清华大学\n"
     ]
    }
   ],
   "source": [
    "custom_tokenizer = jieba.Tokenizer()\n",
    "# 加载自定义词典\n",
    "custom_tokenizer.load_userdict(str(stop_words_path))\n",
    "# 使用自定义分词器进行分词\n",
    "text = \"我来到北京清华大学\"\n",
    "seg_list = custom_tokenizer.cut(text, cut_all=False)\n",
    "print(\"/ \".join(seg_list))\n"
   ]
  },
  {
   "cell_type": "code",
   "execution_count": 56,
   "metadata": {},
   "outputs": [
    {
     "name": "stdout",
     "output_type": "stream",
     "text": [
      "1396\n"
     ]
    }
   ],
   "source": [
    "# 加载stop_words为字符串列表\n",
    "with open(stop_words_path) as f:\n",
    "    stop_words = f.readlines()\n",
    "\n",
    "stop_words = set(stop_words)\n",
    "print(len(stop_words))"
   ]
  },
  {
   "cell_type": "code",
   "execution_count": 57,
   "metadata": {},
   "outputs": [],
   "source": [
    "# 如果加载是从docstore会一样吗？\n",
    "bm25_retriever = BM25Retriever.from_defaults(\n",
    "    docstore=hybrid_index.docstore,\n",
    "    similarity_top_k=5,\n",
    "    tokenizer=custom_tokenizer,\n",
    "    stopwords=stop_words,\n",
    ")\n",
    "# bm25_retriever = BM25Retriever.from_defaults(nodes=hybrid_all_nodes, similarity_top_k=2)\n"
   ]
  },
  {
   "cell_type": "code",
   "execution_count": 58,
   "metadata": {},
   "outputs": [
    {
     "name": "stdout",
     "output_type": "stream",
     "text": [
      "4\n"
     ]
    },
    {
     "data": {
      "text/markdown": [
       "**Node ID:** ba4f086f-8c38-43c3-8f3b-9aea68c7ca2e<br>**Similarity:** 26.955977526355234<br>**Text:** 区分观察和评论 在以下列表中，我举例说明如何从混杂着评论的句子中区分出观察。 续表 注意：总是、永远、从来、每次之类的词语在以下用法中表达的是观察： ·每次我看到杰克打电话，他都至少打半小时。<br>"
      ],
      "text/plain": [
       "<IPython.core.display.Markdown object>"
      ]
     },
     "metadata": {},
     "output_type": "display_data"
    },
    {
     "data": {
      "text/markdown": [
       "**Node ID:** abfe872d-df6f-4439-a582-10fb070a5130<br>**Similarity:** 26.268064015672522<br>**Text:** 非暴力沟通并不要求我们保持完全客观，不做任何评论。它只是强调，我们要区分观察与评论。非暴力沟通是一个动态的语言，它不鼓励一成不变、一概而论的陈述。<br>"
      ],
      "text/plain": [
       "<IPython.core.display.Markdown object>"
      ]
     },
     "metadata": {},
     "output_type": "display_data"
    },
    {
     "data": {
      "text/markdown": [
       "**Node ID:** fde69154-05d6-44fb-ba8c-2a93e6c159fe<br>**Similarity:** 26.214797279821816<br>**Text:** 会议最后，我们商量了一些办法，以后当老师们不想听校长回忆往事时，就用温和的方式提醒他。 区分观察和评论 在以下列表中，我举例说明如何从混杂着评论的句子中区分出观察。<br>"
      ],
      "text/plain": [
       "<IPython.core.display.Markdown object>"
      ]
     },
     "metadata": {},
     "output_type": "display_data"
    },
    {
     "data": {
      "text/markdown": [
       "**Node ID:** 0bdb295b-c32f-4682-9d82-94b7940eb702<br>**Similarity:** 24.495895670924263<br>**Text:** ” 刚开始尝试请他人重述我们的话时，可能会觉得有点不自然。因为在日常交流中，我们很少会提出这样的请求。当我强调请他人重述我们的话是一种重要的能力时，人们通常担心有人会这样反应：“你觉得我是聋子吗？<br>"
      ],
      "text/plain": [
       "<IPython.core.display.Markdown object>"
      ]
     },
     "metadata": {},
     "output_type": "display_data"
    }
   ],
   "source": [
    "sparse_nodes = bm25_retriever.retrieve(\n",
    "    \"在日常交流中，我们如何区分客观的观察和主观的评价？\"\n",
    ")\n",
    "print(len(sparse_nodes))\n",
    "for n in sparse_nodes:\n",
    "    display_source_node(n, source_length=1500)"
   ]
  },
  {
   "cell_type": "markdown",
   "metadata": {},
   "source": [
    "#### 向量检索器准备"
   ]
  },
  {
   "cell_type": "code",
   "execution_count": 59,
   "metadata": {},
   "outputs": [],
   "source": [
    "vector_retriever = hybrid_index.as_retriever(similarity_top_k=5)"
   ]
  },
  {
   "cell_type": "code",
   "execution_count": 61,
   "metadata": {},
   "outputs": [
    {
     "name": "stdout",
     "output_type": "stream",
     "text": [
      "4\n"
     ]
    },
    {
     "data": {
      "text/markdown": [
       "**Node ID:** 8e325d94-2b84-41fd-82a3-f6cee61adcf2<br>**Similarity:** 0.6397337<br>**Text:** 我等着老师们表达他们的不满。然而，他们并没有运用非暴力沟通的方式，而是无声的抗议。有的人开始翻白眼，有的人故意打着哈欠，还有个人一直盯着手表。 直到我按捺不住问他们：“没有人有话要说吗？”迎来的是一阵令人尴尬的沉默。接着，之前会谈中率先发言的那位老师鼓起勇气，直视着校长，然后说出：“艾德，你真是个大嘴巴！” 就像这个故事所展现的，从我们的旧习惯中挣脱出来，并有能力熟练地区分观察与评论并不容易。最终，老师们终于可以明明白白地告诉校长，他们对他的哪些行为感到不满。校长认真地听完后郑重地说：“为什么从没有人告诉我呢？”他承认他有讲故事的习惯，接着就开始说与这个习惯有关的故事了！我见状打断了他的话，婉转地提出他在重蹈覆辙。会议最后，我们商量了一些办法，以后当老师们不想听校长回忆往事时，就用温和的方式提醒他。 区分观察和评论 在以下列表中，我举例说明如何从混杂着评论的句子中区分出观察。<br>"
      ],
      "text/plain": [
       "<IPython.core.display.Markdown object>"
      ]
     },
     "metadata": {},
     "output_type": "display_data"
    },
    {
     "data": {
      "text/markdown": [
       "**Node ID:** f6b8857a-e62a-4900-b49f-fc1e872cee87<br>**Similarity:** 0.63871455<br>**Text:** 区分观察和评论 在以下列表中，我举例说明如何从混杂着评论的句子中区分出观察。 续表 注意：总是、永远、从来、每次之类的词语在以下用法中表达的是观察： ·每次我看到杰克打电话，他都至少打半小时。<br>"
      ],
      "text/plain": [
       "<IPython.core.display.Markdown object>"
      ]
     },
     "metadata": {},
     "output_type": "display_data"
    },
    {
     "data": {
      "text/markdown": [
       "**Node ID:** c2595bd0-7ff4-4fd0-bacc-84de3aa44119<br>**Similarity:** 0.63314337<br>**Text:** 首先，我们观察实际上发生了什么。不论他人的言行是否有益于我们，我们只是去观察。要做到清晰表达所观察到的，我们的挑战在于不夹杂任何评判。不论喜欢与否，我们只是说出人们做了什么。<br>"
      ],
      "text/plain": [
       "<IPython.core.display.Markdown object>"
      ]
     },
     "metadata": {},
     "output_type": "display_data"
    },
    {
     "data": {
      "text/markdown": [
       "**Node ID:** 59395a12-aa0e-4224-9011-c3640802d43c<br>**Similarity:** 0.62933075<br>**Text:** 在非暴力沟通中，当我们想要清晰且诚恳地向他人表达我们的状态时，“观察”是一个重要的要素。如果我们在观察中夹杂着评论，人们便不那么容易真正听见我们想要表达的内容，反而会听到批评，甚至产生抗拒心理。<br>"
      ],
      "text/plain": [
       "<IPython.core.display.Markdown object>"
      ]
     },
     "metadata": {},
     "output_type": "display_data"
    }
   ],
   "source": [
    "retrievals = vector_retriever.retrieve(\n",
    "    \"在日常交流中，我们如何区分客观的观察和主观的评价？\"\n",
    ")\n",
    "print(len(retrievals))\n",
    "for n in retrievals:\n",
    "    display_source_node(n, source_length=1500)"
   ]
  },
  {
   "cell_type": "markdown",
   "metadata": {},
   "source": [
    "#### small-to-big retriever"
   ]
  },
  {
   "cell_type": "code",
   "execution_count": 62,
   "metadata": {},
   "outputs": [],
   "source": [
    "from llama_index.core.retrievers import RecursiveRetriever\n",
    "\n",
    "small2big_retriever = RecursiveRetriever(\n",
    "    \"vector\",\n",
    "    retriever_dict={\"vector\": vector_retriever},\n",
    "    node_dict=hybrid_all_nodes_dict,\n",
    "    verbose=True,\n",
    ")"
   ]
  },
  {
   "cell_type": "code",
   "execution_count": 63,
   "metadata": {},
   "outputs": [
    {
     "name": "stdout",
     "output_type": "stream",
     "text": [
      "\u001b[1;3;34mRetrieving with query id None: 在日常交流中，我们如何区分客观的观察和主观的评价？\n",
      "\u001b[0m\u001b[1;3;38;5;200mRetrieved node with id, entering: 83afb5cb-6a2b-4de2-8214-bee270da4552\n",
      "\u001b[0m\u001b[1;3;34mRetrieving with query id 83afb5cb-6a2b-4de2-8214-bee270da4552: 在日常交流中，我们如何区分客观的观察和主观的评价？\n",
      "\u001b[0m\u001b[1;3;38;5;200mRetrieved node with id, entering: b9cabe00-e9b7-4bdb-aedd-9a7992c10a11\n",
      "\u001b[0m\u001b[1;3;34mRetrieving with query id b9cabe00-e9b7-4bdb-aedd-9a7992c10a11: 在日常交流中，我们如何区分客观的观察和主观的评价？\n",
      "\u001b[0m\u001b[1;3;38;5;200mRetrieved node with id, entering: eeac9f1c-d7e5-47eb-b174-ee7be894dd55\n",
      "\u001b[0m\u001b[1;3;34mRetrieving with query id eeac9f1c-d7e5-47eb-b174-ee7be894dd55: 在日常交流中，我们如何区分客观的观察和主观的评价？\n",
      "\u001b[0m"
     ]
    }
   ],
   "source": [
    "# 获取向量召回结果\n",
    "dense_nodes = small2big_retriever.retrieve(\n",
    "    \"在日常交流中，我们如何区分客观的观察和主观的评价？\"\n",
    ")"
   ]
  },
  {
   "cell_type": "code",
   "execution_count": 64,
   "metadata": {},
   "outputs": [
    {
     "data": {
      "text/markdown": [
       "**Node ID:** 83afb5cb-6a2b-4de2-8214-bee270da4552<br>**Similarity:** 0.6397337<br>**Text:** 当我指出这一点后，另一位老师响应道：“我知道他的意思了。校长的话太多！”这仍不是一个清晰的观察，而是对校长说多少话的评论。随后，第三位老师说：“他认为只有他想说的话是重要的。”我进而向他们解释，推断他人的想法和对他人行为的观察是两码事。随后，第四位老师大胆地说：“他总是想成为人前的焦点。”当我指出这也是推断时，两位老师不约而同地说道：“你的问题太难回答了！” 接着，我们一起拟了份清单，明确列出校长有哪些具体行为令他们感到不满，并确保不掺杂评论。例如，在全体教师会议上，校长会讲述他的童年和战争经历，有时导致会议超时20分钟。我问老师们是否曾经和校长沟通过他们的不满，他们说曾经试过，但都用具有评论意味的言辞向校长提出批评，而从未提及任何具体行为，例如校长在会议中讲述自己的故事。最后，老师们同意在与校长会谈时将这一点提出来。 会谈刚一开始，我便目睹了老师们所描述的情景。不论讨论的主题是什么，校长都会插话说：“想当年……”接着开始讲述他的童年或战争经历。我等着老师们表达他们的不满。然而，他们并没有运用非暴力沟通的方式，而是无声的抗议。有的人开始翻白眼，有的人故意打着哈欠，还有个人一直盯着手表。 直到我按捺不住问他们：“没有人有话要说吗？”迎来的是一阵令人尴尬的沉默。接着，之前会谈中率先发言的那位老师鼓起勇气，直视着校长，然后说出：“艾德，你真是个大嘴巴！” 就像这个故事所展现的，从我们的旧习惯中挣脱出来，并有能力熟练地区分观察与评论并不容易。最终，老师们终于可以明明白白地告诉校长，他们对他的哪些行为感到不满。校长认真地听完后郑重地说：“为什么从没有人告诉我呢？”他承认他有讲故事的习惯，接着就开始说与这个习惯有关的故事了！我见状打断了他的话，婉转地提出他在重蹈覆辙。会议最后，我们商量了一些办法，以后当老师们不想听校长回忆往事时，就用温和的方式提醒他。 区分观察和评论 在以下列表中，我举例说明如何从混杂着评论的句子中区分出观察。 续表 注意：总是、永远、从来、每次之类的词语在以下用法中表达的是观察： ·每次我看到杰克打电话，他都至少打半小时。<br>"
      ],
      "text/plain": [
       "<IPython.core.display.Markdown object>"
      ]
     },
     "metadata": {},
     "output_type": "display_data"
    },
    {
     "data": {
      "text/markdown": [
       "**Node ID:** b9cabe00-e9b7-4bdb-aedd-9a7992c10a11<br>**Similarity:** 0.63314337<br>**Text:** ” “不是这里，”男子回答，“我把钥匙落在巷子里了。” 见到警察很困惑，男子急忙解释：“但这里的光线要亮得多呢。” 我们都对人生拥有渴望。然而我发现，主导我们的文化却可能带我们偏离了方向。为此，我开发了非暴力沟通。它作为一种训练注意力的方式，让我们可以把注意力放在真正要去的地方。我渴望的是，在生命中活出慈悲之心，让由衷的相互给予，在你我之间流动。 那份慈悲心，也是我所说的“由衷的给予”，在我的朋友鲁斯·贝本梅尔（Ruth Bebermeyer）的这段歌词中得到展现： 你取之于我，是对我最好的馈赠。 请你知道，这种给予带给我快乐。 我给予绝非冀盼你偿还， 只因我想活出对你的爱。 也许，你的欣然接受， 就是对我的最佳馈赠。 我无法将两者分开。 你施于我，我给予我的接受； 你取之于我，是对我最好的馈赠。 ——“馈赠”（1978）来自鲁斯·贝本梅尔 唱片集《馈赠》 每当我们想要丰盈他人的生命，由衷给予他人时，我们是出于心中油然而生的喜悦之情。给予者和接受者都会从中获益。当给予是由衷的，而非出于害怕、内疚、羞愧或是渴求回报，接受者才能心无挂碍地享受这份馈赠。与此同时，给予者因为看到自己为他人的幸福做出了贡献，也会收获更多的自我肯定。 我们使用非暴力沟通，并不要求沟通的对方也懂得它，甚至无须对我们保有善意。只要我们遵循非暴力沟通的原则，发自内心地给予，并尽我们所能让对方知道这是我们唯一的动机，他们也会加入我们，最终双方必然能以善意相待。当然，这一切不一定会很快发生，但我相信，只要我们坚持非暴力沟通的原则与方法，友善之花终将在你我心中盛开。 非暴力沟通过程 要达到让双方都能发自内心地相互给予，我们需将注意力聚焦在四个方面——它们是非暴力沟通模式的四个要素。 首先，我们观察实际上发生了什么。不论他人的言行是否有益于我们，我们只是去观察。要做到清晰表达所观察到的，我们的挑战在于不夹杂任何评判。不论喜欢与否，我们只是说出人们做了什么。<br>"
      ],
      "text/plain": [
       "<IPython.core.display.Markdown object>"
      ]
     },
     "metadata": {},
     "output_type": "display_data"
    },
    {
     "data": {
      "text/markdown": [
       "**Node ID:** eeac9f1c-d7e5-47eb-b174-ee7be894dd55<br>**Similarity:** 0.62933075<br>**Text:** 去观察，就像信仰一样重要。 ——弗雷德里克·布希纳（Frederick Buechner） 我欣然接受你告诉我， 我做了什么或者我未做什么。 我也欣然接受你的评论， 但请不要将两者混淆。 如果你想把事情搅乱， 我可以告诉你如何做到： 将我做的事情 和你的反应混为一谈。 当你见到做了一半的家务活， 可以告诉我你感到失望。 但说我不负责任， 绝无可能让我做得更多。 当我对你的表白说“不”， 请告诉我你感到伤心。 但说我冷酷无情， 并不能给你带来更多机会。 是的， 我欣然接受你告诉我， 我做了什么或者我未做什么。 我也欣然接受你的评论， 但请不要将两者混淆。 ——马歇尔·卢森堡博士 非暴力沟通的第一个要素是区分观察与评论。我们要清楚地观察有哪些所见、所闻和所触，正影响着我们幸福，而不夹杂任何评论。 在非暴力沟通中，当我们想要清晰且诚恳地向他人表达我们的状态时，“观察”是一个重要的要素。如果我们在观察中夹杂着评论，人们便不那么容易真正听见我们想要表达的内容，反而会听到批评，甚至产生抗拒心理。 非暴力沟通并不要求我们保持完全客观，不做任何评论。它只是强调，我们要区分观察与评论。非暴力沟通是一个动态的语言，它不鼓励一成不变、一概而论的陈述。语义学家温戴尔·约翰逊（Wendell Johnson）指出，用静态的语言来表达或捕捉瞬息万变的现实世界，会带来许多问题。他说：“我们的语言年代久远，是有缺陷的工具。它反映着泛灵论的思想，倾向于谈论稳定与恒常，谈论相似性、常态和分类，神奇的转变、立竿见影的疗效、简化的问题以及终极解决方案。然而，我们尝试用语言符号化的这个世界，却包含了无穷无尽的过程、变化、维度、变数、关系、功能、互动、发展、学习、应对和复杂性。不断变化的世界与我们相对静态的语言形式并不匹配，我们的许多问题正是因此产生。” 我的同事鲁斯·贝本梅尔在这段歌词中对比了静态语言与动态语言，由此来展现评论与观察的区别： 我从未见过什么懒汉； 我见过的他，有时在白天睡觉， 在某个下雨的日子呆在家里。 但他不是个懒汉。<br>"
      ],
      "text/plain": [
       "<IPython.core.display.Markdown object>"
      ]
     },
     "metadata": {},
     "output_type": "display_data"
    }
   ],
   "source": [
    "for chunk_node in dense_nodes:\n",
    "    display_source_node(chunk_node, source_length=1500)\n"
   ]
  },
  {
   "cell_type": "markdown",
   "metadata": {},
   "source": [
    "### 使用HybridRetriever"
   ]
  },
  {
   "cell_type": "code",
   "execution_count": 65,
   "metadata": {},
   "outputs": [],
   "source": [
    "from llama_index.core.retrievers import QueryFusionRetriever\n",
    "\n",
    "fusion_retriever = QueryFusionRetriever(\n",
    "    retrievers=[small2big_retriever, bm25_retriever],\n",
    "    mode=\"reciprocal_rerank\",\n",
    "    verbose=True,\n",
    "    similarity_top_k=10,\n",
    "    llm=llm,\n",
    "    num_queries=1,  # 不需要查询扩展\n",
    ")\n"
   ]
  },
  {
   "cell_type": "code",
   "execution_count": 66,
   "metadata": {},
   "outputs": [
    {
     "name": "stderr",
     "output_type": "stream",
     "text": [
      "\u001b[32m2025-04-08 00:24:54.312\u001b[0m | \u001b[33m\u001b[1mWARNING \u001b[0m | \u001b[36mreadai.components.retrievers\u001b[0m:\u001b[36m_retrieve\u001b[0m:\u001b[36m553\u001b[0m - \u001b[33m\u001b[1mBM25Retriever does not support embeddings, skipping...\u001b[0m\n"
     ]
    },
    {
     "name": "stdout",
     "output_type": "stream",
     "text": [
      "\u001b[1;3;34mRetrieving with query id None: 在日常交流中，我们如何区分客观的观察和主观的评价？\n",
      "\u001b[0m\u001b[1;3;38;5;200mRetrieved node with id, entering: 83afb5cb-6a2b-4de2-8214-bee270da4552\n",
      "\u001b[0m\u001b[1;3;34mRetrieving with query id 83afb5cb-6a2b-4de2-8214-bee270da4552: 在日常交流中，我们如何区分客观的观察和主观的评价？\n",
      "\u001b[0m\u001b[1;3;38;5;200mRetrieved node with id, entering: b9cabe00-e9b7-4bdb-aedd-9a7992c10a11\n",
      "\u001b[0m\u001b[1;3;34mRetrieving with query id b9cabe00-e9b7-4bdb-aedd-9a7992c10a11: 在日常交流中，我们如何区分客观的观察和主观的评价？\n",
      "\u001b[0m\u001b[1;3;38;5;200mRetrieved node with id, entering: eeac9f1c-d7e5-47eb-b174-ee7be894dd55\n",
      "\u001b[0m\u001b[1;3;34mRetrieving with query id eeac9f1c-d7e5-47eb-b174-ee7be894dd55: 在日常交流中，我们如何区分客观的观察和主观的评价？\n",
      "\u001b[0m7\n"
     ]
    },
    {
     "data": {
      "text/markdown": [
       "**Node ID:** 83afb5cb-6a2b-4de2-8214-bee270da4552<br>**Similarity:** 0.016666666666666666<br>**Text:** 当我指出这一点后，另一位老师响应道：“我知道他的意思了。校长的话太多！”这仍不是一个清晰的观察，而是对校长说多少话的评论。随后，第三位老师说：“他认为只有他想说的话是重要的。”我进而向他们解释，推断他人的想法和对他人行为的观察是两码事。随后，第四位老师大胆地说：“他总是想成为人前的焦点。”当我指出这也是推断时，两位老师不约而同地说道：“你的问题太难回答了！” 接着，我们一起拟了份清单，明确列出校长有哪些具体行为令他们感到不满，并确保不掺杂评论。例如，在全体教师会议上，校长会讲述他的童年和战争经历，有时导致会议超时20分钟。我问老师们是否曾经和校长沟通过他们的不满，他们说曾经试过，但都用具有评论意味的言辞向校长提出批评，而从未提及任何具体行为，例如校长在会议中讲述自己的故事。最后，老师们同意在与校长会谈时将这一点提出来。 会谈刚一开始，我便目睹了老师们所描述的情景。不论讨论的主题是什么，校长都会插话说：“想当年……”接着开始讲述他的童年或战争经历。我等着老师们表达他们的不满。然而，他们并没有运用非暴力沟通的方式，而是无声的抗议。有的人开始翻白眼，有的人故意打着哈欠，还有个人一直盯着手表。 直到我按捺不住问他们：“没有人有话要说吗？”迎来的是一阵令人尴尬的沉默。接着，之前会谈中率先发言的那位老师鼓起勇气，直视着校长，然后说出：“艾德，你真是个大嘴巴！” 就像这个故事所展现的，从我们的旧习惯中挣脱出来，并有能力熟练地区分观察与评论并不容易。最终，老师们终于可以明明白白地告诉校长，他们对他的哪些行为感到不满。校长认真地听完后郑重地说：“为什么从没有人告诉我呢？”他承认他有讲故事的习惯，接着就开始说与这个习惯有关的故事了！我见状打断了他的话，婉转地提出他在重蹈覆辙。会议最后，我们商量了一些办法，以后当老师们不想听校长回忆往事时，就用温和的方式提醒他。 区分观察和评论 在以下列表中，我举例说明如何从混杂着评论的句子中区分出观察。 续表 注意：总是、永远、从来、每次之类的词语在以下用法中表达的是观察： ·每次我看到杰克打电话，他都至少打半小时。<br>"
      ],
      "text/plain": [
       "<IPython.core.display.Markdown object>"
      ]
     },
     "metadata": {},
     "output_type": "display_data"
    },
    {
     "data": {
      "text/markdown": [
       "**Node ID:** ba4f086f-8c38-43c3-8f3b-9aea68c7ca2e<br>**Similarity:** 0.016666666666666666<br>**Text:** 区分观察和评论 在以下列表中，我举例说明如何从混杂着评论的句子中区分出观察。 续表 注意：总是、永远、从来、每次之类的词语在以下用法中表达的是观察： ·每次我看到杰克打电话，他都至少打半小时。<br>"
      ],
      "text/plain": [
       "<IPython.core.display.Markdown object>"
      ]
     },
     "metadata": {},
     "output_type": "display_data"
    },
    {
     "data": {
      "text/markdown": [
       "**Node ID:** b9cabe00-e9b7-4bdb-aedd-9a7992c10a11<br>**Similarity:** 0.01639344262295082<br>**Text:** ” “不是这里，”男子回答，“我把钥匙落在巷子里了。” 见到警察很困惑，男子急忙解释：“但这里的光线要亮得多呢。” 我们都对人生拥有渴望。然而我发现，主导我们的文化却可能带我们偏离了方向。为此，我开发了非暴力沟通。它作为一种训练注意力的方式，让我们可以把注意力放在真正要去的地方。我渴望的是，在生命中活出慈悲之心，让由衷的相互给予，在你我之间流动。 那份慈悲心，也是我所说的“由衷的给予”，在我的朋友鲁斯·贝本梅尔（Ruth Bebermeyer）的这段歌词中得到展现： 你取之于我，是对我最好的馈赠。 请你知道，这种给予带给我快乐。 我给予绝非冀盼你偿还， 只因我想活出对你的爱。 也许，你的欣然接受， 就是对我的最佳馈赠。 我无法将两者分开。 你施于我，我给予我的接受； 你取之于我，是对我最好的馈赠。 ——“馈赠”（1978）来自鲁斯·贝本梅尔 唱片集《馈赠》 每当我们想要丰盈他人的生命，由衷给予他人时，我们是出于心中油然而生的喜悦之情。给予者和接受者都会从中获益。当给予是由衷的，而非出于害怕、内疚、羞愧或是渴求回报，接受者才能心无挂碍地享受这份馈赠。与此同时，给予者因为看到自己为他人的幸福做出了贡献，也会收获更多的自我肯定。 我们使用非暴力沟通，并不要求沟通的对方也懂得它，甚至无须对我们保有善意。只要我们遵循非暴力沟通的原则，发自内心地给予，并尽我们所能让对方知道这是我们唯一的动机，他们也会加入我们，最终双方必然能以善意相待。当然，这一切不一定会很快发生，但我相信，只要我们坚持非暴力沟通的原则与方法，友善之花终将在你我心中盛开。 非暴力沟通过程 要达到让双方都能发自内心地相互给予，我们需将注意力聚焦在四个方面——它们是非暴力沟通模式的四个要素。 首先，我们观察实际上发生了什么。不论他人的言行是否有益于我们，我们只是去观察。要做到清晰表达所观察到的，我们的挑战在于不夹杂任何评判。不论喜欢与否，我们只是说出人们做了什么。<br>"
      ],
      "text/plain": [
       "<IPython.core.display.Markdown object>"
      ]
     },
     "metadata": {},
     "output_type": "display_data"
    },
    {
     "data": {
      "text/markdown": [
       "**Node ID:** abfe872d-df6f-4439-a582-10fb070a5130<br>**Similarity:** 0.01639344262295082<br>**Text:** 非暴力沟通并不要求我们保持完全客观，不做任何评论。它只是强调，我们要区分观察与评论。非暴力沟通是一个动态的语言，它不鼓励一成不变、一概而论的陈述。<br>"
      ],
      "text/plain": [
       "<IPython.core.display.Markdown object>"
      ]
     },
     "metadata": {},
     "output_type": "display_data"
    },
    {
     "data": {
      "text/markdown": [
       "**Node ID:** eeac9f1c-d7e5-47eb-b174-ee7be894dd55<br>**Similarity:** 0.016129032258064516<br>**Text:** 去观察，就像信仰一样重要。 ——弗雷德里克·布希纳（Frederick Buechner） 我欣然接受你告诉我， 我做了什么或者我未做什么。 我也欣然接受你的评论， 但请不要将两者混淆。 如果你想把事情搅乱， 我可以告诉你如何做到： 将我做的事情 和你的反应混为一谈。 当你见到做了一半的家务活， 可以告诉我你感到失望。 但说我不负责任， 绝无可能让我做得更多。 当我对你的表白说“不”， 请告诉我你感到伤心。 但说我冷酷无情， 并不能给你带来更多机会。 是的， 我欣然接受你告诉我， 我做了什么或者我未做什么。 我也欣然接受你的评论， 但请不要将两者混淆。 ——马歇尔·卢森堡博士 非暴力沟通的第一个要素是区分观察与评论。我们要清楚地观察有哪些所见、所闻和所触，正影响着我们幸福，而不夹杂任何评论。 在非暴力沟通中，当我们想要清晰且诚恳地向他人表达我们的状态时，“观察”是一个重要的要素。如果我们在观察中夹杂着评论，人们便不那么容易真正听见我们想要表达的内容，反而会听到批评，甚至产生抗拒心理。 非暴力沟通并不要求我们保持完全客观，不做任何评论。它只是强调，我们要区分观察与评论。非暴力沟通是一个动态的语言，它不鼓励一成不变、一概而论的陈述。语义学家温戴尔·约翰逊（Wendell Johnson）指出，用静态的语言来表达或捕捉瞬息万变的现实世界，会带来许多问题。他说：“我们的语言年代久远，是有缺陷的工具。它反映着泛灵论的思想，倾向于谈论稳定与恒常，谈论相似性、常态和分类，神奇的转变、立竿见影的疗效、简化的问题以及终极解决方案。然而，我们尝试用语言符号化的这个世界，却包含了无穷无尽的过程、变化、维度、变数、关系、功能、互动、发展、学习、应对和复杂性。不断变化的世界与我们相对静态的语言形式并不匹配，我们的许多问题正是因此产生。” 我的同事鲁斯·贝本梅尔在这段歌词中对比了静态语言与动态语言，由此来展现评论与观察的区别： 我从未见过什么懒汉； 我见过的他，有时在白天睡觉， 在某个下雨的日子呆在家里。 但他不是个懒汉。<br>"
      ],
      "text/plain": [
       "<IPython.core.display.Markdown object>"
      ]
     },
     "metadata": {},
     "output_type": "display_data"
    },
    {
     "data": {
      "text/markdown": [
       "**Node ID:** fde69154-05d6-44fb-ba8c-2a93e6c159fe<br>**Similarity:** 0.016129032258064516<br>**Text:** 会议最后，我们商量了一些办法，以后当老师们不想听校长回忆往事时，就用温和的方式提醒他。 区分观察和评论 在以下列表中，我举例说明如何从混杂着评论的句子中区分出观察。<br>"
      ],
      "text/plain": [
       "<IPython.core.display.Markdown object>"
      ]
     },
     "metadata": {},
     "output_type": "display_data"
    },
    {
     "data": {
      "text/markdown": [
       "**Node ID:** 0bdb295b-c32f-4682-9d82-94b7940eb702<br>**Similarity:** 0.015873015873015872<br>**Text:** ” 刚开始尝试请他人重述我们的话时，可能会觉得有点不自然。因为在日常交流中，我们很少会提出这样的请求。当我强调请他人重述我们的话是一种重要的能力时，人们通常担心有人会这样反应：“你觉得我是聋子吗？<br>"
      ],
      "text/plain": [
       "<IPython.core.display.Markdown object>"
      ]
     },
     "metadata": {},
     "output_type": "display_data"
    }
   ],
   "source": [
    "nodes = fusion_retriever.retrieve(\"在日常交流中，我们如何区分客观的观察和主观的评价？\")\n",
    "print(len(nodes))\n",
    "for node in nodes:\n",
    "    display_source_node(node, source_length=1500)"
   ]
  },
  {
   "cell_type": "code",
   "execution_count": 67,
   "metadata": {},
   "outputs": [
    {
     "name": "stderr",
     "output_type": "stream",
     "text": [
      "\u001b[32m2025-04-08 00:25:01.598\u001b[0m | \u001b[33m\u001b[1mWARNING \u001b[0m | \u001b[36mreadai.components.retrievers\u001b[0m:\u001b[36m_retrieve\u001b[0m:\u001b[36m553\u001b[0m - \u001b[33m\u001b[1mBM25Retriever does not support embeddings, skipping...\u001b[0m\n"
     ]
    },
    {
     "name": "stdout",
     "output_type": "stream",
     "text": [
      "\u001b[1;3;34mRetrieving with query id None: 在日常交流中，我们如何区分客观的观察和主观的评价？\n",
      "\u001b[0m\u001b[1;3;38;5;200mRetrieved node with id, entering: 83afb5cb-6a2b-4de2-8214-bee270da4552\n",
      "\u001b[0m\u001b[1;3;34mRetrieving with query id 83afb5cb-6a2b-4de2-8214-bee270da4552: 在日常交流中，我们如何区分客观的观察和主观的评价？\n",
      "\u001b[0m\u001b[1;3;38;5;200mRetrieved node with id, entering: b9cabe00-e9b7-4bdb-aedd-9a7992c10a11\n",
      "\u001b[0m\u001b[1;3;34mRetrieving with query id b9cabe00-e9b7-4bdb-aedd-9a7992c10a11: 在日常交流中，我们如何区分客观的观察和主观的评价？\n",
      "\u001b[0m\u001b[1;3;38;5;200mRetrieved node with id, entering: eeac9f1c-d7e5-47eb-b174-ee7be894dd55\n",
      "\u001b[0m\u001b[1;3;34mRetrieving with query id eeac9f1c-d7e5-47eb-b174-ee7be894dd55: 在日常交流中，我们如何区分客观的观察和主观的评价？\n",
      "\u001b[0m"
     ]
    }
   ],
   "source": [
    "from llama_index.core.settings import Settings\n",
    "\n",
    "Settings.llm = llm\n",
    "\n",
    "query_engine = RetrieverQueryEngine(fusion_retriever)\n",
    "response = query_engine.query(\"在日常交流中，我们如何区分客观的观察和主观的评价？\")"
   ]
  },
  {
   "cell_type": "code",
   "execution_count": 69,
   "metadata": {},
   "outputs": [
    {
     "name": "stdout",
     "output_type": "stream",
     "text": [
      "在日常交流中，区分客观观察和主观评价的关键在于：观察是描述具体发生的事实，而评价则包含个人判断或解读。比如\"会议超时20分钟\"是观察，而\"他太啰嗦\"就是评价。有效的沟通需要清晰表达观察到的事实，避免将个人判断与事实混为一谈。可以通过具体描述时间、地点、行为等客观要素来保持观察的纯粹性，同时注意避免使用带有价值判断的词汇。这种区分能帮助双方更准确地理解彼此，减少因误解产生的冲突。\n"
     ]
    }
   ],
   "source": [
    "print(response)"
   ]
  },
  {
   "cell_type": "markdown",
   "metadata": {},
   "source": [
    "## Evaluation"
   ]
  },
  {
   "cell_type": "code",
   "execution_count": 70,
   "metadata": {},
   "outputs": [],
   "source": [
    "import json\n",
    "import random\n",
    "\n",
    "import pandas as pd\n",
    "from llama_index.core.evaluation import (\n",
    "    EmbeddingQAFinetuneDataset,\n",
    "    RetrieverEvaluator,\n",
    "    generate_question_context_pairs,\n",
    ")\n",
    "\n",
    "from readai.components.prompts import QA_GENERATE_PROMPT_TMPL_ZH"
   ]
  },
  {
   "cell_type": "code",
   "execution_count": 71,
   "metadata": {},
   "outputs": [],
   "source": [
    "QA_GENERATE_PROMPT_TMPL_ZH = \"\"\"\\\n",
    "##任务：根据以下书籍片段内容，生成具有多维度的讨论性和理解性问题，帮助用户深入理解该段内容。\n",
    "##Examples:\n",
    "\n",
    "input_case1:\n",
    "上下文内容：\n",
    "---------------------\n",
    "在《论语》中，孔子提出了“仁”的概念，认为“仁”是人与人之间相互关爱、尊重和理解的基础。他强调，只有具备“仁”的品质，才能真正实现社会的和谐与稳定。\n",
    "---------------------\n",
    "请根据上下文生成2个问题\n",
    "output:\n",
    "孔子所倡导的“仁”在现代社会中具有怎样的现实意义？\n",
    "如何理解“仁”是实现社会和谐与稳定的基础？\n",
    "\n",
    "input_case2:\n",
    "上下文内容：\n",
    "---------------------\n",
    "《物种起源》中，达尔文提出了自然选择学说，认为生物的进化是通过自然选择的过程实现的。他指出，适应环境的个体更容易生存和繁衍后代，从而推动了物种的进化。\n",
    "---------------------\n",
    "请根据上下文生成1个问题\n",
    "output:\n",
    "适应环境的个体更容易生存和繁衍后代，这一观点如何解释生物多样性的形成？\n",
    "\n",
    "##下面是用户输入：\n",
    "上下文内容：\n",
    "---------------------\n",
    "{context_str}\n",
    "---------------------\n",
    "请根据上下文生成{num_questions_per_chunk}个问题，要求问题至少涉及以下其中一个方面，问题字数长度在100字以内：\n",
    "1. 片段的核心概念、观点、情节或事件。\n",
    "2. 作者的意图或观点背后的逻辑推理。\n",
    "3. 对该段内容的分析、批判或反思。\n",
    "4. 如果有相关的背景知识或隐含信息，探讨它们的影响。\n",
    "5. 生成至少一个假设性问题或假设情境，探索不同的可能性。\n",
    "6. 比较该段内容与其他类似情节或观点的异同。\n",
    "\n",
    "##格式要求：请参考上面的例子格式生成问题，尽量不携带数字编号并且只需要输出问题，多个问题分行输出即可\n",
    "##输出：\n",
    "\"\"\""
   ]
  },
  {
   "cell_type": "code",
   "execution_count": null,
   "metadata": {},
   "outputs": [],
   "source": [
    "print(QA_GENERATE_PROMPT_TMPL_ZH)"
   ]
  },
  {
   "cell_type": "code",
   "execution_count": 72,
   "metadata": {},
   "outputs": [
    {
     "name": "stdout",
     "output_type": "stream",
     "text": [
      "原节点数 170\n"
     ]
    }
   ],
   "source": [
    "print(\"原节点数\", len(hybrid_nodes))"
   ]
  },
  {
   "cell_type": "code",
   "execution_count": 73,
   "metadata": {},
   "outputs": [
    {
     "name": "stdout",
     "output_type": "stream",
     "text": [
      "测试节点数 50\n",
      "文本长度：851，节点id：e57510a9-e142-4b21-af6a-3eff2905ac1a\n"
     ]
    }
   ],
   "source": [
    "test_hybrid_nodes = random.sample(hybrid_nodes, 50)\n",
    "print(\"测试节点数\", len(test_hybrid_nodes))\n",
    "print(\n",
    "    f\"文本长度：{len(test_hybrid_nodes[0].text)}，节点id：{test_hybrid_nodes[0].node_id}\"\n",
    ")"
   ]
  },
  {
   "cell_type": "code",
   "execution_count": 74,
   "metadata": {},
   "outputs": [
    {
     "name": "stderr",
     "output_type": "stream",
     "text": [
      "100%|██████████| 50/50 [05:11<00:00,  6.24s/it]\n"
     ]
    }
   ],
   "source": [
    "eval_dataset_zh = generate_question_context_pairs(\n",
    "    test_hybrid_nodes, llm=llm, qa_generate_prompt_tmpl=QA_GENERATE_PROMPT_TMPL_ZH\n",
    ")"
   ]
  },
  {
   "cell_type": "code",
   "execution_count": 86,
   "metadata": {},
   "outputs": [],
   "source": [
    "test_qa_datasets = test_data_path / \"feibaoli_hybrid_eval_dataset50_zh.json\"\n",
    "\n",
    "with open(test_qa_datasets, \"w\") as f:\n",
    "    json.dump(eval_dataset_zh.model_dump(), f, indent=4, ensure_ascii=False)"
   ]
  },
  {
   "cell_type": "code",
   "execution_count": 87,
   "metadata": {},
   "outputs": [],
   "source": [
    "metrics = [\"hit_rate\", \"mrr\", \"precision\", \"recall\", \"ap\", \"ndcg\"]\n",
    "retriever_evaluator = RetrieverEvaluator.from_metric_names(\n",
    "    metrics, retriever=fusion_retriever\n",
    ")"
   ]
  },
  {
   "cell_type": "code",
   "execution_count": 90,
   "metadata": {},
   "outputs": [
    {
     "name": "stderr",
     "output_type": "stream",
     "text": [
      "\u001b[32m2025-04-08 00:46:40.312\u001b[0m | \u001b[33m\u001b[1mWARNING \u001b[0m | \u001b[36mreadai.components.retrievers\u001b[0m:\u001b[36m_retrieve\u001b[0m:\u001b[36m553\u001b[0m - \u001b[33m\u001b[1mBM25Retriever does not support embeddings, skipping...\u001b[0m\n"
     ]
    },
    {
     "name": "stdout",
     "output_type": "stream",
     "text": [
      "4ec0062d-03f9-43cc-8f3a-e7ca0294d86e\n",
      "['e57510a9-e142-4b21-af6a-3eff2905ac1a']\n",
      "\u001b[1;3;34mRetrieving with query id None: 如果社会普遍鼓励直接表达需求而非压抑情感，这种文化转变可能对个人抑郁率和社会整体幸福感产生怎样的影响？\n",
      "\u001b[0m\u001b[1;3;38;5;200mRetrieved node with id, entering: 5ad7a402-1e1b-4000-ad21-e08140a6830b\n",
      "\u001b[0m\u001b[1;3;34mRetrieving with query id 5ad7a402-1e1b-4000-ad21-e08140a6830b: 如果社会普遍鼓励直接表达需求而非压抑情感，这种文化转变可能对个人抑郁率和社会整体幸福感产生怎样的影响？\n",
      "\u001b[0m\u001b[1;3;38;5;200mRetrieved node with id, entering: d98ee829-fcea-4589-8dfd-247a00974c25\n",
      "\u001b[0m\u001b[1;3;34mRetrieving with query id d98ee829-fcea-4589-8dfd-247a00974c25: 如果社会普遍鼓励直接表达需求而非压抑情感，这种文化转变可能对个人抑郁率和社会整体幸福感产生怎样的影响？\n",
      "\u001b[0m\u001b[1;3;38;5;200mRetrieved node with id, entering: 663f1c65-a3c6-473a-80a8-21dbbfee26fb\n",
      "\u001b[0m\u001b[1;3;34mRetrieving with query id 663f1c65-a3c6-473a-80a8-21dbbfee26fb: 如果社会普遍鼓励直接表达需求而非压抑情感，这种文化转变可能对个人抑郁率和社会整体幸福感产生怎样的影响？\n",
      "\u001b[0m\u001b[1;3;38;5;200mRetrieved node with id, entering: 971fe8a3-e056-4ea5-a27e-d8426dd9c0f7\n",
      "\u001b[0m\u001b[1;3;34mRetrieving with query id 971fe8a3-e056-4ea5-a27e-d8426dd9c0f7: 如果社会普遍鼓励直接表达需求而非压抑情感，这种文化转变可能对个人抑郁率和社会整体幸福感产生怎样的影响？\n",
      "\u001b[0mQuery: 如果社会普遍鼓励直接表达需求而非压抑情感，这种文化转变可能对个人抑郁率和社会整体幸福感产生怎样的影响？\n",
      "Metrics: {'hit_rate': 0.0, 'mrr': 0.0, 'precision': 0.0, 'recall': 0.0, 'ap': 0.0, 'ndcg': 0.0}\n",
      "\n"
     ]
    }
   ],
   "source": [
    "sample_id, sample_query = list(eval_dataset_zh.queries.items())[1]\n",
    "print(sample_id)\n",
    "sample_expected = eval_dataset_zh.relevant_docs[sample_id]\n",
    "print(sample_expected)\n",
    "eval_result = retriever_evaluator.evaluate(sample_query, sample_expected)\n",
    "print(eval_result)"
   ]
  },
  {
   "cell_type": "code",
   "execution_count": 91,
   "metadata": {},
   "outputs": [
    {
     "name": "stderr",
     "output_type": "stream",
     "text": [
      "\u001b[32m2025-04-08 00:46:47.531\u001b[0m | \u001b[33m\u001b[1mWARNING \u001b[0m | \u001b[36mreadai.components.retrievers\u001b[0m:\u001b[36m_retrieve\u001b[0m:\u001b[36m553\u001b[0m - \u001b[33m\u001b[1mBM25Retriever does not support embeddings, skipping...\u001b[0m\n"
     ]
    },
    {
     "name": "stdout",
     "output_type": "stream",
     "text": [
      "\u001b[1;3;34mRetrieving with query id None: 如果社会普遍鼓励直接表达需求而非压抑情感，这种文化转变可能对个人抑郁率和社会整体幸福感产生怎样的影响？\n",
      "\u001b[0m\u001b[1;3;38;5;200mRetrieved node with id, entering: 5ad7a402-1e1b-4000-ad21-e08140a6830b\n",
      "\u001b[0m\u001b[1;3;34mRetrieving with query id 5ad7a402-1e1b-4000-ad21-e08140a6830b: 如果社会普遍鼓励直接表达需求而非压抑情感，这种文化转变可能对个人抑郁率和社会整体幸福感产生怎样的影响？\n",
      "\u001b[0m\u001b[1;3;38;5;200mRetrieved node with id, entering: d98ee829-fcea-4589-8dfd-247a00974c25\n",
      "\u001b[0m\u001b[1;3;34mRetrieving with query id d98ee829-fcea-4589-8dfd-247a00974c25: 如果社会普遍鼓励直接表达需求而非压抑情感，这种文化转变可能对个人抑郁率和社会整体幸福感产生怎样的影响？\n",
      "\u001b[0m\u001b[1;3;38;5;200mRetrieved node with id, entering: 663f1c65-a3c6-473a-80a8-21dbbfee26fb\n",
      "\u001b[0m\u001b[1;3;34mRetrieving with query id 663f1c65-a3c6-473a-80a8-21dbbfee26fb: 如果社会普遍鼓励直接表达需求而非压抑情感，这种文化转变可能对个人抑郁率和社会整体幸福感产生怎样的影响？\n",
      "\u001b[0m\u001b[1;3;38;5;200mRetrieved node with id, entering: 971fe8a3-e056-4ea5-a27e-d8426dd9c0f7\n",
      "\u001b[0m\u001b[1;3;34mRetrieving with query id 971fe8a3-e056-4ea5-a27e-d8426dd9c0f7: 如果社会普遍鼓励直接表达需求而非压抑情感，这种文化转变可能对个人抑郁率和社会整体幸福感产生怎样的影响？\n",
      "\u001b[0m如果社会普遍鼓励直接表达需求而非压抑情感，这种文化转变可能对个人抑郁率和社会整体幸福感产生以下影响：\n",
      "\n",
      "1. 个人层面：\n",
      "- 抑郁症状可能减轻，因为个体不再需要通过\"辩护式\"表达来证明自己需求的合理性\n",
      "- 减少因长期情感压抑导致的心理健康问题，如案例中女性通过冗长辩解才能提出简单请求的情况\n",
      "- 增强自我价值感，人们会更相信自己的需求本身就值得被关注\n",
      "\n",
      "2. 互动关系层面：\n",
      "- 改善沟通效果，如同工作坊案例所示，表达脆弱反而可能获得理解而非攻击\n",
      "- 减少防御性反应，当请求不再被当作要求时，双方都更愿意回应彼此\n",
      "- 建立更真诚的连接，类似教师表达紧张后与学生关系改善的案例\n",
      "\n",
      "3. 社会文化层面：\n",
      "- 可能降低整体社会焦虑水平，减少因\"应该\"\"必须\"等强制性思维带来的压力\n",
      "- 促进更健康的社会角色认知，特别是改变传统性别角色期待\n",
      "- 培养更具同理心的社会环境，当表达脆弱不再被视为弱点时\n",
      "\n",
      "这种转变初期可能面临挑战，比如需要重新学习表达方式，但长期来看有助于建立更真实、更少防御的人际互动模式。\n"
     ]
    }
   ],
   "source": [
    "response = query_engine.query(sample_query)\n",
    "print(response)"
   ]
  },
  {
   "cell_type": "markdown",
   "metadata": {},
   "source": [
    "#### 检测query生成质量"
   ]
  },
  {
   "cell_type": "code",
   "execution_count": 92,
   "metadata": {},
   "outputs": [],
   "source": [
    "def get_node_by_query_id(dataset: EmbeddingQAFinetuneDataset, query_id):\n",
    "    \"\"\"根据query_id查找对应的节点ID和文本内容\n",
    "\n",
    "    参数:\n",
    "        dataset: 生成的数据集对象\n",
    "        query_id: 问题的唯一标识\n",
    "\n",
    "    返回:\n",
    "        包含节点ID和文本内容的字典列表\n",
    "    \"\"\"\n",
    "    # 检查query_id是否存在\n",
    "    if query_id not in dataset.relevant_docs:\n",
    "        print(f\"query_id {query_id} not in dataset.relevant_docs\")\n",
    "        return []\n",
    "\n",
    "    print(f\"query_id {query_id} in dataset.relevant_docs\")\n",
    "    # 输出query_id对应的query\n",
    "    print(f\"对应的query: {dataset.queries[query_id]}\")\n",
    "\n",
    "    # 获取相关节点ID列表\n",
    "    node_ids = dataset.relevant_docs[query_id]\n",
    "\n",
    "    # 构建结果\n",
    "    results = []\n",
    "    for node_id in node_ids:\n",
    "        if node_id in dataset.corpus:\n",
    "            results.append({\"node_id\": node_id, \"text\": dataset.corpus[node_id]})\n",
    "\n",
    "    print(\"该测试query相关的节点以及内容如下：\")\n",
    "    for node in results:\n",
    "        print(f\"节点ID: {node['node_id']}\")\n",
    "        print(f\"节点内容: {node['text']}\")\n",
    "    return results\n"
   ]
  },
  {
   "cell_type": "code",
   "execution_count": 94,
   "metadata": {},
   "outputs": [
    {
     "name": "stdout",
     "output_type": "stream",
     "text": [
      "query_id 4ec0062d-03f9-43cc-8f3a-e7ca0294d86e in dataset.relevant_docs\n",
      "对应的query: 如果社会普遍鼓励直接表达需求而非压抑情感，这种文化转变可能对个人抑郁率和社会整体幸福感产生怎样的影响？\n",
      "该测试query相关的节点以及内容如下：\n",
      "节点ID: e57510a9-e142-4b21-af6a-3eff2905ac1a\n",
      "节点内容: 相反，我们被教育成乖孩子、好妈妈、好爸爸。如果我们要成为那样的好人，就得习惯压抑自己。抑郁，是我们做一个“好人”的“代价”。如果你想要让自己好起来，我希望你能清楚地说出，为了让你的生活变得美好，你希望他人做些什么。 来访者：我只是希望有人能爱我。这并非完全不现实，不是吗？ 马歇尔：这是个好的开始。现在我想请你清晰地说出，他人怎么做才能满足你爱的需要？例如，我此刻可以做些什么？ 来访者：哦，你知道的…… 马歇尔：我不确定我知道。我想请你告诉我，为了让你得到你想要的爱，你希望我或者他人怎样做？ 来访者：这很难说清楚。 马歇尔：是的，提出清晰的请求是困难的。但是请想一想，如果我们讲不清楚自己想要什么，别人要回应我们的请求该会有多困难！ 来访者：我开始明白，我希望别人做什么来爱我了。不过，我不太好意思说出来。 马歇尔：是的，这经常是令人尴尬的。那么，你希望我或者他人怎么做？ 来访者：我认真思考了，当我说希望得到爱时，我实际想要的是，即使我还不知道我的需要，你也能猜到我想要什么，并且我希望你一直都这样。 马歇尔：我很感激你做了澄清，我也希望你已经明白了，找到这样一个人用这样的方式来爱你是不可能的。 经过这样的对话，许多来访者才发现，他们之所以感到沮丧和压抑，很大程度上是因为他们不清楚自己希望他人如何来满足自己的需要。 有意识地提出请求 有的时候，表达清晰的请求也许无需过多言语。例如，你正在厨房里，在客厅看电视的妹妹喊道：“我口渴。”在这种情况下，多半她在请求你给她从厨房倒一杯水。 但有时，我们在表达自己的不快时，却误以为对方能明白我们想要什么。例如，一位妻子对丈夫说：“我不是让你在路上带一些黄油和洋葱回来吗？你怎么忘记了？真气人！”也许，妻子的意思是希望丈夫再去一趟商店买东西，但丈夫却很有可能将太太的话视作对他的指责。如果我们只是表达自己的感受，别人可能并不清楚我们想要他们做什么。 更为常见的是，我们对提出什么样的请求缺乏意识。我们和他人说话或者谈论事情，却并不知道如何开展一场对话。\n"
     ]
    }
   ],
   "source": [
    "query_id = \"4ec0062d-03f9-43cc-8f3a-e7ca0294d86e\"\n",
    "res_nodes = get_node_by_query_id(eval_dataset_zh, query_id)"
   ]
  },
  {
   "cell_type": "code",
   "execution_count": 316,
   "metadata": {},
   "outputs": [
    {
     "name": "stdout",
     "output_type": "stream",
     "text": [
      "生成query： ##任务：根据以下书籍片段内容，生成具有多维度的讨论性和理解性问题，帮助用户深入理解该段内容。\n",
      "##Examples:\n",
      "\n",
      "input_case1:\n",
      "上下文内容：\n",
      "---------------------\n",
      "在《论语》中，孔子提出了“仁”的概念，认为“仁”是人与人之间相互关爱、尊重和理解的基础。他强调，只有具备“仁”的品质，才能真正实现社会的和谐与稳定。\n",
      "---------------------\n",
      "请根据上下文生成2个问题\n",
      "output:\n",
      "孔子所倡导的“仁”在现代社会中具有怎样的现实意义？\n",
      "如何理解“仁”是实现社会和谐与稳定的基础？\n",
      "\n",
      "input_case2:\n",
      "上下文内容：\n",
      "---------------------\n",
      "《物种起源》中，达尔文提出了自然选择学说，认为生物的进化是通过自然选择的过程实现的。他指出，适应环境的个体更容易生存和繁衍后代，从而推动了物种的进化。\n",
      "---------------------\n",
      "请根据上下文生成1个问题\n",
      "output:\n",
      "适应环境的个体更容易生存和繁衍后代，这一观点如何解释生物多样性的形成？\n",
      "\n",
      "##下面是用户输入：\n",
      "上下文内容：\n",
      "---------------------\n",
      "我记得最后一天开车回家的路上，我和自己说：“这辈子再也不想身处这样的冲突中了。” 没想到一进家门，我就看到孩子们正在打架。那时，我已经没有力气去同理他们了，便用非暴力沟通的方式大声地呐喊道：“我现在很难受！真的不想来管你们打架的事情，我只想要安静一会儿！”听到这番话，我年仅9岁的大儿子停了下来，看着我问道：“你愿意和我们说说吗？” 我发现，如果我们能坦诚并且不带指责地谈论自己的痛苦，即使对方也处于苦痛之中，有时也能够听见我们的需要。在前述的例子中，我不想冲着孩子大喊：“这怎么回事？你们就不能乖一点吗？我在外面辛苦了一整天才回到家啊！”我也不想用任何其他方式来暗示对方错了。“非暴力呐喊”就是提醒他人注意我在当下的痛苦和迫切的需要。 不过，如果对方也处于强烈的情绪中，无法听见我们，也不肯放过我们，而同时，同理“急救”和“非暴力呐喊”都无法帮助我们的话，我们的另一种选择就是：暂时离开现场，得到自己所需的同理心，等到心境调整好了之后再回去。 小结 所谓“同理”就是带着尊重来理解他人的经历。我们常常有强烈的冲动想给他人建议或安慰，或是解释自己的立场和感受。同理则邀请我们清空先入为主的想法，全身心地聆听他人。 活在非暴力沟通中意味着，不论他人用什么样的言辞来表达自己，我们都只是聆听他们的观察、感受、需要和请求。接着，我们可以选择反馈他们的意思、复述我们的理解。此外，持续地同理让他人有机会充分表达自己，当他人感到被充分理解后，我们再来关注解决方案或提出请求。 我们自己也需要获得同理才能更好地同理他人。当意识到自己处于辩解防卫的状态或痛苦得无法同理他人时，我们可以选择（1）停顿，深呼吸，同理自己；（2）“非暴力呐喊”；（3）离开现场。 非暴力沟通实例 一位丈夫在临死前与太太的对话 一位病人被诊断为肺癌晚期。在他被送往医院前，这是他最后一次有机会和妻子建立情感上的连结，并且谈论他的死亡。现场还有协助他的护士。谈话一开始，妻子就向护士抱怨护理先生的一位理疗师。 妻子：这位治疗师很差劲。\n",
      "---------------------\n",
      "请根据上下文生成5个问题，要求问题至少涉及以下其中一个方面，问题字数长度在100字以内：\n",
      "1. 片段的核心概念、观点、情节或事件。\n",
      "2. 作者的意图或观点背后的逻辑推理。\n",
      "3. 对该段内容的分析、批判或反思。\n",
      "4. 如果有相关的背景知识或隐含信息，探讨它们的影响。\n",
      "5. 生成至少一个假设性问题或假设情境，探索不同的可能性。\n",
      "6. 比较该段内容与其他类似情节或观点的异同。\n",
      "\n",
      "##格式要求：请参考上面的例子格式生成问题，尽量不携带数字编号并且只需要输出问题，多个问题分行输出即可\n",
      "##输出：\n",
      "\n",
      "生成的问题：\n",
      "\n",
      "“非暴力呐喊”与传统沟通方式相比，在解决家庭冲突时有哪些独特的优势和局限性？  \n",
      "当作者选择“暂时离开现场”时，这种策略可能对孩子的情绪发展产生哪些潜在影响？  \n",
      "在临终对话的案例中，妻子抱怨理疗师的行为如何反映了人们在面对痛苦时的常见防御机制？  \n",
      "假设孩子并未对“非暴力呐喊”作出积极回应，作者还可能采取哪些符合非暴力沟通原则的后续行动？  \n",
      "如何理解“我们需要获得同理才能更好地同理他人”这一观点在心理咨询或教育领域的实践意义？\n"
     ]
    }
   ],
   "source": [
    "# 对单个节点生成query\n",
    "num_questions_per_chunk = 5\n",
    "for node in res_nodes:\n",
    "    query = QA_GENERATE_PROMPT_TMPL_ZH.format(\n",
    "        context_str=node[\"text\"], num_questions_per_chunk=num_questions_per_chunk\n",
    "    )\n",
    "    print(\"生成query：\", query)\n",
    "    response = llm.complete(query)\n",
    "    # result = str(response).strip()\n",
    "    result = str(response).strip().split(\"\\n\")\n",
    "    print(\"生成的问题：\\n\")\n",
    "    for question in result:\n",
    "        print(question)"
   ]
  },
  {
   "cell_type": "markdown",
   "metadata": {},
   "source": [
    "### 全测试集评估"
   ]
  },
  {
   "cell_type": "code",
   "execution_count": 326,
   "metadata": {},
   "outputs": [
    {
     "name": "stderr",
     "output_type": "stream",
     "text": [
      "  0%|          | 0/100 [00:00<?, ?it/s]\u001b[32m2025-04-07 22:45:37.036\u001b[0m | \u001b[33m\u001b[1mWARNING \u001b[0m | \u001b[36mreadai.components.retrievers\u001b[0m:\u001b[36m_retrieve\u001b[0m:\u001b[36m554\u001b[0m - \u001b[33m\u001b[1mBM25Retriever does not support embeddings, skipping...\u001b[0m\n",
      "\u001b[32m2025-04-07 22:45:37.100\u001b[0m | \u001b[33m\u001b[1mWARNING \u001b[0m | \u001b[36mreadai.components.retrievers\u001b[0m:\u001b[36m_retrieve\u001b[0m:\u001b[36m554\u001b[0m - \u001b[33m\u001b[1mBM25Retriever does not support embeddings, skipping...\u001b[0m\n"
     ]
    },
    {
     "name": "stdout",
     "output_type": "stream",
     "text": [
      "\u001b[1;3;34mRetrieving with query id None: 在非暴力沟通教学中，作者隐藏不安情绪反而导致学生误解其种族态度，这一案例如何说明\"压抑感受\"与\"误解产生\"之间的因果关系？如果作者一开始就坦诚紧张情绪，课堂互动可能会如何不同？\n",
      "\u001b[0m\u001b[1;3;38;5;200mRetrieved node with id, entering: 498020ff-519a-41df-ad64-50f31f731eb4\n",
      "\u001b[0m\u001b[1;3;34mRetrieving with query id 498020ff-519a-41df-ad64-50f31f731eb4: 在非暴力沟通教学中，作者隐藏不安情绪反而导致学生误解其种族态度，这一案例如何说明\"压抑感受\"与\"误解产生\"之间的因果关系？如果作者一开始就坦诚紧张情绪，课堂互动可能会如何不同？\n",
      "\u001b[0m\u001b[1;3;34mRetrieving with query id None: 如果\"小我\"的消融真如文中所说是通过深度满足实现的，那么现代社会中追求物质成功的普遍价值观是否与实现\"非暴力Ahimsa\"存在根本矛盾？这种矛盾该如何调和？\n",
      "\u001b[0m\u001b[1;3;38;5;200mRetrieved node with id, entering: 7d27a3b7-85c9-4458-a3c0-015e1ed33ab6\n",
      "\u001b[0m\u001b[1;3;34mRetrieving with query id 7d27a3b7-85c9-4458-a3c0-015e1ed33ab6: 如果\"小我\"的消融真如文中所说是通过深度满足实现的，那么现代社会中追求物质成功的普遍价值观是否与实现\"非暴力Ahimsa\"存在根本矛盾？这种矛盾该如何调和？\n",
      "\u001b[0m\u001b[1;3;34mRetrieving with query id None: \"不带评论的观察\"这一概念在人际沟通或科学研究中如何帮助我们更客观地理解事实？\n",
      "\u001b[0m"
     ]
    },
    {
     "name": "stderr",
     "output_type": "stream",
     "text": [
      "\u001b[32m2025-04-07 22:45:37.160\u001b[0m | \u001b[33m\u001b[1mWARNING \u001b[0m | \u001b[36mreadai.components.retrievers\u001b[0m:\u001b[36m_retrieve\u001b[0m:\u001b[36m554\u001b[0m - \u001b[33m\u001b[1mBM25Retriever does not support embeddings, skipping...\u001b[0m\n",
      "  1%|          | 1/100 [00:00<00:22,  4.39it/s]\u001b[32m2025-04-07 22:45:37.207\u001b[0m | \u001b[33m\u001b[1mWARNING \u001b[0m | \u001b[36mreadai.components.retrievers\u001b[0m:\u001b[36m_retrieve\u001b[0m:\u001b[36m554\u001b[0m - \u001b[33m\u001b[1mBM25Retriever does not support embeddings, skipping...\u001b[0m\n",
      "\u001b[32m2025-04-07 22:45:37.259\u001b[0m | \u001b[33m\u001b[1mWARNING \u001b[0m | \u001b[36mreadai.components.retrievers\u001b[0m:\u001b[36m_retrieve\u001b[0m:\u001b[36m554\u001b[0m - \u001b[33m\u001b[1mBM25Retriever does not support embeddings, skipping...\u001b[0m\n",
      "\u001b[32m2025-04-07 22:45:37.312\u001b[0m | \u001b[33m\u001b[1mWARNING \u001b[0m | \u001b[36mreadai.components.retrievers\u001b[0m:\u001b[36m_retrieve\u001b[0m:\u001b[36m554\u001b[0m - \u001b[33m\u001b[1mBM25Retriever does not support embeddings, skipping...\u001b[0m\n"
     ]
    },
    {
     "name": "stdout",
     "output_type": "stream",
     "text": [
      "\u001b[1;3;38;5;200mRetrieved node with id, entering: 4d96d8e2-83d3-4d7e-bbea-d83cfe6736e2\n",
      "\u001b[0m\u001b[1;3;34mRetrieving with query id 4d96d8e2-83d3-4d7e-bbea-d83cfe6736e2: \"不带评论的观察\"这一概念在人际沟通或科学研究中如何帮助我们更客观地理解事实？\n",
      "\u001b[0m\u001b[1;3;38;5;200mRetrieved node with id, entering: 92a28caa-a34b-44d1-89d4-67385634d051\n",
      "\u001b[0m\u001b[1;3;34mRetrieving with query id 92a28caa-a34b-44d1-89d4-67385634d051: \"不带评论的观察\"这一概念在人际沟通或科学研究中如何帮助我们更客观地理解事实？\n",
      "\u001b[0m\u001b[1;3;38;5;200mRetrieved node with id, entering: 70b4fe18-114b-46da-a5f3-9b099742bcea\n",
      "\u001b[0m\u001b[1;3;34mRetrieving with query id 70b4fe18-114b-46da-a5f3-9b099742bcea: \"不带评论的观察\"这一概念在人际沟通或科学研究中如何帮助我们更客观地理解事实？\n",
      "\u001b[0m\u001b[1;3;34mRetrieving with query id None: 如何区分观察与评论，以及这种区分在有效沟通中的重要性是什么？\n",
      "\u001b[0m\u001b[1;3;38;5;200mRetrieved node with id, entering: 9b0ac4ef-7982-48f3-9295-92499d63a44f\n",
      "\u001b[0m\u001b[1;3;34mRetrieving with query id 9b0ac4ef-7982-48f3-9295-92499d63a44f: 如何区分观察与评论，以及这种区分在有效沟通中的重要性是什么？\n",
      "\u001b[0m\u001b[1;3;38;5;200mRetrieved node with id, entering: 4d96d8e2-83d3-4d7e-bbea-d83cfe6736e2\n",
      "\u001b[0m\u001b[1;3;34mRetrieving with query id 4d96d8e2-83d3-4d7e-bbea-d83cfe6736e2: 如何区分观察与评论，以及这种区分在有效沟通中的重要性是什么？\n",
      "\u001b[0m\u001b[1;3;34mRetrieving with query id None: 如果完全摒弃主观评论进行观察，可能会遇到哪些实践中的挑战或认知局限？\n",
      "\u001b[0m\u001b[1;3;38;5;200mRetrieved node with id, entering: 92a28caa-a34b-44d1-89d4-67385634d051\n",
      "\u001b[0m\u001b[1;3;34mRetrieving with query id 92a28caa-a34b-44d1-89d4-67385634d051: 如果完全摒弃主观评论进行观察，可能会遇到哪些实践中的挑战或认知局限？\n",
      "\u001b[0m\u001b[1;3;38;5;200mRetrieved node with id, entering: 70b4fe18-114b-46da-a5f3-9b099742bcea\n",
      "\u001b[0m\u001b[1;3;34mRetrieving with query id 70b4fe18-114b-46da-a5f3-9b099742bcea: 如果完全摒弃主观评论进行观察，可能会遇到哪些实践中的挑战或认知局限？\n",
      "\u001b[0m\u001b[1;3;38;5;200mRetrieved node with id, entering: 4d96d8e2-83d3-4d7e-bbea-d83cfe6736e2\n",
      "\u001b[0m\u001b[1;3;34mRetrieving with query id 4d96d8e2-83d3-4d7e-bbea-d83cfe6736e2: 如果完全摒弃主观评论进行观察，可能会遇到哪些实践中的挑战或认知局限？\n",
      "\u001b[0m\u001b[1;3;34mRetrieving with query id None: 面具的意象在诗中象征着什么，作者通过“没有脸孔”这一描述试图传达怎样的深层含义？\n",
      "\u001b[0m\u001b[1;3;38;5;200mRetrieved node with id, entering: b4742ff9-c2ca-4c6c-8d36-b4d359975367\n",
      "\u001b[0m\u001b[1;3;34mRetrieving with query id b4742ff9-c2ca-4c6c-8d36-b4d359975367: 面具的意象在诗中象征着什么，作者通过“没有脸孔”这一描述试图传达怎样的深层含义？\n",
      "\u001b[0m\u001b[1;3;34mRetrieving with query id None: \"爱自己\"这一概念在不同文化或哲学体系中可能存在哪些不同的理解和实践方式？\n",
      "\u001b[0m"
     ]
    },
    {
     "name": "stderr",
     "output_type": "stream",
     "text": [
      "\u001b[32m2025-04-07 22:45:37.363\u001b[0m | \u001b[33m\u001b[1mWARNING \u001b[0m | \u001b[36mreadai.components.retrievers\u001b[0m:\u001b[36m_retrieve\u001b[0m:\u001b[36m554\u001b[0m - \u001b[33m\u001b[1mBM25Retriever does not support embeddings, skipping...\u001b[0m\n",
      "  5%|▌         | 5/100 [00:00<00:07, 11.96it/s]\u001b[32m2025-04-07 22:45:37.452\u001b[0m | \u001b[33m\u001b[1mWARNING \u001b[0m | \u001b[36mreadai.components.retrievers\u001b[0m:\u001b[36m_retrieve\u001b[0m:\u001b[36m554\u001b[0m - \u001b[33m\u001b[1mBM25Retriever does not support embeddings, skipping...\u001b[0m\n",
      "\u001b[32m2025-04-07 22:45:37.506\u001b[0m | \u001b[33m\u001b[1mWARNING \u001b[0m | \u001b[36mreadai.components.retrievers\u001b[0m:\u001b[36m_retrieve\u001b[0m:\u001b[36m554\u001b[0m - \u001b[33m\u001b[1mBM25Retriever does not support embeddings, skipping...\u001b[0m\n",
      "  7%|▋         | 7/100 [00:00<00:06, 13.71it/s]\u001b[32m2025-04-07 22:45:37.553\u001b[0m | \u001b[33m\u001b[1mWARNING \u001b[0m | \u001b[36mreadai.components.retrievers\u001b[0m:\u001b[36m_retrieve\u001b[0m:\u001b[36m554\u001b[0m - \u001b[33m\u001b[1mBM25Retriever does not support embeddings, skipping...\u001b[0m\n"
     ]
    },
    {
     "name": "stdout",
     "output_type": "stream",
     "text": [
      "\u001b[1;3;38;5;200mRetrieved node with id, entering: f94fdd72-0186-4868-b0b0-25e828667b1f\n",
      "\u001b[0m\u001b[1;3;34mRetrieving with query id f94fdd72-0186-4868-b0b0-25e828667b1f: \"爱自己\"这一概念在不同文化或哲学体系中可能存在哪些不同的理解和实践方式？\n",
      "\u001b[0m\u001b[1;3;38;5;200mRetrieved node with id, entering: 8fa18fba-2938-4cfc-b594-65906a4af024\n",
      "\u001b[0m\u001b[1;3;34mRetrieving with query id 8fa18fba-2938-4cfc-b594-65906a4af024: \"爱自己\"这一概念在不同文化或哲学体系中可能存在哪些不同的理解和实践方式？\n",
      "\u001b[0m\u001b[1;3;38;5;200mRetrieved node with id, entering: 9666f8c9-f02c-4169-b6c4-8f73ed226984\n",
      "\u001b[0m\u001b[1;3;34mRetrieving with query id 9666f8c9-f02c-4169-b6c4-8f73ed226984: \"爱自己\"这一概念在不同文化或哲学体系中可能存在哪些不同的理解和实践方式？\n",
      "\u001b[0m\u001b[1;3;34mRetrieving with query id None: 为什么作者选择在作品中单独设置“致谢”部分，这种安排反映了怎样的创作意图或文化惯例？\n",
      "\u001b[0m\u001b[1;3;38;5;200mRetrieved node with id, entering: b49e4124-e047-4778-9f38-c39769a94c63\n",
      "\u001b[0m\u001b[1;3;34mRetrieving with query id b49e4124-e047-4778-9f38-c39769a94c63: 为什么作者选择在作品中单独设置“致谢”部分，这种安排反映了怎样的创作意图或文化惯例？\n",
      "\u001b[0m\u001b[1;3;38;5;200mRetrieved node with id, entering: 5cebdaa1-6928-402b-b53f-73e4261a450f\n",
      "\u001b[0m\u001b[1;3;34mRetrieving with query id 5cebdaa1-6928-402b-b53f-73e4261a450f: 为什么作者选择在作品中单独设置“致谢”部分，这种安排反映了怎样的创作意图或文化惯例？\n",
      "\u001b[0m\u001b[1;3;38;5;200mRetrieved node with id, entering: 43b8947c-7263-4614-9333-fb789982db29\n",
      "\u001b[0m\u001b[1;3;34mRetrieving with query id 43b8947c-7263-4614-9333-fb789982db29: 为什么作者选择在作品中单独设置“致谢”部分，这种安排反映了怎样的创作意图或文化惯例？\n",
      "\u001b[0m\u001b[1;3;34mRetrieving with query id None: 如果一个人过度强调\"爱自己\"，是否可能导致自私或忽视他人需求的潜在风险？如何平衡这种关系？\n",
      "\u001b[0m\u001b[1;3;38;5;200mRetrieved node with id, entering: 8fa18fba-2938-4cfc-b594-65906a4af024\n",
      "\u001b[0m\u001b[1;3;34mRetrieving with query id 8fa18fba-2938-4cfc-b594-65906a4af024: 如果一个人过度强调\"爱自己\"，是否可能导致自私或忽视他人需求的潜在风险？如何平衡这种关系？\n",
      "\u001b[0m\u001b[1;3;38;5;200mRetrieved node with id, entering: 964db3d8-a223-45d6-aba6-aa5a491e80a0\n",
      "\u001b[0m\u001b[1;3;34mRetrieving with query id 964db3d8-a223-45d6-aba6-aa5a491e80a0: 如果一个人过度强调\"爱自己\"，是否可能导致自私或忽视他人需求的潜在风险？如何平衡这种关系？\n",
      "\u001b[0m\u001b[1;3;38;5;200mRetrieved node with id, entering: d67a56ae-59de-4339-9307-bb51170ce4ba\n",
      "\u001b[0m\u001b[1;3;34mRetrieving with query id d67a56ae-59de-4339-9307-bb51170ce4ba: 如果一个人过度强调\"爱自己\"，是否可能导致自私或忽视他人需求的潜在风险？如何平衡这种关系？\n",
      "\u001b[0m\u001b[1;3;34mRetrieving with query id None: 如果将“致谢”部分的内容完全删除，会对读者理解全书或作者的立场产生哪些潜在影响？\n",
      "\u001b[0m\u001b[1;3;38;5;200mRetrieved node with id, entering: 0f904aa9-c439-426f-af8d-72f7f84df764\n",
      "\u001b[0m\u001b[1;3;34mRetrieving with query id 0f904aa9-c439-426f-af8d-72f7f84df764: 如果将“致谢”部分的内容完全删除，会对读者理解全书或作者的立场产生哪些潜在影响？\n",
      "\u001b[0m\u001b[1;3;38;5;200mRetrieved node with id, entering: 51962b79-31c8-4a59-b10c-b8f9bacd368f\n",
      "\u001b[0m\u001b[1;3;34mRetrieving with query id 51962b79-31c8-4a59-b10c-b8f9bacd368f: 如果将“致谢”部分的内容完全删除，会对读者理解全书或作者的立场产生哪些潜在影响？\n",
      "\u001b[0m\u001b[1;3;38;5;200mRetrieved node with id, entering: f94fdd72-0186-4868-b0b0-25e828667b1f\n",
      "\u001b[0m\u001b[1;3;34mRetrieving with query id f94fdd72-0186-4868-b0b0-25e828667b1f: 如果将“致谢”部分的内容完全删除，会对读者理解全书或作者的立场产生哪些潜在影响？\n",
      "\u001b[0m\u001b[1;3;38;5;200mRetrieved node with id, entering: 60ac0495-f29d-401c-83ae-2489557bc4f5\n",
      "\u001b[0m\u001b[1;3;34mRetrieving with query id 60ac0495-f29d-401c-83ae-2489557bc4f5: 如果将“致谢”部分的内容完全删除，会对读者理解全书或作者的立场产生哪些潜在影响？\n",
      "\u001b[0m\u001b[1;3;34mRetrieving with query id None: 非暴力沟通中\"同理心\"如何在不同权力关系中（如师生、上下级）产生双向疗愈效果，而非单向疏导？\n",
      "\u001b[0m"
     ]
    },
    {
     "name": "stderr",
     "output_type": "stream",
     "text": [
      "\u001b[32m2025-04-07 22:45:37.604\u001b[0m | \u001b[33m\u001b[1mWARNING \u001b[0m | \u001b[36mreadai.components.retrievers\u001b[0m:\u001b[36m_retrieve\u001b[0m:\u001b[36m554\u001b[0m - \u001b[33m\u001b[1mBM25Retriever does not support embeddings, skipping...\u001b[0m\n",
      "\u001b[32m2025-04-07 22:45:37.654\u001b[0m | \u001b[33m\u001b[1mWARNING \u001b[0m | \u001b[36mreadai.components.retrievers\u001b[0m:\u001b[36m_retrieve\u001b[0m:\u001b[36m554\u001b[0m - \u001b[33m\u001b[1mBM25Retriever does not support embeddings, skipping...\u001b[0m\n",
      "\u001b[32m2025-04-07 22:45:37.705\u001b[0m | \u001b[33m\u001b[1mWARNING \u001b[0m | \u001b[36mreadai.components.retrievers\u001b[0m:\u001b[36m_retrieve\u001b[0m:\u001b[36m554\u001b[0m - \u001b[33m\u001b[1mBM25Retriever does not support embeddings, skipping...\u001b[0m\n",
      " 11%|█         | 11/100 [00:00<00:05, 16.35it/s]\u001b[32m2025-04-07 22:45:37.756\u001b[0m | \u001b[33m\u001b[1mWARNING \u001b[0m | \u001b[36mreadai.components.retrievers\u001b[0m:\u001b[36m_retrieve\u001b[0m:\u001b[36m554\u001b[0m - \u001b[33m\u001b[1mBM25Retriever does not support embeddings, skipping...\u001b[0m\n"
     ]
    },
    {
     "name": "stdout",
     "output_type": "stream",
     "text": [
      "\u001b[1;3;38;5;200mRetrieved node with id, entering: 6b821040-60a2-4214-8601-8797f121f78a\n",
      "\u001b[0m\u001b[1;3;34mRetrieving with query id 6b821040-60a2-4214-8601-8797f121f78a: 非暴力沟通中\"同理心\"如何在不同权力关系中（如师生、上下级）产生双向疗愈效果，而非单向疏导？\n",
      "\u001b[0m\u001b[1;3;38;5;200mRetrieved node with id, entering: 78366c1a-3949-4a5d-ac98-42d7bafbc346\n",
      "\u001b[0m\u001b[1;3;34mRetrieving with query id 78366c1a-3949-4a5d-ac98-42d7bafbc346: 非暴力沟通中\"同理心\"如何在不同权力关系中（如师生、上下级）产生双向疗愈效果，而非单向疏导？\n",
      "\u001b[0m\u001b[1;3;34mRetrieving with query id None: 如何理解“非暴力沟通”中同理心的双向性——即当倾听者自身缺乏被理解时，为何难以有效给予他人同理？\n",
      "\u001b[0m\u001b[1;3;38;5;200mRetrieved node with id, entering: 9821a259-6e9e-400c-9d29-d23e905e3be5\n",
      "\u001b[0m\u001b[1;3;34mRetrieving with query id 9821a259-6e9e-400c-9d29-d23e905e3be5: 如何理解“非暴力沟通”中同理心的双向性——即当倾听者自身缺乏被理解时，为何难以有效给予他人同理？\n",
      "\u001b[0m\u001b[1;3;38;5;200mRetrieved node with id, entering: d5faf680-8bcf-4eb5-83f1-dbc1bead65b9\n",
      "\u001b[0m\u001b[1;3;34mRetrieving with query id d5faf680-8bcf-4eb5-83f1-dbc1bead65b9: 如何理解“非暴力沟通”中同理心的双向性——即当倾听者自身缺乏被理解时，为何难以有效给予他人同理？\n",
      "\u001b[0m\u001b[1;3;38;5;200mRetrieved node with id, entering: 78366c1a-3949-4a5d-ac98-42d7bafbc346\n",
      "\u001b[0m\u001b[1;3;34mRetrieving with query id 78366c1a-3949-4a5d-ac98-42d7bafbc346: 如何理解“非暴力沟通”中同理心的双向性——即当倾听者自身缺乏被理解时，为何难以有效给予他人同理？\n",
      "\u001b[0m\u001b[1;3;34mRetrieving with query id None: 当组织目标（如教学效率）与人性化沟通需求冲突时，如何用非暴力沟通技术平衡系主任的\"制度性焦虑\"与教师的\"教育者同理心\"？\n",
      "\u001b[0m\u001b[1;3;38;5;200mRetrieved node with id, entering: 6b821040-60a2-4214-8601-8797f121f78a\n",
      "\u001b[0m\u001b[1;3;34mRetrieving with query id 6b821040-60a2-4214-8601-8797f121f78a: 当组织目标（如教学效率）与人性化沟通需求冲突时，如何用非暴力沟通技术平衡系主任的\"制度性焦虑\"与教师的\"教育者同理心\"？\n",
      "\u001b[0m\u001b[1;3;38;5;200mRetrieved node with id, entering: e328992d-7516-4b5f-8231-f603590621ad\n",
      "\u001b[0m\u001b[1;3;34mRetrieving with query id e328992d-7516-4b5f-8231-f603590621ad: 当组织目标（如教学效率）与人性化沟通需求冲突时，如何用非暴力沟通技术平衡系主任的\"制度性焦虑\"与教师的\"教育者同理心\"？\n",
      "\u001b[0m\u001b[1;3;34mRetrieving with query id None: 在冲突调解场景中，若运用“非暴力呐喊”失败，还可能存在哪些替代性策略来保护自身情绪边界？\n",
      "\u001b[0m\u001b[1;3;38;5;200mRetrieved node with id, entering: 78366c1a-3949-4a5d-ac98-42d7bafbc346\n",
      "\u001b[0m\u001b[1;3;34mRetrieving with query id 78366c1a-3949-4a5d-ac98-42d7bafbc346: 在冲突调解场景中，若运用“非暴力呐喊”失败，还可能存在哪些替代性策略来保护自身情绪边界？\n",
      "\u001b[0m\u001b[1;3;38;5;200mRetrieved node with id, entering: 7170b0e8-8127-4660-9ac4-aa3a20e2b31a\n",
      "\u001b[0m\u001b[1;3;34mRetrieving with query id 7170b0e8-8127-4660-9ac4-aa3a20e2b31a: 在冲突调解场景中，若运用“非暴力呐喊”失败，还可能存在哪些替代性策略来保护自身情绪边界？\n",
      "\u001b[0m\u001b[1;3;38;5;200mRetrieved node with id, entering: 9821a259-6e9e-400c-9d29-d23e905e3be5\n",
      "\u001b[0m\u001b[1;3;34mRetrieving with query id 9821a259-6e9e-400c-9d29-d23e905e3be5: 在冲突调解场景中，若运用“非暴力呐喊”失败，还可能存在哪些替代性策略来保护自身情绪边界？\n",
      "\u001b[0m\u001b[1;3;34mRetrieving with query id None: 在情绪激烈的调解场景中，如何通过\"视觉化追踪\"（如白板记录）平衡双方表达需求与聆听的关系，避免对话陷入重复循环？\n",
      "\u001b[0m"
     ]
    },
    {
     "name": "stderr",
     "output_type": "stream",
     "text": [
      "\u001b[32m2025-04-07 22:45:37.812\u001b[0m | \u001b[33m\u001b[1mWARNING \u001b[0m | \u001b[36mreadai.components.retrievers\u001b[0m:\u001b[36m_retrieve\u001b[0m:\u001b[36m554\u001b[0m - \u001b[33m\u001b[1mBM25Retriever does not support embeddings, skipping...\u001b[0m\n",
      " 13%|█▎        | 13/100 [00:00<00:05, 16.81it/s]\u001b[32m2025-04-07 22:45:37.864\u001b[0m | \u001b[33m\u001b[1mWARNING \u001b[0m | \u001b[36mreadai.components.retrievers\u001b[0m:\u001b[36m_retrieve\u001b[0m:\u001b[36m554\u001b[0m - \u001b[33m\u001b[1mBM25Retriever does not support embeddings, skipping...\u001b[0m\n",
      "\u001b[32m2025-04-07 22:45:37.912\u001b[0m | \u001b[33m\u001b[1mWARNING \u001b[0m | \u001b[36mreadai.components.retrievers\u001b[0m:\u001b[36m_retrieve\u001b[0m:\u001b[36m554\u001b[0m - \u001b[33m\u001b[1mBM25Retriever does not support embeddings, skipping...\u001b[0m\n",
      "\u001b[32m2025-04-07 22:45:37.961\u001b[0m | \u001b[33m\u001b[1mWARNING \u001b[0m | \u001b[36mreadai.components.retrievers\u001b[0m:\u001b[36m_retrieve\u001b[0m:\u001b[36m554\u001b[0m - \u001b[33m\u001b[1mBM25Retriever does not support embeddings, skipping...\u001b[0m\n",
      "\u001b[32m2025-04-07 22:45:38.011\u001b[0m | \u001b[33m\u001b[1mWARNING \u001b[0m | \u001b[36mreadai.components.retrievers\u001b[0m:\u001b[36m_retrieve\u001b[0m:\u001b[36m554\u001b[0m - \u001b[33m\u001b[1mBM25Retriever does not support embeddings, skipping...\u001b[0m\n"
     ]
    },
    {
     "name": "stdout",
     "output_type": "stream",
     "text": [
      "\u001b[1;3;38;5;200mRetrieved node with id, entering: 238c40fc-8ca1-48ed-8505-22098147dbd3\n",
      "\u001b[0m\u001b[1;3;34mRetrieving with query id 238c40fc-8ca1-48ed-8505-22098147dbd3: 在情绪激烈的调解场景中，如何通过\"视觉化追踪\"（如白板记录）平衡双方表达需求与聆听的关系，避免对话陷入重复循环？\n",
      "\u001b[0m\u001b[1;3;38;5;200mRetrieved node with id, entering: b37fccca-7378-4a91-af6b-8f3c71a9e37f\n",
      "\u001b[0m\u001b[1;3;34mRetrieving with query id b37fccca-7378-4a91-af6b-8f3c71a9e37f: 在情绪激烈的调解场景中，如何通过\"视觉化追踪\"（如白板记录）平衡双方表达需求与聆听的关系，避免对话陷入重复循环？\n",
      "\u001b[0m\u001b[1;3;34mRetrieving with query id None: 父亲通过引导比尔反思行为后果而非直接批评，这种教育方式如何帮助孩子建立责任感？\n",
      "\u001b[0m\u001b[1;3;38;5;200mRetrieved node with id, entering: c4e5c4dc-e539-48af-ab8b-c59f8223cf68\n",
      "\u001b[0m\u001b[1;3;34mRetrieving with query id c4e5c4dc-e539-48af-ab8b-c59f8223cf68: 父亲通过引导比尔反思行为后果而非直接批评，这种教育方式如何帮助孩子建立责任感？\n",
      "\u001b[0m\u001b[1;3;38;5;200mRetrieved node with id, entering: 8e7580bd-69dc-4746-9197-d9a07578a25a\n",
      "\u001b[0m\u001b[1;3;34mRetrieving with query id 8e7580bd-69dc-4746-9197-d9a07578a25a: 父亲通过引导比尔反思行为后果而非直接批评，这种教育方式如何帮助孩子建立责任感？\n",
      "\u001b[0m\u001b[1;3;38;5;200mRetrieved node with id, entering: 836cd93a-6f22-4ca6-a179-c7e6a9b81e21\n",
      "\u001b[0m\u001b[1;3;34mRetrieving with query id 836cd93a-6f22-4ca6-a179-c7e6a9b81e21: 父亲通过引导比尔反思行为后果而非直接批评，这种教育方式如何帮助孩子建立责任感？\n",
      "\u001b[0m\u001b[1;3;34mRetrieving with query id None: 调解人强调\"聚焦当下\"的冲突化解理念，这与传统调解中过度追溯历史矛盾的倾向有何本质区别？这种差异如何影响调解效率？\n",
      "\u001b[0m\u001b[1;3;38;5;200mRetrieved node with id, entering: 238c40fc-8ca1-48ed-8505-22098147dbd3\n",
      "\u001b[0m\u001b[1;3;34mRetrieving with query id 238c40fc-8ca1-48ed-8505-22098147dbd3: 调解人强调\"聚焦当下\"的冲突化解理念，这与传统调解中过度追溯历史矛盾的倾向有何本质区别？这种差异如何影响调解效率？\n",
      "\u001b[0m\u001b[1;3;38;5;200mRetrieved node with id, entering: f9320e36-ce4a-499f-89af-3540e37ceb45\n",
      "\u001b[0m\u001b[1;3;34mRetrieving with query id f9320e36-ce4a-499f-89af-3540e37ceb45: 调解人强调\"聚焦当下\"的冲突化解理念，这与传统调解中过度追溯历史矛盾的倾向有何本质区别？这种差异如何影响调解效率？\n",
      "\u001b[0m\u001b[1;3;34mRetrieving with query id None: 如果比尔拒绝去见乔治并道歉，父亲可能会采取哪些不同的沟通策略来促进比尔的成长？\n",
      "\u001b[0m\u001b[1;3;38;5;200mRetrieved node with id, entering: 8e7580bd-69dc-4746-9197-d9a07578a25a\n",
      "\u001b[0m\u001b[1;3;34mRetrieving with query id 8e7580bd-69dc-4746-9197-d9a07578a25a: 如果比尔拒绝去见乔治并道歉，父亲可能会采取哪些不同的沟通策略来促进比尔的成长？\n",
      "\u001b[0m\u001b[1;3;38;5;200mRetrieved node with id, entering: 6b3a0301-f516-4b26-9a0c-45f02d404037\n",
      "\u001b[0m\u001b[1;3;34mRetrieving with query id 6b3a0301-f516-4b26-9a0c-45f02d404037: 如果比尔拒绝去见乔治并道歉，父亲可能会采取哪些不同的沟通策略来促进比尔的成长？\n",
      "\u001b[0m\u001b[1;3;38;5;200mRetrieved node with id, entering: 836cd93a-6f22-4ca6-a179-c7e6a9b81e21\n",
      "\u001b[0m\u001b[1;3;34mRetrieving with query id 836cd93a-6f22-4ca6-a179-c7e6a9b81e21: 如果比尔拒绝去见乔治并道歉，父亲可能会采取哪些不同的沟通策略来促进比尔的成长？\n",
      "\u001b[0m\u001b[1;3;34mRetrieving with query id None: 在非暴力沟通中，如何通过表达对方的感受和需求来化解潜在的暴力冲突？\n",
      "\u001b[0m\u001b[1;3;38;5;200mRetrieved node with id, entering: 8dc6ee1f-546f-4be0-b962-94be6d9ecfc0\n",
      "\u001b[0m\u001b[1;3;34mRetrieving with query id 8dc6ee1f-546f-4be0-b962-94be6d9ecfc0: 在非暴力沟通中，如何通过表达对方的感受和需求来化解潜在的暴力冲突？\n",
      "\u001b[0m\u001b[1;3;38;5;200mRetrieved node with id, entering: d1919700-ed29-4f1e-87c4-132889fe1b07\n",
      "\u001b[0m\u001b[1;3;34mRetrieving with query id d1919700-ed29-4f1e-87c4-132889fe1b07: 在非暴力沟通中，如何通过表达对方的感受和需求来化解潜在的暴力冲突？\n",
      "\u001b[0m\u001b[1;3;38;5;200mRetrieved node with id, entering: fa7e9267-527e-4cbb-89a4-ff9dac43eafc\n",
      "\u001b[0m\u001b[1;3;34mRetrieving with query id fa7e9267-527e-4cbb-89a4-ff9dac43eafc: 在非暴力沟通中，如何通过表达对方的感受和需求来化解潜在的暴力冲突？\n",
      "\u001b[0m"
     ]
    },
    {
     "name": "stderr",
     "output_type": "stream",
     "text": [
      " 17%|█▋        | 17/100 [00:01<00:04, 18.29it/s]\u001b[32m2025-04-07 22:45:38.060\u001b[0m | \u001b[33m\u001b[1mWARNING \u001b[0m | \u001b[36mreadai.components.retrievers\u001b[0m:\u001b[36m_retrieve\u001b[0m:\u001b[36m554\u001b[0m - \u001b[33m\u001b[1mBM25Retriever does not support embeddings, skipping...\u001b[0m\n",
      "\u001b[32m2025-04-07 22:45:38.107\u001b[0m | \u001b[33m\u001b[1mWARNING \u001b[0m | \u001b[36mreadai.components.retrievers\u001b[0m:\u001b[36m_retrieve\u001b[0m:\u001b[36m554\u001b[0m - \u001b[33m\u001b[1mBM25Retriever does not support embeddings, skipping...\u001b[0m\n",
      "\u001b[32m2025-04-07 22:45:38.162\u001b[0m | \u001b[33m\u001b[1mWARNING \u001b[0m | \u001b[36mreadai.components.retrievers\u001b[0m:\u001b[36m_retrieve\u001b[0m:\u001b[36m554\u001b[0m - \u001b[33m\u001b[1mBM25Retriever does not support embeddings, skipping...\u001b[0m\n",
      "\u001b[32m2025-04-07 22:45:38.217\u001b[0m | \u001b[33m\u001b[1mWARNING \u001b[0m | \u001b[36mreadai.components.retrievers\u001b[0m:\u001b[36m_retrieve\u001b[0m:\u001b[36m554\u001b[0m - \u001b[33m\u001b[1mBM25Retriever does not support embeddings, skipping...\u001b[0m\n"
     ]
    },
    {
     "name": "stdout",
     "output_type": "stream",
     "text": [
      "\u001b[1;3;34mRetrieving with query id None: 为什么作者认为传统的赞赏和感激的表达方式（如夸奖与恭维）是一种“疏离生命的沟通”，这与非暴力沟通的核心区别在哪里？\n",
      "\u001b[0m\u001b[1;3;38;5;200mRetrieved node with id, entering: a22551e2-8d10-4857-b50d-5bcc0edcf73e\n",
      "\u001b[0m\u001b[1;3;34mRetrieving with query id a22551e2-8d10-4857-b50d-5bcc0edcf73e: 为什么作者认为传统的赞赏和感激的表达方式（如夸奖与恭维）是一种“疏离生命的沟通”，这与非暴力沟通的核心区别在哪里？\n",
      "\u001b[0m\u001b[1;3;34mRetrieving with query id None: 如果女学员当时选择用“可是”来反驳男子，你认为对话可能会朝什么方向发展？\n",
      "\u001b[0m\u001b[1;3;38;5;200mRetrieved node with id, entering: aac15983-a65d-405e-b8df-7657cc337221\n",
      "\u001b[0m\u001b[1;3;34mRetrieving with query id aac15983-a65d-405e-b8df-7657cc337221: 如果女学员当时选择用“可是”来反驳男子，你认为对话可能会朝什么方向发展？\n",
      "\u001b[0m\u001b[1;3;38;5;200mRetrieved node with id, entering: 18a376c6-7871-4891-b91e-9cd2b998bdd1\n",
      "\u001b[0m\u001b[1;3;34mRetrieving with query id 18a376c6-7871-4891-b91e-9cd2b998bdd1: 如果女学员当时选择用“可是”来反驳男子，你认为对话可能会朝什么方向发展？\n",
      "\u001b[0m\u001b[1;3;38;5;200mRetrieved node with id, entering: f06c86b8-6755-4813-9169-27e250f04efb\n",
      "\u001b[0m\u001b[1;3;34mRetrieving with query id f06c86b8-6755-4813-9169-27e250f04efb: 如果女学员当时选择用“可是”来反驳男子，你认为对话可能会朝什么方向发展？\n",
      "\u001b[0m\u001b[1;3;34mRetrieving with query id None: 如果一个人长期接受带有控制意图的表扬（如职场或教育场景），可能会对其心理和行为产生哪些潜在的负面影响？这与感恩的本质有何冲突？\n",
      "\u001b[0m\u001b[1;3;38;5;200mRetrieved node with id, entering: a22551e2-8d10-4857-b50d-5bcc0edcf73e\n",
      "\u001b[0m\u001b[1;3;34mRetrieving with query id a22551e2-8d10-4857-b50d-5bcc0edcf73e: 如果一个人长期接受带有控制意图的表扬（如职场或教育场景），可能会对其心理和行为产生哪些潜在的负面影响？这与感恩的本质有何冲突？\n",
      "\u001b[0m\u001b[1;3;34mRetrieving with query id None: 在非暴力沟通中，为什么强调\"避免对冲突做出判断\"而专注于\"需要\"的表达和聆听，这种方法的心理学依据是什么？\n",
      "\u001b[0m\u001b[1;3;38;5;200mRetrieved node with id, entering: 8dc6ee1f-546f-4be0-b962-94be6d9ecfc0\n",
      "\u001b[0m\u001b[1;3;34mRetrieving with query id 8dc6ee1f-546f-4be0-b962-94be6d9ecfc0: 在非暴力沟通中，为什么强调\"避免对冲突做出判断\"而专注于\"需要\"的表达和聆听，这种方法的心理学依据是什么？\n",
      "\u001b[0m\u001b[1;3;38;5;200mRetrieved node with id, entering: 120de365-6246-4f00-a0e1-99ce4e7299fa\n",
      "\u001b[0m\u001b[1;3;34mRetrieving with query id 120de365-6246-4f00-a0e1-99ce4e7299fa: 在非暴力沟通中，为什么强调\"避免对冲突做出判断\"而专注于\"需要\"的表达和聆听，这种方法的心理学依据是什么？\n",
      "\u001b[0m\u001b[1;3;38;5;200mRetrieved node with id, entering: 418dd76e-c8d2-4090-9402-1ac0f4e510be\n",
      "\u001b[0m\u001b[1;3;34mRetrieving with query id 418dd76e-c8d2-4090-9402-1ac0f4e510be: 在非暴力沟通中，为什么强调\"避免对冲突做出判断\"而专注于\"需要\"的表达和聆听，这种方法的心理学依据是什么？\n",
      "\u001b[0m\u001b[1;3;38;5;200mRetrieved node with id, entering: 06dceb70-99c6-49ab-bdd3-f807a053b078\n",
      "\u001b[0m\u001b[1;3;34mRetrieving with query id 06dceb70-99c6-49ab-bdd3-f807a053b078: 在非暴力沟通中，为什么强调\"避免对冲突做出判断\"而专注于\"需要\"的表达和聆听，这种方法的心理学依据是什么？\n",
      "\u001b[0m"
     ]
    },
    {
     "name": "stderr",
     "output_type": "stream",
     "text": [
      " 21%|██        | 21/100 [00:01<00:04, 18.62it/s]\u001b[32m2025-04-07 22:45:38.264\u001b[0m | \u001b[33m\u001b[1mWARNING \u001b[0m | \u001b[36mreadai.components.retrievers\u001b[0m:\u001b[36m_retrieve\u001b[0m:\u001b[36m554\u001b[0m - \u001b[33m\u001b[1mBM25Retriever does not support embeddings, skipping...\u001b[0m\n",
      "\u001b[32m2025-04-07 22:45:38.311\u001b[0m | \u001b[33m\u001b[1mWARNING \u001b[0m | \u001b[36mreadai.components.retrievers\u001b[0m:\u001b[36m_retrieve\u001b[0m:\u001b[36m554\u001b[0m - \u001b[33m\u001b[1mBM25Retriever does not support embeddings, skipping...\u001b[0m\n",
      "\u001b[32m2025-04-07 22:45:38.361\u001b[0m | \u001b[33m\u001b[1mWARNING \u001b[0m | \u001b[36mreadai.components.retrievers\u001b[0m:\u001b[36m_retrieve\u001b[0m:\u001b[36m554\u001b[0m - \u001b[33m\u001b[1mBM25Retriever does not support embeddings, skipping...\u001b[0m\n",
      "\u001b[32m2025-04-07 22:45:38.413\u001b[0m | \u001b[33m\u001b[1mWARNING \u001b[0m | \u001b[36mreadai.components.retrievers\u001b[0m:\u001b[36m_retrieve\u001b[0m:\u001b[36m554\u001b[0m - \u001b[33m\u001b[1mBM25Retriever does not support embeddings, skipping...\u001b[0m\n",
      " 25%|██▌       | 25/100 [00:01<00:03, 19.31it/s]"
     ]
    },
    {
     "name": "stdout",
     "output_type": "stream",
     "text": [
      "\u001b[1;3;34mRetrieving with query id None: 角色扮演在调解过程中如何帮助冲突双方实现深层次的同理心和情感共鸣？\n",
      "\u001b[0m\u001b[1;3;38;5;200mRetrieved node with id, entering: 8981c58a-e29f-4916-a16d-89524460e081\n",
      "\u001b[0m\u001b[1;3;34mRetrieving with query id 8981c58a-e29f-4916-a16d-89524460e081: 角色扮演在调解过程中如何帮助冲突双方实现深层次的同理心和情感共鸣？\n",
      "\u001b[0m\u001b[1;3;38;5;200mRetrieved node with id, entering: b37fccca-7378-4a91-af6b-8f3c71a9e37f\n",
      "\u001b[0m\u001b[1;3;34mRetrieving with query id b37fccca-7378-4a91-af6b-8f3c71a9e37f: 角色扮演在调解过程中如何帮助冲突双方实现深层次的同理心和情感共鸣？\n",
      "\u001b[0m\u001b[1;3;34mRetrieving with query id None: 如果冲突一方始终拒绝承认对方的需要，调解者该如何运用文中的原则突破这种僵局？\n",
      "\u001b[0m\u001b[1;3;38;5;200mRetrieved node with id, entering: b37fccca-7378-4a91-af6b-8f3c71a9e37f\n",
      "\u001b[0m\u001b[1;3;34mRetrieving with query id b37fccca-7378-4a91-af6b-8f3c71a9e37f: 如果冲突一方始终拒绝承认对方的需要，调解者该如何运用文中的原则突破这种僵局？\n",
      "\u001b[0m\u001b[1;3;38;5;200mRetrieved node with id, entering: f9320e36-ce4a-499f-89af-3540e37ceb45\n",
      "\u001b[0m\u001b[1;3;34mRetrieving with query id f9320e36-ce4a-499f-89af-3540e37ceb45: 如果冲突一方始终拒绝承认对方的需要，调解者该如何运用文中的原则突破这种僵局？\n",
      "\u001b[0m\u001b[1;3;38;5;200mRetrieved node with id, entering: 7170b0e8-8127-4660-9ac4-aa3a20e2b31a\n",
      "\u001b[0m\u001b[1;3;34mRetrieving with query id 7170b0e8-8127-4660-9ac4-aa3a20e2b31a: 如果冲突一方始终拒绝承认对方的需要，调解者该如何运用文中的原则突破这种僵局？\n",
      "\u001b[0m\u001b[1;3;34mRetrieving with query id None: 如果调解者未能准确扮演冲突方的角色，这种偏差是否可能反而加剧矛盾？如何通过\"导演\"反馈机制减少这种风险？\n",
      "\u001b[0m\u001b[1;3;38;5;200mRetrieved node with id, entering: b37fccca-7378-4a91-af6b-8f3c71a9e37f\n",
      "\u001b[0m\u001b[1;3;34mRetrieving with query id b37fccca-7378-4a91-af6b-8f3c71a9e37f: 如果调解者未能准确扮演冲突方的角色，这种偏差是否可能反而加剧矛盾？如何通过\"导演\"反馈机制减少这种风险？\n",
      "\u001b[0m\u001b[1;3;38;5;200mRetrieved node with id, entering: 8981c58a-e29f-4916-a16d-89524460e081\n",
      "\u001b[0m\u001b[1;3;34mRetrieving with query id 8981c58a-e29f-4916-a16d-89524460e081: 如果调解者未能准确扮演冲突方的角色，这种偏差是否可能反而加剧矛盾？如何通过\"导演\"反馈机制减少这种风险？\n",
      "\u001b[0m\u001b[1;3;34mRetrieving with query id None: \"疏离生命的语言\"这一概念如何反映了现代社会中人际沟通的本质与困境？\n",
      "\u001b[0m\u001b[1;3;38;5;200mRetrieved node with id, entering: fb002a63-6e3d-4f1d-8526-64da34756023\n",
      "\u001b[0m\u001b[1;3;34mRetrieving with query id fb002a63-6e3d-4f1d-8526-64da34756023: \"疏离生命的语言\"这一概念如何反映了现代社会中人际沟通的本质与困境？\n",
      "\u001b[0m\u001b[1;3;34mRetrieving with query id None: 为什么非暴力沟通中的“请求”和“要求”容易被混淆，尤其是在权力不对等的情况下？\n",
      "\u001b[0m"
     ]
    },
    {
     "name": "stderr",
     "output_type": "stream",
     "text": [
      "\u001b[32m2025-04-07 22:45:38.476\u001b[0m | \u001b[33m\u001b[1mWARNING \u001b[0m | \u001b[36mreadai.components.retrievers\u001b[0m:\u001b[36m_retrieve\u001b[0m:\u001b[36m554\u001b[0m - \u001b[33m\u001b[1mBM25Retriever does not support embeddings, skipping...\u001b[0m\n",
      "\u001b[32m2025-04-07 22:45:38.550\u001b[0m | \u001b[33m\u001b[1mWARNING \u001b[0m | \u001b[36mreadai.components.retrievers\u001b[0m:\u001b[36m_retrieve\u001b[0m:\u001b[36m554\u001b[0m - \u001b[33m\u001b[1mBM25Retriever does not support embeddings, skipping...\u001b[0m\n",
      " 27%|██▋       | 27/100 [00:01<00:04, 18.09it/s]\u001b[32m2025-04-07 22:45:38.597\u001b[0m | \u001b[33m\u001b[1mWARNING \u001b[0m | \u001b[36mreadai.components.retrievers\u001b[0m:\u001b[36m_retrieve\u001b[0m:\u001b[36m554\u001b[0m - \u001b[33m\u001b[1mBM25Retriever does not support embeddings, skipping...\u001b[0m\n",
      "\u001b[32m2025-04-07 22:45:38.647\u001b[0m | \u001b[33m\u001b[1mWARNING \u001b[0m | \u001b[36mreadai.components.retrievers\u001b[0m:\u001b[36m_retrieve\u001b[0m:\u001b[36m554\u001b[0m - \u001b[33m\u001b[1mBM25Retriever does not support embeddings, skipping...\u001b[0m\n"
     ]
    },
    {
     "name": "stdout",
     "output_type": "stream",
     "text": [
      "\u001b[1;3;38;5;200mRetrieved node with id, entering: 6e0accbd-a7aa-4007-ad7f-c8d188403d17\n",
      "\u001b[0m\u001b[1;3;34mRetrieving with query id 6e0accbd-a7aa-4007-ad7f-c8d188403d17: 为什么非暴力沟通中的“请求”和“要求”容易被混淆，尤其是在权力不对等的情况下？\n",
      "\u001b[0m\u001b[1;3;38;5;200mRetrieved node with id, entering: e129fb15-0dbd-451c-8b7d-9281ddcdd76d\n",
      "\u001b[0m\u001b[1;3;34mRetrieving with query id e129fb15-0dbd-451c-8b7d-9281ddcdd76d: 为什么非暴力沟通中的“请求”和“要求”容易被混淆，尤其是在权力不对等的情况下？\n",
      "\u001b[0m\u001b[1;3;38;5;200mRetrieved node with id, entering: 4ffc270f-f675-4350-b5a2-a845a8456630\n",
      "\u001b[0m\u001b[1;3;34mRetrieving with query id 4ffc270f-f675-4350-b5a2-a845a8456630: 为什么非暴力沟通中的“请求”和“要求”容易被混淆，尤其是在权力不对等的情况下？\n",
      "\u001b[0m\u001b[1;3;34mRetrieving with query id None: 如果将\"疏离生命的语言\"置于数字化交流盛行的背景下，这种语言现象会呈现怎样的新特征或演变趋势？\n",
      "\u001b[0m\u001b[1;3;38;5;200mRetrieved node with id, entering: fb002a63-6e3d-4f1d-8526-64da34756023\n",
      "\u001b[0m\u001b[1;3;34mRetrieving with query id fb002a63-6e3d-4f1d-8526-64da34756023: 如果将\"疏离生命的语言\"置于数字化交流盛行的背景下，这种语言现象会呈现怎样的新特征或演变趋势？\n",
      "\u001b[0m\u001b[1;3;34mRetrieving with query id None: 如果那位母亲在表达失望后没有立刻指责儿子“懒惰”，而是继续用非暴力沟通的要素引导对话，可能会产生怎样不同的结果？\n",
      "\u001b[0m\u001b[1;3;38;5;200mRetrieved node with id, entering: 6e0accbd-a7aa-4007-ad7f-c8d188403d17\n",
      "\u001b[0m\u001b[1;3;34mRetrieving with query id 6e0accbd-a7aa-4007-ad7f-c8d188403d17: 如果那位母亲在表达失望后没有立刻指责儿子“懒惰”，而是继续用非暴力沟通的要素引导对话，可能会产生怎样不同的结果？\n",
      "\u001b[0m\u001b[1;3;38;5;200mRetrieved node with id, entering: 6b821040-60a2-4214-8601-8797f121f78a\n",
      "\u001b[0m\u001b[1;3;34mRetrieving with query id 6b821040-60a2-4214-8601-8797f121f78a: 如果那位母亲在表达失望后没有立刻指责儿子“懒惰”，而是继续用非暴力沟通的要素引导对话，可能会产生怎样不同的结果？\n",
      "\u001b[0m\u001b[1;3;38;5;200mRetrieved node with id, entering: 836cd93a-6f22-4ca6-a179-c7e6a9b81e21\n",
      "\u001b[0m\u001b[1;3;34mRetrieving with query id 836cd93a-6f22-4ca6-a179-c7e6a9b81e21: 如果那位母亲在表达失望后没有立刻指责儿子“懒惰”，而是继续用非暴力沟通的要素引导对话，可能会产生怎样不同的结果？\n",
      "\u001b[0m\u001b[1;3;38;5;200mRetrieved node with id, entering: d71b557f-6b65-4df5-a581-759b456ed82d\n",
      "\u001b[0m\u001b[1;3;34mRetrieving with query id d71b557f-6b65-4df5-a581-759b456ed82d: 如果那位母亲在表达失望后没有立刻指责儿子“懒惰”，而是继续用非暴力沟通的要素引导对话，可能会产生怎样不同的结果？\n",
      "\u001b[0m\u001b[1;3;34mRetrieving with query id None: 非暴力沟通中的\"将评判转换为感受和需要\"这一方法，如何帮助作者在驾驶时实现情绪管理的转变？\n",
      "\u001b[0m\u001b[1;3;38;5;200mRetrieved node with id, entering: 178ea05a-8856-4c2c-a11a-4953eeb7319c\n",
      "\u001b[0m\u001b[1;3;34mRetrieving with query id 178ea05a-8856-4c2c-a11a-4953eeb7319c: 非暴力沟通中的\"将评判转换为感受和需要\"这一方法，如何帮助作者在驾驶时实现情绪管理的转变？\n",
      "\u001b[0m\u001b[1;3;38;5;200mRetrieved node with id, entering: 06dceb70-99c6-49ab-bdd3-f807a053b078\n",
      "\u001b[0m\u001b[1;3;34mRetrieving with query id 06dceb70-99c6-49ab-bdd3-f807a053b078: 非暴力沟通中的\"将评判转换为感受和需要\"这一方法，如何帮助作者在驾驶时实现情绪管理的转变？\n",
      "\u001b[0m\u001b[1;3;38;5;200mRetrieved node with id, entering: 72810fee-c047-4df6-87bf-a6a4e6a97936\n",
      "\u001b[0m\u001b[1;3;34mRetrieving with query id 72810fee-c047-4df6-87bf-a6a4e6a97936: 非暴力沟通中的\"将评判转换为感受和需要\"这一方法，如何帮助作者在驾驶时实现情绪管理的转变？\n",
      "\u001b[0m\u001b[1;3;34mRetrieving with query id None: 格林伯格通过\"完美身材\"和\"莫扎特成就\"的比较实验揭示了什么关于人类心理的深层机制？\n",
      "\u001b[0m"
     ]
    },
    {
     "name": "stderr",
     "output_type": "stream",
     "text": [
      "\u001b[32m2025-04-07 22:45:38.697\u001b[0m | \u001b[33m\u001b[1mWARNING \u001b[0m | \u001b[36mreadai.components.retrievers\u001b[0m:\u001b[36m_retrieve\u001b[0m:\u001b[36m554\u001b[0m - \u001b[33m\u001b[1mBM25Retriever does not support embeddings, skipping...\u001b[0m\n",
      "\u001b[32m2025-04-07 22:45:38.745\u001b[0m | \u001b[33m\u001b[1mWARNING \u001b[0m | \u001b[36mreadai.components.retrievers\u001b[0m:\u001b[36m_retrieve\u001b[0m:\u001b[36m554\u001b[0m - \u001b[33m\u001b[1mBM25Retriever does not support embeddings, skipping...\u001b[0m\n",
      " 31%|███       | 31/100 [00:01<00:03, 18.94it/s]\u001b[32m2025-04-07 22:45:38.793\u001b[0m | \u001b[33m\u001b[1mWARNING \u001b[0m | \u001b[36mreadai.components.retrievers\u001b[0m:\u001b[36m_retrieve\u001b[0m:\u001b[36m554\u001b[0m - \u001b[33m\u001b[1mBM25Retriever does not support embeddings, skipping...\u001b[0m\n",
      "\u001b[32m2025-04-07 22:45:38.839\u001b[0m | \u001b[33m\u001b[1mWARNING \u001b[0m | \u001b[36mreadai.components.retrievers\u001b[0m:\u001b[36m_retrieve\u001b[0m:\u001b[36m554\u001b[0m - \u001b[33m\u001b[1mBM25Retriever does not support embeddings, skipping...\u001b[0m\n",
      "\u001b[32m2025-04-07 22:45:38.890\u001b[0m | \u001b[33m\u001b[1mWARNING \u001b[0m | \u001b[36mreadai.components.retrievers\u001b[0m:\u001b[36m_retrieve\u001b[0m:\u001b[36m554\u001b[0m - \u001b[33m\u001b[1mBM25Retriever does not support embeddings, skipping...\u001b[0m\n"
     ]
    },
    {
     "name": "stdout",
     "output_type": "stream",
     "text": [
      "\u001b[1;3;38;5;200mRetrieved node with id, entering: 60ac0495-f29d-401c-83ae-2489557bc4f5\n",
      "\u001b[0m\u001b[1;3;34mRetrieving with query id 60ac0495-f29d-401c-83ae-2489557bc4f5: 格林伯格通过\"完美身材\"和\"莫扎特成就\"的比较实验揭示了什么关于人类心理的深层机制？\n",
      "\u001b[0m\u001b[1;3;34mRetrieving with query id None: 如果作者没有尝试同理那位老年司机，而是继续保持愤怒情绪，可能会对双方造成怎样的心理和生理影响？\n",
      "\u001b[0m\u001b[1;3;38;5;200mRetrieved node with id, entering: 7ac06dfb-cf7d-43f4-9316-636709dc6dd2\n",
      "\u001b[0m\u001b[1;3;34mRetrieving with query id 7ac06dfb-cf7d-43f4-9316-636709dc6dd2: 如果作者没有尝试同理那位老年司机，而是继续保持愤怒情绪，可能会对双方造成怎样的心理和生理影响？\n",
      "\u001b[0m\u001b[1;3;38;5;200mRetrieved node with id, entering: fe6ea9c7-e6e6-4b53-b1c8-286e64126f4a\n",
      "\u001b[0m\u001b[1;3;34mRetrieving with query id fe6ea9c7-e6e6-4b53-b1c8-286e64126f4a: 如果作者没有尝试同理那位老年司机，而是继续保持愤怒情绪，可能会对双方造成怎样的心理和生理影响？\n",
      "\u001b[0m\u001b[1;3;34mRetrieving with query id None: 阿伦特记录的纳粹军官\"卸责语言\"现象，如何反映现代社会个体责任逃避的普遍心理模式？\n",
      "\u001b[0m\u001b[1;3;38;5;200mRetrieved node with id, entering: 60ac0495-f29d-401c-83ae-2489557bc4f5\n",
      "\u001b[0m\u001b[1;3;34mRetrieving with query id 60ac0495-f29d-401c-83ae-2489557bc4f5: 阿伦特记录的纳粹军官\"卸责语言\"现象，如何反映现代社会个体责任逃避的普遍心理模式？\n",
      "\u001b[0m\u001b[1;3;38;5;200mRetrieved node with id, entering: f94fdd72-0186-4868-b0b0-25e828667b1f\n",
      "\u001b[0m\u001b[1;3;34mRetrieving with query id f94fdd72-0186-4868-b0b0-25e828667b1f: 阿伦特记录的纳粹军官\"卸责语言\"现象，如何反映现代社会个体责任逃避的普遍心理模式？\n",
      "\u001b[0m\u001b[1;3;34mRetrieving with query id None: 在非暴力沟通中，为什么区分\"感受\"与\"想法\"对有效表达如此重要？这种区分如何影响人际关系的质量？\n",
      "\u001b[0m\u001b[1;3;38;5;200mRetrieved node with id, entering: c1da8187-7d49-467d-b04f-9cdf06068727\n",
      "\u001b[0m\u001b[1;3;34mRetrieving with query id c1da8187-7d49-467d-b04f-9cdf06068727: 在非暴力沟通中，为什么区分\"感受\"与\"想法\"对有效表达如此重要？这种区分如何影响人际关系的质量？\n",
      "\u001b[0m\u001b[1;3;38;5;200mRetrieved node with id, entering: 06dceb70-99c6-49ab-bdd3-f807a053b078\n",
      "\u001b[0m\u001b[1;3;34mRetrieving with query id 06dceb70-99c6-49ab-bdd3-f807a053b078: 在非暴力沟通中，为什么区分\"感受\"与\"想法\"对有效表达如此重要？这种区分如何影响人际关系的质量？\n",
      "\u001b[0m\u001b[1;3;38;5;200mRetrieved node with id, entering: fa7e9267-527e-4cbb-89a4-ff9dac43eafc\n",
      "\u001b[0m\u001b[1;3;34mRetrieving with query id fa7e9267-527e-4cbb-89a4-ff9dac43eafc: 在非暴力沟通中，为什么区分\"感受\"与\"想法\"对有效表达如此重要？这种区分如何影响人际关系的质量？\n",
      "\u001b[0m\u001b[1;3;38;5;200mRetrieved node with id, entering: 418dd76e-c8d2-4090-9402-1ac0f4e510be\n",
      "\u001b[0m\u001b[1;3;34mRetrieving with query id 418dd76e-c8d2-4090-9402-1ac0f4e510be: 在非暴力沟通中，为什么区分\"感受\"与\"想法\"对有效表达如此重要？这种区分如何影响人际关系的质量？\n",
      "\u001b[0m\u001b[1;3;34mRetrieving with query id None: 如何区分对话中的\"提建议\"和\"同理回应\"，这种区分在人际沟通中具有怎样的重要性？\n",
      "\u001b[0m\u001b[1;3;38;5;200mRetrieved node with id, entering: b7375e65-c770-4595-80dc-5cbbc8c270f9\n",
      "\u001b[0m\u001b[1;3;34mRetrieving with query id b7375e65-c770-4595-80dc-5cbbc8c270f9: 如何区分对话中的\"提建议\"和\"同理回应\"，这种区分在人际沟通中具有怎样的重要性？\n",
      "\u001b[0m\u001b[1;3;38;5;200mRetrieved node with id, entering: 7170b0e8-8127-4660-9ac4-aa3a20e2b31a\n",
      "\u001b[0m\u001b[1;3;34mRetrieving with query id 7170b0e8-8127-4660-9ac4-aa3a20e2b31a: 如何区分对话中的\"提建议\"和\"同理回应\"，这种区分在人际沟通中具有怎样的重要性？\n",
      "\u001b[0m\u001b[1;3;38;5;200mRetrieved node with id, entering: 78366c1a-3949-4a5d-ac98-42d7bafbc346\n",
      "\u001b[0m\u001b[1;3;34mRetrieving with query id 78366c1a-3949-4a5d-ac98-42d7bafbc346: 如何区分对话中的\"提建议\"和\"同理回应\"，这种区分在人际沟通中具有怎样的重要性？\n",
      "\u001b[0m"
     ]
    },
    {
     "name": "stderr",
     "output_type": "stream",
     "text": [
      "\u001b[32m2025-04-07 22:45:38.947\u001b[0m | \u001b[33m\u001b[1mWARNING \u001b[0m | \u001b[36mreadai.components.retrievers\u001b[0m:\u001b[36m_retrieve\u001b[0m:\u001b[36m554\u001b[0m - \u001b[33m\u001b[1mBM25Retriever does not support embeddings, skipping...\u001b[0m\n",
      " 35%|███▌      | 35/100 [00:02<00:03, 19.10it/s]\u001b[32m2025-04-07 22:45:38.998\u001b[0m | \u001b[33m\u001b[1mWARNING \u001b[0m | \u001b[36mreadai.components.retrievers\u001b[0m:\u001b[36m_retrieve\u001b[0m:\u001b[36m554\u001b[0m - \u001b[33m\u001b[1mBM25Retriever does not support embeddings, skipping...\u001b[0m\n",
      "\u001b[32m2025-04-07 22:45:39.049\u001b[0m | \u001b[33m\u001b[1mWARNING \u001b[0m | \u001b[36mreadai.components.retrievers\u001b[0m:\u001b[36m_retrieve\u001b[0m:\u001b[36m554\u001b[0m - \u001b[33m\u001b[1mBM25Retriever does not support embeddings, skipping...\u001b[0m\n",
      "\u001b[32m2025-04-07 22:45:39.094\u001b[0m | \u001b[33m\u001b[1mWARNING \u001b[0m | \u001b[36mreadai.components.retrievers\u001b[0m:\u001b[36m_retrieve\u001b[0m:\u001b[36m554\u001b[0m - \u001b[33m\u001b[1mBM25Retriever does not support embeddings, skipping...\u001b[0m\n"
     ]
    },
    {
     "name": "stdout",
     "output_type": "stream",
     "text": [
      "\u001b[1;3;34mRetrieving with query id None: 如果将\"我觉得你应该更懂事\"这句话用纯感受的方式重新表达，可能会呈现怎样的沟通效果差异？这种表达方式的改变会如何影响对话双方的互动模式？\n",
      "\u001b[0m\u001b[1;3;38;5;200mRetrieved node with id, entering: e129fb15-0dbd-451c-8b7d-9281ddcdd76d\n",
      "\u001b[0m\u001b[1;3;34mRetrieving with query id e129fb15-0dbd-451c-8b7d-9281ddcdd76d: 如果将\"我觉得你应该更懂事\"这句话用纯感受的方式重新表达，可能会呈现怎样的沟通效果差异？这种表达方式的改变会如何影响对话双方的互动模式？\n",
      "\u001b[0m\u001b[1;3;38;5;200mRetrieved node with id, entering: c1da8187-7d49-467d-b04f-9cdf06068727\n",
      "\u001b[0m\u001b[1;3;34mRetrieving with query id c1da8187-7d49-467d-b04f-9cdf06068727: 如果将\"我觉得你应该更懂事\"这句话用纯感受的方式重新表达，可能会呈现怎样的沟通效果差异？这种表达方式的改变会如何影响对话双方的互动模式？\n",
      "\u001b[0m\u001b[1;3;38;5;200mRetrieved node with id, entering: 06bc536c-c7c5-4a11-85c1-104c43d9a3d8\n",
      "\u001b[0m\u001b[1;3;34mRetrieving with query id 06bc536c-c7c5-4a11-85c1-104c43d9a3d8: 如果将\"我觉得你应该更懂事\"这句话用纯感受的方式重新表达，可能会呈现怎样的沟通效果差异？这种表达方式的改变会如何影响对话双方的互动模式？\n",
      "\u001b[0m\u001b[1;3;34mRetrieving with query id None: 如果B在对话中完全避免谈论自己的感受，只关注A的体验，这样的沟通方式可能会带来哪些新的问题或局限性？\n",
      "\u001b[0m\u001b[1;3;38;5;200mRetrieved node with id, entering: b7375e65-c770-4595-80dc-5cbbc8c270f9\n",
      "\u001b[0m\u001b[1;3;34mRetrieving with query id b7375e65-c770-4595-80dc-5cbbc8c270f9: 如果B在对话中完全避免谈论自己的感受，只关注A的体验，这样的沟通方式可能会带来哪些新的问题或局限性？\n",
      "\u001b[0m\u001b[1;3;38;5;200mRetrieved node with id, entering: 365ef724-210c-4343-b0f4-066ad0834c5c\n",
      "\u001b[0m\u001b[1;3;34mRetrieving with query id 365ef724-210c-4343-b0f4-066ad0834c5c: 如果B在对话中完全避免谈论自己的感受，只关注A的体验，这样的沟通方式可能会带来哪些新的问题或局限性？\n",
      "\u001b[0m\u001b[1;3;38;5;200mRetrieved node with id, entering: 2e6c1c90-69a9-435a-8b88-b94a4e94445d\n",
      "\u001b[0m\u001b[1;3;34mRetrieving with query id 2e6c1c90-69a9-435a-8b88-b94a4e94445d: 如果B在对话中完全避免谈论自己的感受，只关注A的体验，这样的沟通方式可能会带来哪些新的问题或局限性？\n",
      "\u001b[0m\u001b[1;3;34mRetrieving with query id None: 为什么哈维教授的研究结果显示道德评判词语使用频率与暴力事件发生率呈正相关，而关注需要的文化中暴力事件较少？\n",
      "\u001b[0m\u001b[1;3;38;5;200mRetrieved node with id, entering: 206529cd-530a-4a5a-9c56-7d91beb17cbd\n",
      "\u001b[0m\u001b[1;3;34mRetrieving with query id 206529cd-530a-4a5a-9c56-7d91beb17cbd: 为什么哈维教授的研究结果显示道德评判词语使用频率与暴力事件发生率呈正相关，而关注需要的文化中暴力事件较少？\n",
      "\u001b[0m\u001b[1;3;34mRetrieving with query id None: 为什么使用正向语言和具体请求在沟通中比表达抽象需求更有效？\n",
      "\u001b[0m\u001b[1;3;38;5;200mRetrieved node with id, entering: a169023d-5e64-4dc7-afd5-4249fc8accf5\n",
      "\u001b[0m\u001b[1;3;34mRetrieving with query id a169023d-5e64-4dc7-afd5-4249fc8accf5: 为什么使用正向语言和具体请求在沟通中比表达抽象需求更有效？\n",
      "\u001b[0m\u001b[1;3;38;5;200mRetrieved node with id, entering: c4e5c4dc-e539-48af-ab8b-c59f8223cf68\n",
      "\u001b[0m\u001b[1;3;34mRetrieving with query id c4e5c4dc-e539-48af-ab8b-c59f8223cf68: 为什么使用正向语言和具体请求在沟通中比表达抽象需求更有效？\n",
      "\u001b[0m"
     ]
    },
    {
     "name": "stderr",
     "output_type": "stream",
     "text": [
      "\u001b[32m2025-04-07 22:45:39.143\u001b[0m | \u001b[33m\u001b[1mWARNING \u001b[0m | \u001b[36mreadai.components.retrievers\u001b[0m:\u001b[36m_retrieve\u001b[0m:\u001b[36m554\u001b[0m - \u001b[33m\u001b[1mBM25Retriever does not support embeddings, skipping...\u001b[0m\n",
      " 39%|███▉      | 39/100 [00:02<00:03, 19.58it/s]\u001b[32m2025-04-07 22:45:39.190\u001b[0m | \u001b[33m\u001b[1mWARNING \u001b[0m | \u001b[36mreadai.components.retrievers\u001b[0m:\u001b[36m_retrieve\u001b[0m:\u001b[36m554\u001b[0m - \u001b[33m\u001b[1mBM25Retriever does not support embeddings, skipping...\u001b[0m\n",
      "\u001b[32m2025-04-07 22:45:39.237\u001b[0m | \u001b[33m\u001b[1mWARNING \u001b[0m | \u001b[36mreadai.components.retrievers\u001b[0m:\u001b[36m_retrieve\u001b[0m:\u001b[36m554\u001b[0m - \u001b[33m\u001b[1mBM25Retriever does not support embeddings, skipping...\u001b[0m\n",
      "\u001b[32m2025-04-07 22:45:39.284\u001b[0m | \u001b[33m\u001b[1mWARNING \u001b[0m | \u001b[36mreadai.components.retrievers\u001b[0m:\u001b[36m_retrieve\u001b[0m:\u001b[36m554\u001b[0m - \u001b[33m\u001b[1mBM25Retriever does not support embeddings, skipping...\u001b[0m\n"
     ]
    },
    {
     "name": "stdout",
     "output_type": "stream",
     "text": [
      "\u001b[1;3;34mRetrieving with query id None: 在冷战案例中，如果美苏双方能够识别并表达彼此标签背后的恐惧而非直接进行道德评判，可能会如何改变冲突的走向？\n",
      "\u001b[0m\u001b[1;3;38;5;200mRetrieved node with id, entering: 206529cd-530a-4a5a-9c56-7d91beb17cbd\n",
      "\u001b[0m\u001b[1;3;34mRetrieving with query id 206529cd-530a-4a5a-9c56-7d91beb17cbd: 在冷战案例中，如果美苏双方能够识别并表达彼此标签背后的恐惧而非直接进行道德评判，可能会如何改变冲突的走向？\n",
      "\u001b[0m\u001b[1;3;38;5;200mRetrieved node with id, entering: 3a058daf-4f31-4f0f-8331-5bf9f05ab294\n",
      "\u001b[0m\u001b[1;3;34mRetrieving with query id 3a058daf-4f31-4f0f-8331-5bf9f05ab294: 在冷战案例中，如果美苏双方能够识别并表达彼此标签背后的恐惧而非直接进行道德评判，可能会如何改变冲突的走向？\n",
      "\u001b[0m\u001b[1;3;34mRetrieving with query id None: 如果学生们没有将“公正对待”转化为38项具体行动请求，可能会对解决冲突产生什么不同的结果？\n",
      "\u001b[0m\u001b[1;3;38;5;200mRetrieved node with id, entering: a169023d-5e64-4dc7-afd5-4249fc8accf5\n",
      "\u001b[0m\u001b[1;3;34mRetrieving with query id a169023d-5e64-4dc7-afd5-4249fc8accf5: 如果学生们没有将“公正对待”转化为38项具体行动请求，可能会对解决冲突产生什么不同的结果？\n",
      "\u001b[0m\u001b[1;3;38;5;200mRetrieved node with id, entering: 81b3a24a-5bcc-4ba2-9c64-dd503aff14aa\n",
      "\u001b[0m\u001b[1;3;34mRetrieving with query id 81b3a24a-5bcc-4ba2-9c64-dd503aff14aa: 如果学生们没有将“公正对待”转化为38项具体行动请求，可能会对解决冲突产生什么不同的结果？\n",
      "\u001b[0m\u001b[1;3;34mRetrieving with query id None: 非暴力沟通中“对自己的感受负责”这一原则如何帮助人们在冲突中建立更深层次的理解和连接？\n",
      "\u001b[0m\u001b[1;3;38;5;200mRetrieved node with id, entering: d1919700-ed29-4f1e-87c4-132889fe1b07\n",
      "\u001b[0m\u001b[1;3;34mRetrieving with query id d1919700-ed29-4f1e-87c4-132889fe1b07: 非暴力沟通中“对自己的感受负责”这一原则如何帮助人们在冲突中建立更深层次的理解和连接？\n",
      "\u001b[0m\u001b[1;3;38;5;200mRetrieved node with id, entering: 4ffcbf66-86c0-445f-8e96-d2a2a146d9d8\n",
      "\u001b[0m\u001b[1;3;34mRetrieving with query id 4ffcbf66-86c0-445f-8e96-d2a2a146d9d8: 非暴力沟通中“对自己的感受负责”这一原则如何帮助人们在冲突中建立更深层次的理解和连接？\n",
      "\u001b[0m\u001b[1;3;38;5;200mRetrieved node with id, entering: d67a56ae-59de-4339-9307-bb51170ce4ba\n",
      "\u001b[0m\u001b[1;3;34mRetrieving with query id d67a56ae-59de-4339-9307-bb51170ce4ba: 非暴力沟通中“对自己的感受负责”这一原则如何帮助人们在冲突中建立更深层次的理解和连接？\n",
      "\u001b[0m\u001b[1;3;38;5;200mRetrieved node with id, entering: 120de365-6246-4f00-a0e1-99ce4e7299fa\n",
      "\u001b[0m\u001b[1;3;34mRetrieving with query id 120de365-6246-4f00-a0e1-99ce4e7299fa: 非暴力沟通中“对自己的感受负责”这一原则如何帮助人们在冲突中建立更深层次的理解和连接？\n",
      "\u001b[0m\u001b[1;3;34mRetrieving with query id None: 在非暴力沟通中，区分观察和评论的练习如何帮助我们更客观地理解他人的行为，而不是陷入主观判断？\n",
      "\u001b[0m\u001b[1;3;38;5;200mRetrieved node with id, entering: 4d96d8e2-83d3-4d7e-bbea-d83cfe6736e2\n",
      "\u001b[0m\u001b[1;3;34mRetrieving with query id 4d96d8e2-83d3-4d7e-bbea-d83cfe6736e2: 在非暴力沟通中，区分观察和评论的练习如何帮助我们更客观地理解他人的行为，而不是陷入主观判断？\n",
      "\u001b[0m\u001b[1;3;38;5;200mRetrieved node with id, entering: 73ae3b62-8aa5-4755-a429-c42fb320d3e9\n",
      "\u001b[0m\u001b[1;3;34mRetrieving with query id 73ae3b62-8aa5-4755-a429-c42fb320d3e9: 在非暴力沟通中，区分观察和评论的练习如何帮助我们更客观地理解他人的行为，而不是陷入主观判断？\n",
      "\u001b[0m\u001b[1;3;38;5;200mRetrieved node with id, entering: 12332f6f-616d-4687-a453-45dd1ad93d17\n",
      "\u001b[0m\u001b[1;3;34mRetrieving with query id 12332f6f-616d-4687-a453-45dd1ad93d17: 在非暴力沟通中，区分观察和评论的练习如何帮助我们更客观地理解他人的行为，而不是陷入主观判断？\n",
      "\u001b[0m\u001b[1;3;34mRetrieving with query id None: 在例句分析中，作者为何强调需要将感受与具体需求而非他人行为直接关联？这种表达方式对人际关系动态可能产生哪些潜在影响？\n",
      "\u001b[0m"
     ]
    },
    {
     "name": "stderr",
     "output_type": "stream",
     "text": [
      "\u001b[32m2025-04-07 22:45:39.336\u001b[0m | \u001b[33m\u001b[1mWARNING \u001b[0m | \u001b[36mreadai.components.retrievers\u001b[0m:\u001b[36m_retrieve\u001b[0m:\u001b[36m554\u001b[0m - \u001b[33m\u001b[1mBM25Retriever does not support embeddings, skipping...\u001b[0m\n",
      " 43%|████▎     | 43/100 [00:02<00:02, 19.94it/s]\u001b[32m2025-04-07 22:45:39.392\u001b[0m | \u001b[33m\u001b[1mWARNING \u001b[0m | \u001b[36mreadai.components.retrievers\u001b[0m:\u001b[36m_retrieve\u001b[0m:\u001b[36m554\u001b[0m - \u001b[33m\u001b[1mBM25Retriever does not support embeddings, skipping...\u001b[0m\n",
      "\u001b[32m2025-04-07 22:45:39.460\u001b[0m | \u001b[33m\u001b[1mWARNING \u001b[0m | \u001b[36mreadai.components.retrievers\u001b[0m:\u001b[36m_retrieve\u001b[0m:\u001b[36m554\u001b[0m - \u001b[33m\u001b[1mBM25Retriever does not support embeddings, skipping...\u001b[0m\n",
      " 45%|████▌     | 45/100 [00:02<00:02, 19.14it/s]\u001b[32m2025-04-07 22:45:39.510\u001b[0m | \u001b[33m\u001b[1mWARNING \u001b[0m | \u001b[36mreadai.components.retrievers\u001b[0m:\u001b[36m_retrieve\u001b[0m:\u001b[36m554\u001b[0m - \u001b[33m\u001b[1mBM25Retriever does not support embeddings, skipping...\u001b[0m\n"
     ]
    },
    {
     "name": "stdout",
     "output_type": "stream",
     "text": [
      "\u001b[1;3;38;5;200mRetrieved node with id, entering: b79102f7-5abe-4cd9-a728-5f31a8e60200\n",
      "\u001b[0m\u001b[1;3;34mRetrieving with query id b79102f7-5abe-4cd9-a728-5f31a8e60200: 在例句分析中，作者为何强调需要将感受与具体需求而非他人行为直接关联？这种表达方式对人际关系动态可能产生哪些潜在影响？\n",
      "\u001b[0m\u001b[1;3;38;5;200mRetrieved node with id, entering: f8f01faf-eab2-4b4c-9af3-cdea0e00a24d\n",
      "\u001b[0m\u001b[1;3;34mRetrieving with query id f8f01faf-eab2-4b4c-9af3-cdea0e00a24d: 在例句分析中，作者为何强调需要将感受与具体需求而非他人行为直接关联？这种表达方式对人际关系动态可能产生哪些潜在影响？\n",
      "\u001b[0m\u001b[1;3;38;5;200mRetrieved node with id, entering: 418dd76e-c8d2-4090-9402-1ac0f4e510be\n",
      "\u001b[0m\u001b[1;3;34mRetrieving with query id 418dd76e-c8d2-4090-9402-1ac0f4e510be: 在例句分析中，作者为何强调需要将感受与具体需求而非他人行为直接关联？这种表达方式对人际关系动态可能产生哪些潜在影响？\n",
      "\u001b[0m\u001b[1;3;38;5;200mRetrieved node with id, entering: fa7e9267-527e-4cbb-89a4-ff9dac43eafc\n",
      "\u001b[0m\u001b[1;3;34mRetrieving with query id fa7e9267-527e-4cbb-89a4-ff9dac43eafc: 在例句分析中，作者为何强调需要将感受与具体需求而非他人行为直接关联？这种表达方式对人际关系动态可能产生哪些潜在影响？\n",
      "\u001b[0m\u001b[1;3;34mRetrieving with query id None: 如果一个人在日常生活中总是混淆观察和评论，这会对他们的人际关系产生哪些潜在的负面影响？\n",
      "\u001b[0m\u001b[1;3;38;5;200mRetrieved node with id, entering: 178ea05a-8856-4c2c-a11a-4953eeb7319c\n",
      "\u001b[0m\u001b[1;3;34mRetrieving with query id 178ea05a-8856-4c2c-a11a-4953eeb7319c: 如果一个人在日常生活中总是混淆观察和评论，这会对他们的人际关系产生哪些潜在的负面影响？\n",
      "\u001b[0m\u001b[1;3;38;5;200mRetrieved node with id, entering: 73ae3b62-8aa5-4755-a429-c42fb320d3e9\n",
      "\u001b[0m\u001b[1;3;34mRetrieving with query id 73ae3b62-8aa5-4755-a429-c42fb320d3e9: 如果一个人在日常生活中总是混淆观察和评论，这会对他们的人际关系产生哪些潜在的负面影响？\n",
      "\u001b[0m\u001b[1;3;38;5;200mRetrieved node with id, entering: 450580d5-88c2-4213-ac43-4f716ee83486\n",
      "\u001b[0m\u001b[1;3;34mRetrieving with query id 450580d5-88c2-4213-ac43-4f716ee83486: 如果一个人在日常生活中总是混淆观察和评论，这会对他们的人际关系产生哪些潜在的负面影响？\n",
      "\u001b[0m\u001b[1;3;38;5;200mRetrieved node with id, entering: 4d96d8e2-83d3-4d7e-bbea-d83cfe6736e2\n",
      "\u001b[0m\u001b[1;3;34mRetrieving with query id 4d96d8e2-83d3-4d7e-bbea-d83cfe6736e2: 如果一个人在日常生活中总是混淆观察和评论，这会对他们的人际关系产生哪些潜在的负面影响？\n",
      "\u001b[0m\u001b[1;3;34mRetrieving with query id None: 非暴力沟通中强调感受的表达，这些情绪词汇的分类如何帮助我们更准确地识别和传达自己的情感需求？\n",
      "\u001b[0m\u001b[1;3;38;5;200mRetrieved node with id, entering: fa7e9267-527e-4cbb-89a4-ff9dac43eafc\n",
      "\u001b[0m\u001b[1;3;34mRetrieving with query id fa7e9267-527e-4cbb-89a4-ff9dac43eafc: 非暴力沟通中强调感受的表达，这些情绪词汇的分类如何帮助我们更准确地识别和传达自己的情感需求？\n",
      "\u001b[0m\u001b[1;3;38;5;200mRetrieved node with id, entering: c1da8187-7d49-467d-b04f-9cdf06068727\n",
      "\u001b[0m\u001b[1;3;34mRetrieving with query id c1da8187-7d49-467d-b04f-9cdf06068727: 非暴力沟通中强调感受的表达，这些情绪词汇的分类如何帮助我们更准确地识别和传达自己的情感需求？\n",
      "\u001b[0m\u001b[1;3;38;5;200mRetrieved node with id, entering: 178ea05a-8856-4c2c-a11a-4953eeb7319c\n",
      "\u001b[0m\u001b[1;3;34mRetrieving with query id 178ea05a-8856-4c2c-a11a-4953eeb7319c: 非暴力沟通中强调感受的表达，这些情绪词汇的分类如何帮助我们更准确地识别和传达自己的情感需求？\n",
      "\u001b[0m\u001b[1;3;34mRetrieving with query id None: 非暴力沟通在中国的传播和发展过程中，社群合作与\"由衷的相互给予\"的精神起到了怎样的关键作用？\n",
      "\u001b[0m\u001b[1;3;38;5;200mRetrieved node with id, entering: 70b4fe18-114b-46da-a5f3-9b099742bcea\n",
      "\u001b[0m\u001b[1;3;34mRetrieving with query id 70b4fe18-114b-46da-a5f3-9b099742bcea: 非暴力沟通在中国的传播和发展过程中，社群合作与\"由衷的相互给予\"的精神起到了怎样的关键作用？\n",
      "\u001b[0m\u001b[1;3;38;5;200mRetrieved node with id, entering: ba1031fe-30d3-40d8-849d-ecf6dcd704c6\n",
      "\u001b[0m\u001b[1;3;34mRetrieving with query id ba1031fe-30d3-40d8-849d-ecf6dcd704c6: 非暴力沟通在中国的传播和发展过程中，社群合作与\"由衷的相互给予\"的精神起到了怎样的关键作用？\n",
      "\u001b[0m\u001b[1;3;34mRetrieving with query id None: 在冲突情境下，如果双方都使用这些具体的感受词汇来描述情绪，会对沟通效果和关系修复产生怎样的积极影响？\n",
      "\u001b[0m"
     ]
    },
    {
     "name": "stderr",
     "output_type": "stream",
     "text": [
      "\u001b[32m2025-04-07 22:45:39.561\u001b[0m | \u001b[33m\u001b[1mWARNING \u001b[0m | \u001b[36mreadai.components.retrievers\u001b[0m:\u001b[36m_retrieve\u001b[0m:\u001b[36m554\u001b[0m - \u001b[33m\u001b[1mBM25Retriever does not support embeddings, skipping...\u001b[0m\n",
      " 47%|████▋     | 47/100 [00:02<00:02, 19.20it/s]\u001b[32m2025-04-07 22:45:39.608\u001b[0m | \u001b[33m\u001b[1mWARNING \u001b[0m | \u001b[36mreadai.components.retrievers\u001b[0m:\u001b[36m_retrieve\u001b[0m:\u001b[36m554\u001b[0m - \u001b[33m\u001b[1mBM25Retriever does not support embeddings, skipping...\u001b[0m\n",
      "\u001b[32m2025-04-07 22:45:39.660\u001b[0m | \u001b[33m\u001b[1mWARNING \u001b[0m | \u001b[36mreadai.components.retrievers\u001b[0m:\u001b[36m_retrieve\u001b[0m:\u001b[36m554\u001b[0m - \u001b[33m\u001b[1mBM25Retriever does not support embeddings, skipping...\u001b[0m\n",
      "\u001b[32m2025-04-07 22:45:39.711\u001b[0m | \u001b[33m\u001b[1mWARNING \u001b[0m | \u001b[36mreadai.components.retrievers\u001b[0m:\u001b[36m_retrieve\u001b[0m:\u001b[36m554\u001b[0m - \u001b[33m\u001b[1mBM25Retriever does not support embeddings, skipping...\u001b[0m\n",
      "\u001b[32m2025-04-07 22:45:39.761\u001b[0m | \u001b[33m\u001b[1mWARNING \u001b[0m | \u001b[36mreadai.components.retrievers\u001b[0m:\u001b[36m_retrieve\u001b[0m:\u001b[36m554\u001b[0m - \u001b[33m\u001b[1mBM25Retriever does not support embeddings, skipping...\u001b[0m\n"
     ]
    },
    {
     "name": "stdout",
     "output_type": "stream",
     "text": [
      "\u001b[1;3;38;5;200mRetrieved node with id, entering: d3055fda-fb34-4ec6-8b9d-a68902dcbfc7\n",
      "\u001b[0m\u001b[1;3;34mRetrieving with query id d3055fda-fb34-4ec6-8b9d-a68902dcbfc7: 在冲突情境下，如果双方都使用这些具体的感受词汇来描述情绪，会对沟通效果和关系修复产生怎样的积极影响？\n",
      "\u001b[0m\u001b[1;3;38;5;200mRetrieved node with id, entering: fa7e9267-527e-4cbb-89a4-ff9dac43eafc\n",
      "\u001b[0m\u001b[1;3;34mRetrieving with query id fa7e9267-527e-4cbb-89a4-ff9dac43eafc: 在冲突情境下，如果双方都使用这些具体的感受词汇来描述情绪，会对沟通效果和关系修复产生怎样的积极影响？\n",
      "\u001b[0m\u001b[1;3;38;5;200mRetrieved node with id, entering: e328992d-7516-4b5f-8231-f603590621ad\n",
      "\u001b[0m\u001b[1;3;34mRetrieving with query id e328992d-7516-4b5f-8231-f603590621ad: 在冲突情境下，如果双方都使用这些具体的感受词汇来描述情绪，会对沟通效果和关系修复产生怎样的积极影响？\n",
      "\u001b[0m\u001b[1;3;38;5;200mRetrieved node with id, entering: 84e4badd-1137-4643-90a3-2cce077821b4\n",
      "\u001b[0m\u001b[1;3;34mRetrieving with query id 84e4badd-1137-4643-90a3-2cce077821b4: 在冲突情境下，如果双方都使用这些具体的感受词汇来描述情绪，会对沟通效果和关系修复产生怎样的积极影响？\n",
      "\u001b[0m\u001b[1;3;34mRetrieving with query id None: 翻译作为\"遗憾的艺术\"这一表述，如何反映了非暴力沟通实践中持续学习和成长的核心理念？\n",
      "\u001b[0m\u001b[1;3;38;5;200mRetrieved node with id, entering: ba1031fe-30d3-40d8-849d-ecf6dcd704c6\n",
      "\u001b[0m\u001b[1;3;34mRetrieving with query id ba1031fe-30d3-40d8-849d-ecf6dcd704c6: 翻译作为\"遗憾的艺术\"这一表述，如何反映了非暴力沟通实践中持续学习和成长的核心理念？\n",
      "\u001b[0m\u001b[1;3;38;5;200mRetrieved node with id, entering: 9fddb1c2-8c67-4ee3-b7c3-238754117bde\n",
      "\u001b[0m\u001b[1;3;34mRetrieving with query id 9fddb1c2-8c67-4ee3-b7c3-238754117bde: 翻译作为\"遗憾的艺术\"这一表述，如何反映了非暴力沟通实践中持续学习和成长的核心理念？\n",
      "\u001b[0m\u001b[1;3;38;5;200mRetrieved node with id, entering: a714d676-b256-40c1-b2b2-4d3b7096c22a\n",
      "\u001b[0m\u001b[1;3;34mRetrieving with query id a714d676-b256-40c1-b2b2-4d3b7096c22a: 翻译作为\"遗憾的艺术\"这一表述，如何反映了非暴力沟通实践中持续学习和成长的核心理念？\n",
      "\u001b[0m\u001b[1;3;34mRetrieving with query id None: 为什么作者认为即使语言不足以充分表达感激之情，仍然值得去表达？这与她舅舅照顾祖母时的态度有何内在联系？\n",
      "\u001b[0m\u001b[1;3;38;5;200mRetrieved node with id, entering: b49e4124-e047-4778-9f38-c39769a94c63\n",
      "\u001b[0m\u001b[1;3;34mRetrieving with query id b49e4124-e047-4778-9f38-c39769a94c63: 为什么作者认为即使语言不足以充分表达感激之情，仍然值得去表达？这与她舅舅照顾祖母时的态度有何内在联系？\n",
      "\u001b[0m\u001b[1;3;34mRetrieving with query id None: 如何理解非暴力沟通中“观察”与“评论”的区别，以及这种区分在改善人际关系中的实际作用？\n",
      "\u001b[0m\u001b[1;3;38;5;200mRetrieved node with id, entering: 4d96d8e2-83d3-4d7e-bbea-d83cfe6736e2\n",
      "\u001b[0m\u001b[1;3;34mRetrieving with query id 4d96d8e2-83d3-4d7e-bbea-d83cfe6736e2: 如何理解非暴力沟通中“观察”与“评论”的区别，以及这种区分在改善人际关系中的实际作用？\n",
      "\u001b[0m\u001b[1;3;38;5;200mRetrieved node with id, entering: 73ae3b62-8aa5-4755-a429-c42fb320d3e9\n",
      "\u001b[0m\u001b[1;3;34mRetrieving with query id 73ae3b62-8aa5-4755-a429-c42fb320d3e9: 如何理解非暴力沟通中“观察”与“评论”的区别，以及这种区分在改善人际关系中的实际作用？\n",
      "\u001b[0m\u001b[1;3;34mRetrieving with query id None: 如果作者从未意识到表达感激的重要性，这段经历中哪些关键事件可能改变她的认知轨迹？这种转变对人际关系有何普遍启示？\n",
      "\u001b[0m\u001b[1;3;38;5;200mRetrieved node with id, entering: b49e4124-e047-4778-9f38-c39769a94c63\n",
      "\u001b[0m\u001b[1;3;34mRetrieving with query id b49e4124-e047-4778-9f38-c39769a94c63: 如果作者从未意识到表达感激的重要性，这段经历中哪些关键事件可能改变她的认知轨迹？这种转变对人际关系有何普遍启示？\n",
      "\u001b[0m\u001b[1;3;38;5;200mRetrieved node with id, entering: 178ea05a-8856-4c2c-a11a-4953eeb7319c\n",
      "\u001b[0m\u001b[1;3;34mRetrieving with query id 178ea05a-8856-4c2c-a11a-4953eeb7319c: 如果作者从未意识到表达感激的重要性，这段经历中哪些关键事件可能改变她的认知轨迹？这种转变对人际关系有何普遍启示？\n",
      "\u001b[0m"
     ]
    },
    {
     "name": "stderr",
     "output_type": "stream",
     "text": [
      " 51%|█████     | 51/100 [00:02<00:02, 19.48it/s]\u001b[32m2025-04-07 22:45:39.813\u001b[0m | \u001b[33m\u001b[1mWARNING \u001b[0m | \u001b[36mreadai.components.retrievers\u001b[0m:\u001b[36m_retrieve\u001b[0m:\u001b[36m554\u001b[0m - \u001b[33m\u001b[1mBM25Retriever does not support embeddings, skipping...\u001b[0m\n",
      "\u001b[32m2025-04-07 22:45:39.864\u001b[0m | \u001b[33m\u001b[1mWARNING \u001b[0m | \u001b[36mreadai.components.retrievers\u001b[0m:\u001b[36m_retrieve\u001b[0m:\u001b[36m554\u001b[0m - \u001b[33m\u001b[1mBM25Retriever does not support embeddings, skipping...\u001b[0m\n",
      " 53%|█████▎    | 53/100 [00:02<00:02, 19.48it/s]\u001b[32m2025-04-07 22:45:39.916\u001b[0m | \u001b[33m\u001b[1mWARNING \u001b[0m | \u001b[36mreadai.components.retrievers\u001b[0m:\u001b[36m_retrieve\u001b[0m:\u001b[36m554\u001b[0m - \u001b[33m\u001b[1mBM25Retriever does not support embeddings, skipping...\u001b[0m\n"
     ]
    },
    {
     "name": "stdout",
     "output_type": "stream",
     "text": [
      "\u001b[1;3;34mRetrieving with query id None: 在动态语言与静态语言的对比中，为什么温戴尔·约翰逊认为静态语言无法准确描述现实世界，这种观点对日常沟通有哪些启示？\n",
      "\u001b[0m\u001b[1;3;38;5;200mRetrieved node with id, entering: 4d96d8e2-83d3-4d7e-bbea-d83cfe6736e2\n",
      "\u001b[0m\u001b[1;3;34mRetrieving with query id 4d96d8e2-83d3-4d7e-bbea-d83cfe6736e2: 在动态语言与静态语言的对比中，为什么温戴尔·约翰逊认为静态语言无法准确描述现实世界，这种观点对日常沟通有哪些启示？\n",
      "\u001b[0m\u001b[1;3;34mRetrieving with query id None: 作者通过将\"不得不做\"转化为\"我选择做\"的思维重构，如何揭示了行为动机对个人情绪和决策的根本性影响？\n",
      "\u001b[0m\u001b[1;3;38;5;200mRetrieved node with id, entering: 8fa18fba-2938-4cfc-b594-65906a4af024\n",
      "\u001b[0m\u001b[1;3;34mRetrieving with query id 8fa18fba-2938-4cfc-b594-65906a4af024: 作者通过将\"不得不做\"转化为\"我选择做\"的思维重构，如何揭示了行为动机对个人情绪和决策的根本性影响？\n",
      "\u001b[0m\u001b[1;3;38;5;200mRetrieved node with id, entering: e882a0b2-4cae-4675-9703-e9b6af337738\n",
      "\u001b[0m\u001b[1;3;34mRetrieving with query id e882a0b2-4cae-4675-9703-e9b6af337738: 作者通过将\"不得不做\"转化为\"我选择做\"的思维重构，如何揭示了行为动机对个人情绪和决策的根本性影响？\n",
      "\u001b[0m\u001b[1;3;38;5;200mRetrieved node with id, entering: 1ed10418-51ee-4390-ad0c-bbef9697cf47\n",
      "\u001b[0m\u001b[1;3;34mRetrieving with query id 1ed10418-51ee-4390-ad0c-bbef9697cf47: 作者通过将\"不得不做\"转化为\"我选择做\"的思维重构，如何揭示了行为动机对个人情绪和决策的根本性影响？\n",
      "\u001b[0m\u001b[1;3;38;5;200mRetrieved node with id, entering: f94fdd72-0186-4868-b0b0-25e828667b1f\n",
      "\u001b[0m\u001b[1;3;34mRetrieving with query id f94fdd72-0186-4868-b0b0-25e828667b1f: 作者通过将\"不得不做\"转化为\"我选择做\"的思维重构，如何揭示了行为动机对个人情绪和决策的根本性影响？\n",
      "\u001b[0m\u001b[1;3;34mRetrieving with query id None: 当作者发现写临床报告仅是为了收入而选择放弃时，这一案例是否暗示了现代职场中普遍存在的\"手段与目的脱节\"现象？\n",
      "\u001b[0m\u001b[1;3;38;5;200mRetrieved node with id, entering: 5375af84-d31c-4f54-9210-ff9d174d6648\n",
      "\u001b[0m\u001b[1;3;34mRetrieving with query id 5375af84-d31c-4f54-9210-ff9d174d6648: 当作者发现写临床报告仅是为了收入而选择放弃时，这一案例是否暗示了现代职场中普遍存在的\"手段与目的脱节\"现象？\n",
      "\u001b[0m\u001b[1;3;34mRetrieving with query id None: 为什么日常生活中看似普通的语言交流会被卢森堡博士归类为\"暴力沟通\"，这种归类方式如何揭示了我们习以为常的沟通模式中隐藏的伤害性？\n",
      "\u001b[0m"
     ]
    },
    {
     "name": "stderr",
     "output_type": "stream",
     "text": [
      "\u001b[32m2025-04-07 22:45:39.976\u001b[0m | \u001b[33m\u001b[1mWARNING \u001b[0m | \u001b[36mreadai.components.retrievers\u001b[0m:\u001b[36m_retrieve\u001b[0m:\u001b[36m554\u001b[0m - \u001b[33m\u001b[1mBM25Retriever does not support embeddings, skipping...\u001b[0m\n",
      " 55%|█████▌    | 55/100 [00:03<00:02, 18.95it/s]\u001b[32m2025-04-07 22:45:40.028\u001b[0m | \u001b[33m\u001b[1mWARNING \u001b[0m | \u001b[36mreadai.components.retrievers\u001b[0m:\u001b[36m_retrieve\u001b[0m:\u001b[36m554\u001b[0m - \u001b[33m\u001b[1mBM25Retriever does not support embeddings, skipping...\u001b[0m\n",
      "\u001b[32m2025-04-07 22:45:40.078\u001b[0m | \u001b[33m\u001b[1mWARNING \u001b[0m | \u001b[36mreadai.components.retrievers\u001b[0m:\u001b[36m_retrieve\u001b[0m:\u001b[36m554\u001b[0m - \u001b[33m\u001b[1mBM25Retriever does not support embeddings, skipping...\u001b[0m\n",
      "\u001b[32m2025-04-07 22:45:40.129\u001b[0m | \u001b[33m\u001b[1mWARNING \u001b[0m | \u001b[36mreadai.components.retrievers\u001b[0m:\u001b[36m_retrieve\u001b[0m:\u001b[36m554\u001b[0m - \u001b[33m\u001b[1mBM25Retriever does not support embeddings, skipping...\u001b[0m\n"
     ]
    },
    {
     "name": "stdout",
     "output_type": "stream",
     "text": [
      "\u001b[1;3;38;5;200mRetrieved node with id, entering: ad2f128a-a194-4df7-a1d4-9093cba0a7f3\n",
      "\u001b[0m\u001b[1;3;34mRetrieving with query id ad2f128a-a194-4df7-a1d4-9093cba0a7f3: 为什么日常生活中看似普通的语言交流会被卢森堡博士归类为\"暴力沟通\"，这种归类方式如何揭示了我们习以为常的沟通模式中隐藏的伤害性？\n",
      "\u001b[0m\u001b[1;3;38;5;200mRetrieved node with id, entering: 4ffcbf66-86c0-445f-8e96-d2a2a146d9d8\n",
      "\u001b[0m\u001b[1;3;34mRetrieving with query id 4ffcbf66-86c0-445f-8e96-d2a2a146d9d8: 为什么日常生活中看似普通的语言交流会被卢森堡博士归类为\"暴力沟通\"，这种归类方式如何揭示了我们习以为常的沟通模式中隐藏的伤害性？\n",
      "\u001b[0m\u001b[1;3;34mRetrieving with query id None: 如果在一个家庭冲突场景中应用非暴力沟通原则，具体会如何改变传统争吵模式中的语言表达和问题解决路径？\n",
      "\u001b[0m\u001b[1;3;38;5;200mRetrieved node with id, entering: d1919700-ed29-4f1e-87c4-132889fe1b07\n",
      "\u001b[0m\u001b[1;3;34mRetrieving with query id d1919700-ed29-4f1e-87c4-132889fe1b07: 如果在一个家庭冲突场景中应用非暴力沟通原则，具体会如何改变传统争吵模式中的语言表达和问题解决路径？\n",
      "\u001b[0m\u001b[1;3;38;5;200mRetrieved node with id, entering: ab873a7b-bcb4-41d6-8c3c-da5c788a9469\n",
      "\u001b[0m\u001b[1;3;34mRetrieving with query id ab873a7b-bcb4-41d6-8c3c-da5c788a9469: 如果在一个家庭冲突场景中应用非暴力沟通原则，具体会如何改变传统争吵模式中的语言表达和问题解决路径？\n",
      "\u001b[0m\u001b[1;3;38;5;200mRetrieved node with id, entering: 8dc6ee1f-546f-4be0-b962-94be6d9ecfc0\n",
      "\u001b[0m\u001b[1;3;34mRetrieving with query id 8dc6ee1f-546f-4be0-b962-94be6d9ecfc0: 如果在一个家庭冲突场景中应用非暴力沟通原则，具体会如何改变传统争吵模式中的语言表达和问题解决路径？\n",
      "\u001b[0m\u001b[1;3;34mRetrieving with query id None: 马丁·布伯提出的“我与你”关系在心理治疗中如何克服角色身份带来的障碍，实现真正的坦诚交流？\n",
      "\u001b[0m\u001b[1;3;38;5;200mRetrieved node with id, entering: 20965410-63db-4d5a-98b6-2361f91b966a\n",
      "\u001b[0m\u001b[1;3;34mRetrieving with query id 20965410-63db-4d5a-98b6-2361f91b966a: 马丁·布伯提出的“我与你”关系在心理治疗中如何克服角色身份带来的障碍，实现真正的坦诚交流？\n",
      "\u001b[0m\u001b[1;3;34mRetrieving with query id None: 作者选择用非暴力沟通替代传统诊断方法，这种转变对治疗师与来访者的互动关系可能产生哪些积极或消极的影响？\n",
      "\u001b[0m\u001b[1;3;38;5;200mRetrieved node with id, entering: 20965410-63db-4d5a-98b6-2361f91b966a\n",
      "\u001b[0m\u001b[1;3;34mRetrieving with query id 20965410-63db-4d5a-98b6-2361f91b966a: 作者选择用非暴力沟通替代传统诊断方法，这种转变对治疗师与来访者的互动关系可能产生哪些积极或消极的影响？\n",
      "\u001b[0m\u001b[1;3;38;5;200mRetrieved node with id, entering: eb44cb70-a436-4fca-aa58-92c691b2cda3\n",
      "\u001b[0m\u001b[1;3;34mRetrieving with query id eb44cb70-a436-4fca-aa58-92c691b2cda3: 作者选择用非暴力沟通替代传统诊断方法，这种转变对治疗师与来访者的互动关系可能产生哪些积极或消极的影响？\n",
      "\u001b[0m\u001b[1;3;38;5;200mRetrieved node with id, entering: f9e3750b-36e4-40fa-8af8-c350f3f43933\n",
      "\u001b[0m\u001b[1;3;34mRetrieving with query id f9e3750b-36e4-40fa-8af8-c350f3f43933: 作者选择用非暴力沟通替代传统诊断方法，这种转变对治疗师与来访者的互动关系可能产生哪些积极或消极的影响？\n",
      "\u001b[0m\u001b[1;3;34mRetrieving with query id None: 在冲突情境中，如何区分\"指责他人\"和\"感知他人需求\"这两种沟通方式的本质差异及其对关系修复的影响？\n",
      "\u001b[0m"
     ]
    },
    {
     "name": "stderr",
     "output_type": "stream",
     "text": [
      "\u001b[32m2025-04-07 22:45:40.181\u001b[0m | \u001b[33m\u001b[1mWARNING \u001b[0m | \u001b[36mreadai.components.retrievers\u001b[0m:\u001b[36m_retrieve\u001b[0m:\u001b[36m554\u001b[0m - \u001b[33m\u001b[1mBM25Retriever does not support embeddings, skipping...\u001b[0m\n",
      " 59%|█████▉    | 59/100 [00:03<00:02, 19.28it/s]\u001b[32m2025-04-07 22:45:40.234\u001b[0m | \u001b[33m\u001b[1mWARNING \u001b[0m | \u001b[36mreadai.components.retrievers\u001b[0m:\u001b[36m_retrieve\u001b[0m:\u001b[36m554\u001b[0m - \u001b[33m\u001b[1mBM25Retriever does not support embeddings, skipping...\u001b[0m\n",
      "\u001b[32m2025-04-07 22:45:40.289\u001b[0m | \u001b[33m\u001b[1mWARNING \u001b[0m | \u001b[36mreadai.components.retrievers\u001b[0m:\u001b[36m_retrieve\u001b[0m:\u001b[36m554\u001b[0m - \u001b[33m\u001b[1mBM25Retriever does not support embeddings, skipping...\u001b[0m\n",
      " 61%|██████    | 61/100 [00:03<00:02, 19.13it/s]\u001b[32m2025-04-07 22:45:40.344\u001b[0m | \u001b[33m\u001b[1mWARNING \u001b[0m | \u001b[36mreadai.components.retrievers\u001b[0m:\u001b[36m_retrieve\u001b[0m:\u001b[36m554\u001b[0m - \u001b[33m\u001b[1mBM25Retriever does not support embeddings, skipping...\u001b[0m\n"
     ]
    },
    {
     "name": "stdout",
     "output_type": "stream",
     "text": [
      "\u001b[1;3;38;5;200mRetrieved node with id, entering: ff6e99fc-6299-41a8-99f8-a0824f496e06\n",
      "\u001b[0m\u001b[1;3;34mRetrieving with query id ff6e99fc-6299-41a8-99f8-a0824f496e06: 在冲突情境中，如何区分\"指责他人\"和\"感知他人需求\"这两种沟通方式的本质差异及其对关系修复的影响？\n",
      "\u001b[0m\u001b[1;3;38;5;200mRetrieved node with id, entering: f9320e36-ce4a-499f-89af-3540e37ceb45\n",
      "\u001b[0m\u001b[1;3;34mRetrieving with query id f9320e36-ce4a-499f-89af-3540e37ceb45: 在冲突情境中，如何区分\"指责他人\"和\"感知他人需求\"这两种沟通方式的本质差异及其对关系修复的影响？\n",
      "\u001b[0m\u001b[1;3;34mRetrieving with query id None: 当面对群体嘲笑时，作者通过\"先自我同理再理解他人\"的策略实现关系转变，这种方法在权力不对等（如师生、警民）的紧张关系中是否同样有效？\n",
      "\u001b[0m\u001b[1;3;38;5;200mRetrieved node with id, entering: abbfc665-14de-434c-b3f1-33db67474da4\n",
      "\u001b[0m\u001b[1;3;34mRetrieving with query id abbfc665-14de-434c-b3f1-33db67474da4: 当面对群体嘲笑时，作者通过\"先自我同理再理解他人\"的策略实现关系转变，这种方法在权力不对等（如师生、警民）的紧张关系中是否同样有效？\n",
      "\u001b[0m\u001b[1;3;38;5;200mRetrieved node with id, entering: 45824845-50fa-4b56-b319-1aac40b472ef\n",
      "\u001b[0m\u001b[1;3;34mRetrieving with query id 45824845-50fa-4b56-b319-1aac40b472ef: 当面对群体嘲笑时，作者通过\"先自我同理再理解他人\"的策略实现关系转变，这种方法在权力不对等（如师生、警民）的紧张关系中是否同样有效？\n",
      "\u001b[0m\u001b[1;3;38;5;200mRetrieved node with id, entering: 9821a259-6e9e-400c-9d29-d23e905e3be5\n",
      "\u001b[0m\u001b[1;3;34mRetrieving with query id 9821a259-6e9e-400c-9d29-d23e905e3be5: 当面对群体嘲笑时，作者通过\"先自我同理再理解他人\"的策略实现关系转变，这种方法在权力不对等（如师生、警民）的紧张关系中是否同样有效？\n",
      "\u001b[0m\u001b[1;3;34mRetrieving with query id None: 如何理解“与自己内心最深处、最真诚的人类共同需要相连结”是勇气的来源，这种观点在非暴力沟通理论中扮演着怎样的角色？\n",
      "\u001b[0m\u001b[1;3;38;5;200mRetrieved node with id, entering: d1919700-ed29-4f1e-87c4-132889fe1b07\n",
      "\u001b[0m\u001b[1;3;34mRetrieving with query id d1919700-ed29-4f1e-87c4-132889fe1b07: 如何理解“与自己内心最深处、最真诚的人类共同需要相连结”是勇气的来源，这种观点在非暴力沟通理论中扮演着怎样的角色？\n",
      "\u001b[0m\u001b[1;3;38;5;200mRetrieved node with id, entering: a714d676-b256-40c1-b2b2-4d3b7096c22a\n",
      "\u001b[0m\u001b[1;3;34mRetrieving with query id a714d676-b256-40c1-b2b2-4d3b7096c22a: 如何理解“与自己内心最深处、最真诚的人类共同需要相连结”是勇气的来源，这种观点在非暴力沟通理论中扮演着怎样的角色？\n",
      "\u001b[0m\u001b[1;3;38;5;200mRetrieved node with id, entering: 0a37bec1-0a86-4c56-bac9-f13dc92838e9\n",
      "\u001b[0m\u001b[1;3;34mRetrieving with query id 0a37bec1-0a86-4c56-bac9-f13dc92838e9: 如何理解“与自己内心最深处、最真诚的人类共同需要相连结”是勇气的来源，这种观点在非暴力沟通理论中扮演着怎样的角色？\n",
      "\u001b[0m\u001b[1;3;34mRetrieving with query id None: 凯瑟琳提到中国正在引领世界朝向这种内在连结的方向发展，这一论断是基于怎样的社会文化观察或全球趋势？这种视角与其他跨文化沟通理论有何异同？\n",
      "\u001b[0m\u001b[1;3;38;5;200mRetrieved node with id, entering: 0a37bec1-0a86-4c56-bac9-f13dc92838e9\n",
      "\u001b[0m\u001b[1;3;34mRetrieving with query id 0a37bec1-0a86-4c56-bac9-f13dc92838e9: 凯瑟琳提到中国正在引领世界朝向这种内在连结的方向发展，这一论断是基于怎样的社会文化观察或全球趋势？这种视角与其他跨文化沟通理论有何异同？\n",
      "\u001b[0m\u001b[1;3;34mRetrieving with query id None: 祖母的行为如何体现了非暴力沟通的核心原则，即关注他人的感受和需要而非评判其身份？\n",
      "\u001b[0m"
     ]
    },
    {
     "name": "stderr",
     "output_type": "stream",
     "text": [
      "\u001b[32m2025-04-07 22:45:40.396\u001b[0m | \u001b[33m\u001b[1mWARNING \u001b[0m | \u001b[36mreadai.components.retrievers\u001b[0m:\u001b[36m_retrieve\u001b[0m:\u001b[36m554\u001b[0m - \u001b[33m\u001b[1mBM25Retriever does not support embeddings, skipping...\u001b[0m\n",
      " 63%|██████▎   | 63/100 [00:03<00:01, 19.00it/s]\u001b[32m2025-04-07 22:45:40.460\u001b[0m | \u001b[33m\u001b[1mWARNING \u001b[0m | \u001b[36mreadai.components.retrievers\u001b[0m:\u001b[36m_retrieve\u001b[0m:\u001b[36m554\u001b[0m - \u001b[33m\u001b[1mBM25Retriever does not support embeddings, skipping...\u001b[0m\n",
      "\u001b[32m2025-04-07 22:45:40.535\u001b[0m | \u001b[33m\u001b[1mWARNING \u001b[0m | \u001b[36mreadai.components.retrievers\u001b[0m:\u001b[36m_retrieve\u001b[0m:\u001b[36m554\u001b[0m - \u001b[33m\u001b[1mBM25Retriever does not support embeddings, skipping...\u001b[0m\n",
      " 65%|██████▌   | 65/100 [00:03<00:01, 17.57it/s]\u001b[32m2025-04-07 22:45:40.596\u001b[0m | \u001b[33m\u001b[1mWARNING \u001b[0m | \u001b[36mreadai.components.retrievers\u001b[0m:\u001b[36m_retrieve\u001b[0m:\u001b[36m554\u001b[0m - \u001b[33m\u001b[1mBM25Retriever does not support embeddings, skipping...\u001b[0m\n"
     ]
    },
    {
     "name": "stdout",
     "output_type": "stream",
     "text": [
      "\u001b[1;3;38;5;200mRetrieved node with id, entering: 413c4ff7-f648-43a0-ae53-e461d7f3e155\n",
      "\u001b[0m\u001b[1;3;34mRetrieving with query id 413c4ff7-f648-43a0-ae53-e461d7f3e155: 祖母的行为如何体现了非暴力沟通的核心原则，即关注他人的感受和需要而非评判其身份？\n",
      "\u001b[0m\u001b[1;3;38;5;200mRetrieved node with id, entering: 2b87270d-51bd-46c9-b2f7-b3600b0d3fd1\n",
      "\u001b[0m\u001b[1;3;34mRetrieving with query id 2b87270d-51bd-46c9-b2f7-b3600b0d3fd1: 祖母的行为如何体现了非暴力沟通的核心原则，即关注他人的感受和需要而非评判其身份？\n",
      "\u001b[0m\u001b[1;3;38;5;200mRetrieved node with id, entering: 9dd06155-3183-4d12-8c83-23b82376c04c\n",
      "\u001b[0m\u001b[1;3;34mRetrieving with query id 9dd06155-3183-4d12-8c83-23b82376c04c: 祖母的行为如何体现了非暴力沟通的核心原则，即关注他人的感受和需要而非评判其身份？\n",
      "\u001b[0m\u001b[1;3;38;5;200mRetrieved node with id, entering: 70b4fe18-114b-46da-a5f3-9b099742bcea\n",
      "\u001b[0m\u001b[1;3;34mRetrieving with query id 70b4fe18-114b-46da-a5f3-9b099742bcea: 祖母的行为如何体现了非暴力沟通的核心原则，即关注他人的感受和需要而非评判其身份？\n",
      "\u001b[0m\u001b[1;3;34mRetrieving with query id None: 如果祖母当时选择以社会常规标准评判那位自称\"耶稣\"的陌生人，这个故事可能会如何发展？这反映了怎样的道德选择困境？\n",
      "\u001b[0m\u001b[1;3;38;5;200mRetrieved node with id, entering: a82abb41-9246-4361-8211-e5371c8a418e\n",
      "\u001b[0m\u001b[1;3;34mRetrieving with query id a82abb41-9246-4361-8211-e5371c8a418e: 如果祖母当时选择以社会常规标准评判那位自称\"耶稣\"的陌生人，这个故事可能会如何发展？这反映了怎样的道德选择困境？\n",
      "\u001b[0m\u001b[1;3;38;5;200mRetrieved node with id, entering: 413c4ff7-f648-43a0-ae53-e461d7f3e155\n",
      "\u001b[0m\u001b[1;3;34mRetrieving with query id 413c4ff7-f648-43a0-ae53-e461d7f3e155: 如果祖母当时选择以社会常规标准评判那位自称\"耶稣\"的陌生人，这个故事可能会如何发展？这反映了怎样的道德选择困境？\n",
      "\u001b[0m\u001b[1;3;34mRetrieving with query id None: 庄子提出的\"听其神\"与马丁·布伯的\"同在当下\"概念在同理倾听中有何内在联系？如何理解这种超越感官的全然临在状态对有效沟通的影响？\n",
      "\u001b[0m\u001b[1;3;38;5;200mRetrieved node with id, entering: d5faf680-8bcf-4eb5-83f1-dbc1bead65b9\n",
      "\u001b[0m\u001b[1;3;34mRetrieving with query id d5faf680-8bcf-4eb5-83f1-dbc1bead65b9: 庄子提出的\"听其神\"与马丁·布伯的\"同在当下\"概念在同理倾听中有何内在联系？如何理解这种超越感官的全然临在状态对有效沟通的影响？\n",
      "\u001b[0m\u001b[1;3;34mRetrieving with query id None: 当女儿表达自我否定时，父亲立即给予安慰反而导致冲突，这一案例如何体现薇依所说的\"将注意力给予受苦之人是近乎奇迹\"的困难性？我们该如何区分真正的同理与表面安慰？\n",
      "\u001b[0m\u001b[1;3;38;5;200mRetrieved node with id, entering: e63cf40a-0128-4a57-9704-a34dc7f49892\n",
      "\u001b[0m\u001b[1;3;34mRetrieving with query id e63cf40a-0128-4a57-9704-a34dc7f49892: 当女儿表达自我否定时，父亲立即给予安慰反而导致冲突，这一案例如何体现薇依所说的\"将注意力给予受苦之人是近乎奇迹\"的困难性？我们该如何区分真正的同理与表面安慰？\n",
      "\u001b[0m\u001b[1;3;38;5;200mRetrieved node with id, entering: 9821a259-6e9e-400c-9d29-d23e905e3be5\n",
      "\u001b[0m\u001b[1;3;34mRetrieving with query id 9821a259-6e9e-400c-9d29-d23e905e3be5: 当女儿表达自我否定时，父亲立即给予安慰反而导致冲突，这一案例如何体现薇依所说的\"将注意力给予受苦之人是近乎奇迹\"的困难性？我们该如何区分真正的同理与表面安慰？\n",
      "\u001b[0m\u001b[1;3;38;5;200mRetrieved node with id, entering: d5faf680-8bcf-4eb5-83f1-dbc1bead65b9\n",
      "\u001b[0m\u001b[1;3;34mRetrieving with query id d5faf680-8bcf-4eb5-83f1-dbc1bead65b9: 当女儿表达自我否定时，父亲立即给予安慰反而导致冲突，这一案例如何体现薇依所说的\"将注意力给予受苦之人是近乎奇迹\"的困难性？我们该如何区分真正的同理与表面安慰？\n",
      "\u001b[0m"
     ]
    },
    {
     "name": "stderr",
     "output_type": "stream",
     "text": [
      "\u001b[32m2025-04-07 22:45:40.641\u001b[0m | \u001b[33m\u001b[1mWARNING \u001b[0m | \u001b[36mreadai.components.retrievers\u001b[0m:\u001b[36m_retrieve\u001b[0m:\u001b[36m554\u001b[0m - \u001b[33m\u001b[1mBM25Retriever does not support embeddings, skipping...\u001b[0m\n",
      " 67%|██████▋   | 67/100 [00:03<00:01, 18.02it/s]\u001b[32m2025-04-07 22:45:40.688\u001b[0m | \u001b[33m\u001b[1mWARNING \u001b[0m | \u001b[36mreadai.components.retrievers\u001b[0m:\u001b[36m_retrieve\u001b[0m:\u001b[36m554\u001b[0m - \u001b[33m\u001b[1mBM25Retriever does not support embeddings, skipping...\u001b[0m\n",
      "\u001b[32m2025-04-07 22:45:40.739\u001b[0m | \u001b[33m\u001b[1mWARNING \u001b[0m | \u001b[36mreadai.components.retrievers\u001b[0m:\u001b[36m_retrieve\u001b[0m:\u001b[36m554\u001b[0m - \u001b[33m\u001b[1mBM25Retriever does not support embeddings, skipping...\u001b[0m\n",
      "\u001b[32m2025-04-07 22:45:40.787\u001b[0m | \u001b[33m\u001b[1mWARNING \u001b[0m | \u001b[36mreadai.components.retrievers\u001b[0m:\u001b[36m_retrieve\u001b[0m:\u001b[36m554\u001b[0m - \u001b[33m\u001b[1mBM25Retriever does not support embeddings, skipping...\u001b[0m\n"
     ]
    },
    {
     "name": "stdout",
     "output_type": "stream",
     "text": [
      "\u001b[1;3;34mRetrieving with query id None: 在对话中，B的回应方式如何影响A的情绪和双方的关系？\n",
      "\u001b[0m\u001b[1;3;38;5;200mRetrieved node with id, entering: 42291ea0-951d-4307-92e6-04f4c430ea17\n",
      "\u001b[0m\u001b[1;3;34mRetrieving with query id 42291ea0-951d-4307-92e6-04f4c430ea17: 在对话中，B的回应方式如何影响A的情绪和双方的关系？\n",
      "\u001b[0m\u001b[1;3;38;5;200mRetrieved node with id, entering: b7375e65-c770-4595-80dc-5cbbc8c270f9\n",
      "\u001b[0m\u001b[1;3;34mRetrieving with query id b7375e65-c770-4595-80dc-5cbbc8c270f9: 在对话中，B的回应方式如何影响A的情绪和双方的关系？\n",
      "\u001b[0m\u001b[1;3;34mRetrieving with query id None: 如果B在对话7中采用同理心回应而非直接给出建议，可能会对A的心理状态产生怎样的不同影响？\n",
      "\u001b[0m\u001b[1;3;38;5;200mRetrieved node with id, entering: b7375e65-c770-4595-80dc-5cbbc8c270f9\n",
      "\u001b[0m\u001b[1;3;34mRetrieving with query id b7375e65-c770-4595-80dc-5cbbc8c270f9: 如果B在对话7中采用同理心回应而非直接给出建议，可能会对A的心理状态产生怎样的不同影响？\n",
      "\u001b[0m\u001b[1;3;38;5;200mRetrieved node with id, entering: 42291ea0-951d-4307-92e6-04f4c430ea17\n",
      "\u001b[0m\u001b[1;3;34mRetrieving with query id 42291ea0-951d-4307-92e6-04f4c430ea17: 如果B在对话7中采用同理心回应而非直接给出建议，可能会对A的心理状态产生怎样的不同影响？\n",
      "\u001b[0m\u001b[1;3;34mRetrieving with query id None: 在极端恶劣的环境下，如艾提·海勒申在集中营的经历，为什么有些人能够保持慈悲之心而非被仇恨吞噬？\n",
      "\u001b[0m\u001b[1;3;38;5;200mRetrieved node with id, entering: 8e25fec5-d7f9-4bb2-89c2-1da4eccae291\n",
      "\u001b[0m\u001b[1;3;34mRetrieving with query id 8e25fec5-d7f9-4bb2-89c2-1da4eccae291: 在极端恶劣的环境下，如艾提·海勒申在集中营的经历，为什么有些人能够保持慈悲之心而非被仇恨吞噬？\n",
      "\u001b[0m\u001b[1;3;34mRetrieving with query id None: 非暴力沟通方法如何通过语言和表达方式帮助我们重新连接天性中的善意，并减少暴力行为的发生？\n",
      "\u001b[0m\u001b[1;3;38;5;200mRetrieved node with id, entering: 8e25fec5-d7f9-4bb2-89c2-1da4eccae291\n",
      "\u001b[0m\u001b[1;3;34mRetrieving with query id 8e25fec5-d7f9-4bb2-89c2-1da4eccae291: 非暴力沟通方法如何通过语言和表达方式帮助我们重新连接天性中的善意，并减少暴力行为的发生？\n",
      "\u001b[0m\u001b[1;3;38;5;200mRetrieved node with id, entering: 4ffcbf66-86c0-445f-8e96-d2a2a146d9d8\n",
      "\u001b[0m\u001b[1;3;34mRetrieving with query id 4ffcbf66-86c0-445f-8e96-d2a2a146d9d8: 非暴力沟通方法如何通过语言和表达方式帮助我们重新连接天性中的善意，并减少暴力行为的发生？\n",
      "\u001b[0m\u001b[1;3;34mRetrieving with query id None: 玛拉从“情绪的奴隶”到“面目可憎”再到“情绪的主人”的转变过程，如何体现了非暴力沟通理论中关于情绪自由和个人成长的核心观点？\n",
      "\u001b[0m"
     ]
    },
    {
     "name": "stderr",
     "output_type": "stream",
     "text": [
      "\u001b[32m2025-04-07 22:45:40.833\u001b[0m | \u001b[33m\u001b[1mWARNING \u001b[0m | \u001b[36mreadai.components.retrievers\u001b[0m:\u001b[36m_retrieve\u001b[0m:\u001b[36m554\u001b[0m - \u001b[33m\u001b[1mBM25Retriever does not support embeddings, skipping...\u001b[0m\n",
      " 71%|███████   | 71/100 [00:03<00:01, 18.93it/s]\u001b[32m2025-04-07 22:45:40.892\u001b[0m | \u001b[33m\u001b[1mWARNING \u001b[0m | \u001b[36mreadai.components.retrievers\u001b[0m:\u001b[36m_retrieve\u001b[0m:\u001b[36m554\u001b[0m - \u001b[33m\u001b[1mBM25Retriever does not support embeddings, skipping...\u001b[0m\n",
      "\u001b[32m2025-04-07 22:45:40.946\u001b[0m | \u001b[33m\u001b[1mWARNING \u001b[0m | \u001b[36mreadai.components.retrievers\u001b[0m:\u001b[36m_retrieve\u001b[0m:\u001b[36m554\u001b[0m - \u001b[33m\u001b[1mBM25Retriever does not support embeddings, skipping...\u001b[0m\n",
      " 73%|███████▎  | 73/100 [00:04<00:01, 18.82it/s]\u001b[32m2025-04-07 22:45:40.998\u001b[0m | \u001b[33m\u001b[1mWARNING \u001b[0m | \u001b[36mreadai.components.retrievers\u001b[0m:\u001b[36m_retrieve\u001b[0m:\u001b[36m554\u001b[0m - \u001b[33m\u001b[1mBM25Retriever does not support embeddings, skipping...\u001b[0m\n"
     ]
    },
    {
     "name": "stdout",
     "output_type": "stream",
     "text": [
      "\u001b[1;3;38;5;200mRetrieved node with id, entering: f06c86b8-6755-4813-9169-27e250f04efb\n",
      "\u001b[0m\u001b[1;3;34mRetrieving with query id f06c86b8-6755-4813-9169-27e250f04efb: 玛拉从“情绪的奴隶”到“面目可憎”再到“情绪的主人”的转变过程，如何体现了非暴力沟通理论中关于情绪自由和个人成长的核心观点？\n",
      "\u001b[0m\u001b[1;3;38;5;200mRetrieved node with id, entering: dd3898af-8cf9-4698-8036-65365719c6ab\n",
      "\u001b[0m\u001b[1;3;34mRetrieving with query id dd3898af-8cf9-4698-8036-65365719c6ab: 玛拉从“情绪的奴隶”到“面目可憎”再到“情绪的主人”的转变过程，如何体现了非暴力沟通理论中关于情绪自由和个人成长的核心观点？\n",
      "\u001b[0m\u001b[1;3;38;5;200mRetrieved node with id, entering: 178ea05a-8856-4c2c-a11a-4953eeb7319c\n",
      "\u001b[0m\u001b[1;3;34mRetrieving with query id 178ea05a-8856-4c2c-a11a-4953eeb7319c: 玛拉从“情绪的奴隶”到“面目可憎”再到“情绪的主人”的转变过程，如何体现了非暴力沟通理论中关于情绪自由和个人成长的核心观点？\n",
      "\u001b[0m\u001b[1;3;34mRetrieving with query id None: 在非暴力沟通的框架下，为什么作者认为“指责他人”和“指责自己”都不是处理不中听话语的理想方式，而“体会感受与需要”能更有效地建立人际连结？\n",
      "\u001b[0m\u001b[1;3;38;5;200mRetrieved node with id, entering: e882a0b2-4cae-4675-9703-e9b6af337738\n",
      "\u001b[0m\u001b[1;3;34mRetrieving with query id e882a0b2-4cae-4675-9703-e9b6af337738: 在非暴力沟通的框架下，为什么作者认为“指责他人”和“指责自己”都不是处理不中听话语的理想方式，而“体会感受与需要”能更有效地建立人际连结？\n",
      "\u001b[0m\u001b[1;3;38;5;200mRetrieved node with id, entering: d67a56ae-59de-4339-9307-bb51170ce4ba\n",
      "\u001b[0m\u001b[1;3;34mRetrieving with query id d67a56ae-59de-4339-9307-bb51170ce4ba: 在非暴力沟通的框架下，为什么作者认为“指责他人”和“指责自己”都不是处理不中听话语的理想方式，而“体会感受与需要”能更有效地建立人际连结？\n",
      "\u001b[0m\u001b[1;3;38;5;200mRetrieved node with id, entering: fa7e9267-527e-4cbb-89a4-ff9dac43eafc\n",
      "\u001b[0m\u001b[1;3;34mRetrieving with query id fa7e9267-527e-4cbb-89a4-ff9dac43eafc: 在非暴力沟通的框架下，为什么作者认为“指责他人”和“指责自己”都不是处理不中听话语的理想方式，而“体会感受与需要”能更有效地建立人际连结？\n",
      "\u001b[0m\u001b[1;3;38;5;200mRetrieved node with id, entering: 178ea05a-8856-4c2c-a11a-4953eeb7319c\n",
      "\u001b[0m\u001b[1;3;34mRetrieving with query id 178ea05a-8856-4c2c-a11a-4953eeb7319c: 在非暴力沟通的框架下，为什么作者认为“指责他人”和“指责自己”都不是处理不中听话语的理想方式，而“体会感受与需要”能更有效地建立人际连结？\n",
      "\u001b[0m\u001b[1;3;34mRetrieving with query id None: 非暴力沟通中的\"情绪三阶段\"理论如何帮助女性摆脱社会文化对她们情绪表达的束缚？\n",
      "\u001b[0m\u001b[1;3;38;5;200mRetrieved node with id, entering: dd3898af-8cf9-4698-8036-65365719c6ab\n",
      "\u001b[0m\u001b[1;3;34mRetrieving with query id dd3898af-8cf9-4698-8036-65365719c6ab: 非暴力沟通中的\"情绪三阶段\"理论如何帮助女性摆脱社会文化对她们情绪表达的束缚？\n",
      "\u001b[0m\u001b[1;3;38;5;200mRetrieved node with id, entering: 178ea05a-8856-4c2c-a11a-4953eeb7319c\n",
      "\u001b[0m\u001b[1;3;34mRetrieving with query id 178ea05a-8856-4c2c-a11a-4953eeb7319c: 非暴力沟通中的\"情绪三阶段\"理论如何帮助女性摆脱社会文化对她们情绪表达的束缚？\n",
      "\u001b[0m\u001b[1;3;34mRetrieving with query id None: 在食物银行的对话案例中，如果学员没有运用非暴力沟通技巧，而是直接反驳同事的观点，可能会引发怎样的沟通冲突？\n",
      "\u001b[0m\u001b[1;3;38;5;200mRetrieved node with id, entering: dd3898af-8cf9-4698-8036-65365719c6ab\n",
      "\u001b[0m\u001b[1;3;34mRetrieving with query id dd3898af-8cf9-4698-8036-65365719c6ab: 在食物银行的对话案例中，如果学员没有运用非暴力沟通技巧，而是直接反驳同事的观点，可能会引发怎样的沟通冲突？\n",
      "\u001b[0m\u001b[1;3;38;5;200mRetrieved node with id, entering: 72810fee-c047-4df6-87bf-a6a4e6a97936\n",
      "\u001b[0m\u001b[1;3;34mRetrieving with query id 72810fee-c047-4df6-87bf-a6a4e6a97936: 在食物银行的对话案例中，如果学员没有运用非暴力沟通技巧，而是直接反驳同事的观点，可能会引发怎样的沟通冲突？\n",
      "\u001b[0m\u001b[1;3;38;5;200mRetrieved node with id, entering: 2b87270d-51bd-46c9-b2f7-b3600b0d3fd1\n",
      "\u001b[0m\u001b[1;3;34mRetrieving with query id 2b87270d-51bd-46c9-b2f7-b3600b0d3fd1: 在食物银行的对话案例中，如果学员没有运用非暴力沟通技巧，而是直接反驳同事的观点，可能会引发怎样的沟通冲突？\n",
      "\u001b[0m\u001b[1;3;38;5;200mRetrieved node with id, entering: aac15983-a65d-405e-b8df-7657cc337221\n",
      "\u001b[0m\u001b[1;3;34mRetrieving with query id aac15983-a65d-405e-b8df-7657cc337221: 在食物银行的对话案例中，如果学员没有运用非暴力沟通技巧，而是直接反驳同事的观点，可能会引发怎样的沟通冲突？\n",
      "\u001b[0m\u001b[1;3;38;5;200mRetrieved node with id, entering: 0f5ca464-d6d5-48fa-8637-be77e9aa1ef6\n",
      "\u001b[0m\u001b[1;3;34mRetrieving with query id 0f5ca464-d6d5-48fa-8637-be77e9aa1ef6: 在食物银行的对话案例中，如果学员没有运用非暴力沟通技巧，而是直接反驳同事的观点，可能会引发怎样的沟通冲突？\n",
      "\u001b[0m\u001b[1;3;34mRetrieving with query id None: 为什么人们普遍渴望赞赏却对接受赞赏感到不自在，这种矛盾心理反映了怎样的社会文化或心理机制？\n",
      "\u001b[0m"
     ]
    },
    {
     "name": "stderr",
     "output_type": "stream",
     "text": [
      "\u001b[32m2025-04-07 22:45:41.048\u001b[0m | \u001b[33m\u001b[1mWARNING \u001b[0m | \u001b[36mreadai.components.retrievers\u001b[0m:\u001b[36m_retrieve\u001b[0m:\u001b[36m554\u001b[0m - \u001b[33m\u001b[1mBM25Retriever does not support embeddings, skipping...\u001b[0m\n",
      " 75%|███████▌  | 75/100 [00:04<00:01, 18.87it/s]\u001b[32m2025-04-07 22:45:41.097\u001b[0m | \u001b[33m\u001b[1mWARNING \u001b[0m | \u001b[36mreadai.components.retrievers\u001b[0m:\u001b[36m_retrieve\u001b[0m:\u001b[36m554\u001b[0m - \u001b[33m\u001b[1mBM25Retriever does not support embeddings, skipping...\u001b[0m\n",
      "\u001b[32m2025-04-07 22:45:41.144\u001b[0m | \u001b[33m\u001b[1mWARNING \u001b[0m | \u001b[36mreadai.components.retrievers\u001b[0m:\u001b[36m_retrieve\u001b[0m:\u001b[36m554\u001b[0m - \u001b[33m\u001b[1mBM25Retriever does not support embeddings, skipping...\u001b[0m\n",
      "\u001b[32m2025-04-07 22:45:41.192\u001b[0m | \u001b[33m\u001b[1mWARNING \u001b[0m | \u001b[36mreadai.components.retrievers\u001b[0m:\u001b[36m_retrieve\u001b[0m:\u001b[36m554\u001b[0m - \u001b[33m\u001b[1mBM25Retriever does not support embeddings, skipping...\u001b[0m\n",
      "\u001b[32m2025-04-07 22:45:41.244\u001b[0m | \u001b[33m\u001b[1mWARNING \u001b[0m | \u001b[36mreadai.components.retrievers\u001b[0m:\u001b[36m_retrieve\u001b[0m:\u001b[36m554\u001b[0m - \u001b[33m\u001b[1mBM25Retriever does not support embeddings, skipping...\u001b[0m\n"
     ]
    },
    {
     "name": "stdout",
     "output_type": "stream",
     "text": [
      "\u001b[1;3;38;5;200mRetrieved node with id, entering: 51962b79-31c8-4a59-b10c-b8f9bacd368f\n",
      "\u001b[0m\u001b[1;3;34mRetrieving with query id 51962b79-31c8-4a59-b10c-b8f9bacd368f: 为什么人们普遍渴望赞赏却对接受赞赏感到不自在，这种矛盾心理反映了怎样的社会文化或心理机制？\n",
      "\u001b[0m\u001b[1;3;34mRetrieving with query id None: 如果社会普遍采用更积极的赞赏文化，会对个人心理健康和组织效率产生哪些潜在影响？\n",
      "\u001b[0m\u001b[1;3;38;5;200mRetrieved node with id, entering: 22d46e5c-117a-4f6a-bbb0-d80056f6b97e\n",
      "\u001b[0m\u001b[1;3;34mRetrieving with query id 22d46e5c-117a-4f6a-bbb0-d80056f6b97e: 如果社会普遍采用更积极的赞赏文化，会对个人心理健康和组织效率产生哪些潜在影响？\n",
      "\u001b[0m\u001b[1;3;38;5;200mRetrieved node with id, entering: a22551e2-8d10-4857-b50d-5bcc0edcf73e\n",
      "\u001b[0m\u001b[1;3;34mRetrieving with query id a22551e2-8d10-4857-b50d-5bcc0edcf73e: 如果社会普遍采用更积极的赞赏文化，会对个人心理健康和组织效率产生哪些潜在影响？\n",
      "\u001b[0m\u001b[1;3;38;5;200mRetrieved node with id, entering: 51962b79-31c8-4a59-b10c-b8f9bacd368f\n",
      "\u001b[0m\u001b[1;3;34mRetrieving with query id 51962b79-31c8-4a59-b10c-b8f9bacd368f: 如果社会普遍采用更积极的赞赏文化，会对个人心理健康和组织效率产生哪些潜在影响？\n",
      "\u001b[0m\u001b[1;3;34mRetrieving with query id None: 非暴力沟通如何帮助个体在消费主义和信息碎片化的时代中重拾真我与内在完整性？\n",
      "\u001b[0m\u001b[1;3;38;5;200mRetrieved node with id, entering: a714d676-b256-40c1-b2b2-4d3b7096c22a\n",
      "\u001b[0m\u001b[1;3;34mRetrieving with query id a714d676-b256-40c1-b2b2-4d3b7096c22a: 非暴力沟通如何帮助个体在消费主义和信息碎片化的时代中重拾真我与内在完整性？\n",
      "\u001b[0m\u001b[1;3;38;5;200mRetrieved node with id, entering: 178ea05a-8856-4c2c-a11a-4953eeb7319c\n",
      "\u001b[0m\u001b[1;3;34mRetrieving with query id 178ea05a-8856-4c2c-a11a-4953eeb7319c: 非暴力沟通如何帮助个体在消费主义和信息碎片化的时代中重拾真我与内在完整性？\n",
      "\u001b[0m\u001b[1;3;38;5;200mRetrieved node with id, entering: 22926b47-f7a6-4e54-8381-03fa1414465c\n",
      "\u001b[0m\u001b[1;3;34mRetrieving with query id 22926b47-f7a6-4e54-8381-03fa1414465c: 非暴力沟通如何帮助个体在消费主义和信息碎片化的时代中重拾真我与内在完整性？\n",
      "\u001b[0m\u001b[1;3;34mRetrieving with query id None: 马歇尔博士提出的“连结的底层逻辑”与传统的沟通技巧相比，在建立人际关系方面有哪些根本性的差异？\n",
      "\u001b[0m\u001b[1;3;38;5;200mRetrieved node with id, entering: 9fddb1c2-8c67-4ee3-b7c3-238754117bde\n",
      "\u001b[0m\u001b[1;3;34mRetrieving with query id 9fddb1c2-8c67-4ee3-b7c3-238754117bde: 马歇尔博士提出的“连结的底层逻辑”与传统的沟通技巧相比，在建立人际关系方面有哪些根本性的差异？\n",
      "\u001b[0m\u001b[1;3;38;5;200mRetrieved node with id, entering: abbfc665-14de-434c-b3f1-33db67474da4\n",
      "\u001b[0m\u001b[1;3;34mRetrieving with query id abbfc665-14de-434c-b3f1-33db67474da4: 马歇尔博士提出的“连结的底层逻辑”与传统的沟通技巧相比，在建立人际关系方面有哪些根本性的差异？\n",
      "\u001b[0m\u001b[1;3;34mRetrieving with query id None: 在冲突调解中，角色扮演和录音设备的使用如何帮助双方克服不愿会面的心理障碍，并促进相互理解？\n",
      "\u001b[0m\u001b[1;3;38;5;200mRetrieved node with id, entering: b37fccca-7378-4a91-af6b-8f3c71a9e37f\n",
      "\u001b[0m\u001b[1;3;34mRetrieving with query id b37fccca-7378-4a91-af6b-8f3c71a9e37f: 在冲突调解中，角色扮演和录音设备的使用如何帮助双方克服不愿会面的心理障碍，并促进相互理解？\n",
      "\u001b[0m"
     ]
    },
    {
     "name": "stderr",
     "output_type": "stream",
     "text": [
      " 79%|███████▉  | 79/100 [00:04<00:01, 19.58it/s]\u001b[32m2025-04-07 22:45:41.292\u001b[0m | \u001b[33m\u001b[1mWARNING \u001b[0m | \u001b[36mreadai.components.retrievers\u001b[0m:\u001b[36m_retrieve\u001b[0m:\u001b[36m554\u001b[0m - \u001b[33m\u001b[1mBM25Retriever does not support embeddings, skipping...\u001b[0m\n",
      "\u001b[32m2025-04-07 22:45:41.345\u001b[0m | \u001b[33m\u001b[1mWARNING \u001b[0m | \u001b[36mreadai.components.retrievers\u001b[0m:\u001b[36m_retrieve\u001b[0m:\u001b[36m554\u001b[0m - \u001b[33m\u001b[1mBM25Retriever does not support embeddings, skipping...\u001b[0m\n",
      " 81%|████████  | 81/100 [00:04<00:00, 19.63it/s]\u001b[32m2025-04-07 22:45:41.393\u001b[0m | \u001b[33m\u001b[1mWARNING \u001b[0m | \u001b[36mreadai.components.retrievers\u001b[0m:\u001b[36m_retrieve\u001b[0m:\u001b[36m554\u001b[0m - \u001b[33m\u001b[1mBM25Retriever does not support embeddings, skipping...\u001b[0m\n",
      "\u001b[32m2025-04-07 22:45:41.446\u001b[0m | \u001b[33m\u001b[1mWARNING \u001b[0m | \u001b[36mreadai.components.retrievers\u001b[0m:\u001b[36m_retrieve\u001b[0m:\u001b[36m554\u001b[0m - \u001b[33m\u001b[1mBM25Retriever does not support embeddings, skipping...\u001b[0m\n"
     ]
    },
    {
     "name": "stdout",
     "output_type": "stream",
     "text": [
      "\u001b[1;3;34mRetrieving with query id None: 当调解人在未受邀情况下介入他人冲突（如制止家暴或商务纠纷）时，这种\"非正式调解\"可能面临哪些伦理困境或实际风险？\n",
      "\u001b[0m\u001b[1;3;38;5;200mRetrieved node with id, entering: b37fccca-7378-4a91-af6b-8f3c71a9e37f\n",
      "\u001b[0m\u001b[1;3;34mRetrieving with query id b37fccca-7378-4a91-af6b-8f3c71a9e37f: 当调解人在未受邀情况下介入他人冲突（如制止家暴或商务纠纷）时，这种\"非正式调解\"可能面临哪些伦理困境或实际风险？\n",
      "\u001b[0m\u001b[1;3;38;5;200mRetrieved node with id, entering: 7170b0e8-8127-4660-9ac4-aa3a20e2b31a\n",
      "\u001b[0m\u001b[1;3;34mRetrieving with query id 7170b0e8-8127-4660-9ac4-aa3a20e2b31a: 当调解人在未受邀情况下介入他人冲突（如制止家暴或商务纠纷）时，这种\"非正式调解\"可能面临哪些伦理困境或实际风险？\n",
      "\u001b[0m\u001b[1;3;38;5;200mRetrieved node with id, entering: 88a9d966-607a-4d6d-b257-da16055582fe\n",
      "\u001b[0m\u001b[1;3;34mRetrieving with query id 88a9d966-607a-4d6d-b257-da16055582fe: 当调解人在未受邀情况下介入他人冲突（如制止家暴或商务纠纷）时，这种\"非正式调解\"可能面临哪些伦理困境或实际风险？\n",
      "\u001b[0m\u001b[1;3;34mRetrieving with query id None: 外在奖励（如金钱和他人认可）如何影响我们的行为动机，以及这种影响是否可能削弱我们内在的满足感？\n",
      "\u001b[0m\u001b[1;3;38;5;200mRetrieved node with id, entering: 22d46e5c-117a-4f6a-bbb0-d80056f6b97e\n",
      "\u001b[0m\u001b[1;3;34mRetrieving with query id 22d46e5c-117a-4f6a-bbb0-d80056f6b97e: 外在奖励（如金钱和他人认可）如何影响我们的行为动机，以及这种影响是否可能削弱我们内在的满足感？\n",
      "\u001b[0m\u001b[1;3;34mRetrieving with query id None: 在非暴力沟通的框架下，如何区分“需要”与满足需要的“策略”，以避免将手段（如金钱）误认为目的？\n",
      "\u001b[0m\u001b[1;3;38;5;200mRetrieved node with id, entering: 22d46e5c-117a-4f6a-bbb0-d80056f6b97e\n",
      "\u001b[0m\u001b[1;3;34mRetrieving with query id 22d46e5c-117a-4f6a-bbb0-d80056f6b97e: 在非暴力沟通的框架下，如何区分“需要”与满足需要的“策略”，以避免将手段（如金钱）误认为目的？\n",
      "\u001b[0m\u001b[1;3;38;5;200mRetrieved node with id, entering: 8dc6ee1f-546f-4be0-b962-94be6d9ecfc0\n",
      "\u001b[0m\u001b[1;3;34mRetrieving with query id 8dc6ee1f-546f-4be0-b962-94be6d9ecfc0: 在非暴力沟通的框架下，如何区分“需要”与满足需要的“策略”，以避免将手段（如金钱）误认为目的？\n",
      "\u001b[0m\u001b[1;3;34mRetrieving with query id None: 艾瑞斯在非暴力沟通练习中如何意识到自己将莉芙的感受错误归咎于自身，而非理解其内在需求？\n",
      "\u001b[0m\u001b[1;3;38;5;200mRetrieved node with id, entering: 20262ba7-f4ae-4285-9b95-49f35baafba4\n",
      "\u001b[0m\u001b[1;3;34mRetrieving with query id 20262ba7-f4ae-4285-9b95-49f35baafba4: 艾瑞斯在非暴力沟通练习中如何意识到自己将莉芙的感受错误归咎于自身，而非理解其内在需求？\n",
      "\u001b[0m\u001b[1;3;38;5;200mRetrieved node with id, entering: d91a977b-cff0-44bb-8064-cee54480d69a\n",
      "\u001b[0m\u001b[1;3;34mRetrieving with query id d91a977b-cff0-44bb-8064-cee54480d69a: 艾瑞斯在非暴力沟通练习中如何意识到自己将莉芙的感受错误归咎于自身，而非理解其内在需求？\n",
      "\u001b[0m"
     ]
    },
    {
     "name": "stderr",
     "output_type": "stream",
     "text": [
      " 83%|████████▎ | 83/100 [00:04<00:00, 19.62it/s]\u001b[32m2025-04-07 22:45:41.508\u001b[0m | \u001b[33m\u001b[1mWARNING \u001b[0m | \u001b[36mreadai.components.retrievers\u001b[0m:\u001b[36m_retrieve\u001b[0m:\u001b[36m554\u001b[0m - \u001b[33m\u001b[1mBM25Retriever does not support embeddings, skipping...\u001b[0m\n",
      "\u001b[32m2025-04-07 22:45:41.580\u001b[0m | \u001b[33m\u001b[1mWARNING \u001b[0m | \u001b[36mreadai.components.retrievers\u001b[0m:\u001b[36m_retrieve\u001b[0m:\u001b[36m554\u001b[0m - \u001b[33m\u001b[1mBM25Retriever does not support embeddings, skipping...\u001b[0m\n",
      " 85%|████████▌ | 85/100 [00:04<00:00, 18.30it/s]\u001b[32m2025-04-07 22:45:41.625\u001b[0m | \u001b[33m\u001b[1mWARNING \u001b[0m | \u001b[36mreadai.components.retrievers\u001b[0m:\u001b[36m_retrieve\u001b[0m:\u001b[36m554\u001b[0m - \u001b[33m\u001b[1mBM25Retriever does not support embeddings, skipping...\u001b[0m\n"
     ]
    },
    {
     "name": "stdout",
     "output_type": "stream",
     "text": [
      "\u001b[1;3;34mRetrieving with query id None: 如果莉芙一开始就明确表达渴望与艾瑞斯建立真实连结，这段对话的冲突和误解会如何被避免或转化？\n",
      "\u001b[0m\u001b[1;3;38;5;200mRetrieved node with id, entering: 20262ba7-f4ae-4285-9b95-49f35baafba4\n",
      "\u001b[0m\u001b[1;3;34mRetrieving with query id 20262ba7-f4ae-4285-9b95-49f35baafba4: 如果莉芙一开始就明确表达渴望与艾瑞斯建立真实连结，这段对话的冲突和误解会如何被避免或转化？\n",
      "\u001b[0m\u001b[1;3;34mRetrieving with query id None: 非暴力沟通的核心概念如何帮助人们在日常冲突中建立更有效的对话模式？\n",
      "\u001b[0m\u001b[1;3;38;5;200mRetrieved node with id, entering: d1919700-ed29-4f1e-87c4-132889fe1b07\n",
      "\u001b[0m\u001b[1;3;34mRetrieving with query id d1919700-ed29-4f1e-87c4-132889fe1b07: 非暴力沟通的核心概念如何帮助人们在日常冲突中建立更有效的对话模式？\n",
      "\u001b[0m\u001b[1;3;38;5;200mRetrieved node with id, entering: 4ffcbf66-86c0-445f-8e96-d2a2a146d9d8\n",
      "\u001b[0m\u001b[1;3;34mRetrieving with query id 4ffcbf66-86c0-445f-8e96-d2a2a146d9d8: 非暴力沟通的核心概念如何帮助人们在日常冲突中建立更有效的对话模式？\n",
      "\u001b[0m\u001b[1;3;38;5;200mRetrieved node with id, entering: 120de365-6246-4f00-a0e1-99ce4e7299fa\n",
      "\u001b[0m\u001b[1;3;34mRetrieving with query id 120de365-6246-4f00-a0e1-99ce4e7299fa: 非暴力沟通的核心概念如何帮助人们在日常冲突中建立更有效的对话模式？\n",
      "\u001b[0m\u001b[1;3;34mRetrieving with query id None: 如果将该书的沟通原则应用于跨文化交际场景，可能会面临哪些挑战或产生哪些独特效果？\n",
      "\u001b[0m\u001b[1;3;38;5;200mRetrieved node with id, entering: e328992d-7516-4b5f-8231-f603590621ad\n",
      "\u001b[0m\u001b[1;3;34mRetrieving with query id e328992d-7516-4b5f-8231-f603590621ad: 如果将该书的沟通原则应用于跨文化交际场景，可能会面临哪些挑战或产生哪些独特效果？\n",
      "\u001b[0m\u001b[1;3;38;5;200mRetrieved node with id, entering: 0a37bec1-0a86-4c56-bac9-f13dc92838e9\n",
      "\u001b[0m\u001b[1;3;34mRetrieving with query id 0a37bec1-0a86-4c56-bac9-f13dc92838e9: 如果将该书的沟通原则应用于跨文化交际场景，可能会面临哪些挑战或产生哪些独特效果？\n",
      "\u001b[0m\u001b[1;3;38;5;200mRetrieved node with id, entering: fe6ea9c7-e6e6-4b53-b1c8-286e64126f4a\n",
      "\u001b[0m\u001b[1;3;34mRetrieving with query id fe6ea9c7-e6e6-4b53-b1c8-286e64126f4a: 如果将该书的沟通原则应用于跨文化交际场景，可能会面临哪些挑战或产生哪些独特效果？\n",
      "\u001b[0m\u001b[1;3;34mRetrieving with query id None: 非暴力沟通强调建立人与人之间的连结是化解冲突的核心，这与传统妥协式解决方式相比有哪些根本性差异？\n",
      "\u001b[0m"
     ]
    },
    {
     "name": "stderr",
     "output_type": "stream",
     "text": [
      "\u001b[32m2025-04-07 22:45:41.675\u001b[0m | \u001b[33m\u001b[1mWARNING \u001b[0m | \u001b[36mreadai.components.retrievers\u001b[0m:\u001b[36m_retrieve\u001b[0m:\u001b[36m554\u001b[0m - \u001b[33m\u001b[1mBM25Retriever does not support embeddings, skipping...\u001b[0m\n",
      " 87%|████████▋ | 87/100 [00:04<00:00, 18.70it/s]\u001b[32m2025-04-07 22:45:41.724\u001b[0m | \u001b[33m\u001b[1mWARNING \u001b[0m | \u001b[36mreadai.components.retrievers\u001b[0m:\u001b[36m_retrieve\u001b[0m:\u001b[36m554\u001b[0m - \u001b[33m\u001b[1mBM25Retriever does not support embeddings, skipping...\u001b[0m\n",
      "\u001b[32m2025-04-07 22:45:41.767\u001b[0m | \u001b[33m\u001b[1mWARNING \u001b[0m | \u001b[36mreadai.components.retrievers\u001b[0m:\u001b[36m_retrieve\u001b[0m:\u001b[36m554\u001b[0m - \u001b[33m\u001b[1mBM25Retriever does not support embeddings, skipping...\u001b[0m\n",
      "\u001b[32m2025-04-07 22:45:41.810\u001b[0m | \u001b[33m\u001b[1mWARNING \u001b[0m | \u001b[36mreadai.components.retrievers\u001b[0m:\u001b[36m_retrieve\u001b[0m:\u001b[36m554\u001b[0m - \u001b[33m\u001b[1mBM25Retriever does not support embeddings, skipping...\u001b[0m\n",
      "\u001b[32m2025-04-07 22:45:41.853\u001b[0m | \u001b[33m\u001b[1mWARNING \u001b[0m | \u001b[36mreadai.components.retrievers\u001b[0m:\u001b[36m_retrieve\u001b[0m:\u001b[36m554\u001b[0m - \u001b[33m\u001b[1mBM25Retriever does not support embeddings, skipping...\u001b[0m\n",
      " 91%|█████████ | 91/100 [00:04<00:00, 20.38it/s]"
     ]
    },
    {
     "name": "stdout",
     "output_type": "stream",
     "text": [
      "\u001b[1;3;38;5;200mRetrieved node with id, entering: d1919700-ed29-4f1e-87c4-132889fe1b07\n",
      "\u001b[0m\u001b[1;3;34mRetrieving with query id d1919700-ed29-4f1e-87c4-132889fe1b07: 非暴力沟通强调建立人与人之间的连结是化解冲突的核心，这与传统妥协式解决方式相比有哪些根本性差异？\n",
      "\u001b[0m\u001b[1;3;38;5;200mRetrieved node with id, entering: 88a9d966-607a-4d6d-b257-da16055582fe\n",
      "\u001b[0m\u001b[1;3;34mRetrieving with query id 88a9d966-607a-4d6d-b257-da16055582fe: 非暴力沟通强调建立人与人之间的连结是化解冲突的核心，这与传统妥协式解决方式相比有哪些根本性差异？\n",
      "\u001b[0m\u001b[1;3;34mRetrieving with query id None: 在实践非暴力沟通时，如果冲突一方拒绝建立情感连结或坚持\"非赢即输\"的立场，调解者可以采取哪些策略来突破这种僵局？\n",
      "\u001b[0m\u001b[1;3;38;5;200mRetrieved node with id, entering: d1919700-ed29-4f1e-87c4-132889fe1b07\n",
      "\u001b[0m\u001b[1;3;34mRetrieving with query id d1919700-ed29-4f1e-87c4-132889fe1b07: 在实践非暴力沟通时，如果冲突一方拒绝建立情感连结或坚持\"非赢即输\"的立场，调解者可以采取哪些策略来突破这种僵局？\n",
      "\u001b[0m\u001b[1;3;38;5;200mRetrieved node with id, entering: 8dc6ee1f-546f-4be0-b962-94be6d9ecfc0\n",
      "\u001b[0m\u001b[1;3;34mRetrieving with query id 8dc6ee1f-546f-4be0-b962-94be6d9ecfc0: 在实践非暴力沟通时，如果冲突一方拒绝建立情感连结或坚持\"非赢即输\"的立场，调解者可以采取哪些策略来突破这种僵局？\n",
      "\u001b[0m\u001b[1;3;34mRetrieving with query id None: 愤怒的表达方式如何影响人际关系的质量与深度？\n",
      "\u001b[0m\u001b[1;3;38;5;200mRetrieved node with id, entering: 836cd93a-6f22-4ca6-a179-c7e6a9b81e21\n",
      "\u001b[0m\u001b[1;3;34mRetrieving with query id 836cd93a-6f22-4ca6-a179-c7e6a9b81e21: 愤怒的表达方式如何影响人际关系的质量与深度？\n",
      "\u001b[0m\u001b[1;3;38;5;200mRetrieved node with id, entering: 2a95ea78-a634-4e2f-b3f8-bf0337da949e\n",
      "\u001b[0m\u001b[1;3;34mRetrieving with query id 2a95ea78-a634-4e2f-b3f8-bf0337da949e: 愤怒的表达方式如何影响人际关系的质量与深度？\n",
      "\u001b[0m\u001b[1;3;38;5;200mRetrieved node with id, entering: acd65277-aa05-4996-9c15-e8bd78acda71\n",
      "\u001b[0m\u001b[1;3;34mRetrieving with query id acd65277-aa05-4996-9c15-e8bd78acda71: 愤怒的表达方式如何影响人际关系的质量与深度？\n",
      "\u001b[0m\u001b[1;3;34mRetrieving with query id None: 如果完全抑制愤怒而非充分表达，可能对个人心理健康产生哪些潜在负面影响？\n",
      "\u001b[0m\u001b[1;3;38;5;200mRetrieved node with id, entering: 836cd93a-6f22-4ca6-a179-c7e6a9b81e21\n",
      "\u001b[0m\u001b[1;3;34mRetrieving with query id 836cd93a-6f22-4ca6-a179-c7e6a9b81e21: 如果完全抑制愤怒而非充分表达，可能对个人心理健康产生哪些潜在负面影响？\n",
      "\u001b[0m\u001b[1;3;38;5;200mRetrieved node with id, entering: 498020ff-519a-41df-ad64-50f31f731eb4\n",
      "\u001b[0m\u001b[1;3;34mRetrieving with query id 498020ff-519a-41df-ad64-50f31f731eb4: 如果完全抑制愤怒而非充分表达，可能对个人心理健康产生哪些潜在负面影响？\n",
      "\u001b[0m\u001b[1;3;38;5;200mRetrieved node with id, entering: 2a95ea78-a634-4e2f-b3f8-bf0337da949e\n",
      "\u001b[0m\u001b[1;3;34mRetrieving with query id 2a95ea78-a634-4e2f-b3f8-bf0337da949e: 如果完全抑制愤怒而非充分表达，可能对个人心理健康产生哪些潜在负面影响？\n",
      "\u001b[0m\u001b[1;3;38;5;200mRetrieved node with id, entering: ce429a51-b424-45a4-9c79-23318b7224d1\n",
      "\u001b[0m\u001b[1;3;34mRetrieving with query id ce429a51-b424-45a4-9c79-23318b7224d1: 如果完全抑制愤怒而非充分表达，可能对个人心理健康产生哪些潜在负面影响？\n",
      "\u001b[0m\u001b[1;3;34mRetrieving with query id None: 愤怒如何从\"满足需要的报警器\"转化为建设性行动，而非惩罚他人的工具？\n",
      "\u001b[0m\u001b[1;3;38;5;200mRetrieved node with id, entering: ce429a51-b424-45a4-9c79-23318b7224d1\n",
      "\u001b[0m\u001b[1;3;34mRetrieving with query id ce429a51-b424-45a4-9c79-23318b7224d1: 愤怒如何从\"满足需要的报警器\"转化为建设性行动，而非惩罚他人的工具？\n",
      "\u001b[0m\u001b[1;3;38;5;200mRetrieved node with id, entering: 9fddb1c2-8c67-4ee3-b7c3-238754117bde\n",
      "\u001b[0m\u001b[1;3;34mRetrieving with query id 9fddb1c2-8c67-4ee3-b7c3-238754117bde: 愤怒如何从\"满足需要的报警器\"转化为建设性行动，而非惩罚他人的工具？\n",
      "\u001b[0m\u001b[1;3;34mRetrieving with query id None: 作者对\"义愤\"的批判是否忽略了社会正义运动中集体愤怒的积极作用？\n",
      "\u001b[0m"
     ]
    },
    {
     "name": "stderr",
     "output_type": "stream",
     "text": [
      "\u001b[32m2025-04-07 22:45:41.897\u001b[0m | \u001b[33m\u001b[1mWARNING \u001b[0m | \u001b[36mreadai.components.retrievers\u001b[0m:\u001b[36m_retrieve\u001b[0m:\u001b[36m554\u001b[0m - \u001b[33m\u001b[1mBM25Retriever does not support embeddings, skipping...\u001b[0m\n",
      "\u001b[32m2025-04-07 22:45:41.945\u001b[0m | \u001b[33m\u001b[1mWARNING \u001b[0m | \u001b[36mreadai.components.retrievers\u001b[0m:\u001b[36m_retrieve\u001b[0m:\u001b[36m554\u001b[0m - \u001b[33m\u001b[1mBM25Retriever does not support embeddings, skipping...\u001b[0m\n",
      "\u001b[32m2025-04-07 22:45:41.999\u001b[0m | \u001b[33m\u001b[1mWARNING \u001b[0m | \u001b[36mreadai.components.retrievers\u001b[0m:\u001b[36m_retrieve\u001b[0m:\u001b[36m554\u001b[0m - \u001b[33m\u001b[1mBM25Retriever does not support embeddings, skipping...\u001b[0m\n",
      "\u001b[32m2025-04-07 22:45:42.049\u001b[0m | \u001b[33m\u001b[1mWARNING \u001b[0m | \u001b[36mreadai.components.retrievers\u001b[0m:\u001b[36m_retrieve\u001b[0m:\u001b[36m554\u001b[0m - \u001b[33m\u001b[1mBM25Retriever does not support embeddings, skipping...\u001b[0m\n",
      " 95%|█████████▌| 95/100 [00:05<00:00, 20.28it/s]"
     ]
    },
    {
     "name": "stdout",
     "output_type": "stream",
     "text": [
      "\u001b[1;3;38;5;200mRetrieved node with id, entering: ce429a51-b424-45a4-9c79-23318b7224d1\n",
      "\u001b[0m\u001b[1;3;34mRetrieving with query id ce429a51-b424-45a4-9c79-23318b7224d1: 作者对\"义愤\"的批判是否忽略了社会正义运动中集体愤怒的积极作用？\n",
      "\u001b[0m\u001b[1;3;38;5;200mRetrieved node with id, entering: 2a95ea78-a634-4e2f-b3f8-bf0337da949e\n",
      "\u001b[0m\u001b[1;3;34mRetrieving with query id 2a95ea78-a634-4e2f-b3f8-bf0337da949e: 作者对\"义愤\"的批判是否忽略了社会正义运动中集体愤怒的积极作用？\n",
      "\u001b[0m\u001b[1;3;34mRetrieving with query id None: 如何区分表达真实感受的语言与陈述想法或评论的语言，这种区分在非暴力沟通中的重要性是什么？\n",
      "\u001b[0m\u001b[1;3;38;5;200mRetrieved node with id, entering: fa7e9267-527e-4cbb-89a4-ff9dac43eafc\n",
      "\u001b[0m\u001b[1;3;34mRetrieving with query id fa7e9267-527e-4cbb-89a4-ff9dac43eafc: 如何区分表达真实感受的语言与陈述想法或评论的语言，这种区分在非暴力沟通中的重要性是什么？\n",
      "\u001b[0m\u001b[1;3;38;5;200mRetrieved node with id, entering: 4d96d8e2-83d3-4d7e-bbea-d83cfe6736e2\n",
      "\u001b[0m\u001b[1;3;34mRetrieving with query id 4d96d8e2-83d3-4d7e-bbea-d83cfe6736e2: 如何区分表达真实感受的语言与陈述想法或评论的语言，这种区分在非暴力沟通中的重要性是什么？\n",
      "\u001b[0m\u001b[1;3;38;5;200mRetrieved node with id, entering: c1da8187-7d49-467d-b04f-9cdf06068727\n",
      "\u001b[0m\u001b[1;3;34mRetrieving with query id c1da8187-7d49-467d-b04f-9cdf06068727: 如何区分表达真实感受的语言与陈述想法或评论的语言，这种区分在非暴力沟通中的重要性是什么？\n",
      "\u001b[0m\u001b[1;3;38;5;200mRetrieved node with id, entering: 06dceb70-99c6-49ab-bdd3-f807a053b078\n",
      "\u001b[0m\u001b[1;3;34mRetrieving with query id 06dceb70-99c6-49ab-bdd3-f807a053b078: 如何区分表达真实感受的语言与陈述想法或评论的语言，这种区分在非暴力沟通中的重要性是什么？\n",
      "\u001b[0m\u001b[1;3;34mRetrieving with query id None: 在练习二中，为什么“我感到”后面跟随对他人的判断（如“你不爱我”）不能算作表达感受，这种表达方式可能对人际关系产生哪些负面影响？\n",
      "\u001b[0m\u001b[1;3;38;5;200mRetrieved node with id, entering: fa7e9267-527e-4cbb-89a4-ff9dac43eafc\n",
      "\u001b[0m\u001b[1;3;34mRetrieving with query id fa7e9267-527e-4cbb-89a4-ff9dac43eafc: 在练习二中，为什么“我感到”后面跟随对他人的判断（如“你不爱我”）不能算作表达感受，这种表达方式可能对人际关系产生哪些负面影响？\n",
      "\u001b[0m\u001b[1;3;34mRetrieving with query id None: 为什么作者认为识别并表达对方的\"需要\"而非\"策略\"是解决冲突的关键？这一观点在心理学或沟通理论中有何依据？\n",
      "\u001b[0m\u001b[1;3;38;5;200mRetrieved node with id, entering: 8dc6ee1f-546f-4be0-b962-94be6d9ecfc0\n",
      "\u001b[0m\u001b[1;3;34mRetrieving with query id 8dc6ee1f-546f-4be0-b962-94be6d9ecfc0: 为什么作者认为识别并表达对方的\"需要\"而非\"策略\"是解决冲突的关键？这一观点在心理学或沟通理论中有何依据？\n",
      "\u001b[0m\u001b[1;3;34mRetrieving with query id None: 如果这对夫妻在冲突中始终无法区分\"需要\"和\"策略\"，他们的婚姻关系可能会朝什么方向发展？请结合案例中的具体表现进行分析。\n",
      "\u001b[0m"
     ]
    },
    {
     "name": "stderr",
     "output_type": "stream",
     "text": [
      "\u001b[32m2025-04-07 22:45:42.100\u001b[0m | \u001b[33m\u001b[1mWARNING \u001b[0m | \u001b[36mreadai.components.retrievers\u001b[0m:\u001b[36m_retrieve\u001b[0m:\u001b[36m554\u001b[0m - \u001b[33m\u001b[1mBM25Retriever does not support embeddings, skipping...\u001b[0m\n",
      "\u001b[32m2025-04-07 22:45:42.155\u001b[0m | \u001b[33m\u001b[1mWARNING \u001b[0m | \u001b[36mreadai.components.retrievers\u001b[0m:\u001b[36m_retrieve\u001b[0m:\u001b[36m554\u001b[0m - \u001b[33m\u001b[1mBM25Retriever does not support embeddings, skipping...\u001b[0m\n",
      " 98%|█████████▊| 98/100 [00:05<00:00, 22.06it/s]\u001b[32m2025-04-07 22:45:42.203\u001b[0m | \u001b[33m\u001b[1mWARNING \u001b[0m | \u001b[36mreadai.components.retrievers\u001b[0m:\u001b[36m_retrieve\u001b[0m:\u001b[36m554\u001b[0m - \u001b[33m\u001b[1mBM25Retriever does not support embeddings, skipping...\u001b[0m\n",
      "100%|██████████| 100/100 [00:05<00:00, 18.97it/s]"
     ]
    },
    {
     "name": "stdout",
     "output_type": "stream",
     "text": [
      "\u001b[1;3;38;5;200mRetrieved node with id, entering: 2032b38a-e43c-41b8-addd-f42b486d6fc6\n",
      "\u001b[0m\u001b[1;3;34mRetrieving with query id 2032b38a-e43c-41b8-addd-f42b486d6fc6: 如果这对夫妻在冲突中始终无法区分\"需要\"和\"策略\"，他们的婚姻关系可能会朝什么方向发展？请结合案例中的具体表现进行分析。\n",
      "\u001b[0m\u001b[1;3;38;5;200mRetrieved node with id, entering: 508d63ce-65d5-4a74-9110-0334fb787bf8\n",
      "\u001b[0m\u001b[1;3;34mRetrieving with query id 508d63ce-65d5-4a74-9110-0334fb787bf8: 如果这对夫妻在冲突中始终无法区分\"需要\"和\"策略\"，他们的婚姻关系可能会朝什么方向发展？请结合案例中的具体表现进行分析。\n",
      "\u001b[0m\u001b[1;3;34mRetrieving with query id None: \"非暴力Ahimsa\"作为一种稳定的无我状态，与日常中短暂的无我体验（如欣赏艺术时）本质区别是什么？这种稳定性如何影响个人与社会的关系？\n",
      "\u001b[0m\u001b[1;3;38;5;200mRetrieved node with id, entering: 7d27a3b7-85c9-4458-a3c0-015e1ed33ab6\n",
      "\u001b[0m\u001b[1;3;34mRetrieving with query id 7d27a3b7-85c9-4458-a3c0-015e1ed33ab6: \"非暴力Ahimsa\"作为一种稳定的无我状态，与日常中短暂的无我体验（如欣赏艺术时）本质区别是什么？这种稳定性如何影响个人与社会的关系？\n",
      "\u001b[0m\u001b[1;3;34mRetrieving with query id None: 为什么管理层最初害怕向医生表达脆弱情绪，而实际表达后却取得了意想不到的积极效果？这反映了职场沟通中怎样的心理机制？\n",
      "\u001b[0m\u001b[1;3;38;5;200mRetrieved node with id, entering: 498020ff-519a-41df-ad64-50f31f731eb4\n",
      "\u001b[0m\u001b[1;3;34mRetrieving with query id 498020ff-519a-41df-ad64-50f31f731eb4: 为什么管理层最初害怕向医生表达脆弱情绪，而实际表达后却取得了意想不到的积极效果？这反映了职场沟通中怎样的心理机制？\n",
      "\u001b[0m\u001b[1;3;38;5;200mRetrieved node with id, entering: 6b821040-60a2-4214-8601-8797f121f78a\n",
      "\u001b[0m\u001b[1;3;34mRetrieving with query id 6b821040-60a2-4214-8601-8797f121f78a: 为什么管理层最初害怕向医生表达脆弱情绪，而实际表达后却取得了意想不到的积极效果？这反映了职场沟通中怎样的心理机制？\n",
      "\u001b[0m"
     ]
    },
    {
     "name": "stderr",
     "output_type": "stream",
     "text": [
      "\n"
     ]
    }
   ],
   "source": [
    "eval_results = await retriever_evaluator.aevaluate_dataset(\n",
    "    eval_dataset_zh, show_progress=True\n",
    ")"
   ]
  },
  {
   "cell_type": "code",
   "execution_count": 327,
   "metadata": {},
   "outputs": [],
   "source": [
    "import pandas as pd\n",
    "\n",
    "\n",
    "def display_results(name, eval_results):\n",
    "    \"\"\"Display results from evaluate.\"\"\"\n",
    "    metric_dicts = []\n",
    "    for eval_result in eval_results:\n",
    "        metric_dict = eval_result.metric_vals_dict\n",
    "        metric_dicts.append(metric_dict)\n",
    "\n",
    "    full_df = pd.DataFrame(metric_dicts)\n",
    "\n",
    "    columns = {\n",
    "        \"retrievers\": [name],\n",
    "        **{k: [full_df[k].mean()] for k in metrics},\n",
    "    }\n",
    "\n",
    "    metric_df = pd.DataFrame(columns)\n",
    "\n",
    "    return metric_df"
   ]
  },
  {
   "cell_type": "code",
   "execution_count": 328,
   "metadata": {},
   "outputs": [
    {
     "data": {
      "text/html": [
       "<div>\n",
       "<style scoped>\n",
       "    .dataframe tbody tr th:only-of-type {\n",
       "        vertical-align: middle;\n",
       "    }\n",
       "\n",
       "    .dataframe tbody tr th {\n",
       "        vertical-align: top;\n",
       "    }\n",
       "\n",
       "    .dataframe thead th {\n",
       "        text-align: right;\n",
       "    }\n",
       "</style>\n",
       "<table border=\"1\" class=\"dataframe\">\n",
       "  <thead>\n",
       "    <tr style=\"text-align: right;\">\n",
       "      <th></th>\n",
       "      <th>retrievers</th>\n",
       "      <th>hit_rate</th>\n",
       "      <th>mrr</th>\n",
       "      <th>precision</th>\n",
       "      <th>recall</th>\n",
       "      <th>ap</th>\n",
       "      <th>ndcg</th>\n",
       "    </tr>\n",
       "  </thead>\n",
       "  <tbody>\n",
       "    <tr>\n",
       "      <th>0</th>\n",
       "      <td>Hybrid_retriever</td>\n",
       "      <td>0.51</td>\n",
       "      <td>0.44</td>\n",
       "      <td>0.102611</td>\n",
       "      <td>0.51</td>\n",
       "      <td>0.44</td>\n",
       "      <td>0.457198</td>\n",
       "    </tr>\n",
       "  </tbody>\n",
       "</table>\n",
       "</div>"
      ],
      "text/plain": [
       "         retrievers  hit_rate   mrr  precision  recall    ap      ndcg\n",
       "0  Hybrid_retriever      0.51  0.44   0.102611    0.51  0.44  0.457198"
      ]
     },
     "execution_count": 328,
     "metadata": {},
     "output_type": "execute_result"
    }
   ],
   "source": [
    "display_results(\"Hybrid_retriever\", eval_results)"
   ]
  },
  {
   "cell_type": "markdown",
   "metadata": {},
   "source": [
    "## 自定义实现Retriever"
   ]
  },
  {
   "cell_type": "code",
   "execution_count": 129,
   "metadata": {},
   "outputs": [],
   "source": [
    "from llama_index.core import QueryBundle\n",
    "from llama_index.core.retrievers import BaseRetriever, RecursiveRetriever\n",
    "\n",
    "\n",
    "class HybridRetriever(BaseRetriever):\n",
    "    def __init__(\n",
    "        self,\n",
    "        dense_retriever: RecursiveRetriever,\n",
    "        sparse_retriever: BM25Retriever,\n",
    "        retrieval_type=3,\n",
    "        topk=256,\n",
    "    ):\n",
    "        self.dense_retriever = dense_retriever\n",
    "        self.sparse_retriever = sparse_retriever\n",
    "        self.retrieval_type = retrieval_type  # 1:dense only 2:sparse only 3:hybrid\n",
    "        self.filters = None\n",
    "        self.filter_dict = None\n",
    "        self.topk = topk\n",
    "        super().__init__()\n",
    "\n",
    "    @classmethod\n",
    "    def fusion(self, list_of_list_ranks_system, topk=256):\n",
    "        all_nodes = []\n",
    "\n",
    "        node_ids = set()\n",
    "        for nodes in list_of_list_ranks_system:\n",
    "            for node in nodes:\n",
    "                content = node.get_content()\n",
    "                if content not in node_ids:\n",
    "                    all_nodes.append(node)\n",
    "                    node_ids.add(content)\n",
    "        all_nodes = sorted(all_nodes, key=lambda node: node.score, reverse=True)\n",
    "        topk = min(len(all_nodes), topk)\n",
    "        # print(\"simple fusion后数量:\", topk)\n",
    "        return all_nodes[:topk]\n",
    "\n",
    "    # 倒数排序融合\n",
    "    @classmethod\n",
    "    def reciprocal_rank_fusion(self, list_of_list_ranks_system, K=60, topk=256):\n",
    "        from collections import defaultdict\n",
    "\n",
    "        rrf_map = defaultdict(float)\n",
    "        text_to_node = {}\n",
    "        for rank_list in list_of_list_ranks_system:\n",
    "            for rank, item in enumerate(rank_list, 1):\n",
    "                content = item.get_content()\n",
    "                text_to_node[content] = item\n",
    "                rrf_map[content] += 1 / (rank + K)\n",
    "        sorted_items = sorted(rrf_map.items(), key=lambda x: x[1], reverse=True)\n",
    "\n",
    "        reranked_nodes: list[NodeWithScore] = []\n",
    "        for text, score in sorted_items:\n",
    "            reranked_nodes.append(text_to_node[text])\n",
    "            reranked_nodes[-1].score = score\n",
    "        topk = min(topk, len(reranked_nodes))\n",
    "        # print(\"rrf fusion后数量:\", topk)\n",
    "        return reranked_nodes[:topk]\n",
    "\n",
    "    async def _aretrieve(self, query_bundle: QueryBundle) -> list[NodeWithScore]:\n",
    "        if self.retrieval_type != 1:\n",
    "            self.sparse_retriever.filter_dict = self.filter_dict\n",
    "            sparse_nodes = await self.sparse_retriever.aretrieve(query_bundle)\n",
    "            if self.retrieval_type == 2:\n",
    "                return sparse_nodes\n",
    "        if self.retrieval_type != 2:\n",
    "            self.dense_retriever.filters = self.filters\n",
    "            dense_nodes = await self.dense_retriever.aretrieve(query_bundle)\n",
    "            if self.retrieval_type == 1:\n",
    "                return dense_nodes\n",
    "\n",
    "        # combine the two lists of nodes\n",
    "        # all_nodes = self.fusion(sparse_nodes, dense_nodes)\n",
    "        all_nodes = self.reciprocal_rank_fusion(\n",
    "            [sparse_nodes, dense_nodes], topk=self.topk\n",
    "        )\n",
    "        return all_nodes\n",
    "\n",
    "    def _retrieve(self, query_bundle: QueryBundle) -> list[NodeWithScore]:\n",
    "        sparse_nodes = self.sparse_retriever.retrieve(query_bundle)\n",
    "        dense_nodes = self.dense_retriever.retrieve(query_bundle)\n",
    "\n",
    "        # combine the two lists of nodes\n",
    "        all_nodes = self.reciprocal_rank_fusion(\n",
    "            [sparse_nodes, dense_nodes], topk=self.topk\n",
    "        )\n",
    "        return all_nodes"
   ]
  },
  {
   "cell_type": "markdown",
   "metadata": {},
   "source": [
    "### Hybrid test"
   ]
  },
  {
   "cell_type": "code",
   "execution_count": null,
   "metadata": {},
   "outputs": [],
   "source": [
    "def reciprocal_rank_fusion(list_of_list_ranks_system, K=60, topk=256):\n",
    "    from collections import defaultdict\n",
    "\n",
    "    rrf_map = defaultdict(float)\n",
    "    text_to_node = {}\n",
    "    for rank_list in list_of_list_ranks_system:\n",
    "        for rank, item in enumerate(rank_list, 1):\n",
    "            content = item.get_content()\n",
    "            text_to_node[content] = item\n",
    "            rrf_map[content] += 1 / (rank + K)\n",
    "    sorted_items = sorted(rrf_map.items(), key=lambda x: x[1], reverse=True)\n",
    "\n",
    "    reranked_nodes: list[NodeWithScore] = []\n",
    "    for text, score in sorted_items:\n",
    "        reranked_nodes.append(text_to_node[text])\n",
    "        reranked_nodes[-1].score = score\n",
    "    topk = min(topk, len(reranked_nodes))\n",
    "    print(\"rrf fusion后数量:\", topk)\n",
    "    return reranked_nodes[:topk]"
   ]
  },
  {
   "cell_type": "code",
   "execution_count": null,
   "metadata": {},
   "outputs": [],
   "source": [
    "final_results = reciprocal_rank_fusion(\n",
    "    list_of_list_ranks_system=[sparse_nodes, dense_nodes]\n",
    ")\n",
    "for n in final_results:\n",
    "    print(n.score, \"\\n\", n.text, \"\\n--------\\n\")"
   ]
  }
 ],
 "metadata": {
  "kernelspec": {
   "display_name": "readai-vv5wOT8E-py3.10",
   "language": "python",
   "name": "python3"
  },
  "language_info": {
   "codemirror_mode": {
    "name": "ipython",
    "version": 3
   },
   "file_extension": ".py",
   "mimetype": "text/x-python",
   "name": "python",
   "nbconvert_exporter": "python",
   "pygments_lexer": "ipython3",
   "version": "3.10.16"
  }
 },
 "nbformat": 4,
 "nbformat_minor": 2
}

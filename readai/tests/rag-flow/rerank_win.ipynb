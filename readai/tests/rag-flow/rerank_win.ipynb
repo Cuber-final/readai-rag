{
 "cells": [
  {
   "cell_type": "code",
   "execution_count": 35,
   "id": "b353d88a",
   "metadata": {},
   "outputs": [],
   "source": [
    "import nest_asyncio\n",
    "\n",
    "nest_asyncio.apply()"
   ]
  },
  {
   "cell_type": "code",
   "execution_count": 77,
   "id": "de9d2d9f",
   "metadata": {},
   "outputs": [],
   "source": [
    "import os\n",
    "from pathlib import Path\n",
    "from dotenv import load_dotenv\n",
    "\n",
    "load_dotenv()\n",
    "# 获取项目根目录路径\n",
    "project_root = Path(os.getenv(\"PROJECT_ROOT\"))\n",
    "test_data_path = project_root / \"readai/tests/data\""
   ]
  },
  {
   "cell_type": "code",
   "execution_count": 15,
   "id": "e030507a",
   "metadata": {},
   "outputs": [],
   "source": [
    "from llama_index.core.evaluation import (\n",
    "    EmbeddingQAFinetuneDataset,\n",
    "    RetrieverEvaluator,\n",
    "    generate_question_context_pairs,\n",
    ")"
   ]
  },
  {
   "cell_type": "code",
   "execution_count": 4,
   "id": "73e11a9f",
   "metadata": {},
   "outputs": [],
   "source": [
    "# from langchain_community.document_loaders import (\n",
    "#     UnstructuredMarkdownLoader,\n",
    "# )\n",
    "\n",
    "# book_name = \"comunication_cleaned.md\"\n",
    "# book_path = test_data_path / book_name\n",
    "# # 使用unstructured的markdownloader加载\n",
    "# loader = UnstructuredMarkdownLoader(book_path, mode=\"elements\")\n",
    "# documents = loader.load()\n",
    "# # 查看节点数量\n",
    "# print(f\"节点数量: {len(documents)}\")\n",
    "# # 遍历documents,重构metadata，只保留category，filename这两个属性\n",
    "# for doc in documents:\n",
    "#     category = doc.metadata[\"category\"]\n",
    "#     filename = doc.metadata[\"filename\"]\n",
    "#     doc.metadata = {\n",
    "#         \"category\": category,\n",
    "#         \"filename\": filename,\n",
    "#     }"
   ]
  },
  {
   "cell_type": "code",
   "execution_count": null,
   "id": "dd5ed2d3",
   "metadata": {},
   "outputs": [],
   "source": [
    "# from llama_index.core.schema import BaseNode, Document, IndexNode, NodeWithScore\n",
    "\n",
    "# llamindex_docs = [\n",
    "#     Document(\n",
    "#         text=doc.page_content,\n",
    "#         metadata=doc.metadata,\n",
    "#         metadata_seperator=\"::\",\n",
    "#         metadata_template=\"{key}=>{value}\",\n",
    "#         text_template=\"Metadata: {metadata_str}\\n-----\\nContent: {content}\",\n",
    "#     )\n",
    "#     for doc in documents\n",
    "# ]"
   ]
  },
  {
   "cell_type": "code",
   "execution_count": null,
   "id": "70c548cd",
   "metadata": {},
   "outputs": [
    {
     "data": {
      "application/vnd.jupyter.widget-view+json": {
       "model_id": "ed84be6f634c466da3fa402285249338",
       "version_major": 2,
       "version_minor": 0
      },
      "text/plain": [
       "Parsing nodes:   0%|          | 0/41 [00:00<?, ?it/s]"
      ]
     },
     "metadata": {},
     "output_type": "display_data"
    }
   ],
   "source": [
    "# from llama_index.core.node_parser import SimpleNodeParser\n",
    "# from llama_index.core.schema import IndexNode\n",
    "\n",
    "# node_parser = SimpleNodeParser.from_defaults(\n",
    "#     chunk_size=1024,\n",
    "#     chunk_overlap=50,\n",
    "#     separator=\"\\n\\n\",\n",
    "#     secondary_chunking_regex=\"[^,.;。？！]+[,.;。？！]?\",\n",
    "# )\n",
    "# hybrid_nodes = node_parser.get_nodes_from_documents(llamindex_docs, show_progress=True)"
   ]
  },
  {
   "cell_type": "code",
   "execution_count": null,
   "id": "b7fcf1c7",
   "metadata": {},
   "outputs": [
    {
     "name": "stdout",
     "output_type": "stream",
     "text": [
      "2753\n"
     ]
    }
   ],
   "source": [
    "# sub_chunk_sizes = [128, 512, 2048]\n",
    "# sub_node_parsers = [\n",
    "#     SimpleNodeParser.from_defaults(\n",
    "#         chunk_size=c,\n",
    "#         chunk_overlap=50,\n",
    "#         separator=\"\\n\\n\",\n",
    "#         secondary_chunking_regex=\"[^,.;。？！]+[,.;。？！]?\",\n",
    "#     )\n",
    "#     for c in sub_chunk_sizes\n",
    "# ]\n",
    "\n",
    "# hybrid_all_nodes = []\n",
    "# for hybrid_node in hybrid_nodes:\n",
    "#     for n in sub_node_parsers:\n",
    "#         sub_nodes = n.get_nodes_from_documents([hybrid_node])\n",
    "#         sub_inodes = [\n",
    "#             IndexNode.from_text_node(sn, hybrid_node.node_id) for sn in sub_nodes\n",
    "#         ]\n",
    "#         hybrid_all_nodes.extend(sub_inodes)\n",
    "\n",
    "#     # also add original node to node\n",
    "#     original_node = IndexNode.from_text_node(hybrid_node, hybrid_node.node_id)\n",
    "#     hybrid_all_nodes.append(original_node)\n",
    "\n",
    "# print(len(hybrid_all_nodes))"
   ]
  },
  {
   "cell_type": "code",
   "execution_count": null,
   "id": "7fe957e8",
   "metadata": {},
   "outputs": [],
   "source": [
    "from llama_index.embeddings.ollama import OllamaEmbedding\n",
    "from llama_index.llms.deepseek import DeepSeek\n",
    "\n",
    "api_key = os.getenv(\"DEEPSEEK_API_KEY\")\n",
    "\n",
    "print(api_key)\n",
    "model_name = os.getenv(\"DEEPSEEK_MODEL\")\n",
    "embed_model = OllamaEmbedding(\n",
    "    model_name=\"quentinz/bge-large-zh-v1.5\", base_url=\"http://localhost:11434\"\n",
    ")\n",
    "\n",
    "llm = DeepSeek(\n",
    "    model=model_name,\n",
    "    api_key=api_key,\n",
    ")"
   ]
  },
  {
   "cell_type": "code",
   "execution_count": 3,
   "id": "17d67828",
   "metadata": {},
   "outputs": [],
   "source": [
    "from llama_index.core.indices.vector_store.base import VectorStoreIndex\n",
    "from llama_index.core.storage import StorageContext\n",
    "from llama_index.vector_stores.qdrant import QdrantVectorStore\n",
    "from qdrant_client import AsyncQdrantClient, QdrantClient\n",
    "\n",
    "client = QdrantClient(url=\"http://localhost:6333\")\n",
    "aclient = AsyncQdrantClient(url=\"http://localhost:6333\")"
   ]
  },
  {
   "cell_type": "code",
   "execution_count": 5,
   "id": "39f47fb7",
   "metadata": {},
   "outputs": [],
   "source": [
    "collection_name = \"hybrid_nodes\""
   ]
  },
  {
   "cell_type": "code",
   "execution_count": 6,
   "id": "929286c1",
   "metadata": {},
   "outputs": [],
   "source": [
    "from llama_index.core.storage.docstore import SimpleDocumentStore\n",
    "from llama_index.core import load_index_from_storage\n",
    "\n",
    "persist_dir = test_data_path / collection_name\n"
   ]
  },
  {
   "cell_type": "code",
   "execution_count": 7,
   "id": "cbe8caba",
   "metadata": {},
   "outputs": [],
   "source": [
    "vector_store_base = QdrantVectorStore(\n",
    "    client=client,\n",
    "    aclient=aclient,\n",
    "    collection_name=collection_name,\n",
    ")"
   ]
  },
  {
   "cell_type": "code",
   "execution_count": null,
   "id": "c997fddb",
   "metadata": {},
   "outputs": [],
   "source": [
    "# all_nodes_docstore = SimpleDocumentStore()\n",
    "# all_nodes_docstore.add_documents(hybrid_all_nodes)"
   ]
  },
  {
   "cell_type": "code",
   "execution_count": 8,
   "id": "2aefb7de",
   "metadata": {},
   "outputs": [
    {
     "name": "stdout",
     "output_type": "stream",
     "text": [
      "collection_name: 'hybrid_nodes' 已存在\n",
      "加载向量完成\n"
     ]
    }
   ],
   "source": [
    "hybrid_index = None\n",
    "if client.collection_exists(collection_name):\n",
    "    print(f\"collection_name: '{collection_name}' 已存在\")\n",
    "    # 创建storage_context\n",
    "    storage_context = StorageContext.from_defaults(\n",
    "        persist_dir=persist_dir, vector_store=vector_store_base\n",
    "    )\n",
    "    hybrid_index = load_index_from_storage(\n",
    "        storage_context, llm=llm, embed_model=embed_model\n",
    "    )\n",
    "    print(\"加载向量完成\")\n",
    "else:\n",
    "    print(f\"collection_name: '{collection_name}' 不存在，需要初始化\")\n",
    "    qdrant_storage_context = StorageContext.from_defaults(\n",
    "        vector_store=vector_store_base,\n",
    "        docstore=all_nodes_docstore,\n",
    "    )\n",
    "    hybrid_index = VectorStoreIndex(\n",
    "        nodes=hybrid_all_nodes,\n",
    "        embed_model=embed_model,\n",
    "        llm=llm,\n",
    "        storage_context=qdrant_storage_context,\n",
    "        show_progress=True,\n",
    "    )\n",
    "    print(\"初始化本地向量完成\")"
   ]
  },
  {
   "cell_type": "code",
   "execution_count": null,
   "id": "f1bb142b",
   "metadata": {},
   "outputs": [
    {
     "name": "stdout",
     "output_type": "stream",
     "text": [
      "持久化完成\n"
     ]
    }
   ],
   "source": [
    "# try:\n",
    "#     hybrid_index.storage_context.persist(persist_dir)\n",
    "#     print(\"持久化完成\")\n",
    "# except Exception as e:\n",
    "#     print(e)"
   ]
  },
  {
   "cell_type": "code",
   "execution_count": 9,
   "id": "ff7d1474",
   "metadata": {},
   "outputs": [
    {
     "name": "stderr",
     "output_type": "stream",
     "text": [
      "Building prefix dict from the default dictionary ...\n",
      "Loading model from cache C:\\Users\\THINKT~1\\AppData\\Local\\Temp\\jieba.cache\n",
      "Loading model cost 0.448 seconds.\n",
      "Prefix dict has been built successfully.\n"
     ]
    },
    {
     "name": "stdout",
     "output_type": "stream",
     "text": [
      "1396\n"
     ]
    }
   ],
   "source": [
    "import jieba\n",
    "\n",
    "stop_words_path = project_root / \"readai/utils/baidu_stopwords.txt\"\n",
    "custom_tokenizer = jieba.Tokenizer()\n",
    "custom_tokenizer.load_userdict(str(stop_words_path))\n",
    "# 加载stop_words为字符串列表\n",
    "with open(stop_words_path) as f:\n",
    "    stop_words = f.readlines()\n",
    "\n",
    "stop_words = set(stop_words)\n",
    "print(len(stop_words))"
   ]
  },
  {
   "cell_type": "code",
   "execution_count": 10,
   "id": "54207dcb",
   "metadata": {},
   "outputs": [],
   "source": [
    "from enum import Enum\n",
    "\n",
    "\n",
    "class FUSION_MODES(str, Enum):\n",
    "    \"\"\"Enum for different fusion modes.\"\"\"\n",
    "\n",
    "    RECIPROCAL_RANK = \"reciprocal_rerank\"  # apply reciprocal rank fusion\n",
    "    RELATIVE_SCORE = \"relative_score\"  # apply relative score fusion\n",
    "    DIST_BASED_SCORE = \"dist_based_score\"  # apply distance-based score fusion\n",
    "    SIMPLE = \"simple\"  # simple re-ordering of results based on original scores"
   ]
  },
  {
   "cell_type": "markdown",
   "id": "1d587bb5",
   "metadata": {},
   "source": [
    "### 构建测试集"
   ]
  },
  {
   "cell_type": "code",
   "execution_count": 41,
   "id": "377a6ab2",
   "metadata": {},
   "outputs": [],
   "source": [
    "QA_GENERATE_EASY = \"\"\"\\\n",
    "You are an assistant helping users read Chinese books.\n",
    "Based on the context below, generate {num_questions_per_chunk} **easy** questions that test basic understanding or facts.\n",
    "\n",
    "Context:\n",
    "---------------------\n",
    "{context_str}\n",
    "---------------------\n",
    "\n",
    "Rules:\n",
    "- Questions must be written in **Chinese**.\n",
    "- Do not include answers or question numbers.\n",
    "- Each question must be concise (<= 20 characters).\n",
    "- Only ask about **explicit content** from the context (e.g., names, definitions, facts).\n",
    "- Avoid \"这\", \"那\", \"根据\" and similar vague words.\n",
    "\n",
    "Example question:\n",
    "某理论的核心概念是?\n",
    "\"\"\""
   ]
  },
  {
   "cell_type": "code",
   "execution_count": 42,
   "id": "d44d4a14",
   "metadata": {},
   "outputs": [
    {
     "name": "stdout",
     "output_type": "stream",
     "text": [
      "170\n",
      "过滤后节点数 119\n"
     ]
    }
   ],
   "source": [
    "import random\n",
    "\n",
    "# 筛选出hybrid_nodes中text长度>800的节点\n",
    "print(len(hybrid_nodes))\n",
    "hybrid_nodes_filtered = [node for node in hybrid_nodes if len(node.text) >= 800]\n",
    "print(\"过滤后节点数\", len(hybrid_nodes_filtered))"
   ]
  },
  {
   "cell_type": "code",
   "execution_count": 43,
   "id": "4e5a2a86",
   "metadata": {},
   "outputs": [],
   "source": [
    "sample_size = 50\n",
    "hybrid_nodes_filtered_sample = random.sample(hybrid_nodes_filtered, sample_size)"
   ]
  },
  {
   "cell_type": "code",
   "execution_count": 44,
   "id": "c84b99e6",
   "metadata": {},
   "outputs": [
    {
     "name": "stderr",
     "output_type": "stream",
     "text": [
      "使用deepseek-v3构建QA数据集: 100%|██████████| 50/50 [03:57<00:00,  4.74s/it]\n"
     ]
    }
   ],
   "source": [
    "# 基于hybrid_nodes_filtered构建语料数据集,并保存到csv文件中,包含三列，一行为node_id，一行为content，一行为questions\n",
    "import pandas as pd\n",
    "from tqdm import tqdm\n",
    "\n",
    "rows = []\n",
    "for node in tqdm(hybrid_nodes_filtered_sample, desc=\"使用deepseek-v3构建QA数据集\"):\n",
    "    node_id = node.node_id\n",
    "    content = node.text\n",
    "    # 用content构建query，然后调用模型生成问题\n",
    "    query = QA_GENERATE_EASY.format(context_str=content, num_questions_per_chunk=2)\n",
    "    response = llm.complete(query)\n",
    "    questions = str(response).strip().split(\"\\n\")\n",
    "    questions = \"#\".join(questions)\n",
    "    rows.append((node_id, content, questions))\n",
    "\n",
    "# 将node_contents保存到csv文件中\n",
    "df = pd.DataFrame(rows, columns=[\"node_id\", \"content\", \"questions\"])\n",
    "df.to_csv(\"./qa_dataset_v2.csv\", index=False)"
   ]
  },
  {
   "cell_type": "code",
   "execution_count": 45,
   "id": "f7b25233",
   "metadata": {},
   "outputs": [],
   "source": [
    "# 生成queries字典\n",
    "# query_id通过str(uuid.uuid4())生成，作为key\n",
    "# 列questions由于通过#连接的，需要分割成为两个问题，因此读取df每行的时候，会创建两个key：value对\n",
    "# 同时更新relevant_docs字典，把query_id作为key,node_id作为value\n",
    "import uuid\n",
    "import json\n",
    "\n",
    "corpus = {}\n",
    "for index, row in df.iterrows():\n",
    "    node_id = row[\"node_id\"]\n",
    "    content = row[\"content\"]\n",
    "    corpus[node_id] = content\n",
    "\n",
    "\n",
    "queries = {}\n",
    "relevant_docs = {}\n",
    "for index, row in df.iterrows():\n",
    "    # 两个不同的query_id\n",
    "    query_id_q1 = str(uuid.uuid4())\n",
    "    query_id_q2 = str(uuid.uuid4())\n",
    "    questions = row[\"questions\"].replace(\"##\", \"#\").split(\"#\")\n",
    "    questions = [question.strip() for question in questions]  # 去除前后空格\n",
    "    queries[query_id_q1] = questions[0]  # 问题1\n",
    "    relevant_docs[query_id_q1] = [row[\"node_id\"]]\n",
    "    queries[query_id_q2] = questions[1]  # 问题2\n",
    "    relevant_docs[query_id_q2] = [row[\"node_id\"]]\n",
    "\n",
    "test_qa_datasets_json = {\n",
    "    \"queries\": queries,\n",
    "    \"corpus\": corpus,\n",
    "    \"relevant_docs\": relevant_docs,\n",
    "}\n",
    "with open(\"test_qa_datasets.json\", \"w\") as f:\n",
    "    json.dump(test_qa_datasets_json, f, indent=4, ensure_ascii=False)"
   ]
  },
  {
   "cell_type": "code",
   "execution_count": 18,
   "id": "4c4613fb",
   "metadata": {},
   "outputs": [],
   "source": [
    "eval_dataset_from_hybrid_nodes_50 = EmbeddingQAFinetuneDataset.from_json(\n",
    "    \"test_qa_datasets.json\",\n",
    ")"
   ]
  },
  {
   "cell_type": "markdown",
   "id": "f160d44c",
   "metadata": {},
   "source": [
    "### 构建retriever测试"
   ]
  },
  {
   "cell_type": "code",
   "execution_count": 11,
   "id": "7afaf098",
   "metadata": {},
   "outputs": [
    {
     "name": "stdout",
     "output_type": "stream",
     "text": [
      "resource module not available on Windows\n"
     ]
    }
   ],
   "source": [
    "from llama_index.core.retrievers import RecursiveRetriever\n",
    "\n",
    "from readai.components.retrievers import BM25Retriever\n",
    "\n",
    "bm25_retriever = BM25Retriever.from_defaults(\n",
    "    index=hybrid_index,\n",
    "    similarity_top_k=5,\n",
    "    tokenizer=custom_tokenizer,\n",
    "    stopwords=stop_words,\n",
    ")\n",
    "\n",
    "vector_retriever = hybrid_index.as_retriever(similarity_top_k=5)\n",
    "small2big_retriever = RecursiveRetriever(\n",
    "    \"vector\",\n",
    "    retriever_dict={\"vector\": vector_retriever},\n",
    "    node_dict=hybrid_index.docstore.docs,\n",
    "    verbose=True,\n",
    ")"
   ]
  },
  {
   "cell_type": "code",
   "execution_count": 12,
   "id": "93eab2a0",
   "metadata": {},
   "outputs": [],
   "source": [
    "from llama_index.core.response.notebook_utils import display_source_node"
   ]
  },
  {
   "cell_type": "code",
   "execution_count": 22,
   "id": "3a0ac9f6",
   "metadata": {},
   "outputs": [
    {
     "name": "stdout",
     "output_type": "stream",
     "text": [
      "4\n"
     ]
    },
    {
     "data": {
      "text/markdown": [
       "**Node ID:** cc224a0c-f6b7-4d8e-8586-b3f7ea182834<br>**Similarity:** 26.955977526355234<br>**Text:** 区分观察和评论 在以下列表中，我举例说明如何从混杂着评论的句子中区分出观察。 续表 注意：总是、永远、从来、每次之类的词语在以下用法中表达的是观察： ·每次我看到杰克打电话，他都至少打半小时。<br>"
      ],
      "text/plain": [
       "<IPython.core.display.Markdown object>"
      ]
     },
     "metadata": {},
     "output_type": "display_data"
    },
    {
     "data": {
      "text/markdown": [
       "**Node ID:** 4e46cffd-e5b8-4cb0-b886-8e8356908cd1<br>**Similarity:** 26.268064015672522<br>**Text:** 非暴力沟通并不要求我们保持完全客观，不做任何评论。它只是强调，我们要区分观察与评论。非暴力沟通是一个动态的语言，它不鼓励一成不变、一概而论的陈述。<br>"
      ],
      "text/plain": [
       "<IPython.core.display.Markdown object>"
      ]
     },
     "metadata": {},
     "output_type": "display_data"
    },
    {
     "data": {
      "text/markdown": [
       "**Node ID:** dc4e4cc1-4e38-40a1-9265-848096ffb88d<br>**Similarity:** 26.214797279821816<br>**Text:** 会议最后，我们商量了一些办法，以后当老师们不想听校长回忆往事时，就用温和的方式提醒他。 区分观察和评论 在以下列表中，我举例说明如何从混杂着评论的句子中区分出观察。<br>"
      ],
      "text/plain": [
       "<IPython.core.display.Markdown object>"
      ]
     },
     "metadata": {},
     "output_type": "display_data"
    },
    {
     "data": {
      "text/markdown": [
       "**Node ID:** 28bdd00d-d219-4193-9034-e1e5c602c15d<br>**Similarity:** 24.495895670924263<br>**Text:** ” 刚开始尝试请他人重述我们的话时，可能会觉得有点不自然。因为在日常交流中，我们很少会提出这样的请求。当我强调请他人重述我们的话是一种重要的能力时，人们通常担心有人会这样反应：“你觉得我是聋子吗？<br>"
      ],
      "text/plain": [
       "<IPython.core.display.Markdown object>"
      ]
     },
     "metadata": {},
     "output_type": "display_data"
    }
   ],
   "source": [
    "sparse_nodes = bm25_retriever.retrieve(\n",
    "    \"在日常交流中，我们如何区分客观的观察和主观的评价？\"\n",
    ")\n",
    "print(len(sparse_nodes))\n",
    "for n in sparse_nodes:\n",
    "    display_source_node(n, source_length=1500)"
   ]
  },
  {
   "cell_type": "code",
   "execution_count": null,
   "id": "f1108d86",
   "metadata": {},
   "outputs": [
    {
     "name": "stdout",
     "output_type": "stream",
     "text": [
      "区分观察和评论 在以下列表中，我举例说明如何从混杂着评论的句子中区分出观察。 续表 注意：总是、永远、从来、每次之类的词语在以下用法中表达的是观察： ·每次我看到杰克打电话，他都至少打半小时。\n",
      "26.955977526355234\n"
     ]
    }
   ],
   "source": [
    "node_with_score_example = sparse_nodes[0]\n",
    "print(node_with_score_example.text)  # node的文本\n",
    "print(node_with_score_example.score)  # node的分数"
   ]
  },
  {
   "cell_type": "code",
   "execution_count": 43,
   "id": "c0b6cd40",
   "metadata": {},
   "outputs": [
    {
     "name": "stdout",
     "output_type": "stream",
     "text": [
      "\u001b[1;3;34mRetrieving with query id None: 在日常交流中，我们如何区分客观的观察和主观的评价？\n",
      "\u001b[0m\u001b[1;3;38;5;200mRetrieved node with id, entering: ea01298b-1034-4b63-b2b0-dae899b25dce\n",
      "\u001b[0m\u001b[1;3;34mRetrieving with query id ea01298b-1034-4b63-b2b0-dae899b25dce: 在日常交流中，我们如何区分客观的观察和主观的评价？\n",
      "\u001b[0m\u001b[1;3;38;5;200mRetrieved node with id, entering: 3423a0b8-f692-4abe-b5f0-26f4bd41cc99\n",
      "\u001b[0m\u001b[1;3;34mRetrieving with query id 3423a0b8-f692-4abe-b5f0-26f4bd41cc99: 在日常交流中，我们如何区分客观的观察和主观的评价？\n",
      "\u001b[0m\u001b[1;3;38;5;200mRetrieved node with id, entering: 28686fee-f722-4232-85c6-13e1ec89927d\n",
      "\u001b[0m\u001b[1;3;34mRetrieving with query id 28686fee-f722-4232-85c6-13e1ec89927d: 在日常交流中，我们如何区分客观的观察和主观的评价？\n",
      "\u001b[0m3\n"
     ]
    },
    {
     "data": {
      "text/markdown": [
       "**Node ID:** ea01298b-1034-4b63-b2b0-dae899b25dce<br>**Similarity:** 0.6396604<br>**Text:** 当我指出这一点后，另一位老师响应道：“我知道他的意思了。校长的话太多！”这仍不是一个清晰的观察，而是对校长说多少话的评论。随后，第三位老师说：“他认为只有他想说的话是重要的。”我进而向他们解释，推断他人的想法和对他人行为的观察是两码事。随后，第四位老师大胆地说：“他总是想成为人前的焦点。”当我指出这也是推断时，两位老师不约而同地说道：“你的问题太难回答了！” 接着，我们一起拟了份清单，明确列出校长有哪些具体行为令他们感到不满，并确保不掺杂评论。例如，在全体教师会议上，校长会讲述他的童年和战争经历，有时导致会议超时20分钟。我问老师们是否曾经和校长沟通过他们的不满，他们说曾经试过，但都用具有评论意味的言辞向校长提出批评，而从未提及任何具体行为，例如校长在会议中讲述自己的故事。最后，老师们同意在与校长会谈时将这一点提出来。 会谈刚一开始，我便目睹了老师们所描述的情景。不论讨论的主题是什么，校长都会插话说：“想当年……”接着开始讲述他的童年或战争经历。我等着老师们表达他们的不满。然而，他们并没有运用非暴力沟通的方式，而是无声的抗议。有的人开始翻白眼，有的人故意打着哈欠，还有个人一直盯着手表。 直到我按捺不住问他们：“没有人有话要说吗？”迎来的是一阵令人尴尬的沉默。接着，之前会谈中率先发言的那位老师鼓起勇气，直视着校长，然后说出：“艾德，你真是个大嘴巴！” 就像这个故事所展现的，从我们的旧习惯中挣脱出来，并有能力熟练地区分观察与评论并不容易。最终，老师们终于可以明明白白地告诉校长，他们对他的哪些行为感到不满。校长认真地听完后郑重地说：“为什么从没有人告诉我呢？”他承认他有讲故事的习惯，接着就开始说与这个习惯有关的故事了！我见状打断了他的话，婉转地提出他在重蹈覆辙。会议最后，我们商量了一些办法，以后当老师们不想听校长回忆往事时，就用温和的方式提醒他。 区分观察和评论 在以下列表中，我举例说明如何从混杂着评论的句子中区分出观察。 续表 注意：总是、永远、从来、每次之类的词语在以下用法中表达的是观察： ·每次我看到杰克打电话，他都至少打半小时。<br>"
      ],
      "text/plain": [
       "<IPython.core.display.Markdown object>"
      ]
     },
     "metadata": {},
     "output_type": "display_data"
    },
    {
     "data": {
      "text/markdown": [
       "**Node ID:** 3423a0b8-f692-4abe-b5f0-26f4bd41cc99<br>**Similarity:** 0.63307714<br>**Text:** ” “不是这里，”男子回答，“我把钥匙落在巷子里了。” 见到警察很困惑，男子急忙解释：“但这里的光线要亮得多呢。” 我们都对人生拥有渴望。然而我发现，主导我们的文化却可能带我们偏离了方向。为此，我开发了非暴力沟通。它作为一种训练注意力的方式，让我们可以把注意力放在真正要去的地方。我渴望的是，在生命中活出慈悲之心，让由衷的相互给予，在你我之间流动。 那份慈悲心，也是我所说的“由衷的给予”，在我的朋友鲁斯·贝本梅尔（Ruth Bebermeyer）的这段歌词中得到展现： 你取之于我，是对我最好的馈赠。 请你知道，这种给予带给我快乐。 我给予绝非冀盼你偿还， 只因我想活出对你的爱。 也许，你的欣然接受， 就是对我的最佳馈赠。 我无法将两者分开。 你施于我，我给予我的接受； 你取之于我，是对我最好的馈赠。 ——“馈赠”（1978）来自鲁斯·贝本梅尔 唱片集《馈赠》 每当我们想要丰盈他人的生命，由衷给予他人时，我们是出于心中油然而生的喜悦之情。给予者和接受者都会从中获益。当给予是由衷的，而非出于害怕、内疚、羞愧或是渴求回报，接受者才能心无挂碍地享受这份馈赠。与此同时，给予者因为看到自己为他人的幸福做出了贡献，也会收获更多的自我肯定。 我们使用非暴力沟通，并不要求沟通的对方也懂得它，甚至无须对我们保有善意。只要我们遵循非暴力沟通的原则，发自内心地给予，并尽我们所能让对方知道这是我们唯一的动机，他们也会加入我们，最终双方必然能以善意相待。当然，这一切不一定会很快发生，但我相信，只要我们坚持非暴力沟通的原则与方法，友善之花终将在你我心中盛开。 非暴力沟通过程 要达到让双方都能发自内心地相互给予，我们需将注意力聚焦在四个方面——它们是非暴力沟通模式的四个要素。 首先，我们观察实际上发生了什么。不论他人的言行是否有益于我们，我们只是去观察。要做到清晰表达所观察到的，我们的挑战在于不夹杂任何评判。不论喜欢与否，我们只是说出人们做了什么。<br>"
      ],
      "text/plain": [
       "<IPython.core.display.Markdown object>"
      ]
     },
     "metadata": {},
     "output_type": "display_data"
    },
    {
     "data": {
      "text/markdown": [
       "**Node ID:** 28686fee-f722-4232-85c6-13e1ec89927d<br>**Similarity:** 0.629032<br>**Text:** 去观察，就像信仰一样重要。 ——弗雷德里克·布希纳（Frederick Buechner） 我欣然接受你告诉我， 我做了什么或者我未做什么。 我也欣然接受你的评论， 但请不要将两者混淆。 如果你想把事情搅乱， 我可以告诉你如何做到： 将我做的事情 和你的反应混为一谈。 当你见到做了一半的家务活， 可以告诉我你感到失望。 但说我不负责任， 绝无可能让我做得更多。 当我对你的表白说“不”， 请告诉我你感到伤心。 但说我冷酷无情， 并不能给你带来更多机会。 是的， 我欣然接受你告诉我， 我做了什么或者我未做什么。 我也欣然接受你的评论， 但请不要将两者混淆。 ——马歇尔·卢森堡博士 非暴力沟通的第一个要素是区分观察与评论。我们要清楚地观察有哪些所见、所闻和所触，正影响着我们幸福，而不夹杂任何评论。 在非暴力沟通中，当我们想要清晰且诚恳地向他人表达我们的状态时，“观察”是一个重要的要素。如果我们在观察中夹杂着评论，人们便不那么容易真正听见我们想要表达的内容，反而会听到批评，甚至产生抗拒心理。 非暴力沟通并不要求我们保持完全客观，不做任何评论。它只是强调，我们要区分观察与评论。非暴力沟通是一个动态的语言，它不鼓励一成不变、一概而论的陈述。语义学家温戴尔·约翰逊（Wendell Johnson）指出，用静态的语言来表达或捕捉瞬息万变的现实世界，会带来许多问题。他说：“我们的语言年代久远，是有缺陷的工具。它反映着泛灵论的思想，倾向于谈论稳定与恒常，谈论相似性、常态和分类，神奇的转变、立竿见影的疗效、简化的问题以及终极解决方案。然而，我们尝试用语言符号化的这个世界，却包含了无穷无尽的过程、变化、维度、变数、关系、功能、互动、发展、学习、应对和复杂性。不断变化的世界与我们相对静态的语言形式并不匹配，我们的许多问题正是因此产生。” 我的同事鲁斯·贝本梅尔在这段歌词中对比了静态语言与动态语言，由此来展现评论与观察的区别： 我从未见过什么懒汉； 我见过的他，有时在白天睡觉， 在某个下雨的日子呆在家里。 但他不是个懒汉。<br>"
      ],
      "text/plain": [
       "<IPython.core.display.Markdown object>"
      ]
     },
     "metadata": {},
     "output_type": "display_data"
    }
   ],
   "source": [
    "dense_nodes = small2big_retriever.retrieve(\n",
    "    \"在日常交流中，我们如何区分客观的观察和主观的评价？\"\n",
    ")\n",
    "print(len(dense_nodes))\n",
    "for n in dense_nodes:\n",
    "    display_source_node(n, source_length=1500)"
   ]
  },
  {
   "cell_type": "code",
   "execution_count": 27,
   "id": "e5f3c655",
   "metadata": {},
   "outputs": [
    {
     "name": "stdout",
     "output_type": "stream",
     "text": [
      "当我指出这一点后，另一位老师响应道：“我知道他的意思了。校长的话太多！”这仍不是一个清晰的观察，而是对校长说多少话的评论。随后，第三位老师说：“他认为只有他想说的话是重要的。”我进而向他们解释，推断他人的想法和对他人行为的观察是两码事。随后，第四位老师大胆地说：“他总是想成为人前的焦点。”当我指出这也是推断时，两位老师不约而同地说道：“你的问题太难回答了！” 接着，我们一起拟了份清单，明确列出校长有哪些具体行为令他们感到不满，并确保不掺杂评论。例如，在全体教师会议上，校长会讲述他的童年和战争经历，有时导致会议超时20分钟。我问老师们是否曾经和校长沟通过他们的不满，他们说曾经试过，但都用具有评论意味的言辞向校长提出批评，而从未提及任何具体行为，例如校长在会议中讲述自己的故事。最后，老师们同意在与校长会谈时将这一点提出来。 会谈刚一开始，我便目睹了老师们所描述的情景。不论讨论的主题是什么，校长都会插话说：“想当年……”接着开始讲述他的童年或战争经历。我等着老师们表达他们的不满。然而，他们并没有运用非暴力沟通的方式，而是无声的抗议。有的人开始翻白眼，有的人故意打着哈欠，还有个人一直盯着手表。 直到我按捺不住问他们：“没有人有话要说吗？”迎来的是一阵令人尴尬的沉默。接着，之前会谈中率先发言的那位老师鼓起勇气，直视着校长，然后说出：“艾德，你真是个大嘴巴！” 就像这个故事所展现的，从我们的旧习惯中挣脱出来，并有能力熟练地区分观察与评论并不容易。最终，老师们终于可以明明白白地告诉校长，他们对他的哪些行为感到不满。校长认真地听完后郑重地说：“为什么从没有人告诉我呢？”他承认他有讲故事的习惯，接着就开始说与这个习惯有关的故事了！我见状打断了他的话，婉转地提出他在重蹈覆辙。会议最后，我们商量了一些办法，以后当老师们不想听校长回忆往事时，就用温和的方式提醒他。 区分观察和评论 在以下列表中，我举例说明如何从混杂着评论的句子中区分出观察。 续表 注意：总是、永远、从来、每次之类的词语在以下用法中表达的是观察： ·每次我看到杰克打电话，他都至少打半小时。\n",
      "0.6396604\n"
     ]
    }
   ],
   "source": [
    "dense_nodes_with_score_example = dense_nodes[0]\n",
    "print(dense_nodes_with_score_example.text)\n",
    "print(dense_nodes_with_score_example.score)"
   ]
  },
  {
   "cell_type": "code",
   "execution_count": 13,
   "id": "1c8189e3",
   "metadata": {},
   "outputs": [],
   "source": [
    "from llama_index.core.retrievers import QueryFusionRetriever\n",
    "\n",
    "fusion_retriever = QueryFusionRetriever(\n",
    "    retrievers=[small2big_retriever, bm25_retriever],\n",
    "    mode=FUSION_MODES.RECIPROCAL_RANK,\n",
    "    verbose=True,\n",
    "    similarity_top_k=5,\n",
    "    llm=llm,\n",
    "    num_queries=1,  # 不需要查询扩展,查询重写\n",
    ")"
   ]
  },
  {
   "cell_type": "code",
   "execution_count": 16,
   "id": "b4dbcba6",
   "metadata": {},
   "outputs": [],
   "source": [
    "metrics = [\"hit_rate\", \"mrr\", \"precision\", \"recall\", \"ap\", \"ndcg\"]\n",
    "retriever_evaluator = RetrieverEvaluator.from_metric_names(\n",
    "    metrics, retriever=fusion_retriever\n",
    ")"
   ]
  },
  {
   "cell_type": "code",
   "execution_count": 19,
   "id": "c211a80e",
   "metadata": {},
   "outputs": [
    {
     "name": "stderr",
     "output_type": "stream",
     "text": [
      "  0%|          | 0/100 [00:00<?, ?it/s]"
     ]
    },
    {
     "name": "stdout",
     "output_type": "stream",
     "text": [
      "\u001b[1;3;34mRetrieving with query id None: 调解过程中需要记录什么？\n",
      "\u001b[0m"
     ]
    },
    {
     "name": "stderr",
     "output_type": "stream",
     "text": [
      "\u001b[32m2025-04-10 23:01:22.188\u001b[0m | \u001b[33m\u001b[1mWARNING \u001b[0m | \u001b[36mreadai.components.retrievers\u001b[0m:\u001b[36m_retrieve\u001b[0m:\u001b[36m553\u001b[0m - \u001b[33m\u001b[1mBM25Retriever does not support embeddings, skipping...\u001b[0m\n",
      "\u001b[32m2025-04-10 23:01:22.248\u001b[0m | \u001b[33m\u001b[1mWARNING \u001b[0m | \u001b[36mreadai.components.retrievers\u001b[0m:\u001b[36m_retrieve\u001b[0m:\u001b[36m553\u001b[0m - \u001b[33m\u001b[1mBM25Retriever does not support embeddings, skipping...\u001b[0m\n",
      "\u001b[32m2025-04-10 23:01:22.328\u001b[0m | \u001b[33m\u001b[1mWARNING \u001b[0m | \u001b[36mreadai.components.retrievers\u001b[0m:\u001b[36m_retrieve\u001b[0m:\u001b[36m553\u001b[0m - \u001b[33m\u001b[1mBM25Retriever does not support embeddings, skipping...\u001b[0m\n",
      "  1%|          | 1/100 [00:01<01:55,  1.17s/it]\u001b[32m2025-04-10 23:01:22.385\u001b[0m | \u001b[33m\u001b[1mWARNING \u001b[0m | \u001b[36mreadai.components.retrievers\u001b[0m:\u001b[36m_retrieve\u001b[0m:\u001b[36m553\u001b[0m - \u001b[33m\u001b[1mBM25Retriever does not support embeddings, skipping...\u001b[0m\n"
     ]
    },
    {
     "name": "stdout",
     "output_type": "stream",
     "text": [
      "\u001b[1;3;38;5;200mRetrieved node with id, entering: d10d3dd5-4d70-49a6-ab03-5618b8fda079\n",
      "\u001b[0m\u001b[1;3;34mRetrieving with query id d10d3dd5-4d70-49a6-ab03-5618b8fda079: 调解过程中需要记录什么？\n",
      "\u001b[0m\u001b[1;3;38;5;200mRetrieved node with id, entering: 8ed32533-b275-4200-959b-3e985d537889\n",
      "\u001b[0m\u001b[1;3;34mRetrieving with query id 8ed32533-b275-4200-959b-3e985d537889: 调解过程中需要记录什么？\n",
      "\u001b[0m\u001b[1;3;38;5;200mRetrieved node with id, entering: 7f282a20-f873-4037-a0bf-f3aa3e088b28\n",
      "\u001b[0m\u001b[1;3;34mRetrieving with query id 7f282a20-f873-4037-a0bf-f3aa3e088b28: 调解过程中需要记录什么？\n",
      "\u001b[0m\u001b[1;3;34mRetrieving with query id None: 调解人如何推动对话进程？\n",
      "\u001b[0m\u001b[1;3;38;5;200mRetrieved node with id, entering: d10d3dd5-4d70-49a6-ab03-5618b8fda079\n",
      "\u001b[0m\u001b[1;3;34mRetrieving with query id d10d3dd5-4d70-49a6-ab03-5618b8fda079: 调解人如何推动对话进程？\n",
      "\u001b[0m\u001b[1;3;34mRetrieving with query id None: 约翰为什么沉默不语？\n",
      "\u001b[0m\u001b[1;3;38;5;200mRetrieved node with id, entering: 2fc1d0a9-dd61-4ed4-86f7-81ac8ef40516\n",
      "\u001b[0m\u001b[1;3;34mRetrieving with query id 2fc1d0a9-dd61-4ed4-86f7-81ac8ef40516: 约翰为什么沉默不语？\n",
      "\u001b[0m\u001b[1;3;38;5;200mRetrieved node with id, entering: 3f1da84d-975b-4ac0-9e19-6c5695293de3\n",
      "\u001b[0m\u001b[1;3;34mRetrieving with query id 3f1da84d-975b-4ac0-9e19-6c5695293de3: 约翰为什么沉默不语？\n",
      "\u001b[0m\u001b[1;3;34mRetrieving with query id None: 布莱特拿了姐姐的什么？\n",
      "\u001b[0m\u001b[1;3;38;5;200mRetrieved node with id, entering: 3f1da84d-975b-4ac0-9e19-6c5695293de3\n",
      "\u001b[0m\u001b[1;3;34mRetrieving with query id 3f1da84d-975b-4ac0-9e19-6c5695293de3: 布莱特拿了姐姐的什么？\n",
      "\u001b[0m\u001b[1;3;38;5;200mRetrieved node with id, entering: e7a575d8-ea8d-4cdc-91ce-f9cf76585974\n",
      "\u001b[0m\u001b[1;3;34mRetrieving with query id e7a575d8-ea8d-4cdc-91ce-f9cf76585974: 布莱特拿了姐姐的什么？\n",
      "\u001b[0m"
     ]
    },
    {
     "name": "stderr",
     "output_type": "stream",
     "text": [
      "\u001b[32m2025-04-10 23:01:22.490\u001b[0m | \u001b[33m\u001b[1mWARNING \u001b[0m | \u001b[36mreadai.components.retrievers\u001b[0m:\u001b[36m_retrieve\u001b[0m:\u001b[36m553\u001b[0m - \u001b[33m\u001b[1mBM25Retriever does not support embeddings, skipping...\u001b[0m\n",
      "  3%|▎         | 3/100 [00:01<00:35,  2.72it/s]\u001b[32m2025-04-10 23:01:22.557\u001b[0m | \u001b[33m\u001b[1mWARNING \u001b[0m | \u001b[36mreadai.components.retrievers\u001b[0m:\u001b[36m_retrieve\u001b[0m:\u001b[36m553\u001b[0m - \u001b[33m\u001b[1mBM25Retriever does not support embeddings, skipping...\u001b[0m\n"
     ]
    },
    {
     "name": "stdout",
     "output_type": "stream",
     "text": [
      "\u001b[1;3;34mRetrieving with query id None: 1. \"Ahimsa\"的首要宗旨是？\n",
      "\u001b[0m\u001b[1;3;38;5;200mRetrieved node with id, entering: 2ffd2c1d-1787-40c3-b86c-14049bb61394\n",
      "\u001b[0m\u001b[1;3;34mRetrieving with query id 2ffd2c1d-1787-40c3-b86c-14049bb61394: 1. \"Ahimsa\"的首要宗旨是？\n",
      "\u001b[0m\u001b[1;3;38;5;200mRetrieved node with id, entering: 06e318de-a5e2-4f31-83c8-ef70420fb368\n",
      "\u001b[0m\u001b[1;3;34mRetrieving with query id 06e318de-a5e2-4f31-83c8-ef70420fb368: 1. \"Ahimsa\"的首要宗旨是？\n",
      "\u001b[0m\u001b[1;3;34mRetrieving with query id None: 2. 甘地推广了什么思想？\n",
      "\u001b[0m\u001b[1;3;38;5;200mRetrieved node with id, entering: 2ffd2c1d-1787-40c3-b86c-14049bb61394\n",
      "\u001b[0m\u001b[1;3;34mRetrieving with query id 2ffd2c1d-1787-40c3-b86c-14049bb61394: 2. 甘地推广了什么思想？\n",
      "\u001b[0m\u001b[1;3;38;5;200mRetrieved node with id, entering: 6b90ac46-67f1-4230-a806-52078ed94a9a\n",
      "\u001b[0m\u001b[1;3;34mRetrieving with query id 6b90ac46-67f1-4230-a806-52078ed94a9a: 2. 甘地推广了什么思想？\n",
      "\u001b[0m\u001b[1;3;38;5;200mRetrieved node with id, entering: c17ad6e6-8111-4a15-a932-dd7299cd5825\n",
      "\u001b[0m\u001b[1;3;34mRetrieving with query id c17ad6e6-8111-4a15-a932-dd7299cd5825: 2. 甘地推广了什么思想？\n",
      "\u001b[0m\u001b[1;3;38;5;200mRetrieved node with id, entering: 06e318de-a5e2-4f31-83c8-ef70420fb368\n",
      "\u001b[0m\u001b[1;3;34mRetrieving with query id 06e318de-a5e2-4f31-83c8-ef70420fb368: 2. 甘地推广了什么思想？\n",
      "\u001b[0m\u001b[1;3;34mRetrieving with query id None: 金钱属于哪种奖励形式？\n",
      "\u001b[0m"
     ]
    },
    {
     "name": "stderr",
     "output_type": "stream",
     "text": [
      "\u001b[32m2025-04-10 23:01:22.612\u001b[0m | \u001b[33m\u001b[1mWARNING \u001b[0m | \u001b[36mreadai.components.retrievers\u001b[0m:\u001b[36m_retrieve\u001b[0m:\u001b[36m553\u001b[0m - \u001b[33m\u001b[1mBM25Retriever does not support embeddings, skipping...\u001b[0m\n",
      "  5%|▌         | 5/100 [00:01<00:19,  4.83it/s]\u001b[32m2025-04-10 23:01:22.680\u001b[0m | \u001b[33m\u001b[1mWARNING \u001b[0m | \u001b[36mreadai.components.retrievers\u001b[0m:\u001b[36m_retrieve\u001b[0m:\u001b[36m553\u001b[0m - \u001b[33m\u001b[1mBM25Retriever does not support embeddings, skipping...\u001b[0m\n",
      "\u001b[32m2025-04-10 23:01:22.740\u001b[0m | \u001b[33m\u001b[1mWARNING \u001b[0m | \u001b[36mreadai.components.retrievers\u001b[0m:\u001b[36m_retrieve\u001b[0m:\u001b[36m553\u001b[0m - \u001b[33m\u001b[1mBM25Retriever does not support embeddings, skipping...\u001b[0m\n",
      "  7%|▋         | 7/100 [00:01<00:13,  6.82it/s]\u001b[32m2025-04-10 23:01:22.791\u001b[0m | \u001b[33m\u001b[1mWARNING \u001b[0m | \u001b[36mreadai.components.retrievers\u001b[0m:\u001b[36m_retrieve\u001b[0m:\u001b[36m553\u001b[0m - \u001b[33m\u001b[1mBM25Retriever does not support embeddings, skipping...\u001b[0m\n"
     ]
    },
    {
     "name": "stdout",
     "output_type": "stream",
     "text": [
      "\u001b[1;3;38;5;200mRetrieved node with id, entering: 8ebd16f2-1454-4410-9876-f46529d1c5ad\n",
      "\u001b[0m\u001b[1;3;34mRetrieving with query id 8ebd16f2-1454-4410-9876-f46529d1c5ad: 金钱属于哪种奖励形式？\n",
      "\u001b[0m\u001b[1;3;34mRetrieving with query id None: 纳税抵触情绪源于什么？\n",
      "\u001b[0m\u001b[1;3;38;5;200mRetrieved node with id, entering: 8ebd16f2-1454-4410-9876-f46529d1c5ad\n",
      "\u001b[0m\u001b[1;3;34mRetrieving with query id 8ebd16f2-1454-4410-9876-f46529d1c5ad: 纳税抵触情绪源于什么？\n",
      "\u001b[0m\u001b[1;3;38;5;200mRetrieved node with id, entering: 25acfd98-9a2e-463a-989e-ea83eeae2c5c\n",
      "\u001b[0m\u001b[1;3;34mRetrieving with query id 25acfd98-9a2e-463a-989e-ea83eeae2c5c: 纳税抵触情绪源于什么？\n",
      "\u001b[0m\u001b[1;3;38;5;200mRetrieved node with id, entering: 6462c97f-75b7-4c5a-9d64-7ba3c2f8d2fa\n",
      "\u001b[0m\u001b[1;3;34mRetrieving with query id 6462c97f-75b7-4c5a-9d64-7ba3c2f8d2fa: 纳税抵触情绪源于什么？\n",
      "\u001b[0m\u001b[1;3;34mRetrieving with query id None: 女人为什么感到不安？\n",
      "\u001b[0m\u001b[1;3;38;5;200mRetrieved node with id, entering: 39eb4789-9cff-4643-bbde-e9ea25086a26\n",
      "\u001b[0m\u001b[1;3;34mRetrieving with query id 39eb4789-9cff-4643-bbde-e9ea25086a26: 女人为什么感到不安？\n",
      "\u001b[0m\u001b[1;3;38;5;200mRetrieved node with id, entering: e09623c3-2532-4ecf-aedc-7865cde85143\n",
      "\u001b[0m\u001b[1;3;34mRetrieving with query id e09623c3-2532-4ecf-aedc-7865cde85143: 女人为什么感到不安？\n",
      "\u001b[0m\u001b[1;3;38;5;200mRetrieved node with id, entering: d8976b22-e966-420a-9662-ba62ad37de92\n",
      "\u001b[0m\u001b[1;3;34mRetrieving with query id d8976b22-e966-420a-9662-ba62ad37de92: 女人为什么感到不安？\n",
      "\u001b[0m\u001b[1;3;38;5;200mRetrieved node with id, entering: 7b175426-8398-459e-8307-be8f165b2a6c\n",
      "\u001b[0m\u001b[1;3;34mRetrieving with query id 7b175426-8398-459e-8307-be8f165b2a6c: 女人为什么感到不安？\n",
      "\u001b[0m\u001b[1;3;34mRetrieving with query id None: 打断对话的最佳时机是？\n",
      "\u001b[0m\u001b[1;3;38;5;200mRetrieved node with id, entering: 26562d96-a314-4345-80d5-24782b5e302a\n",
      "\u001b[0m\u001b[1;3;34mRetrieving with query id 26562d96-a314-4345-80d5-24782b5e302a: 打断对话的最佳时机是？\n",
      "\u001b[0m\u001b[1;3;38;5;200mRetrieved node with id, entering: 2dba6dd1-44f7-483f-9844-1a2d67ba3c86\n",
      "\u001b[0m\u001b[1;3;34mRetrieving with query id 2dba6dd1-44f7-483f-9844-1a2d67ba3c86: 打断对话的最佳时机是？\n",
      "\u001b[0m"
     ]
    },
    {
     "name": "stderr",
     "output_type": "stream",
     "text": [
      "\u001b[32m2025-04-10 23:01:22.843\u001b[0m | \u001b[33m\u001b[1mWARNING \u001b[0m | \u001b[36mreadai.components.retrievers\u001b[0m:\u001b[36m_retrieve\u001b[0m:\u001b[36m553\u001b[0m - \u001b[33m\u001b[1mBM25Retriever does not support embeddings, skipping...\u001b[0m\n",
      "  9%|▉         | 9/100 [00:01<00:10,  9.02it/s]\u001b[32m2025-04-10 23:01:22.885\u001b[0m | \u001b[33m\u001b[1mWARNING \u001b[0m | \u001b[36mreadai.components.retrievers\u001b[0m:\u001b[36m_retrieve\u001b[0m:\u001b[36m553\u001b[0m - \u001b[33m\u001b[1mBM25Retriever does not support embeddings, skipping...\u001b[0m\n",
      "\u001b[32m2025-04-10 23:01:22.959\u001b[0m | \u001b[33m\u001b[1mWARNING \u001b[0m | \u001b[36mreadai.components.retrievers\u001b[0m:\u001b[36m_retrieve\u001b[0m:\u001b[36m553\u001b[0m - \u001b[33m\u001b[1mBM25Retriever does not support embeddings, skipping...\u001b[0m\n",
      " 11%|█         | 11/100 [00:01<00:08, 10.84it/s]"
     ]
    },
    {
     "name": "stdout",
     "output_type": "stream",
     "text": [
      "\u001b[1;3;34mRetrieving with query id None: 非暴力沟通中的哀悼指什么？\n",
      "\u001b[0m\u001b[1;3;38;5;200mRetrieved node with id, entering: 59245181-ee49-40d9-a67e-efd0dbd06e5f\n",
      "\u001b[0m\u001b[1;3;34mRetrieving with query id 59245181-ee49-40d9-a67e-efd0dbd06e5f: 非暴力沟通中的哀悼指什么？\n",
      "\u001b[0m\u001b[1;3;38;5;200mRetrieved node with id, entering: c56d185b-8380-4ffd-9205-920ce774bbfe\n",
      "\u001b[0m\u001b[1;3;34mRetrieving with query id c56d185b-8380-4ffd-9205-920ce774bbfe: 非暴力沟通中的哀悼指什么？\n",
      "\u001b[0m\u001b[1;3;38;5;200mRetrieved node with id, entering: c2b7bf91-be4f-4454-bd40-962303dcf5f3\n",
      "\u001b[0m\u001b[1;3;34mRetrieving with query id c2b7bf91-be4f-4454-bd40-962303dcf5f3: 非暴力沟通中的哀悼指什么？\n",
      "\u001b[0m\u001b[1;3;34mRetrieving with query id None: 自我宽恕的前提是什么？\n",
      "\u001b[0m\u001b[1;3;38;5;200mRetrieved node with id, entering: ba31f725-29ed-400e-b7f7-557c8aa07457\n",
      "\u001b[0m\u001b[1;3;34mRetrieving with query id ba31f725-29ed-400e-b7f7-557c8aa07457: 自我宽恕的前提是什么？\n",
      "\u001b[0m\u001b[1;3;38;5;200mRetrieved node with id, entering: 59245181-ee49-40d9-a67e-efd0dbd06e5f\n",
      "\u001b[0m\u001b[1;3;34mRetrieving with query id 59245181-ee49-40d9-a67e-efd0dbd06e5f: 自我宽恕的前提是什么？\n",
      "\u001b[0m\u001b[1;3;38;5;200mRetrieved node with id, entering: 841572c8-2cae-4522-8d04-3640200e6ee3\n",
      "\u001b[0m\u001b[1;3;34mRetrieving with query id 841572c8-2cae-4522-8d04-3640200e6ee3: 自我宽恕的前提是什么？\n",
      "\u001b[0m\u001b[1;3;34mRetrieving with query id None: 1. 非暴力沟通的第二要素是？\n",
      "\u001b[0m\u001b[1;3;38;5;200mRetrieved node with id, entering: fb36c9db-74e0-48d9-89fd-45272880f602\n",
      "\u001b[0m\u001b[1;3;34mRetrieving with query id fb36c9db-74e0-48d9-89fd-45272880f602: 1. 非暴力沟通的第二要素是？\n",
      "\u001b[0m\u001b[1;3;38;5;200mRetrieved node with id, entering: cf73a874-395c-465b-80ef-c22188af2411\n",
      "\u001b[0m\u001b[1;3;34mRetrieving with query id cf73a874-395c-465b-80ef-c22188af2411: 1. 非暴力沟通的第二要素是？\n",
      "\u001b[0m\u001b[1;3;38;5;200mRetrieved node with id, entering: 5adce124-9392-4256-8337-e24f4913985f\n",
      "\u001b[0m\u001b[1;3;34mRetrieving with query id 5adce124-9392-4256-8337-e24f4913985f: 1. 非暴力沟通的第二要素是？\n",
      "\u001b[0m\u001b[1;3;34mRetrieving with query id None: 2. 形容高兴的词语有哪些？\n",
      "\u001b[0m\u001b[1;3;38;5;200mRetrieved node with id, entering: b816a9f3-01a0-462d-a409-22ddcde8d486\n",
      "\u001b[0m\u001b[1;3;34mRetrieving with query id b816a9f3-01a0-462d-a409-22ddcde8d486: 2. 形容高兴的词语有哪些？\n",
      "\u001b[0m\u001b[1;3;38;5;200mRetrieved node with id, entering: d321a975-d86e-4d0a-94d7-6f1e6e0fad13\n",
      "\u001b[0m\u001b[1;3;34mRetrieving with query id d321a975-d86e-4d0a-94d7-6f1e6e0fad13: 2. 形容高兴的词语有哪些？\n",
      "\u001b[0m"
     ]
    },
    {
     "name": "stderr",
     "output_type": "stream",
     "text": [
      "\u001b[32m2025-04-10 23:01:23.003\u001b[0m | \u001b[33m\u001b[1mWARNING \u001b[0m | \u001b[36mreadai.components.retrievers\u001b[0m:\u001b[36m_retrieve\u001b[0m:\u001b[36m553\u001b[0m - \u001b[33m\u001b[1mBM25Retriever does not support embeddings, skipping...\u001b[0m\n",
      "\u001b[32m2025-04-10 23:01:23.064\u001b[0m | \u001b[33m\u001b[1mWARNING \u001b[0m | \u001b[36mreadai.components.retrievers\u001b[0m:\u001b[36m_retrieve\u001b[0m:\u001b[36m553\u001b[0m - \u001b[33m\u001b[1mBM25Retriever does not support embeddings, skipping...\u001b[0m\n",
      " 13%|█▎        | 13/100 [00:01<00:06, 12.65it/s]\u001b[32m2025-04-10 23:01:23.138\u001b[0m | \u001b[33m\u001b[1mWARNING \u001b[0m | \u001b[36mreadai.components.retrievers\u001b[0m:\u001b[36m_retrieve\u001b[0m:\u001b[36m553\u001b[0m - \u001b[33m\u001b[1mBM25Retriever does not support embeddings, skipping...\u001b[0m\n",
      "\u001b[32m2025-04-10 23:01:23.185\u001b[0m | \u001b[33m\u001b[1mWARNING \u001b[0m | \u001b[36mreadai.components.retrievers\u001b[0m:\u001b[36m_retrieve\u001b[0m:\u001b[36m553\u001b[0m - \u001b[33m\u001b[1mBM25Retriever does not support embeddings, skipping...\u001b[0m\n",
      " 15%|█▌        | 15/100 [00:02<00:06, 13.71it/s]"
     ]
    },
    {
     "name": "stdout",
     "output_type": "stream",
     "text": [
      "\u001b[1;3;34mRetrieving with query id None: 非暴力沟通的四个要素是？\n",
      "\u001b[0m\u001b[1;3;38;5;200mRetrieved node with id, entering: 5adce124-9392-4256-8337-e24f4913985f\n",
      "\u001b[0m\u001b[1;3;34mRetrieving with query id 5adce124-9392-4256-8337-e24f4913985f: 非暴力沟通的四个要素是？\n",
      "\u001b[0m\u001b[1;3;38;5;200mRetrieved node with id, entering: 994006d4-ed0d-4d2d-b61d-25129222b6a0\n",
      "\u001b[0m\u001b[1;3;34mRetrieving with query id 994006d4-ed0d-4d2d-b61d-25129222b6a0: 非暴力沟通的四个要素是？\n",
      "\u001b[0m\u001b[1;3;38;5;200mRetrieved node with id, entering: 3423a0b8-f692-4abe-b5f0-26f4bd41cc99\n",
      "\u001b[0m\u001b[1;3;34mRetrieving with query id 3423a0b8-f692-4abe-b5f0-26f4bd41cc99: 非暴力沟通的四个要素是？\n",
      "\u001b[0m\u001b[1;3;34mRetrieving with query id None: 庄子认为真正的同理需要什么？\n",
      "\u001b[0m\u001b[1;3;38;5;200mRetrieved node with id, entering: 4f471261-60d6-47aa-a881-21aa8bc7897f\n",
      "\u001b[0m\u001b[1;3;34mRetrieving with query id 4f471261-60d6-47aa-a881-21aa8bc7897f: 庄子认为真正的同理需要什么？\n",
      "\u001b[0m\u001b[1;3;34mRetrieving with query id None: 出租车司机对犹太人有什么看法？\n",
      "\u001b[0m\u001b[1;3;38;5;200mRetrieved node with id, entering: f1b0e321-f080-4f58-8175-937dc261284c\n",
      "\u001b[0m\u001b[1;3;34mRetrieving with query id f1b0e321-f080-4f58-8175-937dc261284c: 出租车司机对犹太人有什么看法？\n",
      "\u001b[0m\u001b[1;3;34mRetrieving with query id None: 作者如何应对愤怒情绪？\n",
      "\u001b[0m\u001b[1;3;38;5;200mRetrieved node with id, entering: c191eebe-c7ad-466d-9e2f-281f75d6dfaa\n",
      "\u001b[0m\u001b[1;3;34mRetrieving with query id c191eebe-c7ad-466d-9e2f-281f75d6dfaa: 作者如何应对愤怒情绪？\n",
      "\u001b[0m\u001b[1;3;38;5;200mRetrieved node with id, entering: 3dcc6a79-93e4-4ad4-a685-ce9b900a31b8\n",
      "\u001b[0m\u001b[1;3;34mRetrieving with query id 3dcc6a79-93e4-4ad4-a685-ce9b900a31b8: 作者如何应对愤怒情绪？\n",
      "\u001b[0m"
     ]
    },
    {
     "name": "stderr",
     "output_type": "stream",
     "text": [
      "\u001b[32m2025-04-10 23:01:23.228\u001b[0m | \u001b[33m\u001b[1mWARNING \u001b[0m | \u001b[36mreadai.components.retrievers\u001b[0m:\u001b[36m_retrieve\u001b[0m:\u001b[36m553\u001b[0m - \u001b[33m\u001b[1mBM25Retriever does not support embeddings, skipping...\u001b[0m\n",
      "\u001b[32m2025-04-10 23:01:23.273\u001b[0m | \u001b[33m\u001b[1mWARNING \u001b[0m | \u001b[36mreadai.components.retrievers\u001b[0m:\u001b[36m_retrieve\u001b[0m:\u001b[36m553\u001b[0m - \u001b[33m\u001b[1mBM25Retriever does not support embeddings, skipping...\u001b[0m\n",
      "\u001b[32m2025-04-10 23:01:23.324\u001b[0m | \u001b[33m\u001b[1mWARNING \u001b[0m | \u001b[36mreadai.components.retrievers\u001b[0m:\u001b[36m_retrieve\u001b[0m:\u001b[36m553\u001b[0m - \u001b[33m\u001b[1mBM25Retriever does not support embeddings, skipping...\u001b[0m\n",
      "\u001b[32m2025-04-10 23:01:23.413\u001b[0m | \u001b[33m\u001b[1mWARNING \u001b[0m | \u001b[36mreadai.components.retrievers\u001b[0m:\u001b[36m_retrieve\u001b[0m:\u001b[36m553\u001b[0m - \u001b[33m\u001b[1mBM25Retriever does not support embeddings, skipping...\u001b[0m\n"
     ]
    },
    {
     "name": "stdout",
     "output_type": "stream",
     "text": [
      "\u001b[1;3;34mRetrieving with query id None: 哪些句子表达了感受？\n",
      "\u001b[0m\u001b[1;3;38;5;200mRetrieved node with id, entering: 2f87bc3a-b34d-4fab-8e5b-bb1a828ea6bd\n",
      "\u001b[0m\u001b[1;3;34mRetrieving with query id 2f87bc3a-b34d-4fab-8e5b-bb1a828ea6bd: 哪些句子表达了感受？\n",
      "\u001b[0m\u001b[1;3;34mRetrieving with query id None: 如何区分感受和判断？\n",
      "\u001b[0m\u001b[1;3;38;5;200mRetrieved node with id, entering: 120c8611-3abe-4ff5-baee-68c21532b862\n",
      "\u001b[0m\u001b[1;3;34mRetrieving with query id 120c8611-3abe-4ff5-baee-68c21532b862: 如何区分感受和判断？\n",
      "\u001b[0m\u001b[1;3;38;5;200mRetrieved node with id, entering: 34a31b41-8874-4df0-9e9c-53e50c54c513\n",
      "\u001b[0m\u001b[1;3;34mRetrieving with query id 34a31b41-8874-4df0-9e9c-53e50c54c513: 如何区分感受和判断？\n",
      "\u001b[0m\u001b[1;3;38;5;200mRetrieved node with id, entering: a0b5e121-ca06-4aba-acde-a84fbb020916\n",
      "\u001b[0m\u001b[1;3;34mRetrieving with query id a0b5e121-ca06-4aba-acde-a84fbb020916: 如何区分感受和判断？\n",
      "\u001b[0m\u001b[1;3;38;5;200mRetrieved node with id, entering: f396adfb-3cd6-4f69-9a7d-39b77ab2234f\n",
      "\u001b[0m\u001b[1;3;34mRetrieving with query id f396adfb-3cd6-4f69-9a7d-39b77ab2234f: 如何区分感受和判断？\n",
      "\u001b[0m\u001b[1;3;34mRetrieving with query id None: 作者认为“应该”会引发什么？\n",
      "\u001b[0m\u001b[1;3;38;5;200mRetrieved node with id, entering: 5fa79047-964f-4135-a4c3-c4dc0d825d28\n",
      "\u001b[0m\u001b[1;3;34mRetrieving with query id 5fa79047-964f-4135-a4c3-c4dc0d825d28: 作者认为“应该”会引发什么？\n",
      "\u001b[0m\u001b[1;3;38;5;200mRetrieved node with id, entering: 5ba8fad4-3beb-4c2a-9d46-fdcd1d7b5c04\n",
      "\u001b[0m\u001b[1;3;34mRetrieving with query id 5ba8fad4-3beb-4c2a-9d46-fdcd1d7b5c04: 作者认为“应该”会引发什么？\n",
      "\u001b[0m\u001b[1;3;38;5;200mRetrieved node with id, entering: 8e33096e-7ff2-452f-aa94-4fb7766ce739\n",
      "\u001b[0m\u001b[1;3;34mRetrieving with query id 8e33096e-7ff2-452f-aa94-4fb7766ce739: 作者认为“应该”会引发什么？\n",
      "\u001b[0m"
     ]
    },
    {
     "name": "stderr",
     "output_type": "stream",
     "text": [
      " 19%|█▉        | 19/100 [00:02<00:05, 15.16it/s]\u001b[32m2025-04-10 23:01:23.488\u001b[0m | \u001b[33m\u001b[1mWARNING \u001b[0m | \u001b[36mreadai.components.retrievers\u001b[0m:\u001b[36m_retrieve\u001b[0m:\u001b[36m553\u001b[0m - \u001b[33m\u001b[1mBM25Retriever does not support embeddings, skipping...\u001b[0m\n",
      "\u001b[32m2025-04-10 23:01:23.548\u001b[0m | \u001b[33m\u001b[1mWARNING \u001b[0m | \u001b[36mreadai.components.retrievers\u001b[0m:\u001b[36m_retrieve\u001b[0m:\u001b[36m553\u001b[0m - \u001b[33m\u001b[1mBM25Retriever does not support embeddings, skipping...\u001b[0m\n",
      " 21%|██        | 21/100 [00:02<00:05, 15.22it/s]\u001b[32m2025-04-10 23:01:23.590\u001b[0m | \u001b[33m\u001b[1mWARNING \u001b[0m | \u001b[36mreadai.components.retrievers\u001b[0m:\u001b[36m_retrieve\u001b[0m:\u001b[36m553\u001b[0m - \u001b[33m\u001b[1mBM25Retriever does not support embeddings, skipping...\u001b[0m\n"
     ]
    },
    {
     "name": "stdout",
     "output_type": "stream",
     "text": [
      "\u001b[1;3;34mRetrieving with query id None: “非暴力沟通”主张以什么评价自己？\n",
      "\u001b[0m\u001b[1;3;38;5;200mRetrieved node with id, entering: 5fa79047-964f-4135-a4c3-c4dc0d825d28\n",
      "\u001b[0m\u001b[1;3;34mRetrieving with query id 5fa79047-964f-4135-a4c3-c4dc0d825d28: “非暴力沟通”主张以什么评价自己？\n",
      "\u001b[0m\u001b[1;3;38;5;200mRetrieved node with id, entering: 873efb03-d371-44cc-9383-2492942f3469\n",
      "\u001b[0m\u001b[1;3;34mRetrieving with query id 873efb03-d371-44cc-9383-2492942f3469: “非暴力沟通”主张以什么评价自己？\n",
      "\u001b[0m\u001b[1;3;38;5;200mRetrieved node with id, entering: 1e9dcb68-9d91-43ff-9b4d-2d4aa7e2368b\n",
      "\u001b[0m\u001b[1;3;34mRetrieving with query id 1e9dcb68-9d91-43ff-9b4d-2d4aa7e2368b: “非暴力沟通”主张以什么评价自己？\n",
      "\u001b[0m\u001b[1;3;38;5;200mRetrieved node with id, entering: 8eee8389-902d-4175-b392-092c32ffa7ad\n",
      "\u001b[0m\u001b[1;3;34mRetrieving with query id 8eee8389-902d-4175-b392-092c32ffa7ad: “非暴力沟通”主张以什么评价自己？\n",
      "\u001b[0m\u001b[1;3;38;5;200mRetrieved node with id, entering: fb36c9db-74e0-48d9-89fd-45272880f602\n",
      "\u001b[0m\u001b[1;3;34mRetrieving with query id fb36c9db-74e0-48d9-89fd-45272880f602: “非暴力沟通”主张以什么评价自己？\n",
      "\u001b[0m\u001b[1;3;34mRetrieving with query id None: 妻子对治疗师有什么不满？\n",
      "\u001b[0m\u001b[1;3;38;5;200mRetrieved node with id, entering: 84e0709d-4136-4ec3-b186-75052616784e\n",
      "\u001b[0m\u001b[1;3;34mRetrieving with query id 84e0709d-4136-4ec3-b186-75052616784e: 妻子对治疗师有什么不满？\n",
      "\u001b[0m\u001b[1;3;38;5;200mRetrieved node with id, entering: 705a9d1c-da17-4491-b395-716beb6742f5\n",
      "\u001b[0m\u001b[1;3;34mRetrieving with query id 705a9d1c-da17-4491-b395-716beb6742f5: 妻子对治疗师有什么不满？\n",
      "\u001b[0m\u001b[1;3;38;5;200mRetrieved node with id, entering: 29459787-2c00-495d-ace9-13c5879f3d58\n",
      "\u001b[0m\u001b[1;3;34mRetrieving with query id 29459787-2c00-495d-ace9-13c5879f3d58: 妻子对治疗师有什么不满？\n",
      "\u001b[0m\u001b[1;3;34mRetrieving with query id None: 护士如何帮助妻子表达感受？\n",
      "\u001b[0m\u001b[1;3;38;5;200mRetrieved node with id, entering: 705a9d1c-da17-4491-b395-716beb6742f5\n",
      "\u001b[0m\u001b[1;3;34mRetrieving with query id 705a9d1c-da17-4491-b395-716beb6742f5: 护士如何帮助妻子表达感受？\n",
      "\u001b[0m\u001b[1;3;38;5;200mRetrieved node with id, entering: 29459787-2c00-495d-ace9-13c5879f3d58\n",
      "\u001b[0m\u001b[1;3;34mRetrieving with query id 29459787-2c00-495d-ace9-13c5879f3d58: 护士如何帮助妻子表达感受？\n",
      "\u001b[0m\u001b[1;3;34mRetrieving with query id None: 病人被诊断为什么病？\n",
      "\u001b[0m"
     ]
    },
    {
     "name": "stderr",
     "output_type": "stream",
     "text": [
      "\u001b[32m2025-04-10 23:01:23.652\u001b[0m | \u001b[33m\u001b[1mWARNING \u001b[0m | \u001b[36mreadai.components.retrievers\u001b[0m:\u001b[36m_retrieve\u001b[0m:\u001b[36m553\u001b[0m - \u001b[33m\u001b[1mBM25Retriever does not support embeddings, skipping...\u001b[0m\n",
      " 23%|██▎       | 23/100 [00:02<00:04, 16.14it/s]\u001b[32m2025-04-10 23:01:23.727\u001b[0m | \u001b[33m\u001b[1mWARNING \u001b[0m | \u001b[36mreadai.components.retrievers\u001b[0m:\u001b[36m_retrieve\u001b[0m:\u001b[36m553\u001b[0m - \u001b[33m\u001b[1mBM25Retriever does not support embeddings, skipping...\u001b[0m\n",
      "\u001b[32m2025-04-10 23:01:23.779\u001b[0m | \u001b[33m\u001b[1mWARNING \u001b[0m | \u001b[36mreadai.components.retrievers\u001b[0m:\u001b[36m_retrieve\u001b[0m:\u001b[36m553\u001b[0m - \u001b[33m\u001b[1mBM25Retriever does not support embeddings, skipping...\u001b[0m\n",
      " 25%|██▌       | 25/100 [00:02<00:04, 16.02it/s]\u001b[32m2025-04-10 23:01:23.837\u001b[0m | \u001b[33m\u001b[1mWARNING \u001b[0m | \u001b[36mreadai.components.retrievers\u001b[0m:\u001b[36m_retrieve\u001b[0m:\u001b[36m553\u001b[0m - \u001b[33m\u001b[1mBM25Retriever does not support embeddings, skipping...\u001b[0m\n"
     ]
    },
    {
     "name": "stdout",
     "output_type": "stream",
     "text": [
      "\u001b[1;3;38;5;200mRetrieved node with id, entering: f396adfb-3cd6-4f69-9a7d-39b77ab2234f\n",
      "\u001b[0m\u001b[1;3;34mRetrieving with query id f396adfb-3cd6-4f69-9a7d-39b77ab2234f: 病人被诊断为什么病？\n",
      "\u001b[0m\u001b[1;3;34mRetrieving with query id None: 作者示范了什么沟通方法？\n",
      "\u001b[0m\u001b[1;3;38;5;200mRetrieved node with id, entering: 994006d4-ed0d-4d2d-b61d-25129222b6a0\n",
      "\u001b[0m\u001b[1;3;34mRetrieving with query id 994006d4-ed0d-4d2d-b61d-25129222b6a0: 作者示范了什么沟通方法？\n",
      "\u001b[0m\u001b[1;3;38;5;200mRetrieved node with id, entering: 4f471261-60d6-47aa-a881-21aa8bc7897f\n",
      "\u001b[0m\u001b[1;3;34mRetrieving with query id 4f471261-60d6-47aa-a881-21aa8bc7897f: 作者示范了什么沟通方法？\n",
      "\u001b[0m\u001b[1;3;38;5;200mRetrieved node with id, entering: 585dd78b-65e7-484c-b3a8-b25adf4b5f21\n",
      "\u001b[0m\u001b[1;3;34mRetrieving with query id 585dd78b-65e7-484c-b3a8-b25adf4b5f21: 作者示范了什么沟通方法？\n",
      "\u001b[0m\u001b[1;3;34mRetrieving with query id None: 玛拉最初是什么性格？\n",
      "\u001b[0m\u001b[1;3;38;5;200mRetrieved node with id, entering: e5d7c165-275a-437c-83b9-b52284b8931b\n",
      "\u001b[0m\u001b[1;3;34mRetrieving with query id e5d7c165-275a-437c-83b9-b52284b8931b: 玛拉最初是什么性格？\n",
      "\u001b[0m\u001b[1;3;34mRetrieving with query id None: 非暴力沟通第三要素是？\n",
      "\u001b[0m\u001b[1;3;38;5;200mRetrieved node with id, entering: e5d7c165-275a-437c-83b9-b52284b8931b\n",
      "\u001b[0m\u001b[1;3;34mRetrieving with query id e5d7c165-275a-437c-83b9-b52284b8931b: 非暴力沟通第三要素是？\n",
      "\u001b[0m\u001b[1;3;38;5;200mRetrieved node with id, entering: 5adce124-9392-4256-8337-e24f4913985f\n",
      "\u001b[0m\u001b[1;3;34mRetrieving with query id 5adce124-9392-4256-8337-e24f4913985f: 非暴力沟通第三要素是？\n",
      "\u001b[0m\u001b[1;3;38;5;200mRetrieved node with id, entering: fb36c9db-74e0-48d9-89fd-45272880f602\n",
      "\u001b[0m\u001b[1;3;34mRetrieving with query id fb36c9db-74e0-48d9-89fd-45272880f602: 非暴力沟通第三要素是？\n",
      "\u001b[0m\u001b[1;3;38;5;200mRetrieved node with id, entering: 652c146d-376d-46b5-a16e-3f018db18ccf\n",
      "\u001b[0m\u001b[1;3;34mRetrieving with query id 652c146d-376d-46b5-a16e-3f018db18ccf: 非暴力沟通第三要素是？\n",
      "\u001b[0m"
     ]
    },
    {
     "name": "stderr",
     "output_type": "stream",
     "text": [
      "\u001b[32m2025-04-10 23:01:23.900\u001b[0m | \u001b[33m\u001b[1mWARNING \u001b[0m | \u001b[36mreadai.components.retrievers\u001b[0m:\u001b[36m_retrieve\u001b[0m:\u001b[36m553\u001b[0m - \u001b[33m\u001b[1mBM25Retriever does not support embeddings, skipping...\u001b[0m\n",
      " 27%|██▋       | 27/100 [00:02<00:04, 16.16it/s]\u001b[32m2025-04-10 23:01:23.946\u001b[0m | \u001b[33m\u001b[1mWARNING \u001b[0m | \u001b[36mreadai.components.retrievers\u001b[0m:\u001b[36m_retrieve\u001b[0m:\u001b[36m553\u001b[0m - \u001b[33m\u001b[1mBM25Retriever does not support embeddings, skipping...\u001b[0m\n",
      "\u001b[32m2025-04-10 23:01:24.012\u001b[0m | \u001b[33m\u001b[1mWARNING \u001b[0m | \u001b[36mreadai.components.retrievers\u001b[0m:\u001b[36m_retrieve\u001b[0m:\u001b[36m553\u001b[0m - \u001b[33m\u001b[1mBM25Retriever does not support embeddings, skipping...\u001b[0m\n",
      " 29%|██▉       | 29/100 [00:02<00:04, 16.51it/s]"
     ]
    },
    {
     "name": "stdout",
     "output_type": "stream",
     "text": [
      "\u001b[1;3;34mRetrieving with query id None: 夫妻争吵了多少年？\n",
      "\u001b[0m\u001b[1;3;38;5;200mRetrieved node with id, entering: a6e2ff5d-c26c-4dfb-8174-c82e04b11194\n",
      "\u001b[0m\u001b[1;3;34mRetrieving with query id a6e2ff5d-c26c-4dfb-8174-c82e04b11194: 夫妻争吵了多少年？\n",
      "\u001b[0m\u001b[1;3;38;5;200mRetrieved node with id, entering: 7e45cd60-33b0-4a53-94d1-192a9811a8e8\n",
      "\u001b[0m\u001b[1;3;34mRetrieving with query id 7e45cd60-33b0-4a53-94d1-192a9811a8e8: 夫妻争吵了多少年？\n",
      "\u001b[0m\u001b[1;3;34mRetrieving with query id None: 丈夫不让太太做什么？\n",
      "\u001b[0m\u001b[1;3;38;5;200mRetrieved node with id, entering: d0fcaf20-7af0-486f-8a16-bf472449046c\n",
      "\u001b[0m\u001b[1;3;34mRetrieving with query id d0fcaf20-7af0-486f-8a16-bf472449046c: 丈夫不让太太做什么？\n",
      "\u001b[0m\u001b[1;3;38;5;200mRetrieved node with id, entering: 705a9d1c-da17-4491-b395-716beb6742f5\n",
      "\u001b[0m\u001b[1;3;34mRetrieving with query id 705a9d1c-da17-4491-b395-716beb6742f5: 丈夫不让太太做什么？\n",
      "\u001b[0m\u001b[1;3;38;5;200mRetrieved node with id, entering: 5adce124-9392-4256-8337-e24f4913985f\n",
      "\u001b[0m\u001b[1;3;34mRetrieving with query id 5adce124-9392-4256-8337-e24f4913985f: 丈夫不让太太做什么？\n",
      "\u001b[0m\u001b[1;3;38;5;200mRetrieved node with id, entering: a6e2ff5d-c26c-4dfb-8174-c82e04b11194\n",
      "\u001b[0m\u001b[1;3;34mRetrieving with query id a6e2ff5d-c26c-4dfb-8174-c82e04b11194: 丈夫不让太太做什么？\n",
      "\u001b[0m\u001b[1;3;38;5;200mRetrieved node with id, entering: ae0f176f-a3a5-422f-9a19-f0df3801f904\n",
      "\u001b[0m\u001b[1;3;34mRetrieving with query id ae0f176f-a3a5-422f-9a19-f0df3801f904: 丈夫不让太太做什么？\n",
      "\u001b[0m\u001b[1;3;34mRetrieving with query id None: 非暴力沟通的第一个要素是什么？\n",
      "\u001b[0m\u001b[1;3;38;5;200mRetrieved node with id, entering: fb36c9db-74e0-48d9-89fd-45272880f602\n",
      "\u001b[0m\u001b[1;3;34mRetrieving with query id fb36c9db-74e0-48d9-89fd-45272880f602: 非暴力沟通的第一个要素是什么？\n",
      "\u001b[0m\u001b[1;3;38;5;200mRetrieved node with id, entering: cf73a874-395c-465b-80ef-c22188af2411\n",
      "\u001b[0m\u001b[1;3;34mRetrieving with query id cf73a874-395c-465b-80ef-c22188af2411: 非暴力沟通的第一个要素是什么？\n",
      "\u001b[0m\u001b[1;3;38;5;200mRetrieved node with id, entering: 5adce124-9392-4256-8337-e24f4913985f\n",
      "\u001b[0m\u001b[1;3;34mRetrieving with query id 5adce124-9392-4256-8337-e24f4913985f: 非暴力沟通的第一个要素是什么？\n",
      "\u001b[0m\u001b[1;3;34mRetrieving with query id None: 菲尔对演讲者有什么不满？\n",
      "\u001b[0m"
     ]
    },
    {
     "name": "stderr",
     "output_type": "stream",
     "text": [
      "\u001b[32m2025-04-10 23:01:24.078\u001b[0m | \u001b[33m\u001b[1mWARNING \u001b[0m | \u001b[36mreadai.components.retrievers\u001b[0m:\u001b[36m_retrieve\u001b[0m:\u001b[36m553\u001b[0m - \u001b[33m\u001b[1mBM25Retriever does not support embeddings, skipping...\u001b[0m\n",
      "\u001b[32m2025-04-10 23:01:24.135\u001b[0m | \u001b[33m\u001b[1mWARNING \u001b[0m | \u001b[36mreadai.components.retrievers\u001b[0m:\u001b[36m_retrieve\u001b[0m:\u001b[36m553\u001b[0m - \u001b[33m\u001b[1mBM25Retriever does not support embeddings, skipping...\u001b[0m\n",
      " 31%|███       | 31/100 [00:02<00:04, 16.51it/s]\u001b[32m2025-04-10 23:01:24.195\u001b[0m | \u001b[33m\u001b[1mWARNING \u001b[0m | \u001b[36mreadai.components.retrievers\u001b[0m:\u001b[36m_retrieve\u001b[0m:\u001b[36m553\u001b[0m - \u001b[33m\u001b[1mBM25Retriever does not support embeddings, skipping...\u001b[0m\n",
      "\u001b[32m2025-04-10 23:01:24.244\u001b[0m | \u001b[33m\u001b[1mWARNING \u001b[0m | \u001b[36mreadai.components.retrievers\u001b[0m:\u001b[36m_retrieve\u001b[0m:\u001b[36m553\u001b[0m - \u001b[33m\u001b[1mBM25Retriever does not support embeddings, skipping...\u001b[0m\n",
      " 33%|███▎      | 33/100 [00:03<00:03, 17.13it/s]"
     ]
    },
    {
     "name": "stdout",
     "output_type": "stream",
     "text": [
      "\u001b[1;3;38;5;200mRetrieved node with id, entering: cf73a874-395c-465b-80ef-c22188af2411\n",
      "\u001b[0m\u001b[1;3;34mRetrieving with query id cf73a874-395c-465b-80ef-c22188af2411: 菲尔对演讲者有什么不满？\n",
      "\u001b[0m\u001b[1;3;34mRetrieving with query id None: 非暴力沟通的第一个要素是？\n",
      "\u001b[0m\u001b[1;3;38;5;200mRetrieved node with id, entering: fb36c9db-74e0-48d9-89fd-45272880f602\n",
      "\u001b[0m\u001b[1;3;34mRetrieving with query id fb36c9db-74e0-48d9-89fd-45272880f602: 非暴力沟通的第一个要素是？\n",
      "\u001b[0m\u001b[1;3;38;5;200mRetrieved node with id, entering: cf73a874-395c-465b-80ef-c22188af2411\n",
      "\u001b[0m\u001b[1;3;34mRetrieving with query id cf73a874-395c-465b-80ef-c22188af2411: 非暴力沟通的第一个要素是？\n",
      "\u001b[0m\u001b[1;3;38;5;200mRetrieved node with id, entering: 5adce124-9392-4256-8337-e24f4913985f\n",
      "\u001b[0m\u001b[1;3;34mRetrieving with query id 5adce124-9392-4256-8337-e24f4913985f: 非暴力沟通的第一个要素是？\n",
      "\u001b[0m\u001b[1;3;38;5;200mRetrieved node with id, entering: 3423a0b8-f692-4abe-b5f0-26f4bd41cc99\n",
      "\u001b[0m\u001b[1;3;34mRetrieving with query id 3423a0b8-f692-4abe-b5f0-26f4bd41cc99: 非暴力沟通的第一个要素是？\n",
      "\u001b[0m\u001b[1;3;34mRetrieving with query id None: 罗洛·梅认为成熟的人能捕捉什么？\n",
      "\u001b[0m\u001b[1;3;38;5;200mRetrieved node with id, entering: fb36c9db-74e0-48d9-89fd-45272880f602\n",
      "\u001b[0m\u001b[1;3;34mRetrieving with query id fb36c9db-74e0-48d9-89fd-45272880f602: 罗洛·梅认为成熟的人能捕捉什么？\n",
      "\u001b[0m\u001b[1;3;38;5;200mRetrieved node with id, entering: ceb2fcca-64e2-46a9-ac95-ccb2b6a6e488\n",
      "\u001b[0m\u001b[1;3;34mRetrieving with query id ceb2fcca-64e2-46a9-ac95-ccb2b6a6e488: 罗洛·梅认为成熟的人能捕捉什么？\n",
      "\u001b[0m\u001b[1;3;38;5;200mRetrieved node with id, entering: 33966bb7-9e62-4231-8636-0b65e76090f5\n",
      "\u001b[0m\u001b[1;3;34mRetrieving with query id 33966bb7-9e62-4231-8636-0b65e76090f5: 罗洛·梅认为成熟的人能捕捉什么？\n",
      "\u001b[0m\u001b[1;3;38;5;200mRetrieved node with id, entering: ea01298b-1034-4b63-b2b0-dae899b25dce\n",
      "\u001b[0m\u001b[1;3;34mRetrieving with query id ea01298b-1034-4b63-b2b0-dae899b25dce: 罗洛·梅认为成熟的人能捕捉什么？\n",
      "\u001b[0m\u001b[1;3;34mRetrieving with query id None: 大儿子几岁？\n",
      "\u001b[0m\u001b[1;3;38;5;200mRetrieved node with id, entering: 84e0709d-4136-4ec3-b186-75052616784e\n",
      "\u001b[0m\u001b[1;3;34mRetrieving with query id 84e0709d-4136-4ec3-b186-75052616784e: 大儿子几岁？\n",
      "\u001b[0m\u001b[1;3;38;5;200mRetrieved node with id, entering: 8a4827fa-68cf-460b-919b-b25c5b9ee9d3\n",
      "\u001b[0m\u001b[1;3;34mRetrieving with query id 8a4827fa-68cf-460b-919b-b25c5b9ee9d3: 大儿子几岁？\n",
      "\u001b[0m\u001b[1;3;38;5;200mRetrieved node with id, entering: adf4c544-1698-43c6-9807-e07c8c4bb007\n",
      "\u001b[0m\u001b[1;3;34mRetrieving with query id adf4c544-1698-43c6-9807-e07c8c4bb007: 大儿子几岁？\n",
      "\u001b[0m\u001b[1;3;34mRetrieving with query id None: 作者用什么方式表达痛苦？\n",
      "\u001b[0m"
     ]
    },
    {
     "name": "stderr",
     "output_type": "stream",
     "text": [
      "\u001b[32m2025-04-10 23:01:24.283\u001b[0m | \u001b[33m\u001b[1mWARNING \u001b[0m | \u001b[36mreadai.components.retrievers\u001b[0m:\u001b[36m_retrieve\u001b[0m:\u001b[36m553\u001b[0m - \u001b[33m\u001b[1mBM25Retriever does not support embeddings, skipping...\u001b[0m\n",
      "\u001b[32m2025-04-10 23:01:24.326\u001b[0m | \u001b[33m\u001b[1mWARNING \u001b[0m | \u001b[36mreadai.components.retrievers\u001b[0m:\u001b[36m_retrieve\u001b[0m:\u001b[36m553\u001b[0m - \u001b[33m\u001b[1mBM25Retriever does not support embeddings, skipping...\u001b[0m\n",
      "\u001b[32m2025-04-10 23:01:24.373\u001b[0m | \u001b[33m\u001b[1mWARNING \u001b[0m | \u001b[36mreadai.components.retrievers\u001b[0m:\u001b[36m_retrieve\u001b[0m:\u001b[36m553\u001b[0m - \u001b[33m\u001b[1mBM25Retriever does not support embeddings, skipping...\u001b[0m\n",
      "\u001b[32m2025-04-10 23:01:24.414\u001b[0m | \u001b[33m\u001b[1mWARNING \u001b[0m | \u001b[36mreadai.components.retrievers\u001b[0m:\u001b[36m_retrieve\u001b[0m:\u001b[36m553\u001b[0m - \u001b[33m\u001b[1mBM25Retriever does not support embeddings, skipping...\u001b[0m\n",
      " 37%|███▋      | 37/100 [00:03<00:03, 19.44it/s]\u001b[32m2025-04-10 23:01:24.493\u001b[0m | \u001b[33m\u001b[1mWARNING \u001b[0m | \u001b[36mreadai.components.retrievers\u001b[0m:\u001b[36m_retrieve\u001b[0m:\u001b[36m553\u001b[0m - \u001b[33m\u001b[1mBM25Retriever does not support embeddings, skipping...\u001b[0m\n"
     ]
    },
    {
     "name": "stdout",
     "output_type": "stream",
     "text": [
      "\u001b[1;3;38;5;200mRetrieved node with id, entering: d0fcaf20-7af0-486f-8a16-bf472449046c\n",
      "\u001b[0m\u001b[1;3;34mRetrieving with query id d0fcaf20-7af0-486f-8a16-bf472449046c: 作者用什么方式表达痛苦？\n",
      "\u001b[0m\u001b[1;3;38;5;200mRetrieved node with id, entering: 38e4540e-da17-4908-8b4d-dcf5e1e40b61\n",
      "\u001b[0m\u001b[1;3;34mRetrieving with query id 38e4540e-da17-4908-8b4d-dcf5e1e40b61: 作者用什么方式表达痛苦？\n",
      "\u001b[0m\u001b[1;3;38;5;200mRetrieved node with id, entering: 87ffe138-fbc4-45c3-a7f8-527137898348\n",
      "\u001b[0m\u001b[1;3;34mRetrieving with query id 87ffe138-fbc4-45c3-a7f8-527137898348: 作者用什么方式表达痛苦？\n",
      "\u001b[0m\u001b[1;3;38;5;200mRetrieved node with id, entering: 2f87bc3a-b34d-4fab-8e5b-bb1a828ea6bd\n",
      "\u001b[0m\u001b[1;3;34mRetrieving with query id 2f87bc3a-b34d-4fab-8e5b-bb1a828ea6bd: 作者用什么方式表达痛苦？\n",
      "\u001b[0m\u001b[1;3;34mRetrieving with query id None: 说话者希望对方做什么？\n",
      "\u001b[0m\u001b[1;3;38;5;200mRetrieved node with id, entering: 89c3cef9-e1cc-44e8-92e8-5501b12137b4\n",
      "\u001b[0m\u001b[1;3;34mRetrieving with query id 89c3cef9-e1cc-44e8-92e8-5501b12137b4: 说话者希望对方做什么？\n",
      "\u001b[0m\u001b[1;3;38;5;200mRetrieved node with id, entering: 69e37cc7-f8a9-4d18-ae14-0ae0008c8808\n",
      "\u001b[0m\u001b[1;3;34mRetrieving with query id 69e37cc7-f8a9-4d18-ae14-0ae0008c8808: 说话者希望对方做什么？\n",
      "\u001b[0m\u001b[1;3;34mRetrieving with query id None: 哪句话被评价为具体明确？\n",
      "\u001b[0m\u001b[1;3;38;5;200mRetrieved node with id, entering: 658733a7-53c4-4a33-a232-e5abcf228d75\n",
      "\u001b[0m\u001b[1;3;34mRetrieving with query id 658733a7-53c4-4a33-a232-e5abcf228d75: 哪句话被评价为具体明确？\n",
      "\u001b[0m\u001b[1;3;38;5;200mRetrieved node with id, entering: 3423a0b8-f692-4abe-b5f0-26f4bd41cc99\n",
      "\u001b[0m\u001b[1;3;34mRetrieving with query id 3423a0b8-f692-4abe-b5f0-26f4bd41cc99: 哪句话被评价为具体明确？\n",
      "\u001b[0m\u001b[1;3;34mRetrieving with query id None: 复述的目的是什么？\n",
      "\u001b[0m\u001b[1;3;38;5;200mRetrieved node with id, entering: 89c3cef9-e1cc-44e8-92e8-5501b12137b4\n",
      "\u001b[0m\u001b[1;3;34mRetrieving with query id 89c3cef9-e1cc-44e8-92e8-5501b12137b4: 复述的目的是什么？\n",
      "\u001b[0m\u001b[1;3;38;5;200mRetrieved node with id, entering: 66809c50-b5c0-45a3-8747-717fed98fbc7\n",
      "\u001b[0m\u001b[1;3;34mRetrieving with query id 66809c50-b5c0-45a3-8747-717fed98fbc7: 复述的目的是什么？\n",
      "\u001b[0m\u001b[1;3;38;5;200mRetrieved node with id, entering: 0b967f5c-1e52-412c-993a-651005623980\n",
      "\u001b[0m\u001b[1;3;34mRetrieving with query id 0b967f5c-1e52-412c-993a-651005623980: 复述的目的是什么？\n",
      "\u001b[0m\u001b[1;3;38;5;200mRetrieved node with id, entering: 889cf7db-a0ab-486d-87fd-d878587f786c\n",
      "\u001b[0m\u001b[1;3;34mRetrieving with query id 889cf7db-a0ab-486d-87fd-d878587f786c: 复述的目的是什么？\n",
      "\u001b[0m\u001b[1;3;34mRetrieving with query id None: 心理学家布伯提倡什么关系？\n",
      "\u001b[0m\u001b[1;3;38;5;200mRetrieved node with id, entering: 6c462b46-6f67-4b99-81f4-727211c5e0fb\n",
      "\u001b[0m\u001b[1;3;34mRetrieving with query id 6c462b46-6f67-4b99-81f4-727211c5e0fb: 心理学家布伯提倡什么关系？\n",
      "\u001b[0m"
     ]
    },
    {
     "name": "stderr",
     "output_type": "stream",
     "text": [
      "\u001b[32m2025-04-10 23:01:24.564\u001b[0m | \u001b[33m\u001b[1mWARNING \u001b[0m | \u001b[36mreadai.components.retrievers\u001b[0m:\u001b[36m_retrieve\u001b[0m:\u001b[36m553\u001b[0m - \u001b[33m\u001b[1mBM25Retriever does not support embeddings, skipping...\u001b[0m\n",
      " 39%|███▉      | 39/100 [00:03<00:03, 17.42it/s]\u001b[32m2025-04-10 23:01:24.623\u001b[0m | \u001b[33m\u001b[1mWARNING \u001b[0m | \u001b[36mreadai.components.retrievers\u001b[0m:\u001b[36m_retrieve\u001b[0m:\u001b[36m553\u001b[0m - \u001b[33m\u001b[1mBM25Retriever does not support embeddings, skipping...\u001b[0m\n",
      "\u001b[32m2025-04-10 23:01:24.688\u001b[0m | \u001b[33m\u001b[1mWARNING \u001b[0m | \u001b[36mreadai.components.retrievers\u001b[0m:\u001b[36m_retrieve\u001b[0m:\u001b[36m553\u001b[0m - \u001b[33m\u001b[1mBM25Retriever does not support embeddings, skipping...\u001b[0m\n"
     ]
    },
    {
     "name": "stdout",
     "output_type": "stream",
     "text": [
      "\u001b[1;3;34mRetrieving with query id None: 非暴力沟通建议用什么形式复述？\n",
      "\u001b[0m\u001b[1;3;38;5;200mRetrieved node with id, entering: 1b558dc8-5dc0-4f5e-a03b-efc2ca849188\n",
      "\u001b[0m\u001b[1;3;34mRetrieving with query id 1b558dc8-5dc0-4f5e-a03b-efc2ca849188: 非暴力沟通建议用什么形式复述？\n",
      "\u001b[0m\u001b[1;3;38;5;200mRetrieved node with id, entering: 89c3cef9-e1cc-44e8-92e8-5501b12137b4\n",
      "\u001b[0m\u001b[1;3;34mRetrieving with query id 89c3cef9-e1cc-44e8-92e8-5501b12137b4: 非暴力沟通建议用什么形式复述？\n",
      "\u001b[0m\u001b[1;3;38;5;200mRetrieved node with id, entering: c346f4cc-49ea-4181-895f-d89204eab6ac\n",
      "\u001b[0m\u001b[1;3;34mRetrieving with query id c346f4cc-49ea-4181-895f-d89204eab6ac: 非暴力沟通建议用什么形式复述？\n",
      "\u001b[0m\u001b[1;3;38;5;200mRetrieved node with id, entering: 1e9dcb68-9d91-43ff-9b4d-2d4aa7e2368b\n",
      "\u001b[0m\u001b[1;3;34mRetrieving with query id 1e9dcb68-9d91-43ff-9b4d-2d4aa7e2368b: 非暴力沟通建议用什么形式复述？\n",
      "\u001b[0m\u001b[1;3;34mRetrieving with query id None: 作者用什么替代了医疗术语？\n",
      "\u001b[0m\u001b[1;3;38;5;200mRetrieved node with id, entering: 6c462b46-6f67-4b99-81f4-727211c5e0fb\n",
      "\u001b[0m\u001b[1;3;34mRetrieving with query id 6c462b46-6f67-4b99-81f4-727211c5e0fb: 作者用什么替代了医疗术语？\n",
      "\u001b[0m\u001b[1;3;38;5;200mRetrieved node with id, entering: f396adfb-3cd6-4f69-9a7d-39b77ab2234f\n",
      "\u001b[0m\u001b[1;3;34mRetrieving with query id f396adfb-3cd6-4f69-9a7d-39b77ab2234f: 作者用什么替代了医疗术语？\n",
      "\u001b[0m\u001b[1;3;38;5;200mRetrieved node with id, entering: 7deab73b-4937-4215-be40-21ea5d2cde73\n",
      "\u001b[0m\u001b[1;3;34mRetrieving with query id 7deab73b-4937-4215-be40-21ea5d2cde73: 作者用什么替代了医疗术语？\n",
      "\u001b[0m\u001b[1;3;34mRetrieving with query id None: 丈夫最初的需要是什么？\n",
      "\u001b[0m\u001b[1;3;38;5;200mRetrieved node with id, entering: 8a16a2c0-ab50-4d81-80dd-282d58d9217c\n",
      "\u001b[0m\u001b[1;3;34mRetrieving with query id 8a16a2c0-ab50-4d81-80dd-282d58d9217c: 丈夫最初的需要是什么？\n",
      "\u001b[0m\u001b[1;3;38;5;200mRetrieved node with id, entering: a6e2ff5d-c26c-4dfb-8174-c82e04b11194\n",
      "\u001b[0m\u001b[1;3;34mRetrieving with query id a6e2ff5d-c26c-4dfb-8174-c82e04b11194: 丈夫最初的需要是什么？\n",
      "\u001b[0m"
     ]
    },
    {
     "name": "stderr",
     "output_type": "stream",
     "text": [
      " 41%|████      | 41/100 [00:03<00:03, 17.07it/s]\u001b[32m2025-04-10 23:01:24.735\u001b[0m | \u001b[33m\u001b[1mWARNING \u001b[0m | \u001b[36mreadai.components.retrievers\u001b[0m:\u001b[36m_retrieve\u001b[0m:\u001b[36m553\u001b[0m - \u001b[33m\u001b[1mBM25Retriever does not support embeddings, skipping...\u001b[0m\n",
      "\u001b[32m2025-04-10 23:01:24.814\u001b[0m | \u001b[33m\u001b[1mWARNING \u001b[0m | \u001b[36mreadai.components.retrievers\u001b[0m:\u001b[36m_retrieve\u001b[0m:\u001b[36m553\u001b[0m - \u001b[33m\u001b[1mBM25Retriever does not support embeddings, skipping...\u001b[0m\n",
      " 43%|████▎     | 43/100 [00:03<00:03, 16.70it/s]\u001b[32m2025-04-10 23:01:24.868\u001b[0m | \u001b[33m\u001b[1mWARNING \u001b[0m | \u001b[36mreadai.components.retrievers\u001b[0m:\u001b[36m_retrieve\u001b[0m:\u001b[36m553\u001b[0m - \u001b[33m\u001b[1mBM25Retriever does not support embeddings, skipping...\u001b[0m\n"
     ]
    },
    {
     "name": "stdout",
     "output_type": "stream",
     "text": [
      "\u001b[1;3;34mRetrieving with query id None: 公司内部纷争的起因是什么？\n",
      "\u001b[0m\u001b[1;3;38;5;200mRetrieved node with id, entering: 36a9f08c-d221-41d3-84f1-1cdae6b695b0\n",
      "\u001b[0m\u001b[1;3;34mRetrieving with query id 36a9f08c-d221-41d3-84f1-1cdae6b695b0: 公司内部纷争的起因是什么？\n",
      "\u001b[0m\u001b[1;3;38;5;200mRetrieved node with id, entering: 7f282a20-f873-4037-a0bf-f3aa3e088b28\n",
      "\u001b[0m\u001b[1;3;34mRetrieving with query id 7f282a20-f873-4037-a0bf-f3aa3e088b28: 公司内部纷争的起因是什么？\n",
      "\u001b[0m\u001b[1;3;38;5;200mRetrieved node with id, entering: 2dba6dd1-44f7-483f-9844-1a2d67ba3c86\n",
      "\u001b[0m\u001b[1;3;34mRetrieving with query id 2dba6dd1-44f7-483f-9844-1a2d67ba3c86: 公司内部纷争的起因是什么？\n",
      "\u001b[0m\u001b[1;3;34mRetrieving with query id None: 太太最初听到的是什么？\n",
      "\u001b[0m\u001b[1;3;38;5;200mRetrieved node with id, entering: d0fcaf20-7af0-486f-8a16-bf472449046c\n",
      "\u001b[0m\u001b[1;3;34mRetrieving with query id d0fcaf20-7af0-486f-8a16-bf472449046c: 太太最初听到的是什么？\n",
      "\u001b[0m\u001b[1;3;38;5;200mRetrieved node with id, entering: 889cf7db-a0ab-486d-87fd-d878587f786c\n",
      "\u001b[0m\u001b[1;3;34mRetrieving with query id 889cf7db-a0ab-486d-87fd-d878587f786c: 太太最初听到的是什么？\n",
      "\u001b[0m\u001b[1;3;38;5;200mRetrieved node with id, entering: 29459787-2c00-495d-ace9-13c5879f3d58\n",
      "\u001b[0m\u001b[1;3;34mRetrieving with query id 29459787-2c00-495d-ace9-13c5879f3d58: 太太最初听到的是什么？\n",
      "\u001b[0m\u001b[1;3;38;5;200mRetrieved node with id, entering: e49fb717-3cfb-4b71-a41b-163aee89280b\n",
      "\u001b[0m\u001b[1;3;34mRetrieving with query id e49fb717-3cfb-4b71-a41b-163aee89280b: 太太最初听到的是什么？\n",
      "\u001b[0m\u001b[1;3;34mRetrieving with query id None: 冲突双方各自主张使用什么？\n",
      "\u001b[0m\u001b[1;3;38;5;200mRetrieved node with id, entering: 7f282a20-f873-4037-a0bf-f3aa3e088b28\n",
      "\u001b[0m\u001b[1;3;34mRetrieving with query id 7f282a20-f873-4037-a0bf-f3aa3e088b28: 冲突双方各自主张使用什么？\n",
      "\u001b[0m\u001b[1;3;38;5;200mRetrieved node with id, entering: 212342b3-b245-478f-830f-13a32b6f6efb\n",
      "\u001b[0m\u001b[1;3;34mRetrieving with query id 212342b3-b245-478f-830f-13a32b6f6efb: 冲突双方各自主张使用什么？\n",
      "\u001b[0m\u001b[1;3;38;5;200mRetrieved node with id, entering: a1c48542-37e9-4d81-a622-bef64aa13644\n",
      "\u001b[0m\u001b[1;3;34mRetrieving with query id a1c48542-37e9-4d81-a622-bef64aa13644: 冲突双方各自主张使用什么？\n",
      "\u001b[0m"
     ]
    },
    {
     "name": "stderr",
     "output_type": "stream",
     "text": [
      "\u001b[32m2025-04-10 23:01:24.917\u001b[0m | \u001b[33m\u001b[1mWARNING \u001b[0m | \u001b[36mreadai.components.retrievers\u001b[0m:\u001b[36m_retrieve\u001b[0m:\u001b[36m553\u001b[0m - \u001b[33m\u001b[1mBM25Retriever does not support embeddings, skipping...\u001b[0m\n",
      " 45%|████▌     | 45/100 [00:03<00:03, 17.31it/s]\u001b[32m2025-04-10 23:01:24.973\u001b[0m | \u001b[33m\u001b[1mWARNING \u001b[0m | \u001b[36mreadai.components.retrievers\u001b[0m:\u001b[36m_retrieve\u001b[0m:\u001b[36m553\u001b[0m - \u001b[33m\u001b[1mBM25Retriever does not support embeddings, skipping...\u001b[0m\n",
      "\u001b[32m2025-04-10 23:01:25.022\u001b[0m | \u001b[33m\u001b[1mWARNING \u001b[0m | \u001b[36mreadai.components.retrievers\u001b[0m:\u001b[36m_retrieve\u001b[0m:\u001b[36m553\u001b[0m - \u001b[33m\u001b[1mBM25Retriever does not support embeddings, skipping...\u001b[0m\n",
      " 47%|████▋     | 47/100 [00:03<00:02, 17.87it/s]"
     ]
    },
    {
     "name": "stdout",
     "output_type": "stream",
     "text": [
      "\u001b[1;3;34mRetrieving with query id None: 1. 谁将抑郁症归因为\"无法认知到自己有选择\"？\n",
      "\u001b[0m\u001b[1;3;38;5;200mRetrieved node with id, entering: 33966bb7-9e62-4231-8636-0b65e76090f5\n",
      "\u001b[0m\u001b[1;3;34mRetrieving with query id 33966bb7-9e62-4231-8636-0b65e76090f5: 1. 谁将抑郁症归因为\"无法认知到自己有选择\"？\n",
      "\u001b[0m\u001b[1;3;38;5;200mRetrieved node with id, entering: fc31fb8c-bfb9-45bb-8018-36979b00aba3\n",
      "\u001b[0m\u001b[1;3;34mRetrieving with query id fc31fb8c-bfb9-45bb-8018-36979b00aba3: 1. 谁将抑郁症归因为\"无法认知到自己有选择\"？\n",
      "\u001b[0m\u001b[1;3;38;5;200mRetrieved node with id, entering: 8959a5a2-0fc4-4fee-be0d-90064bc798c4\n",
      "\u001b[0m\u001b[1;3;34mRetrieving with query id 8959a5a2-0fc4-4fee-be0d-90064bc798c4: 1. 谁将抑郁症归因为\"无法认知到自己有选择\"？\n",
      "\u001b[0m\u001b[1;3;34mRetrieving with query id None: 马歇尔认为什么方法不容易？\n",
      "\u001b[0m\u001b[1;3;38;5;200mRetrieved node with id, entering: 773e7710-3a66-400e-b673-65888f0fa3b3\n",
      "\u001b[0m\u001b[1;3;34mRetrieving with query id 773e7710-3a66-400e-b673-65888f0fa3b3: 马歇尔认为什么方法不容易？\n",
      "\u001b[0m\u001b[1;3;38;5;200mRetrieved node with id, entering: cf73a874-395c-465b-80ef-c22188af2411\n",
      "\u001b[0m\u001b[1;3;34mRetrieving with query id cf73a874-395c-465b-80ef-c22188af2411: 马歇尔认为什么方法不容易？\n",
      "\u001b[0m\u001b[1;3;38;5;200mRetrieved node with id, entering: cb72c6dd-cb70-4c2e-8d7c-19d646d77ab3\n",
      "\u001b[0m\u001b[1;3;34mRetrieving with query id cb72c6dd-cb70-4c2e-8d7c-19d646d77ab3: 马歇尔认为什么方法不容易？\n",
      "\u001b[0m\u001b[1;3;34mRetrieving with query id None: 2. 巴迪·哈克特从小吃什么食物长大？\n",
      "\u001b[0m\u001b[1;3;38;5;200mRetrieved node with id, entering: 33966bb7-9e62-4231-8636-0b65e76090f5\n",
      "\u001b[0m\u001b[1;3;34mRetrieving with query id 33966bb7-9e62-4231-8636-0b65e76090f5: 2. 巴迪·哈克特从小吃什么食物长大？\n",
      "\u001b[0m\u001b[1;3;38;5;200mRetrieved node with id, entering: 8a4827fa-68cf-460b-919b-b25c5b9ee9d3\n",
      "\u001b[0m\u001b[1;3;34mRetrieving with query id 8a4827fa-68cf-460b-919b-b25c5b9ee9d3: 2. 巴迪·哈克特从小吃什么食物长大？\n",
      "\u001b[0m\u001b[1;3;38;5;200mRetrieved node with id, entering: 25acfd98-9a2e-463a-989e-ea83eeae2c5c\n",
      "\u001b[0m\u001b[1;3;34mRetrieving with query id 25acfd98-9a2e-463a-989e-ea83eeae2c5c: 2. 巴迪·哈克特从小吃什么食物长大？\n",
      "\u001b[0m\u001b[1;3;38;5;200mRetrieved node with id, entering: 3382f2dd-2a25-4b80-a16c-06e1a55ad6bb\n",
      "\u001b[0m\u001b[1;3;34mRetrieving with query id 3382f2dd-2a25-4b80-a16c-06e1a55ad6bb: 2. 巴迪·哈克特从小吃什么食物长大？\n",
      "\u001b[0m\u001b[1;3;34mRetrieving with query id None: 哪些句子是纯粹观察？\n",
      "\u001b[0m"
     ]
    },
    {
     "name": "stderr",
     "output_type": "stream",
     "text": [
      "\u001b[32m2025-04-10 23:01:25.072\u001b[0m | \u001b[33m\u001b[1mWARNING \u001b[0m | \u001b[36mreadai.components.retrievers\u001b[0m:\u001b[36m_retrieve\u001b[0m:\u001b[36m553\u001b[0m - \u001b[33m\u001b[1mBM25Retriever does not support embeddings, skipping...\u001b[0m\n",
      "\u001b[32m2025-04-10 23:01:25.118\u001b[0m | \u001b[33m\u001b[1mWARNING \u001b[0m | \u001b[36mreadai.components.retrievers\u001b[0m:\u001b[36m_retrieve\u001b[0m:\u001b[36m553\u001b[0m - \u001b[33m\u001b[1mBM25Retriever does not support embeddings, skipping...\u001b[0m\n",
      "\u001b[32m2025-04-10 23:01:25.156\u001b[0m | \u001b[33m\u001b[1mWARNING \u001b[0m | \u001b[36mreadai.components.retrievers\u001b[0m:\u001b[36m_retrieve\u001b[0m:\u001b[36m553\u001b[0m - \u001b[33m\u001b[1mBM25Retriever does not support embeddings, skipping...\u001b[0m\n",
      "\u001b[32m2025-04-10 23:01:25.199\u001b[0m | \u001b[33m\u001b[1mWARNING \u001b[0m | \u001b[36mreadai.components.retrievers\u001b[0m:\u001b[36m_retrieve\u001b[0m:\u001b[36m553\u001b[0m - \u001b[33m\u001b[1mBM25Retriever does not support embeddings, skipping...\u001b[0m\n",
      " 51%|█████     | 51/100 [00:04<00:02, 19.82it/s]\u001b[32m2025-04-10 23:01:25.241\u001b[0m | \u001b[33m\u001b[1mWARNING \u001b[0m | \u001b[36mreadai.components.retrievers\u001b[0m:\u001b[36m_retrieve\u001b[0m:\u001b[36m553\u001b[0m - \u001b[33m\u001b[1mBM25Retriever does not support embeddings, skipping...\u001b[0m\n"
     ]
    },
    {
     "name": "stdout",
     "output_type": "stream",
     "text": [
      "\u001b[1;3;38;5;200mRetrieved node with id, entering: 28686fee-f722-4232-85c6-13e1ec89927d\n",
      "\u001b[0m\u001b[1;3;34mRetrieving with query id 28686fee-f722-4232-85c6-13e1ec89927d: 哪些句子是纯粹观察？\n",
      "\u001b[0m\u001b[1;3;38;5;200mRetrieved node with id, entering: 3423a0b8-f692-4abe-b5f0-26f4bd41cc99\n",
      "\u001b[0m\u001b[1;3;34mRetrieving with query id 3423a0b8-f692-4abe-b5f0-26f4bd41cc99: 哪些句子是纯粹观察？\n",
      "\u001b[0m\u001b[1;3;38;5;200mRetrieved node with id, entering: 773e7710-3a66-400e-b673-65888f0fa3b3\n",
      "\u001b[0m\u001b[1;3;34mRetrieving with query id 773e7710-3a66-400e-b673-65888f0fa3b3: 哪些句子是纯粹观察？\n",
      "\u001b[0m\u001b[1;3;34mRetrieving with query id None: 太太对丈夫的主要抱怨是什么？\n",
      "\u001b[0m\u001b[1;3;38;5;200mRetrieved node with id, entering: d0fcaf20-7af0-486f-8a16-bf472449046c\n",
      "\u001b[0m\u001b[1;3;34mRetrieving with query id d0fcaf20-7af0-486f-8a16-bf472449046c: 太太对丈夫的主要抱怨是什么？\n",
      "\u001b[0m\u001b[1;3;38;5;200mRetrieved node with id, entering: 29459787-2c00-495d-ace9-13c5879f3d58\n",
      "\u001b[0m\u001b[1;3;34mRetrieving with query id 29459787-2c00-495d-ace9-13c5879f3d58: 太太对丈夫的主要抱怨是什么？\n",
      "\u001b[0m\u001b[1;3;38;5;200mRetrieved node with id, entering: e49fb717-3cfb-4b71-a41b-163aee89280b\n",
      "\u001b[0m\u001b[1;3;34mRetrieving with query id e49fb717-3cfb-4b71-a41b-163aee89280b: 太太对丈夫的主要抱怨是什么？\n",
      "\u001b[0m\u001b[1;3;34mRetrieving with query id None: 乙表达生气的原因是什么？\n",
      "\u001b[0m\u001b[1;3;38;5;200mRetrieved node with id, entering: 6462c97f-75b7-4c5a-9d64-7ba3c2f8d2fa\n",
      "\u001b[0m\u001b[1;3;34mRetrieving with query id 6462c97f-75b7-4c5a-9d64-7ba3c2f8d2fa: 乙表达生气的原因是什么？\n",
      "\u001b[0m\u001b[1;3;38;5;200mRetrieved node with id, entering: 55743ff5-8244-4baf-98bb-deb874c73912\n",
      "\u001b[0m\u001b[1;3;34mRetrieving with query id 55743ff5-8244-4baf-98bb-deb874c73912: 乙表达生气的原因是什么？\n",
      "\u001b[0m\u001b[1;3;34mRetrieving with query id None: 复述对方的话有什么好处？\n",
      "\u001b[0m\u001b[1;3;38;5;200mRetrieved node with id, entering: 89c3cef9-e1cc-44e8-92e8-5501b12137b4\n",
      "\u001b[0m\u001b[1;3;34mRetrieving with query id 89c3cef9-e1cc-44e8-92e8-5501b12137b4: 复述对方的话有什么好处？\n",
      "\u001b[0m\u001b[1;3;38;5;200mRetrieved node with id, entering: 889cf7db-a0ab-486d-87fd-d878587f786c\n",
      "\u001b[0m\u001b[1;3;34mRetrieving with query id 889cf7db-a0ab-486d-87fd-d878587f786c: 复述对方的话有什么好处？\n",
      "\u001b[0m\u001b[1;3;38;5;200mRetrieved node with id, entering: 66809c50-b5c0-45a3-8747-717fed98fbc7\n",
      "\u001b[0m\u001b[1;3;34mRetrieving with query id 66809c50-b5c0-45a3-8747-717fed98fbc7: 复述对方的话有什么好处？\n",
      "\u001b[0m\u001b[1;3;34mRetrieving with query id None: 家长对孩子说什么会内疚？\n",
      "\u001b[0m\u001b[1;3;38;5;200mRetrieved node with id, entering: 34a31b41-8874-4df0-9e9c-53e50c54c513\n",
      "\u001b[0m\u001b[1;3;34mRetrieving with query id 34a31b41-8874-4df0-9e9c-53e50c54c513: 家长对孩子说什么会内疚？\n",
      "\u001b[0m\u001b[1;3;34mRetrieving with query id None: 山姆用什么提醒自己？\n",
      "\u001b[0m"
     ]
    },
    {
     "name": "stderr",
     "output_type": "stream",
     "text": [
      "\u001b[32m2025-04-10 23:01:25.287\u001b[0m | \u001b[33m\u001b[1mWARNING \u001b[0m | \u001b[36mreadai.components.retrievers\u001b[0m:\u001b[36m_retrieve\u001b[0m:\u001b[36m553\u001b[0m - \u001b[33m\u001b[1mBM25Retriever does not support embeddings, skipping...\u001b[0m\n",
      "\u001b[32m2025-04-10 23:01:25.328\u001b[0m | \u001b[33m\u001b[1mWARNING \u001b[0m | \u001b[36mreadai.components.retrievers\u001b[0m:\u001b[36m_retrieve\u001b[0m:\u001b[36m553\u001b[0m - \u001b[33m\u001b[1mBM25Retriever does not support embeddings, skipping...\u001b[0m\n",
      "\u001b[32m2025-04-10 23:01:25.373\u001b[0m | \u001b[33m\u001b[1mWARNING \u001b[0m | \u001b[36mreadai.components.retrievers\u001b[0m:\u001b[36m_retrieve\u001b[0m:\u001b[36m553\u001b[0m - \u001b[33m\u001b[1mBM25Retriever does not support embeddings, skipping...\u001b[0m\n",
      " 55%|█████▌    | 55/100 [00:04<00:02, 20.92it/s]\u001b[32m2025-04-10 23:01:25.418\u001b[0m | \u001b[33m\u001b[1mWARNING \u001b[0m | \u001b[36mreadai.components.retrievers\u001b[0m:\u001b[36m_retrieve\u001b[0m:\u001b[36m553\u001b[0m - \u001b[33m\u001b[1mBM25Retriever does not support embeddings, skipping...\u001b[0m\n",
      "\u001b[32m2025-04-10 23:01:25.462\u001b[0m | \u001b[33m\u001b[1mWARNING \u001b[0m | \u001b[36mreadai.components.retrievers\u001b[0m:\u001b[36m_retrieve\u001b[0m:\u001b[36m553\u001b[0m - \u001b[33m\u001b[1mBM25Retriever does not support embeddings, skipping...\u001b[0m\n"
     ]
    },
    {
     "name": "stdout",
     "output_type": "stream",
     "text": [
      "\u001b[1;3;38;5;200mRetrieved node with id, entering: ed5f3bce-99d3-4fdf-8f03-4696154b751e\n",
      "\u001b[0m\u001b[1;3;34mRetrieving with query id ed5f3bce-99d3-4fdf-8f03-4696154b751e: 山姆用什么提醒自己？\n",
      "\u001b[0m\u001b[1;3;38;5;200mRetrieved node with id, entering: 1e9dcb68-9d91-43ff-9b4d-2d4aa7e2368b\n",
      "\u001b[0m\u001b[1;3;34mRetrieving with query id 1e9dcb68-9d91-43ff-9b4d-2d4aa7e2368b: 山姆用什么提醒自己？\n",
      "\u001b[0m\u001b[1;3;38;5;200mRetrieved node with id, entering: ba31f725-29ed-400e-b7f7-557c8aa07457\n",
      "\u001b[0m\u001b[1;3;34mRetrieving with query id ba31f725-29ed-400e-b7f7-557c8aa07457: 山姆用什么提醒自己？\n",
      "\u001b[0m\u001b[1;3;38;5;200mRetrieved node with id, entering: 99d0b0cf-ba1b-49f5-89b8-f7dd20e99732\n",
      "\u001b[0m\u001b[1;3;34mRetrieving with query id 99d0b0cf-ba1b-49f5-89b8-f7dd20e99732: 山姆用什么提醒自己？\n",
      "\u001b[0m\u001b[1;3;34mRetrieving with query id None: 非暴力沟通又称为什么？\n",
      "\u001b[0m\u001b[1;3;38;5;200mRetrieved node with id, entering: 994006d4-ed0d-4d2d-b61d-25129222b6a0\n",
      "\u001b[0m\u001b[1;3;34mRetrieving with query id 994006d4-ed0d-4d2d-b61d-25129222b6a0: 非暴力沟通又称为什么？\n",
      "\u001b[0m\u001b[1;3;38;5;200mRetrieved node with id, entering: 1e9dcb68-9d91-43ff-9b4d-2d4aa7e2368b\n",
      "\u001b[0m\u001b[1;3;34mRetrieving with query id 1e9dcb68-9d91-43ff-9b4d-2d4aa7e2368b: 非暴力沟通又称为什么？\n",
      "\u001b[0m\u001b[1;3;38;5;200mRetrieved node with id, entering: 28686fee-f722-4232-85c6-13e1ec89927d\n",
      "\u001b[0m\u001b[1;3;34mRetrieving with query id 28686fee-f722-4232-85c6-13e1ec89927d: 非暴力沟通又称为什么？\n",
      "\u001b[0m\u001b[1;3;34mRetrieving with query id None: 非暴力沟通需要什么？\n",
      "\u001b[0m\u001b[1;3;38;5;200mRetrieved node with id, entering: 1b558dc8-5dc0-4f5e-a03b-efc2ca849188\n",
      "\u001b[0m\u001b[1;3;34mRetrieving with query id 1b558dc8-5dc0-4f5e-a03b-efc2ca849188: 非暴力沟通需要什么？\n",
      "\u001b[0m\u001b[1;3;38;5;200mRetrieved node with id, entering: 994006d4-ed0d-4d2d-b61d-25129222b6a0\n",
      "\u001b[0m\u001b[1;3;34mRetrieving with query id 994006d4-ed0d-4d2d-b61d-25129222b6a0: 非暴力沟通需要什么？\n",
      "\u001b[0m\u001b[1;3;38;5;200mRetrieved node with id, entering: f396adfb-3cd6-4f69-9a7d-39b77ab2234f\n",
      "\u001b[0m\u001b[1;3;34mRetrieving with query id f396adfb-3cd6-4f69-9a7d-39b77ab2234f: 非暴力沟通需要什么？\n",
      "\u001b[0m\u001b[1;3;38;5;200mRetrieved node with id, entering: fb36c9db-74e0-48d9-89fd-45272880f602\n",
      "\u001b[0m\u001b[1;3;34mRetrieving with query id fb36c9db-74e0-48d9-89fd-45272880f602: 非暴力沟通需要什么？\n",
      "\u001b[0m\u001b[1;3;38;5;200mRetrieved node with id, entering: 1e9dcb68-9d91-43ff-9b4d-2d4aa7e2368b\n",
      "\u001b[0m\u001b[1;3;34mRetrieving with query id 1e9dcb68-9d91-43ff-9b4d-2d4aa7e2368b: 非暴力沟通需要什么？\n",
      "\u001b[0m\u001b[1;3;34mRetrieving with query id None: 甘地用什么词描述善的状态？\n",
      "\u001b[0m\u001b[1;3;38;5;200mRetrieved node with id, entering: 6a088b2e-399a-4d05-b9c4-59214cbceca4\n",
      "\u001b[0m\u001b[1;3;34mRetrieving with query id 6a088b2e-399a-4d05-b9c4-59214cbceca4: 甘地用什么词描述善的状态？\n",
      "\u001b[0m\u001b[1;3;34mRetrieving with query id None: 非暴力沟通鼓励什么？\n",
      "\u001b[0m\u001b[1;3;38;5;200mRetrieved node with id, entering: 873efb03-d371-44cc-9383-2492942f3469\n",
      "\u001b[0m\u001b[1;3;34mRetrieving with query id 873efb03-d371-44cc-9383-2492942f3469: 非暴力沟通鼓励什么？\n",
      "\u001b[0m\u001b[1;3;38;5;200mRetrieved node with id, entering: c91e8820-e3ee-4897-93b1-b77f6ce88a34\n",
      "\u001b[0m\u001b[1;3;34mRetrieving with query id c91e8820-e3ee-4897-93b1-b77f6ce88a34: 非暴力沟通鼓励什么？\n",
      "\u001b[0m\u001b[1;3;38;5;200mRetrieved node with id, entering: 55743ff5-8244-4baf-98bb-deb874c73912\n",
      "\u001b[0m\u001b[1;3;34mRetrieving with query id 55743ff5-8244-4baf-98bb-deb874c73912: 非暴力沟通鼓励什么？\n",
      "\u001b[0m\u001b[1;3;38;5;200mRetrieved node with id, entering: 99d0b0cf-ba1b-49f5-89b8-f7dd20e99732\n",
      "\u001b[0m\u001b[1;3;34mRetrieving with query id 99d0b0cf-ba1b-49f5-89b8-f7dd20e99732: 非暴力沟通鼓励什么？\n",
      "\u001b[0m\u001b[1;3;38;5;200mRetrieved node with id, entering: 1e9dcb68-9d91-43ff-9b4d-2d4aa7e2368b\n",
      "\u001b[0m\u001b[1;3;34mRetrieving with query id 1e9dcb68-9d91-43ff-9b4d-2d4aa7e2368b: 非暴力沟通鼓励什么？\n",
      "\u001b[0m"
     ]
    },
    {
     "name": "stderr",
     "output_type": "stream",
     "text": [
      "\u001b[32m2025-04-10 23:01:25.507\u001b[0m | \u001b[33m\u001b[1mWARNING \u001b[0m | \u001b[36mreadai.components.retrievers\u001b[0m:\u001b[36m_retrieve\u001b[0m:\u001b[36m553\u001b[0m - \u001b[33m\u001b[1mBM25Retriever does not support embeddings, skipping...\u001b[0m\n",
      "\u001b[32m2025-04-10 23:01:25.573\u001b[0m | \u001b[33m\u001b[1mWARNING \u001b[0m | \u001b[36mreadai.components.retrievers\u001b[0m:\u001b[36m_retrieve\u001b[0m:\u001b[36m553\u001b[0m - \u001b[33m\u001b[1mBM25Retriever does not support embeddings, skipping...\u001b[0m\n",
      " 59%|█████▉    | 59/100 [00:04<00:01, 20.61it/s]\u001b[32m2025-04-10 23:01:25.615\u001b[0m | \u001b[33m\u001b[1mWARNING \u001b[0m | \u001b[36mreadai.components.retrievers\u001b[0m:\u001b[36m_retrieve\u001b[0m:\u001b[36m553\u001b[0m - \u001b[33m\u001b[1mBM25Retriever does not support embeddings, skipping...\u001b[0m\n"
     ]
    },
    {
     "name": "stdout",
     "output_type": "stream",
     "text": [
      "\u001b[1;3;34mRetrieving with query id None: 学生们最初对校长有什么不满？\n",
      "\u001b[0m\u001b[1;3;38;5;200mRetrieved node with id, entering: 7ede71a1-2630-40af-bd0d-9b059e22016b\n",
      "\u001b[0m\u001b[1;3;34mRetrieving with query id 7ede71a1-2630-40af-bd0d-9b059e22016b: 学生们最初对校长有什么不满？\n",
      "\u001b[0m\u001b[1;3;38;5;200mRetrieved node with id, entering: 0884097d-bcc4-4b4f-bebd-657c6ffd98d9\n",
      "\u001b[0m\u001b[1;3;34mRetrieving with query id 0884097d-bcc4-4b4f-bebd-657c6ffd98d9: 学生们最初对校长有什么不满？\n",
      "\u001b[0m\u001b[1;3;38;5;200mRetrieved node with id, entering: ea01298b-1034-4b63-b2b0-dae899b25dce\n",
      "\u001b[0m\u001b[1;3;34mRetrieving with query id ea01298b-1034-4b63-b2b0-dae899b25dce: 学生们最初对校长有什么不满？\n",
      "\u001b[0m\u001b[1;3;34mRetrieving with query id None: 那菲兹如何表达感激？\n",
      "\u001b[0m\u001b[1;3;38;5;200mRetrieved node with id, entering: 99d0b0cf-ba1b-49f5-89b8-f7dd20e99732\n",
      "\u001b[0m\u001b[1;3;34mRetrieving with query id 99d0b0cf-ba1b-49f5-89b8-f7dd20e99732: 那菲兹如何表达感激？\n",
      "\u001b[0m\u001b[1;3;34mRetrieving with query id None: 学生们最终向校长提交了多少项请求？\n",
      "\u001b[0m\u001b[1;3;38;5;200mRetrieved node with id, entering: 7ede71a1-2630-40af-bd0d-9b059e22016b\n",
      "\u001b[0m\u001b[1;3;34mRetrieving with query id 7ede71a1-2630-40af-bd0d-9b059e22016b: 学生们最终向校长提交了多少项请求？\n",
      "\u001b[0m\u001b[1;3;38;5;200mRetrieved node with id, entering: bd60afde-5bd4-460c-a707-05cb02daad75\n",
      "\u001b[0m\u001b[1;3;34mRetrieving with query id bd60afde-5bd4-460c-a707-05cb02daad75: 学生们最终向校长提交了多少项请求？\n",
      "\u001b[0m\u001b[1;3;34mRetrieving with query id None: 护士最初如何帮助太太？\n",
      "\u001b[0m"
     ]
    },
    {
     "name": "stderr",
     "output_type": "stream",
     "text": [
      "\u001b[32m2025-04-10 23:01:25.685\u001b[0m | \u001b[33m\u001b[1mWARNING \u001b[0m | \u001b[36mreadai.components.retrievers\u001b[0m:\u001b[36m_retrieve\u001b[0m:\u001b[36m553\u001b[0m - \u001b[33m\u001b[1mBM25Retriever does not support embeddings, skipping...\u001b[0m\n",
      " 62%|██████▏   | 62/100 [00:04<00:01, 21.97it/s]\u001b[32m2025-04-10 23:01:25.747\u001b[0m | \u001b[33m\u001b[1mWARNING \u001b[0m | \u001b[36mreadai.components.retrievers\u001b[0m:\u001b[36m_retrieve\u001b[0m:\u001b[36m553\u001b[0m - \u001b[33m\u001b[1mBM25Retriever does not support embeddings, skipping...\u001b[0m\n",
      "\u001b[32m2025-04-10 23:01:25.810\u001b[0m | \u001b[33m\u001b[1mWARNING \u001b[0m | \u001b[36mreadai.components.retrievers\u001b[0m:\u001b[36m_retrieve\u001b[0m:\u001b[36m553\u001b[0m - \u001b[33m\u001b[1mBM25Retriever does not support embeddings, skipping...\u001b[0m\n",
      "\u001b[32m2025-04-10 23:01:25.870\u001b[0m | \u001b[33m\u001b[1mWARNING \u001b[0m | \u001b[36mreadai.components.retrievers\u001b[0m:\u001b[36m_retrieve\u001b[0m:\u001b[36m553\u001b[0m - \u001b[33m\u001b[1mBM25Retriever does not support embeddings, skipping...\u001b[0m\n"
     ]
    },
    {
     "name": "stdout",
     "output_type": "stream",
     "text": [
      "\u001b[1;3;38;5;200mRetrieved node with id, entering: 29459787-2c00-495d-ace9-13c5879f3d58\n",
      "\u001b[0m\u001b[1;3;34mRetrieving with query id 29459787-2c00-495d-ace9-13c5879f3d58: 护士最初如何帮助太太？\n",
      "\u001b[0m\u001b[1;3;38;5;200mRetrieved node with id, entering: 705a9d1c-da17-4491-b395-716beb6742f5\n",
      "\u001b[0m\u001b[1;3;34mRetrieving with query id 705a9d1c-da17-4491-b395-716beb6742f5: 护士最初如何帮助太太？\n",
      "\u001b[0m\u001b[1;3;34mRetrieving with query id None: 女孩最初几天有什么表现？\n",
      "\u001b[0m\u001b[1;3;38;5;200mRetrieved node with id, entering: d8976b22-e966-420a-9662-ba62ad37de92\n",
      "\u001b[0m\u001b[1;3;34mRetrieving with query id d8976b22-e966-420a-9662-ba62ad37de92: 女孩最初几天有什么表现？\n",
      "\u001b[0m\u001b[1;3;34mRetrieving with query id None: 丈夫最担心什么？\n",
      "\u001b[0m\u001b[1;3;38;5;200mRetrieved node with id, entering: d0fcaf20-7af0-486f-8a16-bf472449046c\n",
      "\u001b[0m\u001b[1;3;34mRetrieving with query id d0fcaf20-7af0-486f-8a16-bf472449046c: 丈夫最担心什么？\n",
      "\u001b[0m\u001b[1;3;38;5;200mRetrieved node with id, entering: 29459787-2c00-495d-ace9-13c5879f3d58\n",
      "\u001b[0m\u001b[1;3;34mRetrieving with query id 29459787-2c00-495d-ace9-13c5879f3d58: 丈夫最担心什么？\n",
      "\u001b[0m\u001b[1;3;38;5;200mRetrieved node with id, entering: 705a9d1c-da17-4491-b395-716beb6742f5\n",
      "\u001b[0m\u001b[1;3;34mRetrieving with query id 705a9d1c-da17-4491-b395-716beb6742f5: 丈夫最担心什么？\n",
      "\u001b[0m\u001b[1;3;34mRetrieving with query id None: 治疗第几天收到纸条？\n",
      "\u001b[0m\u001b[1;3;38;5;200mRetrieved node with id, entering: f396adfb-3cd6-4f69-9a7d-39b77ab2234f\n",
      "\u001b[0m\u001b[1;3;34mRetrieving with query id f396adfb-3cd6-4f69-9a7d-39b77ab2234f: 治疗第几天收到纸条？\n",
      "\u001b[0m\u001b[1;3;38;5;200mRetrieved node with id, entering: 7ede71a1-2630-40af-bd0d-9b059e22016b\n",
      "\u001b[0m\u001b[1;3;34mRetrieving with query id 7ede71a1-2630-40af-bd0d-9b059e22016b: 治疗第几天收到纸条？\n",
      "\u001b[0m\u001b[1;3;38;5;200mRetrieved node with id, entering: 7f282a20-f873-4037-a0bf-f3aa3e088b28\n",
      "\u001b[0m\u001b[1;3;34mRetrieving with query id 7f282a20-f873-4037-a0bf-f3aa3e088b28: 治疗第几天收到纸条？\n",
      "\u001b[0m\u001b[1;3;38;5;200mRetrieved node with id, entering: 8959a5a2-0fc4-4fee-be0d-90064bc798c4\n",
      "\u001b[0m\u001b[1;3;34mRetrieving with query id 8959a5a2-0fc4-4fee-be0d-90064bc798c4: 治疗第几天收到纸条？\n",
      "\u001b[0m\u001b[1;3;38;5;200mRetrieved node with id, entering: d8976b22-e966-420a-9662-ba62ad37de92\n",
      "\u001b[0m\u001b[1;3;34mRetrieving with query id d8976b22-e966-420a-9662-ba62ad37de92: 治疗第几天收到纸条？\n",
      "\u001b[0m"
     ]
    },
    {
     "name": "stderr",
     "output_type": "stream",
     "text": [
      "\u001b[32m2025-04-10 23:01:25.923\u001b[0m | \u001b[33m\u001b[1mWARNING \u001b[0m | \u001b[36mreadai.components.retrievers\u001b[0m:\u001b[36m_retrieve\u001b[0m:\u001b[36m553\u001b[0m - \u001b[33m\u001b[1mBM25Retriever does not support embeddings, skipping...\u001b[0m\n",
      " 65%|██████▌   | 65/100 [00:04<00:01, 18.15it/s]\u001b[32m2025-04-10 23:01:25.995\u001b[0m | \u001b[33m\u001b[1mWARNING \u001b[0m | \u001b[36mreadai.components.retrievers\u001b[0m:\u001b[36m_retrieve\u001b[0m:\u001b[36m553\u001b[0m - \u001b[33m\u001b[1mBM25Retriever does not support embeddings, skipping...\u001b[0m\n",
      "\u001b[32m2025-04-10 23:01:26.047\u001b[0m | \u001b[33m\u001b[1mWARNING \u001b[0m | \u001b[36mreadai.components.retrievers\u001b[0m:\u001b[36m_retrieve\u001b[0m:\u001b[36m553\u001b[0m - \u001b[33m\u001b[1mBM25Retriever does not support embeddings, skipping...\u001b[0m\n",
      " 67%|██████▋   | 67/100 [00:04<00:01, 17.66it/s]"
     ]
    },
    {
     "name": "stdout",
     "output_type": "stream",
     "text": [
      "\u001b[1;3;34mRetrieving with query id None: 作者建议如何转化\"不得不\"？\n",
      "\u001b[0m\u001b[1;3;38;5;200mRetrieved node with id, entering: c56d185b-8380-4ffd-9205-920ce774bbfe\n",
      "\u001b[0m\u001b[1;3;34mRetrieving with query id c56d185b-8380-4ffd-9205-920ce774bbfe: 作者建议如何转化\"不得不\"？\n",
      "\u001b[0m\u001b[1;3;38;5;200mRetrieved node with id, entering: ceb2fcca-64e2-46a9-ac95-ccb2b6a6e488\n",
      "\u001b[0m\u001b[1;3;34mRetrieving with query id ceb2fcca-64e2-46a9-ac95-ccb2b6a6e488: 作者建议如何转化\"不得不\"？\n",
      "\u001b[0m\u001b[1;3;38;5;200mRetrieved node with id, entering: 8a4827fa-68cf-460b-919b-b25c5b9ee9d3\n",
      "\u001b[0m\u001b[1;3;34mRetrieving with query id 8a4827fa-68cf-460b-919b-b25c5b9ee9d3: 作者建议如何转化\"不得不\"？\n",
      "\u001b[0m\u001b[1;3;38;5;200mRetrieved node with id, entering: 1b558dc8-5dc0-4f5e-a03b-efc2ca849188\n",
      "\u001b[0m\u001b[1;3;34mRetrieving with query id 1b558dc8-5dc0-4f5e-a03b-efc2ca849188: 作者建议如何转化\"不得不\"？\n",
      "\u001b[0m\u001b[1;3;38;5;200mRetrieved node with id, entering: 5adce124-9392-4256-8337-e24f4913985f\n",
      "\u001b[0m\u001b[1;3;34mRetrieving with query id 5adce124-9392-4256-8337-e24f4913985f: 作者建议如何转化\"不得不\"？\n",
      "\u001b[0m\u001b[1;3;34mRetrieving with query id None: 乔建议老师带什么？\n",
      "\u001b[0m\u001b[1;3;38;5;200mRetrieved node with id, entering: db43a0cc-7df6-4a5f-8d87-97c8ab8d0b6b\n",
      "\u001b[0m\u001b[1;3;34mRetrieving with query id db43a0cc-7df6-4a5f-8d87-97c8ab8d0b6b: 乔建议老师带什么？\n",
      "\u001b[0m\u001b[1;3;38;5;200mRetrieved node with id, entering: bd60afde-5bd4-460c-a707-05cb02daad75\n",
      "\u001b[0m\u001b[1;3;34mRetrieving with query id bd60afde-5bd4-460c-a707-05cb02daad75: 乔建议老师带什么？\n",
      "\u001b[0m\u001b[1;3;34mRetrieving with query id None: 清单上的第一项是什么？\n",
      "\u001b[0m\u001b[1;3;38;5;200mRetrieved node with id, entering: c56d185b-8380-4ffd-9205-920ce774bbfe\n",
      "\u001b[0m\u001b[1;3;34mRetrieving with query id c56d185b-8380-4ffd-9205-920ce774bbfe: 清单上的第一项是什么？\n",
      "\u001b[0m\u001b[1;3;38;5;200mRetrieved node with id, entering: 706599ce-0fb1-4eb1-adcb-a45b81b2a1c4\n",
      "\u001b[0m\u001b[1;3;34mRetrieving with query id 706599ce-0fb1-4eb1-adcb-a45b81b2a1c4: 清单上的第一项是什么？\n",
      "\u001b[0m\u001b[1;3;38;5;200mRetrieved node with id, entering: 8a16a2c0-ab50-4d81-80dd-282d58d9217c\n",
      "\u001b[0m\u001b[1;3;34mRetrieving with query id 8a16a2c0-ab50-4d81-80dd-282d58d9217c: 清单上的第一项是什么？\n",
      "\u001b[0m\u001b[1;3;34mRetrieving with query id None: 马歇尔对什么感到灰心？\n",
      "\u001b[0m"
     ]
    },
    {
     "name": "stderr",
     "output_type": "stream",
     "text": [
      "\u001b[32m2025-04-10 23:01:26.093\u001b[0m | \u001b[33m\u001b[1mWARNING \u001b[0m | \u001b[36mreadai.components.retrievers\u001b[0m:\u001b[36m_retrieve\u001b[0m:\u001b[36m553\u001b[0m - \u001b[33m\u001b[1mBM25Retriever does not support embeddings, skipping...\u001b[0m\n",
      "\u001b[32m2025-04-10 23:01:26.139\u001b[0m | \u001b[33m\u001b[1mWARNING \u001b[0m | \u001b[36mreadai.components.retrievers\u001b[0m:\u001b[36m_retrieve\u001b[0m:\u001b[36m553\u001b[0m - \u001b[33m\u001b[1mBM25Retriever does not support embeddings, skipping...\u001b[0m\n",
      "\u001b[32m2025-04-10 23:01:26.181\u001b[0m | \u001b[33m\u001b[1mWARNING \u001b[0m | \u001b[36mreadai.components.retrievers\u001b[0m:\u001b[36m_retrieve\u001b[0m:\u001b[36m553\u001b[0m - \u001b[33m\u001b[1mBM25Retriever does not support embeddings, skipping...\u001b[0m\n",
      "\u001b[32m2025-04-10 23:01:26.253\u001b[0m | \u001b[33m\u001b[1mWARNING \u001b[0m | \u001b[36mreadai.components.retrievers\u001b[0m:\u001b[36m_retrieve\u001b[0m:\u001b[36m553\u001b[0m - \u001b[33m\u001b[1mBM25Retriever does not support embeddings, skipping...\u001b[0m\n",
      " 71%|███████   | 71/100 [00:05<00:01, 18.32it/s]\u001b[32m2025-04-10 23:01:26.296\u001b[0m | \u001b[33m\u001b[1mWARNING \u001b[0m | \u001b[36mreadai.components.retrievers\u001b[0m:\u001b[36m_retrieve\u001b[0m:\u001b[36m553\u001b[0m - \u001b[33m\u001b[1mBM25Retriever does not support embeddings, skipping...\u001b[0m\n"
     ]
    },
    {
     "name": "stdout",
     "output_type": "stream",
     "text": [
      "\u001b[1;3;38;5;200mRetrieved node with id, entering: fc31fb8c-bfb9-45bb-8018-36979b00aba3\n",
      "\u001b[0m\u001b[1;3;34mRetrieving with query id fc31fb8c-bfb9-45bb-8018-36979b00aba3: 马歇尔对什么感到灰心？\n",
      "\u001b[0m\u001b[1;3;38;5;200mRetrieved node with id, entering: db43a0cc-7df6-4a5f-8d87-97c8ab8d0b6b\n",
      "\u001b[0m\u001b[1;3;34mRetrieving with query id db43a0cc-7df6-4a5f-8d87-97c8ab8d0b6b: 马歇尔对什么感到灰心？\n",
      "\u001b[0m\u001b[1;3;38;5;200mRetrieved node with id, entering: cf73a874-395c-465b-80ef-c22188af2411\n",
      "\u001b[0m\u001b[1;3;34mRetrieving with query id cf73a874-395c-465b-80ef-c22188af2411: 马歇尔对什么感到灰心？\n",
      "\u001b[0m\u001b[1;3;38;5;200mRetrieved node with id, entering: a92e6e49-7be2-433b-b70b-5e53b1951a1c\n",
      "\u001b[0m\u001b[1;3;34mRetrieving with query id a92e6e49-7be2-433b-b70b-5e53b1951a1c: 马歇尔对什么感到灰心？\n",
      "\u001b[0m\u001b[1;3;34mRetrieving with query id None: 钢笔为什么弄脏外衣？\n",
      "\u001b[0m\u001b[1;3;38;5;200mRetrieved node with id, entering: ba31f725-29ed-400e-b7f7-557c8aa07457\n",
      "\u001b[0m\u001b[1;3;34mRetrieving with query id ba31f725-29ed-400e-b7f7-557c8aa07457: 钢笔为什么弄脏外衣？\n",
      "\u001b[0m\u001b[1;3;34mRetrieving with query id None: 在冲突化解中应避免谈论什么？\n",
      "\u001b[0m\u001b[1;3;38;5;200mRetrieved node with id, entering: 7e45cd60-33b0-4a53-94d1-192a9811a8e8\n",
      "\u001b[0m\u001b[1;3;34mRetrieving with query id 7e45cd60-33b0-4a53-94d1-192a9811a8e8: 在冲突化解中应避免谈论什么？\n",
      "\u001b[0m\u001b[1;3;38;5;200mRetrieved node with id, entering: 7f282a20-f873-4037-a0bf-f3aa3e088b28\n",
      "\u001b[0m\u001b[1;3;34mRetrieving with query id 7f282a20-f873-4037-a0bf-f3aa3e088b28: 在冲突化解中应避免谈论什么？\n",
      "\u001b[0m\u001b[1;3;38;5;200mRetrieved node with id, entering: c9ec0c28-64e9-485d-a79d-e37da6cbec8a\n",
      "\u001b[0m\u001b[1;3;34mRetrieving with query id c9ec0c28-64e9-485d-a79d-e37da6cbec8a: 在冲突化解中应避免谈论什么？\n",
      "\u001b[0m\u001b[1;3;38;5;200mRetrieved node with id, entering: fc7013c3-34e9-4652-ab00-da52071cec1d\n",
      "\u001b[0m\u001b[1;3;34mRetrieving with query id fc7013c3-34e9-4652-ab00-da52071cec1d: 在冲突化解中应避免谈论什么？\n",
      "\u001b[0m\u001b[1;3;34mRetrieving with query id None: 作者如何停止自责？\n",
      "\u001b[0m\u001b[1;3;38;5;200mRetrieved node with id, entering: ba31f725-29ed-400e-b7f7-557c8aa07457\n",
      "\u001b[0m\u001b[1;3;34mRetrieving with query id ba31f725-29ed-400e-b7f7-557c8aa07457: 作者如何停止自责？\n",
      "\u001b[0m\u001b[1;3;38;5;200mRetrieved node with id, entering: 59245181-ee49-40d9-a67e-efd0dbd06e5f\n",
      "\u001b[0m\u001b[1;3;34mRetrieving with query id 59245181-ee49-40d9-a67e-efd0dbd06e5f: 作者如何停止自责？\n",
      "\u001b[0m\u001b[1;3;34mRetrieving with query id None: “行动语言”指的是什么？\n",
      "\u001b[0m\u001b[1;3;38;5;200mRetrieved node with id, entering: 7e45cd60-33b0-4a53-94d1-192a9811a8e8\n",
      "\u001b[0m\u001b[1;3;34mRetrieving with query id 7e45cd60-33b0-4a53-94d1-192a9811a8e8: “行动语言”指的是什么？\n",
      "\u001b[0m"
     ]
    },
    {
     "name": "stderr",
     "output_type": "stream",
     "text": [
      "\u001b[32m2025-04-10 23:01:26.347\u001b[0m | \u001b[33m\u001b[1mWARNING \u001b[0m | \u001b[36mreadai.components.retrievers\u001b[0m:\u001b[36m_retrieve\u001b[0m:\u001b[36m553\u001b[0m - \u001b[33m\u001b[1mBM25Retriever does not support embeddings, skipping...\u001b[0m\n",
      "\u001b[32m2025-04-10 23:01:26.411\u001b[0m | \u001b[33m\u001b[1mWARNING \u001b[0m | \u001b[36mreadai.components.retrievers\u001b[0m:\u001b[36m_retrieve\u001b[0m:\u001b[36m553\u001b[0m - \u001b[33m\u001b[1mBM25Retriever does not support embeddings, skipping...\u001b[0m\n",
      "\u001b[32m2025-04-10 23:01:26.468\u001b[0m | \u001b[33m\u001b[1mWARNING \u001b[0m | \u001b[36mreadai.components.retrievers\u001b[0m:\u001b[36m_retrieve\u001b[0m:\u001b[36m553\u001b[0m - \u001b[33m\u001b[1mBM25Retriever does not support embeddings, skipping...\u001b[0m\n",
      " 75%|███████▌  | 75/100 [00:05<00:01, 18.43it/s]"
     ]
    },
    {
     "name": "stdout",
     "output_type": "stream",
     "text": [
      "\u001b[1;3;34mRetrieving with query id None: 老师如何确认皮特的理解？\n",
      "\u001b[0m\u001b[1;3;38;5;200mRetrieved node with id, entering: 8fba7db8-8231-4c5d-999e-cbc3117818eb\n",
      "\u001b[0m\u001b[1;3;34mRetrieving with query id 8fba7db8-8231-4c5d-999e-cbc3117818eb: 老师如何确认皮特的理解？\n",
      "\u001b[0m\u001b[1;3;34mRetrieving with query id None: 说话者最初感到什么情绪？\n",
      "\u001b[0m\u001b[1;3;38;5;200mRetrieved node with id, entering: f1b0e321-f080-4f58-8175-937dc261284c\n",
      "\u001b[0m\u001b[1;3;34mRetrieving with query id f1b0e321-f080-4f58-8175-937dc261284c: 说话者最初感到什么情绪？\n",
      "\u001b[0m\u001b[1;3;38;5;200mRetrieved node with id, entering: 89c3cef9-e1cc-44e8-92e8-5501b12137b4\n",
      "\u001b[0m\u001b[1;3;34mRetrieving with query id 89c3cef9-e1cc-44e8-92e8-5501b12137b4: 说话者最初感到什么情绪？\n",
      "\u001b[0m\u001b[1;3;38;5;200mRetrieved node with id, entering: 120c8611-3abe-4ff5-baee-68c21532b862\n",
      "\u001b[0m\u001b[1;3;34mRetrieving with query id 120c8611-3abe-4ff5-baee-68c21532b862: 说话者最初感到什么情绪？\n",
      "\u001b[0m\u001b[1;3;38;5;200mRetrieved node with id, entering: 889cf7db-a0ab-486d-87fd-d878587f786c\n",
      "\u001b[0m\u001b[1;3;34mRetrieving with query id 889cf7db-a0ab-486d-87fd-d878587f786c: 说话者最初感到什么情绪？\n",
      "\u001b[0m\u001b[1;3;38;5;200mRetrieved node with id, entering: 1b558dc8-5dc0-4f5e-a03b-efc2ca849188\n",
      "\u001b[0m\u001b[1;3;34mRetrieving with query id 1b558dc8-5dc0-4f5e-a03b-efc2ca849188: 说话者最初感到什么情绪？\n",
      "\u001b[0m\u001b[1;3;34mRetrieving with query id None: 为什么请求重述很重要？\n",
      "\u001b[0m\u001b[1;3;38;5;200mRetrieved node with id, entering: 8fba7db8-8231-4c5d-999e-cbc3117818eb\n",
      "\u001b[0m\u001b[1;3;34mRetrieving with query id 8fba7db8-8231-4c5d-999e-cbc3117818eb: 为什么请求重述很重要？\n",
      "\u001b[0m\u001b[1;3;38;5;200mRetrieved node with id, entering: 89c3cef9-e1cc-44e8-92e8-5501b12137b4\n",
      "\u001b[0m\u001b[1;3;34mRetrieving with query id 89c3cef9-e1cc-44e8-92e8-5501b12137b4: 为什么请求重述很重要？\n",
      "\u001b[0m\u001b[1;3;38;5;200mRetrieved node with id, entering: e49fb717-3cfb-4b71-a41b-163aee89280b\n",
      "\u001b[0m\u001b[1;3;34mRetrieving with query id e49fb717-3cfb-4b71-a41b-163aee89280b: 为什么请求重述很重要？\n",
      "\u001b[0m\u001b[1;3;38;5;200mRetrieved node with id, entering: 66809c50-b5c0-45a3-8747-717fed98fbc7\n",
      "\u001b[0m\u001b[1;3;34mRetrieving with query id 66809c50-b5c0-45a3-8747-717fed98fbc7: 为什么请求重述很重要？\n",
      "\u001b[0m\u001b[1;3;34mRetrieving with query id None: 年轻人为何对说话者不满？\n",
      "\u001b[0m"
     ]
    },
    {
     "name": "stderr",
     "output_type": "stream",
     "text": [
      "\u001b[32m2025-04-10 23:01:26.513\u001b[0m | \u001b[33m\u001b[1mWARNING \u001b[0m | \u001b[36mreadai.components.retrievers\u001b[0m:\u001b[36m_retrieve\u001b[0m:\u001b[36m553\u001b[0m - \u001b[33m\u001b[1mBM25Retriever does not support embeddings, skipping...\u001b[0m\n",
      "\u001b[32m2025-04-10 23:01:26.557\u001b[0m | \u001b[33m\u001b[1mWARNING \u001b[0m | \u001b[36mreadai.components.retrievers\u001b[0m:\u001b[36m_retrieve\u001b[0m:\u001b[36m553\u001b[0m - \u001b[33m\u001b[1mBM25Retriever does not support embeddings, skipping...\u001b[0m\n",
      "\u001b[32m2025-04-10 23:01:26.594\u001b[0m | \u001b[33m\u001b[1mWARNING \u001b[0m | \u001b[36mreadai.components.retrievers\u001b[0m:\u001b[36m_retrieve\u001b[0m:\u001b[36m553\u001b[0m - \u001b[33m\u001b[1mBM25Retriever does not support embeddings, skipping...\u001b[0m\n",
      "\u001b[32m2025-04-10 23:01:26.638\u001b[0m | \u001b[33m\u001b[1mWARNING \u001b[0m | \u001b[36mreadai.components.retrievers\u001b[0m:\u001b[36m_retrieve\u001b[0m:\u001b[36m553\u001b[0m - \u001b[33m\u001b[1mBM25Retriever does not support embeddings, skipping...\u001b[0m\n",
      " 79%|███████▉  | 79/100 [00:05<00:01, 19.84it/s]\u001b[32m2025-04-10 23:01:26.698\u001b[0m | \u001b[33m\u001b[1mWARNING \u001b[0m | \u001b[36mreadai.components.retrievers\u001b[0m:\u001b[36m_retrieve\u001b[0m:\u001b[36m553\u001b[0m - \u001b[33m\u001b[1mBM25Retriever does not support embeddings, skipping...\u001b[0m\n"
     ]
    },
    {
     "name": "stdout",
     "output_type": "stream",
     "text": [
      "\u001b[1;3;38;5;200mRetrieved node with id, entering: 36efd65b-9730-4f80-8122-df1e9647aab1\n",
      "\u001b[0m\u001b[1;3;34mRetrieving with query id 36efd65b-9730-4f80-8122-df1e9647aab1: 年轻人为何对说话者不满？\n",
      "\u001b[0m\u001b[1;3;38;5;200mRetrieved node with id, entering: e49fb717-3cfb-4b71-a41b-163aee89280b\n",
      "\u001b[0m\u001b[1;3;34mRetrieving with query id e49fb717-3cfb-4b71-a41b-163aee89280b: 年轻人为何对说话者不满？\n",
      "\u001b[0m\u001b[1;3;38;5;200mRetrieved node with id, entering: 55743ff5-8244-4baf-98bb-deb874c73912\n",
      "\u001b[0m\u001b[1;3;34mRetrieving with query id 55743ff5-8244-4baf-98bb-deb874c73912: 年轻人为何对说话者不满？\n",
      "\u001b[0m\u001b[1;3;38;5;200mRetrieved node with id, entering: ea25d5e6-8650-4785-821b-df992e7dd9ce\n",
      "\u001b[0m\u001b[1;3;34mRetrieving with query id ea25d5e6-8650-4785-821b-df992e7dd9ce: 年轻人为何对说话者不满？\n",
      "\u001b[0m\u001b[1;3;38;5;200mRetrieved node with id, entering: 591c802c-da0e-4081-a7db-ca67feb28221\n",
      "\u001b[0m\u001b[1;3;34mRetrieving with query id 591c802c-da0e-4081-a7db-ca67feb28221: 年轻人为何对说话者不满？\n",
      "\u001b[0m\u001b[1;3;34mRetrieving with query id None: 女性常把什么视为最高职责？\n",
      "\u001b[0m\u001b[1;3;38;5;200mRetrieved node with id, entering: e09623c3-2532-4ecf-aedc-7865cde85143\n",
      "\u001b[0m\u001b[1;3;34mRetrieving with query id e09623c3-2532-4ecf-aedc-7865cde85143: 女性常把什么视为最高职责？\n",
      "\u001b[0m\u001b[1;3;38;5;200mRetrieved node with id, entering: 7b175426-8398-459e-8307-be8f165b2a6c\n",
      "\u001b[0m\u001b[1;3;34mRetrieving with query id 7b175426-8398-459e-8307-be8f165b2a6c: 女性常把什么视为最高职责？\n",
      "\u001b[0m\u001b[1;3;38;5;200mRetrieved node with id, entering: a63aadf1-e9dd-4d52-9e38-bf11cfe347e8\n",
      "\u001b[0m\u001b[1;3;34mRetrieving with query id a63aadf1-e9dd-4d52-9e38-bf11cfe347e8: 女性常把什么视为最高职责？\n",
      "\u001b[0m\u001b[1;3;34mRetrieving with query id None: 调解人用什么方法帮助夫妻？\n",
      "\u001b[0m\u001b[1;3;38;5;200mRetrieved node with id, entering: d10d3dd5-4d70-49a6-ab03-5618b8fda079\n",
      "\u001b[0m\u001b[1;3;34mRetrieving with query id d10d3dd5-4d70-49a6-ab03-5618b8fda079: 调解人用什么方法帮助夫妻？\n",
      "\u001b[0m\u001b[1;3;38;5;200mRetrieved node with id, entering: c9ec0c28-64e9-485d-a79d-e37da6cbec8a\n",
      "\u001b[0m\u001b[1;3;34mRetrieving with query id c9ec0c28-64e9-485d-a79d-e37da6cbec8a: 调解人用什么方法帮助夫妻？\n",
      "\u001b[0m\u001b[1;3;34mRetrieving with query id None: 母亲为什么不敢表达需要？\n",
      "\u001b[0m\u001b[1;3;38;5;200mRetrieved node with id, entering: e7a575d8-ea8d-4cdc-91ce-f9cf76585974\n",
      "\u001b[0m\u001b[1;3;34mRetrieving with query id e7a575d8-ea8d-4cdc-91ce-f9cf76585974: 母亲为什么不敢表达需要？\n",
      "\u001b[0m\u001b[1;3;38;5;200mRetrieved node with id, entering: e09623c3-2532-4ecf-aedc-7865cde85143\n",
      "\u001b[0m\u001b[1;3;34mRetrieving with query id e09623c3-2532-4ecf-aedc-7865cde85143: 母亲为什么不敢表达需要？\n",
      "\u001b[0m\u001b[1;3;34mRetrieving with query id None: 哪种调解被称为管闲事？\n",
      "\u001b[0m\u001b[1;3;38;5;200mRetrieved node with id, entering: c9ec0c28-64e9-485d-a79d-e37da6cbec8a\n",
      "\u001b[0m\u001b[1;3;34mRetrieving with query id c9ec0c28-64e9-485d-a79d-e37da6cbec8a: 哪种调解被称为管闲事？\n",
      "\u001b[0m\u001b[1;3;38;5;200mRetrieved node with id, entering: 9baa8165-fd02-4723-94c7-ac3007a85a09\n",
      "\u001b[0m\u001b[1;3;34mRetrieving with query id 9baa8165-fd02-4723-94c7-ac3007a85a09: 哪种调解被称为管闲事？\n",
      "\u001b[0m"
     ]
    },
    {
     "name": "stderr",
     "output_type": "stream",
     "text": [
      "\u001b[32m2025-04-10 23:01:26.776\u001b[0m | \u001b[33m\u001b[1mWARNING \u001b[0m | \u001b[36mreadai.components.retrievers\u001b[0m:\u001b[36m_retrieve\u001b[0m:\u001b[36m553\u001b[0m - \u001b[33m\u001b[1mBM25Retriever does not support embeddings, skipping...\u001b[0m\n",
      " 82%|████████▏ | 82/100 [00:05<00:00, 20.30it/s]\u001b[32m2025-04-10 23:01:26.823\u001b[0m | \u001b[33m\u001b[1mWARNING \u001b[0m | \u001b[36mreadai.components.retrievers\u001b[0m:\u001b[36m_retrieve\u001b[0m:\u001b[36m553\u001b[0m - \u001b[33m\u001b[1mBM25Retriever does not support embeddings, skipping...\u001b[0m\n",
      "\u001b[32m2025-04-10 23:01:26.881\u001b[0m | \u001b[33m\u001b[1mWARNING \u001b[0m | \u001b[36mreadai.components.retrievers\u001b[0m:\u001b[36m_retrieve\u001b[0m:\u001b[36m553\u001b[0m - \u001b[33m\u001b[1mBM25Retriever does not support embeddings, skipping...\u001b[0m\n"
     ]
    },
    {
     "name": "stdout",
     "output_type": "stream",
     "text": [
      "\u001b[1;3;34mRetrieving with query id None: 调解者用什么方法打断争吵？\n",
      "\u001b[0m\u001b[1;3;38;5;200mRetrieved node with id, entering: 8ed32533-b275-4200-959b-3e985d537889\n",
      "\u001b[0m\u001b[1;3;34mRetrieving with query id 8ed32533-b275-4200-959b-3e985d537889: 调解者用什么方法打断争吵？\n",
      "\u001b[0m\u001b[1;3;38;5;200mRetrieved node with id, entering: 9baa8165-fd02-4723-94c7-ac3007a85a09\n",
      "\u001b[0m\u001b[1;3;34mRetrieving with query id 9baa8165-fd02-4723-94c7-ac3007a85a09: 调解者用什么方法打断争吵？\n",
      "\u001b[0m\u001b[1;3;34mRetrieving with query id None: 火车上的丈夫说了什么？\n",
      "\u001b[0m\u001b[1;3;38;5;200mRetrieved node with id, entering: 69e37cc7-f8a9-4d18-ae14-0ae0008c8808\n",
      "\u001b[0m\u001b[1;3;34mRetrieving with query id 69e37cc7-f8a9-4d18-ae14-0ae0008c8808: 火车上的丈夫说了什么？\n",
      "\u001b[0m\u001b[1;3;34mRetrieving with query id None: 翻译在调解中扮演什么角色？\n",
      "\u001b[0m\u001b[1;3;38;5;200mRetrieved node with id, entering: 9baa8165-fd02-4723-94c7-ac3007a85a09\n",
      "\u001b[0m\u001b[1;3;34mRetrieving with query id 9baa8165-fd02-4723-94c7-ac3007a85a09: 翻译在调解中扮演什么角色？\n",
      "\u001b[0m\u001b[1;3;34mRetrieving with query id None: 妻子最后如何回应丈夫？\n",
      "\u001b[0m"
     ]
    },
    {
     "name": "stderr",
     "output_type": "stream",
     "text": [
      "\u001b[32m2025-04-10 23:01:26.931\u001b[0m | \u001b[33m\u001b[1mWARNING \u001b[0m | \u001b[36mreadai.components.retrievers\u001b[0m:\u001b[36m_retrieve\u001b[0m:\u001b[36m553\u001b[0m - \u001b[33m\u001b[1mBM25Retriever does not support embeddings, skipping...\u001b[0m\n",
      "\u001b[32m2025-04-10 23:01:26.990\u001b[0m | \u001b[33m\u001b[1mWARNING \u001b[0m | \u001b[36mreadai.components.retrievers\u001b[0m:\u001b[36m_retrieve\u001b[0m:\u001b[36m553\u001b[0m - \u001b[33m\u001b[1mBM25Retriever does not support embeddings, skipping...\u001b[0m\n",
      " 85%|████████▌ | 85/100 [00:05<00:00, 18.04it/s]\u001b[32m2025-04-10 23:01:27.053\u001b[0m | \u001b[33m\u001b[1mWARNING \u001b[0m | \u001b[36mreadai.components.retrievers\u001b[0m:\u001b[36m_retrieve\u001b[0m:\u001b[36m553\u001b[0m - \u001b[33m\u001b[1mBM25Retriever does not support embeddings, skipping...\u001b[0m\n",
      "\u001b[32m2025-04-10 23:01:27.099\u001b[0m | \u001b[33m\u001b[1mWARNING \u001b[0m | \u001b[36mreadai.components.retrievers\u001b[0m:\u001b[36m_retrieve\u001b[0m:\u001b[36m553\u001b[0m - \u001b[33m\u001b[1mBM25Retriever does not support embeddings, skipping...\u001b[0m\n",
      " 87%|████████▋ | 87/100 [00:05<00:00, 18.15it/s]"
     ]
    },
    {
     "name": "stdout",
     "output_type": "stream",
     "text": [
      "\u001b[1;3;38;5;200mRetrieved node with id, entering: 29459787-2c00-495d-ace9-13c5879f3d58\n",
      "\u001b[0m\u001b[1;3;34mRetrieving with query id 29459787-2c00-495d-ace9-13c5879f3d58: 妻子最后如何回应丈夫？\n",
      "\u001b[0m\u001b[1;3;38;5;200mRetrieved node with id, entering: 705a9d1c-da17-4491-b395-716beb6742f5\n",
      "\u001b[0m\u001b[1;3;34mRetrieving with query id 705a9d1c-da17-4491-b395-716beb6742f5: 妻子最后如何回应丈夫？\n",
      "\u001b[0m\u001b[1;3;38;5;200mRetrieved node with id, entering: d0fcaf20-7af0-486f-8a16-bf472449046c\n",
      "\u001b[0m\u001b[1;3;34mRetrieving with query id d0fcaf20-7af0-486f-8a16-bf472449046c: 妻子最后如何回应丈夫？\n",
      "\u001b[0m\u001b[1;3;38;5;200mRetrieved node with id, entering: 69e37cc7-f8a9-4d18-ae14-0ae0008c8808\n",
      "\u001b[0m\u001b[1;3;34mRetrieving with query id 69e37cc7-f8a9-4d18-ae14-0ae0008c8808: 妻子最后如何回应丈夫？\n",
      "\u001b[0m\u001b[1;3;34mRetrieving with query id None: 同事为什么感到气愤？\n",
      "\u001b[0m\u001b[1;3;38;5;200mRetrieved node with id, entering: 7fc576e7-41d3-4dba-8079-57878c518002\n",
      "\u001b[0m\u001b[1;3;34mRetrieving with query id 7fc576e7-41d3-4dba-8079-57878c518002: 同事为什么感到气愤？\n",
      "\u001b[0m\u001b[1;3;38;5;200mRetrieved node with id, entering: 29e61cee-d7ff-42dc-bac6-52bf6e35d2d1\n",
      "\u001b[0m\u001b[1;3;34mRetrieving with query id 29e61cee-d7ff-42dc-bac6-52bf6e35d2d1: 同事为什么感到气愤？\n",
      "\u001b[0m\u001b[1;3;38;5;200mRetrieved node with id, entering: 6462c97f-75b7-4c5a-9d64-7ba3c2f8d2fa\n",
      "\u001b[0m\u001b[1;3;34mRetrieving with query id 6462c97f-75b7-4c5a-9d64-7ba3c2f8d2fa: 同事为什么感到气愤？\n",
      "\u001b[0m\u001b[1;3;38;5;200mRetrieved node with id, entering: f1b0e321-f080-4f58-8175-937dc261284c\n",
      "\u001b[0m\u001b[1;3;34mRetrieving with query id f1b0e321-f080-4f58-8175-937dc261284c: 同事为什么感到气愤？\n",
      "\u001b[0m\u001b[1;3;34mRetrieving with query id None: 1. 女学员在哪里工作？\n",
      "\u001b[0m\u001b[1;3;38;5;200mRetrieved node with id, entering: 669bf313-7f9f-42c4-a973-7b2f1f2fcdf0\n",
      "\u001b[0m\u001b[1;3;34mRetrieving with query id 669bf313-7f9f-42c4-a973-7b2f1f2fcdf0: 1. 女学员在哪里工作？\n",
      "\u001b[0m\u001b[1;3;38;5;200mRetrieved node with id, entering: 7b175426-8398-459e-8307-be8f165b2a6c\n",
      "\u001b[0m\u001b[1;3;34mRetrieving with query id 7b175426-8398-459e-8307-be8f165b2a6c: 1. 女学员在哪里工作？\n",
      "\u001b[0m\u001b[1;3;34mRetrieving with query id None: 学员用什么方法表达不同观点？\n",
      "\u001b[0m\u001b[1;3;38;5;200mRetrieved node with id, entering: ea01298b-1034-4b63-b2b0-dae899b25dce\n",
      "\u001b[0m\u001b[1;3;34mRetrieving with query id ea01298b-1034-4b63-b2b0-dae899b25dce: 学员用什么方法表达不同观点？\n",
      "\u001b[0m\u001b[1;3;38;5;200mRetrieved node with id, entering: 25acfd98-9a2e-463a-989e-ea83eeae2c5c\n",
      "\u001b[0m\u001b[1;3;34mRetrieving with query id 25acfd98-9a2e-463a-989e-ea83eeae2c5c: 学员用什么方法表达不同观点？\n",
      "\u001b[0m\u001b[1;3;38;5;200mRetrieved node with id, entering: 1b558dc8-5dc0-4f5e-a03b-efc2ca849188\n",
      "\u001b[0m\u001b[1;3;34mRetrieving with query id 1b558dc8-5dc0-4f5e-a03b-efc2ca849188: 学员用什么方法表达不同观点？\n",
      "\u001b[0m"
     ]
    },
    {
     "name": "stderr",
     "output_type": "stream",
     "text": [
      "\u001b[32m2025-04-10 23:01:27.146\u001b[0m | \u001b[33m\u001b[1mWARNING \u001b[0m | \u001b[36mreadai.components.retrievers\u001b[0m:\u001b[36m_retrieve\u001b[0m:\u001b[36m553\u001b[0m - \u001b[33m\u001b[1mBM25Retriever does not support embeddings, skipping...\u001b[0m\n",
      "\u001b[32m2025-04-10 23:01:27.231\u001b[0m | \u001b[33m\u001b[1mWARNING \u001b[0m | \u001b[36mreadai.components.retrievers\u001b[0m:\u001b[36m_retrieve\u001b[0m:\u001b[36m553\u001b[0m - \u001b[33m\u001b[1mBM25Retriever does not support embeddings, skipping...\u001b[0m\n",
      " 89%|████████▉ | 89/100 [00:06<00:00, 17.28it/s]"
     ]
    },
    {
     "name": "stdout",
     "output_type": "stream",
     "text": [
      "\u001b[1;3;34mRetrieving with query id None: 2. 男子用什么威胁女学员？\n",
      "\u001b[0m\u001b[1;3;38;5;200mRetrieved node with id, entering: c2ac2ee8-5262-4ab2-a980-965f580a8853\n",
      "\u001b[0m\u001b[1;3;34mRetrieving with query id c2ac2ee8-5262-4ab2-a980-965f580a8853: 2. 男子用什么威胁女学员？\n",
      "\u001b[0m\u001b[1;3;38;5;200mRetrieved node with id, entering: 669bf313-7f9f-42c4-a973-7b2f1f2fcdf0\n",
      "\u001b[0m\u001b[1;3;34mRetrieving with query id 669bf313-7f9f-42c4-a973-7b2f1f2fcdf0: 2. 男子用什么威胁女学员？\n",
      "\u001b[0m\u001b[1;3;38;5;200mRetrieved node with id, entering: 816cfa81-e004-47f0-b506-808c836d4e20\n",
      "\u001b[0m\u001b[1;3;34mRetrieving with query id 816cfa81-e004-47f0-b506-808c836d4e20: 2. 男子用什么威胁女学员？\n",
      "\u001b[0m\u001b[1;3;34mRetrieving with query id None: 头痛时作者做了什么？\n",
      "\u001b[0m\u001b[1;3;38;5;200mRetrieved node with id, entering: eb6b259a-e250-429f-b068-6277fa472750\n",
      "\u001b[0m\u001b[1;3;34mRetrieving with query id eb6b259a-e250-429f-b068-6277fa472750: 头痛时作者做了什么？\n",
      "\u001b[0m\u001b[1;3;34mRetrieving with query id None: 作者如何改变开车时的心态？\n",
      "\u001b[0m"
     ]
    },
    {
     "name": "stderr",
     "output_type": "stream",
     "text": [
      "\u001b[32m2025-04-10 23:01:27.316\u001b[0m | \u001b[33m\u001b[1mWARNING \u001b[0m | \u001b[36mreadai.components.retrievers\u001b[0m:\u001b[36m_retrieve\u001b[0m:\u001b[36m553\u001b[0m - \u001b[33m\u001b[1mBM25Retriever does not support embeddings, skipping...\u001b[0m\n",
      "\u001b[32m2025-04-10 23:01:27.390\u001b[0m | \u001b[33m\u001b[1mWARNING \u001b[0m | \u001b[36mreadai.components.retrievers\u001b[0m:\u001b[36m_retrieve\u001b[0m:\u001b[36m553\u001b[0m - \u001b[33m\u001b[1mBM25Retriever does not support embeddings, skipping...\u001b[0m\n",
      " 91%|█████████ | 91/100 [00:06<00:00, 15.95it/s]\u001b[32m2025-04-10 23:01:27.452\u001b[0m | \u001b[33m\u001b[1mWARNING \u001b[0m | \u001b[36mreadai.components.retrievers\u001b[0m:\u001b[36m_retrieve\u001b[0m:\u001b[36m553\u001b[0m - \u001b[33m\u001b[1mBM25Retriever does not support embeddings, skipping...\u001b[0m\n",
      "\u001b[32m2025-04-10 23:01:27.506\u001b[0m | \u001b[33m\u001b[1mWARNING \u001b[0m | \u001b[36mreadai.components.retrievers\u001b[0m:\u001b[36m_retrieve\u001b[0m:\u001b[36m553\u001b[0m - \u001b[33m\u001b[1mBM25Retriever does not support embeddings, skipping...\u001b[0m\n"
     ]
    },
    {
     "name": "stdout",
     "output_type": "stream",
     "text": [
      "\u001b[1;3;38;5;200mRetrieved node with id, entering: eb6b259a-e250-429f-b068-6277fa472750\n",
      "\u001b[0m\u001b[1;3;34mRetrieving with query id eb6b259a-e250-429f-b068-6277fa472750: 作者如何改变开车时的心态？\n",
      "\u001b[0m\u001b[1;3;34mRetrieving with query id None: 女士最初为何坚持做饭？\n",
      "\u001b[0m\u001b[1;3;38;5;200mRetrieved node with id, entering: 8a4827fa-68cf-460b-919b-b25c5b9ee9d3\n",
      "\u001b[0m\u001b[1;3;34mRetrieving with query id 8a4827fa-68cf-460b-919b-b25c5b9ee9d3: 女士最初为何坚持做饭？\n",
      "\u001b[0m\u001b[1;3;38;5;200mRetrieved node with id, entering: 873efb03-d371-44cc-9383-2492942f3469\n",
      "\u001b[0m\u001b[1;3;34mRetrieving with query id 873efb03-d371-44cc-9383-2492942f3469: 女士最初为何坚持做饭？\n",
      "\u001b[0m\u001b[1;3;38;5;200mRetrieved node with id, entering: 46487957-5414-4a35-9cdb-f5d0f17f1bfc\n",
      "\u001b[0m\u001b[1;3;34mRetrieving with query id 46487957-5414-4a35-9cdb-f5d0f17f1bfc: 女士最初为何坚持做饭？\n",
      "\u001b[0m\u001b[1;3;34mRetrieving with query id None: 儿子们对母亲的决定有何反应？\n",
      "\u001b[0m\u001b[1;3;38;5;200mRetrieved node with id, entering: 8a4827fa-68cf-460b-919b-b25c5b9ee9d3\n",
      "\u001b[0m\u001b[1;3;34mRetrieving with query id 8a4827fa-68cf-460b-919b-b25c5b9ee9d3: 儿子们对母亲的决定有何反应？\n",
      "\u001b[0m\u001b[1;3;38;5;200mRetrieved node with id, entering: 7b175426-8398-459e-8307-be8f165b2a6c\n",
      "\u001b[0m\u001b[1;3;34mRetrieving with query id 7b175426-8398-459e-8307-be8f165b2a6c: 儿子们对母亲的决定有何反应？\n",
      "\u001b[0m\u001b[1;3;38;5;200mRetrieved node with id, entering: 08b3454f-b661-4eea-85aa-d2fea0c086cf\n",
      "\u001b[0m\u001b[1;3;34mRetrieving with query id 08b3454f-b661-4eea-85aa-d2fea0c086cf: 儿子们对母亲的决定有何反应？\n",
      "\u001b[0m\u001b[1;3;34mRetrieving with query id None: 校长看到什么行为冲出去？\n",
      "\u001b[0m\u001b[1;3;38;5;200mRetrieved node with id, entering: 7ede71a1-2630-40af-bd0d-9b059e22016b\n",
      "\u001b[0m\u001b[1;3;34mRetrieving with query id 7ede71a1-2630-40af-bd0d-9b059e22016b: 校长看到什么行为冲出去？\n",
      "\u001b[0m\u001b[1;3;38;5;200mRetrieved node with id, entering: d6471822-d837-4a9f-ad2d-ef25068b4eb3\n",
      "\u001b[0m\u001b[1;3;34mRetrieving with query id d6471822-d837-4a9f-ad2d-ef25068b4eb3: 校长看到什么行为冲出去？\n",
      "\u001b[0m\u001b[1;3;38;5;200mRetrieved node with id, entering: adf4c544-1698-43c6-9807-e07c8c4bb007\n",
      "\u001b[0m\u001b[1;3;34mRetrieving with query id adf4c544-1698-43c6-9807-e07c8c4bb007: 校长看到什么行为冲出去？\n",
      "\u001b[0m\u001b[1;3;38;5;200mRetrieved node with id, entering: ea01298b-1034-4b63-b2b0-dae899b25dce\n",
      "\u001b[0m\u001b[1;3;34mRetrieving with query id ea01298b-1034-4b63-b2b0-dae899b25dce: 校长看到什么行为冲出去？\n",
      "\u001b[0m"
     ]
    },
    {
     "name": "stderr",
     "output_type": "stream",
     "text": [
      " 93%|█████████▎| 93/100 [00:06<00:00, 16.22it/s]\u001b[32m2025-04-10 23:01:27.556\u001b[0m | \u001b[33m\u001b[1mWARNING \u001b[0m | \u001b[36mreadai.components.retrievers\u001b[0m:\u001b[36m_retrieve\u001b[0m:\u001b[36m553\u001b[0m - \u001b[33m\u001b[1mBM25Retriever does not support embeddings, skipping...\u001b[0m\n",
      "\u001b[32m2025-04-10 23:01:27.620\u001b[0m | \u001b[33m\u001b[1mWARNING \u001b[0m | \u001b[36mreadai.components.retrievers\u001b[0m:\u001b[36m_retrieve\u001b[0m:\u001b[36m553\u001b[0m - \u001b[33m\u001b[1mBM25Retriever does not support embeddings, skipping...\u001b[0m\n",
      " 95%|█████████▌| 95/100 [00:06<00:00, 16.43it/s]\u001b[32m2025-04-10 23:01:27.671\u001b[0m | \u001b[33m\u001b[1mWARNING \u001b[0m | \u001b[36mreadai.components.retrievers\u001b[0m:\u001b[36m_retrieve\u001b[0m:\u001b[36m553\u001b[0m - \u001b[33m\u001b[1mBM25Retriever does not support embeddings, skipping...\u001b[0m\n"
     ]
    },
    {
     "name": "stdout",
     "output_type": "stream",
     "text": [
      "\u001b[1;3;34mRetrieving with query id None: 校长用什么方式训斥大孩子？\n",
      "\u001b[0m\u001b[1;3;38;5;200mRetrieved node with id, entering: d6471822-d837-4a9f-ad2d-ef25068b4eb3\n",
      "\u001b[0m\u001b[1;3;34mRetrieving with query id d6471822-d837-4a9f-ad2d-ef25068b4eb3: 校长用什么方式训斥大孩子？\n",
      "\u001b[0m\u001b[1;3;38;5;200mRetrieved node with id, entering: adf4c544-1698-43c6-9807-e07c8c4bb007\n",
      "\u001b[0m\u001b[1;3;34mRetrieving with query id adf4c544-1698-43c6-9807-e07c8c4bb007: 校长用什么方式训斥大孩子？\n",
      "\u001b[0m\u001b[1;3;38;5;200mRetrieved node with id, entering: 7ede71a1-2630-40af-bd0d-9b059e22016b\n",
      "\u001b[0m\u001b[1;3;34mRetrieving with query id 7ede71a1-2630-40af-bd0d-9b059e22016b: 校长用什么方式训斥大孩子？\n",
      "\u001b[0m\u001b[1;3;34mRetrieving with query id None: 谈话中多少人看向了说话者？\n",
      "\u001b[0m\u001b[1;3;38;5;200mRetrieved node with id, entering: 2dba6dd1-44f7-483f-9844-1a2d67ba3c86\n",
      "\u001b[0m\u001b[1;3;34mRetrieving with query id 2dba6dd1-44f7-483f-9844-1a2d67ba3c86: 谈话中多少人看向了说话者？\n",
      "\u001b[0m\u001b[1;3;38;5;200mRetrieved node with id, entering: 7deab73b-4937-4215-be40-21ea5d2cde73\n",
      "\u001b[0m\u001b[1;3;34mRetrieving with query id 7deab73b-4937-4215-be40-21ea5d2cde73: 谈话中多少人看向了说话者？\n",
      "\u001b[0m\u001b[1;3;38;5;200mRetrieved node with id, entering: ea01298b-1034-4b63-b2b0-dae899b25dce\n",
      "\u001b[0m\u001b[1;3;34mRetrieving with query id ea01298b-1034-4b63-b2b0-dae899b25dce: 谈话中多少人看向了说话者？\n",
      "\u001b[0m\u001b[1;3;38;5;200mRetrieved node with id, entering: 7e45cd60-33b0-4a53-94d1-192a9811a8e8\n",
      "\u001b[0m\u001b[1;3;34mRetrieving with query id 7e45cd60-33b0-4a53-94d1-192a9811a8e8: 谈话中多少人看向了说话者？\n",
      "\u001b[0m\u001b[1;3;34mRetrieving with query id None: 董事长为什么转开了脸？\n",
      "\u001b[0m\u001b[1;3;38;5;200mRetrieved node with id, entering: 2dba6dd1-44f7-483f-9844-1a2d67ba3c86\n",
      "\u001b[0m\u001b[1;3;34mRetrieving with query id 2dba6dd1-44f7-483f-9844-1a2d67ba3c86: 董事长为什么转开了脸？\n",
      "\u001b[0m\u001b[1;3;38;5;200mRetrieved node with id, entering: ea01298b-1034-4b63-b2b0-dae899b25dce\n",
      "\u001b[0m\u001b[1;3;34mRetrieving with query id ea01298b-1034-4b63-b2b0-dae899b25dce: 董事长为什么转开了脸？\n",
      "\u001b[0m\u001b[1;3;38;5;200mRetrieved node with id, entering: 7ede71a1-2630-40af-bd0d-9b059e22016b\n",
      "\u001b[0m\u001b[1;3;34mRetrieving with query id 7ede71a1-2630-40af-bd0d-9b059e22016b: 董事长为什么转开了脸？\n",
      "\u001b[0m\u001b[1;3;38;5;200mRetrieved node with id, entering: d6471822-d837-4a9f-ad2d-ef25068b4eb3\n",
      "\u001b[0m\u001b[1;3;34mRetrieving with query id d6471822-d837-4a9f-ad2d-ef25068b4eb3: 董事长为什么转开了脸？\n",
      "\u001b[0m\u001b[1;3;34mRetrieving with query id None: 作者从哪位老师身上学到东西？\n",
      "\u001b[0m"
     ]
    },
    {
     "name": "stderr",
     "output_type": "stream",
     "text": [
      "\u001b[32m2025-04-10 23:01:27.718\u001b[0m | \u001b[33m\u001b[1mWARNING \u001b[0m | \u001b[36mreadai.components.retrievers\u001b[0m:\u001b[36m_retrieve\u001b[0m:\u001b[36m553\u001b[0m - \u001b[33m\u001b[1mBM25Retriever does not support embeddings, skipping...\u001b[0m\n",
      "\u001b[32m2025-04-10 23:01:27.808\u001b[0m | \u001b[33m\u001b[1mWARNING \u001b[0m | \u001b[36mreadai.components.retrievers\u001b[0m:\u001b[36m_retrieve\u001b[0m:\u001b[36m553\u001b[0m - \u001b[33m\u001b[1mBM25Retriever does not support embeddings, skipping...\u001b[0m\n",
      "100%|██████████| 100/100 [00:06<00:00, 15.00it/s]"
     ]
    },
    {
     "name": "stdout",
     "output_type": "stream",
     "text": [
      "\u001b[1;3;38;5;200mRetrieved node with id, entering: ceb2fcca-64e2-46a9-ac95-ccb2b6a6e488\n",
      "\u001b[0m\u001b[1;3;34mRetrieving with query id ceb2fcca-64e2-46a9-ac95-ccb2b6a6e488: 作者从哪位老师身上学到东西？\n",
      "\u001b[0m\u001b[1;3;38;5;200mRetrieved node with id, entering: 3382f2dd-2a25-4b80-a16c-06e1a55ad6bb\n",
      "\u001b[0m\u001b[1;3;34mRetrieving with query id 3382f2dd-2a25-4b80-a16c-06e1a55ad6bb: 作者从哪位老师身上学到东西？\n",
      "\u001b[0m\u001b[1;3;38;5;200mRetrieved node with id, entering: ea01298b-1034-4b63-b2b0-dae899b25dce\n",
      "\u001b[0m\u001b[1;3;34mRetrieving with query id ea01298b-1034-4b63-b2b0-dae899b25dce: 作者从哪位老师身上学到东西？\n",
      "\u001b[0m\u001b[1;3;38;5;200mRetrieved node with id, entering: 36efd65b-9730-4f80-8122-df1e9647aab1\n",
      "\u001b[0m\u001b[1;3;34mRetrieving with query id 36efd65b-9730-4f80-8122-df1e9647aab1: 作者从哪位老师身上学到东西？\n",
      "\u001b[0m\u001b[1;3;34mRetrieving with query id None: 舅舅照顾谁时总是面带微笑？\n",
      "\u001b[0m\u001b[1;3;38;5;200mRetrieved node with id, entering: 8fca914a-47f8-45ae-9231-c2074b567b0f\n",
      "\u001b[0m\u001b[1;3;34mRetrieving with query id 8fca914a-47f8-45ae-9231-c2074b567b0f: 舅舅照顾谁时总是面带微笑？\n",
      "\u001b[0m\u001b[1;3;38;5;200mRetrieved node with id, entering: 49a38ab4-bb6c-46c0-a06e-568fe4ec8c9d\n",
      "\u001b[0m\u001b[1;3;34mRetrieving with query id 49a38ab4-bb6c-46c0-a06e-568fe4ec8c9d: 舅舅照顾谁时总是面带微笑？\n",
      "\u001b[0m"
     ]
    },
    {
     "name": "stderr",
     "output_type": "stream",
     "text": [
      "\n"
     ]
    }
   ],
   "source": [
    "eval_results_hybrid_nodes_50 = await retriever_evaluator.aevaluate_dataset(\n",
    "    eval_dataset_from_hybrid_nodes_50, show_progress=True\n",
    ")"
   ]
  },
  {
   "cell_type": "code",
   "execution_count": 20,
   "id": "9e09c25a",
   "metadata": {},
   "outputs": [],
   "source": [
    "import pandas as pd\n",
    "\n",
    "\n",
    "def display_results(name, eval_results):\n",
    "    \"\"\"Display results from evaluate.\"\"\"\n",
    "    metric_dicts = []\n",
    "    for eval_result in eval_results:\n",
    "        metric_dict = eval_result.metric_vals_dict\n",
    "        metric_dicts.append(metric_dict)\n",
    "\n",
    "    full_df = pd.DataFrame(metric_dicts)\n",
    "    columns = {\n",
    "        \"retrievers\": [name],\n",
    "        **{k: [full_df[k].mean()] for k in metrics},\n",
    "    }\n",
    "\n",
    "    metric_df = pd.DataFrame(columns)\n",
    "\n",
    "    return metric_df"
   ]
  },
  {
   "cell_type": "code",
   "execution_count": 21,
   "id": "c66f3b6c",
   "metadata": {},
   "outputs": [
    {
     "data": {
      "text/html": [
       "<div>\n",
       "<style scoped>\n",
       "    .dataframe tbody tr th:only-of-type {\n",
       "        vertical-align: middle;\n",
       "    }\n",
       "\n",
       "    .dataframe tbody tr th {\n",
       "        vertical-align: top;\n",
       "    }\n",
       "\n",
       "    .dataframe thead th {\n",
       "        text-align: right;\n",
       "    }\n",
       "</style>\n",
       "<table border=\"1\" class=\"dataframe\">\n",
       "  <thead>\n",
       "    <tr style=\"text-align: right;\">\n",
       "      <th></th>\n",
       "      <th>retrievers</th>\n",
       "      <th>hit_rate</th>\n",
       "      <th>mrr</th>\n",
       "      <th>precision</th>\n",
       "      <th>recall</th>\n",
       "      <th>ap</th>\n",
       "      <th>ndcg</th>\n",
       "    </tr>\n",
       "  </thead>\n",
       "  <tbody>\n",
       "    <tr>\n",
       "      <th>0</th>\n",
       "      <td>hybrid_nodes_50</td>\n",
       "      <td>0.6</td>\n",
       "      <td>0.505667</td>\n",
       "      <td>0.122833</td>\n",
       "      <td>0.6</td>\n",
       "      <td>0.505667</td>\n",
       "      <td>0.529046</td>\n",
       "    </tr>\n",
       "  </tbody>\n",
       "</table>\n",
       "</div>"
      ],
      "text/plain": [
       "        retrievers  hit_rate       mrr  precision  recall        ap      ndcg\n",
       "0  hybrid_nodes_50       0.6  0.505667   0.122833     0.6  0.505667  0.529046"
      ]
     },
     "execution_count": 21,
     "metadata": {},
     "output_type": "execute_result"
    }
   ],
   "source": [
    "display_results(\"hybrid_nodes_50\", eval_results_hybrid_nodes_50)"
   ]
  },
  {
   "cell_type": "markdown",
   "id": "11d0f31e",
   "metadata": {},
   "source": [
    "### 结合reranker model测试"
   ]
  },
  {
   "cell_type": "code",
   "execution_count": 69,
   "id": "c7dd0c81",
   "metadata": {},
   "outputs": [],
   "source": [
    "from readai.components.rerank_retriever import MyReRankRetriever"
   ]
  },
  {
   "cell_type": "code",
   "execution_count": null,
   "id": "5e3d5924",
   "metadata": {},
   "outputs": [],
   "source": [
    "local_model_path = os.path.join(project_root, \"model/embeddings/bge-reranker-v2-m3\")\n",
    "rerank_retriever = MyReRankRetriever(\n",
    "    retrievers=[bm25_retriever, small2big_retriever],\n",
    "    similarity_top_k=5,\n",
    "    use_fp16=False,\n",
    "    devices=[0],\n",
    "    batch_size=32,\n",
    "    verbose=True,\n",
    "    model_name_or_path=local_model_path,\n",
    ")"
   ]
  },
  {
   "cell_type": "code",
   "execution_count": 53,
   "id": "073bb97c",
   "metadata": {},
   "outputs": [],
   "source": [
    "metrics = [\"hit_rate\", \"mrr\", \"precision\", \"recall\", \"ap\", \"ndcg\"]\n",
    "rerank_evaluator = RetrieverEvaluator.from_metric_names(\n",
    "    metrics, retriever=rerank_retriever\n",
    ")"
   ]
  },
  {
   "cell_type": "code",
   "execution_count": null,
   "id": "0fde3eff",
   "metadata": {},
   "outputs": [],
   "source": [
    "reranled_nodes = rerank_retriever.retrieve(\n",
    "    \"在日常交流中，我们如何区分客观的观察和主观的评价？\"\n",
    ")"
   ]
  },
  {
   "cell_type": "code",
   "execution_count": 55,
   "id": "622b591f",
   "metadata": {},
   "outputs": [
    {
     "data": {
      "text/markdown": [
       "**Node ID:** 28686fee-f722-4232-85c6-13e1ec89927d<br>**Similarity:** 1.1604560613632202<br>**Text:** 去观察，就像信仰一样重要。 ——弗雷德里克·布希纳（Frederick Buechner） 我欣然接受你告诉我， 我做了什么或者我未做什么。 我也欣然接受你的评论， 但请不要将两者混淆。 如果你想把事情搅乱， 我可以告诉你如何做到： 将我做的事情 和你的反应混为一谈。 当你见到做了一半的家务活， 可以告诉我你感到失望。 但说我不负责任， 绝无可能让我做得更多。 当我对你的表白说“不”， 请告诉我你感到伤心。 但说我冷酷无情， 并不能给你带来更多机会。 是的， 我欣然接受你告诉我， 我做了什么或者我未做什么。 我也欣然接受你的评论， 但请不要将两者混淆。 ——马歇尔·卢森堡博士 非暴力沟通的第一个要素是区分观察与评论。我们要清楚地观察有哪些所见、所闻和所触，正影响着我们幸福，而不夹杂任何评论。 在非暴力沟通中，当我们想要清晰且诚恳地向他人表达我们的状态时，“观察”是一个重要的要素。如果我们在观察中夹杂着评论，人们便不那么容易真正听见我们想要表达的内容，反而会听到批评，甚至产生抗拒心理。 非暴力沟通并不要求我们保持完全客观，不做任何评论。它只是强调，我们要区分观察与评论。非暴力沟通是一个动态的语言，它不鼓励一成不变、一概而论的陈述。语义学家温戴尔·约翰逊（Wendell Johnson）指出，用静态的语言来表达或捕捉瞬息万变的现实世界，会带来许多问题。他说：“我们的语言年代久远，是有缺陷的工具。它反映着泛灵论的思想，倾向于谈论稳定与恒常，谈论相似性、常态和分类，神奇的转变、立竿见影的疗效、简化的问题以及终极解决方案。然而，我们尝试用语言符号化的这个世界，却包含了无穷无尽的过程、变化、维度、变数、关系、功能、互动、发展、学习、应对和复杂性。不断变化的世界与我们相对静态的语言形式并不匹配，我们的许多问题正是因此产生。” 我的同事鲁斯·贝本梅尔在这段歌词中对比了静态语言与动态语言，由此来展现评论与观察的区别： 我从未见过什么懒汉； 我见过的他，有时在白天睡觉， 在某个下雨的日子呆在家里。 但他不是个懒汉。<br>"
      ],
      "text/plain": [
       "<IPython.core.display.Markdown object>"
      ]
     },
     "metadata": {},
     "output_type": "display_data"
    },
    {
     "data": {
      "text/markdown": [
       "**Node ID:** 4e46cffd-e5b8-4cb0-b886-8e8356908cd1<br>**Similarity:** -0.2287135273218155<br>**Text:** 非暴力沟通并不要求我们保持完全客观，不做任何评论。它只是强调，我们要区分观察与评论。非暴力沟通是一个动态的语言，它不鼓励一成不变、一概而论的陈述。<br>"
      ],
      "text/plain": [
       "<IPython.core.display.Markdown object>"
      ]
     },
     "metadata": {},
     "output_type": "display_data"
    },
    {
     "data": {
      "text/markdown": [
       "**Node ID:** cc224a0c-f6b7-4d8e-8586-b3f7ea182834<br>**Similarity:** -1.8991965055465698<br>**Text:** 区分观察和评论 在以下列表中，我举例说明如何从混杂着评论的句子中区分出观察。 续表 注意：总是、永远、从来、每次之类的词语在以下用法中表达的是观察： ·每次我看到杰克打电话，他都至少打半小时。<br>"
      ],
      "text/plain": [
       "<IPython.core.display.Markdown object>"
      ]
     },
     "metadata": {},
     "output_type": "display_data"
    },
    {
     "data": {
      "text/markdown": [
       "**Node ID:** dc4e4cc1-4e38-40a1-9265-848096ffb88d<br>**Similarity:** -2.291855573654175<br>**Text:** 会议最后，我们商量了一些办法，以后当老师们不想听校长回忆往事时，就用温和的方式提醒他。 区分观察和评论 在以下列表中，我举例说明如何从混杂着评论的句子中区分出观察。<br>"
      ],
      "text/plain": [
       "<IPython.core.display.Markdown object>"
      ]
     },
     "metadata": {},
     "output_type": "display_data"
    },
    {
     "data": {
      "text/markdown": [
       "**Node ID:** ea01298b-1034-4b63-b2b0-dae899b25dce<br>**Similarity:** -3.1947731971740723<br>**Text:** 当我指出这一点后，另一位老师响应道：“我知道他的意思了。校长的话太多！”这仍不是一个清晰的观察，而是对校长说多少话的评论。随后，第三位老师说：“他认为只有他想说的话是重要的。”我进而向他们解释，推断他人的想法和对他人行为的观察是两码事。随后，第四位老师大胆地说：“他总是想成为人前的焦点。”当我指出这也是推断时，两位老师不约而同地说道：“你的问题太难回答了！” 接着，我们一起拟了份清单，明确列出校长有哪些具体行为令他们感到不满，并确保不掺杂评论。例如，在全体教师会议上，校长会讲述他的童年和战争经历，有时导致会议超时20分钟。我问老师们是否曾经和校长沟通过他们的不满，他们说曾经试过，但都用具有评论意味的言辞向校长提出批评，而从未提及任何具体行为，例如校长在会议中讲述自己的故事。最后，老师们同意在与校长会谈时将这一点提出来。 会谈刚一开始，我便目睹了老师们所描述的情景。不论讨论的主题是什么，校长都会插话说：“想当年……”接着开始讲述他的童年或战争经历。我等着老师们表达他们的不满。然而，他们并没有运用非暴力沟通的方式，而是无声的抗议。有的人开始翻白眼，有的人故意打着哈欠，还有个人一直盯着手表。 直到我按捺不住问他们：“没有人有话要说吗？”迎来的是一阵令人尴尬的沉默。接着，之前会谈中率先发言的那位老师鼓起勇气，直视着校长，然后说出：“艾德，你真是个大嘴巴！” 就像这个故事所展现的，从我们的旧习惯中挣脱出来，并有能力熟练地区分观察与评论并不容易。最终，老师们终于可以明明白白地告诉校长，他们对他的哪些行为感到不满。校长认真地听完后郑重地说：“为什么从没有人告诉我呢？”他承认他有讲故事的习惯，接着就开始说与这个习惯有关的故事了！我见状打断了他的话，婉转地提出他在重蹈覆辙。会议最后，我们商量了一些办法，以后当老师们不想听校长回忆往事时，就用温和的方式提醒他。 区分观察和评论 在以下列表中，我举例说明如何从混杂着评论的句子中区分出观察。 续表 注意：总是、永远、从来、每次之类的词语在以下用法中表达的是观察： ·每次我看到杰克打电话，他都至少打半小时。<br>"
      ],
      "text/plain": [
       "<IPython.core.display.Markdown object>"
      ]
     },
     "metadata": {},
     "output_type": "display_data"
    }
   ],
   "source": [
    "for node in reranled_nodes:\n",
    "    display_source_node(node, source_length=1000)"
   ]
  },
  {
   "cell_type": "code",
   "execution_count": null,
   "id": "e8176273",
   "metadata": {},
   "outputs": [],
   "source": [
    "eval_rerank_result = await rerank_evaluator.aevaluate_dataset(\n",
    "    eval_dataset_from_hybrid_nodes_50, show_progress=True\n",
    ")"
   ]
  },
  {
   "cell_type": "code",
   "execution_count": 57,
   "id": "10e1def1",
   "metadata": {},
   "outputs": [
    {
     "data": {
      "text/html": [
       "<div>\n",
       "<style scoped>\n",
       "    .dataframe tbody tr th:only-of-type {\n",
       "        vertical-align: middle;\n",
       "    }\n",
       "\n",
       "    .dataframe tbody tr th {\n",
       "        vertical-align: top;\n",
       "    }\n",
       "\n",
       "    .dataframe thead th {\n",
       "        text-align: right;\n",
       "    }\n",
       "</style>\n",
       "<table border=\"1\" class=\"dataframe\">\n",
       "  <thead>\n",
       "    <tr style=\"text-align: right;\">\n",
       "      <th></th>\n",
       "      <th>retrievers</th>\n",
       "      <th>hit_rate</th>\n",
       "      <th>mrr</th>\n",
       "      <th>precision</th>\n",
       "      <th>recall</th>\n",
       "      <th>ap</th>\n",
       "      <th>ndcg</th>\n",
       "    </tr>\n",
       "  </thead>\n",
       "  <tbody>\n",
       "    <tr>\n",
       "      <th>0</th>\n",
       "      <td>hybrid_nodes_50_rerank</td>\n",
       "      <td>0.61</td>\n",
       "      <td>0.349333</td>\n",
       "      <td>0.124833</td>\n",
       "      <td>0.61</td>\n",
       "      <td>0.349333</td>\n",
       "      <td>0.414313</td>\n",
       "    </tr>\n",
       "  </tbody>\n",
       "</table>\n",
       "</div>"
      ],
      "text/plain": [
       "               retrievers  hit_rate       mrr  precision  recall        ap  \\\n",
       "0  hybrid_nodes_50_rerank      0.61  0.349333   0.124833    0.61  0.349333   \n",
       "\n",
       "       ndcg  \n",
       "0  0.414313  "
      ]
     },
     "execution_count": 57,
     "metadata": {},
     "output_type": "execute_result"
    }
   ],
   "source": [
    "display_results(\"hybrid_nodes_50_rerank\", eval_rerank_result)"
   ]
  },
  {
   "cell_type": "markdown",
   "id": "07b2d544",
   "metadata": {},
   "source": [
    "测试使用flagreranker"
   ]
  },
  {
   "cell_type": "code",
   "execution_count": null,
   "id": "cb3eab99",
   "metadata": {},
   "outputs": [],
   "source": [
    "from FlagEmbedding import FlagReranker\n",
    "\n",
    "reranker = FlagReranker(\n",
    "    model_name_or_path=local_model_path, use_fp16=True, devices=[0], batch_size=32\n",
    ")"
   ]
  },
  {
   "cell_type": "code",
   "execution_count": 36,
   "id": "c488e9e8",
   "metadata": {},
   "outputs": [
    {
     "name": "stderr",
     "output_type": "stream",
     "text": [
      "You're using a XLMRobertaTokenizerFast tokenizer. Please note that with a fast tokenizer, using the `__call__` method is faster than using a method to encode the text followed by a call to the `pad` method to get a padded encoding.\n"
     ]
    },
    {
     "data": {
      "text/plain": [
       "[7.1328125, 7.51171875, 3.732421875, 8.203125, 8.796875]"
      ]
     },
     "execution_count": 36,
     "metadata": {},
     "output_type": "execute_result"
    }
   ],
   "source": [
    "sentence_pairs = [\n",
    "    (\"机器学习是什么？\", \"机器学习是一种让计算机根据数据自动改进的技术。\"),\n",
    "    (\n",
    "        \"人工智能可以应用在哪些领域？\",\n",
    "        \"人工智能可以广泛应用于医疗、金融、教育、制造业等多个领域。\",\n",
    "    ),\n",
    "    (\n",
    "        \"深度学习与机器学习有什么区别？\",\n",
    "        \"深度学习是机器学习的一种方法，专注于使用神经网络从大量数据中学习。\",\n",
    "    ),\n",
    "    (\n",
    "        \"什么是自然语言处理？\",\n",
    "        \"自然语言处理是让计算机能够理解、生成和与人类语言交互的技术。\",\n",
    "    ),\n",
    "    (\n",
    "        \"大数据分析的核心目标是什么？\",\n",
    "        \"大数据分析的核心目标是从大量数据中提取有价值的信息，支持决策和预测。\",\n",
    "    ),\n",
    "]\n",
    "reranker.compute_score(sentence_pairs)"
   ]
  }
 ],
 "metadata": {
  "kernelspec": {
   "display_name": "rag_env",
   "language": "python",
   "name": "python3"
  },
  "language_info": {
   "codemirror_mode": {
    "name": "ipython",
    "version": 3
   },
   "file_extension": ".py",
   "mimetype": "text/x-python",
   "name": "python",
   "nbconvert_exporter": "python",
   "pygments_lexer": "ipython3",
   "version": "3.10.16"
  }
 },
 "nbformat": 4,
 "nbformat_minor": 5
}

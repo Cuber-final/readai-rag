{
 "cells": [
  {
   "cell_type": "code",
   "execution_count": 34,
   "metadata": {},
   "outputs": [],
   "source": [
    "import os\n",
    "from pathlib import Path\n",
    "\n",
    "import mlflow\n",
    "from langchain_community.document_loaders import (\n",
    "    UnstructuredEPubLoader,\n",
    "    UnstructuredMarkdownLoader,\n",
    ")\n",
    "from llama_index.core import Document\n",
    "from llama_index.core.indices.vector_store.base import VectorStoreIndex\n",
    "from llama_index.core.node_parser import (\n",
    "    HierarchicalNodeParser,\n",
    "    get_leaf_nodes,\n",
    "    get_root_nodes,\n",
    ")\n",
    "from llama_index.core.settings import Settings\n",
    "from llama_index.core.storage import StorageContext\n",
    "from llama_index.core.storage.docstore import SimpleDocumentStore\n",
    "from llama_index.embeddings.ollama import OllamaEmbedding\n",
    "from llama_index.llms.deepseek import DeepSeek\n",
    "from llama_index.vector_stores.qdrant import QdrantVectorStore\n",
    "from qdrant_client import QdrantClient\n",
    "\n",
    "from readai.components.custom.text_splitters.chinese_text_splitter import (\n",
    "    ChineseRecursiveTextSplitter,\n",
    ")"
   ]
  },
  {
   "cell_type": "code",
   "execution_count": null,
   "metadata": {},
   "outputs": [],
   "source": [
    "# 设置MLflow\n",
    "try:\n",
    "    mlflow.set_tracking_uri(\"http://localhost:5001\")\n",
    "    mlflow.get_tracking_uri()\n",
    "    mlflow.set_experiment(\"LlamaIndex-RAG\")\n",
    "    mlflow.llama_index.autolog()\n",
    "except Exception as e:\n",
    "    print(e)\n",
    "\n",
    "# 设置模型\n",
    "api_key = os.getenv(\"DEEPSEEK_API_KEY\")\n",
    "model_name = os.getenv(\"DEEPSEEK_MODEL\")\n",
    "Settings.llm = DeepSeek(model=model_name, api_key=api_key)\n",
    "Settings.embed_model = OllamaEmbedding(\n",
    "    model_name=\"quentinz/bge-large-zh-v1.5\", base_url=\"http://localhost:11434\"\n",
    ")\n",
    "\n",
    "# 第一步：使用 UnstructuredEPubLoader 加载 EPUB 文档\n",
    "test_data_path = Path(\n",
    "    \"/Users/pegasus/workplace/mygits/readest-ai/readai-backend/readai/tests/data\"\n",
    ")\n",
    "book_name = \"非暴力沟通.epub\"\n",
    "book_path = test_data_path / book_name\n",
    "loader = UnstructuredEPubLoader(book_path, mode=\"elements\", strategy=\"hi_res\")\n",
    "documents = loader.load()\n",
    "\n",
    "# 使用中文文本分割器\n",
    "text_splitter = ChineseRecursiveTextSplitter(chunk_size=1000, chunk_overlap=100)\n",
    "split_documents = text_splitter.split_documents(documents)\n",
    "\n",
    "# 转换为llamaindex需要的documents对象\n",
    "llama_documents = [\n",
    "    Document(text=doc.page_content, metadata=doc.metadata) for doc in split_documents\n",
    "]\n",
    "\n",
    "# 创建层级解析器\n",
    "parser = HierarchicalNodeParser.from_defaults(chunk_sizes=[2048, 1024])\n",
    "book_nodes = parser.get_nodes_from_documents(llama_documents)\n",
    "leaf_nodes = get_leaf_nodes(book_nodes)\n",
    "root_nodes = get_root_nodes(book_nodes)\n",
    "\n",
    "print(f\"切分后节点总数量: {len(leaf_nodes)}\")\n",
    "print(f\"根节点数量: {len(root_nodes)}\")\n",
    "\n",
    "# 初始化Qdrant客户端\n",
    "qdrant_client = QdrantClient(\n",
    "    host=\"localhost\", port=6333\n",
    ")  # 使用内存存储，也可以指定本地路径\n",
    "vector_store = QdrantVectorStore(client=qdrant_client, collection_name=\"book_test0331\")\n"
   ]
  },
  {
   "cell_type": "code",
   "execution_count": 27,
   "metadata": {},
   "outputs": [
    {
     "name": "stdout",
     "output_type": "stream",
     "text": [
      "节点数量: 3494\n"
     ]
    }
   ],
   "source": [
    "# 第一步：使用 UnstructuredEPubLoader 加载 EPUB 文档\n",
    "test_data_path = Path(\"/Users/pegasus/media/library\")\n",
    "book_name = \"跃迁：成为高手的技术.epub\"\n",
    "book_path = test_data_path / book_name\n",
    "loader = UnstructuredEPubLoader(book_path, mode=\"elements\", strategy=\"fast\")\n",
    "documents = loader.load()\n",
    "\n",
    "# 查看节点数量\n",
    "print(f\"节点数量: {len(documents)}\")"
   ]
  },
  {
   "cell_type": "markdown",
   "metadata": {},
   "source": [
    "## 切换为markdown reader"
   ]
  },
  {
   "cell_type": "code",
   "execution_count": 44,
   "metadata": {},
   "outputs": [
    {
     "name": "stdout",
     "output_type": "stream",
     "text": [
      "节点数量: 1\n",
      "{'source': '/Users/pegasus/media/library/test_doc2.md'}\n"
     ]
    }
   ],
   "source": [
    "test_data_path = Path(\"/Users/pegasus/media/library\")\n",
    "book_name = \"test_doc2.md\"\n",
    "book_path = test_data_path / book_name\n",
    "loader = UnstructuredMarkdownLoader(book_path)\n",
    "documents = loader.load()\n",
    "\n",
    "# 查看节点数量\n",
    "print(f\"节点数量: {len(documents)}\")\n",
    "print(documents[0].metadata)\n"
   ]
  },
  {
   "cell_type": "code",
   "execution_count": 64,
   "metadata": {},
   "outputs": [
    {
     "name": "stdout",
     "output_type": "stream",
     "text": [
      "\n",
      "马歇尔·卢森堡博士发现了一种沟通方式，依照它来谈话和聆听，能使人们情意相通，和谐相处，这就是\"非暴力沟通\"。\n",
      "\n",
      "\n",
      "# 中文版序\n",
      "我们每一个人都渴望幸福，渴望生活在一个和平、稳定而又繁荣的社会当中。\n"
     ]
    }
   ],
   "source": [
    "import re\n",
    "\n",
    "\n",
    "def clean_empty_headings(markdown_text):\n",
    "    # 将文本分割成多行\n",
    "    lines = markdown_text.splitlines()\n",
    "\n",
    "    # 过滤掉只包含#号的行\n",
    "    # 正则表达式 ^\\s*#+\\s*$ 解释:\n",
    "    # ^ - 行的开始\n",
    "    # \\s* - 零个或多个空白字符\n",
    "    # #+ - 一个或多个#符号\n",
    "    # \\s* - 零个或多个空白字符\n",
    "    # $ - 行的结束\n",
    "    cleaned_lines = [line for line in lines if not re.match(r\"^\\s*#+\\s*$\", line)]\n",
    "\n",
    "    # 重新连接文本\n",
    "    cleaned_markdown = \"\\n\".join(cleaned_lines)\n",
    "\n",
    "    return cleaned_markdown\n",
    "\n",
    "\n",
    "# 使用示例\n",
    "markdown_text = \"\"\"\n",
    "马歇尔·卢森堡博士发现了一种沟通方式，依照它来谈话和聆听，能使人们情意相通，和谐相处，这就是\"非暴力沟通\"。\n",
    "\n",
    "#\n",
    "## \n",
    "###\n",
    "\n",
    "# 中文版序\n",
    "我们每一个人都渴望幸福，渴望生活在一个和平、稳定而又繁荣的社会当中。\n",
    "\"\"\"\n",
    "\n",
    "cleaned_text = clean_empty_headings(markdown_text)\n",
    "print(cleaned_text)"
   ]
  },
  {
   "cell_type": "code",
   "execution_count": 41,
   "metadata": {},
   "outputs": [
    {
     "name": "stdout",
     "output_type": "stream",
     "text": [
      "{'Image', 'UncategorizedText', 'ListItem', 'NarrativeText', 'Title'}\n"
     ]
    }
   ],
   "source": [
    "import json\n",
    "\n",
    "nodes_list = []\n",
    "node_category = set()\n",
    "# 检查所有节点的metadata中一共出现了哪几种category\n",
    "for doc in documents:\n",
    "    node_category.add(doc.metadata[\"category\"])\n",
    "    node_data = {\"text\": doc.page_content, \"metadata\": doc.metadata}\n",
    "    nodes_list.append(node_data)\n",
    "print(node_category)\n",
    "\n",
    "\n",
    "# 保存到 json 文件\n",
    "with open(\"非暴力沟通2md.json\", \"w\", encoding=\"utf-8\") as f:\n",
    "    json.dump(nodes_list, f, ensure_ascii=False, indent=2)\n"
   ]
  },
  {
   "cell_type": "code",
   "execution_count": 54,
   "metadata": {},
   "outputs": [
    {
     "name": "stdout",
     "output_type": "stream",
     "text": [
      "1\n",
      "32\n"
     ]
    }
   ],
   "source": [
    "##使用langchain的markdownsplitter\n",
    "from langchain_text_splitters.markdown import (\n",
    "    # MarkdownHeaderTextSplitter,\n",
    "    MarkdownTextSplitter,\n",
    ")\n",
    "\n",
    "loader = UnstructuredMarkdownLoader(book_path)\n",
    "documents = loader.load()\n",
    "print(len(documents))\n",
    "splitter = MarkdownTextSplitter()\n",
    "\n",
    "split_documents = splitter.split_text(documents[0].page_content)\n",
    "print(len(split_documents))"
   ]
  },
  {
   "cell_type": "markdown",
   "metadata": {},
   "source": [
    "- 为什么要转换成markdown\n",
    "因为转换成markdown后，原本epub文件是存在一些结构性内容的，比如标题的层级，相比直接被读取器赌气，转换成markdown后，这种层级内容更加清晰，而且我更好处理\n",
    "- 转换后为什么还要去除一些无效符号？（比如空行）\n",
    "因为目前很多中文分块策略，在区分段落时会根据两个换行符区分，但转markdown后发现有很多多余的空行,清除掉多余的空行其实是可以更方便使用text_spliiter的\n",
    "\n",
    "- 要使用哪一种chunk策略以及node extractor？\n",
    "递归分割？\n",
    "标题提取？\n",
    "\n",
    "## 处理markdown文件的目的是什么"
   ]
  },
  {
   "cell_type": "code",
   "execution_count": 67,
   "metadata": {},
   "outputs": [
    {
     "name": "stdout",
     "output_type": "stream",
     "text": [
      "✅ 已清洗并保存新文件: ./test_doc2_cleaned.md\n"
     ]
    }
   ],
   "source": [
    "import re\n",
    "\n",
    "LINK_PATTERN = re.compile(r\"!?\\[.*?\\]\\(.*?\\)\")\n",
    "EMPTY_HEADING_PATTERN = re.compile(r\"^\\s*#+\\s*$\")\n",
    "METADATA_PATTERN = re.compile(r\"\\*\\*(\\w+):\\*\\*\\s*(.+)\")\n",
    "\n",
    "\n",
    "def extract_metadata_from_markdown(markdown_text: str) -> dict:\n",
    "    pattern = r\"\\*\\*(\\w+):\\*\\*\\s*(.+)\"\n",
    "    metadata = {}\n",
    "\n",
    "    for match in re.finditer(pattern, markdown_text):\n",
    "        key = match.group(1).strip().lower()  # e.g., title, authors\n",
    "        value = match.group(2).strip()\n",
    "        metadata[key] = value\n",
    "\n",
    "    return metadata\n",
    "\n",
    "\n",
    "def process_markdown_file(input_path: str, output_path: str) -> dict:\n",
    "    input_file = Path(input_path)\n",
    "    if not input_file.exists():\n",
    "        raise FileNotFoundError(f\"文件不存在: {input_path}\")\n",
    "\n",
    "    with open(input_file, encoding=\"utf-8\") as f_in:\n",
    "        raw_md = f_in.read()\n",
    "\n",
    "    # 提取元信息\n",
    "    metadata = extract_metadata_from_markdown(raw_md)\n",
    "\n",
    "    raw_md = re.sub(LINK_PATTERN, \"\", raw_md)\n",
    "    lines = raw_md.splitlines()\n",
    "    # 去掉前6行\n",
    "    lines = lines[6:]\n",
    "\n",
    "    # 去掉lines中空行为line为换行符或空行的行\n",
    "    lines = [\n",
    "        line\n",
    "        for line in lines\n",
    "        if line.strip() != \"\" and not EMPTY_HEADING_PATTERN.match(line)\n",
    "    ]\n",
    "\n",
    "    # 写入新文件\n",
    "    output_file = Path(output_path)\n",
    "    with open(output_file, \"w\", encoding=\"utf-8\") as f_out:\n",
    "        f_out.write(\"\\n\".join(lines))\n",
    "\n",
    "    print(f\"✅ 已清洗并保存新文件: {output_path}\")\n",
    "    return metadata\n",
    "\n",
    "\n",
    "# 测试\n",
    "metadata = process_markdown_file(\n",
    "    book_path,\n",
    "    \"./test_doc2_cleaned.md\",\n",
    ")\n"
   ]
  },
  {
   "cell_type": "code",
   "execution_count": null,
   "metadata": {},
   "outputs": [],
   "source": [
    "# 创建文档存储\n",
    "docstore = SimpleDocumentStore()\n",
    "docstore.add_documents(book_nodes)\n",
    "\n",
    "# 创建存储上下文\n",
    "storage_context = StorageContext.from_defaults(\n",
    "    docstore=docstore, vector_store=vector_store\n",
    ")\n",
    "\n",
    "# 创建基础索引\n",
    "base_index = VectorStoreIndex(nodes=leaf_nodes, storage_context=storage_context)\n",
    "\n",
    "# 创建基础检索器\n",
    "base_retriever = base_index.as_retriever(similarity_top_k=6)\n",
    "\n",
    "# 创建AutoMergingRetriever\n",
    "from llama_index.core.retrievers import AutoMergingRetriever\n",
    "\n",
    "retriever = AutoMergingRetriever(\n",
    "    base_retriever, storage_context, verbose=True, simple_ratio_thresh=0.6\n",
    ")\n",
    "\n",
    "# 创建查询引擎\n",
    "from llama_index.core.query_engine import RetrieverQueryEngine\n",
    "\n",
    "query_engine = RetrieverQueryEngine.from_args(retriever)\n",
    "\n",
    "# 执行查询\n",
    "query = \"非暴力沟通的第一个要素是什么？\"\n",
    "response = query_engine.query(query)\n",
    "print(response)"
   ]
  }
 ],
 "metadata": {
  "kernelspec": {
   "display_name": "readai-vv5wOT8E-py3.10",
   "language": "python",
   "name": "python3"
  },
  "language_info": {
   "codemirror_mode": {
    "name": "ipython",
    "version": 3
   },
   "file_extension": ".py",
   "mimetype": "text/x-python",
   "name": "python",
   "nbconvert_exporter": "python",
   "pygments_lexer": "ipython3",
   "version": "3.10.16"
  }
 },
 "nbformat": 4,
 "nbformat_minor": 2
}

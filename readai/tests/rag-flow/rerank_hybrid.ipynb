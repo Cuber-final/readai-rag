{
 "cells": [
  {
   "cell_type": "markdown",
   "metadata": {},
   "source": [
    "实现结合了rarank策略的优化，使用rerank model重排序"
   ]
  },
  {
   "cell_type": "code",
   "execution_count": 14,
   "metadata": {},
   "outputs": [],
   "source": [
    "import nest_asyncio\n",
    "\n",
    "nest_asyncio.apply()\n",
    "from llama_index.core.query_engine import RetrieverQueryEngine\n",
    "from llama_index.core.response.notebook_utils import display_source_node"
   ]
  },
  {
   "cell_type": "code",
   "execution_count": 15,
   "metadata": {},
   "outputs": [],
   "source": [
    "from readai.components.retrievers import BM25Retriever\n",
    "from llama_index.core.retrievers import RecursiveRetriever\n",
    "from llama_index.core.retrievers import QueryFusionRetriever"
   ]
  },
  {
   "cell_type": "code",
   "execution_count": 16,
   "metadata": {},
   "outputs": [],
   "source": [
    "# 加载.env文件\n",
    "import os\n",
    "from pathlib import Path\n",
    "\n",
    "from dotenv import load_dotenv\n",
    "\n",
    "load_dotenv()\n",
    "\n",
    "# 获取项目根目录路径\n",
    "project_root = Path(os.getenv(\"PROJECT_ROOT\"))\n",
    "test_data_path = project_root / \"readai/tests/data\""
   ]
  },
  {
   "cell_type": "code",
   "execution_count": 17,
   "metadata": {},
   "outputs": [],
   "source": [
    "from llama_index.embeddings.ollama import OllamaEmbedding\n",
    "from llama_index.llms.deepseek import DeepSeek\n",
    "\n",
    "api_key = os.getenv(\"DEEPSEEK_API_KEY\")\n",
    "model_name = os.getenv(\"DEEPSEEK_MODEL\")\n",
    "embed_model = OllamaEmbedding(\n",
    "    model_name=\"quentinz/bge-large-zh-v1.5\", base_url=\"http://localhost:11434\"\n",
    ")\n",
    "\n",
    "# 设置 LLM\n",
    "llm = DeepSeek(model=model_name, api_key=api_key)"
   ]
  },
  {
   "cell_type": "code",
   "execution_count": 18,
   "metadata": {},
   "outputs": [],
   "source": [
    "from llama_index.core.indices import load_index_from_storage\n",
    "from llama_index.core.indices.vector_store.base import VectorStoreIndex\n",
    "from llama_index.core.storage.storage_context import StorageContext\n",
    "from llama_index.vector_stores.qdrant import QdrantVectorStore\n",
    "from qdrant_client import AsyncQdrantClient, QdrantClient\n",
    "\n",
    "client = QdrantClient(url=\"http://localhost:6333\")\n",
    "aclient = AsyncQdrantClient(url=\"http://localhost:6333\")"
   ]
  },
  {
   "cell_type": "markdown",
   "metadata": {},
   "source": [
    "加载本地indexstroe,docstore，还有向量库数据"
   ]
  },
  {
   "cell_type": "code",
   "execution_count": 19,
   "metadata": {},
   "outputs": [],
   "source": [
    "collection_name = \"hybrid_nodes\"\n",
    "persist_dir = test_data_path / collection_name"
   ]
  },
  {
   "cell_type": "code",
   "execution_count": 20,
   "metadata": {},
   "outputs": [],
   "source": [
    "vector_store_base = QdrantVectorStore(\n",
    "    client=client,\n",
    "    aclient=aclient,\n",
    "    collection_name=collection_name,\n",
    ")"
   ]
  },
  {
   "cell_type": "code",
   "execution_count": 21,
   "metadata": {},
   "outputs": [
    {
     "name": "stdout",
     "output_type": "stream",
     "text": [
      "collection_name: 'hybrid_nodes' 已存在\n",
      "加载向量完成\n"
     ]
    }
   ],
   "source": [
    "hybrid_index = None\n",
    "if client.collection_exists(collection_name):\n",
    "    print(f\"collection_name: '{collection_name}' 已存在\")\n",
    "    # 从本地加载storage_context\n",
    "    storage_context = StorageContext.from_defaults(\n",
    "        persist_dir=persist_dir, vector_store=vector_store_base\n",
    "    )\n",
    "    hybrid_index = load_index_from_storage(\n",
    "        storage_context, llm=llm, embed_model=embed_model\n",
    "    )\n",
    "    print(\"加载向量完成\")\n",
    "else:\n",
    "    print(f\"collection_name: '{collection_name}' 不存在\")"
   ]
  },
  {
   "cell_type": "code",
   "execution_count": 22,
   "metadata": {},
   "outputs": [],
   "source": [
    "# 获取docs字典\n",
    "# hybrid_all_nodes_dict = hybrid_index.storage_context.docstore.docs"
   ]
  },
  {
   "cell_type": "markdown",
   "metadata": {},
   "source": [
    "创建检索器"
   ]
  },
  {
   "cell_type": "code",
   "execution_count": 23,
   "metadata": {},
   "outputs": [
    {
     "name": "stderr",
     "output_type": "stream",
     "text": [
      "Building prefix dict from the default dictionary ...\n",
      "Loading model from cache /var/folders/70/hwlr8qxx6g751fyxb33mcys40000gn/T/jieba.cache\n",
      "Loading model cost 0.265 seconds.\n",
      "Prefix dict has been built successfully.\n"
     ]
    },
    {
     "name": "stdout",
     "output_type": "stream",
     "text": [
      "1396\n"
     ]
    }
   ],
   "source": [
    "import jieba\n",
    "\n",
    "stop_words_path = project_root / \"readai/utils/baidu_stopwords.txt\"\n",
    "custom_tokenizer = jieba.Tokenizer()\n",
    "custom_tokenizer.load_userdict(str(stop_words_path))\n",
    "# 加载stop_words为字符串列表\n",
    "with open(stop_words_path) as f:\n",
    "    stop_words = f.readlines()\n",
    "\n",
    "stop_words = set(stop_words)\n",
    "print(len(stop_words))"
   ]
  },
  {
   "cell_type": "code",
   "execution_count": 60,
   "metadata": {},
   "outputs": [],
   "source": [
    "bm25_retriever = BM25Retriever.from_defaults(\n",
    "    index=hybrid_index,\n",
    "    similarity_top_k=5,\n",
    "    tokenizer=custom_tokenizer,\n",
    "    stopwords=stop_words,\n",
    ")"
   ]
  },
  {
   "cell_type": "code",
   "execution_count": 62,
   "metadata": {},
   "outputs": [],
   "source": [
    "vector_retriever = hybrid_index.as_retriever(similarity_top_k=5)\n",
    "small2big_retriever = RecursiveRetriever(\n",
    "    \"vector\",\n",
    "    retriever_dict={\"vector\": vector_retriever},\n",
    "    node_dict=hybrid_index.docstore.docs,\n",
    "    verbose=True,\n",
    ")"
   ]
  },
  {
   "cell_type": "code",
   "execution_count": 26,
   "metadata": {},
   "outputs": [],
   "source": [
    "# 获取向量召回结果\n",
    "# dense_nodes = small2big_retriever.retrieve(\n",
    "#     \"在日常交流中，我们如何区分客观的观察和主观的评价？\"\n",
    "# )"
   ]
  },
  {
   "cell_type": "code",
   "execution_count": 27,
   "metadata": {},
   "outputs": [],
   "source": [
    "# print(\"召回数量\", len(dense_nodes))\n",
    "# for chunk_node in dense_nodes:\n",
    "#     display_source_node(chunk_node, source_length=1500)\n"
   ]
  },
  {
   "cell_type": "markdown",
   "metadata": {},
   "source": [
    "Hybrid 检索"
   ]
  },
  {
   "cell_type": "code",
   "execution_count": 28,
   "metadata": {},
   "outputs": [],
   "source": [
    "from enum import Enum\n",
    "\n",
    "\n",
    "class FUSION_MODES(str, Enum):\n",
    "    \"\"\"Enum for different fusion modes.\"\"\"\n",
    "\n",
    "    RECIPROCAL_RANK = \"reciprocal_rerank\"  # apply reciprocal rank fusion\n",
    "    RELATIVE_SCORE = \"relative_score\"  # apply relative score fusion\n",
    "    DIST_BASED_SCORE = \"dist_based_score\"  # apply distance-based score fusion\n",
    "    SIMPLE = \"simple\"  # simple re-ordering of results based on original scores"
   ]
  },
  {
   "cell_type": "code",
   "execution_count": 69,
   "metadata": {},
   "outputs": [],
   "source": [
    "QUERY_GEN_PROMPT_ZH = (\n",
    "    \"You are a helpful assistant that generates multiple search queries based on a \"\n",
    "    \"single input query. Generate {num_queries} search queries in Chinese, one on each line, \"\n",
    "    \"related to the following input query:\\n\"\n",
    "    \"Query: {query}\\n\"\n",
    "    \"Queries:\\n\"\n",
    ")"
   ]
  },
  {
   "cell_type": "code",
   "execution_count": 70,
   "metadata": {},
   "outputs": [],
   "source": [
    "fusion_retriever = QueryFusionRetriever(\n",
    "    retrievers=[small2big_retriever, bm25_retriever],\n",
    "    # retriever_weights=[0.5, 0.5],\n",
    "    mode=FUSION_MODES.RECIPROCAL_RANK,\n",
    "    verbose=True,\n",
    "    similarity_top_k=10,\n",
    "    llm=llm,\n",
    "    num_queries=2,  # 不需要查询扩展,查询重写\n",
    "    query_gen_prompt=QUERY_GEN_PROMPT_ZH,\n",
    ")\n"
   ]
  },
  {
   "cell_type": "markdown",
   "metadata": {},
   "source": [
    "Evaluation"
   ]
  },
  {
   "cell_type": "code",
   "execution_count": 30,
   "metadata": {},
   "outputs": [],
   "source": [
    "from llama_index.core.evaluation import (\n",
    "    EmbeddingQAFinetuneDataset,\n",
    "    RetrieverEvaluator,\n",
    ")\n",
    "\n",
    "# 从本地加载测试集\n",
    "eval_dataset_from_hybrid_nodes_50 = EmbeddingQAFinetuneDataset.from_json(\n",
    "    \"test_qa_datasets.json\",\n",
    ")"
   ]
  },
  {
   "cell_type": "code",
   "execution_count": 71,
   "metadata": {},
   "outputs": [
    {
     "name": "stdout",
     "output_type": "stream",
     "text": [
      "Generated queries:\n",
      "1. 第一对夫妻如何成功挽救婚姻避免离婚？\n",
      "Generated queries:\n",
      "1. 第二对夫妻最初是如何表达彼此的需求的？\n",
      "\u001b[1;3;34mRetrieving with query id None: 第一对夫妻通过什么方式避免了离婚？\n",
      "\u001b[0m"
     ]
    },
    {
     "name": "stderr",
     "output_type": "stream",
     "text": [
      "\u001b[32m2025-04-09 15:46:14.110\u001b[0m | \u001b[33m\u001b[1mWARNING \u001b[0m | \u001b[36mreadai.components.retrievers\u001b[0m:\u001b[36m_retrieve\u001b[0m:\u001b[36m553\u001b[0m - \u001b[33m\u001b[1mBM25Retriever does not support embeddings, skipping...\u001b[0m\n",
      "\u001b[32m2025-04-09 15:46:14.190\u001b[0m | \u001b[33m\u001b[1mWARNING \u001b[0m | \u001b[36mreadai.components.retrievers\u001b[0m:\u001b[36m_retrieve\u001b[0m:\u001b[36m553\u001b[0m - \u001b[33m\u001b[1mBM25Retriever does not support embeddings, skipping...\u001b[0m\n",
      "\u001b[32m2025-04-09 15:46:14.234\u001b[0m | \u001b[33m\u001b[1mWARNING \u001b[0m | \u001b[36mreadai.components.retrievers\u001b[0m:\u001b[36m_retrieve\u001b[0m:\u001b[36m553\u001b[0m - \u001b[33m\u001b[1mBM25Retriever does not support embeddings, skipping...\u001b[0m\n",
      "\u001b[32m2025-04-09 15:46:14.282\u001b[0m | \u001b[33m\u001b[1mWARNING \u001b[0m | \u001b[36mreadai.components.retrievers\u001b[0m:\u001b[36m_retrieve\u001b[0m:\u001b[36m553\u001b[0m - \u001b[33m\u001b[1mBM25Retriever does not support embeddings, skipping...\u001b[0m\n"
     ]
    },
    {
     "name": "stdout",
     "output_type": "stream",
     "text": [
      "\u001b[1;3;38;5;200mRetrieved node with id, entering: 69ae5f8e-3282-4aff-ab27-c70f849acead\n",
      "\u001b[0m\u001b[1;3;34mRetrieving with query id 69ae5f8e-3282-4aff-ab27-c70f849acead: 第一对夫妻通过什么方式避免了离婚？\n",
      "\u001b[0m\u001b[1;3;38;5;200mRetrieved node with id, entering: f2932829-0d06-48d4-bdd6-05309f04664a\n",
      "\u001b[0m\u001b[1;3;34mRetrieving with query id f2932829-0d06-48d4-bdd6-05309f04664a: 第一对夫妻通过什么方式避免了离婚？\n",
      "\u001b[0m\u001b[1;3;38;5;200mRetrieved node with id, entering: a2f5016c-6ee4-4cbb-add4-7292ea02877d\n",
      "\u001b[0m\u001b[1;3;34mRetrieving with query id a2f5016c-6ee4-4cbb-add4-7292ea02877d: 第一对夫妻通过什么方式避免了离婚？\n",
      "\u001b[0m\u001b[1;3;34mRetrieving with query id None: 1. 第一对夫妻如何成功挽救婚姻避免离婚？\n",
      "\u001b[0m\u001b[1;3;38;5;200mRetrieved node with id, entering: 69ae5f8e-3282-4aff-ab27-c70f849acead\n",
      "\u001b[0m\u001b[1;3;34mRetrieving with query id 69ae5f8e-3282-4aff-ab27-c70f849acead: 1. 第一对夫妻如何成功挽救婚姻避免离婚？\n",
      "\u001b[0m\u001b[1;3;38;5;200mRetrieved node with id, entering: a2f5016c-6ee4-4cbb-add4-7292ea02877d\n",
      "\u001b[0m\u001b[1;3;34mRetrieving with query id a2f5016c-6ee4-4cbb-add4-7292ea02877d: 1. 第一对夫妻如何成功挽救婚姻避免离婚？\n",
      "\u001b[0m\u001b[1;3;34mRetrieving with query id None: 第二对夫妻最初如何表达“需要”？\n",
      "\u001b[0m\u001b[1;3;38;5;200mRetrieved node with id, entering: a2f5016c-6ee4-4cbb-add4-7292ea02877d\n",
      "\u001b[0m\u001b[1;3;34mRetrieving with query id a2f5016c-6ee4-4cbb-add4-7292ea02877d: 第二对夫妻最初如何表达“需要”？\n",
      "\u001b[0m\u001b[1;3;38;5;200mRetrieved node with id, entering: f579121b-f157-4233-b2f2-8201c024d73c\n",
      "\u001b[0m\u001b[1;3;34mRetrieving with query id f579121b-f157-4233-b2f2-8201c024d73c: 第二对夫妻最初如何表达“需要”？\n",
      "\u001b[0m\u001b[1;3;38;5;200mRetrieved node with id, entering: c327e5b0-320f-4e6c-a67d-609d6b16da68\n",
      "\u001b[0m\u001b[1;3;34mRetrieving with query id c327e5b0-320f-4e6c-a67d-609d6b16da68: 第二对夫妻最初如何表达“需要”？\n",
      "\u001b[0m\u001b[1;3;38;5;200mRetrieved node with id, entering: 7e01fa91-617f-4652-b129-db38a5bcf3e2\n",
      "\u001b[0m\u001b[1;3;34mRetrieving with query id 7e01fa91-617f-4652-b129-db38a5bcf3e2: 第二对夫妻最初如何表达“需要”？\n",
      "\u001b[0m\u001b[1;3;34mRetrieving with query id None: 1. 第二对夫妻最初是如何表达彼此的需求的？\n",
      "\u001b[0m\u001b[1;3;38;5;200mRetrieved node with id, entering: a2f5016c-6ee4-4cbb-add4-7292ea02877d\n",
      "\u001b[0m\u001b[1;3;34mRetrieving with query id a2f5016c-6ee4-4cbb-add4-7292ea02877d: 1. 第二对夫妻最初是如何表达彼此的需求的？\n",
      "\u001b[0m\u001b[1;3;38;5;200mRetrieved node with id, entering: 7e01fa91-617f-4652-b129-db38a5bcf3e2\n",
      "\u001b[0m\u001b[1;3;34mRetrieving with query id 7e01fa91-617f-4652-b129-db38a5bcf3e2: 1. 第二对夫妻最初是如何表达彼此的需求的？\n",
      "\u001b[0mGenerated queries:\n",
      "1. 非暴力沟通中愤怒情绪的处理方法有哪些？\n"
     ]
    },
    {
     "name": "stderr",
     "output_type": "stream",
     "text": [
      "\u001b[32m2025-04-09 15:46:25.149\u001b[0m | \u001b[33m\u001b[1mWARNING \u001b[0m | \u001b[36mreadai.components.retrievers\u001b[0m:\u001b[36m_retrieve\u001b[0m:\u001b[36m553\u001b[0m - \u001b[33m\u001b[1mBM25Retriever does not support embeddings, skipping...\u001b[0m\n",
      "\u001b[32m2025-04-09 15:46:25.199\u001b[0m | \u001b[33m\u001b[1mWARNING \u001b[0m | \u001b[36mreadai.components.retrievers\u001b[0m:\u001b[36m_retrieve\u001b[0m:\u001b[36m553\u001b[0m - \u001b[33m\u001b[1mBM25Retriever does not support embeddings, skipping...\u001b[0m\n",
      "\u001b[32m2025-04-09 15:46:25.251\u001b[0m | \u001b[33m\u001b[1mWARNING \u001b[0m | \u001b[36mreadai.components.retrievers\u001b[0m:\u001b[36m_retrieve\u001b[0m:\u001b[36m553\u001b[0m - \u001b[33m\u001b[1mBM25Retriever does not support embeddings, skipping...\u001b[0m\n"
     ]
    },
    {
     "name": "stdout",
     "output_type": "stream",
     "text": [
      "Generated queries:\n",
      "1. 愤怒的心理学根源有哪些？\n",
      "2. 愤怒情绪产生的生理机制是什么？\n",
      "3. 如何从社会学角度理解愤怒的成因？\n",
      "4. 愤怒与童年经历的关系研究\n",
      "5. 文化差异对愤怒表达的影响\n",
      "\u001b[1;3;34mRetrieving with query id None: 非暴力沟通如何看待愤怒？\n",
      "\u001b[0m\u001b[1;3;38;5;200mRetrieved node with id, entering: a8f63fdd-3893-4761-be42-114957027a8b\n",
      "\u001b[0m\u001b[1;3;34mRetrieving with query id a8f63fdd-3893-4761-be42-114957027a8b: 非暴力沟通如何看待愤怒？\n",
      "\u001b[0m\u001b[1;3;38;5;200mRetrieved node with id, entering: 5508cb82-2abe-44f0-b9f1-72c5202c14d2\n",
      "\u001b[0m\u001b[1;3;34mRetrieving with query id 5508cb82-2abe-44f0-b9f1-72c5202c14d2: 非暴力沟通如何看待愤怒？\n",
      "\u001b[0m\u001b[1;3;34mRetrieving with query id None: 1. 非暴力沟通中愤怒情绪的处理方法有哪些？\n",
      "\u001b[0m\u001b[1;3;38;5;200mRetrieved node with id, entering: 5508cb82-2abe-44f0-b9f1-72c5202c14d2\n",
      "\u001b[0m\u001b[1;3;34mRetrieving with query id 5508cb82-2abe-44f0-b9f1-72c5202c14d2: 1. 非暴力沟通中愤怒情绪的处理方法有哪些？\n",
      "\u001b[0m\u001b[1;3;38;5;200mRetrieved node with id, entering: 794e0320-1392-4339-a80c-009435c45f6d\n",
      "\u001b[0m\u001b[1;3;34mRetrieving with query id 794e0320-1392-4339-a80c-009435c45f6d: 1. 非暴力沟通中愤怒情绪的处理方法有哪些？\n",
      "\u001b[0m\u001b[1;3;34mRetrieving with query id None: 愤怒的根本原因是什么？\n",
      "\u001b[0m\u001b[1;3;38;5;200mRetrieved node with id, entering: a8f63fdd-3893-4761-be42-114957027a8b\n",
      "\u001b[0m\u001b[1;3;34mRetrieving with query id a8f63fdd-3893-4761-be42-114957027a8b: 愤怒的根本原因是什么？\n",
      "\u001b[0m\u001b[1;3;38;5;200mRetrieved node with id, entering: 6d70940f-2516-4102-a5b4-fca469925da8\n",
      "\u001b[0m\u001b[1;3;34mRetrieving with query id 6d70940f-2516-4102-a5b4-fca469925da8: 愤怒的根本原因是什么？\n",
      "\u001b[0m\u001b[1;3;34mRetrieving with query id None: 1. 愤怒的心理学根源有哪些？\n",
      "\u001b[0m"
     ]
    },
    {
     "name": "stderr",
     "output_type": "stream",
     "text": [
      "\u001b[32m2025-04-09 15:46:25.298\u001b[0m | \u001b[33m\u001b[1mWARNING \u001b[0m | \u001b[36mreadai.components.retrievers\u001b[0m:\u001b[36m_retrieve\u001b[0m:\u001b[36m553\u001b[0m - \u001b[33m\u001b[1mBM25Retriever does not support embeddings, skipping...\u001b[0m\n"
     ]
    },
    {
     "name": "stdout",
     "output_type": "stream",
     "text": [
      "\u001b[1;3;38;5;200mRetrieved node with id, entering: 5e0aabca-dff2-4bb6-b210-c6c4e232a086\n",
      "\u001b[0m\u001b[1;3;34mRetrieving with query id 5e0aabca-dff2-4bb6-b210-c6c4e232a086: 1. 愤怒的心理学根源有哪些？\n",
      "\u001b[0m\u001b[1;3;38;5;200mRetrieved node with id, entering: a8f63fdd-3893-4761-be42-114957027a8b\n",
      "\u001b[0m\u001b[1;3;34mRetrieving with query id a8f63fdd-3893-4761-be42-114957027a8b: 1. 愤怒的心理学根源有哪些？\n",
      "\u001b[0mGenerated queries:\n",
      "1. 非暴力沟通的第二要素具体内容是什么？\n"
     ]
    },
    {
     "name": "stderr",
     "output_type": "stream",
     "text": [
      "\u001b[32m2025-04-09 15:46:34.238\u001b[0m | \u001b[33m\u001b[1mWARNING \u001b[0m | \u001b[36mreadai.components.retrievers\u001b[0m:\u001b[36m_retrieve\u001b[0m:\u001b[36m553\u001b[0m - \u001b[33m\u001b[1mBM25Retriever does not support embeddings, skipping...\u001b[0m\n",
      "\u001b[32m2025-04-09 15:46:34.286\u001b[0m | \u001b[33m\u001b[1mWARNING \u001b[0m | \u001b[36mreadai.components.retrievers\u001b[0m:\u001b[36m_retrieve\u001b[0m:\u001b[36m553\u001b[0m - \u001b[33m\u001b[1mBM25Retriever does not support embeddings, skipping...\u001b[0m\n",
      "\u001b[32m2025-04-09 15:46:34.334\u001b[0m | \u001b[33m\u001b[1mWARNING \u001b[0m | \u001b[36mreadai.components.retrievers\u001b[0m:\u001b[36m_retrieve\u001b[0m:\u001b[36m553\u001b[0m - \u001b[33m\u001b[1mBM25Retriever does not support embeddings, skipping...\u001b[0m\n"
     ]
    },
    {
     "name": "stdout",
     "output_type": "stream",
     "text": [
      "Generated queries:\n",
      "1. \"欣喜若狂\"用英语怎么说？\n",
      "\u001b[1;3;34mRetrieving with query id None: 非暴力沟通的第二要素是？\n",
      "\u001b[0m\u001b[1;3;38;5;200mRetrieved node with id, entering: 131094ea-58d6-4e8b-9010-29dd7d0f2e97\n",
      "\u001b[0m\u001b[1;3;34mRetrieving with query id 131094ea-58d6-4e8b-9010-29dd7d0f2e97: 非暴力沟通的第二要素是？\n",
      "\u001b[0m\u001b[1;3;38;5;200mRetrieved node with id, entering: 268fc4c6-0d99-4363-b503-75330fc2d7e0\n",
      "\u001b[0m\u001b[1;3;34mRetrieving with query id 268fc4c6-0d99-4363-b503-75330fc2d7e0: 非暴力沟通的第二要素是？\n",
      "\u001b[0m\u001b[1;3;38;5;200mRetrieved node with id, entering: ee702fc3-685b-442b-9f5a-84fe20693636\n",
      "\u001b[0m\u001b[1;3;34mRetrieving with query id ee702fc3-685b-442b-9f5a-84fe20693636: 非暴力沟通的第二要素是？\n",
      "\u001b[0m\u001b[1;3;34mRetrieving with query id None: 1. 非暴力沟通的第二要素具体内容是什么？\n",
      "\u001b[0m\u001b[1;3;38;5;200mRetrieved node with id, entering: 131094ea-58d6-4e8b-9010-29dd7d0f2e97\n",
      "\u001b[0m\u001b[1;3;34mRetrieving with query id 131094ea-58d6-4e8b-9010-29dd7d0f2e97: 1. 非暴力沟通的第二要素具体内容是什么？\n",
      "\u001b[0m\u001b[1;3;38;5;200mRetrieved node with id, entering: 198eaf12-aab4-43ba-b95c-f9dd4579adb9\n",
      "\u001b[0m\u001b[1;3;34mRetrieving with query id 198eaf12-aab4-43ba-b95c-f9dd4579adb9: 1. 非暴力沟通的第二要素具体内容是什么？\n",
      "\u001b[0m\u001b[1;3;38;5;200mRetrieved node with id, entering: ee702fc3-685b-442b-9f5a-84fe20693636\n",
      "\u001b[0m\u001b[1;3;34mRetrieving with query id ee702fc3-685b-442b-9f5a-84fe20693636: 1. 非暴力沟通的第二要素具体内容是什么？\n",
      "\u001b[0m\u001b[1;3;34mRetrieving with query id None: 欣喜若狂对应的英文是？\n",
      "\u001b[0m\u001b[1;3;38;5;200mRetrieved node with id, entering: 90c1aad1-9c02-484b-8480-411776483cd4\n",
      "\u001b[0m\u001b[1;3;34mRetrieving with query id 90c1aad1-9c02-484b-8480-411776483cd4: 欣喜若狂对应的英文是？\n",
      "\u001b[0m\u001b[1;3;38;5;200mRetrieved node with id, entering: 49d2369e-47c8-4f2a-9611-2ef265d58a5d\n",
      "\u001b[0m\u001b[1;3;34mRetrieving with query id 49d2369e-47c8-4f2a-9611-2ef265d58a5d: 欣喜若狂对应的英文是？\n",
      "\u001b[0m\u001b[1;3;34mRetrieving with query id None: 1. \"欣喜若狂\"用英语怎么说？\n",
      "\u001b[0m"
     ]
    },
    {
     "name": "stderr",
     "output_type": "stream",
     "text": [
      "\u001b[32m2025-04-09 15:46:34.381\u001b[0m | \u001b[33m\u001b[1mWARNING \u001b[0m | \u001b[36mreadai.components.retrievers\u001b[0m:\u001b[36m_retrieve\u001b[0m:\u001b[36m553\u001b[0m - \u001b[33m\u001b[1mBM25Retriever does not support embeddings, skipping...\u001b[0m\n"
     ]
    },
    {
     "name": "stdout",
     "output_type": "stream",
     "text": [
      "\u001b[1;3;38;5;200mRetrieved node with id, entering: 90c1aad1-9c02-484b-8480-411776483cd4\n",
      "\u001b[0m\u001b[1;3;34mRetrieving with query id 90c1aad1-9c02-484b-8480-411776483cd4: 1. \"欣喜若狂\"用英语怎么说？\n",
      "\u001b[0m\u001b[1;3;38;5;200mRetrieved node with id, entering: 49d2369e-47c8-4f2a-9611-2ef265d58a5d\n",
      "\u001b[0m\u001b[1;3;34mRetrieving with query id 49d2369e-47c8-4f2a-9611-2ef265d58a5d: 1. \"欣喜若狂\"用英语怎么说？\n",
      "\u001b[0mGenerated queries:\n",
      "1. 病人被诊断出什么疾病的具体症状是什么？\n",
      "2. 病人被诊断的疾病有哪些治疗方法？\n",
      "3. 病人被诊断的疾病是否常见？\n"
     ]
    },
    {
     "name": "stderr",
     "output_type": "stream",
     "text": [
      "\u001b[32m2025-04-09 15:46:47.097\u001b[0m | \u001b[33m\u001b[1mWARNING \u001b[0m | \u001b[36mreadai.components.retrievers\u001b[0m:\u001b[36m_retrieve\u001b[0m:\u001b[36m553\u001b[0m - \u001b[33m\u001b[1mBM25Retriever does not support embeddings, skipping...\u001b[0m\n",
      "\u001b[32m2025-04-09 15:46:47.142\u001b[0m | \u001b[33m\u001b[1mWARNING \u001b[0m | \u001b[36mreadai.components.retrievers\u001b[0m:\u001b[36m_retrieve\u001b[0m:\u001b[36m553\u001b[0m - \u001b[33m\u001b[1mBM25Retriever does not support embeddings, skipping...\u001b[0m\n",
      "\u001b[32m2025-04-09 15:46:47.187\u001b[0m | \u001b[33m\u001b[1mWARNING \u001b[0m | \u001b[36mreadai.components.retrievers\u001b[0m:\u001b[36m_retrieve\u001b[0m:\u001b[36m553\u001b[0m - \u001b[33m\u001b[1mBM25Retriever does not support embeddings, skipping...\u001b[0m\n"
     ]
    },
    {
     "name": "stdout",
     "output_type": "stream",
     "text": [
      "Generated queries:\n",
      "1. 作者在书中展示了哪些有效的沟通技巧？\n",
      "2. 如何运用作者提到的沟通方法改善人际关系？\n",
      "3. 作者推荐的沟通策略有哪些实际案例？\n",
      "4. 这本书中的沟通方法与经典理论（如非暴力沟通）有何异同？\n",
      "5. 作者示范的沟通技巧是否适用于职场场景？\n",
      "\u001b[1;3;34mRetrieving with query id None: 病人被诊断为什么病？\n",
      "\u001b[0m\u001b[1;3;38;5;200mRetrieved node with id, entering: fc5fb51d-24f4-451e-93c2-bd8c9863a608\n",
      "\u001b[0m\u001b[1;3;34mRetrieving with query id fc5fb51d-24f4-451e-93c2-bd8c9863a608: 病人被诊断为什么病？\n",
      "\u001b[0m\u001b[1;3;34mRetrieving with query id None: 1. 病人被诊断出什么疾病的具体症状是什么？\n",
      "\u001b[0m\u001b[1;3;38;5;200mRetrieved node with id, entering: fc5fb51d-24f4-451e-93c2-bd8c9863a608\n",
      "\u001b[0m\u001b[1;3;34mRetrieving with query id fc5fb51d-24f4-451e-93c2-bd8c9863a608: 1. 病人被诊断出什么疾病的具体症状是什么？\n",
      "\u001b[0m\u001b[1;3;38;5;200mRetrieved node with id, entering: f9ea8138-a889-456c-8ea6-7d8bf7563771\n",
      "\u001b[0m\u001b[1;3;34mRetrieving with query id f9ea8138-a889-456c-8ea6-7d8bf7563771: 1. 病人被诊断出什么疾病的具体症状是什么？\n",
      "\u001b[0m\u001b[1;3;38;5;200mRetrieved node with id, entering: 1d9b4cb4-fce3-40c1-8e5b-bd457d1ecc60\n",
      "\u001b[0m\u001b[1;3;34mRetrieving with query id 1d9b4cb4-fce3-40c1-8e5b-bd457d1ecc60: 1. 病人被诊断出什么疾病的具体症状是什么？\n",
      "\u001b[0m\u001b[1;3;34mRetrieving with query id None: 作者示范了什么沟通方法？\n",
      "\u001b[0m\u001b[1;3;38;5;200mRetrieved node with id, entering: 198eaf12-aab4-43ba-b95c-f9dd4579adb9\n",
      "\u001b[0m\u001b[1;3;34mRetrieving with query id 198eaf12-aab4-43ba-b95c-f9dd4579adb9: 作者示范了什么沟通方法？\n",
      "\u001b[0m\u001b[1;3;38;5;200mRetrieved node with id, entering: 8ecf6729-0ff8-4b3f-9bc1-042d515a8769\n",
      "\u001b[0m\u001b[1;3;34mRetrieving with query id 8ecf6729-0ff8-4b3f-9bc1-042d515a8769: 作者示范了什么沟通方法？\n",
      "\u001b[0m\u001b[1;3;38;5;200mRetrieved node with id, entering: 005ec9b0-fcaf-4ac7-abac-af136cffd927\n",
      "\u001b[0m\u001b[1;3;34mRetrieving with query id 005ec9b0-fcaf-4ac7-abac-af136cffd927: 作者示范了什么沟通方法？\n",
      "\u001b[0m\u001b[1;3;34mRetrieving with query id None: 1. 作者在书中展示了哪些有效的沟通技巧？\n",
      "\u001b[0m"
     ]
    },
    {
     "name": "stderr",
     "output_type": "stream",
     "text": [
      "\u001b[32m2025-04-09 15:46:47.229\u001b[0m | \u001b[33m\u001b[1mWARNING \u001b[0m | \u001b[36mreadai.components.retrievers\u001b[0m:\u001b[36m_retrieve\u001b[0m:\u001b[36m553\u001b[0m - \u001b[33m\u001b[1mBM25Retriever does not support embeddings, skipping...\u001b[0m\n"
     ]
    },
    {
     "name": "stdout",
     "output_type": "stream",
     "text": [
      "\u001b[1;3;38;5;200mRetrieved node with id, entering: 198eaf12-aab4-43ba-b95c-f9dd4579adb9\n",
      "\u001b[0m\u001b[1;3;34mRetrieving with query id 198eaf12-aab4-43ba-b95c-f9dd4579adb9: 1. 作者在书中展示了哪些有效的沟通技巧？\n",
      "\u001b[0m\u001b[1;3;38;5;200mRetrieved node with id, entering: 8ecf6729-0ff8-4b3f-9bc1-042d515a8769\n",
      "\u001b[0m\u001b[1;3;34mRetrieving with query id 8ecf6729-0ff8-4b3f-9bc1-042d515a8769: 1. 作者在书中展示了哪些有效的沟通技巧？\n",
      "\u001b[0m\u001b[1;3;38;5;200mRetrieved node with id, entering: 57af29f0-d5e6-413e-ac3b-425af8b634ff\n",
      "\u001b[0m\u001b[1;3;34mRetrieving with query id 57af29f0-d5e6-413e-ac3b-425af8b634ff: 1. 作者在书中展示了哪些有效的沟通技巧？\n",
      "\u001b[0m\u001b[1;3;38;5;200mRetrieved node with id, entering: ecf04b61-fd74-4e7d-a44a-5ac13a8d5003\n",
      "\u001b[0m\u001b[1;3;34mRetrieving with query id ecf04b61-fd74-4e7d-a44a-5ac13a8d5003: 1. 作者在书中展示了哪些有效的沟通技巧？\n",
      "\u001b[0mGenerated queries:\n",
      "1. 社会对女性形象的刻板印象有哪些？\n"
     ]
    },
    {
     "name": "stderr",
     "output_type": "stream",
     "text": [
      "\u001b[32m2025-04-09 15:46:58.215\u001b[0m | \u001b[33m\u001b[1mWARNING \u001b[0m | \u001b[36mreadai.components.retrievers\u001b[0m:\u001b[36m_retrieve\u001b[0m:\u001b[36m553\u001b[0m - \u001b[33m\u001b[1mBM25Retriever does not support embeddings, skipping...\u001b[0m\n",
      "\u001b[32m2025-04-09 15:46:58.265\u001b[0m | \u001b[33m\u001b[1mWARNING \u001b[0m | \u001b[36mreadai.components.retrievers\u001b[0m:\u001b[36m_retrieve\u001b[0m:\u001b[36m553\u001b[0m - \u001b[33m\u001b[1mBM25Retriever does not support embeddings, skipping...\u001b[0m\n",
      "\u001b[32m2025-04-09 15:46:58.314\u001b[0m | \u001b[33m\u001b[1mWARNING \u001b[0m | \u001b[36mreadai.components.retrievers\u001b[0m:\u001b[36m_retrieve\u001b[0m:\u001b[36m553\u001b[0m - \u001b[33m\u001b[1mBM25Retriever does not support embeddings, skipping...\u001b[0m\n"
     ]
    },
    {
     "name": "stdout",
     "output_type": "stream",
     "text": [
      "Generated queries:\n",
      "1. 情绪自由的三个阶段具体指什么？\n",
      "\u001b[1;3;34mRetrieving with query id None: 女性常被社会塑造成什么形象？\n",
      "\u001b[0m\u001b[1;3;38;5;200mRetrieved node with id, entering: 78c9b482-6f22-4191-a715-b50155bed031\n",
      "\u001b[0m\u001b[1;3;34mRetrieving with query id 78c9b482-6f22-4191-a715-b50155bed031: 女性常被社会塑造成什么形象？\n",
      "\u001b[0m\u001b[1;3;38;5;200mRetrieved node with id, entering: 76464874-621e-4731-9dc1-895a1a6760a3\n",
      "\u001b[0m\u001b[1;3;34mRetrieving with query id 76464874-621e-4731-9dc1-895a1a6760a3: 女性常被社会塑造成什么形象？\n",
      "\u001b[0m\u001b[1;3;34mRetrieving with query id None: 1. 社会对女性形象的刻板印象有哪些？\n",
      "\u001b[0m\u001b[1;3;38;5;200mRetrieved node with id, entering: 78c9b482-6f22-4191-a715-b50155bed031\n",
      "\u001b[0m\u001b[1;3;34mRetrieving with query id 78c9b482-6f22-4191-a715-b50155bed031: 1. 社会对女性形象的刻板印象有哪些？\n",
      "\u001b[0m\u001b[1;3;38;5;200mRetrieved node with id, entering: 76464874-621e-4731-9dc1-895a1a6760a3\n",
      "\u001b[0m\u001b[1;3;34mRetrieving with query id 76464874-621e-4731-9dc1-895a1a6760a3: 1. 社会对女性形象的刻板印象有哪些？\n",
      "\u001b[0m\u001b[1;3;38;5;200mRetrieved node with id, entering: 5e8705e5-6eee-42e9-8551-dae3d2843602\n",
      "\u001b[0m\u001b[1;3;34mRetrieving with query id 5e8705e5-6eee-42e9-8551-dae3d2843602: 1. 社会对女性形象的刻板印象有哪些？\n",
      "\u001b[0m\u001b[1;3;34mRetrieving with query id None: 情绪自由的第三阶段是什么？\n",
      "\u001b[0m\u001b[1;3;38;5;200mRetrieved node with id, entering: 5e8705e5-6eee-42e9-8551-dae3d2843602\n",
      "\u001b[0m\u001b[1;3;34mRetrieving with query id 5e8705e5-6eee-42e9-8551-dae3d2843602: 情绪自由的第三阶段是什么？\n",
      "\u001b[0m\u001b[1;3;38;5;200mRetrieved node with id, entering: 8b9dd5f7-bf51-494d-b709-f648a13b8f9f\n",
      "\u001b[0m\u001b[1;3;34mRetrieving with query id 8b9dd5f7-bf51-494d-b709-f648a13b8f9f: 情绪自由的第三阶段是什么？\n",
      "\u001b[0m\u001b[1;3;38;5;200mRetrieved node with id, entering: 76464874-621e-4731-9dc1-895a1a6760a3\n",
      "\u001b[0m\u001b[1;3;34mRetrieving with query id 76464874-621e-4731-9dc1-895a1a6760a3: 情绪自由的第三阶段是什么？\n",
      "\u001b[0m\u001b[1;3;38;5;200mRetrieved node with id, entering: 0b44d3b5-96cf-4673-88ae-f685984d9045\n",
      "\u001b[0m\u001b[1;3;34mRetrieving with query id 0b44d3b5-96cf-4673-88ae-f685984d9045: 情绪自由的第三阶段是什么？\n",
      "\u001b[0m\u001b[1;3;34mRetrieving with query id None: 1. 情绪自由的三个阶段具体指什么？\n",
      "\u001b[0m"
     ]
    },
    {
     "name": "stderr",
     "output_type": "stream",
     "text": [
      "\u001b[32m2025-04-09 15:46:58.359\u001b[0m | \u001b[33m\u001b[1mWARNING \u001b[0m | \u001b[36mreadai.components.retrievers\u001b[0m:\u001b[36m_retrieve\u001b[0m:\u001b[36m553\u001b[0m - \u001b[33m\u001b[1mBM25Retriever does not support embeddings, skipping...\u001b[0m\n"
     ]
    },
    {
     "name": "stdout",
     "output_type": "stream",
     "text": [
      "\u001b[1;3;38;5;200mRetrieved node with id, entering: 8b9dd5f7-bf51-494d-b709-f648a13b8f9f\n",
      "\u001b[0m\u001b[1;3;34mRetrieving with query id 8b9dd5f7-bf51-494d-b709-f648a13b8f9f: 1. 情绪自由的三个阶段具体指什么？\n",
      "\u001b[0m\u001b[1;3;38;5;200mRetrieved node with id, entering: 5e8705e5-6eee-42e9-8551-dae3d2843602\n",
      "\u001b[0m\u001b[1;3;34mRetrieving with query id 5e8705e5-6eee-42e9-8551-dae3d2843602: 1. 情绪自由的三个阶段具体指什么？\n",
      "\u001b[0m\u001b[1;3;38;5;200mRetrieved node with id, entering: 0b44d3b5-96cf-4673-88ae-f685984d9045\n",
      "\u001b[0m\u001b[1;3;34mRetrieving with query id 0b44d3b5-96cf-4673-88ae-f685984d9045: 1. 情绪自由的三个阶段具体指什么？\n",
      "\u001b[0m\u001b[1;3;38;5;200mRetrieved node with id, entering: 76464874-621e-4731-9dc1-895a1a6760a3\n",
      "\u001b[0m\u001b[1;3;34mRetrieving with query id 76464874-621e-4731-9dc1-895a1a6760a3: 1. 情绪自由的三个阶段具体指什么？\n",
      "\u001b[0mGenerated queries:\n",
      "1. 指责他人会对人际关系产生哪些负面影响？\n"
     ]
    },
    {
     "name": "stderr",
     "output_type": "stream",
     "text": [
      "\u001b[32m2025-04-09 15:47:06.301\u001b[0m | \u001b[33m\u001b[1mWARNING \u001b[0m | \u001b[36mreadai.components.retrievers\u001b[0m:\u001b[36m_retrieve\u001b[0m:\u001b[36m553\u001b[0m - \u001b[33m\u001b[1mBM25Retriever does not support embeddings, skipping...\u001b[0m\n",
      "\u001b[32m2025-04-09 15:47:06.350\u001b[0m | \u001b[33m\u001b[1mWARNING \u001b[0m | \u001b[36mreadai.components.retrievers\u001b[0m:\u001b[36m_retrieve\u001b[0m:\u001b[36m553\u001b[0m - \u001b[33m\u001b[1mBM25Retriever does not support embeddings, skipping...\u001b[0m\n",
      "\u001b[32m2025-04-09 15:47:06.397\u001b[0m | \u001b[33m\u001b[1mWARNING \u001b[0m | \u001b[36mreadai.components.retrievers\u001b[0m:\u001b[36m_retrieve\u001b[0m:\u001b[36m553\u001b[0m - \u001b[33m\u001b[1mBM25Retriever does not support embeddings, skipping...\u001b[0m\n"
     ]
    },
    {
     "name": "stdout",
     "output_type": "stream",
     "text": [
      "Generated queries:\n",
      "1. 如何正确表达愤怒的情绪？\n",
      "\u001b[1;3;34mRetrieving with query id None: 指责他人会带来什么后果？\n",
      "\u001b[0m\u001b[1;3;38;5;200mRetrieved node with id, entering: cde40d62-744a-4151-837c-83b2815d32fe\n",
      "\u001b[0m\u001b[1;3;34mRetrieving with query id cde40d62-744a-4151-837c-83b2815d32fe: 指责他人会带来什么后果？\n",
      "\u001b[0m\u001b[1;3;38;5;200mRetrieved node with id, entering: 2b33131b-b6b7-4b81-8165-e7b904e24dea\n",
      "\u001b[0m\u001b[1;3;34mRetrieving with query id 2b33131b-b6b7-4b81-8165-e7b904e24dea: 指责他人会带来什么后果？\n",
      "\u001b[0m\u001b[1;3;38;5;200mRetrieved node with id, entering: 249ed2a8-d37e-41ae-9ecd-0113154de893\n",
      "\u001b[0m\u001b[1;3;34mRetrieving with query id 249ed2a8-d37e-41ae-9ecd-0113154de893: 指责他人会带来什么后果？\n",
      "\u001b[0m\u001b[1;3;38;5;200mRetrieved node with id, entering: e327daa0-0785-4d76-a805-8b512ef6dcac\n",
      "\u001b[0m\u001b[1;3;34mRetrieving with query id e327daa0-0785-4d76-a805-8b512ef6dcac: 指责他人会带来什么后果？\n",
      "\u001b[0m\u001b[1;3;34mRetrieving with query id None: 1. 指责他人会对人际关系产生哪些负面影响？\n",
      "\u001b[0m\u001b[1;3;38;5;200mRetrieved node with id, entering: e327daa0-0785-4d76-a805-8b512ef6dcac\n",
      "\u001b[0m\u001b[1;3;34mRetrieving with query id e327daa0-0785-4d76-a805-8b512ef6dcac: 1. 指责他人会对人际关系产生哪些负面影响？\n",
      "\u001b[0m\u001b[1;3;38;5;200mRetrieved node with id, entering: cde40d62-744a-4151-837c-83b2815d32fe\n",
      "\u001b[0m\u001b[1;3;34mRetrieving with query id cde40d62-744a-4151-837c-83b2815d32fe: 1. 指责他人会对人际关系产生哪些负面影响？\n",
      "\u001b[0m\u001b[1;3;38;5;200mRetrieved node with id, entering: 0266c17e-7946-4f78-9195-9078f7e88334\n",
      "\u001b[0m\u001b[1;3;34mRetrieving with query id 0266c17e-7946-4f78-9195-9078f7e88334: 1. 指责他人会对人际关系产生哪些负面影响？\n",
      "\u001b[0m\u001b[1;3;38;5;200mRetrieved node with id, entering: 249ed2a8-d37e-41ae-9ecd-0113154de893\n",
      "\u001b[0m\u001b[1;3;34mRetrieving with query id 249ed2a8-d37e-41ae-9ecd-0113154de893: 1. 指责他人会对人际关系产生哪些负面影响？\n",
      "\u001b[0m\u001b[1;3;34mRetrieving with query id None: 表达愤怒的第一步是什么？\n",
      "\u001b[0m\u001b[1;3;38;5;200mRetrieved node with id, entering: cde40d62-744a-4151-837c-83b2815d32fe\n",
      "\u001b[0m\u001b[1;3;34mRetrieving with query id cde40d62-744a-4151-837c-83b2815d32fe: 表达愤怒的第一步是什么？\n",
      "\u001b[0m\u001b[1;3;38;5;200mRetrieved node with id, entering: 794e0320-1392-4339-a80c-009435c45f6d\n",
      "\u001b[0m\u001b[1;3;34mRetrieving with query id 794e0320-1392-4339-a80c-009435c45f6d: 表达愤怒的第一步是什么？\n",
      "\u001b[0m\u001b[1;3;38;5;200mRetrieved node with id, entering: a8f63fdd-3893-4761-be42-114957027a8b\n",
      "\u001b[0m\u001b[1;3;34mRetrieving with query id a8f63fdd-3893-4761-be42-114957027a8b: 表达愤怒的第一步是什么？\n",
      "\u001b[0m\u001b[1;3;34mRetrieving with query id None: 1. 如何正确表达愤怒的情绪？\n",
      "\u001b[0m"
     ]
    },
    {
     "name": "stderr",
     "output_type": "stream",
     "text": [
      "\u001b[32m2025-04-09 15:47:06.438\u001b[0m | \u001b[33m\u001b[1mWARNING \u001b[0m | \u001b[36mreadai.components.retrievers\u001b[0m:\u001b[36m_retrieve\u001b[0m:\u001b[36m553\u001b[0m - \u001b[33m\u001b[1mBM25Retriever does not support embeddings, skipping...\u001b[0m\n"
     ]
    },
    {
     "name": "stdout",
     "output_type": "stream",
     "text": [
      "\u001b[1;3;38;5;200mRetrieved node with id, entering: 794e0320-1392-4339-a80c-009435c45f6d\n",
      "\u001b[0m\u001b[1;3;34mRetrieving with query id 794e0320-1392-4339-a80c-009435c45f6d: 1. 如何正确表达愤怒的情绪？\n",
      "\u001b[0m\u001b[1;3;38;5;200mRetrieved node with id, entering: cde40d62-744a-4151-837c-83b2815d32fe\n",
      "\u001b[0m\u001b[1;3;34mRetrieving with query id cde40d62-744a-4151-837c-83b2815d32fe: 1. 如何正确表达愤怒的情绪？\n",
      "\u001b[0m\u001b[1;3;38;5;200mRetrieved node with id, entering: 5e0aabca-dff2-4bb6-b210-c6c4e232a086\n",
      "\u001b[0m\u001b[1;3;34mRetrieving with query id 5e0aabca-dff2-4bb6-b210-c6c4e232a086: 1. 如何正确表达愤怒的情绪？\n",
      "\u001b[0m\u001b[1;3;38;5;200mRetrieved node with id, entering: a8f63fdd-3893-4761-be42-114957027a8b\n",
      "\u001b[0m\u001b[1;3;34mRetrieving with query id a8f63fdd-3893-4761-be42-114957027a8b: 1. 如何正确表达愤怒的情绪？\n",
      "\u001b[0mGenerated queries:\n",
      "1. 调解过程中做记录的重要性有哪些？\n"
     ]
    },
    {
     "name": "stderr",
     "output_type": "stream",
     "text": [
      "\u001b[32m2025-04-09 15:47:15.044\u001b[0m | \u001b[33m\u001b[1mWARNING \u001b[0m | \u001b[36mreadai.components.retrievers\u001b[0m:\u001b[36m_retrieve\u001b[0m:\u001b[36m553\u001b[0m - \u001b[33m\u001b[1mBM25Retriever does not support embeddings, skipping...\u001b[0m\n",
      "\u001b[32m2025-04-09 15:47:15.098\u001b[0m | \u001b[33m\u001b[1mWARNING \u001b[0m | \u001b[36mreadai.components.retrievers\u001b[0m:\u001b[36m_retrieve\u001b[0m:\u001b[36m553\u001b[0m - \u001b[33m\u001b[1mBM25Retriever does not support embeddings, skipping...\u001b[0m\n",
      "\u001b[32m2025-04-09 15:47:15.145\u001b[0m | \u001b[33m\u001b[1mWARNING \u001b[0m | \u001b[36mreadai.components.retrievers\u001b[0m:\u001b[36m_retrieve\u001b[0m:\u001b[36m553\u001b[0m - \u001b[33m\u001b[1mBM25Retriever does not support embeddings, skipping...\u001b[0m\n"
     ]
    },
    {
     "name": "stdout",
     "output_type": "stream",
     "text": [
      "Generated queries:\n",
      "1. 调解人在调解过程中需要注意哪些关键时间点？\n",
      "\u001b[1;3;34mRetrieving with query id None: 调解过程中为什么要做记录？\n",
      "\u001b[0m\u001b[1;3;38;5;200mRetrieved node with id, entering: e9a2ec2c-89d5-42f9-b99d-26ff02d5b8bc\n",
      "\u001b[0m\u001b[1;3;34mRetrieving with query id e9a2ec2c-89d5-42f9-b99d-26ff02d5b8bc: 调解过程中为什么要做记录？\n",
      "\u001b[0m\u001b[1;3;38;5;200mRetrieved node with id, entering: cd036189-1e46-44dc-afcd-043baa4374f9\n",
      "\u001b[0m\u001b[1;3;34mRetrieving with query id cd036189-1e46-44dc-afcd-043baa4374f9: 调解过程中为什么要做记录？\n",
      "\u001b[0m\u001b[1;3;34mRetrieving with query id None: 1. 调解过程中做记录的重要性有哪些？\n",
      "\u001b[0m\u001b[1;3;38;5;200mRetrieved node with id, entering: e9a2ec2c-89d5-42f9-b99d-26ff02d5b8bc\n",
      "\u001b[0m\u001b[1;3;34mRetrieving with query id e9a2ec2c-89d5-42f9-b99d-26ff02d5b8bc: 1. 调解过程中做记录的重要性有哪些？\n",
      "\u001b[0m\u001b[1;3;38;5;200mRetrieved node with id, entering: cd036189-1e46-44dc-afcd-043baa4374f9\n",
      "\u001b[0m\u001b[1;3;34mRetrieving with query id cd036189-1e46-44dc-afcd-043baa4374f9: 1. 调解过程中做记录的重要性有哪些？\n",
      "\u001b[0m\u001b[1;3;34mRetrieving with query id None: 调解人需要关注什么时刻？\n",
      "\u001b[0m\u001b[1;3;38;5;200mRetrieved node with id, entering: e9a2ec2c-89d5-42f9-b99d-26ff02d5b8bc\n",
      "\u001b[0m\u001b[1;3;34mRetrieving with query id e9a2ec2c-89d5-42f9-b99d-26ff02d5b8bc: 调解人需要关注什么时刻？\n",
      "\u001b[0m\u001b[1;3;34mRetrieving with query id None: 1. 调解人在调解过程中需要注意哪些关键时间点？\n",
      "\u001b[0m"
     ]
    },
    {
     "name": "stderr",
     "output_type": "stream",
     "text": [
      "\u001b[32m2025-04-09 15:47:15.190\u001b[0m | \u001b[33m\u001b[1mWARNING \u001b[0m | \u001b[36mreadai.components.retrievers\u001b[0m:\u001b[36m_retrieve\u001b[0m:\u001b[36m553\u001b[0m - \u001b[33m\u001b[1mBM25Retriever does not support embeddings, skipping...\u001b[0m\n"
     ]
    },
    {
     "name": "stdout",
     "output_type": "stream",
     "text": [
      "\u001b[1;3;38;5;200mRetrieved node with id, entering: e9a2ec2c-89d5-42f9-b99d-26ff02d5b8bc\n",
      "\u001b[0m\u001b[1;3;34mRetrieving with query id e9a2ec2c-89d5-42f9-b99d-26ff02d5b8bc: 1. 调解人在调解过程中需要注意哪些关键时间点？\n",
      "\u001b[0m\u001b[1;3;38;5;200mRetrieved node with id, entering: cd036189-1e46-44dc-afcd-043baa4374f9\n",
      "\u001b[0m\u001b[1;3;34mRetrieving with query id cd036189-1e46-44dc-afcd-043baa4374f9: 1. 调解人在调解过程中需要注意哪些关键时间点？\n",
      "\u001b[0mGenerated queries:\n",
      "1. 老师怎样检查皮特是否理解了课程内容？\n"
     ]
    },
    {
     "name": "stderr",
     "output_type": "stream",
     "text": [
      "\u001b[32m2025-04-09 15:47:23.221\u001b[0m | \u001b[33m\u001b[1mWARNING \u001b[0m | \u001b[36mreadai.components.retrievers\u001b[0m:\u001b[36m_retrieve\u001b[0m:\u001b[36m553\u001b[0m - \u001b[33m\u001b[1mBM25Retriever does not support embeddings, skipping...\u001b[0m\n",
      "\u001b[32m2025-04-09 15:47:23.271\u001b[0m | \u001b[33m\u001b[1mWARNING \u001b[0m | \u001b[36mreadai.components.retrievers\u001b[0m:\u001b[36m_retrieve\u001b[0m:\u001b[36m553\u001b[0m - \u001b[33m\u001b[1mBM25Retriever does not support embeddings, skipping...\u001b[0m\n",
      "\u001b[32m2025-04-09 15:47:23.319\u001b[0m | \u001b[33m\u001b[1mWARNING \u001b[0m | \u001b[36mreadai.components.retrievers\u001b[0m:\u001b[36m_retrieve\u001b[0m:\u001b[36m553\u001b[0m - \u001b[33m\u001b[1mBM25Retriever does not support embeddings, skipping...\u001b[0m\n"
     ]
    },
    {
     "name": "stdout",
     "output_type": "stream",
     "text": [
      "Generated queries:\n",
      "1. 请求重述在沟通中的作用和重要性是什么？\n",
      "\u001b[1;3;34mRetrieving with query id None: 老师如何确认皮特的理解？\n",
      "\u001b[0m\u001b[1;3;38;5;200mRetrieved node with id, entering: 1e546c41-ee85-47d8-a9ef-14370198d105\n",
      "\u001b[0m\u001b[1;3;34mRetrieving with query id 1e546c41-ee85-47d8-a9ef-14370198d105: 老师如何确认皮特的理解？\n",
      "\u001b[0m\u001b[1;3;34mRetrieving with query id None: 1. 老师怎样检查皮特是否理解了课程内容？\n",
      "\u001b[0m\u001b[1;3;38;5;200mRetrieved node with id, entering: 1e546c41-ee85-47d8-a9ef-14370198d105\n",
      "\u001b[0m\u001b[1;3;34mRetrieving with query id 1e546c41-ee85-47d8-a9ef-14370198d105: 1. 老师怎样检查皮特是否理解了课程内容？\n",
      "\u001b[0m\u001b[1;3;34mRetrieving with query id None: 为什么请求重述很重要？\n",
      "\u001b[0m\u001b[1;3;38;5;200mRetrieved node with id, entering: 1e546c41-ee85-47d8-a9ef-14370198d105\n",
      "\u001b[0m\u001b[1;3;34mRetrieving with query id 1e546c41-ee85-47d8-a9ef-14370198d105: 为什么请求重述很重要？\n",
      "\u001b[0m\u001b[1;3;38;5;200mRetrieved node with id, entering: f9ea8138-a889-456c-8ea6-7d8bf7563771\n",
      "\u001b[0m\u001b[1;3;34mRetrieving with query id f9ea8138-a889-456c-8ea6-7d8bf7563771: 为什么请求重述很重要？\n",
      "\u001b[0m\u001b[1;3;38;5;200mRetrieved node with id, entering: a25b2570-1935-4cc1-a7f5-50cf2a92d73a\n",
      "\u001b[0m\u001b[1;3;34mRetrieving with query id a25b2570-1935-4cc1-a7f5-50cf2a92d73a: 为什么请求重述很重要？\n",
      "\u001b[0m\u001b[1;3;38;5;200mRetrieved node with id, entering: 22182f51-fdb9-4351-b147-cf14ed79dc3d\n",
      "\u001b[0m\u001b[1;3;34mRetrieving with query id 22182f51-fdb9-4351-b147-cf14ed79dc3d: 为什么请求重述很重要？\n",
      "\u001b[0m\u001b[1;3;34mRetrieving with query id None: 1. 请求重述在沟通中的作用和重要性是什么？\n",
      "\u001b[0m"
     ]
    },
    {
     "name": "stderr",
     "output_type": "stream",
     "text": [
      "\u001b[32m2025-04-09 15:47:23.364\u001b[0m | \u001b[33m\u001b[1mWARNING \u001b[0m | \u001b[36mreadai.components.retrievers\u001b[0m:\u001b[36m_retrieve\u001b[0m:\u001b[36m553\u001b[0m - \u001b[33m\u001b[1mBM25Retriever does not support embeddings, skipping...\u001b[0m\n"
     ]
    },
    {
     "name": "stdout",
     "output_type": "stream",
     "text": [
      "\u001b[1;3;38;5;200mRetrieved node with id, entering: 1e546c41-ee85-47d8-a9ef-14370198d105\n",
      "\u001b[0m\u001b[1;3;34mRetrieving with query id 1e546c41-ee85-47d8-a9ef-14370198d105: 1. 请求重述在沟通中的作用和重要性是什么？\n",
      "\u001b[0m\u001b[1;3;38;5;200mRetrieved node with id, entering: f9ea8138-a889-456c-8ea6-7d8bf7563771\n",
      "\u001b[0m\u001b[1;3;34mRetrieving with query id f9ea8138-a889-456c-8ea6-7d8bf7563771: 1. 请求重述在沟通中的作用和重要性是什么？\n",
      "\u001b[0mGenerated queries:\n",
      "1. 约翰沉默不语的原因是什么？\n"
     ]
    },
    {
     "name": "stderr",
     "output_type": "stream",
     "text": [
      "\u001b[32m2025-04-09 15:47:32.312\u001b[0m | \u001b[33m\u001b[1mWARNING \u001b[0m | \u001b[36mreadai.components.retrievers\u001b[0m:\u001b[36m_retrieve\u001b[0m:\u001b[36m553\u001b[0m - \u001b[33m\u001b[1mBM25Retriever does not support embeddings, skipping...\u001b[0m\n",
      "\u001b[32m2025-04-09 15:47:32.356\u001b[0m | \u001b[33m\u001b[1mWARNING \u001b[0m | \u001b[36mreadai.components.retrievers\u001b[0m:\u001b[36m_retrieve\u001b[0m:\u001b[36m553\u001b[0m - \u001b[33m\u001b[1mBM25Retriever does not support embeddings, skipping...\u001b[0m\n",
      "\u001b[32m2025-04-09 15:47:32.404\u001b[0m | \u001b[33m\u001b[1mWARNING \u001b[0m | \u001b[36mreadai.components.retrievers\u001b[0m:\u001b[36m_retrieve\u001b[0m:\u001b[36m553\u001b[0m - \u001b[33m\u001b[1mBM25Retriever does not support embeddings, skipping...\u001b[0m\n"
     ]
    },
    {
     "name": "stdout",
     "output_type": "stream",
     "text": [
      "Generated queries:\n",
      "1. 布莱特偷了姐姐的什么东西？\n",
      "\u001b[1;3;34mRetrieving with query id None: 约翰为什么沉默不语？\n",
      "\u001b[0m\u001b[1;3;38;5;200mRetrieved node with id, entering: 7c1f6052-2855-4d13-a71d-ccbffd7c0934\n",
      "\u001b[0m\u001b[1;3;34mRetrieving with query id 7c1f6052-2855-4d13-a71d-ccbffd7c0934: 约翰为什么沉默不语？\n",
      "\u001b[0m\u001b[1;3;38;5;200mRetrieved node with id, entering: 9a79abbd-41f2-4164-a3f2-1526d4e40363\n",
      "\u001b[0m\u001b[1;3;34mRetrieving with query id 9a79abbd-41f2-4164-a3f2-1526d4e40363: 约翰为什么沉默不语？\n",
      "\u001b[0m\u001b[1;3;34mRetrieving with query id None: 1. 约翰沉默不语的原因是什么？\n",
      "\u001b[0m\u001b[1;3;38;5;200mRetrieved node with id, entering: 7c1f6052-2855-4d13-a71d-ccbffd7c0934\n",
      "\u001b[0m\u001b[1;3;34mRetrieving with query id 7c1f6052-2855-4d13-a71d-ccbffd7c0934: 1. 约翰沉默不语的原因是什么？\n",
      "\u001b[0m\u001b[1;3;38;5;200mRetrieved node with id, entering: 9a79abbd-41f2-4164-a3f2-1526d4e40363\n",
      "\u001b[0m\u001b[1;3;34mRetrieving with query id 9a79abbd-41f2-4164-a3f2-1526d4e40363: 1. 约翰沉默不语的原因是什么？\n",
      "\u001b[0m\u001b[1;3;34mRetrieving with query id None: 布莱特拿了姐姐的什么？\n",
      "\u001b[0m\u001b[1;3;38;5;200mRetrieved node with id, entering: 9a79abbd-41f2-4164-a3f2-1526d4e40363\n",
      "\u001b[0m\u001b[1;3;34mRetrieving with query id 9a79abbd-41f2-4164-a3f2-1526d4e40363: 布莱特拿了姐姐的什么？\n",
      "\u001b[0m\u001b[1;3;38;5;200mRetrieved node with id, entering: 8b9dd5f7-bf51-494d-b709-f648a13b8f9f\n",
      "\u001b[0m\u001b[1;3;34mRetrieving with query id 8b9dd5f7-bf51-494d-b709-f648a13b8f9f: 布莱特拿了姐姐的什么？\n",
      "\u001b[0m\u001b[1;3;34mRetrieving with query id None: 1. 布莱特偷了姐姐的什么东西？\n",
      "\u001b[0m"
     ]
    },
    {
     "name": "stderr",
     "output_type": "stream",
     "text": [
      "\u001b[32m2025-04-09 15:47:32.450\u001b[0m | \u001b[33m\u001b[1mWARNING \u001b[0m | \u001b[36mreadai.components.retrievers\u001b[0m:\u001b[36m_retrieve\u001b[0m:\u001b[36m553\u001b[0m - \u001b[33m\u001b[1mBM25Retriever does not support embeddings, skipping...\u001b[0m\n"
     ]
    },
    {
     "name": "stdout",
     "output_type": "stream",
     "text": [
      "\u001b[1;3;38;5;200mRetrieved node with id, entering: 9a79abbd-41f2-4164-a3f2-1526d4e40363\n",
      "\u001b[0m\u001b[1;3;34mRetrieving with query id 9a79abbd-41f2-4164-a3f2-1526d4e40363: 1. 布莱特偷了姐姐的什么东西？\n",
      "\u001b[0m\u001b[1;3;38;5;200mRetrieved node with id, entering: 8b9dd5f7-bf51-494d-b709-f648a13b8f9f\n",
      "\u001b[0m\u001b[1;3;34mRetrieving with query id 8b9dd5f7-bf51-494d-b709-f648a13b8f9f: 1. 布莱特偷了姐姐的什么东西？\n",
      "\u001b[0mGenerated queries:\n",
      "1. 道德评判对人际关系的影响有哪些？\n"
     ]
    },
    {
     "name": "stderr",
     "output_type": "stream",
     "text": [
      "\u001b[32m2025-04-09 15:47:40.622\u001b[0m | \u001b[33m\u001b[1mWARNING \u001b[0m | \u001b[36mreadai.components.retrievers\u001b[0m:\u001b[36m_retrieve\u001b[0m:\u001b[36m553\u001b[0m - \u001b[33m\u001b[1mBM25Retriever does not support embeddings, skipping...\u001b[0m\n",
      "\u001b[32m2025-04-09 15:47:40.669\u001b[0m | \u001b[33m\u001b[1mWARNING \u001b[0m | \u001b[36mreadai.components.retrievers\u001b[0m:\u001b[36m_retrieve\u001b[0m:\u001b[36m553\u001b[0m - \u001b[33m\u001b[1mBM25Retriever does not support embeddings, skipping...\u001b[0m\n",
      "\u001b[32m2025-04-09 15:47:40.717\u001b[0m | \u001b[33m\u001b[1mWARNING \u001b[0m | \u001b[36mreadai.components.retrievers\u001b[0m:\u001b[36m_retrieve\u001b[0m:\u001b[36m553\u001b[0m - \u001b[33m\u001b[1mBM25Retriever does not support embeddings, skipping...\u001b[0m\n"
     ]
    },
    {
     "name": "stdout",
     "output_type": "stream",
     "text": [
      "Generated queries:\n",
      "1. 哈维教授的主要研究领域和学术贡献是什么？\n",
      "\u001b[1;3;34mRetrieving with query id None: 道德评判会导致什么后果？\n",
      "\u001b[0m\u001b[1;3;38;5;200mRetrieved node with id, entering: 9e1944ff-7cc3-4ab2-b858-9227905425c2\n",
      "\u001b[0m\u001b[1;3;34mRetrieving with query id 9e1944ff-7cc3-4ab2-b858-9227905425c2: 道德评判会导致什么后果？\n",
      "\u001b[0m\u001b[1;3;38;5;200mRetrieved node with id, entering: 31be7710-c72a-4c83-907f-cfb79d68bb68\n",
      "\u001b[0m\u001b[1;3;34mRetrieving with query id 31be7710-c72a-4c83-907f-cfb79d68bb68: 道德评判会导致什么后果？\n",
      "\u001b[0m\u001b[1;3;38;5;200mRetrieved node with id, entering: 356fa243-3942-46b2-8ac4-6a42042320a4\n",
      "\u001b[0m\u001b[1;3;34mRetrieving with query id 356fa243-3942-46b2-8ac4-6a42042320a4: 道德评判会导致什么后果？\n",
      "\u001b[0m\u001b[1;3;34mRetrieving with query id None: 1. 道德评判对人际关系的影响有哪些？\n",
      "\u001b[0m\u001b[1;3;38;5;200mRetrieved node with id, entering: 9e1944ff-7cc3-4ab2-b858-9227905425c2\n",
      "\u001b[0m\u001b[1;3;34mRetrieving with query id 9e1944ff-7cc3-4ab2-b858-9227905425c2: 1. 道德评判对人际关系的影响有哪些？\n",
      "\u001b[0m\u001b[1;3;38;5;200mRetrieved node with id, entering: 5508cb82-2abe-44f0-b9f1-72c5202c14d2\n",
      "\u001b[0m\u001b[1;3;34mRetrieving with query id 5508cb82-2abe-44f0-b9f1-72c5202c14d2: 1. 道德评判对人际关系的影响有哪些？\n",
      "\u001b[0m\u001b[1;3;38;5;200mRetrieved node with id, entering: 31be7710-c72a-4c83-907f-cfb79d68bb68\n",
      "\u001b[0m\u001b[1;3;34mRetrieving with query id 31be7710-c72a-4c83-907f-cfb79d68bb68: 1. 道德评判对人际关系的影响有哪些？\n",
      "\u001b[0m\u001b[1;3;38;5;200mRetrieved node with id, entering: 1f1078e0-9dd8-4516-aa14-fafe611a6f9e\n",
      "\u001b[0m\u001b[1;3;34mRetrieving with query id 1f1078e0-9dd8-4516-aa14-fafe611a6f9e: 1. 道德评判对人际关系的影响有哪些？\n",
      "\u001b[0m\u001b[1;3;34mRetrieving with query id None: 哈维教授研究了什么关系？\n",
      "\u001b[0m\u001b[1;3;38;5;200mRetrieved node with id, entering: 9e1944ff-7cc3-4ab2-b858-9227905425c2\n",
      "\u001b[0m\u001b[1;3;34mRetrieving with query id 9e1944ff-7cc3-4ab2-b858-9227905425c2: 哈维教授研究了什么关系？\n",
      "\u001b[0m\u001b[1;3;38;5;200mRetrieved node with id, entering: ecf04b61-fd74-4e7d-a44a-5ac13a8d5003\n",
      "\u001b[0m\u001b[1;3;34mRetrieving with query id ecf04b61-fd74-4e7d-a44a-5ac13a8d5003: 哈维教授研究了什么关系？\n",
      "\u001b[0m\u001b[1;3;38;5;200mRetrieved node with id, entering: 5fee85ad-5af3-43fe-8cc6-6a6702763064\n",
      "\u001b[0m\u001b[1;3;34mRetrieving with query id 5fee85ad-5af3-43fe-8cc6-6a6702763064: 哈维教授研究了什么关系？\n",
      "\u001b[0m\u001b[1;3;34mRetrieving with query id None: 1. 哈维教授的主要研究领域和学术贡献是什么？\n",
      "\u001b[0m"
     ]
    },
    {
     "name": "stderr",
     "output_type": "stream",
     "text": [
      "\u001b[32m2025-04-09 15:47:40.763\u001b[0m | \u001b[33m\u001b[1mWARNING \u001b[0m | \u001b[36mreadai.components.retrievers\u001b[0m:\u001b[36m_retrieve\u001b[0m:\u001b[36m553\u001b[0m - \u001b[33m\u001b[1mBM25Retriever does not support embeddings, skipping...\u001b[0m\n"
     ]
    },
    {
     "name": "stdout",
     "output_type": "stream",
     "text": [
      "\u001b[1;3;38;5;200mRetrieved node with id, entering: 9e1944ff-7cc3-4ab2-b858-9227905425c2\n",
      "\u001b[0m\u001b[1;3;34mRetrieving with query id 9e1944ff-7cc3-4ab2-b858-9227905425c2: 1. 哈维教授的主要研究领域和学术贡献是什么？\n",
      "\u001b[0m\u001b[1;3;38;5;200mRetrieved node with id, entering: 5fee85ad-5af3-43fe-8cc6-6a6702763064\n",
      "\u001b[0m\u001b[1;3;34mRetrieving with query id 5fee85ad-5af3-43fe-8cc6-6a6702763064: 1. 哈维教授的主要研究领域和学术贡献是什么？\n",
      "\u001b[0m\u001b[1;3;38;5;200mRetrieved node with id, entering: ecf04b61-fd74-4e7d-a44a-5ac13a8d5003\n",
      "\u001b[0m\u001b[1;3;34mRetrieving with query id ecf04b61-fd74-4e7d-a44a-5ac13a8d5003: 1. 哈维教授的主要研究领域和学术贡献是什么？\n",
      "\u001b[0m\u001b[1;3;38;5;200mRetrieved node with id, entering: 0c1ebc18-974f-40a0-be55-f91c8e587bc7\n",
      "\u001b[0m\u001b[1;3;34mRetrieving with query id 0c1ebc18-974f-40a0-be55-f91c8e587bc7: 1. 哈维教授的主要研究领域和学术贡献是什么？\n",
      "\u001b[0mGenerated queries:\n",
      "1. 女学员和教练对话一般需要多长时间？\n"
     ]
    },
    {
     "name": "stderr",
     "output_type": "stream",
     "text": [
      "\u001b[32m2025-04-09 15:47:50.110\u001b[0m | \u001b[33m\u001b[1mWARNING \u001b[0m | \u001b[36mreadai.components.retrievers\u001b[0m:\u001b[36m_retrieve\u001b[0m:\u001b[36m553\u001b[0m - \u001b[33m\u001b[1mBM25Retriever does not support embeddings, skipping...\u001b[0m\n",
      "\u001b[32m2025-04-09 15:47:50.159\u001b[0m | \u001b[33m\u001b[1mWARNING \u001b[0m | \u001b[36mreadai.components.retrievers\u001b[0m:\u001b[36m_retrieve\u001b[0m:\u001b[36m553\u001b[0m - \u001b[33m\u001b[1mBM25Retriever does not support embeddings, skipping...\u001b[0m\n",
      "\u001b[32m2025-04-09 15:47:50.204\u001b[0m | \u001b[33m\u001b[1mWARNING \u001b[0m | \u001b[36mreadai.components.retrievers\u001b[0m:\u001b[36m_retrieve\u001b[0m:\u001b[36m553\u001b[0m - \u001b[33m\u001b[1mBM25Retriever does not support embeddings, skipping...\u001b[0m\n"
     ]
    },
    {
     "name": "stdout",
     "output_type": "stream",
     "text": [
      "Generated queries:\n",
      "1. 女学员妈妈在驾校学习中最担心的问题有哪些？\n",
      "\u001b[1;3;34mRetrieving with query id None: 女学员和对方对话多久？\n",
      "\u001b[0m\u001b[1;3;38;5;200mRetrieved node with id, entering: 678f652b-5d93-443f-ac4a-08a0ef80292e\n",
      "\u001b[0m\u001b[1;3;34mRetrieving with query id 678f652b-5d93-443f-ac4a-08a0ef80292e: 女学员和对方对话多久？\n",
      "\u001b[0m\u001b[1;3;38;5;200mRetrieved node with id, entering: febe2a7d-9bc5-4c7e-a68a-c168ba78b136\n",
      "\u001b[0m\u001b[1;3;34mRetrieving with query id febe2a7d-9bc5-4c7e-a68a-c168ba78b136: 女学员和对方对话多久？\n",
      "\u001b[0m\u001b[1;3;38;5;200mRetrieved node with id, entering: 6d109628-b62c-4b25-b6e3-aee968b76428\n",
      "\u001b[0m\u001b[1;3;34mRetrieving with query id 6d109628-b62c-4b25-b6e3-aee968b76428: 女学员和对方对话多久？\n",
      "\u001b[0m\u001b[1;3;34mRetrieving with query id None: 1. 女学员和教练对话一般需要多长时间？\n",
      "\u001b[0m\u001b[1;3;38;5;200mRetrieved node with id, entering: 678f652b-5d93-443f-ac4a-08a0ef80292e\n",
      "\u001b[0m\u001b[1;3;34mRetrieving with query id 678f652b-5d93-443f-ac4a-08a0ef80292e: 1. 女学员和教练对话一般需要多长时间？\n",
      "\u001b[0m\u001b[1;3;38;5;200mRetrieved node with id, entering: febe2a7d-9bc5-4c7e-a68a-c168ba78b136\n",
      "\u001b[0m\u001b[1;3;34mRetrieving with query id febe2a7d-9bc5-4c7e-a68a-c168ba78b136: 1. 女学员和教练对话一般需要多长时间？\n",
      "\u001b[0m\u001b[1;3;38;5;200mRetrieved node with id, entering: 6d109628-b62c-4b25-b6e3-aee968b76428\n",
      "\u001b[0m\u001b[1;3;34mRetrieving with query id 6d109628-b62c-4b25-b6e3-aee968b76428: 1. 女学员和教练对话一般需要多长时间？\n",
      "\u001b[0m\u001b[1;3;34mRetrieving with query id None: 女学员妈妈担心什么？\n",
      "\u001b[0m\u001b[1;3;38;5;200mRetrieved node with id, entering: 76464874-621e-4731-9dc1-895a1a6760a3\n",
      "\u001b[0m\u001b[1;3;34mRetrieving with query id 76464874-621e-4731-9dc1-895a1a6760a3: 女学员妈妈担心什么？\n",
      "\u001b[0m\u001b[1;3;34mRetrieving with query id None: 1. 女学员妈妈在驾校学习中最担心的问题有哪些？\n",
      "\u001b[0m"
     ]
    },
    {
     "name": "stderr",
     "output_type": "stream",
     "text": [
      "\u001b[32m2025-04-09 15:47:50.250\u001b[0m | \u001b[33m\u001b[1mWARNING \u001b[0m | \u001b[36mreadai.components.retrievers\u001b[0m:\u001b[36m_retrieve\u001b[0m:\u001b[36m553\u001b[0m - \u001b[33m\u001b[1mBM25Retriever does not support embeddings, skipping...\u001b[0m\n"
     ]
    },
    {
     "name": "stdout",
     "output_type": "stream",
     "text": [
      "\u001b[1;3;38;5;200mRetrieved node with id, entering: 8958bff3-9628-40d0-ad94-2fc3764cb4a4\n",
      "\u001b[0m\u001b[1;3;34mRetrieving with query id 8958bff3-9628-40d0-ad94-2fc3764cb4a4: 1. 女学员妈妈在驾校学习中最担心的问题有哪些？\n",
      "\u001b[0m\u001b[1;3;38;5;200mRetrieved node with id, entering: 2db1926a-5a14-4510-9802-92b29b3e9f16\n",
      "\u001b[0m\u001b[1;3;34mRetrieving with query id 2db1926a-5a14-4510-9802-92b29b3e9f16: 1. 女学员妈妈在驾校学习中最担心的问题有哪些？\n",
      "\u001b[0m\u001b[1;3;38;5;200mRetrieved node with id, entering: 76464874-621e-4731-9dc1-895a1a6760a3\n",
      "\u001b[0m\u001b[1;3;34mRetrieving with query id 76464874-621e-4731-9dc1-895a1a6760a3: 1. 女学员妈妈在驾校学习中最担心的问题有哪些？\n",
      "\u001b[0mGenerated queries:\n",
      "1. 如何高效撰写报告以节省时间？\n"
     ]
    },
    {
     "name": "stderr",
     "output_type": "stream",
     "text": [
      "\u001b[32m2025-04-09 15:47:58.661\u001b[0m | \u001b[33m\u001b[1mWARNING \u001b[0m | \u001b[36mreadai.components.retrievers\u001b[0m:\u001b[36m_retrieve\u001b[0m:\u001b[36m553\u001b[0m - \u001b[33m\u001b[1mBM25Retriever does not support embeddings, skipping...\u001b[0m\n",
      "\u001b[32m2025-04-09 15:47:58.705\u001b[0m | \u001b[33m\u001b[1mWARNING \u001b[0m | \u001b[36mreadai.components.retrievers\u001b[0m:\u001b[36m_retrieve\u001b[0m:\u001b[36m553\u001b[0m - \u001b[33m\u001b[1mBM25Retriever does not support embeddings, skipping...\u001b[0m\n",
      "\u001b[32m2025-04-09 15:47:58.756\u001b[0m | \u001b[33m\u001b[1mWARNING \u001b[0m | \u001b[36mreadai.components.retrievers\u001b[0m:\u001b[36m_retrieve\u001b[0m:\u001b[36m553\u001b[0m - \u001b[33m\u001b[1mBM25Retriever does not support embeddings, skipping...\u001b[0m\n"
     ]
    },
    {
     "name": "stdout",
     "output_type": "stream",
     "text": [
      "Generated queries:\n",
      "1. 为什么家长选择开车送孩子上学而不是让孩子自己上学？\n",
      "\u001b[1;3;34mRetrieving with query id None: 撰写报告花费多少时间？\n",
      "\u001b[0m\u001b[1;3;38;5;200mRetrieved node with id, entering: 9f9687b3-2074-4091-95cc-e1dcd97ad7b7\n",
      "\u001b[0m\u001b[1;3;34mRetrieving with query id 9f9687b3-2074-4091-95cc-e1dcd97ad7b7: 撰写报告花费多少时间？\n",
      "\u001b[0m\u001b[1;3;38;5;200mRetrieved node with id, entering: 491faa5d-8f86-4a13-9b0f-587708176f14\n",
      "\u001b[0m\u001b[1;3;34mRetrieving with query id 491faa5d-8f86-4a13-9b0f-587708176f14: 撰写报告花费多少时间？\n",
      "\u001b[0m\u001b[1;3;34mRetrieving with query id None: 1. 如何高效撰写报告以节省时间？\n",
      "\u001b[0m\u001b[1;3;38;5;200mRetrieved node with id, entering: 9f9687b3-2074-4091-95cc-e1dcd97ad7b7\n",
      "\u001b[0m\u001b[1;3;34mRetrieving with query id 9f9687b3-2074-4091-95cc-e1dcd97ad7b7: 1. 如何高效撰写报告以节省时间？\n",
      "\u001b[0m\u001b[1;3;38;5;200mRetrieved node with id, entering: 491faa5d-8f86-4a13-9b0f-587708176f14\n",
      "\u001b[0m\u001b[1;3;34mRetrieving with query id 491faa5d-8f86-4a13-9b0f-587708176f14: 1. 如何高效撰写报告以节省时间？\n",
      "\u001b[0m\u001b[1;3;34mRetrieving with query id None: 开车送孩子上学的原因？\n",
      "\u001b[0m\u001b[1;3;38;5;200mRetrieved node with id, entering: 9f9687b3-2074-4091-95cc-e1dcd97ad7b7\n",
      "\u001b[0m\u001b[1;3;34mRetrieving with query id 9f9687b3-2074-4091-95cc-e1dcd97ad7b7: 开车送孩子上学的原因？\n",
      "\u001b[0m\u001b[1;3;34mRetrieving with query id None: 1. 为什么家长选择开车送孩子上学而不是让孩子自己上学？\n",
      "\u001b[0m"
     ]
    },
    {
     "name": "stderr",
     "output_type": "stream",
     "text": [
      "\u001b[32m2025-04-09 15:47:58.803\u001b[0m | \u001b[33m\u001b[1mWARNING \u001b[0m | \u001b[36mreadai.components.retrievers\u001b[0m:\u001b[36m_retrieve\u001b[0m:\u001b[36m553\u001b[0m - \u001b[33m\u001b[1mBM25Retriever does not support embeddings, skipping...\u001b[0m\n"
     ]
    },
    {
     "name": "stdout",
     "output_type": "stream",
     "text": [
      "\u001b[1;3;38;5;200mRetrieved node with id, entering: 9f9687b3-2074-4091-95cc-e1dcd97ad7b7\n",
      "\u001b[0m\u001b[1;3;34mRetrieving with query id 9f9687b3-2074-4091-95cc-e1dcd97ad7b7: 1. 为什么家长选择开车送孩子上学而不是让孩子自己上学？\n",
      "\u001b[0mGenerated queries:\n",
      "1. 调解员如何有效中断双方争吵的技巧\n"
     ]
    },
    {
     "name": "stderr",
     "output_type": "stream",
     "text": [
      "\u001b[32m2025-04-09 15:48:07.221\u001b[0m | \u001b[33m\u001b[1mWARNING \u001b[0m | \u001b[36mreadai.components.retrievers\u001b[0m:\u001b[36m_retrieve\u001b[0m:\u001b[36m553\u001b[0m - \u001b[33m\u001b[1mBM25Retriever does not support embeddings, skipping...\u001b[0m\n",
      "\u001b[32m2025-04-09 15:48:07.267\u001b[0m | \u001b[33m\u001b[1mWARNING \u001b[0m | \u001b[36mreadai.components.retrievers\u001b[0m:\u001b[36m_retrieve\u001b[0m:\u001b[36m553\u001b[0m - \u001b[33m\u001b[1mBM25Retriever does not support embeddings, skipping...\u001b[0m\n",
      "\u001b[32m2025-04-09 15:48:07.314\u001b[0m | \u001b[33m\u001b[1mWARNING \u001b[0m | \u001b[36mreadai.components.retrievers\u001b[0m:\u001b[36m_retrieve\u001b[0m:\u001b[36m553\u001b[0m - \u001b[33m\u001b[1mBM25Retriever does not support embeddings, skipping...\u001b[0m\n"
     ]
    },
    {
     "name": "stdout",
     "output_type": "stream",
     "text": [
      "Generated queries:\n",
      "1. 翻译者需要掌握哪些语言表达技巧？\n",
      "\u001b[1;3;34mRetrieving with query id None: 调解者如何打断争吵？\n",
      "\u001b[0m\u001b[1;3;38;5;200mRetrieved node with id, entering: cd036189-1e46-44dc-afcd-043baa4374f9\n",
      "\u001b[0m\u001b[1;3;34mRetrieving with query id cd036189-1e46-44dc-afcd-043baa4374f9: 调解者如何打断争吵？\n",
      "\u001b[0m\u001b[1;3;38;5;200mRetrieved node with id, entering: c2c66937-abb3-4c45-a1e0-38a994926174\n",
      "\u001b[0m\u001b[1;3;34mRetrieving with query id c2c66937-abb3-4c45-a1e0-38a994926174: 调解者如何打断争吵？\n",
      "\u001b[0m\u001b[1;3;34mRetrieving with query id None: 1. 调解员如何有效中断双方争吵的技巧\n",
      "\u001b[0m\u001b[1;3;38;5;200mRetrieved node with id, entering: cd036189-1e46-44dc-afcd-043baa4374f9\n",
      "\u001b[0m\u001b[1;3;34mRetrieving with query id cd036189-1e46-44dc-afcd-043baa4374f9: 1. 调解员如何有效中断双方争吵的技巧\n",
      "\u001b[0m\u001b[1;3;38;5;200mRetrieved node with id, entering: e9a2ec2c-89d5-42f9-b99d-26ff02d5b8bc\n",
      "\u001b[0m\u001b[1;3;34mRetrieving with query id e9a2ec2c-89d5-42f9-b99d-26ff02d5b8bc: 1. 调解员如何有效中断双方争吵的技巧\n",
      "\u001b[0m\u001b[1;3;38;5;200mRetrieved node with id, entering: c2c66937-abb3-4c45-a1e0-38a994926174\n",
      "\u001b[0m\u001b[1;3;34mRetrieving with query id c2c66937-abb3-4c45-a1e0-38a994926174: 1. 调解员如何有效中断双方争吵的技巧\n",
      "\u001b[0m\u001b[1;3;34mRetrieving with query id None: 翻译者需要学会说什么？\n",
      "\u001b[0m\u001b[1;3;38;5;200mRetrieved node with id, entering: 05a0cd5c-6562-4d9e-9992-b8c1e1c544da\n",
      "\u001b[0m\u001b[1;3;34mRetrieving with query id 05a0cd5c-6562-4d9e-9992-b8c1e1c544da: 翻译者需要学会说什么？\n",
      "\u001b[0m\u001b[1;3;38;5;200mRetrieved node with id, entering: c2c66937-abb3-4c45-a1e0-38a994926174\n",
      "\u001b[0m\u001b[1;3;34mRetrieving with query id c2c66937-abb3-4c45-a1e0-38a994926174: 翻译者需要学会说什么？\n",
      "\u001b[0m\u001b[1;3;38;5;200mRetrieved node with id, entering: 57af29f0-d5e6-413e-ac3b-425af8b634ff\n",
      "\u001b[0m\u001b[1;3;34mRetrieving with query id 57af29f0-d5e6-413e-ac3b-425af8b634ff: 翻译者需要学会说什么？\n",
      "\u001b[0m\u001b[1;3;34mRetrieving with query id None: 1. 翻译者需要掌握哪些语言表达技巧？\n",
      "\u001b[0m"
     ]
    },
    {
     "name": "stderr",
     "output_type": "stream",
     "text": [
      "\u001b[32m2025-04-09 15:48:07.361\u001b[0m | \u001b[33m\u001b[1mWARNING \u001b[0m | \u001b[36mreadai.components.retrievers\u001b[0m:\u001b[36m_retrieve\u001b[0m:\u001b[36m553\u001b[0m - \u001b[33m\u001b[1mBM25Retriever does not support embeddings, skipping...\u001b[0m\n"
     ]
    },
    {
     "name": "stdout",
     "output_type": "stream",
     "text": [
      "\u001b[1;3;38;5;200mRetrieved node with id, entering: 05a0cd5c-6562-4d9e-9992-b8c1e1c544da\n",
      "\u001b[0m\u001b[1;3;34mRetrieving with query id 05a0cd5c-6562-4d9e-9992-b8c1e1c544da: 1. 翻译者需要掌握哪些语言表达技巧？\n",
      "\u001b[0m\u001b[1;3;38;5;200mRetrieved node with id, entering: c2c66937-abb3-4c45-a1e0-38a994926174\n",
      "\u001b[0m\u001b[1;3;34mRetrieving with query id c2c66937-abb3-4c45-a1e0-38a994926174: 1. 翻译者需要掌握哪些语言表达技巧？\n",
      "\u001b[0m\u001b[1;3;38;5;200mRetrieved node with id, entering: e5c3524e-4830-4c63-8d69-a00c6833b975\n",
      "\u001b[0m\u001b[1;3;34mRetrieving with query id e5c3524e-4830-4c63-8d69-a00c6833b975: 1. 翻译者需要掌握哪些语言表达技巧？\n",
      "\u001b[0m\u001b[1;3;38;5;200mRetrieved node with id, entering: f9ea8138-a889-456c-8ea6-7d8bf7563771\n",
      "\u001b[0m\u001b[1;3;34mRetrieving with query id f9ea8138-a889-456c-8ea6-7d8bf7563771: 1. 翻译者需要掌握哪些语言表达技巧？\n",
      "\u001b[0mGenerated queries:\n",
      "1. 愤怒情绪与个人选择之间的关系是什么？\n"
     ]
    },
    {
     "name": "stderr",
     "output_type": "stream",
     "text": [
      "\u001b[32m2025-04-09 15:48:16.301\u001b[0m | \u001b[33m\u001b[1mWARNING \u001b[0m | \u001b[36mreadai.components.retrievers\u001b[0m:\u001b[36m_retrieve\u001b[0m:\u001b[36m553\u001b[0m - \u001b[33m\u001b[1mBM25Retriever does not support embeddings, skipping...\u001b[0m\n",
      "\u001b[32m2025-04-09 15:48:16.352\u001b[0m | \u001b[33m\u001b[1mWARNING \u001b[0m | \u001b[36mreadai.components.retrievers\u001b[0m:\u001b[36m_retrieve\u001b[0m:\u001b[36m553\u001b[0m - \u001b[33m\u001b[1mBM25Retriever does not support embeddings, skipping...\u001b[0m\n",
      "\u001b[32m2025-04-09 15:48:16.403\u001b[0m | \u001b[33m\u001b[1mWARNING \u001b[0m | \u001b[36mreadai.components.retrievers\u001b[0m:\u001b[36m_retrieve\u001b[0m:\u001b[36m553\u001b[0m - \u001b[33m\u001b[1mBM25Retriever does not support embeddings, skipping...\u001b[0m\n"
     ]
    },
    {
     "name": "stdout",
     "output_type": "stream",
     "text": [
      "Generated queries:\n",
      "1. 为什么会有不同的情绪感受？\n",
      "\u001b[1;3;34mRetrieving with query id None: 愤怒产生于哪种选择？\n",
      "\u001b[0m\u001b[1;3;38;5;200mRetrieved node with id, entering: 5e0aabca-dff2-4bb6-b210-c6c4e232a086\n",
      "\u001b[0m\u001b[1;3;34mRetrieving with query id 5e0aabca-dff2-4bb6-b210-c6c4e232a086: 愤怒产生于哪种选择？\n",
      "\u001b[0m\u001b[1;3;38;5;200mRetrieved node with id, entering: cde40d62-744a-4151-837c-83b2815d32fe\n",
      "\u001b[0m\u001b[1;3;34mRetrieving with query id cde40d62-744a-4151-837c-83b2815d32fe: 愤怒产生于哪种选择？\n",
      "\u001b[0m\u001b[1;3;38;5;200mRetrieved node with id, entering: 6d70940f-2516-4102-a5b4-fca469925da8\n",
      "\u001b[0m\u001b[1;3;34mRetrieving with query id 6d70940f-2516-4102-a5b4-fca469925da8: 愤怒产生于哪种选择？\n",
      "\u001b[0m\u001b[1;3;34mRetrieving with query id None: 1. 愤怒情绪与个人选择之间的关系是什么？\n",
      "\u001b[0m\u001b[1;3;38;5;200mRetrieved node with id, entering: 5e0aabca-dff2-4bb6-b210-c6c4e232a086\n",
      "\u001b[0m\u001b[1;3;34mRetrieving with query id 5e0aabca-dff2-4bb6-b210-c6c4e232a086: 1. 愤怒情绪与个人选择之间的关系是什么？\n",
      "\u001b[0m\u001b[1;3;38;5;200mRetrieved node with id, entering: cde40d62-744a-4151-837c-83b2815d32fe\n",
      "\u001b[0m\u001b[1;3;34mRetrieving with query id cde40d62-744a-4151-837c-83b2815d32fe: 1. 愤怒情绪与个人选择之间的关系是什么？\n",
      "\u001b[0m\u001b[1;3;38;5;200mRetrieved node with id, entering: a8f63fdd-3893-4761-be42-114957027a8b\n",
      "\u001b[0m\u001b[1;3;34mRetrieving with query id a8f63fdd-3893-4761-be42-114957027a8b: 1. 愤怒情绪与个人选择之间的关系是什么？\n",
      "\u001b[0m\u001b[1;3;34mRetrieving with query id None: 感受的原因是什么？\n",
      "\u001b[0m\u001b[1;3;38;5;200mRetrieved node with id, entering: e327daa0-0785-4d76-a805-8b512ef6dcac\n",
      "\u001b[0m\u001b[1;3;34mRetrieving with query id e327daa0-0785-4d76-a805-8b512ef6dcac: 感受的原因是什么？\n",
      "\u001b[0m\u001b[1;3;38;5;200mRetrieved node with id, entering: f61eaa03-5923-4ef0-8af1-84668b7dab4b\n",
      "\u001b[0m\u001b[1;3;34mRetrieving with query id f61eaa03-5923-4ef0-8af1-84668b7dab4b: 感受的原因是什么？\n",
      "\u001b[0m\u001b[1;3;38;5;200mRetrieved node with id, entering: a8f63fdd-3893-4761-be42-114957027a8b\n",
      "\u001b[0m\u001b[1;3;34mRetrieving with query id a8f63fdd-3893-4761-be42-114957027a8b: 感受的原因是什么？\n",
      "\u001b[0m\u001b[1;3;34mRetrieving with query id None: 1. 为什么会有不同的情绪感受？\n",
      "\u001b[0m"
     ]
    },
    {
     "name": "stderr",
     "output_type": "stream",
     "text": [
      "\u001b[32m2025-04-09 15:48:16.445\u001b[0m | \u001b[33m\u001b[1mWARNING \u001b[0m | \u001b[36mreadai.components.retrievers\u001b[0m:\u001b[36m_retrieve\u001b[0m:\u001b[36m553\u001b[0m - \u001b[33m\u001b[1mBM25Retriever does not support embeddings, skipping...\u001b[0m\n"
     ]
    },
    {
     "name": "stdout",
     "output_type": "stream",
     "text": [
      "\u001b[1;3;38;5;200mRetrieved node with id, entering: a8f63fdd-3893-4761-be42-114957027a8b\n",
      "\u001b[0m\u001b[1;3;34mRetrieving with query id a8f63fdd-3893-4761-be42-114957027a8b: 1. 为什么会有不同的情绪感受？\n",
      "\u001b[0m\u001b[1;3;38;5;200mRetrieved node with id, entering: 76464874-621e-4731-9dc1-895a1a6760a3\n",
      "\u001b[0m\u001b[1;3;34mRetrieving with query id 76464874-621e-4731-9dc1-895a1a6760a3: 1. 为什么会有不同的情绪感受？\n",
      "\u001b[0m\u001b[1;3;38;5;200mRetrieved node with id, entering: dfecf958-43a7-43d2-a894-1bca0d213839\n",
      "\u001b[0m\u001b[1;3;34mRetrieving with query id dfecf958-43a7-43d2-a894-1bca0d213839: 1. 为什么会有不同的情绪感受？\n",
      "\u001b[0m\u001b[1;3;38;5;200mRetrieved node with id, entering: 0b44d3b5-96cf-4673-88ae-f685984d9045\n",
      "\u001b[0m\u001b[1;3;34mRetrieving with query id 0b44d3b5-96cf-4673-88ae-f685984d9045: 1. 为什么会有不同的情绪感受？\n",
      "\u001b[0mGenerated queries:\n",
      "1. 老师应对课堂闯入者的有效方法有哪些？\n"
     ]
    },
    {
     "name": "stderr",
     "output_type": "stream",
     "text": [
      "\u001b[32m2025-04-09 15:48:25.446\u001b[0m | \u001b[33m\u001b[1mWARNING \u001b[0m | \u001b[36mreadai.components.retrievers\u001b[0m:\u001b[36m_retrieve\u001b[0m:\u001b[36m553\u001b[0m - \u001b[33m\u001b[1mBM25Retriever does not support embeddings, skipping...\u001b[0m\n",
      "\u001b[32m2025-04-09 15:48:25.499\u001b[0m | \u001b[33m\u001b[1mWARNING \u001b[0m | \u001b[36mreadai.components.retrievers\u001b[0m:\u001b[36m_retrieve\u001b[0m:\u001b[36m553\u001b[0m - \u001b[33m\u001b[1mBM25Retriever does not support embeddings, skipping...\u001b[0m\n",
      "\u001b[32m2025-04-09 15:48:25.549\u001b[0m | \u001b[33m\u001b[1mWARNING \u001b[0m | \u001b[36mreadai.components.retrievers\u001b[0m:\u001b[36m_retrieve\u001b[0m:\u001b[36m553\u001b[0m - \u001b[33m\u001b[1mBM25Retriever does not support embeddings, skipping...\u001b[0m\n"
     ]
    },
    {
     "name": "stdout",
     "output_type": "stream",
     "text": [
      "Generated queries:\n",
      "1. 警察处理群体愤怒事件的策略和技巧\n",
      "\u001b[1;3;34mRetrieving with query id None: 老师用什么方式回应闯入者？\n",
      "\u001b[0m\u001b[1;3;38;5;200mRetrieved node with id, entering: 2b33131b-b6b7-4b81-8165-e7b904e24dea\n",
      "\u001b[0m\u001b[1;3;34mRetrieving with query id 2b33131b-b6b7-4b81-8165-e7b904e24dea: 老师用什么方式回应闯入者？\n",
      "\u001b[0m\u001b[1;3;38;5;200mRetrieved node with id, entering: 0c1ebc18-974f-40a0-be55-f91c8e587bc7\n",
      "\u001b[0m\u001b[1;3;34mRetrieving with query id 0c1ebc18-974f-40a0-be55-f91c8e587bc7: 老师用什么方式回应闯入者？\n",
      "\u001b[0m\u001b[1;3;38;5;200mRetrieved node with id, entering: 72ec90fc-8d64-4488-8319-9f9f96952f18\n",
      "\u001b[0m\u001b[1;3;34mRetrieving with query id 72ec90fc-8d64-4488-8319-9f9f96952f18: 老师用什么方式回应闯入者？\n",
      "\u001b[0m\u001b[1;3;38;5;200mRetrieved node with id, entering: af90f2ee-62d7-4fbc-b60d-28cd2a88327d\n",
      "\u001b[0m\u001b[1;3;34mRetrieving with query id af90f2ee-62d7-4fbc-b60d-28cd2a88327d: 老师用什么方式回应闯入者？\n",
      "\u001b[0m\u001b[1;3;34mRetrieving with query id None: 1. 老师应对课堂闯入者的有效方法有哪些？\n",
      "\u001b[0m\u001b[1;3;38;5;200mRetrieved node with id, entering: 2b33131b-b6b7-4b81-8165-e7b904e24dea\n",
      "\u001b[0m\u001b[1;3;34mRetrieving with query id 2b33131b-b6b7-4b81-8165-e7b904e24dea: 1. 老师应对课堂闯入者的有效方法有哪些？\n",
      "\u001b[0m\u001b[1;3;38;5;200mRetrieved node with id, entering: 0c1ebc18-974f-40a0-be55-f91c8e587bc7\n",
      "\u001b[0m\u001b[1;3;34mRetrieving with query id 0c1ebc18-974f-40a0-be55-f91c8e587bc7: 1. 老师应对课堂闯入者的有效方法有哪些？\n",
      "\u001b[0m\u001b[1;3;34mRetrieving with query id None: 警官如何应对愤怒的人群？\n",
      "\u001b[0m\u001b[1;3;38;5;200mRetrieved node with id, entering: 72ec90fc-8d64-4488-8319-9f9f96952f18\n",
      "\u001b[0m\u001b[1;3;34mRetrieving with query id 72ec90fc-8d64-4488-8319-9f9f96952f18: 警官如何应对愤怒的人群？\n",
      "\u001b[0m\u001b[1;3;38;5;200mRetrieved node with id, entering: 7c1f6052-2855-4d13-a71d-ccbffd7c0934\n",
      "\u001b[0m\u001b[1;3;34mRetrieving with query id 7c1f6052-2855-4d13-a71d-ccbffd7c0934: 警官如何应对愤怒的人群？\n",
      "\u001b[0m\u001b[1;3;34mRetrieving with query id None: 1. 警察处理群体愤怒事件的策略和技巧\n",
      "\u001b[0m"
     ]
    },
    {
     "name": "stderr",
     "output_type": "stream",
     "text": [
      "\u001b[32m2025-04-09 15:48:25.595\u001b[0m | \u001b[33m\u001b[1mWARNING \u001b[0m | \u001b[36mreadai.components.retrievers\u001b[0m:\u001b[36m_retrieve\u001b[0m:\u001b[36m553\u001b[0m - \u001b[33m\u001b[1mBM25Retriever does not support embeddings, skipping...\u001b[0m\n"
     ]
    },
    {
     "name": "stdout",
     "output_type": "stream",
     "text": [
      "\u001b[1;3;38;5;200mRetrieved node with id, entering: 72ec90fc-8d64-4488-8319-9f9f96952f18\n",
      "\u001b[0m\u001b[1;3;34mRetrieving with query id 72ec90fc-8d64-4488-8319-9f9f96952f18: 1. 警察处理群体愤怒事件的策略和技巧\n",
      "\u001b[0m\u001b[1;3;38;5;200mRetrieved node with id, entering: 773a48a8-4fb6-4362-8b40-cebe5710649e\n",
      "\u001b[0m\u001b[1;3;34mRetrieving with query id 773a48a8-4fb6-4362-8b40-cebe5710649e: 1. 警察处理群体愤怒事件的策略和技巧\n",
      "\u001b[0m\u001b[1;3;38;5;200mRetrieved node with id, entering: 1f1078e0-9dd8-4516-aa14-fafe611a6f9e\n",
      "\u001b[0m\u001b[1;3;34mRetrieving with query id 1f1078e0-9dd8-4516-aa14-fafe611a6f9e: 1. 警察处理群体愤怒事件的策略和技巧\n",
      "\u001b[0mGenerated queries:\n",
      "1. 非暴力沟通的请求具体包括哪三个部分？\n"
     ]
    },
    {
     "name": "stderr",
     "output_type": "stream",
     "text": [
      "\u001b[32m2025-04-09 15:48:34.570\u001b[0m | \u001b[33m\u001b[1mWARNING \u001b[0m | \u001b[36mreadai.components.retrievers\u001b[0m:\u001b[36m_retrieve\u001b[0m:\u001b[36m553\u001b[0m - \u001b[33m\u001b[1mBM25Retriever does not support embeddings, skipping...\u001b[0m\n",
      "\u001b[32m2025-04-09 15:48:34.618\u001b[0m | \u001b[33m\u001b[1mWARNING \u001b[0m | \u001b[36mreadai.components.retrievers\u001b[0m:\u001b[36m_retrieve\u001b[0m:\u001b[36m553\u001b[0m - \u001b[33m\u001b[1mBM25Retriever does not support embeddings, skipping...\u001b[0m\n",
      "\u001b[32m2025-04-09 15:48:34.663\u001b[0m | \u001b[33m\u001b[1mWARNING \u001b[0m | \u001b[36mreadai.components.retrievers\u001b[0m:\u001b[36m_retrieve\u001b[0m:\u001b[36m553\u001b[0m - \u001b[33m\u001b[1mBM25Retriever does not support embeddings, skipping...\u001b[0m\n"
     ]
    },
    {
     "name": "stdout",
     "output_type": "stream",
     "text": [
      "Generated queries:\n",
      "1. 团体会议效率低下会带来哪些负面影响？\n",
      "\u001b[1;3;34mRetrieving with query id None: 非暴力沟通请求分为哪三方面？\n",
      "\u001b[0m\u001b[1;3;38;5;200mRetrieved node with id, entering: 268fc4c6-0d99-4363-b503-75330fc2d7e0\n",
      "\u001b[0m\u001b[1;3;34mRetrieving with query id 268fc4c6-0d99-4363-b503-75330fc2d7e0: 非暴力沟通请求分为哪三方面？\n",
      "\u001b[0m\u001b[1;3;38;5;200mRetrieved node with id, entering: 024a9f09-05ec-4745-a582-bb74c1b3754f\n",
      "\u001b[0m\u001b[1;3;34mRetrieving with query id 024a9f09-05ec-4745-a582-bb74c1b3754f: 非暴力沟通请求分为哪三方面？\n",
      "\u001b[0m\u001b[1;3;38;5;200mRetrieved node with id, entering: 137fef6e-cfb5-4b55-be53-a8ee0b5b285b\n",
      "\u001b[0m\u001b[1;3;34mRetrieving with query id 137fef6e-cfb5-4b55-be53-a8ee0b5b285b: 非暴力沟通请求分为哪三方面？\n",
      "\u001b[0m\u001b[1;3;34mRetrieving with query id None: 1. 非暴力沟通的请求具体包括哪三个部分？\n",
      "\u001b[0m\u001b[1;3;38;5;200mRetrieved node with id, entering: 268fc4c6-0d99-4363-b503-75330fc2d7e0\n",
      "\u001b[0m\u001b[1;3;34mRetrieving with query id 268fc4c6-0d99-4363-b503-75330fc2d7e0: 1. 非暴力沟通的请求具体包括哪三个部分？\n",
      "\u001b[0m\u001b[1;3;38;5;200mRetrieved node with id, entering: 024a9f09-05ec-4745-a582-bb74c1b3754f\n",
      "\u001b[0m\u001b[1;3;34mRetrieving with query id 024a9f09-05ec-4745-a582-bb74c1b3754f: 1. 非暴力沟通的请求具体包括哪三个部分？\n",
      "\u001b[0m\u001b[1;3;38;5;200mRetrieved node with id, entering: 137fef6e-cfb5-4b55-be53-a8ee0b5b285b\n",
      "\u001b[0m\u001b[1;3;34mRetrieving with query id 137fef6e-cfb5-4b55-be53-a8ee0b5b285b: 1. 非暴力沟通的请求具体包括哪三个部分？\n",
      "\u001b[0m\u001b[1;3;38;5;200mRetrieved node with id, entering: 198eaf12-aab4-43ba-b95c-f9dd4579adb9\n",
      "\u001b[0m\u001b[1;3;34mRetrieving with query id 198eaf12-aab4-43ba-b95c-f9dd4579adb9: 1. 非暴力沟通的请求具体包括哪三个部分？\n",
      "\u001b[0m\u001b[1;3;34mRetrieving with query id None: 团体会议效率低导致什么后果？\n",
      "\u001b[0m\u001b[1;3;38;5;200mRetrieved node with id, entering: 137fef6e-cfb5-4b55-be53-a8ee0b5b285b\n",
      "\u001b[0m\u001b[1;3;34mRetrieving with query id 137fef6e-cfb5-4b55-be53-a8ee0b5b285b: 团体会议效率低导致什么后果？\n",
      "\u001b[0m\u001b[1;3;38;5;200mRetrieved node with id, entering: 29eab11e-aa70-4692-bb0b-af01e7507871\n",
      "\u001b[0m\u001b[1;3;34mRetrieving with query id 29eab11e-aa70-4692-bb0b-af01e7507871: 团体会议效率低导致什么后果？\n",
      "\u001b[0m\u001b[1;3;34mRetrieving with query id None: 1. 团体会议效率低下会带来哪些负面影响？\n",
      "\u001b[0m"
     ]
    },
    {
     "name": "stderr",
     "output_type": "stream",
     "text": [
      "\u001b[32m2025-04-09 15:48:34.705\u001b[0m | \u001b[33m\u001b[1mWARNING \u001b[0m | \u001b[36mreadai.components.retrievers\u001b[0m:\u001b[36m_retrieve\u001b[0m:\u001b[36m553\u001b[0m - \u001b[33m\u001b[1mBM25Retriever does not support embeddings, skipping...\u001b[0m\n"
     ]
    },
    {
     "name": "stdout",
     "output_type": "stream",
     "text": [
      "\u001b[1;3;38;5;200mRetrieved node with id, entering: 137fef6e-cfb5-4b55-be53-a8ee0b5b285b\n",
      "\u001b[0m\u001b[1;3;34mRetrieving with query id 137fef6e-cfb5-4b55-be53-a8ee0b5b285b: 1. 团体会议效率低下会带来哪些负面影响？\n",
      "\u001b[0m\u001b[1;3;38;5;200mRetrieved node with id, entering: 29eab11e-aa70-4692-bb0b-af01e7507871\n",
      "\u001b[0m\u001b[1;3;34mRetrieving with query id 29eab11e-aa70-4692-bb0b-af01e7507871: 1. 团体会议效率低下会带来哪些负面影响？\n",
      "\u001b[0mGenerated queries:\n",
      "1. 作者童年时期的重要经历有哪些？\n"
     ]
    },
    {
     "name": "stderr",
     "output_type": "stream",
     "text": [
      "\u001b[32m2025-04-09 15:48:42.351\u001b[0m | \u001b[33m\u001b[1mWARNING \u001b[0m | \u001b[36mreadai.components.retrievers\u001b[0m:\u001b[36m_retrieve\u001b[0m:\u001b[36m553\u001b[0m - \u001b[33m\u001b[1mBM25Retriever does not support embeddings, skipping...\u001b[0m\n",
      "\u001b[32m2025-04-09 15:48:42.407\u001b[0m | \u001b[33m\u001b[1mWARNING \u001b[0m | \u001b[36mreadai.components.retrievers\u001b[0m:\u001b[36m_retrieve\u001b[0m:\u001b[36m553\u001b[0m - \u001b[33m\u001b[1mBM25Retriever does not support embeddings, skipping...\u001b[0m\n",
      "\u001b[32m2025-04-09 15:48:42.453\u001b[0m | \u001b[33m\u001b[1mWARNING \u001b[0m | \u001b[36mreadai.components.retrievers\u001b[0m:\u001b[36m_retrieve\u001b[0m:\u001b[36m553\u001b[0m - \u001b[33m\u001b[1mBM25Retriever does not support embeddings, skipping...\u001b[0m\n"
     ]
    },
    {
     "name": "stdout",
     "output_type": "stream",
     "text": [
      "Generated queries:\n",
      "1. 非暴力沟通的主要目标和作用是什么？\n",
      "\u001b[1;3;34mRetrieving with query id None: 作者童年时经历了什么事件？\n",
      "\u001b[0m\u001b[1;3;38;5;200mRetrieved node with id, entering: 78c9b482-6f22-4191-a715-b50155bed031\n",
      "\u001b[0m\u001b[1;3;34mRetrieving with query id 78c9b482-6f22-4191-a715-b50155bed031: 作者童年时经历了什么事件？\n",
      "\u001b[0m\u001b[1;3;38;5;200mRetrieved node with id, entering: faa30a2f-e807-4d8b-bcba-4b8a63fe4f98\n",
      "\u001b[0m\u001b[1;3;34mRetrieving with query id faa30a2f-e807-4d8b-bcba-4b8a63fe4f98: 作者童年时经历了什么事件？\n",
      "\u001b[0m\u001b[1;3;38;5;200mRetrieved node with id, entering: c6757a6c-d731-4b2d-9ad8-9a5b11adaf78\n",
      "\u001b[0m\u001b[1;3;34mRetrieving with query id c6757a6c-d731-4b2d-9ad8-9a5b11adaf78: 作者童年时经历了什么事件？\n",
      "\u001b[0m\u001b[1;3;38;5;200mRetrieved node with id, entering: 67948f36-d586-4c65-b2c5-d1422d639629\n",
      "\u001b[0m\u001b[1;3;34mRetrieving with query id 67948f36-d586-4c65-b2c5-d1422d639629: 作者童年时经历了什么事件？\n",
      "\u001b[0m\u001b[1;3;38;5;200mRetrieved node with id, entering: 8b9dd5f7-bf51-494d-b709-f648a13b8f9f\n",
      "\u001b[0m\u001b[1;3;34mRetrieving with query id 8b9dd5f7-bf51-494d-b709-f648a13b8f9f: 作者童年时经历了什么事件？\n",
      "\u001b[0m\u001b[1;3;34mRetrieving with query id None: 1. 作者童年时期的重要经历有哪些？\n",
      "\u001b[0m\u001b[1;3;38;5;200mRetrieved node with id, entering: 67948f36-d586-4c65-b2c5-d1422d639629\n",
      "\u001b[0m\u001b[1;3;34mRetrieving with query id 67948f36-d586-4c65-b2c5-d1422d639629: 1. 作者童年时期的重要经历有哪些？\n",
      "\u001b[0m\u001b[1;3;38;5;200mRetrieved node with id, entering: 78c9b482-6f22-4191-a715-b50155bed031\n",
      "\u001b[0m\u001b[1;3;34mRetrieving with query id 78c9b482-6f22-4191-a715-b50155bed031: 1. 作者童年时期的重要经历有哪些？\n",
      "\u001b[0m\u001b[1;3;38;5;200mRetrieved node with id, entering: faa30a2f-e807-4d8b-bcba-4b8a63fe4f98\n",
      "\u001b[0m\u001b[1;3;34mRetrieving with query id faa30a2f-e807-4d8b-bcba-4b8a63fe4f98: 1. 作者童年时期的重要经历有哪些？\n",
      "\u001b[0m\u001b[1;3;38;5;200mRetrieved node with id, entering: af90f2ee-62d7-4fbc-b60d-28cd2a88327d\n",
      "\u001b[0m\u001b[1;3;34mRetrieving with query id af90f2ee-62d7-4fbc-b60d-28cd2a88327d: 1. 作者童年时期的重要经历有哪些？\n",
      "\u001b[0m\u001b[1;3;34mRetrieving with query id None: 非暴力沟通的目的是什么？\n",
      "\u001b[0m\u001b[1;3;38;5;200mRetrieved node with id, entering: c160f42f-386b-43dd-bb09-afbf30ba22c6\n",
      "\u001b[0m\u001b[1;3;34mRetrieving with query id c160f42f-386b-43dd-bb09-afbf30ba22c6: 非暴力沟通的目的是什么？\n",
      "\u001b[0m\u001b[1;3;38;5;200mRetrieved node with id, entering: e1eea330-93d3-4572-aacf-f63833e322c5\n",
      "\u001b[0m\u001b[1;3;34mRetrieving with query id e1eea330-93d3-4572-aacf-f63833e322c5: 非暴力沟通的目的是什么？\n",
      "\u001b[0m\u001b[1;3;38;5;200mRetrieved node with id, entering: 024a9f09-05ec-4745-a582-bb74c1b3754f\n",
      "\u001b[0m\u001b[1;3;34mRetrieving with query id 024a9f09-05ec-4745-a582-bb74c1b3754f: 非暴力沟通的目的是什么？\n",
      "\u001b[0m\u001b[1;3;38;5;200mRetrieved node with id, entering: fc5fb51d-24f4-451e-93c2-bd8c9863a608\n",
      "\u001b[0m\u001b[1;3;34mRetrieving with query id fc5fb51d-24f4-451e-93c2-bd8c9863a608: 非暴力沟通的目的是什么？\n",
      "\u001b[0m\u001b[1;3;34mRetrieving with query id None: 1. 非暴力沟通的主要目标和作用是什么？\n",
      "\u001b[0m"
     ]
    },
    {
     "name": "stderr",
     "output_type": "stream",
     "text": [
      "\u001b[32m2025-04-09 15:48:42.496\u001b[0m | \u001b[33m\u001b[1mWARNING \u001b[0m | \u001b[36mreadai.components.retrievers\u001b[0m:\u001b[36m_retrieve\u001b[0m:\u001b[36m553\u001b[0m - \u001b[33m\u001b[1mBM25Retriever does not support embeddings, skipping...\u001b[0m\n"
     ]
    },
    {
     "name": "stdout",
     "output_type": "stream",
     "text": [
      "\u001b[1;3;38;5;200mRetrieved node with id, entering: c160f42f-386b-43dd-bb09-afbf30ba22c6\n",
      "\u001b[0m\u001b[1;3;34mRetrieving with query id c160f42f-386b-43dd-bb09-afbf30ba22c6: 1. 非暴力沟通的主要目标和作用是什么？\n",
      "\u001b[0m\u001b[1;3;38;5;200mRetrieved node with id, entering: c746ffdf-428c-4192-8dde-62d8e815e071\n",
      "\u001b[0m\u001b[1;3;34mRetrieving with query id c746ffdf-428c-4192-8dde-62d8e815e071: 1. 非暴力沟通的主要目标和作用是什么？\n",
      "\u001b[0m\u001b[1;3;38;5;200mRetrieved node with id, entering: e1eea330-93d3-4572-aacf-f63833e322c5\n",
      "\u001b[0m\u001b[1;3;34mRetrieving with query id e1eea330-93d3-4572-aacf-f63833e322c5: 1. 非暴力沟通的主要目标和作用是什么？\n",
      "\u001b[0m\u001b[1;3;38;5;200mRetrieved node with id, entering: c2819596-47c8-4676-a139-bd3802b104d5\n",
      "\u001b[0m\u001b[1;3;34mRetrieving with query id c2819596-47c8-4676-a139-bd3802b104d5: 1. 非暴力沟通的主要目标和作用是什么？\n",
      "\u001b[0mGenerated queries:\n",
      "1. 丹·格林伯格写过哪些书？\n"
     ]
    },
    {
     "name": "stderr",
     "output_type": "stream",
     "text": [
      "\u001b[32m2025-04-09 15:48:50.443\u001b[0m | \u001b[33m\u001b[1mWARNING \u001b[0m | \u001b[36mreadai.components.retrievers\u001b[0m:\u001b[36m_retrieve\u001b[0m:\u001b[36m553\u001b[0m - \u001b[33m\u001b[1mBM25Retriever does not support embeddings, skipping...\u001b[0m\n",
      "\u001b[32m2025-04-09 15:48:50.486\u001b[0m | \u001b[33m\u001b[1mWARNING \u001b[0m | \u001b[36mreadai.components.retrievers\u001b[0m:\u001b[36m_retrieve\u001b[0m:\u001b[36m553\u001b[0m - \u001b[33m\u001b[1mBM25Retriever does not support embeddings, skipping...\u001b[0m\n",
      "\u001b[32m2025-04-09 15:48:50.532\u001b[0m | \u001b[33m\u001b[1mWARNING \u001b[0m | \u001b[36mreadai.components.retrievers\u001b[0m:\u001b[36m_retrieve\u001b[0m:\u001b[36m553\u001b[0m - \u001b[33m\u001b[1mBM25Retriever does not support embeddings, skipping...\u001b[0m\n"
     ]
    },
    {
     "name": "stdout",
     "output_type": "stream",
     "text": [
      "Generated queries:\n",
      "1. 艾希曼在审判中使用哪种语言为自己辩护？\n",
      "\u001b[1;3;34mRetrieving with query id None: 丹·格林伯格的书名是？\n",
      "\u001b[0m\u001b[1;3;38;5;200mRetrieved node with id, entering: 67948f36-d586-4c65-b2c5-d1422d639629\n",
      "\u001b[0m\u001b[1;3;34mRetrieving with query id 67948f36-d586-4c65-b2c5-d1422d639629: 丹·格林伯格的书名是？\n",
      "\u001b[0m\u001b[1;3;38;5;200mRetrieved node with id, entering: 773cb481-465d-4253-84e2-0d7bdaf97972\n",
      "\u001b[0m\u001b[1;3;34mRetrieving with query id 773cb481-465d-4253-84e2-0d7bdaf97972: 丹·格林伯格的书名是？\n",
      "\u001b[0m\u001b[1;3;34mRetrieving with query id None: 1. 丹·格林伯格写过哪些书？\n",
      "\u001b[0m\u001b[1;3;38;5;200mRetrieved node with id, entering: 67948f36-d586-4c65-b2c5-d1422d639629\n",
      "\u001b[0m\u001b[1;3;34mRetrieving with query id 67948f36-d586-4c65-b2c5-d1422d639629: 1. 丹·格林伯格写过哪些书？\n",
      "\u001b[0m\u001b[1;3;38;5;200mRetrieved node with id, entering: 773cb481-465d-4253-84e2-0d7bdaf97972\n",
      "\u001b[0m\u001b[1;3;34mRetrieving with query id 773cb481-465d-4253-84e2-0d7bdaf97972: 1. 丹·格林伯格写过哪些书？\n",
      "\u001b[0m\u001b[1;3;34mRetrieving with query id None: 艾希曼用什么语言推卸责任？\n",
      "\u001b[0m\u001b[1;3;38;5;200mRetrieved node with id, entering: 67948f36-d586-4c65-b2c5-d1422d639629\n",
      "\u001b[0m\u001b[1;3;34mRetrieving with query id 67948f36-d586-4c65-b2c5-d1422d639629: 艾希曼用什么语言推卸责任？\n",
      "\u001b[0m\u001b[1;3;38;5;200mRetrieved node with id, entering: 601389fd-9d13-4dc7-b054-e396b0962163\n",
      "\u001b[0m\u001b[1;3;34mRetrieving with query id 601389fd-9d13-4dc7-b054-e396b0962163: 艾希曼用什么语言推卸责任？\n",
      "\u001b[0m\u001b[1;3;34mRetrieving with query id None: 1. 艾希曼在审判中使用哪种语言为自己辩护？\n",
      "\u001b[0m"
     ]
    },
    {
     "name": "stderr",
     "output_type": "stream",
     "text": [
      "\u001b[32m2025-04-09 15:48:50.576\u001b[0m | \u001b[33m\u001b[1mWARNING \u001b[0m | \u001b[36mreadai.components.retrievers\u001b[0m:\u001b[36m_retrieve\u001b[0m:\u001b[36m553\u001b[0m - \u001b[33m\u001b[1mBM25Retriever does not support embeddings, skipping...\u001b[0m\n"
     ]
    },
    {
     "name": "stdout",
     "output_type": "stream",
     "text": [
      "\u001b[1;3;38;5;200mRetrieved node with id, entering: 67948f36-d586-4c65-b2c5-d1422d639629\n",
      "\u001b[0m\u001b[1;3;34mRetrieving with query id 67948f36-d586-4c65-b2c5-d1422d639629: 1. 艾希曼在审判中使用哪种语言为自己辩护？\n",
      "\u001b[0m\u001b[1;3;38;5;200mRetrieved node with id, entering: 601389fd-9d13-4dc7-b054-e396b0962163\n",
      "\u001b[0m\u001b[1;3;34mRetrieving with query id 601389fd-9d13-4dc7-b054-e396b0962163: 1. 艾希曼在审判中使用哪种语言为自己辩护？\n",
      "\u001b[0m\u001b[1;3;38;5;200mRetrieved node with id, entering: 5ee44c05-56c9-4e8c-8f48-309d11863f91\n",
      "\u001b[0m\u001b[1;3;34mRetrieving with query id 5ee44c05-56c9-4e8c-8f48-309d11863f91: 1. 艾希曼在审判中使用哪种语言为自己辩护？\n",
      "\u001b[0mGenerated queries:\n",
      "1. 学生们最初对校长的哪些行为或政策表示不满？\n"
     ]
    },
    {
     "name": "stderr",
     "output_type": "stream",
     "text": [
      "\u001b[32m2025-04-09 15:48:59.790\u001b[0m | \u001b[33m\u001b[1mWARNING \u001b[0m | \u001b[36mreadai.components.retrievers\u001b[0m:\u001b[36m_retrieve\u001b[0m:\u001b[36m553\u001b[0m - \u001b[33m\u001b[1mBM25Retriever does not support embeddings, skipping...\u001b[0m\n",
      "\u001b[32m2025-04-09 15:48:59.829\u001b[0m | \u001b[33m\u001b[1mWARNING \u001b[0m | \u001b[36mreadai.components.retrievers\u001b[0m:\u001b[36m_retrieve\u001b[0m:\u001b[36m553\u001b[0m - \u001b[33m\u001b[1mBM25Retriever does not support embeddings, skipping...\u001b[0m\n",
      "\u001b[32m2025-04-09 15:48:59.870\u001b[0m | \u001b[33m\u001b[1mWARNING \u001b[0m | \u001b[36mreadai.components.retrievers\u001b[0m:\u001b[36m_retrieve\u001b[0m:\u001b[36m553\u001b[0m - \u001b[33m\u001b[1mBM25Retriever does not support embeddings, skipping...\u001b[0m\n",
      "\u001b[32m2025-04-09 15:48:59.912\u001b[0m | \u001b[33m\u001b[1mWARNING \u001b[0m | \u001b[36mreadai.components.retrievers\u001b[0m:\u001b[36m_retrieve\u001b[0m:\u001b[36m553\u001b[0m - \u001b[33m\u001b[1mBM25Retriever does not support embeddings, skipping...\u001b[0m\n"
     ]
    },
    {
     "name": "stdout",
     "output_type": "stream",
     "text": [
      "Generated queries:\n",
      "1. 学生们向校长提交的具体请求内容有哪些？\n",
      "\u001b[1;3;34mRetrieving with query id None: 学生们最初对校长有什么不满？\n",
      "\u001b[0m\u001b[1;3;38;5;200mRetrieved node with id, entering: 3318465e-bb4f-44fd-90a2-c5f5239ed118\n",
      "\u001b[0m\u001b[1;3;34mRetrieving with query id 3318465e-bb4f-44fd-90a2-c5f5239ed118: 学生们最初对校长有什么不满？\n",
      "\u001b[0m\u001b[1;3;38;5;200mRetrieved node with id, entering: a33fa6df-5414-41da-b1ca-779de63a7df9\n",
      "\u001b[0m\u001b[1;3;34mRetrieving with query id a33fa6df-5414-41da-b1ca-779de63a7df9: 学生们最初对校长有什么不满？\n",
      "\u001b[0m\u001b[1;3;38;5;200mRetrieved node with id, entering: af90f2ee-62d7-4fbc-b60d-28cd2a88327d\n",
      "\u001b[0m\u001b[1;3;34mRetrieving with query id af90f2ee-62d7-4fbc-b60d-28cd2a88327d: 学生们最初对校长有什么不满？\n",
      "\u001b[0m\u001b[1;3;34mRetrieving with query id None: 1. 学生们最初对校长的哪些行为或政策表示不满？\n",
      "\u001b[0m\u001b[1;3;38;5;200mRetrieved node with id, entering: af90f2ee-62d7-4fbc-b60d-28cd2a88327d\n",
      "\u001b[0m\u001b[1;3;34mRetrieving with query id af90f2ee-62d7-4fbc-b60d-28cd2a88327d: 1. 学生们最初对校长的哪些行为或政策表示不满？\n",
      "\u001b[0m\u001b[1;3;38;5;200mRetrieved node with id, entering: 3318465e-bb4f-44fd-90a2-c5f5239ed118\n",
      "\u001b[0m\u001b[1;3;34mRetrieving with query id 3318465e-bb4f-44fd-90a2-c5f5239ed118: 1. 学生们最初对校长的哪些行为或政策表示不满？\n",
      "\u001b[0m\u001b[1;3;34mRetrieving with query id None: 学生们最终向校长提交了多少项请求？\n",
      "\u001b[0m\u001b[1;3;38;5;200mRetrieved node with id, entering: 3318465e-bb4f-44fd-90a2-c5f5239ed118\n",
      "\u001b[0m\u001b[1;3;34mRetrieving with query id 3318465e-bb4f-44fd-90a2-c5f5239ed118: 学生们最终向校长提交了多少项请求？\n",
      "\u001b[0m\u001b[1;3;38;5;200mRetrieved node with id, entering: 0c1ebc18-974f-40a0-be55-f91c8e587bc7\n",
      "\u001b[0m\u001b[1;3;34mRetrieving with query id 0c1ebc18-974f-40a0-be55-f91c8e587bc7: 学生们最终向校长提交了多少项请求？\n",
      "\u001b[0m\u001b[1;3;34mRetrieving with query id None: 1. 学生们向校长提交的具体请求内容有哪些？\n",
      "\u001b[0m\u001b[1;3;38;5;200mRetrieved node with id, entering: 3318465e-bb4f-44fd-90a2-c5f5239ed118\n",
      "\u001b[0m\u001b[1;3;34mRetrieving with query id 3318465e-bb4f-44fd-90a2-c5f5239ed118: 1. 学生们向校长提交的具体请求内容有哪些？\n",
      "\u001b[0mGenerated queries:\n",
      "1. 母亲对儿子表达的情感有哪些？\n"
     ]
    },
    {
     "name": "stderr",
     "output_type": "stream",
     "text": [
      "\u001b[32m2025-04-09 15:49:09.188\u001b[0m | \u001b[33m\u001b[1mWARNING \u001b[0m | \u001b[36mreadai.components.retrievers\u001b[0m:\u001b[36m_retrieve\u001b[0m:\u001b[36m553\u001b[0m - \u001b[33m\u001b[1mBM25Retriever does not support embeddings, skipping...\u001b[0m\n",
      "\u001b[32m2025-04-09 15:49:09.236\u001b[0m | \u001b[33m\u001b[1mWARNING \u001b[0m | \u001b[36mreadai.components.retrievers\u001b[0m:\u001b[36m_retrieve\u001b[0m:\u001b[36m553\u001b[0m - \u001b[33m\u001b[1mBM25Retriever does not support embeddings, skipping...\u001b[0m\n",
      "\u001b[32m2025-04-09 15:49:09.284\u001b[0m | \u001b[33m\u001b[1mWARNING \u001b[0m | \u001b[36mreadai.components.retrievers\u001b[0m:\u001b[36m_retrieve\u001b[0m:\u001b[36m553\u001b[0m - \u001b[33m\u001b[1mBM25Retriever does not support embeddings, skipping...\u001b[0m\n"
     ]
    },
    {
     "name": "stdout",
     "output_type": "stream",
     "text": [
      "Generated queries:\n",
      "1. 学生常见的负面标签有哪些？\n",
      "\u001b[1;3;34mRetrieving with query id None: 母亲向儿子表达了什么感受？\n",
      "\u001b[0m\u001b[1;3;38;5;200mRetrieved node with id, entering: 56849c71-c844-4a50-ac5d-4d70f32bcc70\n",
      "\u001b[0m\u001b[1;3;34mRetrieving with query id 56849c71-c844-4a50-ac5d-4d70f32bcc70: 母亲向儿子表达了什么感受？\n",
      "\u001b[0m\u001b[1;3;38;5;200mRetrieved node with id, entering: 3f10573a-f85f-4b9c-8531-ec115cb98251\n",
      "\u001b[0m\u001b[1;3;34mRetrieving with query id 3f10573a-f85f-4b9c-8531-ec115cb98251: 母亲向儿子表达了什么感受？\n",
      "\u001b[0m\u001b[1;3;38;5;200mRetrieved node with id, entering: 59d54651-c161-45c6-800f-97966e6dacba\n",
      "\u001b[0m\u001b[1;3;34mRetrieving with query id 59d54651-c161-45c6-800f-97966e6dacba: 母亲向儿子表达了什么感受？\n",
      "\u001b[0m\u001b[1;3;34mRetrieving with query id None: 1. 母亲对儿子表达的情感有哪些？\n",
      "\u001b[0m\u001b[1;3;38;5;200mRetrieved node with id, entering: 56849c71-c844-4a50-ac5d-4d70f32bcc70\n",
      "\u001b[0m\u001b[1;3;34mRetrieving with query id 56849c71-c844-4a50-ac5d-4d70f32bcc70: 1. 母亲对儿子表达的情感有哪些？\n",
      "\u001b[0m\u001b[1;3;38;5;200mRetrieved node with id, entering: f61eaa03-5923-4ef0-8af1-84668b7dab4b\n",
      "\u001b[0m\u001b[1;3;34mRetrieving with query id f61eaa03-5923-4ef0-8af1-84668b7dab4b: 1. 母亲对儿子表达的情感有哪些？\n",
      "\u001b[0m\u001b[1;3;34mRetrieving with query id None: 学生被贴上了什么标签？\n",
      "\u001b[0m\u001b[1;3;38;5;200mRetrieved node with id, entering: ff7d2d52-d603-43f9-b965-318026c87831\n",
      "\u001b[0m\u001b[1;3;34mRetrieving with query id ff7d2d52-d603-43f9-b965-318026c87831: 学生被贴上了什么标签？\n",
      "\u001b[0m\u001b[1;3;34mRetrieving with query id None: 1. 学生常见的负面标签有哪些？\n",
      "\u001b[0m"
     ]
    },
    {
     "name": "stderr",
     "output_type": "stream",
     "text": [
      "\u001b[32m2025-04-09 15:49:09.328\u001b[0m | \u001b[33m\u001b[1mWARNING \u001b[0m | \u001b[36mreadai.components.retrievers\u001b[0m:\u001b[36m_retrieve\u001b[0m:\u001b[36m553\u001b[0m - \u001b[33m\u001b[1mBM25Retriever does not support embeddings, skipping...\u001b[0m\n"
     ]
    },
    {
     "name": "stdout",
     "output_type": "stream",
     "text": [
      "\u001b[1;3;38;5;200mRetrieved node with id, entering: ff7d2d52-d603-43f9-b965-318026c87831\n",
      "\u001b[0m\u001b[1;3;34mRetrieving with query id ff7d2d52-d603-43f9-b965-318026c87831: 1. 学生常见的负面标签有哪些？\n",
      "\u001b[0mGenerated queries:\n",
      "1. 愤怒的心理学根源是什么？\n"
     ]
    },
    {
     "name": "stderr",
     "output_type": "stream",
     "text": [
      "\u001b[32m2025-04-09 15:49:17.498\u001b[0m | \u001b[33m\u001b[1mWARNING \u001b[0m | \u001b[36mreadai.components.retrievers\u001b[0m:\u001b[36m_retrieve\u001b[0m:\u001b[36m553\u001b[0m - \u001b[33m\u001b[1mBM25Retriever does not support embeddings, skipping...\u001b[0m\n",
      "\u001b[32m2025-04-09 15:49:17.546\u001b[0m | \u001b[33m\u001b[1mWARNING \u001b[0m | \u001b[36mreadai.components.retrievers\u001b[0m:\u001b[36m_retrieve\u001b[0m:\u001b[36m553\u001b[0m - \u001b[33m\u001b[1mBM25Retriever does not support embeddings, skipping...\u001b[0m\n",
      "\u001b[32m2025-04-09 15:49:17.592\u001b[0m | \u001b[33m\u001b[1mWARNING \u001b[0m | \u001b[36mreadai.components.retrievers\u001b[0m:\u001b[36m_retrieve\u001b[0m:\u001b[36m553\u001b[0m - \u001b[33m\u001b[1mBM25Retriever does not support embeddings, skipping...\u001b[0m\n"
     ]
    },
    {
     "name": "stdout",
     "output_type": "stream",
     "text": [
      "Generated queries:\n",
      "1. 作者在作品中鼻子被击中的情节有哪些？\n",
      "\u001b[1;3;34mRetrieving with query id None: 愤怒的核心是什么？\n",
      "\u001b[0m\u001b[1;3;38;5;200mRetrieved node with id, entering: 6d70940f-2516-4102-a5b4-fca469925da8\n",
      "\u001b[0m\u001b[1;3;34mRetrieving with query id 6d70940f-2516-4102-a5b4-fca469925da8: 愤怒的核心是什么？\n",
      "\u001b[0m\u001b[1;3;34mRetrieving with query id None: 1. 愤怒的心理学根源是什么？\n",
      "\u001b[0m\u001b[1;3;38;5;200mRetrieved node with id, entering: 6d70940f-2516-4102-a5b4-fca469925da8\n",
      "\u001b[0m\u001b[1;3;34mRetrieving with query id 6d70940f-2516-4102-a5b4-fca469925da8: 1. 愤怒的心理学根源是什么？\n",
      "\u001b[0m\u001b[1;3;38;5;200mRetrieved node with id, entering: a8f63fdd-3893-4761-be42-114957027a8b\n",
      "\u001b[0m\u001b[1;3;34mRetrieving with query id a8f63fdd-3893-4761-be42-114957027a8b: 1. 愤怒的心理学根源是什么？\n",
      "\u001b[0m\u001b[1;3;38;5;200mRetrieved node with id, entering: 7c1f6052-2855-4d13-a71d-ccbffd7c0934\n",
      "\u001b[0m\u001b[1;3;34mRetrieving with query id 7c1f6052-2855-4d13-a71d-ccbffd7c0934: 1. 愤怒的心理学根源是什么？\n",
      "\u001b[0m\u001b[1;3;38;5;200mRetrieved node with id, entering: 5e0aabca-dff2-4bb6-b210-c6c4e232a086\n",
      "\u001b[0m\u001b[1;3;34mRetrieving with query id 5e0aabca-dff2-4bb6-b210-c6c4e232a086: 1. 愤怒的心理学根源是什么？\n",
      "\u001b[0m\u001b[1;3;34mRetrieving with query id None: 作者鼻子被击中几次？\n",
      "\u001b[0m\u001b[1;3;38;5;200mRetrieved node with id, entering: 6d70940f-2516-4102-a5b4-fca469925da8\n",
      "\u001b[0m\u001b[1;3;34mRetrieving with query id 6d70940f-2516-4102-a5b4-fca469925da8: 作者鼻子被击中几次？\n",
      "\u001b[0m\u001b[1;3;34mRetrieving with query id None: 1. 作者在作品中鼻子被击中的情节有哪些？\n",
      "\u001b[0m"
     ]
    },
    {
     "name": "stderr",
     "output_type": "stream",
     "text": [
      "\u001b[32m2025-04-09 15:49:17.636\u001b[0m | \u001b[33m\u001b[1mWARNING \u001b[0m | \u001b[36mreadai.components.retrievers\u001b[0m:\u001b[36m_retrieve\u001b[0m:\u001b[36m553\u001b[0m - \u001b[33m\u001b[1mBM25Retriever does not support embeddings, skipping...\u001b[0m\n"
     ]
    },
    {
     "name": "stdout",
     "output_type": "stream",
     "text": [
      "\u001b[1;3;38;5;200mRetrieved node with id, entering: 6d70940f-2516-4102-a5b4-fca469925da8\n",
      "\u001b[0m\u001b[1;3;34mRetrieving with query id 6d70940f-2516-4102-a5b4-fca469925da8: 1. 作者在作品中鼻子被击中的情节有哪些？\n",
      "\u001b[0mGenerated queries:\n",
      "1. 疏离生命的语言有哪些具体表现？\n"
     ]
    },
    {
     "name": "stderr",
     "output_type": "stream",
     "text": [
      "\u001b[32m2025-04-09 15:49:26.417\u001b[0m | \u001b[33m\u001b[1mWARNING \u001b[0m | \u001b[36mreadai.components.retrievers\u001b[0m:\u001b[36m_retrieve\u001b[0m:\u001b[36m553\u001b[0m - \u001b[33m\u001b[1mBM25Retriever does not support embeddings, skipping...\u001b[0m\n",
      "\u001b[32m2025-04-09 15:49:26.464\u001b[0m | \u001b[33m\u001b[1mWARNING \u001b[0m | \u001b[36mreadai.components.retrievers\u001b[0m:\u001b[36m_retrieve\u001b[0m:\u001b[36m553\u001b[0m - \u001b[33m\u001b[1mBM25Retriever does not support embeddings, skipping...\u001b[0m\n",
      "\u001b[32m2025-04-09 15:49:26.517\u001b[0m | \u001b[33m\u001b[1mWARNING \u001b[0m | \u001b[36mreadai.components.retrievers\u001b[0m:\u001b[36m_retrieve\u001b[0m:\u001b[36m553\u001b[0m - \u001b[33m\u001b[1mBM25Retriever does not support embeddings, skipping...\u001b[0m\n"
     ]
    },
    {
     "name": "stdout",
     "output_type": "stream",
     "text": [
      "Generated queries:\n",
      "1. 鲁米属于苏菲派诗人吗？\n",
      "\u001b[1;3;34mRetrieving with query id None: 疏离生命的语言包括什么？\n",
      "\u001b[0m\u001b[1;3;38;5;200mRetrieved node with id, entering: 31be7710-c72a-4c83-907f-cfb79d68bb68\n",
      "\u001b[0m\u001b[1;3;34mRetrieving with query id 31be7710-c72a-4c83-907f-cfb79d68bb68: 疏离生命的语言包括什么？\n",
      "\u001b[0m\u001b[1;3;38;5;200mRetrieved node with id, entering: 356fa243-3942-46b2-8ac4-6a42042320a4\n",
      "\u001b[0m\u001b[1;3;34mRetrieving with query id 356fa243-3942-46b2-8ac4-6a42042320a4: 疏离生命的语言包括什么？\n",
      "\u001b[0m\u001b[1;3;34mRetrieving with query id None: 1. 疏离生命的语言有哪些具体表现？\n",
      "\u001b[0m\u001b[1;3;38;5;200mRetrieved node with id, entering: 31be7710-c72a-4c83-907f-cfb79d68bb68\n",
      "\u001b[0m\u001b[1;3;34mRetrieving with query id 31be7710-c72a-4c83-907f-cfb79d68bb68: 1. 疏离生命的语言有哪些具体表现？\n",
      "\u001b[0m\u001b[1;3;38;5;200mRetrieved node with id, entering: 356fa243-3942-46b2-8ac4-6a42042320a4\n",
      "\u001b[0m\u001b[1;3;34mRetrieving with query id 356fa243-3942-46b2-8ac4-6a42042320a4: 1. 疏离生命的语言有哪些具体表现？\n",
      "\u001b[0m\u001b[1;3;34mRetrieving with query id None: 鲁米是哪派诗人？\n",
      "\u001b[0m\u001b[1;3;38;5;200mRetrieved node with id, entering: 356fa243-3942-46b2-8ac4-6a42042320a4\n",
      "\u001b[0m\u001b[1;3;34mRetrieving with query id 356fa243-3942-46b2-8ac4-6a42042320a4: 鲁米是哪派诗人？\n",
      "\u001b[0m\u001b[1;3;38;5;200mRetrieved node with id, entering: 57af29f0-d5e6-413e-ac3b-425af8b634ff\n",
      "\u001b[0m\u001b[1;3;34mRetrieving with query id 57af29f0-d5e6-413e-ac3b-425af8b634ff: 鲁米是哪派诗人？\n",
      "\u001b[0m\u001b[1;3;38;5;200mRetrieved node with id, entering: 4b4c71fe-c4a1-4ebd-9027-90420a52f3c7\n",
      "\u001b[0m\u001b[1;3;34mRetrieving with query id 4b4c71fe-c4a1-4ebd-9027-90420a52f3c7: 鲁米是哪派诗人？\n",
      "\u001b[0m\u001b[1;3;38;5;200mRetrieved node with id, entering: 7b5a47cb-9add-42fd-a70f-b497ebbeefcf\n",
      "\u001b[0m\u001b[1;3;34mRetrieving with query id 7b5a47cb-9add-42fd-a70f-b497ebbeefcf: 鲁米是哪派诗人？\n",
      "\u001b[0m\u001b[1;3;34mRetrieving with query id None: 1. 鲁米属于苏菲派诗人吗？\n",
      "\u001b[0m"
     ]
    },
    {
     "name": "stderr",
     "output_type": "stream",
     "text": [
      "\u001b[32m2025-04-09 15:49:26.558\u001b[0m | \u001b[33m\u001b[1mWARNING \u001b[0m | \u001b[36mreadai.components.retrievers\u001b[0m:\u001b[36m_retrieve\u001b[0m:\u001b[36m553\u001b[0m - \u001b[33m\u001b[1mBM25Retriever does not support embeddings, skipping...\u001b[0m\n"
     ]
    },
    {
     "name": "stdout",
     "output_type": "stream",
     "text": [
      "\u001b[1;3;38;5;200mRetrieved node with id, entering: 356fa243-3942-46b2-8ac4-6a42042320a4\n",
      "\u001b[0m\u001b[1;3;34mRetrieving with query id 356fa243-3942-46b2-8ac4-6a42042320a4: 1. 鲁米属于苏菲派诗人吗？\n",
      "\u001b[0m\u001b[1;3;38;5;200mRetrieved node with id, entering: 67948f36-d586-4c65-b2c5-d1422d639629\n",
      "\u001b[0m\u001b[1;3;34mRetrieving with query id 67948f36-d586-4c65-b2c5-d1422d639629: 1. 鲁米属于苏菲派诗人吗？\n",
      "\u001b[0m\u001b[1;3;38;5;200mRetrieved node with id, entering: 57af29f0-d5e6-413e-ac3b-425af8b634ff\n",
      "\u001b[0m\u001b[1;3;34mRetrieving with query id 57af29f0-d5e6-413e-ac3b-425af8b634ff: 1. 鲁米属于苏菲派诗人吗？\n",
      "\u001b[0m\u001b[1;3;38;5;200mRetrieved node with id, entering: d23ed0c2-0974-4e8d-8f92-0ac95fdb43db\n",
      "\u001b[0m\u001b[1;3;34mRetrieving with query id d23ed0c2-0974-4e8d-8f92-0ac95fdb43db: 1. 鲁米属于苏菲派诗人吗？\n",
      "\u001b[0mGenerated queries:\n",
      "1. 校长在会议中的主要职责和常见发言内容有哪些？\n"
     ]
    },
    {
     "name": "stderr",
     "output_type": "stream",
     "text": [
      "\u001b[32m2025-04-09 15:49:36.107\u001b[0m | \u001b[33m\u001b[1mWARNING \u001b[0m | \u001b[36mreadai.components.retrievers\u001b[0m:\u001b[36m_retrieve\u001b[0m:\u001b[36m553\u001b[0m - \u001b[33m\u001b[1mBM25Retriever does not support embeddings, skipping...\u001b[0m\n",
      "\u001b[32m2025-04-09 15:49:36.157\u001b[0m | \u001b[33m\u001b[1mWARNING \u001b[0m | \u001b[36mreadai.components.retrievers\u001b[0m:\u001b[36m_retrieve\u001b[0m:\u001b[36m553\u001b[0m - \u001b[33m\u001b[1mBM25Retriever does not support embeddings, skipping...\u001b[0m\n",
      "\u001b[32m2025-04-09 15:49:36.206\u001b[0m | \u001b[33m\u001b[1mWARNING \u001b[0m | \u001b[36mreadai.components.retrievers\u001b[0m:\u001b[36m_retrieve\u001b[0m:\u001b[36m553\u001b[0m - \u001b[33m\u001b[1mBM25Retriever does not support embeddings, skipping...\u001b[0m\n"
     ]
    },
    {
     "name": "stdout",
     "output_type": "stream",
     "text": [
      "Generated queries:\n",
      "1. 教师表达不满的常见方式有哪些？\n",
      "\u001b[1;3;34mRetrieving with query id None: 校长在会议上常做什么？\n",
      "\u001b[0m\u001b[1;3;38;5;200mRetrieved node with id, entering: af90f2ee-62d7-4fbc-b60d-28cd2a88327d\n",
      "\u001b[0m\u001b[1;3;34mRetrieving with query id af90f2ee-62d7-4fbc-b60d-28cd2a88327d: 校长在会议上常做什么？\n",
      "\u001b[0m\u001b[1;3;38;5;200mRetrieved node with id, entering: 9465ac7b-bdd4-47bc-817c-18e292b85b0d\n",
      "\u001b[0m\u001b[1;3;34mRetrieving with query id 9465ac7b-bdd4-47bc-817c-18e292b85b0d: 校长在会议上常做什么？\n",
      "\u001b[0m\u001b[1;3;38;5;200mRetrieved node with id, entering: 3318465e-bb4f-44fd-90a2-c5f5239ed118\n",
      "\u001b[0m\u001b[1;3;34mRetrieving with query id 3318465e-bb4f-44fd-90a2-c5f5239ed118: 校长在会议上常做什么？\n",
      "\u001b[0m\u001b[1;3;34mRetrieving with query id None: 1. 校长在会议中的主要职责和常见发言内容有哪些？\n",
      "\u001b[0m\u001b[1;3;38;5;200mRetrieved node with id, entering: 9465ac7b-bdd4-47bc-817c-18e292b85b0d\n",
      "\u001b[0m\u001b[1;3;34mRetrieving with query id 9465ac7b-bdd4-47bc-817c-18e292b85b0d: 1. 校长在会议中的主要职责和常见发言内容有哪些？\n",
      "\u001b[0m\u001b[1;3;38;5;200mRetrieved node with id, entering: af90f2ee-62d7-4fbc-b60d-28cd2a88327d\n",
      "\u001b[0m\u001b[1;3;34mRetrieving with query id af90f2ee-62d7-4fbc-b60d-28cd2a88327d: 1. 校长在会议中的主要职责和常见发言内容有哪些？\n",
      "\u001b[0m\u001b[1;3;34mRetrieving with query id None: 老师们如何表达不满？\n",
      "\u001b[0m\u001b[1;3;38;5;200mRetrieved node with id, entering: af90f2ee-62d7-4fbc-b60d-28cd2a88327d\n",
      "\u001b[0m\u001b[1;3;34mRetrieving with query id af90f2ee-62d7-4fbc-b60d-28cd2a88327d: 老师们如何表达不满？\n",
      "\u001b[0m\u001b[1;3;34mRetrieving with query id None: 1. 教师表达不满的常见方式有哪些？\n",
      "\u001b[0m"
     ]
    },
    {
     "name": "stderr",
     "output_type": "stream",
     "text": [
      "\u001b[32m2025-04-09 15:49:36.251\u001b[0m | \u001b[33m\u001b[1mWARNING \u001b[0m | \u001b[36mreadai.components.retrievers\u001b[0m:\u001b[36m_retrieve\u001b[0m:\u001b[36m553\u001b[0m - \u001b[33m\u001b[1mBM25Retriever does not support embeddings, skipping...\u001b[0m\n"
     ]
    },
    {
     "name": "stdout",
     "output_type": "stream",
     "text": [
      "\u001b[1;3;38;5;200mRetrieved node with id, entering: af90f2ee-62d7-4fbc-b60d-28cd2a88327d\n",
      "\u001b[0m\u001b[1;3;34mRetrieving with query id af90f2ee-62d7-4fbc-b60d-28cd2a88327d: 1. 教师表达不满的常见方式有哪些？\n",
      "\u001b[0m\u001b[1;3;38;5;200mRetrieved node with id, entering: ff7d2d52-d603-43f9-b965-318026c87831\n",
      "\u001b[0m\u001b[1;3;34mRetrieving with query id ff7d2d52-d603-43f9-b965-318026c87831: 1. 教师表达不满的常见方式有哪些？\n",
      "\u001b[0mGenerated queries:\n",
      "1. 甘地关于改变世界的核心思想是什么？\n"
     ]
    },
    {
     "name": "stderr",
     "output_type": "stream",
     "text": [
      "\u001b[32m2025-04-09 15:49:44.318\u001b[0m | \u001b[33m\u001b[1mWARNING \u001b[0m | \u001b[36mreadai.components.retrievers\u001b[0m:\u001b[36m_retrieve\u001b[0m:\u001b[36m553\u001b[0m - \u001b[33m\u001b[1mBM25Retriever does not support embeddings, skipping...\u001b[0m\n",
      "\u001b[32m2025-04-09 15:49:44.367\u001b[0m | \u001b[33m\u001b[1mWARNING \u001b[0m | \u001b[36mreadai.components.retrievers\u001b[0m:\u001b[36m_retrieve\u001b[0m:\u001b[36m553\u001b[0m - \u001b[33m\u001b[1mBM25Retriever does not support embeddings, skipping...\u001b[0m\n",
      "\u001b[32m2025-04-09 15:49:44.417\u001b[0m | \u001b[33m\u001b[1mWARNING \u001b[0m | \u001b[36mreadai.components.retrievers\u001b[0m:\u001b[36m_retrieve\u001b[0m:\u001b[36m553\u001b[0m - \u001b[33m\u001b[1mBM25Retriever does not support embeddings, skipping...\u001b[0m\n"
     ]
    },
    {
     "name": "stdout",
     "output_type": "stream",
     "text": [
      "Generated queries:\n",
      "1. 戏剧《一千个小丑》主要角色介绍\n",
      "\u001b[1;3;34mRetrieving with query id None: 甘地认为改变世界的关键是？\n",
      "\u001b[0m\u001b[1;3;38;5;200mRetrieved node with id, entering: a6873754-6bbd-4808-bbbb-7455d3641d2d\n",
      "\u001b[0m\u001b[1;3;34mRetrieving with query id a6873754-6bbd-4808-bbbb-7455d3641d2d: 甘地认为改变世界的关键是？\n",
      "\u001b[0m\u001b[1;3;38;5;200mRetrieved node with id, entering: ecf04b61-fd74-4e7d-a44a-5ac13a8d5003\n",
      "\u001b[0m\u001b[1;3;34mRetrieving with query id ecf04b61-fd74-4e7d-a44a-5ac13a8d5003: 甘地认为改变世界的关键是？\n",
      "\u001b[0m\u001b[1;3;38;5;200mRetrieved node with id, entering: 773cb481-465d-4253-84e2-0d7bdaf97972\n",
      "\u001b[0m\u001b[1;3;34mRetrieving with query id 773cb481-465d-4253-84e2-0d7bdaf97972: 甘地认为改变世界的关键是？\n",
      "\u001b[0m\u001b[1;3;38;5;200mRetrieved node with id, entering: 5f44342d-77d1-4243-a602-6b0ecbfe5edf\n",
      "\u001b[0m\u001b[1;3;34mRetrieving with query id 5f44342d-77d1-4243-a602-6b0ecbfe5edf: 甘地认为改变世界的关键是？\n",
      "\u001b[0m\u001b[1;3;34mRetrieving with query id None: 1. 甘地关于改变世界的核心思想是什么？\n",
      "\u001b[0m\u001b[1;3;38;5;200mRetrieved node with id, entering: a6873754-6bbd-4808-bbbb-7455d3641d2d\n",
      "\u001b[0m\u001b[1;3;34mRetrieving with query id a6873754-6bbd-4808-bbbb-7455d3641d2d: 1. 甘地关于改变世界的核心思想是什么？\n",
      "\u001b[0m\u001b[1;3;38;5;200mRetrieved node with id, entering: 773cb481-465d-4253-84e2-0d7bdaf97972\n",
      "\u001b[0m\u001b[1;3;34mRetrieving with query id 773cb481-465d-4253-84e2-0d7bdaf97972: 1. 甘地关于改变世界的核心思想是什么？\n",
      "\u001b[0m\u001b[1;3;38;5;200mRetrieved node with id, entering: ec158e58-d431-4c0c-a0ba-f619f935b79f\n",
      "\u001b[0m\u001b[1;3;34mRetrieving with query id ec158e58-d431-4c0c-a0ba-f619f935b79f: 1. 甘地关于改变世界的核心思想是什么？\n",
      "\u001b[0m\u001b[1;3;34mRetrieving with query id None: 戏剧《一千个小丑》的主人公是谁？\n",
      "\u001b[0m\u001b[1;3;38;5;200mRetrieved node with id, entering: a6873754-6bbd-4808-bbbb-7455d3641d2d\n",
      "\u001b[0m\u001b[1;3;34mRetrieving with query id a6873754-6bbd-4808-bbbb-7455d3641d2d: 戏剧《一千个小丑》的主人公是谁？\n",
      "\u001b[0m\u001b[1;3;38;5;200mRetrieved node with id, entering: 67948f36-d586-4c65-b2c5-d1422d639629\n",
      "\u001b[0m\u001b[1;3;34mRetrieving with query id 67948f36-d586-4c65-b2c5-d1422d639629: 戏剧《一千个小丑》的主人公是谁？\n",
      "\u001b[0m\u001b[1;3;38;5;200mRetrieved node with id, entering: 8b9dd5f7-bf51-494d-b709-f648a13b8f9f\n",
      "\u001b[0m\u001b[1;3;34mRetrieving with query id 8b9dd5f7-bf51-494d-b709-f648a13b8f9f: 戏剧《一千个小丑》的主人公是谁？\n",
      "\u001b[0m\u001b[1;3;38;5;200mRetrieved node with id, entering: 991577d6-5459-48cb-a0ba-fe3e7e7d0214\n",
      "\u001b[0m\u001b[1;3;34mRetrieving with query id 991577d6-5459-48cb-a0ba-fe3e7e7d0214: 戏剧《一千个小丑》的主人公是谁？\n",
      "\u001b[0m\u001b[1;3;34mRetrieving with query id None: 1. 戏剧《一千个小丑》主要角色介绍\n",
      "\u001b[0m"
     ]
    },
    {
     "name": "stderr",
     "output_type": "stream",
     "text": [
      "\u001b[32m2025-04-09 15:49:44.462\u001b[0m | \u001b[33m\u001b[1mWARNING \u001b[0m | \u001b[36mreadai.components.retrievers\u001b[0m:\u001b[36m_retrieve\u001b[0m:\u001b[36m553\u001b[0m - \u001b[33m\u001b[1mBM25Retriever does not support embeddings, skipping...\u001b[0m\n"
     ]
    },
    {
     "name": "stdout",
     "output_type": "stream",
     "text": [
      "\u001b[1;3;38;5;200mRetrieved node with id, entering: a6873754-6bbd-4808-bbbb-7455d3641d2d\n",
      "\u001b[0m\u001b[1;3;34mRetrieving with query id a6873754-6bbd-4808-bbbb-7455d3641d2d: 1. 戏剧《一千个小丑》主要角色介绍\n",
      "\u001b[0m\u001b[1;3;38;5;200mRetrieved node with id, entering: 0b44d3b5-96cf-4673-88ae-f685984d9045\n",
      "\u001b[0m\u001b[1;3;34mRetrieving with query id 0b44d3b5-96cf-4673-88ae-f685984d9045: 1. 戏剧《一千个小丑》主要角色介绍\n",
      "\u001b[0m\u001b[1;3;38;5;200mRetrieved node with id, entering: cd036189-1e46-44dc-afcd-043baa4374f9\n",
      "\u001b[0m\u001b[1;3;34mRetrieving with query id cd036189-1e46-44dc-afcd-043baa4374f9: 1. 戏剧《一千个小丑》主要角色介绍\n",
      "\u001b[0mGenerated queries:\n",
      "1. 夫妻调解中常用的沟通技巧有哪些？\n"
     ]
    },
    {
     "name": "stderr",
     "output_type": "stream",
     "text": [
      "\u001b[32m2025-04-09 15:49:52.873\u001b[0m | \u001b[33m\u001b[1mWARNING \u001b[0m | \u001b[36mreadai.components.retrievers\u001b[0m:\u001b[36m_retrieve\u001b[0m:\u001b[36m553\u001b[0m - \u001b[33m\u001b[1mBM25Retriever does not support embeddings, skipping...\u001b[0m\n",
      "\u001b[32m2025-04-09 15:49:52.922\u001b[0m | \u001b[33m\u001b[1mWARNING \u001b[0m | \u001b[36mreadai.components.retrievers\u001b[0m:\u001b[36m_retrieve\u001b[0m:\u001b[36m553\u001b[0m - \u001b[33m\u001b[1mBM25Retriever does not support embeddings, skipping...\u001b[0m\n",
      "\u001b[32m2025-04-09 15:49:52.970\u001b[0m | \u001b[33m\u001b[1mWARNING \u001b[0m | \u001b[36mreadai.components.retrievers\u001b[0m:\u001b[36m_retrieve\u001b[0m:\u001b[36m553\u001b[0m - \u001b[33m\u001b[1mBM25Retriever does not support embeddings, skipping...\u001b[0m\n"
     ]
    },
    {
     "name": "stdout",
     "output_type": "stream",
     "text": [
      "Generated queries:\n",
      "1. 女性常见心理痛苦的原因有哪些？\n",
      "\u001b[1;3;34mRetrieving with query id None: 调解人用什么方法帮助夫妻？\n",
      "\u001b[0m\u001b[1;3;38;5;200mRetrieved node with id, entering: e9a2ec2c-89d5-42f9-b99d-26ff02d5b8bc\n",
      "\u001b[0m\u001b[1;3;34mRetrieving with query id e9a2ec2c-89d5-42f9-b99d-26ff02d5b8bc: 调解人用什么方法帮助夫妻？\n",
      "\u001b[0m\u001b[1;3;38;5;200mRetrieved node with id, entering: f2932829-0d06-48d4-bdd6-05309f04664a\n",
      "\u001b[0m\u001b[1;3;34mRetrieving with query id f2932829-0d06-48d4-bdd6-05309f04664a: 调解人用什么方法帮助夫妻？\n",
      "\u001b[0m\u001b[1;3;34mRetrieving with query id None: 1. 夫妻调解中常用的沟通技巧有哪些？\n",
      "\u001b[0m\u001b[1;3;38;5;200mRetrieved node with id, entering: e9a2ec2c-89d5-42f9-b99d-26ff02d5b8bc\n",
      "\u001b[0m\u001b[1;3;34mRetrieving with query id e9a2ec2c-89d5-42f9-b99d-26ff02d5b8bc: 1. 夫妻调解中常用的沟通技巧有哪些？\n",
      "\u001b[0m\u001b[1;3;38;5;200mRetrieved node with id, entering: 773a48a8-4fb6-4362-8b40-cebe5710649e\n",
      "\u001b[0m\u001b[1;3;34mRetrieving with query id 773a48a8-4fb6-4362-8b40-cebe5710649e: 1. 夫妻调解中常用的沟通技巧有哪些？\n",
      "\u001b[0m\u001b[1;3;38;5;200mRetrieved node with id, entering: f2932829-0d06-48d4-bdd6-05309f04664a\n",
      "\u001b[0m\u001b[1;3;34mRetrieving with query id f2932829-0d06-48d4-bdd6-05309f04664a: 1. 夫妻调解中常用的沟通技巧有哪些？\n",
      "\u001b[0m\u001b[1;3;34mRetrieving with query id None: 女士为何感到痛苦？\n",
      "\u001b[0m\u001b[1;3;38;5;200mRetrieved node with id, entering: f579121b-f157-4233-b2f2-8201c024d73c\n",
      "\u001b[0m\u001b[1;3;34mRetrieving with query id f579121b-f157-4233-b2f2-8201c024d73c: 女士为何感到痛苦？\n",
      "\u001b[0m\u001b[1;3;38;5;200mRetrieved node with id, entering: 22182f51-fdb9-4351-b147-cf14ed79dc3d\n",
      "\u001b[0m\u001b[1;3;34mRetrieving with query id 22182f51-fdb9-4351-b147-cf14ed79dc3d: 女士为何感到痛苦？\n",
      "\u001b[0m\u001b[1;3;38;5;200mRetrieved node with id, entering: 1d9b4cb4-fce3-40c1-8e5b-bd457d1ecc60\n",
      "\u001b[0m\u001b[1;3;34mRetrieving with query id 1d9b4cb4-fce3-40c1-8e5b-bd457d1ecc60: 女士为何感到痛苦？\n",
      "\u001b[0m\u001b[1;3;34mRetrieving with query id None: 1. 女性常见心理痛苦的原因有哪些？\n",
      "\u001b[0m"
     ]
    },
    {
     "name": "stderr",
     "output_type": "stream",
     "text": [
      "\u001b[32m2025-04-09 15:49:53.012\u001b[0m | \u001b[33m\u001b[1mWARNING \u001b[0m | \u001b[36mreadai.components.retrievers\u001b[0m:\u001b[36m_retrieve\u001b[0m:\u001b[36m553\u001b[0m - \u001b[33m\u001b[1mBM25Retriever does not support embeddings, skipping...\u001b[0m\n"
     ]
    },
    {
     "name": "stdout",
     "output_type": "stream",
     "text": [
      "\u001b[1;3;38;5;200mRetrieved node with id, entering: 76464874-621e-4731-9dc1-895a1a6760a3\n",
      "\u001b[0m\u001b[1;3;34mRetrieving with query id 76464874-621e-4731-9dc1-895a1a6760a3: 1. 女性常见心理痛苦的原因有哪些？\n",
      "\u001b[0m\u001b[1;3;38;5;200mRetrieved node with id, entering: f579121b-f157-4233-b2f2-8201c024d73c\n",
      "\u001b[0m\u001b[1;3;34mRetrieving with query id f579121b-f157-4233-b2f2-8201c024d73c: 1. 女性常见心理痛苦的原因有哪些？\n",
      "\u001b[0m\u001b[1;3;38;5;200mRetrieved node with id, entering: dfecf958-43a7-43d2-a894-1bca0d213839\n",
      "\u001b[0m\u001b[1;3;34mRetrieving with query id dfecf958-43a7-43d2-a894-1bca0d213839: 1. 女性常见心理痛苦的原因有哪些？\n",
      "\u001b[0mGenerated queries:\n",
      "1. 非暴力沟通中的哀悼具体含义是什么？\n"
     ]
    },
    {
     "name": "stderr",
     "output_type": "stream",
     "text": [
      "\u001b[32m2025-04-09 15:50:00.969\u001b[0m | \u001b[33m\u001b[1mWARNING \u001b[0m | \u001b[36mreadai.components.retrievers\u001b[0m:\u001b[36m_retrieve\u001b[0m:\u001b[36m553\u001b[0m - \u001b[33m\u001b[1mBM25Retriever does not support embeddings, skipping...\u001b[0m\n",
      "\u001b[32m2025-04-09 15:50:01.018\u001b[0m | \u001b[33m\u001b[1mWARNING \u001b[0m | \u001b[36mreadai.components.retrievers\u001b[0m:\u001b[36m_retrieve\u001b[0m:\u001b[36m553\u001b[0m - \u001b[33m\u001b[1mBM25Retriever does not support embeddings, skipping...\u001b[0m\n",
      "\u001b[32m2025-04-09 15:50:01.064\u001b[0m | \u001b[33m\u001b[1mWARNING \u001b[0m | \u001b[36mreadai.components.retrievers\u001b[0m:\u001b[36m_retrieve\u001b[0m:\u001b[36m553\u001b[0m - \u001b[33m\u001b[1mBM25Retriever does not support embeddings, skipping...\u001b[0m\n"
     ]
    },
    {
     "name": "stdout",
     "output_type": "stream",
     "text": [
      "Generated queries:\n",
      "1. 自我宽恕需要满足哪些条件？\n",
      "\u001b[1;3;34mRetrieving with query id None: 非暴力沟通中的哀悼指什么？\n",
      "\u001b[0m\u001b[1;3;38;5;200mRetrieved node with id, entering: 4dc12044-a1d1-46dc-a753-1f848f69970c\n",
      "\u001b[0m\u001b[1;3;34mRetrieving with query id 4dc12044-a1d1-46dc-a753-1f848f69970c: 非暴力沟通中的哀悼指什么？\n",
      "\u001b[0m\u001b[1;3;38;5;200mRetrieved node with id, entering: 491faa5d-8f86-4a13-9b0f-587708176f14\n",
      "\u001b[0m\u001b[1;3;34mRetrieving with query id 491faa5d-8f86-4a13-9b0f-587708176f14: 非暴力沟通中的哀悼指什么？\n",
      "\u001b[0m\u001b[1;3;38;5;200mRetrieved node with id, entering: 601389fd-9d13-4dc7-b054-e396b0962163\n",
      "\u001b[0m\u001b[1;3;34mRetrieving with query id 601389fd-9d13-4dc7-b054-e396b0962163: 非暴力沟通中的哀悼指什么？\n",
      "\u001b[0m\u001b[1;3;34mRetrieving with query id None: 1. 非暴力沟通中的哀悼具体含义是什么？\n",
      "\u001b[0m\u001b[1;3;38;5;200mRetrieved node with id, entering: 4dc12044-a1d1-46dc-a753-1f848f69970c\n",
      "\u001b[0m\u001b[1;3;34mRetrieving with query id 4dc12044-a1d1-46dc-a753-1f848f69970c: 1. 非暴力沟通中的哀悼具体含义是什么？\n",
      "\u001b[0m\u001b[1;3;38;5;200mRetrieved node with id, entering: 491faa5d-8f86-4a13-9b0f-587708176f14\n",
      "\u001b[0m\u001b[1;3;34mRetrieving with query id 491faa5d-8f86-4a13-9b0f-587708176f14: 1. 非暴力沟通中的哀悼具体含义是什么？\n",
      "\u001b[0m\u001b[1;3;38;5;200mRetrieved node with id, entering: 601389fd-9d13-4dc7-b054-e396b0962163\n",
      "\u001b[0m\u001b[1;3;34mRetrieving with query id 601389fd-9d13-4dc7-b054-e396b0962163: 1. 非暴力沟通中的哀悼具体含义是什么？\n",
      "\u001b[0m\u001b[1;3;34mRetrieving with query id None: 自我宽恕的前提是什么？\n",
      "\u001b[0m\u001b[1;3;38;5;200mRetrieved node with id, entering: dd6e1dca-6bd7-4542-8d30-7b17dd2b9ea0\n",
      "\u001b[0m\u001b[1;3;34mRetrieving with query id dd6e1dca-6bd7-4542-8d30-7b17dd2b9ea0: 自我宽恕的前提是什么？\n",
      "\u001b[0m\u001b[1;3;38;5;200mRetrieved node with id, entering: 4dc12044-a1d1-46dc-a753-1f848f69970c\n",
      "\u001b[0m\u001b[1;3;34mRetrieving with query id 4dc12044-a1d1-46dc-a753-1f848f69970c: 自我宽恕的前提是什么？\n",
      "\u001b[0m\u001b[1;3;38;5;200mRetrieved node with id, entering: 5fd22041-b5d8-431d-bead-ce7740c10e71\n",
      "\u001b[0m\u001b[1;3;34mRetrieving with query id 5fd22041-b5d8-431d-bead-ce7740c10e71: 自我宽恕的前提是什么？\n",
      "\u001b[0m\u001b[1;3;34mRetrieving with query id None: 1. 自我宽恕需要满足哪些条件？\n",
      "\u001b[0m"
     ]
    },
    {
     "name": "stderr",
     "output_type": "stream",
     "text": [
      "\u001b[32m2025-04-09 15:50:01.112\u001b[0m | \u001b[33m\u001b[1mWARNING \u001b[0m | \u001b[36mreadai.components.retrievers\u001b[0m:\u001b[36m_retrieve\u001b[0m:\u001b[36m553\u001b[0m - \u001b[33m\u001b[1mBM25Retriever does not support embeddings, skipping...\u001b[0m\n"
     ]
    },
    {
     "name": "stdout",
     "output_type": "stream",
     "text": [
      "\u001b[1;3;38;5;200mRetrieved node with id, entering: 4dc12044-a1d1-46dc-a753-1f848f69970c\n",
      "\u001b[0m\u001b[1;3;34mRetrieving with query id 4dc12044-a1d1-46dc-a753-1f848f69970c: 1. 自我宽恕需要满足哪些条件？\n",
      "\u001b[0m\u001b[1;3;38;5;200mRetrieved node with id, entering: dd6e1dca-6bd7-4542-8d30-7b17dd2b9ea0\n",
      "\u001b[0m\u001b[1;3;34mRetrieving with query id dd6e1dca-6bd7-4542-8d30-7b17dd2b9ea0: 1. 自我宽恕需要满足哪些条件？\n",
      "\u001b[0mGenerated queries:\n",
      "1. 恋爱关系中哪个阶段最容易发生争吵和指责？\n"
     ]
    },
    {
     "name": "stderr",
     "output_type": "stream",
     "text": [
      "\u001b[32m2025-04-09 15:50:10.591\u001b[0m | \u001b[33m\u001b[1mWARNING \u001b[0m | \u001b[36mreadai.components.retrievers\u001b[0m:\u001b[36m_retrieve\u001b[0m:\u001b[36m553\u001b[0m - \u001b[33m\u001b[1mBM25Retriever does not support embeddings, skipping...\u001b[0m\n",
      "\u001b[32m2025-04-09 15:50:10.645\u001b[0m | \u001b[33m\u001b[1mWARNING \u001b[0m | \u001b[36mreadai.components.retrievers\u001b[0m:\u001b[36m_retrieve\u001b[0m:\u001b[36m553\u001b[0m - \u001b[33m\u001b[1mBM25Retriever does not support embeddings, skipping...\u001b[0m\n",
      "\u001b[32m2025-04-09 15:50:10.691\u001b[0m | \u001b[33m\u001b[1mWARNING \u001b[0m | \u001b[36mreadai.components.retrievers\u001b[0m:\u001b[36m_retrieve\u001b[0m:\u001b[36m553\u001b[0m - \u001b[33m\u001b[1mBM25Retriever does not support embeddings, skipping...\u001b[0m\n"
     ]
    },
    {
     "name": "stdout",
     "output_type": "stream",
     "text": [
      "Generated queries:\n",
      "1. 作者的女儿姓名是什么？\n",
      "\u001b[1;3;34mRetrieving with query id None: 伴侣在哪个阶段容易指责对方？\n",
      "\u001b[0m\u001b[1;3;38;5;200mRetrieved node with id, entering: 0b44d3b5-96cf-4673-88ae-f685984d9045\n",
      "\u001b[0m\u001b[1;3;34mRetrieving with query id 0b44d3b5-96cf-4673-88ae-f685984d9045: 伴侣在哪个阶段容易指责对方？\n",
      "\u001b[0m\u001b[1;3;38;5;200mRetrieved node with id, entering: c327e5b0-320f-4e6c-a67d-609d6b16da68\n",
      "\u001b[0m\u001b[1;3;34mRetrieving with query id c327e5b0-320f-4e6c-a67d-609d6b16da68: 伴侣在哪个阶段容易指责对方？\n",
      "\u001b[0m\u001b[1;3;34mRetrieving with query id None: 1. 恋爱关系中哪个阶段最容易发生争吵和指责？\n",
      "\u001b[0m\u001b[1;3;38;5;200mRetrieved node with id, entering: 0b44d3b5-96cf-4673-88ae-f685984d9045\n",
      "\u001b[0m\u001b[1;3;34mRetrieving with query id 0b44d3b5-96cf-4673-88ae-f685984d9045: 1. 恋爱关系中哪个阶段最容易发生争吵和指责？\n",
      "\u001b[0m\u001b[1;3;38;5;200mRetrieved node with id, entering: 8b9dd5f7-bf51-494d-b709-f648a13b8f9f\n",
      "\u001b[0m\u001b[1;3;34mRetrieving with query id 8b9dd5f7-bf51-494d-b709-f648a13b8f9f: 1. 恋爱关系中哪个阶段最容易发生争吵和指责？\n",
      "\u001b[0m\u001b[1;3;34mRetrieving with query id None: 作者的女儿叫什么名字？\n",
      "\u001b[0m\u001b[1;3;38;5;200mRetrieved node with id, entering: 8ecf6729-0ff8-4b3f-9bc1-042d515a8769\n",
      "\u001b[0m\u001b[1;3;34mRetrieving with query id 8ecf6729-0ff8-4b3f-9bc1-042d515a8769: 作者的女儿叫什么名字？\n",
      "\u001b[0m\u001b[1;3;38;5;200mRetrieved node with id, entering: 0b44d3b5-96cf-4673-88ae-f685984d9045\n",
      "\u001b[0m\u001b[1;3;34mRetrieving with query id 0b44d3b5-96cf-4673-88ae-f685984d9045: 作者的女儿叫什么名字？\n",
      "\u001b[0m\u001b[1;3;38;5;200mRetrieved node with id, entering: 5fee85ad-5af3-43fe-8cc6-6a6702763064\n",
      "\u001b[0m\u001b[1;3;34mRetrieving with query id 5fee85ad-5af3-43fe-8cc6-6a6702763064: 作者的女儿叫什么名字？\n",
      "\u001b[0m\u001b[1;3;38;5;200mRetrieved node with id, entering: 5e8705e5-6eee-42e9-8551-dae3d2843602\n",
      "\u001b[0m\u001b[1;3;34mRetrieving with query id 5e8705e5-6eee-42e9-8551-dae3d2843602: 作者的女儿叫什么名字？\n",
      "\u001b[0m\u001b[1;3;34mRetrieving with query id None: 1. 作者的女儿姓名是什么？\n",
      "\u001b[0m"
     ]
    },
    {
     "name": "stderr",
     "output_type": "stream",
     "text": [
      "\u001b[32m2025-04-09 15:50:10.735\u001b[0m | \u001b[33m\u001b[1mWARNING \u001b[0m | \u001b[36mreadai.components.retrievers\u001b[0m:\u001b[36m_retrieve\u001b[0m:\u001b[36m553\u001b[0m - \u001b[33m\u001b[1mBM25Retriever does not support embeddings, skipping...\u001b[0m\n"
     ]
    },
    {
     "name": "stdout",
     "output_type": "stream",
     "text": [
      "\u001b[1;3;38;5;200mRetrieved node with id, entering: 0b44d3b5-96cf-4673-88ae-f685984d9045\n",
      "\u001b[0m\u001b[1;3;34mRetrieving with query id 0b44d3b5-96cf-4673-88ae-f685984d9045: 1. 作者的女儿姓名是什么？\n",
      "\u001b[0m\u001b[1;3;38;5;200mRetrieved node with id, entering: faa30a2f-e807-4d8b-bcba-4b8a63fe4f98\n",
      "\u001b[0m\u001b[1;3;34mRetrieving with query id faa30a2f-e807-4d8b-bcba-4b8a63fe4f98: 1. 作者的女儿姓名是什么？\n",
      "\u001b[0m\u001b[1;3;38;5;200mRetrieved node with id, entering: 8ecf6729-0ff8-4b3f-9bc1-042d515a8769\n",
      "\u001b[0m\u001b[1;3;34mRetrieving with query id 8ecf6729-0ff8-4b3f-9bc1-042d515a8769: 1. 作者的女儿姓名是什么？\n",
      "\u001b[0mGenerated queries:\n",
      "1. 员工在工作中最看重哪些因素？\n"
     ]
    },
    {
     "name": "stderr",
     "output_type": "stream",
     "text": [
      "\u001b[32m2025-04-09 15:50:20.522\u001b[0m | \u001b[33m\u001b[1mWARNING \u001b[0m | \u001b[36mreadai.components.retrievers\u001b[0m:\u001b[36m_retrieve\u001b[0m:\u001b[36m553\u001b[0m - \u001b[33m\u001b[1mBM25Retriever does not support embeddings, skipping...\u001b[0m\n",
      "\u001b[32m2025-04-09 15:50:20.570\u001b[0m | \u001b[33m\u001b[1mWARNING \u001b[0m | \u001b[36mreadai.components.retrievers\u001b[0m:\u001b[36m_retrieve\u001b[0m:\u001b[36m553\u001b[0m - \u001b[33m\u001b[1mBM25Retriever does not support embeddings, skipping...\u001b[0m\n",
      "\u001b[32m2025-04-09 15:50:20.614\u001b[0m | \u001b[33m\u001b[1mWARNING \u001b[0m | \u001b[36mreadai.components.retrievers\u001b[0m:\u001b[36m_retrieve\u001b[0m:\u001b[36m553\u001b[0m - \u001b[33m\u001b[1mBM25Retriever does not support embeddings, skipping...\u001b[0m\n"
     ]
    },
    {
     "name": "stdout",
     "output_type": "stream",
     "text": [
      "Generated queries:\n",
      "1. 庇护中心里女性工作人员的具体职责有哪些？\n",
      "\u001b[1;3;34mRetrieving with query id None: 人们渴望在工作中得到什么？\n",
      "\u001b[0m\u001b[1;3;38;5;200mRetrieved node with id, entering: b118014a-c4e5-4e4f-993d-83894eb9a1db\n",
      "\u001b[0m\u001b[1;3;34mRetrieving with query id b118014a-c4e5-4e4f-993d-83894eb9a1db: 人们渴望在工作中得到什么？\n",
      "\u001b[0m\u001b[1;3;38;5;200mRetrieved node with id, entering: ba1c15e0-bbd4-4d88-bcbb-efcde1299ab2\n",
      "\u001b[0m\u001b[1;3;34mRetrieving with query id ba1c15e0-bbd4-4d88-bcbb-efcde1299ab2: 人们渴望在工作中得到什么？\n",
      "\u001b[0m\u001b[1;3;34mRetrieving with query id None: 1. 员工在工作中最看重哪些因素？\n",
      "\u001b[0m\u001b[1;3;38;5;200mRetrieved node with id, entering: 356fa243-3942-46b2-8ac4-6a42042320a4\n",
      "\u001b[0m\u001b[1;3;34mRetrieving with query id 356fa243-3942-46b2-8ac4-6a42042320a4: 1. 员工在工作中最看重哪些因素？\n",
      "\u001b[0m\u001b[1;3;38;5;200mRetrieved node with id, entering: a6873754-6bbd-4808-bbbb-7455d3641d2d\n",
      "\u001b[0m\u001b[1;3;34mRetrieving with query id a6873754-6bbd-4808-bbbb-7455d3641d2d: 1. 员工在工作中最看重哪些因素？\n",
      "\u001b[0m\u001b[1;3;38;5;200mRetrieved node with id, entering: d87c1b99-4bcc-4940-8f75-393fa47fbd67\n",
      "\u001b[0m\u001b[1;3;34mRetrieving with query id d87c1b99-4bcc-4940-8f75-393fa47fbd67: 1. 员工在工作中最看重哪些因素？\n",
      "\u001b[0m\u001b[1;3;38;5;200mRetrieved node with id, entering: a33fa6df-5414-41da-b1ca-779de63a7df9\n",
      "\u001b[0m\u001b[1;3;34mRetrieving with query id a33fa6df-5414-41da-b1ca-779de63a7df9: 1. 员工在工作中最看重哪些因素？\n",
      "\u001b[0m\u001b[1;3;34mRetrieving with query id None: 女士在庇护中心担任什么职务？\n",
      "\u001b[0m\u001b[1;3;38;5;200mRetrieved node with id, entering: b118014a-c4e5-4e4f-993d-83894eb9a1db\n",
      "\u001b[0m\u001b[1;3;34mRetrieving with query id b118014a-c4e5-4e4f-993d-83894eb9a1db: 女士在庇护中心担任什么职务？\n",
      "\u001b[0m\u001b[1;3;38;5;200mRetrieved node with id, entering: 1d9b4cb4-fce3-40c1-8e5b-bd457d1ecc60\n",
      "\u001b[0m\u001b[1;3;34mRetrieving with query id 1d9b4cb4-fce3-40c1-8e5b-bd457d1ecc60: 女士在庇护中心担任什么职务？\n",
      "\u001b[0m\u001b[1;3;38;5;200mRetrieved node with id, entering: 2b33131b-b6b7-4b81-8165-e7b904e24dea\n",
      "\u001b[0m\u001b[1;3;34mRetrieving with query id 2b33131b-b6b7-4b81-8165-e7b904e24dea: 女士在庇护中心担任什么职务？\n",
      "\u001b[0m\u001b[1;3;38;5;200mRetrieved node with id, entering: 98e28d22-4d9e-4c10-ab38-5147b3b3501c\n",
      "\u001b[0m\u001b[1;3;34mRetrieving with query id 98e28d22-4d9e-4c10-ab38-5147b3b3501c: 女士在庇护中心担任什么职务？\n",
      "\u001b[0m\u001b[1;3;34mRetrieving with query id None: 1. 庇护中心里女性工作人员的具体职责有哪些？\n",
      "\u001b[0m"
     ]
    },
    {
     "name": "stderr",
     "output_type": "stream",
     "text": [
      "\u001b[32m2025-04-09 15:50:20.656\u001b[0m | \u001b[33m\u001b[1mWARNING \u001b[0m | \u001b[36mreadai.components.retrievers\u001b[0m:\u001b[36m_retrieve\u001b[0m:\u001b[36m553\u001b[0m - \u001b[33m\u001b[1mBM25Retriever does not support embeddings, skipping...\u001b[0m\n"
     ]
    },
    {
     "name": "stdout",
     "output_type": "stream",
     "text": [
      "\u001b[1;3;38;5;200mRetrieved node with id, entering: b118014a-c4e5-4e4f-993d-83894eb9a1db\n",
      "\u001b[0m\u001b[1;3;34mRetrieving with query id b118014a-c4e5-4e4f-993d-83894eb9a1db: 1. 庇护中心里女性工作人员的具体职责有哪些？\n",
      "\u001b[0m\u001b[1;3;38;5;200mRetrieved node with id, entering: 1d9b4cb4-fce3-40c1-8e5b-bd457d1ecc60\n",
      "\u001b[0m\u001b[1;3;34mRetrieving with query id 1d9b4cb4-fce3-40c1-8e5b-bd457d1ecc60: 1. 庇护中心里女性工作人员的具体职责有哪些？\n",
      "\u001b[0m\u001b[1;3;38;5;200mRetrieved node with id, entering: 6d109628-b62c-4b25-b6e3-aee968b76428\n",
      "\u001b[0m\u001b[1;3;34mRetrieving with query id 6d109628-b62c-4b25-b6e3-aee968b76428: 1. 庇护中心里女性工作人员的具体职责有哪些？\n",
      "\u001b[0m\u001b[1;3;38;5;200mRetrieved node with id, entering: 78c9b482-6f22-4191-a715-b50155bed031\n",
      "\u001b[0m\u001b[1;3;34mRetrieving with query id 78c9b482-6f22-4191-a715-b50155bed031: 1. 庇护中心里女性工作人员的具体职责有哪些？\n",
      "\u001b[0mGenerated queries:\n",
      "1. 马歇尔·卢森堡提出的沟通方法名称是什么？\n"
     ]
    },
    {
     "name": "stderr",
     "output_type": "stream",
     "text": [
      "\u001b[32m2025-04-09 15:50:30.488\u001b[0m | \u001b[33m\u001b[1mWARNING \u001b[0m | \u001b[36mreadai.components.retrievers\u001b[0m:\u001b[36m_retrieve\u001b[0m:\u001b[36m553\u001b[0m - \u001b[33m\u001b[1mBM25Retriever does not support embeddings, skipping...\u001b[0m\n",
      "\u001b[32m2025-04-09 15:50:30.540\u001b[0m | \u001b[33m\u001b[1mWARNING \u001b[0m | \u001b[36mreadai.components.retrievers\u001b[0m:\u001b[36m_retrieve\u001b[0m:\u001b[36m553\u001b[0m - \u001b[33m\u001b[1mBM25Retriever does not support embeddings, skipping...\u001b[0m\n",
      "\u001b[32m2025-04-09 15:50:30.589\u001b[0m | \u001b[33m\u001b[1mWARNING \u001b[0m | \u001b[36mreadai.components.retrievers\u001b[0m:\u001b[36m_retrieve\u001b[0m:\u001b[36m553\u001b[0m - \u001b[33m\u001b[1mBM25Retriever does not support embeddings, skipping...\u001b[0m\n"
     ]
    },
    {
     "name": "stdout",
     "output_type": "stream",
     "text": [
      "Generated queries:\n",
      "1. 马歇尔关于冲突起源的理论有哪些？\n",
      "\u001b[1;3;34mRetrieving with query id None: 马歇尔倡导的沟通方法叫什么？\n",
      "\u001b[0m\u001b[1;3;38;5;200mRetrieved node with id, entering: ecf04b61-fd74-4e7d-a44a-5ac13a8d5003\n",
      "\u001b[0m\u001b[1;3;34mRetrieving with query id ecf04b61-fd74-4e7d-a44a-5ac13a8d5003: 马歇尔倡导的沟通方法叫什么？\n",
      "\u001b[0m\u001b[1;3;38;5;200mRetrieved node with id, entering: 0266c17e-7946-4f78-9195-9078f7e88334\n",
      "\u001b[0m\u001b[1;3;34mRetrieving with query id 0266c17e-7946-4f78-9195-9078f7e88334: 马歇尔倡导的沟通方法叫什么？\n",
      "\u001b[0m\u001b[1;3;38;5;200mRetrieved node with id, entering: ec158e58-d431-4c0c-a0ba-f619f935b79f\n",
      "\u001b[0m\u001b[1;3;34mRetrieving with query id ec158e58-d431-4c0c-a0ba-f619f935b79f: 马歇尔倡导的沟通方法叫什么？\n",
      "\u001b[0m\u001b[1;3;34mRetrieving with query id None: 1. 马歇尔·卢森堡提出的沟通方法名称是什么？\n",
      "\u001b[0m\u001b[1;3;38;5;200mRetrieved node with id, entering: 0266c17e-7946-4f78-9195-9078f7e88334\n",
      "\u001b[0m\u001b[1;3;34mRetrieving with query id 0266c17e-7946-4f78-9195-9078f7e88334: 1. 马歇尔·卢森堡提出的沟通方法名称是什么？\n",
      "\u001b[0m\u001b[1;3;38;5;200mRetrieved node with id, entering: ec158e58-d431-4c0c-a0ba-f619f935b79f\n",
      "\u001b[0m\u001b[1;3;34mRetrieving with query id ec158e58-d431-4c0c-a0ba-f619f935b79f: 1. 马歇尔·卢森堡提出的沟通方法名称是什么？\n",
      "\u001b[0m\u001b[1;3;38;5;200mRetrieved node with id, entering: b1a776b7-3fad-4a60-9306-d571a37b36e4\n",
      "\u001b[0m\u001b[1;3;34mRetrieving with query id b1a776b7-3fad-4a60-9306-d571a37b36e4: 1. 马歇尔·卢森堡提出的沟通方法名称是什么？\n",
      "\u001b[0m\u001b[1;3;34mRetrieving with query id None: 马歇尔认为冲突源于什么？\n",
      "\u001b[0m\u001b[1;3;38;5;200mRetrieved node with id, entering: ec158e58-d431-4c0c-a0ba-f619f935b79f\n",
      "\u001b[0m\u001b[1;3;34mRetrieving with query id ec158e58-d431-4c0c-a0ba-f619f935b79f: 马歇尔认为冲突源于什么？\n",
      "\u001b[0m\u001b[1;3;38;5;200mRetrieved node with id, entering: e20fb6a7-832f-47fe-81ad-6b7955c968a7\n",
      "\u001b[0m\u001b[1;3;34mRetrieving with query id e20fb6a7-832f-47fe-81ad-6b7955c968a7: 马歇尔认为冲突源于什么？\n",
      "\u001b[0m\u001b[1;3;34mRetrieving with query id None: 1. 马歇尔关于冲突起源的理论有哪些？\n",
      "\u001b[0m"
     ]
    },
    {
     "name": "stderr",
     "output_type": "stream",
     "text": [
      "\u001b[32m2025-04-09 15:50:30.633\u001b[0m | \u001b[33m\u001b[1mWARNING \u001b[0m | \u001b[36mreadai.components.retrievers\u001b[0m:\u001b[36m_retrieve\u001b[0m:\u001b[36m553\u001b[0m - \u001b[33m\u001b[1mBM25Retriever does not support embeddings, skipping...\u001b[0m\n"
     ]
    },
    {
     "name": "stdout",
     "output_type": "stream",
     "text": [
      "\u001b[1;3;38;5;200mRetrieved node with id, entering: ec158e58-d431-4c0c-a0ba-f619f935b79f\n",
      "\u001b[0m\u001b[1;3;34mRetrieving with query id ec158e58-d431-4c0c-a0ba-f619f935b79f: 1. 马歇尔关于冲突起源的理论有哪些？\n",
      "\u001b[0m\u001b[1;3;38;5;200mRetrieved node with id, entering: ecf04b61-fd74-4e7d-a44a-5ac13a8d5003\n",
      "\u001b[0m\u001b[1;3;34mRetrieving with query id ecf04b61-fd74-4e7d-a44a-5ac13a8d5003: 1. 马歇尔关于冲突起源的理论有哪些？\n",
      "\u001b[0m\u001b[1;3;38;5;200mRetrieved node with id, entering: 5f44342d-77d1-4243-a602-6b0ecbfe5edf\n",
      "\u001b[0m\u001b[1;3;34mRetrieving with query id 5f44342d-77d1-4243-a602-6b0ecbfe5edf: 1. 马歇尔关于冲突起源的理论有哪些？\n",
      "\u001b[0mGenerated queries:\n",
      "1. 戒毒中心女学员的真实经历和遭遇有哪些？\n"
     ]
    },
    {
     "name": "stderr",
     "output_type": "stream",
     "text": [
      "\u001b[32m2025-04-09 15:50:42.300\u001b[0m | \u001b[33m\u001b[1mWARNING \u001b[0m | \u001b[36mreadai.components.retrievers\u001b[0m:\u001b[36m_retrieve\u001b[0m:\u001b[36m553\u001b[0m - \u001b[33m\u001b[1mBM25Retriever does not support embeddings, skipping...\u001b[0m\n",
      "\u001b[32m2025-04-09 15:50:42.351\u001b[0m | \u001b[33m\u001b[1mWARNING \u001b[0m | \u001b[36mreadai.components.retrievers\u001b[0m:\u001b[36m_retrieve\u001b[0m:\u001b[36m553\u001b[0m - \u001b[33m\u001b[1mBM25Retriever does not support embeddings, skipping...\u001b[0m\n",
      "\u001b[32m2025-04-09 15:50:42.402\u001b[0m | \u001b[33m\u001b[1mWARNING \u001b[0m | \u001b[36mreadai.components.retrievers\u001b[0m:\u001b[36m_retrieve\u001b[0m:\u001b[36m553\u001b[0m - \u001b[33m\u001b[1mBM25Retriever does not support embeddings, skipping...\u001b[0m\n"
     ]
    },
    {
     "name": "stdout",
     "output_type": "stream",
     "text": [
      "Generated queries:\n",
      "1. 驾校教练对女学员发怒的原因有哪些？\n",
      "2. 男性教练为何容易对女性学员发脾气？\n",
      "3. 女学员在学车时遭遇教练发怒的常见情况\n",
      "4. 如何应对驾校教练对女学员的情绪失控？\n",
      "5. 性别因素是否影响教练对学员的态度？\n",
      "\u001b[1;3;34mRetrieving with query id None: 戒毒中心女学员遭遇了什么？\n",
      "\u001b[0m\u001b[1;3;38;5;200mRetrieved node with id, entering: 6d109628-b62c-4b25-b6e3-aee968b76428\n",
      "\u001b[0m\u001b[1;3;34mRetrieving with query id 6d109628-b62c-4b25-b6e3-aee968b76428: 戒毒中心女学员遭遇了什么？\n",
      "\u001b[0m\u001b[1;3;38;5;200mRetrieved node with id, entering: b118014a-c4e5-4e4f-993d-83894eb9a1db\n",
      "\u001b[0m\u001b[1;3;34mRetrieving with query id b118014a-c4e5-4e4f-993d-83894eb9a1db: 戒毒中心女学员遭遇了什么？\n",
      "\u001b[0m\u001b[1;3;38;5;200mRetrieved node with id, entering: 76464874-621e-4731-9dc1-895a1a6760a3\n",
      "\u001b[0m\u001b[1;3;34mRetrieving with query id 76464874-621e-4731-9dc1-895a1a6760a3: 戒毒中心女学员遭遇了什么？\n",
      "\u001b[0m\u001b[1;3;34mRetrieving with query id None: 1. 戒毒中心女学员的真实经历和遭遇有哪些？\n",
      "\u001b[0m\u001b[1;3;38;5;200mRetrieved node with id, entering: 6d109628-b62c-4b25-b6e3-aee968b76428\n",
      "\u001b[0m\u001b[1;3;34mRetrieving with query id 6d109628-b62c-4b25-b6e3-aee968b76428: 1. 戒毒中心女学员的真实经历和遭遇有哪些？\n",
      "\u001b[0m\u001b[1;3;38;5;200mRetrieved node with id, entering: 76464874-621e-4731-9dc1-895a1a6760a3\n",
      "\u001b[0m\u001b[1;3;34mRetrieving with query id 76464874-621e-4731-9dc1-895a1a6760a3: 1. 戒毒中心女学员的真实经历和遭遇有哪些？\n",
      "\u001b[0m\u001b[1;3;34mRetrieving with query id None: 男子为什么对女学员发怒？\n",
      "\u001b[0m\u001b[1;3;38;5;200mRetrieved node with id, entering: 678f652b-5d93-443f-ac4a-08a0ef80292e\n",
      "\u001b[0m\u001b[1;3;34mRetrieving with query id 678f652b-5d93-443f-ac4a-08a0ef80292e: 男子为什么对女学员发怒？\n",
      "\u001b[0m\u001b[1;3;38;5;200mRetrieved node with id, entering: c6757a6c-d731-4b2d-9ad8-9a5b11adaf78\n",
      "\u001b[0m\u001b[1;3;34mRetrieving with query id c6757a6c-d731-4b2d-9ad8-9a5b11adaf78: 男子为什么对女学员发怒？\n",
      "\u001b[0m\u001b[1;3;38;5;200mRetrieved node with id, entering: 72ec90fc-8d64-4488-8319-9f9f96952f18\n",
      "\u001b[0m\u001b[1;3;34mRetrieving with query id 72ec90fc-8d64-4488-8319-9f9f96952f18: 男子为什么对女学员发怒？\n",
      "\u001b[0m\u001b[1;3;38;5;200mRetrieved node with id, entering: 6d109628-b62c-4b25-b6e3-aee968b76428\n",
      "\u001b[0m\u001b[1;3;34mRetrieving with query id 6d109628-b62c-4b25-b6e3-aee968b76428: 男子为什么对女学员发怒？\n",
      "\u001b[0m\u001b[1;3;38;5;200mRetrieved node with id, entering: dfecf958-43a7-43d2-a894-1bca0d213839\n",
      "\u001b[0m\u001b[1;3;34mRetrieving with query id dfecf958-43a7-43d2-a894-1bca0d213839: 男子为什么对女学员发怒？\n",
      "\u001b[0m\u001b[1;3;34mRetrieving with query id None: 1. 驾校教练对女学员发怒的原因有哪些？\n",
      "\u001b[0m"
     ]
    },
    {
     "name": "stderr",
     "output_type": "stream",
     "text": [
      "\u001b[32m2025-04-09 15:50:42.446\u001b[0m | \u001b[33m\u001b[1mWARNING \u001b[0m | \u001b[36mreadai.components.retrievers\u001b[0m:\u001b[36m_retrieve\u001b[0m:\u001b[36m553\u001b[0m - \u001b[33m\u001b[1mBM25Retriever does not support embeddings, skipping...\u001b[0m\n"
     ]
    },
    {
     "name": "stdout",
     "output_type": "stream",
     "text": [
      "\u001b[1;3;38;5;200mRetrieved node with id, entering: 678f652b-5d93-443f-ac4a-08a0ef80292e\n",
      "\u001b[0m\u001b[1;3;34mRetrieving with query id 678f652b-5d93-443f-ac4a-08a0ef80292e: 1. 驾校教练对女学员发怒的原因有哪些？\n",
      "\u001b[0m\u001b[1;3;38;5;200mRetrieved node with id, entering: 76464874-621e-4731-9dc1-895a1a6760a3\n",
      "\u001b[0m\u001b[1;3;34mRetrieving with query id 76464874-621e-4731-9dc1-895a1a6760a3: 1. 驾校教练对女学员发怒的原因有哪些？\n",
      "\u001b[0m\u001b[1;3;38;5;200mRetrieved node with id, entering: ee994b69-6812-4868-a5a4-b84d53e829b7\n",
      "\u001b[0m\u001b[1;3;34mRetrieving with query id ee994b69-6812-4868-a5a4-b84d53e829b7: 1. 驾校教练对女学员发怒的原因有哪些？\n",
      "\u001b[0mGenerated queries:\n",
      "1. 在文学作品中第二个孩子通常被称为什么？\n"
     ]
    },
    {
     "name": "stderr",
     "output_type": "stream",
     "text": [
      "\u001b[32m2025-04-09 15:50:52.645\u001b[0m | \u001b[33m\u001b[1mWARNING \u001b[0m | \u001b[36mreadai.components.retrievers\u001b[0m:\u001b[36m_retrieve\u001b[0m:\u001b[36m553\u001b[0m - \u001b[33m\u001b[1mBM25Retriever does not support embeddings, skipping...\u001b[0m\n",
      "\u001b[32m2025-04-09 15:50:52.695\u001b[0m | \u001b[33m\u001b[1mWARNING \u001b[0m | \u001b[36mreadai.components.retrievers\u001b[0m:\u001b[36m_retrieve\u001b[0m:\u001b[36m553\u001b[0m - \u001b[33m\u001b[1mBM25Retriever does not support embeddings, skipping...\u001b[0m\n",
      "\u001b[32m2025-04-09 15:50:52.743\u001b[0m | \u001b[33m\u001b[1mWARNING \u001b[0m | \u001b[36mreadai.components.retrievers\u001b[0m:\u001b[36m_retrieve\u001b[0m:\u001b[36m553\u001b[0m - \u001b[33m\u001b[1mBM25Retriever does not support embeddings, skipping...\u001b[0m\n"
     ]
    },
    {
     "name": "stdout",
     "output_type": "stream",
     "text": [
      "Generated queries:\n",
      "1. 约翰对监狱长官生气的原因是什么？\n",
      "\u001b[1;3;34mRetrieving with query id None: 第二个孩子被作者称为什么？\n",
      "\u001b[0m\u001b[1;3;38;5;200mRetrieved node with id, entering: 6d70940f-2516-4102-a5b4-fca469925da8\n",
      "\u001b[0m\u001b[1;3;34mRetrieving with query id 6d70940f-2516-4102-a5b4-fca469925da8: 第二个孩子被作者称为什么？\n",
      "\u001b[0m\u001b[1;3;38;5;200mRetrieved node with id, entering: 7c1f6052-2855-4d13-a71d-ccbffd7c0934\n",
      "\u001b[0m\u001b[1;3;34mRetrieving with query id 7c1f6052-2855-4d13-a71d-ccbffd7c0934: 第二个孩子被作者称为什么？\n",
      "\u001b[0m\u001b[1;3;38;5;200mRetrieved node with id, entering: c2819596-47c8-4676-a139-bd3802b104d5\n",
      "\u001b[0m\u001b[1;3;34mRetrieving with query id c2819596-47c8-4676-a139-bd3802b104d5: 第二个孩子被作者称为什么？\n",
      "\u001b[0m\u001b[1;3;34mRetrieving with query id None: 1. 在文学作品中第二个孩子通常被称为什么？\n",
      "\u001b[0m\u001b[1;3;38;5;200mRetrieved node with id, entering: 6d70940f-2516-4102-a5b4-fca469925da8\n",
      "\u001b[0m\u001b[1;3;34mRetrieving with query id 6d70940f-2516-4102-a5b4-fca469925da8: 1. 在文学作品中第二个孩子通常被称为什么？\n",
      "\u001b[0m\u001b[1;3;38;5;200mRetrieved node with id, entering: 7c1f6052-2855-4d13-a71d-ccbffd7c0934\n",
      "\u001b[0m\u001b[1;3;34mRetrieving with query id 7c1f6052-2855-4d13-a71d-ccbffd7c0934: 1. 在文学作品中第二个孩子通常被称为什么？\n",
      "\u001b[0m\u001b[1;3;38;5;200mRetrieved node with id, entering: 67948f36-d586-4c65-b2c5-d1422d639629\n",
      "\u001b[0m\u001b[1;3;34mRetrieving with query id 67948f36-d586-4c65-b2c5-d1422d639629: 1. 在文学作品中第二个孩子通常被称为什么？\n",
      "\u001b[0m\u001b[1;3;34mRetrieving with query id None: 约翰为什么对监狱长官生气？\n",
      "\u001b[0m\u001b[1;3;38;5;200mRetrieved node with id, entering: 7c1f6052-2855-4d13-a71d-ccbffd7c0934\n",
      "\u001b[0m\u001b[1;3;34mRetrieving with query id 7c1f6052-2855-4d13-a71d-ccbffd7c0934: 约翰为什么对监狱长官生气？\n",
      "\u001b[0m\u001b[1;3;38;5;200mRetrieved node with id, entering: a8f63fdd-3893-4761-be42-114957027a8b\n",
      "\u001b[0m\u001b[1;3;34mRetrieving with query id a8f63fdd-3893-4761-be42-114957027a8b: 约翰为什么对监狱长官生气？\n",
      "\u001b[0m\u001b[1;3;34mRetrieving with query id None: 1. 约翰对监狱长官生气的原因是什么？\n",
      "\u001b[0m"
     ]
    },
    {
     "name": "stderr",
     "output_type": "stream",
     "text": [
      "\u001b[32m2025-04-09 15:50:52.788\u001b[0m | \u001b[33m\u001b[1mWARNING \u001b[0m | \u001b[36mreadai.components.retrievers\u001b[0m:\u001b[36m_retrieve\u001b[0m:\u001b[36m553\u001b[0m - \u001b[33m\u001b[1mBM25Retriever does not support embeddings, skipping...\u001b[0m\n"
     ]
    },
    {
     "name": "stdout",
     "output_type": "stream",
     "text": [
      "\u001b[1;3;38;5;200mRetrieved node with id, entering: 7c1f6052-2855-4d13-a71d-ccbffd7c0934\n",
      "\u001b[0m\u001b[1;3;34mRetrieving with query id 7c1f6052-2855-4d13-a71d-ccbffd7c0934: 1. 约翰对监狱长官生气的原因是什么？\n",
      "\u001b[0m\u001b[1;3;38;5;200mRetrieved node with id, entering: a8f63fdd-3893-4761-be42-114957027a8b\n",
      "\u001b[0m\u001b[1;3;34mRetrieving with query id a8f63fdd-3893-4761-be42-114957027a8b: 1. 约翰对监狱长官生气的原因是什么？\n",
      "\u001b[0mGenerated queries:\n",
      "1. 作者对“懒惰”的定义和看法是什么？\n"
     ]
    },
    {
     "name": "stderr",
     "output_type": "stream",
     "text": [
      "\u001b[32m2025-04-09 15:51:02.558\u001b[0m | \u001b[33m\u001b[1mWARNING \u001b[0m | \u001b[36mreadai.components.retrievers\u001b[0m:\u001b[36m_retrieve\u001b[0m:\u001b[36m553\u001b[0m - \u001b[33m\u001b[1mBM25Retriever does not support embeddings, skipping...\u001b[0m\n",
      "\u001b[32m2025-04-09 15:51:02.607\u001b[0m | \u001b[33m\u001b[1mWARNING \u001b[0m | \u001b[36mreadai.components.retrievers\u001b[0m:\u001b[36m_retrieve\u001b[0m:\u001b[36m553\u001b[0m - \u001b[33m\u001b[1mBM25Retriever does not support embeddings, skipping...\u001b[0m\n",
      "\u001b[32m2025-04-09 15:51:02.655\u001b[0m | \u001b[33m\u001b[1mWARNING \u001b[0m | \u001b[36mreadai.components.retrievers\u001b[0m:\u001b[36m_retrieve\u001b[0m:\u001b[36m553\u001b[0m - \u001b[33m\u001b[1mBM25Retriever does not support embeddings, skipping...\u001b[0m\n"
     ]
    },
    {
     "name": "stdout",
     "output_type": "stream",
     "text": [
      "Generated queries:\n",
      "1. 克里希那穆提的主要职业是什么？\n",
      "\u001b[1;3;34mRetrieving with query id None: 作者认为“懒惰”是什么？\n",
      "\u001b[0m\u001b[1;3;38;5;200mRetrieved node with id, entering: 9465ac7b-bdd4-47bc-817c-18e292b85b0d\n",
      "\u001b[0m\u001b[1;3;34mRetrieving with query id 9465ac7b-bdd4-47bc-817c-18e292b85b0d: 作者认为“懒惰”是什么？\n",
      "\u001b[0m\u001b[1;3;38;5;200mRetrieved node with id, entering: e2e2a341-75ca-452c-8f7f-ceddbf3cf1be\n",
      "\u001b[0m\u001b[1;3;34mRetrieving with query id e2e2a341-75ca-452c-8f7f-ceddbf3cf1be: 作者认为“懒惰”是什么？\n",
      "\u001b[0m\u001b[1;3;34mRetrieving with query id None: 1. 作者对“懒惰”的定义和看法是什么？\n",
      "\u001b[0m\u001b[1;3;38;5;200mRetrieved node with id, entering: 9465ac7b-bdd4-47bc-817c-18e292b85b0d\n",
      "\u001b[0m\u001b[1;3;34mRetrieving with query id 9465ac7b-bdd4-47bc-817c-18e292b85b0d: 1. 作者对“懒惰”的定义和看法是什么？\n",
      "\u001b[0m\u001b[1;3;38;5;200mRetrieved node with id, entering: 26e36c51-f176-4d0c-919a-a31afc84bcee\n",
      "\u001b[0m\u001b[1;3;34mRetrieving with query id 26e36c51-f176-4d0c-919a-a31afc84bcee: 1. 作者对“懒惰”的定义和看法是什么？\n",
      "\u001b[0m\u001b[1;3;34mRetrieving with query id None: 克里希那穆提的职业是？\n",
      "\u001b[0m\u001b[1;3;38;5;200mRetrieved node with id, entering: 5f44342d-77d1-4243-a602-6b0ecbfe5edf\n",
      "\u001b[0m\u001b[1;3;34mRetrieving with query id 5f44342d-77d1-4243-a602-6b0ecbfe5edf: 克里希那穆提的职业是？\n",
      "\u001b[0m\u001b[1;3;38;5;200mRetrieved node with id, entering: d23ed0c2-0974-4e8d-8f92-0ac95fdb43db\n",
      "\u001b[0m\u001b[1;3;34mRetrieving with query id d23ed0c2-0974-4e8d-8f92-0ac95fdb43db: 克里希那穆提的职业是？\n",
      "\u001b[0m\u001b[1;3;34mRetrieving with query id None: 1. 克里希那穆提的主要职业是什么？\n",
      "\u001b[0m"
     ]
    },
    {
     "name": "stderr",
     "output_type": "stream",
     "text": [
      "\u001b[32m2025-04-09 15:51:02.698\u001b[0m | \u001b[33m\u001b[1mWARNING \u001b[0m | \u001b[36mreadai.components.retrievers\u001b[0m:\u001b[36m_retrieve\u001b[0m:\u001b[36m553\u001b[0m - \u001b[33m\u001b[1mBM25Retriever does not support embeddings, skipping...\u001b[0m\n"
     ]
    },
    {
     "name": "stdout",
     "output_type": "stream",
     "text": [
      "\u001b[1;3;38;5;200mRetrieved node with id, entering: d23ed0c2-0974-4e8d-8f92-0ac95fdb43db\n",
      "\u001b[0m\u001b[1;3;34mRetrieving with query id d23ed0c2-0974-4e8d-8f92-0ac95fdb43db: 1. 克里希那穆提的主要职业是什么？\n",
      "\u001b[0m\u001b[1;3;38;5;200mRetrieved node with id, entering: 5f44342d-77d1-4243-a602-6b0ecbfe5edf\n",
      "\u001b[0m\u001b[1;3;34mRetrieving with query id 5f44342d-77d1-4243-a602-6b0ecbfe5edf: 1. 克里希那穆提的主要职业是什么？\n",
      "\u001b[0m\u001b[1;3;38;5;200mRetrieved node with id, entering: 67948f36-d586-4c65-b2c5-d1422d639629\n",
      "\u001b[0m\u001b[1;3;34mRetrieving with query id 67948f36-d586-4c65-b2c5-d1422d639629: 1. 克里希那穆提的主要职业是什么？\n",
      "\u001b[0m\u001b[1;3;38;5;200mRetrieved node with id, entering: f9ea8138-a889-456c-8ea6-7d8bf7563771\n",
      "\u001b[0m\u001b[1;3;34mRetrieving with query id f9ea8138-a889-456c-8ea6-7d8bf7563771: 1. 克里希那穆提的主要职业是什么？\n",
      "\u001b[0mGenerated queries:\n",
      "1. 女性最初坚持自己做饭的原因有哪些？\n",
      "2. 历史上女性承担烹饪责任的社会背景是什么？\n",
      "3. 传统文化中女性与烹饪角色的关联性分析\n",
      "4. 为什么过去女性普遍负责家庭烹饪？\n",
      "5. 女性坚持做饭的心理和社会因素探讨\n"
     ]
    },
    {
     "name": "stderr",
     "output_type": "stream",
     "text": [
      "\u001b[32m2025-04-09 15:51:14.965\u001b[0m | \u001b[33m\u001b[1mWARNING \u001b[0m | \u001b[36mreadai.components.retrievers\u001b[0m:\u001b[36m_retrieve\u001b[0m:\u001b[36m553\u001b[0m - \u001b[33m\u001b[1mBM25Retriever does not support embeddings, skipping...\u001b[0m\n",
      "\u001b[32m2025-04-09 15:51:15.011\u001b[0m | \u001b[33m\u001b[1mWARNING \u001b[0m | \u001b[36mreadai.components.retrievers\u001b[0m:\u001b[36m_retrieve\u001b[0m:\u001b[36m553\u001b[0m - \u001b[33m\u001b[1mBM25Retriever does not support embeddings, skipping...\u001b[0m\n",
      "\u001b[32m2025-04-09 15:51:15.054\u001b[0m | \u001b[33m\u001b[1mWARNING \u001b[0m | \u001b[36mreadai.components.retrievers\u001b[0m:\u001b[36m_retrieve\u001b[0m:\u001b[36m553\u001b[0m - \u001b[33m\u001b[1mBM25Retriever does not support embeddings, skipping...\u001b[0m\n"
     ]
    },
    {
     "name": "stdout",
     "output_type": "stream",
     "text": [
      "Generated queries:\n",
      "1. 大儿子对母亲决定的反应是什么？\n",
      "\u001b[1;3;34mRetrieving with query id None: 女士最初为何坚持做饭？\n",
      "\u001b[0m\u001b[1;3;38;5;200mRetrieved node with id, entering: 3f10573a-f85f-4b9c-8531-ec115cb98251\n",
      "\u001b[0m\u001b[1;3;34mRetrieving with query id 3f10573a-f85f-4b9c-8531-ec115cb98251: 女士最初为何坚持做饭？\n",
      "\u001b[0m\u001b[1;3;38;5;200mRetrieved node with id, entering: c2819596-47c8-4676-a139-bd3802b104d5\n",
      "\u001b[0m\u001b[1;3;34mRetrieving with query id c2819596-47c8-4676-a139-bd3802b104d5: 女士最初为何坚持做饭？\n",
      "\u001b[0m\u001b[1;3;38;5;200mRetrieved node with id, entering: f4020f3c-35db-481b-b766-1419044c9c62\n",
      "\u001b[0m\u001b[1;3;34mRetrieving with query id f4020f3c-35db-481b-b766-1419044c9c62: 女士最初为何坚持做饭？\n",
      "\u001b[0m\u001b[1;3;34mRetrieving with query id None: 1. 女性最初坚持自己做饭的原因有哪些？\n",
      "\u001b[0m\u001b[1;3;38;5;200mRetrieved node with id, entering: 3f10573a-f85f-4b9c-8531-ec115cb98251\n",
      "\u001b[0m\u001b[1;3;34mRetrieving with query id 3f10573a-f85f-4b9c-8531-ec115cb98251: 1. 女性最初坚持自己做饭的原因有哪些？\n",
      "\u001b[0m\u001b[1;3;38;5;200mRetrieved node with id, entering: 78c9b482-6f22-4191-a715-b50155bed031\n",
      "\u001b[0m\u001b[1;3;34mRetrieving with query id 78c9b482-6f22-4191-a715-b50155bed031: 1. 女性最初坚持自己做饭的原因有哪些？\n",
      "\u001b[0m\u001b[1;3;34mRetrieving with query id None: 大儿子对母亲的决定有何反应？\n",
      "\u001b[0m\u001b[1;3;38;5;200mRetrieved node with id, entering: 3f10573a-f85f-4b9c-8531-ec115cb98251\n",
      "\u001b[0m\u001b[1;3;34mRetrieving with query id 3f10573a-f85f-4b9c-8531-ec115cb98251: 大儿子对母亲的决定有何反应？\n",
      "\u001b[0m\u001b[1;3;38;5;200mRetrieved node with id, entering: 8ee86890-9c4a-45af-a33c-30df98a695b2\n",
      "\u001b[0m\u001b[1;3;34mRetrieving with query id 8ee86890-9c4a-45af-a33c-30df98a695b2: 大儿子对母亲的决定有何反应？\n",
      "\u001b[0m\u001b[1;3;34mRetrieving with query id None: 1. 大儿子对母亲决定的反应是什么？\n",
      "\u001b[0m"
     ]
    },
    {
     "name": "stderr",
     "output_type": "stream",
     "text": [
      "\u001b[32m2025-04-09 15:51:15.096\u001b[0m | \u001b[33m\u001b[1mWARNING \u001b[0m | \u001b[36mreadai.components.retrievers\u001b[0m:\u001b[36m_retrieve\u001b[0m:\u001b[36m553\u001b[0m - \u001b[33m\u001b[1mBM25Retriever does not support embeddings, skipping...\u001b[0m\n"
     ]
    },
    {
     "name": "stdout",
     "output_type": "stream",
     "text": [
      "\u001b[1;3;38;5;200mRetrieved node with id, entering: 3f10573a-f85f-4b9c-8531-ec115cb98251\n",
      "\u001b[0m\u001b[1;3;34mRetrieving with query id 3f10573a-f85f-4b9c-8531-ec115cb98251: 1. 大儿子对母亲决定的反应是什么？\n",
      "\u001b[0m\u001b[1;3;38;5;200mRetrieved node with id, entering: 9a79abbd-41f2-4164-a3f2-1526d4e40363\n",
      "\u001b[0m\u001b[1;3;34mRetrieving with query id 9a79abbd-41f2-4164-a3f2-1526d4e40363: 1. 大儿子对母亲决定的反应是什么？\n",
      "\u001b[0m\u001b[1;3;38;5;200mRetrieved node with id, entering: 8ee86890-9c4a-45af-a33c-30df98a695b2\n",
      "\u001b[0m\u001b[1;3;34mRetrieving with query id 8ee86890-9c4a-45af-a33c-30df98a695b2: 1. 大儿子对母亲决定的反应是什么？\n",
      "\u001b[0mGenerated queries:\n",
      "1. 保护性强制力的定义和法律依据是什么？\n"
     ]
    },
    {
     "name": "stderr",
     "output_type": "stream",
     "text": [
      "\u001b[32m2025-04-09 15:51:24.457\u001b[0m | \u001b[33m\u001b[1mWARNING \u001b[0m | \u001b[36mreadai.components.retrievers\u001b[0m:\u001b[36m_retrieve\u001b[0m:\u001b[36m553\u001b[0m - \u001b[33m\u001b[1mBM25Retriever does not support embeddings, skipping...\u001b[0m\n",
      "\u001b[32m2025-04-09 15:51:24.501\u001b[0m | \u001b[33m\u001b[1mWARNING \u001b[0m | \u001b[36mreadai.components.retrievers\u001b[0m:\u001b[36m_retrieve\u001b[0m:\u001b[36m553\u001b[0m - \u001b[33m\u001b[1mBM25Retriever does not support embeddings, skipping...\u001b[0m\n",
      "\u001b[32m2025-04-09 15:51:24.547\u001b[0m | \u001b[33m\u001b[1mWARNING \u001b[0m | \u001b[36mreadai.components.retrievers\u001b[0m:\u001b[36m_retrieve\u001b[0m:\u001b[36m553\u001b[0m - \u001b[33m\u001b[1mBM25Retriever does not support embeddings, skipping...\u001b[0m\n"
     ]
    },
    {
     "name": "stdout",
     "output_type": "stream",
     "text": [
      "Generated queries:\n",
      "1. 惩罚性强制力的主要目的是什么？\n",
      "\u001b[1;3;34mRetrieving with query id None: 什么是保护性强制力？\n",
      "\u001b[0m\u001b[1;3;38;5;200mRetrieved node with id, entering: cd280302-64f2-4bee-9aa9-67f2000f57e2\n",
      "\u001b[0m\u001b[1;3;34mRetrieving with query id cd280302-64f2-4bee-9aa9-67f2000f57e2: 什么是保护性强制力？\n",
      "\u001b[0m\u001b[1;3;34mRetrieving with query id None: 1. 保护性强制力的定义和法律依据是什么？\n",
      "\u001b[0m\u001b[1;3;38;5;200mRetrieved node with id, entering: cd280302-64f2-4bee-9aa9-67f2000f57e2\n",
      "\u001b[0m\u001b[1;3;34mRetrieving with query id cd280302-64f2-4bee-9aa9-67f2000f57e2: 1. 保护性强制力的定义和法律依据是什么？\n",
      "\u001b[0m\u001b[1;3;34mRetrieving with query id None: 惩罚性强制力的目的是？\n",
      "\u001b[0m\u001b[1;3;38;5;200mRetrieved node with id, entering: cd280302-64f2-4bee-9aa9-67f2000f57e2\n",
      "\u001b[0m\u001b[1;3;34mRetrieving with query id cd280302-64f2-4bee-9aa9-67f2000f57e2: 惩罚性强制力的目的是？\n",
      "\u001b[0m"
     ]
    },
    {
     "name": "stderr",
     "output_type": "stream",
     "text": [
      "\u001b[32m2025-04-09 15:51:24.593\u001b[0m | \u001b[33m\u001b[1mWARNING \u001b[0m | \u001b[36mreadai.components.retrievers\u001b[0m:\u001b[36m_retrieve\u001b[0m:\u001b[36m553\u001b[0m - \u001b[33m\u001b[1mBM25Retriever does not support embeddings, skipping...\u001b[0m\n"
     ]
    },
    {
     "name": "stdout",
     "output_type": "stream",
     "text": [
      "\u001b[1;3;34mRetrieving with query id None: 1. 惩罚性强制力的主要目的是什么？\n",
      "\u001b[0m\u001b[1;3;38;5;200mRetrieved node with id, entering: cd280302-64f2-4bee-9aa9-67f2000f57e2\n",
      "\u001b[0m\u001b[1;3;34mRetrieving with query id cd280302-64f2-4bee-9aa9-67f2000f57e2: 1. 惩罚性强制力的主要目的是什么？\n",
      "\u001b[0mGenerated queries:\n",
      "1. 出租车司机对犹太人的普遍态度和看法是什么？\n"
     ]
    },
    {
     "name": "stderr",
     "output_type": "stream",
     "text": [
      "\u001b[32m2025-04-09 15:51:34.634\u001b[0m | \u001b[33m\u001b[1mWARNING \u001b[0m | \u001b[36mreadai.components.retrievers\u001b[0m:\u001b[36m_retrieve\u001b[0m:\u001b[36m553\u001b[0m - \u001b[33m\u001b[1mBM25Retriever does not support embeddings, skipping...\u001b[0m\n",
      "\u001b[32m2025-04-09 15:51:34.688\u001b[0m | \u001b[33m\u001b[1mWARNING \u001b[0m | \u001b[36mreadai.components.retrievers\u001b[0m:\u001b[36m_retrieve\u001b[0m:\u001b[36m553\u001b[0m - \u001b[33m\u001b[1mBM25Retriever does not support embeddings, skipping...\u001b[0m\n",
      "\u001b[32m2025-04-09 15:51:34.737\u001b[0m | \u001b[33m\u001b[1mWARNING \u001b[0m | \u001b[36mreadai.components.retrievers\u001b[0m:\u001b[36m_retrieve\u001b[0m:\u001b[36m553\u001b[0m - \u001b[33m\u001b[1mBM25Retriever does not support embeddings, skipping...\u001b[0m\n"
     ]
    },
    {
     "name": "stdout",
     "output_type": "stream",
     "text": [
      "Generated queries:\n",
      "1. 作家如何处理创作中的愤怒情绪？\n",
      "\u001b[1;3;34mRetrieving with query id None: 出租车司机对犹太人有什么看法？\n",
      "\u001b[0m\u001b[1;3;38;5;200mRetrieved node with id, entering: 08dc18c8-7560-465e-8fde-69bcbf0c3fd9\n",
      "\u001b[0m\u001b[1;3;34mRetrieving with query id 08dc18c8-7560-465e-8fde-69bcbf0c3fd9: 出租车司机对犹太人有什么看法？\n",
      "\u001b[0m\u001b[1;3;34mRetrieving with query id None: 1. 出租车司机对犹太人的普遍态度和看法是什么？\n",
      "\u001b[0m\u001b[1;3;38;5;200mRetrieved node with id, entering: 08dc18c8-7560-465e-8fde-69bcbf0c3fd9\n",
      "\u001b[0m\u001b[1;3;34mRetrieving with query id 08dc18c8-7560-465e-8fde-69bcbf0c3fd9: 1. 出租车司机对犹太人的普遍态度和看法是什么？\n",
      "\u001b[0m\u001b[1;3;34mRetrieving with query id None: 作者如何应对愤怒情绪？\n",
      "\u001b[0m\u001b[1;3;38;5;200mRetrieved node with id, entering: 794e0320-1392-4339-a80c-009435c45f6d\n",
      "\u001b[0m\u001b[1;3;34mRetrieving with query id 794e0320-1392-4339-a80c-009435c45f6d: 作者如何应对愤怒情绪？\n",
      "\u001b[0m\u001b[1;3;38;5;200mRetrieved node with id, entering: cde40d62-744a-4151-837c-83b2815d32fe\n",
      "\u001b[0m\u001b[1;3;34mRetrieving with query id cde40d62-744a-4151-837c-83b2815d32fe: 作者如何应对愤怒情绪？\n",
      "\u001b[0m\u001b[1;3;34mRetrieving with query id None: 1. 作家如何处理创作中的愤怒情绪？\n",
      "\u001b[0m"
     ]
    },
    {
     "name": "stderr",
     "output_type": "stream",
     "text": [
      "\u001b[32m2025-04-09 15:51:34.780\u001b[0m | \u001b[33m\u001b[1mWARNING \u001b[0m | \u001b[36mreadai.components.retrievers\u001b[0m:\u001b[36m_retrieve\u001b[0m:\u001b[36m553\u001b[0m - \u001b[33m\u001b[1mBM25Retriever does not support embeddings, skipping...\u001b[0m\n"
     ]
    },
    {
     "name": "stdout",
     "output_type": "stream",
     "text": [
      "\u001b[1;3;38;5;200mRetrieved node with id, entering: cde40d62-744a-4151-837c-83b2815d32fe\n",
      "\u001b[0m\u001b[1;3;34mRetrieving with query id cde40d62-744a-4151-837c-83b2815d32fe: 1. 作家如何处理创作中的愤怒情绪？\n",
      "\u001b[0m\u001b[1;3;38;5;200mRetrieved node with id, entering: 794e0320-1392-4339-a80c-009435c45f6d\n",
      "\u001b[0m\u001b[1;3;34mRetrieving with query id 794e0320-1392-4339-a80c-009435c45f6d: 1. 作家如何处理创作中的愤怒情绪？\n",
      "\u001b[0mGenerated queries:\n",
      "1. 爱比克泰德的国籍和出生地是哪里？\n"
     ]
    },
    {
     "name": "stderr",
     "output_type": "stream",
     "text": [
      "\u001b[32m2025-04-09 15:51:42.261\u001b[0m | \u001b[33m\u001b[1mWARNING \u001b[0m | \u001b[36mreadai.components.retrievers\u001b[0m:\u001b[36m_retrieve\u001b[0m:\u001b[36m553\u001b[0m - \u001b[33m\u001b[1mBM25Retriever does not support embeddings, skipping...\u001b[0m\n",
      "\u001b[32m2025-04-09 15:51:42.310\u001b[0m | \u001b[33m\u001b[1mWARNING \u001b[0m | \u001b[36mreadai.components.retrievers\u001b[0m:\u001b[36m_retrieve\u001b[0m:\u001b[36m553\u001b[0m - \u001b[33m\u001b[1mBM25Retriever does not support embeddings, skipping...\u001b[0m\n",
      "\u001b[32m2025-04-09 15:51:42.359\u001b[0m | \u001b[33m\u001b[1mWARNING \u001b[0m | \u001b[36mreadai.components.retrievers\u001b[0m:\u001b[36m_retrieve\u001b[0m:\u001b[36m553\u001b[0m - \u001b[33m\u001b[1mBM25Retriever does not support embeddings, skipping...\u001b[0m\n"
     ]
    },
    {
     "name": "stdout",
     "output_type": "stream",
     "text": [
      "Generated queries:\n",
      "1. 非暴力沟通的四种选择是什么？\n",
      "\u001b[1;3;34mRetrieving with query id None: 爱比克泰德是哪国人？\n",
      "\u001b[0m\u001b[1;3;38;5;200mRetrieved node with id, entering: 991577d6-5459-48cb-a0ba-fe3e7e7d0214\n",
      "\u001b[0m\u001b[1;3;34mRetrieving with query id 991577d6-5459-48cb-a0ba-fe3e7e7d0214: 爱比克泰德是哪国人？\n",
      "\u001b[0m\u001b[1;3;38;5;200mRetrieved node with id, entering: 5f44342d-77d1-4243-a602-6b0ecbfe5edf\n",
      "\u001b[0m\u001b[1;3;34mRetrieving with query id 5f44342d-77d1-4243-a602-6b0ecbfe5edf: 爱比克泰德是哪国人？\n",
      "\u001b[0m\u001b[1;3;38;5;200mRetrieved node with id, entering: c6757a6c-d731-4b2d-9ad8-9a5b11adaf78\n",
      "\u001b[0m\u001b[1;3;34mRetrieving with query id c6757a6c-d731-4b2d-9ad8-9a5b11adaf78: 爱比克泰德是哪国人？\n",
      "\u001b[0m\u001b[1;3;38;5;200mRetrieved node with id, entering: faa30a2f-e807-4d8b-bcba-4b8a63fe4f98\n",
      "\u001b[0m\u001b[1;3;34mRetrieving with query id faa30a2f-e807-4d8b-bcba-4b8a63fe4f98: 爱比克泰德是哪国人？\n",
      "\u001b[0m\u001b[1;3;34mRetrieving with query id None: 1. 爱比克泰德的国籍和出生地是哪里？\n",
      "\u001b[0m\u001b[1;3;38;5;200mRetrieved node with id, entering: faa30a2f-e807-4d8b-bcba-4b8a63fe4f98\n",
      "\u001b[0m\u001b[1;3;34mRetrieving with query id faa30a2f-e807-4d8b-bcba-4b8a63fe4f98: 1. 爱比克泰德的国籍和出生地是哪里？\n",
      "\u001b[0m\u001b[1;3;38;5;200mRetrieved node with id, entering: 67948f36-d586-4c65-b2c5-d1422d639629\n",
      "\u001b[0m\u001b[1;3;34mRetrieving with query id 67948f36-d586-4c65-b2c5-d1422d639629: 1. 爱比克泰德的国籍和出生地是哪里？\n",
      "\u001b[0m\u001b[1;3;38;5;200mRetrieved node with id, entering: 794e0320-1392-4339-a80c-009435c45f6d\n",
      "\u001b[0m\u001b[1;3;34mRetrieving with query id 794e0320-1392-4339-a80c-009435c45f6d: 1. 爱比克泰德的国籍和出生地是哪里？\n",
      "\u001b[0m\u001b[1;3;34mRetrieving with query id None: 非暴力沟通有几种选择？\n",
      "\u001b[0m\u001b[1;3;38;5;200mRetrieved node with id, entering: e1eea330-93d3-4572-aacf-f63833e322c5\n",
      "\u001b[0m\u001b[1;3;34mRetrieving with query id e1eea330-93d3-4572-aacf-f63833e322c5: 非暴力沟通有几种选择？\n",
      "\u001b[0m\u001b[1;3;38;5;200mRetrieved node with id, entering: 57af29f0-d5e6-413e-ac3b-425af8b634ff\n",
      "\u001b[0m\u001b[1;3;34mRetrieving with query id 57af29f0-d5e6-413e-ac3b-425af8b634ff: 非暴力沟通有几种选择？\n",
      "\u001b[0m\u001b[1;3;38;5;200mRetrieved node with id, entering: fa74f8eb-58f9-4b5f-86e2-d8e26a86e206\n",
      "\u001b[0m\u001b[1;3;34mRetrieving with query id fa74f8eb-58f9-4b5f-86e2-d8e26a86e206: 非暴力沟通有几种选择？\n",
      "\u001b[0m\u001b[1;3;38;5;200mRetrieved node with id, entering: fc5fb51d-24f4-451e-93c2-bd8c9863a608\n",
      "\u001b[0m\u001b[1;3;34mRetrieving with query id fc5fb51d-24f4-451e-93c2-bd8c9863a608: 非暴力沟通有几种选择？\n",
      "\u001b[0m\u001b[1;3;34mRetrieving with query id None: 1. 非暴力沟通的四种选择是什么？\n",
      "\u001b[0m"
     ]
    },
    {
     "name": "stderr",
     "output_type": "stream",
     "text": [
      "\u001b[32m2025-04-09 15:51:42.401\u001b[0m | \u001b[33m\u001b[1mWARNING \u001b[0m | \u001b[36mreadai.components.retrievers\u001b[0m:\u001b[36m_retrieve\u001b[0m:\u001b[36m553\u001b[0m - \u001b[33m\u001b[1mBM25Retriever does not support embeddings, skipping...\u001b[0m\n"
     ]
    },
    {
     "name": "stdout",
     "output_type": "stream",
     "text": [
      "\u001b[1;3;38;5;200mRetrieved node with id, entering: 198eaf12-aab4-43ba-b95c-f9dd4579adb9\n",
      "\u001b[0m\u001b[1;3;34mRetrieving with query id 198eaf12-aab4-43ba-b95c-f9dd4579adb9: 1. 非暴力沟通的四种选择是什么？\n",
      "\u001b[0m\u001b[1;3;38;5;200mRetrieved node with id, entering: 268fc4c6-0d99-4363-b503-75330fc2d7e0\n",
      "\u001b[0m\u001b[1;3;34mRetrieving with query id 268fc4c6-0d99-4363-b503-75330fc2d7e0: 1. 非暴力沟通的四种选择是什么？\n",
      "\u001b[0m\u001b[1;3;38;5;200mRetrieved node with id, entering: 7b5a47cb-9add-42fd-a70f-b497ebbeefcf\n",
      "\u001b[0m\u001b[1;3;34mRetrieving with query id 7b5a47cb-9add-42fd-a70f-b497ebbeefcf: 1. 非暴力沟通的四种选择是什么？\n",
      "\u001b[0mGenerated queries:\n",
      "1. 女性不安情绪的原因有哪些？\n",
      "2. 为什么现代女性更容易感到焦虑？\n",
      "3. 心理压力如何影响女性的情绪？\n",
      "4. 社会角色对女性不安感的影响是什么？\n",
      "5. 如何缓解女性的不安和焦虑情绪？\n"
     ]
    },
    {
     "name": "stderr",
     "output_type": "stream",
     "text": [
      "\u001b[32m2025-04-09 15:51:56.215\u001b[0m | \u001b[33m\u001b[1mWARNING \u001b[0m | \u001b[36mreadai.components.retrievers\u001b[0m:\u001b[36m_retrieve\u001b[0m:\u001b[36m553\u001b[0m - \u001b[33m\u001b[1mBM25Retriever does not support embeddings, skipping...\u001b[0m\n",
      "\u001b[32m2025-04-09 15:51:56.259\u001b[0m | \u001b[33m\u001b[1mWARNING \u001b[0m | \u001b[36mreadai.components.retrievers\u001b[0m:\u001b[36m_retrieve\u001b[0m:\u001b[36m553\u001b[0m - \u001b[33m\u001b[1mBM25Retriever does not support embeddings, skipping...\u001b[0m\n",
      "\u001b[32m2025-04-09 15:51:56.300\u001b[0m | \u001b[33m\u001b[1mWARNING \u001b[0m | \u001b[36mreadai.components.retrievers\u001b[0m:\u001b[36m_retrieve\u001b[0m:\u001b[36m553\u001b[0m - \u001b[33m\u001b[1mBM25Retriever does not support embeddings, skipping...\u001b[0m\n"
     ]
    },
    {
     "name": "stdout",
     "output_type": "stream",
     "text": [
      "Generated queries:\n",
      "1. 如何礼貌地打断别人说话？\n",
      "2. 在什么情况下可以打断别人的对话？\n",
      "3. 打断对话的技巧和注意事项有哪些？\n",
      "4. 职场中如何恰当地打断他人发言？\n",
      "5. 为什么有些人总是喜欢打断别人说话？\n",
      "\u001b[1;3;34mRetrieving with query id None: 女人为什么感到不安？\n",
      "\u001b[0m\u001b[1;3;38;5;200mRetrieved node with id, entering: 98e28d22-4d9e-4c10-ab38-5147b3b3501c\n",
      "\u001b[0m\u001b[1;3;34mRetrieving with query id 98e28d22-4d9e-4c10-ab38-5147b3b3501c: 女人为什么感到不安？\n",
      "\u001b[0m\u001b[1;3;38;5;200mRetrieved node with id, entering: 78c9b482-6f22-4191-a715-b50155bed031\n",
      "\u001b[0m\u001b[1;3;34mRetrieving with query id 78c9b482-6f22-4191-a715-b50155bed031: 女人为什么感到不安？\n",
      "\u001b[0m\u001b[1;3;38;5;200mRetrieved node with id, entering: 3c16051f-0896-46a3-8ad9-d2f8e639a720\n",
      "\u001b[0m\u001b[1;3;34mRetrieving with query id 3c16051f-0896-46a3-8ad9-d2f8e639a720: 女人为什么感到不安？\n",
      "\u001b[0m\u001b[1;3;38;5;200mRetrieved node with id, entering: 76464874-621e-4731-9dc1-895a1a6760a3\n",
      "\u001b[0m\u001b[1;3;34mRetrieving with query id 76464874-621e-4731-9dc1-895a1a6760a3: 女人为什么感到不安？\n",
      "\u001b[0m\u001b[1;3;34mRetrieving with query id None: 1. 女性不安情绪的原因有哪些？\n",
      "\u001b[0m\u001b[1;3;38;5;200mRetrieved node with id, entering: 76464874-621e-4731-9dc1-895a1a6760a3\n",
      "\u001b[0m\u001b[1;3;34mRetrieving with query id 76464874-621e-4731-9dc1-895a1a6760a3: 1. 女性不安情绪的原因有哪些？\n",
      "\u001b[0m\u001b[1;3;38;5;200mRetrieved node with id, entering: 78c9b482-6f22-4191-a715-b50155bed031\n",
      "\u001b[0m\u001b[1;3;34mRetrieving with query id 78c9b482-6f22-4191-a715-b50155bed031: 1. 女性不安情绪的原因有哪些？\n",
      "\u001b[0m\u001b[1;3;38;5;200mRetrieved node with id, entering: 5e8705e5-6eee-42e9-8551-dae3d2843602\n",
      "\u001b[0m\u001b[1;3;34mRetrieving with query id 5e8705e5-6eee-42e9-8551-dae3d2843602: 1. 女性不安情绪的原因有哪些？\n",
      "\u001b[0m\u001b[1;3;34mRetrieving with query id None: 打断对话的最佳时机是？\n",
      "\u001b[0m\u001b[1;3;38;5;200mRetrieved node with id, entering: d1c08388-f9be-4e47-845f-deed0afc0bd3\n",
      "\u001b[0m\u001b[1;3;34mRetrieving with query id d1c08388-f9be-4e47-845f-deed0afc0bd3: 打断对话的最佳时机是？\n",
      "\u001b[0m\u001b[1;3;38;5;200mRetrieved node with id, entering: ccafb2d8-78ab-4f16-8f0e-5f368871b850\n",
      "\u001b[0m\u001b[1;3;34mRetrieving with query id ccafb2d8-78ab-4f16-8f0e-5f368871b850: 打断对话的最佳时机是？\n",
      "\u001b[0m\u001b[1;3;34mRetrieving with query id None: 1. 如何礼貌地打断别人说话？\n",
      "\u001b[0m"
     ]
    },
    {
     "name": "stderr",
     "output_type": "stream",
     "text": [
      "\u001b[32m2025-04-09 15:51:56.339\u001b[0m | \u001b[33m\u001b[1mWARNING \u001b[0m | \u001b[36mreadai.components.retrievers\u001b[0m:\u001b[36m_retrieve\u001b[0m:\u001b[36m553\u001b[0m - \u001b[33m\u001b[1mBM25Retriever does not support embeddings, skipping...\u001b[0m\n"
     ]
    },
    {
     "name": "stdout",
     "output_type": "stream",
     "text": [
      "\u001b[1;3;38;5;200mRetrieved node with id, entering: d1c08388-f9be-4e47-845f-deed0afc0bd3\n",
      "\u001b[0m\u001b[1;3;34mRetrieving with query id d1c08388-f9be-4e47-845f-deed0afc0bd3: 1. 如何礼貌地打断别人说话？\n",
      "\u001b[0m\u001b[1;3;38;5;200mRetrieved node with id, entering: ccafb2d8-78ab-4f16-8f0e-5f368871b850\n",
      "\u001b[0m\u001b[1;3;34mRetrieving with query id ccafb2d8-78ab-4f16-8f0e-5f368871b850: 1. 如何礼貌地打断别人说话？\n",
      "\u001b[0mGenerated queries:\n",
      "1. 如何正确表达愤怒的情绪？\n"
     ]
    },
    {
     "name": "stderr",
     "output_type": "stream",
     "text": [
      "\u001b[32m2025-04-09 15:52:05.183\u001b[0m | \u001b[33m\u001b[1mWARNING \u001b[0m | \u001b[36mreadai.components.retrievers\u001b[0m:\u001b[36m_retrieve\u001b[0m:\u001b[36m553\u001b[0m - \u001b[33m\u001b[1mBM25Retriever does not support embeddings, skipping...\u001b[0m\n",
      "\u001b[32m2025-04-09 15:52:05.224\u001b[0m | \u001b[33m\u001b[1mWARNING \u001b[0m | \u001b[36mreadai.components.retrievers\u001b[0m:\u001b[36m_retrieve\u001b[0m:\u001b[36m553\u001b[0m - \u001b[33m\u001b[1mBM25Retriever does not support embeddings, skipping...\u001b[0m\n",
      "\u001b[32m2025-04-09 15:52:05.264\u001b[0m | \u001b[33m\u001b[1mWARNING \u001b[0m | \u001b[36mreadai.components.retrievers\u001b[0m:\u001b[36m_retrieve\u001b[0m:\u001b[36m553\u001b[0m - \u001b[33m\u001b[1mBM25Retriever does not support embeddings, skipping...\u001b[0m\n",
      "\u001b[32m2025-04-09 15:52:05.302\u001b[0m | \u001b[33m\u001b[1mWARNING \u001b[0m | \u001b[36mreadai.components.retrievers\u001b[0m:\u001b[36m_retrieve\u001b[0m:\u001b[36m553\u001b[0m - \u001b[33m\u001b[1mBM25Retriever does not support embeddings, skipping...\u001b[0m\n"
     ]
    },
    {
     "name": "stdout",
     "output_type": "stream",
     "text": [
      "Generated queries:\n",
      "1. 比尔偷偷开走的车是谁的？\n",
      "\u001b[1;3;34mRetrieving with query id None: 表达愤怒的第一步是什么？\n",
      "\u001b[0m\u001b[1;3;38;5;200mRetrieved node with id, entering: cde40d62-744a-4151-837c-83b2815d32fe\n",
      "\u001b[0m\u001b[1;3;34mRetrieving with query id cde40d62-744a-4151-837c-83b2815d32fe: 表达愤怒的第一步是什么？\n",
      "\u001b[0m\u001b[1;3;38;5;200mRetrieved node with id, entering: 794e0320-1392-4339-a80c-009435c45f6d\n",
      "\u001b[0m\u001b[1;3;34mRetrieving with query id 794e0320-1392-4339-a80c-009435c45f6d: 表达愤怒的第一步是什么？\n",
      "\u001b[0m\u001b[1;3;38;5;200mRetrieved node with id, entering: a8f63fdd-3893-4761-be42-114957027a8b\n",
      "\u001b[0m\u001b[1;3;34mRetrieving with query id a8f63fdd-3893-4761-be42-114957027a8b: 表达愤怒的第一步是什么？\n",
      "\u001b[0m\u001b[1;3;34mRetrieving with query id None: 1. 如何正确表达愤怒的情绪？\n",
      "\u001b[0m\u001b[1;3;38;5;200mRetrieved node with id, entering: 794e0320-1392-4339-a80c-009435c45f6d\n",
      "\u001b[0m\u001b[1;3;34mRetrieving with query id 794e0320-1392-4339-a80c-009435c45f6d: 1. 如何正确表达愤怒的情绪？\n",
      "\u001b[0m\u001b[1;3;38;5;200mRetrieved node with id, entering: cde40d62-744a-4151-837c-83b2815d32fe\n",
      "\u001b[0m\u001b[1;3;34mRetrieving with query id cde40d62-744a-4151-837c-83b2815d32fe: 1. 如何正确表达愤怒的情绪？\n",
      "\u001b[0m\u001b[1;3;38;5;200mRetrieved node with id, entering: 5e0aabca-dff2-4bb6-b210-c6c4e232a086\n",
      "\u001b[0m\u001b[1;3;34mRetrieving with query id 5e0aabca-dff2-4bb6-b210-c6c4e232a086: 1. 如何正确表达愤怒的情绪？\n",
      "\u001b[0m\u001b[1;3;38;5;200mRetrieved node with id, entering: a8f63fdd-3893-4761-be42-114957027a8b\n",
      "\u001b[0m\u001b[1;3;34mRetrieving with query id a8f63fdd-3893-4761-be42-114957027a8b: 1. 如何正确表达愤怒的情绪？\n",
      "\u001b[0m\u001b[1;3;34mRetrieving with query id None: 比尔悄悄开走了谁的车？\n",
      "\u001b[0m\u001b[1;3;38;5;200mRetrieved node with id, entering: cca2b18a-40e1-4dc0-b72b-32046cd04c65\n",
      "\u001b[0m\u001b[1;3;34mRetrieving with query id cca2b18a-40e1-4dc0-b72b-32046cd04c65: 比尔悄悄开走了谁的车？\n",
      "\u001b[0m\u001b[1;3;38;5;200mRetrieved node with id, entering: 794e0320-1392-4339-a80c-009435c45f6d\n",
      "\u001b[0m\u001b[1;3;34mRetrieving with query id 794e0320-1392-4339-a80c-009435c45f6d: 比尔悄悄开走了谁的车？\n",
      "\u001b[0m\u001b[1;3;34mRetrieving with query id None: 1. 比尔偷偷开走的车是谁的？\n",
      "\u001b[0m\u001b[1;3;38;5;200mRetrieved node with id, entering: cca2b18a-40e1-4dc0-b72b-32046cd04c65\n",
      "\u001b[0m\u001b[1;3;34mRetrieving with query id cca2b18a-40e1-4dc0-b72b-32046cd04c65: 1. 比尔偷偷开走的车是谁的？\n",
      "\u001b[0mGenerated queries:\n",
      "1. 女孩刚怀孕的最初几天有哪些症状表现？\n"
     ]
    },
    {
     "name": "stderr",
     "output_type": "stream",
     "text": [
      "\u001b[32m2025-04-09 15:52:17.592\u001b[0m | \u001b[33m\u001b[1mWARNING \u001b[0m | \u001b[36mreadai.components.retrievers\u001b[0m:\u001b[36m_retrieve\u001b[0m:\u001b[36m553\u001b[0m - \u001b[33m\u001b[1mBM25Retriever does not support embeddings, skipping...\u001b[0m\n",
      "\u001b[32m2025-04-09 15:52:17.635\u001b[0m | \u001b[33m\u001b[1mWARNING \u001b[0m | \u001b[36mreadai.components.retrievers\u001b[0m:\u001b[36m_retrieve\u001b[0m:\u001b[36m553\u001b[0m - \u001b[33m\u001b[1mBM25Retriever does not support embeddings, skipping...\u001b[0m\n",
      "\u001b[32m2025-04-09 15:52:17.678\u001b[0m | \u001b[33m\u001b[1mWARNING \u001b[0m | \u001b[36mreadai.components.retrievers\u001b[0m:\u001b[36m_retrieve\u001b[0m:\u001b[36m553\u001b[0m - \u001b[33m\u001b[1mBM25Retriever does not support embeddings, skipping...\u001b[0m\n"
     ]
    },
    {
     "name": "stdout",
     "output_type": "stream",
     "text": [
      "Generated queries:\n",
      "1. 胎儿发育过程中什么时候会伸出拳头？\n",
      "2. 怀孕几周能感觉到宝宝在肚子里动？\n",
      "3. 婴儿在母体内何时开始有手部动作？\n",
      "4. 胎儿拳头形成和活动的时间表\n",
      "5. 孕期宝宝什么时候会握拳或伸展手指？\n",
      "\u001b[1;3;34mRetrieving with query id None: 女孩最初几天有什么表现？\n",
      "\u001b[0m\u001b[1;3;38;5;200mRetrieved node with id, entering: 3c16051f-0896-46a3-8ad9-d2f8e639a720\n",
      "\u001b[0m\u001b[1;3;34mRetrieving with query id 3c16051f-0896-46a3-8ad9-d2f8e639a720: 女孩最初几天有什么表现？\n",
      "\u001b[0m\u001b[1;3;34mRetrieving with query id None: 1. 女孩刚怀孕的最初几天有哪些症状表现？\n",
      "\u001b[0m\u001b[1;3;38;5;200mRetrieved node with id, entering: 76464874-621e-4731-9dc1-895a1a6760a3\n",
      "\u001b[0m\u001b[1;3;34mRetrieving with query id 76464874-621e-4731-9dc1-895a1a6760a3: 1. 女孩刚怀孕的最初几天有哪些症状表现？\n",
      "\u001b[0m\u001b[1;3;34mRetrieving with query id None: 女孩第几天伸出了拳头？\n",
      "\u001b[0m\u001b[1;3;38;5;200mRetrieved node with id, entering: 3c16051f-0896-46a3-8ad9-d2f8e639a720\n",
      "\u001b[0m\u001b[1;3;34mRetrieving with query id 3c16051f-0896-46a3-8ad9-d2f8e639a720: 女孩第几天伸出了拳头？\n",
      "\u001b[0m\u001b[1;3;34mRetrieving with query id None: 1. 胎儿发育过程中什么时候会伸出拳头？\n",
      "\u001b[0m\u001b[1;3;38;5;200mRetrieved node with id, entering: 70ad4621-8519-4bff-8d48-6889b1ea2cf2\n",
      "\u001b[0m\u001b[1;3;34mRetrieving with query id 70ad4621-8519-4bff-8d48-6889b1ea2cf2: 1. 胎儿发育过程中什么时候会伸出拳头？\n",
      "\u001b[0m\u001b[1;3;38;5;200mRetrieved node with id, entering: 08dc18c8-7560-465e-8fde-69bcbf0c3fd9\n",
      "\u001b[0m\u001b[1;3;34mRetrieving with query id 08dc18c8-7560-465e-8fde-69bcbf0c3fd9: 1. 胎儿发育过程中什么时候会伸出拳头？\n",
      "\u001b[0m\u001b[1;3;38;5;200mRetrieved node with id, entering: 3c16051f-0896-46a3-8ad9-d2f8e639a720\n",
      "\u001b[0m\u001b[1;3;34mRetrieving with query id 3c16051f-0896-46a3-8ad9-d2f8e639a720: 1. 胎儿发育过程中什么时候会伸出拳头？\n",
      "\u001b[0m\u001b[1;3;38;5;200mRetrieved node with id, entering: 6d70940f-2516-4102-a5b4-fca469925da8\n",
      "\u001b[0m\u001b[1;3;34mRetrieving with query id 6d70940f-2516-4102-a5b4-fca469925da8: 1. 胎儿发育过程中什么时候会伸出拳头？\n",
      "\u001b[0m"
     ]
    },
    {
     "name": "stderr",
     "output_type": "stream",
     "text": [
      "\u001b[32m2025-04-09 15:52:17.719\u001b[0m | \u001b[33m\u001b[1mWARNING \u001b[0m | \u001b[36mreadai.components.retrievers\u001b[0m:\u001b[36m_retrieve\u001b[0m:\u001b[36m553\u001b[0m - \u001b[33m\u001b[1mBM25Retriever does not support embeddings, skipping...\u001b[0m\n"
     ]
    },
    {
     "name": "stdout",
     "output_type": "stream",
     "text": [
      "Generated queries:\n",
      "1. 护士最初是如何照顾和帮助病人的？\n"
     ]
    },
    {
     "name": "stderr",
     "output_type": "stream",
     "text": [
      "\u001b[32m2025-04-09 15:52:29.184\u001b[0m | \u001b[33m\u001b[1mWARNING \u001b[0m | \u001b[36mreadai.components.retrievers\u001b[0m:\u001b[36m_retrieve\u001b[0m:\u001b[36m553\u001b[0m - \u001b[33m\u001b[1mBM25Retriever does not support embeddings, skipping...\u001b[0m\n",
      "\u001b[32m2025-04-09 15:52:29.230\u001b[0m | \u001b[33m\u001b[1mWARNING \u001b[0m | \u001b[36mreadai.components.retrievers\u001b[0m:\u001b[36m_retrieve\u001b[0m:\u001b[36m553\u001b[0m - \u001b[33m\u001b[1mBM25Retriever does not support embeddings, skipping...\u001b[0m\n",
      "\u001b[32m2025-04-09 15:52:29.271\u001b[0m | \u001b[33m\u001b[1mWARNING \u001b[0m | \u001b[36mreadai.components.retrievers\u001b[0m:\u001b[36m_retrieve\u001b[0m:\u001b[36m553\u001b[0m - \u001b[33m\u001b[1mBM25Retriever does not support embeddings, skipping...\u001b[0m\n",
      "\u001b[32m2025-04-09 15:52:29.312\u001b[0m | \u001b[33m\u001b[1mWARNING \u001b[0m | \u001b[36mreadai.components.retrievers\u001b[0m:\u001b[36m_retrieve\u001b[0m:\u001b[36m553\u001b[0m - \u001b[33m\u001b[1mBM25Retriever does not support embeddings, skipping...\u001b[0m\n"
     ]
    },
    {
     "name": "stdout",
     "output_type": "stream",
     "text": [
      "Generated queries:\n",
      "1. 丈夫在婚姻中最害怕面对的问题有哪些？\n",
      "2. 男人在婚姻里最担心的几件事是什么？\n",
      "3. 丈夫对妻子最担忧的事情有哪些？\n",
      "4. 婚姻中丈夫常见的心理压力来源是什么？\n",
      "5. 丈夫最怕妻子做的行为或事情是什么？\n",
      "\u001b[1;3;34mRetrieving with query id None: 护士最初如何帮助太太？\n",
      "\u001b[0m\u001b[1;3;38;5;200mRetrieved node with id, entering: 1d9b4cb4-fce3-40c1-8e5b-bd457d1ecc60\n",
      "\u001b[0m\u001b[1;3;34mRetrieving with query id 1d9b4cb4-fce3-40c1-8e5b-bd457d1ecc60: 护士最初如何帮助太太？\n",
      "\u001b[0m\u001b[1;3;38;5;200mRetrieved node with id, entering: 94807d05-0b0c-4165-8b54-175bc2ea93fa\n",
      "\u001b[0m\u001b[1;3;34mRetrieving with query id 94807d05-0b0c-4165-8b54-175bc2ea93fa: 护士最初如何帮助太太？\n",
      "\u001b[0m\u001b[1;3;34mRetrieving with query id None: 1. 护士最初是如何照顾和帮助病人的？\n",
      "\u001b[0m\u001b[1;3;38;5;200mRetrieved node with id, entering: 22182f51-fdb9-4351-b147-cf14ed79dc3d\n",
      "\u001b[0m\u001b[1;3;34mRetrieving with query id 22182f51-fdb9-4351-b147-cf14ed79dc3d: 1. 护士最初是如何照顾和帮助病人的？\n",
      "\u001b[0m\u001b[1;3;38;5;200mRetrieved node with id, entering: 1d9b4cb4-fce3-40c1-8e5b-bd457d1ecc60\n",
      "\u001b[0m\u001b[1;3;34mRetrieving with query id 1d9b4cb4-fce3-40c1-8e5b-bd457d1ecc60: 1. 护士最初是如何照顾和帮助病人的？\n",
      "\u001b[0m\u001b[1;3;34mRetrieving with query id None: 丈夫最担心的事情是什么？\n",
      "\u001b[0m\u001b[1;3;38;5;200mRetrieved node with id, entering: 1d9b4cb4-fce3-40c1-8e5b-bd457d1ecc60\n",
      "\u001b[0m\u001b[1;3;34mRetrieving with query id 1d9b4cb4-fce3-40c1-8e5b-bd457d1ecc60: 丈夫最担心的事情是什么？\n",
      "\u001b[0m\u001b[1;3;38;5;200mRetrieved node with id, entering: f579121b-f157-4233-b2f2-8201c024d73c\n",
      "\u001b[0m\u001b[1;3;34mRetrieving with query id f579121b-f157-4233-b2f2-8201c024d73c: 丈夫最担心的事情是什么？\n",
      "\u001b[0m\u001b[1;3;38;5;200mRetrieved node with id, entering: 94807d05-0b0c-4165-8b54-175bc2ea93fa\n",
      "\u001b[0m\u001b[1;3;34mRetrieving with query id 94807d05-0b0c-4165-8b54-175bc2ea93fa: 丈夫最担心的事情是什么？\n",
      "\u001b[0m\u001b[1;3;34mRetrieving with query id None: 1. 丈夫在婚姻中最害怕面对的问题有哪些？\n",
      "\u001b[0m\u001b[1;3;38;5;200mRetrieved node with id, entering: f579121b-f157-4233-b2f2-8201c024d73c\n",
      "\u001b[0m\u001b[1;3;34mRetrieving with query id f579121b-f157-4233-b2f2-8201c024d73c: 1. 丈夫在婚姻中最害怕面对的问题有哪些？\n",
      "\u001b[0m\u001b[1;3;38;5;200mRetrieved node with id, entering: 94807d05-0b0c-4165-8b54-175bc2ea93fa\n",
      "\u001b[0m\u001b[1;3;34mRetrieving with query id 94807d05-0b0c-4165-8b54-175bc2ea93fa: 1. 丈夫在婚姻中最害怕面对的问题有哪些？\n",
      "\u001b[0m\u001b[1;3;38;5;200mRetrieved node with id, entering: 1d9b4cb4-fce3-40c1-8e5b-bd457d1ecc60\n",
      "\u001b[0m\u001b[1;3;34mRetrieving with query id 1d9b4cb4-fce3-40c1-8e5b-bd457d1ecc60: 1. 丈夫在婚姻中最害怕面对的问题有哪些？\n",
      "\u001b[0mGenerated queries:\n",
      "1. 复述的技巧和注意事项有哪些？\n"
     ]
    },
    {
     "name": "stderr",
     "output_type": "stream",
     "text": [
      "\u001b[32m2025-04-09 15:52:38.410\u001b[0m | \u001b[33m\u001b[1mWARNING \u001b[0m | \u001b[36mreadai.components.retrievers\u001b[0m:\u001b[36m_retrieve\u001b[0m:\u001b[36m553\u001b[0m - \u001b[33m\u001b[1mBM25Retriever does not support embeddings, skipping...\u001b[0m\n",
      "\u001b[32m2025-04-09 15:52:38.455\u001b[0m | \u001b[33m\u001b[1mWARNING \u001b[0m | \u001b[36mreadai.components.retrievers\u001b[0m:\u001b[36m_retrieve\u001b[0m:\u001b[36m553\u001b[0m - \u001b[33m\u001b[1mBM25Retriever does not support embeddings, skipping...\u001b[0m\n",
      "\u001b[32m2025-04-09 15:52:38.496\u001b[0m | \u001b[33m\u001b[1mWARNING \u001b[0m | \u001b[36mreadai.components.retrievers\u001b[0m:\u001b[36m_retrieve\u001b[0m:\u001b[36m553\u001b[0m - \u001b[33m\u001b[1mBM25Retriever does not support embeddings, skipping...\u001b[0m\n",
      "\u001b[32m2025-04-09 15:52:38.535\u001b[0m | \u001b[33m\u001b[1mWARNING \u001b[0m | \u001b[36mreadai.components.retrievers\u001b[0m:\u001b[36m_retrieve\u001b[0m:\u001b[36m553\u001b[0m - \u001b[33m\u001b[1mBM25Retriever does not support embeddings, skipping...\u001b[0m\n"
     ]
    },
    {
     "name": "stdout",
     "output_type": "stream",
     "text": [
      "Generated queries:\n",
      "1. 约瑟夫·坎贝尔的生平与职业经历\n",
      "\u001b[1;3;34mRetrieving with query id None: 复述时应该注意什么？\n",
      "\u001b[0m\u001b[1;3;38;5;200mRetrieved node with id, entering: e5c3524e-4830-4c63-8d69-a00c6833b975\n",
      "\u001b[0m\u001b[1;3;34mRetrieving with query id e5c3524e-4830-4c63-8d69-a00c6833b975: 复述时应该注意什么？\n",
      "\u001b[0m\u001b[1;3;38;5;200mRetrieved node with id, entering: 22182f51-fdb9-4351-b147-cf14ed79dc3d\n",
      "\u001b[0m\u001b[1;3;34mRetrieving with query id 22182f51-fdb9-4351-b147-cf14ed79dc3d: 复述时应该注意什么？\n",
      "\u001b[0m\u001b[1;3;38;5;200mRetrieved node with id, entering: f9ea8138-a889-456c-8ea6-7d8bf7563771\n",
      "\u001b[0m\u001b[1;3;34mRetrieving with query id f9ea8138-a889-456c-8ea6-7d8bf7563771: 复述时应该注意什么？\n",
      "\u001b[0m\u001b[1;3;38;5;200mRetrieved node with id, entering: 59d54651-c161-45c6-800f-97966e6dacba\n",
      "\u001b[0m\u001b[1;3;34mRetrieving with query id 59d54651-c161-45c6-800f-97966e6dacba: 复述时应该注意什么？\n",
      "\u001b[0m\u001b[1;3;34mRetrieving with query id None: 1. 复述的技巧和注意事项有哪些？\n",
      "\u001b[0m\u001b[1;3;38;5;200mRetrieved node with id, entering: e5c3524e-4830-4c63-8d69-a00c6833b975\n",
      "\u001b[0m\u001b[1;3;34mRetrieving with query id e5c3524e-4830-4c63-8d69-a00c6833b975: 1. 复述的技巧和注意事项有哪些？\n",
      "\u001b[0m\u001b[1;3;38;5;200mRetrieved node with id, entering: 59d54651-c161-45c6-800f-97966e6dacba\n",
      "\u001b[0m\u001b[1;3;34mRetrieving with query id 59d54651-c161-45c6-800f-97966e6dacba: 1. 复述的技巧和注意事项有哪些？\n",
      "\u001b[0m\u001b[1;3;38;5;200mRetrieved node with id, entering: 22182f51-fdb9-4351-b147-cf14ed79dc3d\n",
      "\u001b[0m\u001b[1;3;34mRetrieving with query id 22182f51-fdb9-4351-b147-cf14ed79dc3d: 1. 复述的技巧和注意事项有哪些？\n",
      "\u001b[0m\u001b[1;3;38;5;200mRetrieved node with id, entering: f9ea8138-a889-456c-8ea6-7d8bf7563771\n",
      "\u001b[0m\u001b[1;3;34mRetrieving with query id f9ea8138-a889-456c-8ea6-7d8bf7563771: 1. 复述的技巧和注意事项有哪些？\n",
      "\u001b[0m\u001b[1;3;34mRetrieving with query id None: 约瑟夫·坎贝尔的职业是什么？\n",
      "\u001b[0m\u001b[1;3;38;5;200mRetrieved node with id, entering: 5f44342d-77d1-4243-a602-6b0ecbfe5edf\n",
      "\u001b[0m\u001b[1;3;34mRetrieving with query id 5f44342d-77d1-4243-a602-6b0ecbfe5edf: 约瑟夫·坎贝尔的职业是什么？\n",
      "\u001b[0m\u001b[1;3;38;5;200mRetrieved node with id, entering: ecf04b61-fd74-4e7d-a44a-5ac13a8d5003\n",
      "\u001b[0m\u001b[1;3;34mRetrieving with query id ecf04b61-fd74-4e7d-a44a-5ac13a8d5003: 约瑟夫·坎贝尔的职业是什么？\n",
      "\u001b[0m\u001b[1;3;38;5;200mRetrieved node with id, entering: a2f5016c-6ee4-4cbb-add4-7292ea02877d\n",
      "\u001b[0m\u001b[1;3;34mRetrieving with query id a2f5016c-6ee4-4cbb-add4-7292ea02877d: 约瑟夫·坎贝尔的职业是什么？\n",
      "\u001b[0m\u001b[1;3;38;5;200mRetrieved node with id, entering: 7c1f6052-2855-4d13-a71d-ccbffd7c0934\n",
      "\u001b[0m\u001b[1;3;34mRetrieving with query id 7c1f6052-2855-4d13-a71d-ccbffd7c0934: 约瑟夫·坎贝尔的职业是什么？\n",
      "\u001b[0m\u001b[1;3;34mRetrieving with query id None: 1. 约瑟夫·坎贝尔的生平与职业经历\n",
      "\u001b[0m\u001b[1;3;38;5;200mRetrieved node with id, entering: ecf04b61-fd74-4e7d-a44a-5ac13a8d5003\n",
      "\u001b[0m\u001b[1;3;34mRetrieving with query id ecf04b61-fd74-4e7d-a44a-5ac13a8d5003: 1. 约瑟夫·坎贝尔的生平与职业经历\n",
      "\u001b[0m\u001b[1;3;38;5;200mRetrieved node with id, entering: 5f44342d-77d1-4243-a602-6b0ecbfe5edf\n",
      "\u001b[0m\u001b[1;3;34mRetrieving with query id 5f44342d-77d1-4243-a602-6b0ecbfe5edf: 1. 约瑟夫·坎贝尔的生平与职业经历\n",
      "\u001b[0m\u001b[1;3;38;5;200mRetrieved node with id, entering: 773cb481-465d-4253-84e2-0d7bdaf97972\n",
      "\u001b[0m\u001b[1;3;34mRetrieving with query id 773cb481-465d-4253-84e2-0d7bdaf97972: 1. 约瑟夫·坎贝尔的生平与职业经历\n",
      "\u001b[0m\u001b[1;3;38;5;200mRetrieved node with id, entering: 57af29f0-d5e6-413e-ac3b-425af8b634ff\n",
      "\u001b[0m\u001b[1;3;34mRetrieving with query id 57af29f0-d5e6-413e-ac3b-425af8b634ff: 1. 约瑟夫·坎贝尔的生平与职业经历\n",
      "\u001b[0mGenerated queries:\n",
      "1. 马歇尔希望学员具体说明哪些内容或方面？\n"
     ]
    },
    {
     "name": "stderr",
     "output_type": "stream",
     "text": [
      "\u001b[32m2025-04-09 15:52:46.702\u001b[0m | \u001b[33m\u001b[1mWARNING \u001b[0m | \u001b[36mreadai.components.retrievers\u001b[0m:\u001b[36m_retrieve\u001b[0m:\u001b[36m553\u001b[0m - \u001b[33m\u001b[1mBM25Retriever does not support embeddings, skipping...\u001b[0m\n",
      "\u001b[32m2025-04-09 15:52:46.754\u001b[0m | \u001b[33m\u001b[1mWARNING \u001b[0m | \u001b[36mreadai.components.retrievers\u001b[0m:\u001b[36m_retrieve\u001b[0m:\u001b[36m553\u001b[0m - \u001b[33m\u001b[1mBM25Retriever does not support embeddings, skipping...\u001b[0m\n",
      "\u001b[32m2025-04-09 15:52:46.795\u001b[0m | \u001b[33m\u001b[1mWARNING \u001b[0m | \u001b[36mreadai.components.retrievers\u001b[0m:\u001b[36m_retrieve\u001b[0m:\u001b[36m553\u001b[0m - \u001b[33m\u001b[1mBM25Retriever does not support embeddings, skipping...\u001b[0m\n"
     ]
    },
    {
     "name": "stdout",
     "output_type": "stream",
     "text": [
      "Generated queries:\n",
      "1. 学员表达赞赏的三种主要方式有哪些？\n",
      "\u001b[1;3;34mRetrieving with query id None: 马歇尔希望学员具体说明什么？\n",
      "\u001b[0m\u001b[1;3;38;5;200mRetrieved node with id, entering: e146509e-0a9c-4f4d-b048-02f33b40206e\n",
      "\u001b[0m\u001b[1;3;34mRetrieving with query id e146509e-0a9c-4f4d-b048-02f33b40206e: 马歇尔希望学员具体说明什么？\n",
      "\u001b[0m\u001b[1;3;38;5;200mRetrieved node with id, entering: 24339fb6-86da-40ea-92fd-c63a1ccf3646\n",
      "\u001b[0m\u001b[1;3;34mRetrieving with query id 24339fb6-86da-40ea-92fd-c63a1ccf3646: 马歇尔希望学员具体说明什么？\n",
      "\u001b[0m\u001b[1;3;34mRetrieving with query id None: 1. 马歇尔希望学员具体说明哪些内容或方面？\n",
      "\u001b[0m\u001b[1;3;38;5;200mRetrieved node with id, entering: e146509e-0a9c-4f4d-b048-02f33b40206e\n",
      "\u001b[0m\u001b[1;3;34mRetrieving with query id e146509e-0a9c-4f4d-b048-02f33b40206e: 1. 马歇尔希望学员具体说明哪些内容或方面？\n",
      "\u001b[0m\u001b[1;3;38;5;200mRetrieved node with id, entering: 24339fb6-86da-40ea-92fd-c63a1ccf3646\n",
      "\u001b[0m\u001b[1;3;34mRetrieving with query id 24339fb6-86da-40ea-92fd-c63a1ccf3646: 1. 马歇尔希望学员具体说明哪些内容或方面？\n",
      "\u001b[0m\u001b[1;3;34mRetrieving with query id None: 学员通过哪三点表达赞赏？\n",
      "\u001b[0m\u001b[1;3;38;5;200mRetrieved node with id, entering: e146509e-0a9c-4f4d-b048-02f33b40206e\n",
      "\u001b[0m\u001b[1;3;34mRetrieving with query id e146509e-0a9c-4f4d-b048-02f33b40206e: 学员通过哪三点表达赞赏？\n",
      "\u001b[0m\u001b[1;3;34mRetrieving with query id None: 1. 学员表达赞赏的三种主要方式有哪些？\n",
      "\u001b[0m"
     ]
    },
    {
     "name": "stderr",
     "output_type": "stream",
     "text": [
      "\u001b[32m2025-04-09 15:52:46.831\u001b[0m | \u001b[33m\u001b[1mWARNING \u001b[0m | \u001b[36mreadai.components.retrievers\u001b[0m:\u001b[36m_retrieve\u001b[0m:\u001b[36m553\u001b[0m - \u001b[33m\u001b[1mBM25Retriever does not support embeddings, skipping...\u001b[0m\n"
     ]
    },
    {
     "name": "stdout",
     "output_type": "stream",
     "text": [
      "\u001b[1;3;38;5;200mRetrieved node with id, entering: e146509e-0a9c-4f4d-b048-02f33b40206e\n",
      "\u001b[0m\u001b[1;3;34mRetrieving with query id e146509e-0a9c-4f4d-b048-02f33b40206e: 1. 学员表达赞赏的三种主要方式有哪些？\n",
      "\u001b[0mGenerated queries:\n",
      "1. 非暴力沟通提倡的核心态度有哪些？\n"
     ]
    },
    {
     "name": "stderr",
     "output_type": "stream",
     "text": [
      "\u001b[32m2025-04-09 15:52:55.393\u001b[0m | \u001b[33m\u001b[1mWARNING \u001b[0m | \u001b[36mreadai.components.retrievers\u001b[0m:\u001b[36m_retrieve\u001b[0m:\u001b[36m553\u001b[0m - \u001b[33m\u001b[1mBM25Retriever does not support embeddings, skipping...\u001b[0m\n",
      "\u001b[32m2025-04-09 15:52:55.437\u001b[0m | \u001b[33m\u001b[1mWARNING \u001b[0m | \u001b[36mreadai.components.retrievers\u001b[0m:\u001b[36m_retrieve\u001b[0m:\u001b[36m553\u001b[0m - \u001b[33m\u001b[1mBM25Retriever does not support embeddings, skipping...\u001b[0m\n",
      "\u001b[32m2025-04-09 15:52:55.477\u001b[0m | \u001b[33m\u001b[1mWARNING \u001b[0m | \u001b[36mreadai.components.retrievers\u001b[0m:\u001b[36m_retrieve\u001b[0m:\u001b[36m553\u001b[0m - \u001b[33m\u001b[1mBM25Retriever does not support embeddings, skipping...\u001b[0m\n",
      "\u001b[32m2025-04-09 15:52:55.516\u001b[0m | \u001b[33m\u001b[1mWARNING \u001b[0m | \u001b[36mreadai.components.retrievers\u001b[0m:\u001b[36m_retrieve\u001b[0m:\u001b[36m553\u001b[0m - \u001b[33m\u001b[1mBM25Retriever does not support embeddings, skipping...\u001b[0m\n"
     ]
    },
    {
     "name": "stdout",
     "output_type": "stream",
     "text": [
      "Generated queries:\n",
      "1. 那菲兹表达感激的方式有哪些？\n",
      "\u001b[1;3;34mRetrieving with query id None: 非暴力沟通鼓励什么态度？\n",
      "\u001b[0m\u001b[1;3;38;5;200mRetrieved node with id, entering: c2819596-47c8-4676-a139-bd3802b104d5\n",
      "\u001b[0m\u001b[1;3;34mRetrieving with query id c2819596-47c8-4676-a139-bd3802b104d5: 非暴力沟通鼓励什么态度？\n",
      "\u001b[0m\u001b[1;3;38;5;200mRetrieved node with id, entering: fa74f8eb-58f9-4b5f-86e2-d8e26a86e206\n",
      "\u001b[0m\u001b[1;3;34mRetrieving with query id fa74f8eb-58f9-4b5f-86e2-d8e26a86e206: 非暴力沟通鼓励什么态度？\n",
      "\u001b[0m\u001b[1;3;38;5;200mRetrieved node with id, entering: e327daa0-0785-4d76-a805-8b512ef6dcac\n",
      "\u001b[0m\u001b[1;3;34mRetrieving with query id e327daa0-0785-4d76-a805-8b512ef6dcac: 非暴力沟通鼓励什么态度？\n",
      "\u001b[0m\u001b[1;3;38;5;200mRetrieved node with id, entering: d23ed0c2-0974-4e8d-8f92-0ac95fdb43db\n",
      "\u001b[0m\u001b[1;3;34mRetrieving with query id d23ed0c2-0974-4e8d-8f92-0ac95fdb43db: 非暴力沟通鼓励什么态度？\n",
      "\u001b[0m\u001b[1;3;38;5;200mRetrieved node with id, entering: 1f1078e0-9dd8-4516-aa14-fafe611a6f9e\n",
      "\u001b[0m\u001b[1;3;34mRetrieving with query id 1f1078e0-9dd8-4516-aa14-fafe611a6f9e: 非暴力沟通鼓励什么态度？\n",
      "\u001b[0m\u001b[1;3;34mRetrieving with query id None: 1. 非暴力沟通提倡的核心态度有哪些？\n",
      "\u001b[0m\u001b[1;3;38;5;200mRetrieved node with id, entering: 57af29f0-d5e6-413e-ac3b-425af8b634ff\n",
      "\u001b[0m\u001b[1;3;34mRetrieving with query id 57af29f0-d5e6-413e-ac3b-425af8b634ff: 1. 非暴力沟通提倡的核心态度有哪些？\n",
      "\u001b[0m\u001b[1;3;38;5;200mRetrieved node with id, entering: e1eea330-93d3-4572-aacf-f63833e322c5\n",
      "\u001b[0m\u001b[1;3;34mRetrieving with query id e1eea330-93d3-4572-aacf-f63833e322c5: 1. 非暴力沟通提倡的核心态度有哪些？\n",
      "\u001b[0m\u001b[1;3;34mRetrieving with query id None: 那菲兹如何表达感激？\n",
      "\u001b[0m\u001b[1;3;38;5;200mRetrieved node with id, entering: d23ed0c2-0974-4e8d-8f92-0ac95fdb43db\n",
      "\u001b[0m\u001b[1;3;34mRetrieving with query id d23ed0c2-0974-4e8d-8f92-0ac95fdb43db: 那菲兹如何表达感激？\n",
      "\u001b[0m\u001b[1;3;34mRetrieving with query id None: 1. 那菲兹表达感激的方式有哪些？\n",
      "\u001b[0m\u001b[1;3;38;5;200mRetrieved node with id, entering: d23ed0c2-0974-4e8d-8f92-0ac95fdb43db\n",
      "\u001b[0m\u001b[1;3;34mRetrieving with query id d23ed0c2-0974-4e8d-8f92-0ac95fdb43db: 1. 那菲兹表达感激的方式有哪些？\n",
      "\u001b[0mGenerated queries:\n",
      "1. 非暴力沟通的实践方法和技巧有哪些？\n"
     ]
    },
    {
     "name": "stderr",
     "output_type": "stream",
     "text": [
      "\u001b[32m2025-04-09 15:53:04.237\u001b[0m | \u001b[33m\u001b[1mWARNING \u001b[0m | \u001b[36mreadai.components.retrievers\u001b[0m:\u001b[36m_retrieve\u001b[0m:\u001b[36m553\u001b[0m - \u001b[33m\u001b[1mBM25Retriever does not support embeddings, skipping...\u001b[0m\n",
      "\u001b[32m2025-04-09 15:53:04.281\u001b[0m | \u001b[33m\u001b[1mWARNING \u001b[0m | \u001b[36mreadai.components.retrievers\u001b[0m:\u001b[36m_retrieve\u001b[0m:\u001b[36m553\u001b[0m - \u001b[33m\u001b[1mBM25Retriever does not support embeddings, skipping...\u001b[0m\n",
      "\u001b[32m2025-04-09 15:53:04.323\u001b[0m | \u001b[33m\u001b[1mWARNING \u001b[0m | \u001b[36mreadai.components.retrievers\u001b[0m:\u001b[36m_retrieve\u001b[0m:\u001b[36m553\u001b[0m - \u001b[33m\u001b[1mBM25Retriever does not support embeddings, skipping...\u001b[0m\n",
      "\u001b[32m2025-04-09 15:53:04.363\u001b[0m | \u001b[33m\u001b[1mWARNING \u001b[0m | \u001b[36mreadai.components.retrievers\u001b[0m:\u001b[36m_retrieve\u001b[0m:\u001b[36m553\u001b[0m - \u001b[33m\u001b[1mBM25Retriever does not support embeddings, skipping...\u001b[0m\n"
     ]
    },
    {
     "name": "stdout",
     "output_type": "stream",
     "text": [
      "Generated queries:\n",
      "1. 如何用语言表达对自己的感受负责？\n",
      "\u001b[1;3;34mRetrieving with query id None: 非暴力沟通有什么作用？\n",
      "\u001b[0m\u001b[1;3;38;5;200mRetrieved node with id, entering: e1eea330-93d3-4572-aacf-f63833e322c5\n",
      "\u001b[0m\u001b[1;3;34mRetrieving with query id e1eea330-93d3-4572-aacf-f63833e322c5: 非暴力沟通有什么作用？\n",
      "\u001b[0m\u001b[1;3;38;5;200mRetrieved node with id, entering: c746ffdf-428c-4192-8dde-62d8e815e071\n",
      "\u001b[0m\u001b[1;3;34mRetrieving with query id c746ffdf-428c-4192-8dde-62d8e815e071: 非暴力沟通有什么作用？\n",
      "\u001b[0m\u001b[1;3;38;5;200mRetrieved node with id, entering: fa74f8eb-58f9-4b5f-86e2-d8e26a86e206\n",
      "\u001b[0m\u001b[1;3;34mRetrieving with query id fa74f8eb-58f9-4b5f-86e2-d8e26a86e206: 非暴力沟通有什么作用？\n",
      "\u001b[0m\u001b[1;3;38;5;200mRetrieved node with id, entering: fc5fb51d-24f4-451e-93c2-bd8c9863a608\n",
      "\u001b[0m\u001b[1;3;34mRetrieving with query id fc5fb51d-24f4-451e-93c2-bd8c9863a608: 非暴力沟通有什么作用？\n",
      "\u001b[0m\u001b[1;3;38;5;200mRetrieved node with id, entering: 198eaf12-aab4-43ba-b95c-f9dd4579adb9\n",
      "\u001b[0m\u001b[1;3;34mRetrieving with query id 198eaf12-aab4-43ba-b95c-f9dd4579adb9: 非暴力沟通有什么作用？\n",
      "\u001b[0m\u001b[1;3;34mRetrieving with query id None: 1. 非暴力沟通的实践方法和技巧有哪些？\n",
      "\u001b[0m\u001b[1;3;38;5;200mRetrieved node with id, entering: 57af29f0-d5e6-413e-ac3b-425af8b634ff\n",
      "\u001b[0m\u001b[1;3;34mRetrieving with query id 57af29f0-d5e6-413e-ac3b-425af8b634ff: 1. 非暴力沟通的实践方法和技巧有哪些？\n",
      "\u001b[0m\u001b[1;3;38;5;200mRetrieved node with id, entering: c746ffdf-428c-4192-8dde-62d8e815e071\n",
      "\u001b[0m\u001b[1;3;34mRetrieving with query id c746ffdf-428c-4192-8dde-62d8e815e071: 1. 非暴力沟通的实践方法和技巧有哪些？\n",
      "\u001b[0m\u001b[1;3;38;5;200mRetrieved node with id, entering: 198eaf12-aab4-43ba-b95c-f9dd4579adb9\n",
      "\u001b[0m\u001b[1;3;34mRetrieving with query id 198eaf12-aab4-43ba-b95c-f9dd4579adb9: 1. 非暴力沟通的实践方法和技巧有哪些？\n",
      "\u001b[0m\u001b[1;3;34mRetrieving with query id None: 哪句话表达了对感受负责？\n",
      "\u001b[0m\u001b[1;3;38;5;200mRetrieved node with id, entering: f61eaa03-5923-4ef0-8af1-84668b7dab4b\n",
      "\u001b[0m\u001b[1;3;34mRetrieving with query id f61eaa03-5923-4ef0-8af1-84668b7dab4b: 哪句话表达了对感受负责？\n",
      "\u001b[0m\u001b[1;3;38;5;200mRetrieved node with id, entering: 67948f36-d586-4c65-b2c5-d1422d639629\n",
      "\u001b[0m\u001b[1;3;34mRetrieving with query id 67948f36-d586-4c65-b2c5-d1422d639629: 哪句话表达了对感受负责？\n",
      "\u001b[0m\u001b[1;3;38;5;200mRetrieved node with id, entering: 0b44d3b5-96cf-4673-88ae-f685984d9045\n",
      "\u001b[0m\u001b[1;3;34mRetrieving with query id 0b44d3b5-96cf-4673-88ae-f685984d9045: 哪句话表达了对感受负责？\n",
      "\u001b[0m\u001b[1;3;34mRetrieving with query id None: 1. 如何用语言表达对自己的感受负责？\n",
      "\u001b[0m\u001b[1;3;38;5;200mRetrieved node with id, entering: f61eaa03-5923-4ef0-8af1-84668b7dab4b\n",
      "\u001b[0m\u001b[1;3;34mRetrieving with query id f61eaa03-5923-4ef0-8af1-84668b7dab4b: 1. 如何用语言表达对自己的感受负责？\n",
      "\u001b[0m\u001b[1;3;38;5;200mRetrieved node with id, entering: 14efc9e9-3bcf-41e1-9975-f002a784d3ea\n",
      "\u001b[0m\u001b[1;3;34mRetrieving with query id 14efc9e9-3bcf-41e1-9975-f002a784d3ea: 1. 如何用语言表达对自己的感受负责？\n",
      "\u001b[0mGenerated queries:\n",
      "1. 心理咨询中来访者的初始期望是什么？\n"
     ]
    },
    {
     "name": "stderr",
     "output_type": "stream",
     "text": [
      "\u001b[32m2025-04-09 15:53:12.770\u001b[0m | \u001b[33m\u001b[1mWARNING \u001b[0m | \u001b[36mreadai.components.retrievers\u001b[0m:\u001b[36m_retrieve\u001b[0m:\u001b[36m553\u001b[0m - \u001b[33m\u001b[1mBM25Retriever does not support embeddings, skipping...\u001b[0m\n",
      "\u001b[32m2025-04-09 15:53:12.821\u001b[0m | \u001b[33m\u001b[1mWARNING \u001b[0m | \u001b[36mreadai.components.retrievers\u001b[0m:\u001b[36m_retrieve\u001b[0m:\u001b[36m553\u001b[0m - \u001b[33m\u001b[1mBM25Retriever does not support embeddings, skipping...\u001b[0m\n",
      "\u001b[32m2025-04-09 15:53:12.865\u001b[0m | \u001b[33m\u001b[1mWARNING \u001b[0m | \u001b[36mreadai.components.retrievers\u001b[0m:\u001b[36m_retrieve\u001b[0m:\u001b[36m553\u001b[0m - \u001b[33m\u001b[1mBM25Retriever does not support embeddings, skipping...\u001b[0m\n"
     ]
    },
    {
     "name": "stdout",
     "output_type": "stream",
     "text": [
      "Generated queries:\n",
      "1. 妻子通常对丈夫有哪些常见的抱怨？\n",
      "\u001b[1;3;34mRetrieving with query id None: 来访者最初希望得到什么？\n",
      "\u001b[0m\u001b[1;3;38;5;200mRetrieved node with id, entering: f9ea8138-a889-456c-8ea6-7d8bf7563771\n",
      "\u001b[0m\u001b[1;3;34mRetrieving with query id f9ea8138-a889-456c-8ea6-7d8bf7563771: 来访者最初希望得到什么？\n",
      "\u001b[0m\u001b[1;3;38;5;200mRetrieved node with id, entering: 24339fb6-86da-40ea-92fd-c63a1ccf3646\n",
      "\u001b[0m\u001b[1;3;34mRetrieving with query id 24339fb6-86da-40ea-92fd-c63a1ccf3646: 来访者最初希望得到什么？\n",
      "\u001b[0m\u001b[1;3;34mRetrieving with query id None: 1. 心理咨询中来访者的初始期望是什么？\n",
      "\u001b[0m\u001b[1;3;38;5;200mRetrieved node with id, entering: f9ea8138-a889-456c-8ea6-7d8bf7563771\n",
      "\u001b[0m\u001b[1;3;34mRetrieving with query id f9ea8138-a889-456c-8ea6-7d8bf7563771: 1. 心理咨询中来访者的初始期望是什么？\n",
      "\u001b[0m\u001b[1;3;38;5;200mRetrieved node with id, entering: b2fcdf2c-4d62-4b70-b00e-235e6d957405\n",
      "\u001b[0m\u001b[1;3;34mRetrieving with query id b2fcdf2c-4d62-4b70-b00e-235e6d957405: 1. 心理咨询中来访者的初始期望是什么？\n",
      "\u001b[0m\u001b[1;3;34mRetrieving with query id None: 妻子对丈夫抱怨什么？\n",
      "\u001b[0m\u001b[1;3;38;5;200mRetrieved node with id, entering: 94807d05-0b0c-4165-8b54-175bc2ea93fa\n",
      "\u001b[0m\u001b[1;3;34mRetrieving with query id 94807d05-0b0c-4165-8b54-175bc2ea93fa: 妻子对丈夫抱怨什么？\n",
      "\u001b[0m\u001b[1;3;38;5;200mRetrieved node with id, entering: a2f5016c-6ee4-4cbb-add4-7292ea02877d\n",
      "\u001b[0m\u001b[1;3;34mRetrieving with query id a2f5016c-6ee4-4cbb-add4-7292ea02877d: 妻子对丈夫抱怨什么？\n",
      "\u001b[0m\u001b[1;3;38;5;200mRetrieved node with id, entering: f579121b-f157-4233-b2f2-8201c024d73c\n",
      "\u001b[0m\u001b[1;3;34mRetrieving with query id f579121b-f157-4233-b2f2-8201c024d73c: 妻子对丈夫抱怨什么？\n",
      "\u001b[0m\u001b[1;3;38;5;200mRetrieved node with id, entering: 1d9b4cb4-fce3-40c1-8e5b-bd457d1ecc60\n",
      "\u001b[0m\u001b[1;3;34mRetrieving with query id 1d9b4cb4-fce3-40c1-8e5b-bd457d1ecc60: 妻子对丈夫抱怨什么？\n",
      "\u001b[0m\u001b[1;3;34mRetrieving with query id None: 1. 妻子通常对丈夫有哪些常见的抱怨？\n",
      "\u001b[0m\u001b[1;3;38;5;200mRetrieved node with id, entering: a2f5016c-6ee4-4cbb-add4-7292ea02877d\n",
      "\u001b[0m\u001b[1;3;34mRetrieving with query id a2f5016c-6ee4-4cbb-add4-7292ea02877d: 1. 妻子通常对丈夫有哪些常见的抱怨？\n",
      "\u001b[0m\u001b[1;3;38;5;200mRetrieved node with id, entering: 94807d05-0b0c-4165-8b54-175bc2ea93fa\n",
      "\u001b[0m\u001b[1;3;34mRetrieving with query id 94807d05-0b0c-4165-8b54-175bc2ea93fa: 1. 妻子通常对丈夫有哪些常见的抱怨？\n",
      "\u001b[0m\u001b[1;3;38;5;200mRetrieved node with id, entering: f579121b-f157-4233-b2f2-8201c024d73c\n",
      "\u001b[0m\u001b[1;3;34mRetrieving with query id f579121b-f157-4233-b2f2-8201c024d73c: 1. 妻子通常对丈夫有哪些常见的抱怨？\n",
      "\u001b[0m\u001b[1;3;38;5;200mRetrieved node with id, entering: 81ccd529-e81a-4441-a564-3632e82e1b58\n",
      "\u001b[0m\u001b[1;3;34mRetrieving with query id 81ccd529-e81a-4441-a564-3632e82e1b58: 1. 妻子通常对丈夫有哪些常见的抱怨？\n",
      "\u001b[0m\u001b[1;3;38;5;200mRetrieved node with id, entering: a25b2570-1935-4cc1-a7f5-50cf2a92d73a\n",
      "\u001b[0m\u001b[1;3;34mRetrieving with query id a25b2570-1935-4cc1-a7f5-50cf2a92d73a: 1. 妻子通常对丈夫有哪些常见的抱怨？\n",
      "\u001b[0m"
     ]
    },
    {
     "name": "stderr",
     "output_type": "stream",
     "text": [
      "\u001b[32m2025-04-09 15:53:12.901\u001b[0m | \u001b[33m\u001b[1mWARNING \u001b[0m | \u001b[36mreadai.components.retrievers\u001b[0m:\u001b[36m_retrieve\u001b[0m:\u001b[36m553\u001b[0m - \u001b[33m\u001b[1mBM25Retriever does not support embeddings, skipping...\u001b[0m\n"
     ]
    },
    {
     "name": "stdout",
     "output_type": "stream",
     "text": [
      "Generated queries:\n",
      "1. 家长支持体罚的原因有哪些？\n",
      "2. 反对体罚的家长主要观点是什么？\n",
      "3. 体罚对孩子心理发展的影响研究\n",
      "4. 中国法律对家长体罚孩子的规定\n",
      "5. 替代体罚的教育方式有哪些？\n"
     ]
    },
    {
     "name": "stderr",
     "output_type": "stream",
     "text": [
      "\u001b[32m2025-04-09 15:53:24.099\u001b[0m | \u001b[33m\u001b[1mWARNING \u001b[0m | \u001b[36mreadai.components.retrievers\u001b[0m:\u001b[36m_retrieve\u001b[0m:\u001b[36m553\u001b[0m - \u001b[33m\u001b[1mBM25Retriever does not support embeddings, skipping...\u001b[0m\n",
      "\u001b[32m2025-04-09 15:53:24.145\u001b[0m | \u001b[33m\u001b[1mWARNING \u001b[0m | \u001b[36mreadai.components.retrievers\u001b[0m:\u001b[36m_retrieve\u001b[0m:\u001b[36m553\u001b[0m - \u001b[33m\u001b[1mBM25Retriever does not support embeddings, skipping...\u001b[0m\n",
      "\u001b[32m2025-04-09 15:53:24.184\u001b[0m | \u001b[33m\u001b[1mWARNING \u001b[0m | \u001b[36mreadai.components.retrievers\u001b[0m:\u001b[36m_retrieve\u001b[0m:\u001b[36m553\u001b[0m - \u001b[33m\u001b[1mBM25Retriever does not support embeddings, skipping...\u001b[0m\n",
      "\u001b[32m2025-04-09 15:53:24.222\u001b[0m | \u001b[33m\u001b[1mWARNING \u001b[0m | \u001b[36mreadai.components.retrievers\u001b[0m:\u001b[36m_retrieve\u001b[0m:\u001b[36m553\u001b[0m - \u001b[33m\u001b[1mBM25Retriever does not support embeddings, skipping...\u001b[0m\n"
     ]
    },
    {
     "name": "stdout",
     "output_type": "stream",
     "text": [
      "Generated queries:\n",
      "1. 惩罚对个人心理和行为的影响有哪些？\n",
      "\u001b[1;3;34mRetrieving with query id None: 家长对体罚的看法是？\n",
      "\u001b[0m\u001b[1;3;38;5;200mRetrieved node with id, entering: cd280302-64f2-4bee-9aa9-67f2000f57e2\n",
      "\u001b[0m\u001b[1;3;34mRetrieving with query id cd280302-64f2-4bee-9aa9-67f2000f57e2: 家长对体罚的看法是？\n",
      "\u001b[0m\u001b[1;3;38;5;200mRetrieved node with id, entering: 08bcd92c-667c-4064-956f-a1640f9a9cc7\n",
      "\u001b[0m\u001b[1;3;34mRetrieving with query id 08bcd92c-667c-4064-956f-a1640f9a9cc7: 家长对体罚的看法是？\n",
      "\u001b[0m\u001b[1;3;34mRetrieving with query id None: 1. 家长支持体罚的原因有哪些？\n",
      "\u001b[0m\u001b[1;3;38;5;200mRetrieved node with id, entering: cd280302-64f2-4bee-9aa9-67f2000f57e2\n",
      "\u001b[0m\u001b[1;3;34mRetrieving with query id cd280302-64f2-4bee-9aa9-67f2000f57e2: 1. 家长支持体罚的原因有哪些？\n",
      "\u001b[0m\u001b[1;3;38;5;200mRetrieved node with id, entering: 08bcd92c-667c-4064-956f-a1640f9a9cc7\n",
      "\u001b[0m\u001b[1;3;34mRetrieving with query id 08bcd92c-667c-4064-956f-a1640f9a9cc7: 1. 家长支持体罚的原因有哪些？\n",
      "\u001b[0m\u001b[1;3;34mRetrieving with query id None: 惩罚可能带来哪些影响？\n",
      "\u001b[0m\u001b[1;3;38;5;200mRetrieved node with id, entering: 70ad4621-8519-4bff-8d48-6889b1ea2cf2\n",
      "\u001b[0m\u001b[1;3;34mRetrieving with query id 70ad4621-8519-4bff-8d48-6889b1ea2cf2: 惩罚可能带来哪些影响？\n",
      "\u001b[0m\u001b[1;3;38;5;200mRetrieved node with id, entering: 2b33131b-b6b7-4b81-8165-e7b904e24dea\n",
      "\u001b[0m\u001b[1;3;34mRetrieving with query id 2b33131b-b6b7-4b81-8165-e7b904e24dea: 惩罚可能带来哪些影响？\n",
      "\u001b[0m\u001b[1;3;38;5;200mRetrieved node with id, entering: 08bcd92c-667c-4064-956f-a1640f9a9cc7\n",
      "\u001b[0m\u001b[1;3;34mRetrieving with query id 08bcd92c-667c-4064-956f-a1640f9a9cc7: 惩罚可能带来哪些影响？\n",
      "\u001b[0m\u001b[1;3;34mRetrieving with query id None: 1. 惩罚对个人心理和行为的影响有哪些？\n",
      "\u001b[0m\u001b[1;3;38;5;200mRetrieved node with id, entering: 2b33131b-b6b7-4b81-8165-e7b904e24dea\n",
      "\u001b[0m\u001b[1;3;34mRetrieving with query id 2b33131b-b6b7-4b81-8165-e7b904e24dea: 1. 惩罚对个人心理和行为的影响有哪些？\n",
      "\u001b[0m\u001b[1;3;38;5;200mRetrieved node with id, entering: 70ad4621-8519-4bff-8d48-6889b1ea2cf2\n",
      "\u001b[0m\u001b[1;3;34mRetrieving with query id 70ad4621-8519-4bff-8d48-6889b1ea2cf2: 1. 惩罚对个人心理和行为的影响有哪些？\n",
      "\u001b[0m\u001b[1;3;38;5;200mRetrieved node with id, entering: 08bcd92c-667c-4064-956f-a1640f9a9cc7\n",
      "\u001b[0m\u001b[1;3;34mRetrieving with query id 08bcd92c-667c-4064-956f-a1640f9a9cc7: 1. 惩罚对个人心理和行为的影响有哪些？\n",
      "\u001b[0mGenerated queries:\n",
      "1. 感恩对心理健康有哪些积极影响？\n"
     ]
    },
    {
     "name": "stderr",
     "output_type": "stream",
     "text": [
      "\u001b[32m2025-04-09 15:53:33.159\u001b[0m | \u001b[33m\u001b[1mWARNING \u001b[0m | \u001b[36mreadai.components.retrievers\u001b[0m:\u001b[36m_retrieve\u001b[0m:\u001b[36m553\u001b[0m - \u001b[33m\u001b[1mBM25Retriever does not support embeddings, skipping...\u001b[0m\n",
      "\u001b[32m2025-04-09 15:53:33.204\u001b[0m | \u001b[33m\u001b[1mWARNING \u001b[0m | \u001b[36mreadai.components.retrievers\u001b[0m:\u001b[36m_retrieve\u001b[0m:\u001b[36m553\u001b[0m - \u001b[33m\u001b[1mBM25Retriever does not support embeddings, skipping...\u001b[0m\n",
      "\u001b[32m2025-04-09 15:53:33.244\u001b[0m | \u001b[33m\u001b[1mWARNING \u001b[0m | \u001b[36mreadai.components.retrievers\u001b[0m:\u001b[36m_retrieve\u001b[0m:\u001b[36m553\u001b[0m - \u001b[33m\u001b[1mBM25Retriever does not support embeddings, skipping...\u001b[0m\n",
      "\u001b[32m2025-04-09 15:53:33.284\u001b[0m | \u001b[33m\u001b[1mWARNING \u001b[0m | \u001b[36mreadai.components.retrievers\u001b[0m:\u001b[36m_retrieve\u001b[0m:\u001b[36m553\u001b[0m - \u001b[33m\u001b[1mBM25Retriever does not support embeddings, skipping...\u001b[0m\n"
     ]
    },
    {
     "name": "stdout",
     "output_type": "stream",
     "text": [
      "Generated queries:\n",
      "1. 非暴力沟通表达感激的三个要素是什么？\n",
      "\u001b[1;3;34mRetrieving with query id None: 感恩的好处是什么？\n",
      "\u001b[0m\u001b[1;3;38;5;200mRetrieved node with id, entering: fbf6132e-9e76-4f6b-806a-35fca1858bd1\n",
      "\u001b[0m\u001b[1;3;34mRetrieving with query id fbf6132e-9e76-4f6b-806a-35fca1858bd1: 感恩的好处是什么？\n",
      "\u001b[0m\u001b[1;3;38;5;200mRetrieved node with id, entering: e146509e-0a9c-4f4d-b048-02f33b40206e\n",
      "\u001b[0m\u001b[1;3;34mRetrieving with query id e146509e-0a9c-4f4d-b048-02f33b40206e: 感恩的好处是什么？\n",
      "\u001b[0m\u001b[1;3;34mRetrieving with query id None: 1. 感恩对心理健康有哪些积极影响？\n",
      "\u001b[0m\u001b[1;3;38;5;200mRetrieved node with id, entering: fbf6132e-9e76-4f6b-806a-35fca1858bd1\n",
      "\u001b[0m\u001b[1;3;34mRetrieving with query id fbf6132e-9e76-4f6b-806a-35fca1858bd1: 1. 感恩对心理健康有哪些积极影响？\n",
      "\u001b[0m\u001b[1;3;38;5;200mRetrieved node with id, entering: e146509e-0a9c-4f4d-b048-02f33b40206e\n",
      "\u001b[0m\u001b[1;3;34mRetrieving with query id e146509e-0a9c-4f4d-b048-02f33b40206e: 1. 感恩对心理健康有哪些积极影响？\n",
      "\u001b[0m\u001b[1;3;34mRetrieving with query id None: 非暴力沟通表达感激包含哪三个要素？\n",
      "\u001b[0m\u001b[1;3;38;5;200mRetrieved node with id, entering: fbf6132e-9e76-4f6b-806a-35fca1858bd1\n",
      "\u001b[0m\u001b[1;3;34mRetrieving with query id fbf6132e-9e76-4f6b-806a-35fca1858bd1: 非暴力沟通表达感激包含哪三个要素？\n",
      "\u001b[0m\u001b[1;3;38;5;200mRetrieved node with id, entering: 4b4c71fe-c4a1-4ebd-9027-90420a52f3c7\n",
      "\u001b[0m\u001b[1;3;34mRetrieving with query id 4b4c71fe-c4a1-4ebd-9027-90420a52f3c7: 非暴力沟通表达感激包含哪三个要素？\n",
      "\u001b[0m\u001b[1;3;38;5;200mRetrieved node with id, entering: 5e8705e5-6eee-42e9-8551-dae3d2843602\n",
      "\u001b[0m\u001b[1;3;34mRetrieving with query id 5e8705e5-6eee-42e9-8551-dae3d2843602: 非暴力沟通表达感激包含哪三个要素？\n",
      "\u001b[0m\u001b[1;3;38;5;200mRetrieved node with id, entering: 268fc4c6-0d99-4363-b503-75330fc2d7e0\n",
      "\u001b[0m\u001b[1;3;34mRetrieving with query id 268fc4c6-0d99-4363-b503-75330fc2d7e0: 非暴力沟通表达感激包含哪三个要素？\n",
      "\u001b[0m\u001b[1;3;34mRetrieving with query id None: 1. 非暴力沟通表达感激的三个要素是什么？\n",
      "\u001b[0m\u001b[1;3;38;5;200mRetrieved node with id, entering: fbf6132e-9e76-4f6b-806a-35fca1858bd1\n",
      "\u001b[0m\u001b[1;3;34mRetrieving with query id fbf6132e-9e76-4f6b-806a-35fca1858bd1: 1. 非暴力沟通表达感激的三个要素是什么？\n",
      "\u001b[0m\u001b[1;3;38;5;200mRetrieved node with id, entering: 4b4c71fe-c4a1-4ebd-9027-90420a52f3c7\n",
      "\u001b[0m\u001b[1;3;34mRetrieving with query id 4b4c71fe-c4a1-4ebd-9027-90420a52f3c7: 1. 非暴力沟通表达感激的三个要素是什么？\n",
      "\u001b[0m\u001b[1;3;38;5;200mRetrieved node with id, entering: 268fc4c6-0d99-4363-b503-75330fc2d7e0\n",
      "\u001b[0m\u001b[1;3;34mRetrieving with query id 268fc4c6-0d99-4363-b503-75330fc2d7e0: 1. 非暴力沟通表达感激的三个要素是什么？\n",
      "\u001b[0m\u001b[1;3;38;5;200mRetrieved node with id, entering: 5e8705e5-6eee-42e9-8551-dae3d2843602\n",
      "\u001b[0m\u001b[1;3;34mRetrieving with query id 5e8705e5-6eee-42e9-8551-dae3d2843602: 1. 非暴力沟通表达感激的三个要素是什么？\n",
      "\u001b[0mGenerated queries:\n",
      "1. 玛拉最初的性格特点分析\n"
     ]
    },
    {
     "name": "stderr",
     "output_type": "stream",
     "text": [
      "\u001b[32m2025-04-09 15:53:40.948\u001b[0m | \u001b[33m\u001b[1mWARNING \u001b[0m | \u001b[36mreadai.components.retrievers\u001b[0m:\u001b[36m_retrieve\u001b[0m:\u001b[36m553\u001b[0m - \u001b[33m\u001b[1mBM25Retriever does not support embeddings, skipping...\u001b[0m\n",
      "\u001b[32m2025-04-09 15:53:40.995\u001b[0m | \u001b[33m\u001b[1mWARNING \u001b[0m | \u001b[36mreadai.components.retrievers\u001b[0m:\u001b[36m_retrieve\u001b[0m:\u001b[36m553\u001b[0m - \u001b[33m\u001b[1mBM25Retriever does not support embeddings, skipping...\u001b[0m\n",
      "\u001b[32m2025-04-09 15:53:41.036\u001b[0m | \u001b[33m\u001b[1mWARNING \u001b[0m | \u001b[36mreadai.components.retrievers\u001b[0m:\u001b[36m_retrieve\u001b[0m:\u001b[36m553\u001b[0m - \u001b[33m\u001b[1mBM25Retriever does not support embeddings, skipping...\u001b[0m\n",
      "\u001b[32m2025-04-09 15:53:41.074\u001b[0m | \u001b[33m\u001b[1mWARNING \u001b[0m | \u001b[36mreadai.components.retrievers\u001b[0m:\u001b[36m_retrieve\u001b[0m:\u001b[36m553\u001b[0m - \u001b[33m\u001b[1mBM25Retriever does not support embeddings, skipping...\u001b[0m\n"
     ]
    },
    {
     "name": "stdout",
     "output_type": "stream",
     "text": [
      "Generated queries:\n",
      "1. 校长打电话给家长的原因有哪些？\n",
      "\u001b[1;3;34mRetrieving with query id None: 玛拉最初是什么性格？\n",
      "\u001b[0m\u001b[1;3;38;5;200mRetrieved node with id, entering: 5e8705e5-6eee-42e9-8551-dae3d2843602\n",
      "\u001b[0m\u001b[1;3;34mRetrieving with query id 5e8705e5-6eee-42e9-8551-dae3d2843602: 玛拉最初是什么性格？\n",
      "\u001b[0m\u001b[1;3;34mRetrieving with query id None: 1. 玛拉最初的性格特点分析\n",
      "\u001b[0m\u001b[1;3;38;5;200mRetrieved node with id, entering: 5e8705e5-6eee-42e9-8551-dae3d2843602\n",
      "\u001b[0m\u001b[1;3;34mRetrieving with query id 5e8705e5-6eee-42e9-8551-dae3d2843602: 1. 玛拉最初的性格特点分析\n",
      "\u001b[0m\u001b[1;3;34mRetrieving with query id None: 校长为什么打电话给爸爸？\n",
      "\u001b[0m\u001b[1;3;38;5;200mRetrieved node with id, entering: a33fa6df-5414-41da-b1ca-779de63a7df9\n",
      "\u001b[0m\u001b[1;3;34mRetrieving with query id a33fa6df-5414-41da-b1ca-779de63a7df9: 校长为什么打电话给爸爸？\n",
      "\u001b[0m\u001b[1;3;38;5;200mRetrieved node with id, entering: af90f2ee-62d7-4fbc-b60d-28cd2a88327d\n",
      "\u001b[0m\u001b[1;3;34mRetrieving with query id af90f2ee-62d7-4fbc-b60d-28cd2a88327d: 校长为什么打电话给爸爸？\n",
      "\u001b[0m\u001b[1;3;38;5;200mRetrieved node with id, entering: cca2b18a-40e1-4dc0-b72b-32046cd04c65\n",
      "\u001b[0m\u001b[1;3;34mRetrieving with query id cca2b18a-40e1-4dc0-b72b-32046cd04c65: 校长为什么打电话给爸爸？\n",
      "\u001b[0m\u001b[1;3;38;5;200mRetrieved node with id, entering: 3318465e-bb4f-44fd-90a2-c5f5239ed118\n",
      "\u001b[0m\u001b[1;3;34mRetrieving with query id 3318465e-bb4f-44fd-90a2-c5f5239ed118: 校长为什么打电话给爸爸？\n",
      "\u001b[0m\u001b[1;3;38;5;200mRetrieved node with id, entering: 794e0320-1392-4339-a80c-009435c45f6d\n",
      "\u001b[0m\u001b[1;3;34mRetrieving with query id 794e0320-1392-4339-a80c-009435c45f6d: 校长为什么打电话给爸爸？\n",
      "\u001b[0m\u001b[1;3;34mRetrieving with query id None: 1. 校长打电话给家长的原因有哪些？\n",
      "\u001b[0m\u001b[1;3;38;5;200mRetrieved node with id, entering: a33fa6df-5414-41da-b1ca-779de63a7df9\n",
      "\u001b[0m\u001b[1;3;34mRetrieving with query id a33fa6df-5414-41da-b1ca-779de63a7df9: 1. 校长打电话给家长的原因有哪些？\n",
      "\u001b[0m\u001b[1;3;38;5;200mRetrieved node with id, entering: af90f2ee-62d7-4fbc-b60d-28cd2a88327d\n",
      "\u001b[0m\u001b[1;3;34mRetrieving with query id af90f2ee-62d7-4fbc-b60d-28cd2a88327d: 1. 校长打电话给家长的原因有哪些？\n",
      "\u001b[0m\u001b[1;3;38;5;200mRetrieved node with id, entering: 9465ac7b-bdd4-47bc-817c-18e292b85b0d\n",
      "\u001b[0m\u001b[1;3;34mRetrieving with query id 9465ac7b-bdd4-47bc-817c-18e292b85b0d: 1. 校长打电话给家长的原因有哪些？\n",
      "\u001b[0m\u001b[1;3;38;5;200mRetrieved node with id, entering: 3318465e-bb4f-44fd-90a2-c5f5239ed118\n",
      "\u001b[0m\u001b[1;3;34mRetrieving with query id 3318465e-bb4f-44fd-90a2-c5f5239ed118: 1. 校长打电话给家长的原因有哪些？\n",
      "\u001b[0mGenerated queries:\n",
      "1. \"非暴力呐喊\" 的具体含义和起源是什么？\n"
     ]
    },
    {
     "name": "stderr",
     "output_type": "stream",
     "text": [
      "\u001b[32m2025-04-09 15:53:49.102\u001b[0m | \u001b[33m\u001b[1mWARNING \u001b[0m | \u001b[36mreadai.components.retrievers\u001b[0m:\u001b[36m_retrieve\u001b[0m:\u001b[36m553\u001b[0m - \u001b[33m\u001b[1mBM25Retriever does not support embeddings, skipping...\u001b[0m\n",
      "\u001b[32m2025-04-09 15:53:49.149\u001b[0m | \u001b[33m\u001b[1mWARNING \u001b[0m | \u001b[36mreadai.components.retrievers\u001b[0m:\u001b[36m_retrieve\u001b[0m:\u001b[36m553\u001b[0m - \u001b[33m\u001b[1mBM25Retriever does not support embeddings, skipping...\u001b[0m\n",
      "\u001b[32m2025-04-09 15:53:49.191\u001b[0m | \u001b[33m\u001b[1mWARNING \u001b[0m | \u001b[36mreadai.components.retrievers\u001b[0m:\u001b[36m_retrieve\u001b[0m:\u001b[36m553\u001b[0m - \u001b[33m\u001b[1mBM25Retriever does not support embeddings, skipping...\u001b[0m\n",
      "\u001b[32m2025-04-09 15:53:49.230\u001b[0m | \u001b[33m\u001b[1mWARNING \u001b[0m | \u001b[36mreadai.components.retrievers\u001b[0m:\u001b[36m_retrieve\u001b[0m:\u001b[36m553\u001b[0m - \u001b[33m\u001b[1mBM25Retriever does not support embeddings, skipping...\u001b[0m\n"
     ]
    },
    {
     "name": "stdout",
     "output_type": "stream",
     "text": [
      "Generated queries:\n",
      "1. 同理心的心理学定义是什么？\n",
      "\u001b[1;3;34mRetrieving with query id None: \"非暴力呐喊\"是什么？\n",
      "\u001b[0m\u001b[1;3;38;5;200mRetrieved node with id, entering: 7c9e6c07-4920-4602-8d30-2b77861b4991\n",
      "\u001b[0m\u001b[1;3;34mRetrieving with query id 7c9e6c07-4920-4602-8d30-2b77861b4991: \"非暴力呐喊\"是什么？\n",
      "\u001b[0m\u001b[1;3;38;5;200mRetrieved node with id, entering: 5f44342d-77d1-4243-a602-6b0ecbfe5edf\n",
      "\u001b[0m\u001b[1;3;34mRetrieving with query id 5f44342d-77d1-4243-a602-6b0ecbfe5edf: \"非暴力呐喊\"是什么？\n",
      "\u001b[0m\u001b[1;3;38;5;200mRetrieved node with id, entering: ecf04b61-fd74-4e7d-a44a-5ac13a8d5003\n",
      "\u001b[0m\u001b[1;3;34mRetrieving with query id ecf04b61-fd74-4e7d-a44a-5ac13a8d5003: \"非暴力呐喊\"是什么？\n",
      "\u001b[0m\u001b[1;3;34mRetrieving with query id None: 1. \"非暴力呐喊\" 的具体含义和起源是什么？\n",
      "\u001b[0m\u001b[1;3;38;5;200mRetrieved node with id, entering: 7c9e6c07-4920-4602-8d30-2b77861b4991\n",
      "\u001b[0m\u001b[1;3;34mRetrieving with query id 7c9e6c07-4920-4602-8d30-2b77861b4991: 1. \"非暴力呐喊\" 的具体含义和起源是什么？\n",
      "\u001b[0m\u001b[1;3;38;5;200mRetrieved node with id, entering: 5f44342d-77d1-4243-a602-6b0ecbfe5edf\n",
      "\u001b[0m\u001b[1;3;34mRetrieving with query id 5f44342d-77d1-4243-a602-6b0ecbfe5edf: 1. \"非暴力呐喊\" 的具体含义和起源是什么？\n",
      "\u001b[0m\u001b[1;3;38;5;200mRetrieved node with id, entering: 9e1944ff-7cc3-4ab2-b858-9227905425c2\n",
      "\u001b[0m\u001b[1;3;34mRetrieving with query id 9e1944ff-7cc3-4ab2-b858-9227905425c2: 1. \"非暴力呐喊\" 的具体含义和起源是什么？\n",
      "\u001b[0m\u001b[1;3;38;5;200mRetrieved node with id, entering: ecf04b61-fd74-4e7d-a44a-5ac13a8d5003\n",
      "\u001b[0m\u001b[1;3;34mRetrieving with query id ecf04b61-fd74-4e7d-a44a-5ac13a8d5003: 1. \"非暴力呐喊\" 的具体含义和起源是什么？\n",
      "\u001b[0m\u001b[1;3;34mRetrieving with query id None: 同理心的定义是什么？\n",
      "\u001b[0m\u001b[1;3;38;5;200mRetrieved node with id, entering: 8ecf6729-0ff8-4b3f-9bc1-042d515a8769\n",
      "\u001b[0m\u001b[1;3;34mRetrieving with query id 8ecf6729-0ff8-4b3f-9bc1-042d515a8769: 同理心的定义是什么？\n",
      "\u001b[0m\u001b[1;3;38;5;200mRetrieved node with id, entering: 7498a855-1479-4cf8-8b36-36b453706b24\n",
      "\u001b[0m\u001b[1;3;34mRetrieving with query id 7498a855-1479-4cf8-8b36-36b453706b24: 同理心的定义是什么？\n",
      "\u001b[0m\u001b[1;3;38;5;200mRetrieved node with id, entering: 7c9e6c07-4920-4602-8d30-2b77861b4991\n",
      "\u001b[0m\u001b[1;3;34mRetrieving with query id 7c9e6c07-4920-4602-8d30-2b77861b4991: 同理心的定义是什么？\n",
      "\u001b[0m\u001b[1;3;34mRetrieving with query id None: 1. 同理心的心理学定义是什么？\n",
      "\u001b[0m\u001b[1;3;38;5;200mRetrieved node with id, entering: 8ecf6729-0ff8-4b3f-9bc1-042d515a8769\n",
      "\u001b[0m\u001b[1;3;34mRetrieving with query id 8ecf6729-0ff8-4b3f-9bc1-042d515a8769: 1. 同理心的心理学定义是什么？\n",
      "\u001b[0m\u001b[1;3;38;5;200mRetrieved node with id, entering: 7498a855-1479-4cf8-8b36-36b453706b24\n",
      "\u001b[0m\u001b[1;3;34mRetrieving with query id 7498a855-1479-4cf8-8b36-36b453706b24: 1. 同理心的心理学定义是什么？\n",
      "\u001b[0mGenerated queries:\n",
      "1. 在对话中，有多少人会注视说话者？\n"
     ]
    },
    {
     "name": "stderr",
     "output_type": "stream",
     "text": [
      "\u001b[32m2025-04-09 15:53:57.490\u001b[0m | \u001b[33m\u001b[1mWARNING \u001b[0m | \u001b[36mreadai.components.retrievers\u001b[0m:\u001b[36m_retrieve\u001b[0m:\u001b[36m553\u001b[0m - \u001b[33m\u001b[1mBM25Retriever does not support embeddings, skipping...\u001b[0m\n",
      "\u001b[32m2025-04-09 15:53:57.545\u001b[0m | \u001b[33m\u001b[1mWARNING \u001b[0m | \u001b[36mreadai.components.retrievers\u001b[0m:\u001b[36m_retrieve\u001b[0m:\u001b[36m553\u001b[0m - \u001b[33m\u001b[1mBM25Retriever does not support embeddings, skipping...\u001b[0m\n",
      "\u001b[32m2025-04-09 15:53:57.588\u001b[0m | \u001b[33m\u001b[1mWARNING \u001b[0m | \u001b[36mreadai.components.retrievers\u001b[0m:\u001b[36m_retrieve\u001b[0m:\u001b[36m553\u001b[0m - \u001b[33m\u001b[1mBM25Retriever does not support embeddings, skipping...\u001b[0m\n"
     ]
    },
    {
     "name": "stdout",
     "output_type": "stream",
     "text": [
      "Generated queries:\n",
      "1. 董事长转开脸的原因是什么？\n",
      "\u001b[1;3;34mRetrieving with query id None: 谈话中多少人看向了说话者？\n",
      "\u001b[0m\u001b[1;3;38;5;200mRetrieved node with id, entering: ccafb2d8-78ab-4f16-8f0e-5f368871b850\n",
      "\u001b[0m\u001b[1;3;34mRetrieving with query id ccafb2d8-78ab-4f16-8f0e-5f368871b850: 谈话中多少人看向了说话者？\n",
      "\u001b[0m\u001b[1;3;38;5;200mRetrieved node with id, entering: 915cb2be-ebb3-4aaf-93d3-c6e5c062b80e\n",
      "\u001b[0m\u001b[1;3;34mRetrieving with query id 915cb2be-ebb3-4aaf-93d3-c6e5c062b80e: 谈话中多少人看向了说话者？\n",
      "\u001b[0m\u001b[1;3;38;5;200mRetrieved node with id, entering: af90f2ee-62d7-4fbc-b60d-28cd2a88327d\n",
      "\u001b[0m\u001b[1;3;34mRetrieving with query id af90f2ee-62d7-4fbc-b60d-28cd2a88327d: 谈话中多少人看向了说话者？\n",
      "\u001b[0m\u001b[1;3;38;5;200mRetrieved node with id, entering: c327e5b0-320f-4e6c-a67d-609d6b16da68\n",
      "\u001b[0m\u001b[1;3;34mRetrieving with query id c327e5b0-320f-4e6c-a67d-609d6b16da68: 谈话中多少人看向了说话者？\n",
      "\u001b[0m\u001b[1;3;34mRetrieving with query id None: 1. 在对话中，有多少人会注视说话者？\n",
      "\u001b[0m\u001b[1;3;38;5;200mRetrieved node with id, entering: 915cb2be-ebb3-4aaf-93d3-c6e5c062b80e\n",
      "\u001b[0m\u001b[1;3;34mRetrieving with query id 915cb2be-ebb3-4aaf-93d3-c6e5c062b80e: 1. 在对话中，有多少人会注视说话者？\n",
      "\u001b[0m\u001b[1;3;38;5;200mRetrieved node with id, entering: 678f652b-5d93-443f-ac4a-08a0ef80292e\n",
      "\u001b[0m\u001b[1;3;34mRetrieving with query id 678f652b-5d93-443f-ac4a-08a0ef80292e: 1. 在对话中，有多少人会注视说话者？\n",
      "\u001b[0m\u001b[1;3;38;5;200mRetrieved node with id, entering: c327e5b0-320f-4e6c-a67d-609d6b16da68\n",
      "\u001b[0m\u001b[1;3;34mRetrieving with query id c327e5b0-320f-4e6c-a67d-609d6b16da68: 1. 在对话中，有多少人会注视说话者？\n",
      "\u001b[0m\u001b[1;3;38;5;200mRetrieved node with id, entering: ccafb2d8-78ab-4f16-8f0e-5f368871b850\n",
      "\u001b[0m\u001b[1;3;34mRetrieving with query id ccafb2d8-78ab-4f16-8f0e-5f368871b850: 1. 在对话中，有多少人会注视说话者？\n",
      "\u001b[0m\u001b[1;3;38;5;200mRetrieved node with id, entering: 59d54651-c161-45c6-800f-97966e6dacba\n",
      "\u001b[0m\u001b[1;3;34mRetrieving with query id 59d54651-c161-45c6-800f-97966e6dacba: 1. 在对话中，有多少人会注视说话者？\n",
      "\u001b[0m\u001b[1;3;34mRetrieving with query id None: 董事长为何转开了脸？\n",
      "\u001b[0m\u001b[1;3;38;5;200mRetrieved node with id, entering: ccafb2d8-78ab-4f16-8f0e-5f368871b850\n",
      "\u001b[0m\u001b[1;3;34mRetrieving with query id ccafb2d8-78ab-4f16-8f0e-5f368871b850: 董事长为何转开了脸？\n",
      "\u001b[0m\u001b[1;3;38;5;200mRetrieved node with id, entering: af90f2ee-62d7-4fbc-b60d-28cd2a88327d\n",
      "\u001b[0m\u001b[1;3;34mRetrieving with query id af90f2ee-62d7-4fbc-b60d-28cd2a88327d: 董事长为何转开了脸？\n",
      "\u001b[0m\u001b[1;3;38;5;200mRetrieved node with id, entering: 9465ac7b-bdd4-47bc-817c-18e292b85b0d\n",
      "\u001b[0m\u001b[1;3;34mRetrieving with query id 9465ac7b-bdd4-47bc-817c-18e292b85b0d: 董事长为何转开了脸？\n",
      "\u001b[0m\u001b[1;3;38;5;200mRetrieved node with id, entering: 3318465e-bb4f-44fd-90a2-c5f5239ed118\n",
      "\u001b[0m\u001b[1;3;34mRetrieving with query id 3318465e-bb4f-44fd-90a2-c5f5239ed118: 董事长为何转开了脸？\n",
      "\u001b[0m\u001b[1;3;34mRetrieving with query id None: 1. 董事长转开脸的原因是什么？\n",
      "\u001b[0m"
     ]
    },
    {
     "name": "stderr",
     "output_type": "stream",
     "text": [
      "\u001b[32m2025-04-09 15:53:57.626\u001b[0m | \u001b[33m\u001b[1mWARNING \u001b[0m | \u001b[36mreadai.components.retrievers\u001b[0m:\u001b[36m_retrieve\u001b[0m:\u001b[36m553\u001b[0m - \u001b[33m\u001b[1mBM25Retriever does not support embeddings, skipping...\u001b[0m\n"
     ]
    },
    {
     "name": "stdout",
     "output_type": "stream",
     "text": [
      "\u001b[1;3;38;5;200mRetrieved node with id, entering: ccafb2d8-78ab-4f16-8f0e-5f368871b850\n",
      "\u001b[0m\u001b[1;3;34mRetrieving with query id ccafb2d8-78ab-4f16-8f0e-5f368871b850: 1. 董事长转开脸的原因是什么？\n",
      "\u001b[0m\u001b[1;3;38;5;200mRetrieved node with id, entering: 9465ac7b-bdd4-47bc-817c-18e292b85b0d\n",
      "\u001b[0m\u001b[1;3;34mRetrieving with query id 9465ac7b-bdd4-47bc-817c-18e292b85b0d: 1. 董事长转开脸的原因是什么？\n",
      "\u001b[0m\u001b[1;3;38;5;200mRetrieved node with id, entering: 3318465e-bb4f-44fd-90a2-c5f5239ed118\n",
      "\u001b[0m\u001b[1;3;34mRetrieving with query id 3318465e-bb4f-44fd-90a2-c5f5239ed118: 1. 董事长转开脸的原因是什么？\n",
      "\u001b[0m\u001b[1;3;38;5;200mRetrieved node with id, entering: af90f2ee-62d7-4fbc-b60d-28cd2a88327d\n",
      "\u001b[0m\u001b[1;3;34mRetrieving with query id af90f2ee-62d7-4fbc-b60d-28cd2a88327d: 1. 董事长转开脸的原因是什么？\n",
      "\u001b[0m"
     ]
    }
   ],
   "source": [
    "metrics = [\"hit_rate\", \"mrr\", \"precision\", \"recall\", \"ap\", \"ndcg\"]\n",
    "retriever_evaluator = RetrieverEvaluator.from_metric_names(\n",
    "    metrics,\n",
    "    retriever=fusion_retriever,\n",
    "    # node_postprocessors=my_node_postprocessor # 这里可以用rerank集成\n",
    ")\n",
    "eval_results = await retriever_evaluator.aevaluate_dataset(\n",
    "    eval_dataset_from_hybrid_nodes_50,\n",
    "    show_progress=True,\n",
    ")"
   ]
  },
  {
   "cell_type": "code",
   "execution_count": 32,
   "metadata": {},
   "outputs": [],
   "source": [
    "import pandas as pd\n",
    "\n",
    "\n",
    "def display_results(name, eval_results):\n",
    "    \"\"\"Display results from evaluate.\"\"\"\n",
    "    metric_dicts = []\n",
    "    for eval_result in eval_results:\n",
    "        metric_dict = eval_result.metric_vals_dict\n",
    "        metric_dicts.append(metric_dict)\n",
    "\n",
    "    full_df = pd.DataFrame(metric_dicts)\n",
    "    columns = {\n",
    "        \"retrievers\": [name],\n",
    "        **{k: [full_df[k].mean()] for k in metrics},\n",
    "    }\n",
    "\n",
    "    metric_df = pd.DataFrame(columns)\n",
    "\n",
    "    return metric_df"
   ]
  },
  {
   "cell_type": "markdown",
   "metadata": {},
   "source": [
    "## 对比实验记录"
   ]
  },
  {
   "cell_type": "code",
   "execution_count": 25,
   "metadata": {},
   "outputs": [
    {
     "data": {
      "text/html": [
       "<div>\n",
       "<style scoped>\n",
       "    .dataframe tbody tr th:only-of-type {\n",
       "        vertical-align: middle;\n",
       "    }\n",
       "\n",
       "    .dataframe tbody tr th {\n",
       "        vertical-align: top;\n",
       "    }\n",
       "\n",
       "    .dataframe thead th {\n",
       "        text-align: right;\n",
       "    }\n",
       "</style>\n",
       "<table border=\"1\" class=\"dataframe\">\n",
       "  <thead>\n",
       "    <tr style=\"text-align: right;\">\n",
       "      <th></th>\n",
       "      <th>retrievers</th>\n",
       "      <th>hit_rate</th>\n",
       "      <th>mrr</th>\n",
       "      <th>precision</th>\n",
       "      <th>recall</th>\n",
       "      <th>ap</th>\n",
       "      <th>ndcg</th>\n",
       "    </tr>\n",
       "  </thead>\n",
       "  <tbody>\n",
       "    <tr>\n",
       "      <th>0</th>\n",
       "      <td>hybrid_nodes_50</td>\n",
       "      <td>0.66</td>\n",
       "      <td>0.286</td>\n",
       "      <td>0.132</td>\n",
       "      <td>0.66</td>\n",
       "      <td>0.286</td>\n",
       "      <td>0.379367</td>\n",
       "    </tr>\n",
       "  </tbody>\n",
       "</table>\n",
       "</div>"
      ],
      "text/plain": [
       "        retrievers  hit_rate    mrr  precision  recall     ap      ndcg\n",
       "0  hybrid_nodes_50      0.66  0.286      0.132    0.66  0.286  0.379367"
      ]
     },
     "execution_count": 25,
     "metadata": {},
     "output_type": "execute_result"
    }
   ],
   "source": [
    "# 2025-04-09下午14:31\n",
    "# bm25 topk=10;vector topk=10;\n",
    "# mode=FUSION_MODES.RELATIVE_SCORE; fusion topk=10; weight=[0.3,0.7]\n",
    "display_results(\"hybrid_nodes_50\", eval_results)"
   ]
  },
  {
   "cell_type": "code",
   "execution_count": 36,
   "metadata": {},
   "outputs": [
    {
     "data": {
      "text/html": [
       "<div>\n",
       "<style scoped>\n",
       "    .dataframe tbody tr th:only-of-type {\n",
       "        vertical-align: middle;\n",
       "    }\n",
       "\n",
       "    .dataframe tbody tr th {\n",
       "        vertical-align: top;\n",
       "    }\n",
       "\n",
       "    .dataframe thead th {\n",
       "        text-align: right;\n",
       "    }\n",
       "</style>\n",
       "<table border=\"1\" class=\"dataframe\">\n",
       "  <thead>\n",
       "    <tr style=\"text-align: right;\">\n",
       "      <th></th>\n",
       "      <th>retrievers</th>\n",
       "      <th>hit_rate</th>\n",
       "      <th>mrr</th>\n",
       "      <th>precision</th>\n",
       "      <th>recall</th>\n",
       "      <th>ap</th>\n",
       "      <th>ndcg</th>\n",
       "    </tr>\n",
       "  </thead>\n",
       "  <tbody>\n",
       "    <tr>\n",
       "      <th>0</th>\n",
       "      <td>hybrid_nodes_50</td>\n",
       "      <td>0.66</td>\n",
       "      <td>0.286</td>\n",
       "      <td>0.132</td>\n",
       "      <td>0.66</td>\n",
       "      <td>0.286</td>\n",
       "      <td>0.379367</td>\n",
       "    </tr>\n",
       "  </tbody>\n",
       "</table>\n",
       "</div>"
      ],
      "text/plain": [
       "        retrievers  hit_rate    mrr  precision  recall     ap      ndcg\n",
       "0  hybrid_nodes_50      0.66  0.286      0.132    0.66  0.286  0.379367"
      ]
     },
     "execution_count": 36,
     "metadata": {},
     "output_type": "execute_result"
    }
   ],
   "source": [
    "# 2025-04-09下午14:36\n",
    "# bm25 topk=10;vector topk=10;\n",
    "# fusion mode=FUSION_MODES.RELATIVE_SCORE; fusion topk=5; weight=[0.3,0.7]\n",
    "display_results(\"hybrid_nodes_50\", eval_results)"
   ]
  },
  {
   "cell_type": "code",
   "execution_count": 42,
   "metadata": {},
   "outputs": [
    {
     "data": {
      "text/html": [
       "<div>\n",
       "<style scoped>\n",
       "    .dataframe tbody tr th:only-of-type {\n",
       "        vertical-align: middle;\n",
       "    }\n",
       "\n",
       "    .dataframe tbody tr th {\n",
       "        vertical-align: top;\n",
       "    }\n",
       "\n",
       "    .dataframe thead th {\n",
       "        text-align: right;\n",
       "    }\n",
       "</style>\n",
       "<table border=\"1\" class=\"dataframe\">\n",
       "  <thead>\n",
       "    <tr style=\"text-align: right;\">\n",
       "      <th></th>\n",
       "      <th>retrievers</th>\n",
       "      <th>hit_rate</th>\n",
       "      <th>mrr</th>\n",
       "      <th>precision</th>\n",
       "      <th>recall</th>\n",
       "      <th>ap</th>\n",
       "      <th>ndcg</th>\n",
       "    </tr>\n",
       "  </thead>\n",
       "  <tbody>\n",
       "    <tr>\n",
       "      <th>0</th>\n",
       "      <td>hybrid_nodes_50</td>\n",
       "      <td>0.76</td>\n",
       "      <td>0.657667</td>\n",
       "      <td>0.152</td>\n",
       "      <td>0.76</td>\n",
       "      <td>0.657667</td>\n",
       "      <td>0.682369</td>\n",
       "    </tr>\n",
       "  </tbody>\n",
       "</table>\n",
       "</div>"
      ],
      "text/plain": [
       "        retrievers  hit_rate       mrr  precision  recall        ap      ndcg\n",
       "0  hybrid_nodes_50      0.76  0.657667      0.152    0.76  0.657667  0.682369"
      ]
     },
     "execution_count": 42,
     "metadata": {},
     "output_type": "execute_result"
    }
   ],
   "source": [
    "# 2025-04-09下午两点\n",
    "# bm25 topk=10;vector topk=10;\n",
    "# fusion mode=FUSION_MODES.RELATIVE_SCORE; fusion topk=5; weight=[0.5,0.5]\n",
    "display_results(\"hybrid_nodes_50\", eval_results)"
   ]
  },
  {
   "cell_type": "code",
   "execution_count": 46,
   "metadata": {},
   "outputs": [
    {
     "data": {
      "text/html": [
       "<div>\n",
       "<style scoped>\n",
       "    .dataframe tbody tr th:only-of-type {\n",
       "        vertical-align: middle;\n",
       "    }\n",
       "\n",
       "    .dataframe tbody tr th {\n",
       "        vertical-align: top;\n",
       "    }\n",
       "\n",
       "    .dataframe thead th {\n",
       "        text-align: right;\n",
       "    }\n",
       "</style>\n",
       "<table border=\"1\" class=\"dataframe\">\n",
       "  <thead>\n",
       "    <tr style=\"text-align: right;\">\n",
       "      <th></th>\n",
       "      <th>retrievers</th>\n",
       "      <th>hit_rate</th>\n",
       "      <th>mrr</th>\n",
       "      <th>precision</th>\n",
       "      <th>recall</th>\n",
       "      <th>ap</th>\n",
       "      <th>ndcg</th>\n",
       "    </tr>\n",
       "  </thead>\n",
       "  <tbody>\n",
       "    <tr>\n",
       "      <th>0</th>\n",
       "      <td>hybrid_nodes_50</td>\n",
       "      <td>0.84</td>\n",
       "      <td>0.66779</td>\n",
       "      <td>0.0855</td>\n",
       "      <td>0.84</td>\n",
       "      <td>0.66779</td>\n",
       "      <td>0.707663</td>\n",
       "    </tr>\n",
       "  </tbody>\n",
       "</table>\n",
       "</div>"
      ],
      "text/plain": [
       "        retrievers  hit_rate      mrr  precision  recall       ap      ndcg\n",
       "0  hybrid_nodes_50      0.84  0.66779     0.0855    0.84  0.66779  0.707663"
      ]
     },
     "execution_count": 46,
     "metadata": {},
     "output_type": "execute_result"
    }
   ],
   "source": [
    "# 2025-04-09下午两点\n",
    "# bm25 topk=10;vector topk=10;\n",
    "# fusion mode=FUSION_MODES.RELATIVE_SCORE; fusion topk=10; weight=[0.5,0.5]\n",
    "display_results(\"hybrid_nodes_50\", eval_results)"
   ]
  },
  {
   "cell_type": "code",
   "execution_count": 33,
   "metadata": {},
   "outputs": [
    {
     "data": {
      "text/html": [
       "<div>\n",
       "<style scoped>\n",
       "    .dataframe tbody tr th:only-of-type {\n",
       "        vertical-align: middle;\n",
       "    }\n",
       "\n",
       "    .dataframe tbody tr th {\n",
       "        vertical-align: top;\n",
       "    }\n",
       "\n",
       "    .dataframe thead th {\n",
       "        text-align: right;\n",
       "    }\n",
       "</style>\n",
       "<table border=\"1\" class=\"dataframe\">\n",
       "  <thead>\n",
       "    <tr style=\"text-align: right;\">\n",
       "      <th></th>\n",
       "      <th>retrievers</th>\n",
       "      <th>hit_rate</th>\n",
       "      <th>mrr</th>\n",
       "      <th>precision</th>\n",
       "      <th>recall</th>\n",
       "      <th>ap</th>\n",
       "      <th>ndcg</th>\n",
       "    </tr>\n",
       "  </thead>\n",
       "  <tbody>\n",
       "    <tr>\n",
       "      <th>0</th>\n",
       "      <td>hybrid_nodes_50</td>\n",
       "      <td>0.84</td>\n",
       "      <td>0.431425</td>\n",
       "      <td>0.0855</td>\n",
       "      <td>0.84</td>\n",
       "      <td>0.431425</td>\n",
       "      <td>0.530861</td>\n",
       "    </tr>\n",
       "  </tbody>\n",
       "</table>\n",
       "</div>"
      ],
      "text/plain": [
       "        retrievers  hit_rate       mrr  precision  recall        ap      ndcg\n",
       "0  hybrid_nodes_50      0.84  0.431425     0.0855    0.84  0.431425  0.530861"
      ]
     },
     "execution_count": 33,
     "metadata": {},
     "output_type": "execute_result"
    }
   ],
   "source": [
    "# 2025-04-09下午两点\n",
    "# bm25 topk=10;vector topk=10;\n",
    "# fusion mode=FUSION_MODES.RELATIVE_SCORE; fusion topk=10; weight=[0.4,0.6]\n",
    "display_results(\"hybrid_nodes_50\", eval_results)"
   ]
  },
  {
   "cell_type": "code",
   "execution_count": 43,
   "metadata": {},
   "outputs": [
    {
     "data": {
      "text/html": [
       "<div>\n",
       "<style scoped>\n",
       "    .dataframe tbody tr th:only-of-type {\n",
       "        vertical-align: middle;\n",
       "    }\n",
       "\n",
       "    .dataframe tbody tr th {\n",
       "        vertical-align: top;\n",
       "    }\n",
       "\n",
       "    .dataframe thead th {\n",
       "        text-align: right;\n",
       "    }\n",
       "</style>\n",
       "<table border=\"1\" class=\"dataframe\">\n",
       "  <thead>\n",
       "    <tr style=\"text-align: right;\">\n",
       "      <th></th>\n",
       "      <th>retrievers</th>\n",
       "      <th>hit_rate</th>\n",
       "      <th>mrr</th>\n",
       "      <th>precision</th>\n",
       "      <th>recall</th>\n",
       "      <th>ap</th>\n",
       "      <th>ndcg</th>\n",
       "    </tr>\n",
       "  </thead>\n",
       "  <tbody>\n",
       "    <tr>\n",
       "      <th>0</th>\n",
       "      <td>hybrid_nodes_50</td>\n",
       "      <td>0.82</td>\n",
       "      <td>0.637798</td>\n",
       "      <td>0.131897</td>\n",
       "      <td>0.82</td>\n",
       "      <td>0.637798</td>\n",
       "      <td>0.680123</td>\n",
       "    </tr>\n",
       "  </tbody>\n",
       "</table>\n",
       "</div>"
      ],
      "text/plain": [
       "        retrievers  hit_rate       mrr  precision  recall        ap      ndcg\n",
       "0  hybrid_nodes_50      0.82  0.637798   0.131897    0.82  0.637798  0.680123"
      ]
     },
     "execution_count": 43,
     "metadata": {},
     "output_type": "execute_result"
    }
   ],
   "source": [
    "# 2025-04-09下午两点\n",
    "# bm25 topk=5;vector topk=5;\n",
    "# fusion mode=FUSION_MODES.RELATIVE_SCORE; fusion topk=10; weight=[0.5,0.5]\n",
    "display_results(\"hybrid_nodes_50\", eval_results)"
   ]
  },
  {
   "cell_type": "code",
   "execution_count": 47,
   "metadata": {},
   "outputs": [
    {
     "data": {
      "text/html": [
       "<div>\n",
       "<style scoped>\n",
       "    .dataframe tbody tr th:only-of-type {\n",
       "        vertical-align: middle;\n",
       "    }\n",
       "\n",
       "    .dataframe tbody tr th {\n",
       "        vertical-align: top;\n",
       "    }\n",
       "\n",
       "    .dataframe thead th {\n",
       "        text-align: right;\n",
       "    }\n",
       "</style>\n",
       "<table border=\"1\" class=\"dataframe\">\n",
       "  <thead>\n",
       "    <tr style=\"text-align: right;\">\n",
       "      <th></th>\n",
       "      <th>retrievers</th>\n",
       "      <th>hit_rate</th>\n",
       "      <th>mrr</th>\n",
       "      <th>precision</th>\n",
       "      <th>recall</th>\n",
       "      <th>ap</th>\n",
       "      <th>ndcg</th>\n",
       "    </tr>\n",
       "  </thead>\n",
       "  <tbody>\n",
       "    <tr>\n",
       "      <th>0</th>\n",
       "      <td>hybrid_nodes_50</td>\n",
       "      <td>0.83</td>\n",
       "      <td>0.632135</td>\n",
       "      <td>0.087095</td>\n",
       "      <td>0.83</td>\n",
       "      <td>0.632135</td>\n",
       "      <td>0.676776</td>\n",
       "    </tr>\n",
       "  </tbody>\n",
       "</table>\n",
       "</div>"
      ],
      "text/plain": [
       "        retrievers  hit_rate       mrr  precision  recall        ap      ndcg\n",
       "0  hybrid_nodes_50      0.83  0.632135   0.087095    0.83  0.632135  0.676776"
      ]
     },
     "execution_count": 47,
     "metadata": {},
     "output_type": "execute_result"
    }
   ],
   "source": [
    "# 2025-04-09下午两点50分\n",
    "# bm25 topk=10;vector topk=5;\n",
    "# fusion mode=FUSION_MODES.RELATIVE_SCORE; fusion topk=10; weight=[0.5,0.5]\n",
    "display_results(\"hybrid_nodes_50\", eval_results)"
   ]
  },
  {
   "cell_type": "code",
   "execution_count": 52,
   "metadata": {},
   "outputs": [
    {
     "data": {
      "text/html": [
       "<div>\n",
       "<style scoped>\n",
       "    .dataframe tbody tr th:only-of-type {\n",
       "        vertical-align: middle;\n",
       "    }\n",
       "\n",
       "    .dataframe tbody tr th {\n",
       "        vertical-align: top;\n",
       "    }\n",
       "\n",
       "    .dataframe thead th {\n",
       "        text-align: right;\n",
       "    }\n",
       "</style>\n",
       "<table border=\"1\" class=\"dataframe\">\n",
       "  <thead>\n",
       "    <tr style=\"text-align: right;\">\n",
       "      <th></th>\n",
       "      <th>retrievers</th>\n",
       "      <th>hit_rate</th>\n",
       "      <th>mrr</th>\n",
       "      <th>precision</th>\n",
       "      <th>recall</th>\n",
       "      <th>ap</th>\n",
       "      <th>ndcg</th>\n",
       "    </tr>\n",
       "  </thead>\n",
       "  <tbody>\n",
       "    <tr>\n",
       "      <th>0</th>\n",
       "      <td>hybrid_nodes_50</td>\n",
       "      <td>0.86</td>\n",
       "      <td>0.657992</td>\n",
       "      <td>0.111933</td>\n",
       "      <td>0.86</td>\n",
       "      <td>0.657992</td>\n",
       "      <td>0.705287</td>\n",
       "    </tr>\n",
       "  </tbody>\n",
       "</table>\n",
       "</div>"
      ],
      "text/plain": [
       "        retrievers  hit_rate       mrr  precision  recall        ap      ndcg\n",
       "0  hybrid_nodes_50      0.86  0.657992   0.111933    0.86  0.657992  0.705287"
      ]
     },
     "execution_count": 52,
     "metadata": {},
     "output_type": "execute_result"
    }
   ],
   "source": [
    "# 2025-04-09下午两点53分\n",
    "# bm25 topk=5;vector topk=10;\n",
    "# fusion mode=FUSION_MODES.RELATIVE_SCORE; fusion topk=10; weight=[0.5,0.5]\n",
    "display_results(\"hybrid_nodes_50\", eval_results)"
   ]
  },
  {
   "cell_type": "markdown",
   "metadata": {},
   "source": [
    "采取 FUSION_MODES.RELATIVE_SCORE ，最好是权重相同，侧重于基于向量召回更多，减少因为关键字检索带来的干扰"
   ]
  },
  {
   "cell_type": "code",
   "execution_count": 57,
   "metadata": {},
   "outputs": [
    {
     "data": {
      "text/html": [
       "<div>\n",
       "<style scoped>\n",
       "    .dataframe tbody tr th:only-of-type {\n",
       "        vertical-align: middle;\n",
       "    }\n",
       "\n",
       "    .dataframe tbody tr th {\n",
       "        vertical-align: top;\n",
       "    }\n",
       "\n",
       "    .dataframe thead th {\n",
       "        text-align: right;\n",
       "    }\n",
       "</style>\n",
       "<table border=\"1\" class=\"dataframe\">\n",
       "  <thead>\n",
       "    <tr style=\"text-align: right;\">\n",
       "      <th></th>\n",
       "      <th>retrievers</th>\n",
       "      <th>hit_rate</th>\n",
       "      <th>mrr</th>\n",
       "      <th>precision</th>\n",
       "      <th>recall</th>\n",
       "      <th>ap</th>\n",
       "      <th>ndcg</th>\n",
       "    </tr>\n",
       "  </thead>\n",
       "  <tbody>\n",
       "    <tr>\n",
       "      <th>0</th>\n",
       "      <td>hybrid_nodes_50</td>\n",
       "      <td>0.56</td>\n",
       "      <td>0.43804</td>\n",
       "      <td>0.057278</td>\n",
       "      <td>0.56</td>\n",
       "      <td>0.43804</td>\n",
       "      <td>0.467542</td>\n",
       "    </tr>\n",
       "  </tbody>\n",
       "</table>\n",
       "</div>"
      ],
      "text/plain": [
       "        retrievers  hit_rate      mrr  precision  recall       ap      ndcg\n",
       "0  hybrid_nodes_50      0.56  0.43804   0.057278    0.56  0.43804  0.467542"
      ]
     },
     "execution_count": 57,
     "metadata": {},
     "output_type": "execute_result"
    }
   ],
   "source": [
    "# 采用RRF策略\n",
    "# 2025-04-09下午两点55分\n",
    "# bm25 topk=10;vector topk=10;\n",
    "# fusion mode=FUSION_MODES.RECIPROCAL_RANK; fusion topk=10;\n",
    "display_results(\"hybrid_nodes_50\", eval_results)"
   ]
  },
  {
   "cell_type": "code",
   "execution_count": 66,
   "metadata": {},
   "outputs": [
    {
     "data": {
      "text/html": [
       "<div>\n",
       "<style scoped>\n",
       "    .dataframe tbody tr th:only-of-type {\n",
       "        vertical-align: middle;\n",
       "    }\n",
       "\n",
       "    .dataframe tbody tr th {\n",
       "        vertical-align: top;\n",
       "    }\n",
       "\n",
       "    .dataframe thead th {\n",
       "        text-align: right;\n",
       "    }\n",
       "</style>\n",
       "<table border=\"1\" class=\"dataframe\">\n",
       "  <thead>\n",
       "    <tr style=\"text-align: right;\">\n",
       "      <th></th>\n",
       "      <th>retrievers</th>\n",
       "      <th>hit_rate</th>\n",
       "      <th>mrr</th>\n",
       "      <th>precision</th>\n",
       "      <th>recall</th>\n",
       "      <th>ap</th>\n",
       "      <th>ndcg</th>\n",
       "    </tr>\n",
       "  </thead>\n",
       "  <tbody>\n",
       "    <tr>\n",
       "      <th>0</th>\n",
       "      <td>hybrid_nodes_50</td>\n",
       "      <td>0.65</td>\n",
       "      <td>0.538595</td>\n",
       "      <td>0.101528</td>\n",
       "      <td>0.65</td>\n",
       "      <td>0.538595</td>\n",
       "      <td>0.565733</td>\n",
       "    </tr>\n",
       "  </tbody>\n",
       "</table>\n",
       "</div>"
      ],
      "text/plain": [
       "        retrievers  hit_rate       mrr  precision  recall        ap      ndcg\n",
       "0  hybrid_nodes_50      0.65  0.538595   0.101528    0.65  0.538595  0.565733"
      ]
     },
     "execution_count": 66,
     "metadata": {},
     "output_type": "execute_result"
    }
   ],
   "source": [
    "# 采用RRF策略\n",
    "# 2025-04-09下午3点\n",
    "# bm25 topk=5; vector topk=5;\n",
    "# fusion mode=FUSION_MODES.RECIPROCAL_RANK; fusion topk=10;\n",
    "display_results(\"hybrid_nodes_50\", eval_results)"
   ]
  },
  {
   "cell_type": "code",
   "execution_count": 72,
   "metadata": {},
   "outputs": [
    {
     "data": {
      "text/html": [
       "<div>\n",
       "<style scoped>\n",
       "    .dataframe tbody tr th:only-of-type {\n",
       "        vertical-align: middle;\n",
       "    }\n",
       "\n",
       "    .dataframe tbody tr th {\n",
       "        vertical-align: top;\n",
       "    }\n",
       "\n",
       "    .dataframe thead th {\n",
       "        text-align: right;\n",
       "    }\n",
       "</style>\n",
       "<table border=\"1\" class=\"dataframe\">\n",
       "  <thead>\n",
       "    <tr style=\"text-align: right;\">\n",
       "      <th></th>\n",
       "      <th>retrievers</th>\n",
       "      <th>hit_rate</th>\n",
       "      <th>mrr</th>\n",
       "      <th>precision</th>\n",
       "      <th>recall</th>\n",
       "      <th>ap</th>\n",
       "      <th>ndcg</th>\n",
       "    </tr>\n",
       "  </thead>\n",
       "  <tbody>\n",
       "    <tr>\n",
       "      <th>0</th>\n",
       "      <td>hybrid_nodes_50</td>\n",
       "      <td>0.73</td>\n",
       "      <td>0.59644</td>\n",
       "      <td>0.083083</td>\n",
       "      <td>0.73</td>\n",
       "      <td>0.59644</td>\n",
       "      <td>0.629213</td>\n",
       "    </tr>\n",
       "  </tbody>\n",
       "</table>\n",
       "</div>"
      ],
      "text/plain": [
       "        retrievers  hit_rate      mrr  precision  recall       ap      ndcg\n",
       "0  hybrid_nodes_50      0.73  0.59644   0.083083    0.73  0.59644  0.629213"
      ]
     },
     "execution_count": 72,
     "metadata": {},
     "output_type": "execute_result"
    }
   ],
   "source": [
    "# 2025-04-09下午4点\n",
    "# bm25 topk=5; vector topk=5;\n",
    "# num_queries=2; 说明查询重写，有一定优化效果\n",
    "# fusion mode=FUSION_MODES.RECIPROCAL_RANK; fusion topk=10;\n",
    "display_results(\"hybrid_nodes_50\", eval_results)"
   ]
  },
  {
   "cell_type": "markdown",
   "metadata": {},
   "source": [
    "判断认为，在对于片段语义理解要求较高的场景，可能还是更倾向于多利用语义信息的召回来提升检索效果，下面考虑结合rerank model进一步提升效果"
   ]
  },
  {
   "cell_type": "code",
   "execution_count": 73,
   "metadata": {},
   "outputs": [],
   "source": [
    "from llama_index.embeddings.huggingface import HuggingFaceEmbedding\n",
    "from llama_index.postprocessor.flag_embedding_reranker import (\n",
    "    FlagEmbeddingReranker,\n",
    ")"
   ]
  },
  {
   "cell_type": "code",
   "execution_count": null,
   "metadata": {},
   "outputs": [],
   "source": [
    "from FlagEmbedding import FlagReranker\n",
    "\n",
    "reranker = FlagReranker(\"BAAI/bge-reranker-v2-m3\", use_fp16=True)\n",
    "scores = reranker.compute_score(\n",
    "    [\n",
    "        [\"what is panda?\", \"hi\"],\n",
    "        [\n",
    "            \"what is panda?\",\n",
    "            \"The giant panda (Ailuropoda melanoleuca), sometimes called a panda bear or simply panda, is a bear species endemic to China.\",\n",
    "        ],\n",
    "    ]\n",
    ")\n",
    "print(scores)  # [-8.1875, 5.26171875]"
   ]
  },
  {
   "cell_type": "code",
   "execution_count": null,
   "metadata": {},
   "outputs": [],
   "source": [
    "bge_rerank_model = \"BAAI/bge-reranker-v2-m3\"\n",
    "bge_rerank = FlagEmbeddingReranker(model=bge_rerank_model, top_n=5)"
   ]
  },
  {
   "cell_type": "markdown",
   "metadata": {},
   "source": [
    "实现结合BM25,small2big,最后进行rerank的retriever"
   ]
  },
  {
   "cell_type": "code",
   "execution_count": null,
   "metadata": {},
   "outputs": [],
   "source": [
    "metrics = [\"hit_rate\", \"mrr\", \"precision\", \"recall\", \"ap\", \"ndcg\"]\n",
    "retriever_evaluator = RetrieverEvaluator.from_metric_names(\n",
    "    metrics,\n",
    "    retriever=fusion_retriever,\n",
    "    node_postprocessors=[bge_rerank],\n",
    ")\n",
    "\n",
    "eval_results = await retriever_evaluator.aevaluate_dataset(\n",
    "    eval_dataset_from_hybrid_nodes_50,\n",
    "    show_progress=True,\n",
    ")"
   ]
  }
 ],
 "metadata": {
  "kernelspec": {
   "display_name": "readai-vv5wOT8E-py3.10",
   "language": "python",
   "name": "python3"
  },
  "language_info": {
   "codemirror_mode": {
    "name": "ipython",
    "version": 3
   },
   "file_extension": ".py",
   "mimetype": "text/x-python",
   "name": "python",
   "nbconvert_exporter": "python",
   "pygments_lexer": "ipython3",
   "version": "3.10.16"
  }
 },
 "nbformat": 4,
 "nbformat_minor": 2
}

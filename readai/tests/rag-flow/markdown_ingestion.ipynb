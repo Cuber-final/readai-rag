{
 "cells": [
  {
   "cell_type": "code",
   "execution_count": 103,
   "metadata": {},
   "outputs": [],
   "source": [
    "from llama_index.core.ingestion import IngestionPipeline\n",
    "from llama_index.llms.deepseek import DeepSeek\n",
    "import nest_asyncio\n",
    "\n",
    "nest_asyncio.apply()"
   ]
  },
  {
   "cell_type": "code",
   "execution_count": 61,
   "metadata": {},
   "outputs": [
    {
     "name": "stdout",
     "output_type": "stream",
     "text": [
      "✅ Document 内容预览：\n",
      "\n",
      "马歇尔·卢森堡博士发现了一种沟通方式，依照它来谈话和聆听，能使人们情意相通，和谐相处，这就是“非暴力沟通”。\n",
      "做为一个遵纪守法的好人，也许我们从来没有把谈话和“暴力”扯上关系。不过如果稍微留意一下现\n",
      "\n",
      "📎 Metadata: {}\n"
     ]
    }
   ],
   "source": [
    "from llama_index.core import Document\n",
    "\n",
    "# 模拟的 markdown 内容\n",
    "markdown_text = \"\"\"\n",
    "马歇尔·卢森堡博士发现了一种沟通方式，依照它来谈话和聆听，能使人们情意相通，和谐相处，这就是“非暴力沟通”。\n",
    "做为一个遵纪守法的好人，也许我们从来没有把谈话和“暴力”扯上关系。不过如果稍微留意一下现实生活中的谈话方式，并且用心体会各种谈话方式给我们的不同感受，我们一定会发现，有些话确实伤人！言语上的指责、嘲讽、否定、说教以及任意打断、拒不回应、随意出口的评价和结论给我们带来的情感和精神上的创伤甚至比肉体的伤害更加令人痛苦。这些无心或有意的语言暴力让人与人变得冷漠、隔膜、敌视。\n",
    "非暴力沟通能够：\n",
    "● 疗愈内心深处的隐秘伤痛；\n",
    "● 超越个人心智和情感的局限性；\n",
    "● 突破那些引发愤怒、沮丧、焦虑等负面情绪的思维方式；\n",
    "● 用不带伤害的方式化解人际间的冲突；\n",
    "● 学会建立和谐的生命体验。\n",
    "图书在版编目(CIP)数据\n",
    "非暴力沟通／（美）马歇尔·卢森堡（Marshall B.Rosenberg）著；刘轶译.-2版（修订本）-北京：华夏出版社有限公司，2021.5\n",
    "书名原文：Nonviolent Communication\n",
    "\n",
    "# 序章\n",
    "\n",
    "**作者:** 马歇尔·卢森堡  \n",
    "**出版社:** 华夏出版社  \n",
    "**出版时间:** 2021年\n",
    "## 测试1\n",
    "### 测试\n",
    "---\n",
    "\n",
    "非暴力沟通是一种语言方式，也是一种生活哲学。\n",
    "它通过观察、感受、需要与请求四个步骤，让人们之间的沟通更有同理心、更具建设性。\n",
    "\n",
    "# 第一章\n",
    "XXXX\n",
    "asdf\n",
    "## 社保值长\n",
    "nihao aasdasda\n",
    "---\n",
    "\"\"\"\n",
    "\n",
    "# 创建 LlamaIndex 的 Document 对象\n",
    "doc = Document(\n",
    "    text=markdown_text,\n",
    ")\n",
    "\n",
    "# 打印确认\n",
    "print(\"✅ Document 内容预览：\")\n",
    "print(doc.text[:100])  # 前100个字符\n",
    "print(\"\\n📎 Metadata:\", doc.metadata)"
   ]
  },
  {
   "cell_type": "code",
   "execution_count": 85,
   "metadata": {},
   "outputs": [
    {
     "name": "stdout",
     "output_type": "stream",
     "text": [
      "该文档总共分割为 3 个节点\n"
     ]
    }
   ],
   "source": [
    "from readai.components.epub2md_loader import get_nodes_from_string\n",
    "\n",
    "md_nodes = get_nodes_from_string(text=markdown_text, metadata={})"
   ]
  },
  {
   "cell_type": "code",
   "execution_count": 98,
   "metadata": {},
   "outputs": [],
   "source": [
    "DEFAULT_SUMMARY_EXTRACT_TEMPLATE_ZH = \"\"\"\n",
    "以下是章节内容：\n",
    "{context_str}\n",
    "\n",
    "请总结本章节的核心主题和涉及的关键人物或实体。\n",
    "\n",
    "摘要：\"\"\""
   ]
  },
  {
   "cell_type": "code",
   "execution_count": null,
   "metadata": {},
   "outputs": [],
   "source": [
    "import json\n",
    "import os\n",
    "\n",
    "from dotenv import load_dotenv\n",
    "from llama_index.core.extractors import SummaryExtractor\n",
    "\n",
    "load_dotenv()\n",
    "API_KEY = os.getenv(\"DEEPSEEK_API_KEY\")\n",
    "MODEL = os.getenv(\"DEEPSEEK_MODEL\")\n",
    "\n",
    "# 使用LLM创建摘要提取器\n",
    "llm = DeepSeek(api_key=API_KEY, model=MODEL)\n",
    "summary_extractor = SummaryExtractor(\n",
    "    llm=llm,\n",
    "    summaries=[\"self\"],\n",
    "    prompt_template=DEFAULT_SUMMARY_EXTRACT_TEMPLATE_ZH,\n",
    ")\n",
    "pipeline = IngestionPipeline(transformations=[summary_extractor])\n",
    "\n",
    "# 处理节点，提取元数据,需要过滤非章节的节点\n",
    "processed_nodes = pipeline.run(nodes=md_nodes, in_place=True, show_progress=True)\n"
   ]
  },
  {
   "cell_type": "code",
   "execution_count": 107,
   "metadata": {},
   "outputs": [
    {
     "name": "stdout",
     "output_type": "stream",
     "text": [
      "3\n",
      "{'section_summary': '**核心主题**：  \\n本章节系统阐述了**非暴力沟通（NVC）**的理论与实践，强调通过特定的语言和倾听方式（如避免指责、评判等“暴力性”沟通）促进情感联结、化解冲突，并实现个人与社会的和谐关系。其核心价值包括疗愈情感创伤、突破负面情绪局限，以及构建非对抗性的人际互动模式。\\n\\n**关键人物与实体**：  \\n1. **马歇尔·卢森堡博士**（Dr. Marshall Rosenberg）：NVC理论创始人，著作《非暴力沟通》为理论来源（2021年修订版，刘轶译）。  \\n2. **语言暴力**：涵盖指责、嘲讽、否定、说教等伤害性沟通行为，是NVC旨在消除的对象。  \\n3. **情感疗愈与冲突解决**：NVC的核心应用领域，聚焦于转化负面情绪（如愤怒、焦虑）和改善人际关系。  \\n\\n**总结**：章节揭示了日常沟通中的隐性暴力及其危害，同时提出NVC作为变革性工具，以实现深层共情与社会和谐。'}\n",
      "{'Header1': '序章', 'section_summary': '**核心主题**：  \\n本章节（序章）阐述了**非暴力沟通（NVC）**的双重性质，既是一种促进**同理心**和**建设性沟通**的**语言方法**，也是一种**生活哲学**。其核心框架包含四个步骤：**观察、感受、需要、请求**，旨在改善人际互动。\\n\\n**关键人物与实体**：  \\n- **作者**：马歇尔·卢森堡（Marshall Rosenberg）  \\n- **出版社**：华夏出版社（Huaxia Publishing House）  \\n- **出版时间**：2021年  \\n\\n**关键术语**：非暴力沟通（NVC）、观察、感受、需要、请求、同理心。  \\n\\n（注：摘要保留了原文的结构与关键信息，精简了部分重复表述，确保内容清晰紧凑。）'}\n",
      "{'Header1': '第一章', 'section_summary': '### 核心主题  \\n- **章节定位**：标题为“第一章”，可能是文档的引言或框架性章节，但内容不完整，包含占位文本（如“XXXX”“asdf”）和非正式用语（如“nihao aasdasda”），表明其为未完成的草稿或模板。  \\n- **内容特征**：无实质性信息，格式混杂（正式标题与非正式文本），需依赖后续章节补充完整内容。  \\n\\n### 关键人物/实体  \\n1. **社保值长**（Social Security Supervisor）：  \\n   - 通过二级标题提及，可能与社会保障管理相关，但具体职责或背景因上下文缺失未明确说明。  \\n\\n### 总结  \\n本章节仅为初步框架，核心主题和关键实体均未展开，需结合后续内容进一步分析。当前信息提示可能涉及社会保障领域，但无具体论述。'}\n"
     ]
    }
   ],
   "source": [
    "print(len(processed_nodes))\n",
    "for node in processed_nodes:\n",
    "    print(node.metadata)"
   ]
  },
  {
   "cell_type": "code",
   "execution_count": 110,
   "metadata": {},
   "outputs": [],
   "source": [
    "book_id = \"test_id\"\n",
    "json_file_name = f\"chapter_summary_{book_id}.json\"\n",
    "# 按照标题，摘要组织成字典\n",
    "chapter_dict = {}\n",
    "for cid, node in enumerate(processed_nodes):\n",
    "    if \"Header1\" not in node.metadata:\n",
    "        continue\n",
    "    summary = node.metadata[\"section_summary\"]\n",
    "    title = node.metadata[\"Header1\"]\n",
    "    chapter_dict[cid] = {\"summary\": summary, \"title\": title}\n",
    "with open(json_file_name, \"w\") as f:\n",
    "    json.dump(chapter_dict, f, ensure_ascii=False, indent=4)"
   ]
  },
  {
   "cell_type": "code",
   "execution_count": 111,
   "metadata": {},
   "outputs": [
    {
     "name": "stdout",
     "output_type": "stream",
     "text": [
      "dict_keys(['section_summary'])\n",
      "dict_keys(['Header1', 'section_summary'])\n",
      "dict_keys(['Header1', 'section_summary'])\n"
     ]
    }
   ],
   "source": [
    "# 检查每个节点都有哪些metadata字段\n",
    "for node in processed_nodes:\n",
    "    metadata = node.metadata\n",
    "    print(metadata.keys())"
   ]
  },
  {
   "cell_type": "code",
   "execution_count": 16,
   "metadata": {},
   "outputs": [
    {
     "name": "stdout",
     "output_type": "stream",
     "text": [
      "文档被分割为 20 个节点\n",
      "\n",
      "节点 1:\n",
      "元数据: {'author': 'me', 'date': '2025-01-01', 'Header1': '创建一个包含不同标题级别和不同长度内容的测试Markdown文档', 'chunk_id': 0}\n",
      "内容前100字符: test_markdown = \"\"\"...\n",
      "\n",
      "节点 2:\n",
      "元数据: {'author': 'me', 'date': '2025-01-01', 'Header1': '第一章 绪论', 'chunk_id': 1}\n",
      "内容前100字符: 这是第一章的内容，作为引言，内容比较简短。\n",
      "非暴力沟通的基本概念将在此处简单介绍。...\n",
      "\n",
      "节点 3:\n",
      "元数据: {'author': 'me', 'date': '2025-01-01', 'Header1': '第一章 绪论', 'Header2': '1.1 研究背景', 'chunk_id': 2}\n",
      "内容前100字符: 本小节讨论研究背景。这是一个二级标题的小节。...\n",
      "\n",
      "节点 4:\n",
      "元数据: {'author': 'me', 'date': '2025-01-01', 'Header1': '第二章 基本原理', 'sub_chunk': 1, 'chunk_id': 3}\n",
      "内容前100字符: 这是一个非常长的章节，目的是测试解析器处理长内容的能力。\n",
      "在非暴力沟通中，我们关注四个要素：观察、感受、需要和请求。这些要素构成了非暴力沟通的基本模型。...\n",
      "\n",
      "节点 5:\n",
      "元数据: {'author': 'me', 'date': '2025-01-01', 'Header1': '第二章 基本原理', 'sub_chunk': 2, 'chunk_id': 4}\n",
      "内容前100字符: 观察是指清晰地表达我们观察到的事实，而不掺杂评价或判断。例如，\"当我看到你...\" 而不是 \"你总是...\"。\n",
      "感受是指表达我们的情感状态，如高兴、悲伤、恐惧、愤怒等。表达感受需要我们区分真正的感受和...\n",
      "\n",
      "节点 6:\n",
      "元数据: {'author': 'me', 'date': '2025-01-01', 'Header1': '第二章 基本原理', 'sub_chunk': 3, 'chunk_id': 5}\n",
      "内容前100字符: 需要是指表达我们普遍的人类需求，如安全、理解、尊重等。每个人都有这些基本需要，理解这一点有助于建立共鸣。\n",
      "请求是指清晰、具体地表达我们希望他人做什么来满足我们的需要。请求不同于要求，它允许他人拒绝。...\n",
      "\n",
      "节点 7:\n",
      "元数据: {'author': 'me', 'date': '2025-01-01', 'Header1': '第二章 基本原理', 'sub_chunk': 4, 'chunk_id': 6}\n",
      "内容前100字符: 以上四个要素构成了非暴力沟通的完整过程。通过练习，我们可以把它们融入日常交流中，从而更有效地表达自己并倾听他人。\n",
      "非暴力沟通模式还包括同理心倾听的能力。这意味着我们不仅表达自己，还能以开放、接纳的态度...\n",
      "\n",
      "节点 8:\n",
      "元数据: {'author': 'me', 'date': '2025-01-01', 'Header1': '第二章 基本原理', 'sub_chunk': 5, 'chunk_id': 7}\n",
      "内容前100字符: 在冲突情境中，非暴力沟通特别有价值。它帮助我们转化对抗为合作，寻找能满足各方需要的解决方案。\n",
      "总之，非暴力沟通是一种强大的沟通工具，它可以帮助我们建立更深厚的连接、解决冲突并创造和平。\n",
      "这是一个非常长...\n",
      "\n",
      "节点 9:\n",
      "元数据: {'author': 'me', 'date': '2025-01-01', 'Header1': '第二章 基本原理', 'sub_chunk': 6, 'chunk_id': 8}\n",
      "内容前100字符: 在非暴力沟通中，我们关注四个要素：观察、感受、需要和请求。这些要素构成了非暴力沟通的基本模型。\n",
      "观察是指清晰地表达我们观察到的事实，而不掺杂评价或判断。例如，\"当我看到你...\" 而不是 \"你总是.....\n",
      "\n",
      "节点 10:\n",
      "元数据: {'author': 'me', 'date': '2025-01-01', 'Header1': '第二章 基本原理', 'sub_chunk': 7, 'chunk_id': 9}\n",
      "内容前100字符: 感受是指表达我们的情感状态，如高兴、悲伤、恐惧、愤怒等。表达感受需要我们区分真正的感受和想法。\n",
      "需要是指表达我们普遍的人类需求，如安全、理解、尊重等。每个人都有这些基本需要，理解这一点有助于建立共鸣。...\n",
      "\n",
      "节点 11:\n",
      "元数据: {'author': 'me', 'date': '2025-01-01', 'Header1': '第二章 基本原理', 'sub_chunk': 8, 'chunk_id': 10}\n",
      "内容前100字符: 请求是指清晰、具体地表达我们希望他人做什么来满足我们的需要。请求不同于要求，它允许他人拒绝。\n",
      "以上四个要素构成了非暴力沟通的完整过程。通过练习，我们可以把它们融入日常交流中，从而更有效地表达自己并倾听...\n",
      "\n",
      "节点 12:\n",
      "元数据: {'author': 'me', 'date': '2025-01-01', 'Header1': '第二章 基本原理', 'sub_chunk': 9, 'chunk_id': 11}\n",
      "内容前100字符: 非暴力沟通模式还包括同理心倾听的能力。这意味着我们不仅表达自己，还能以开放、接纳的态度倾听他人。\n",
      "在冲突情境中，非暴力沟通特别有价值。它帮助我们转化对抗为合作，寻找能满足各方需要的解决方案。...\n",
      "\n",
      "节点 13:\n",
      "元数据: {'author': 'me', 'date': '2025-01-01', 'Header1': '第二章 基本原理', 'sub_chunk': 10, 'chunk_id': 12}\n",
      "内容前100字符: 总之，非暴力沟通是一种强大的沟通工具，它可以帮助我们建立更深厚的连接、解决冲突并创造和平。\n",
      "这是一个非常长的章节，目的是测试解析器处理长内容的能力。\n",
      "在非暴力沟通中，我们关注四个要素：观察、感受、需要...\n",
      "\n",
      "节点 14:\n",
      "元数据: {'author': 'me', 'date': '2025-01-01', 'Header1': '第二章 基本原理', 'sub_chunk': 11, 'chunk_id': 13}\n",
      "内容前100字符: 观察是指清晰地表达我们观察到的事实，而不掺杂评价或判断。例如，\"当我看到你...\" 而不是 \"你总是...\"。\n",
      "感受是指表达我们的情感状态，如高兴、悲伤、恐惧、愤怒等。表达感受需要我们区分真正的感受和...\n",
      "\n",
      "节点 15:\n",
      "元数据: {'author': 'me', 'date': '2025-01-01', 'Header1': '第二章 基本原理', 'sub_chunk': 12, 'chunk_id': 14}\n",
      "内容前100字符: 需要是指表达我们普遍的人类需求，如安全、理解、尊重等。每个人都有这些基本需要，理解这一点有助于建立共鸣。\n",
      "请求是指清晰、具体地表达我们希望他人做什么来满足我们的需要。请求不同于要求，它允许他人拒绝。...\n",
      "\n",
      "节点 16:\n",
      "元数据: {'author': 'me', 'date': '2025-01-01', 'Header1': '第二章 基本原理', 'sub_chunk': 13, 'chunk_id': 15}\n",
      "内容前100字符: 以上四个要素构成了非暴力沟通的完整过程。通过练习，我们可以把它们融入日常交流中，从而更有效地表达自己并倾听他人。\n",
      "非暴力沟通模式还包括同理心倾听的能力。这意味着我们不仅表达自己，还能以开放、接纳的态度...\n",
      "\n",
      "节点 17:\n",
      "元数据: {'author': 'me', 'date': '2025-01-01', 'Header1': '第二章 基本原理', 'sub_chunk': 14, 'chunk_id': 16}\n",
      "内容前100字符: 在冲突情境中，非暴力沟通特别有价值。它帮助我们转化对抗为合作，寻找能满足各方需要的解决方案。\n",
      "总之，非暴力沟通是一种强大的沟通工具，它可以帮助我们建立更深厚的连接、解决冲突并创造和平。...\n",
      "\n",
      "节点 18:\n",
      "元数据: {'author': 'me', 'date': '2025-01-01', 'Header1': '第三章 实践应用', 'chunk_id': 17}\n",
      "内容前100字符: 这是第三章的内容，中等长度。  \n",
      "非暴力沟通可以应用于多种情境，包括家庭、工作场所、学校和社区。  \n",
      "在家庭中，非暴力沟通有助于创造更和谐的关系，尤其是在解决冲突方面。...\n",
      "\n",
      "节点 19:\n",
      "元数据: {'author': 'me', 'date': '2025-01-01', 'Header1': '第四章 案例分析', 'chunk_id': 18}\n",
      "内容前100字符: 这是第四章的内容，也是中等长度。  \n",
      "以下是几个非暴力沟通的实际案例，展示了这种方法如何在现实生活中应用。...\n",
      "\n",
      "节点 20:\n",
      "元数据: {'author': 'me', 'date': '2025-01-01', 'Header1': '第五章 进阶技巧', 'chunk_id': 19}\n",
      "内容前100字符: 这是第五章的内容，比较短。  \n",
      "非暴力沟通的进阶技巧包括处理愤怒、自我同理等。\n",
      "\"\"\"...\n"
     ]
    }
   ],
   "source": [
    "from llama_index.core import Document\n",
    "from readai.components.node_parsers import process_markdown_document\n",
    "\n",
    "# 读取测试文件\n",
    "with open(\"./test.md\", encoding=\"utf-8\") as f:\n",
    "    markdown_content = f.read()\n",
    "\n",
    "# 创建LlamaIndex的Document对象\n",
    "document = Document(\n",
    "    text=markdown_content, metadata={\"author\": \"me\", \"date\": \"2025-01-01\"}\n",
    ")\n",
    "\n",
    "nodes = process_markdown_document(\n",
    "    document,\n",
    "    min_chapter_count=8,  # 设置最小章节数\n",
    "    max_chunk_size=100,\n",
    "    strip_headers=True,  # 保留标题\n",
    ")\n",
    "\n",
    "# 打印结果\n",
    "print(f\"文档被分割为 {len(nodes)} 个节点\")\n",
    "for i, node in enumerate(nodes):\n",
    "    print(f\"\\n节点 {i + 1}:\")\n",
    "    print(f\"元数据: {node.metadata}\")\n",
    "    print(f\"内容前100字符: {node.text[:100]}...\")"
   ]
  }
 ],
 "metadata": {
  "kernelspec": {
   "display_name": "readai-vv5wOT8E-py3.10",
   "language": "python",
   "name": "python3"
  },
  "language_info": {
   "codemirror_mode": {
    "name": "ipython",
    "version": 3
   },
   "file_extension": ".py",
   "mimetype": "text/x-python",
   "name": "python",
   "nbconvert_exporter": "python",
   "pygments_lexer": "ipython3",
   "version": "3.10.16"
  }
 },
 "nbformat": 4,
 "nbformat_minor": 2
}
